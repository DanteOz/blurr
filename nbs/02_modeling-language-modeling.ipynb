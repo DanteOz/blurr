{
 "cells": [
  {
   "cell_type": "code",
   "execution_count": null,
   "metadata": {},
   "outputs": [],
   "source": [
    "# default_exp modeling.language_modeling"
   ]
  },
  {
   "cell_type": "code",
   "execution_count": null,
   "metadata": {},
   "outputs": [],
   "source": [
    "#all_slow"
   ]
  },
  {
   "cell_type": "code",
   "execution_count": null,
   "metadata": {},
   "outputs": [],
   "source": [
    "#hide\n",
    "%reload_ext autoreload\n",
    "%autoreload 2\n",
    "%matplotlib inline\n",
    "\n",
    "import os\n",
    "os.environ[\"TOKENIZERS_PARALLELISM\"] = \"false\""
   ]
  },
  {
   "cell_type": "markdown",
   "metadata": {},
   "source": [
    "# modeling.language_modeling\n",
    "\n",
    "> This module contains custom models, custom splitters, etc... for both causal and MLM language modeling tasks. This includes things like training BERT from scratch or fine-tuning a particular pre-trained LM on your own corpus.\n",
    "\n",
    "**This is currently a work in progress** - You've been warned : )"
   ]
  },
  {
   "cell_type": "code",
   "execution_count": null,
   "metadata": {},
   "outputs": [],
   "source": [
    "#export\n",
    "import ast\n",
    "\n",
    "import torch\n",
    "from transformers import *\n",
    "from fastai.text.all import *\n",
    "from sklearn.metrics import accuracy_score\n",
    "\n",
    "from blurr.utils import *\n",
    "from blurr.data.core import *\n",
    "from blurr.data.language_modeling import *\n",
    "from blurr.modeling.core import *"
   ]
  },
  {
   "cell_type": "code",
   "execution_count": null,
   "metadata": {},
   "outputs": [],
   "source": [
    "#hide\n",
    "import pdb\n",
    "\n",
    "from nbdev.showdoc import *\n",
    "from fastcore.test import *"
   ]
  },
  {
   "cell_type": "code",
   "execution_count": null,
   "metadata": {},
   "outputs": [
    {
     "name": "stdout",
     "output_type": "stream",
     "text": [
      "Using GPU #1: GeForce GTX 1080 Ti\n"
     ]
    }
   ],
   "source": [
    "#hide_input\n",
    "#cuda\n",
    "torch.cuda.set_device(1)\n",
    "print(f'Using GPU #{torch.cuda.current_device()}: {torch.cuda.get_device_name()}')"
   ]
  },
  {
   "cell_type": "code",
   "execution_count": null,
   "metadata": {},
   "outputs": [
    {
     "name": "stdout",
     "output_type": "stream",
     "text": [
      "662\n"
     ]
    },
    {
     "data": {
      "text/html": [
       "<div>\n",
       "<style scoped>\n",
       "    .dataframe tbody tr th:only-of-type {\n",
       "        vertical-align: middle;\n",
       "    }\n",
       "\n",
       "    .dataframe tbody tr th {\n",
       "        vertical-align: top;\n",
       "    }\n",
       "\n",
       "    .dataframe thead th {\n",
       "        text-align: right;\n",
       "    }\n",
       "</style>\n",
       "<table border=\"1\" class=\"dataframe\">\n",
       "  <thead>\n",
       "    <tr style=\"text-align: right;\">\n",
       "      <th></th>\n",
       "      <th>0</th>\n",
       "      <th>is_valid</th>\n",
       "    </tr>\n",
       "  </thead>\n",
       "  <tbody>\n",
       "    <tr>\n",
       "      <th>0</th>\n",
       "      <td>\\n = 2013 – 14 York City F.C. season = \\n \\n The 2013 – 14 season was the &lt;unk&gt; season of competitive association football and 77th season in the Football League played by York City Football Club , a professional football club based in York , North Yorkshire , England . Their 17th @-@ place finish in 2012 – 13 meant it was their second consecutive season in League Two . The season ran from 1 July 2013 to 30 June 2014 . \\n Nigel Worthington , starting his first full season as York manager , made eight permanent summer signings . By the turn of the year York were only above the relegation z...</td>\n",
       "      <td>False</td>\n",
       "    </tr>\n",
       "    <tr>\n",
       "      <th>1</th>\n",
       "      <td>\\n = Big Boy ( song ) = \\n \\n \" Big Boy \" &lt;unk&gt; \" I 'm A Big Boy Now \" was the first single ever recorded by the Jackson 5 , which was released by Steeltown Records in January 1968 . The group played instruments on many of their Steeltown compositions , including \" Big Boy \" . The song was neither a critical nor commercial success , but the Jackson family were delighted with the outcome nonetheless . \\n The Jackson 5 would release a second single with Steeltown Records before moving to Motown Records . The group 's recordings at Steeltown Records were thought to be lost , but they were re...</td>\n",
       "      <td>False</td>\n",
       "    </tr>\n",
       "    <tr>\n",
       "      <th>2</th>\n",
       "      <td>\\n = The Remix ( Lady Gaga album ) = \\n \\n The Remix is a remix album by American recording artist Lady Gaga . Released in Japan on March 3 , 2010 , it contains remixes of the songs from her first studio album , The Fame ( 2008 ) , and her third extended play , The Fame Monster ( 2009 ) . A revised version of the track list was prepared for release in additional markets , beginning with Mexico on May 3 , 2010 . A number of recording artists have produced the songs , including Pet Shop Boys , Passion Pit and The Sound of Arrows . The remixed versions feature both uptempo and &lt;unk&gt; composit...</td>\n",
       "      <td>False</td>\n",
       "    </tr>\n",
       "    <tr>\n",
       "      <th>3</th>\n",
       "      <td>\\n = New Year 's Eve ( Up All Night ) = \\n \\n \" New Year 's Eve \" is the twelfth episode of the first season of the American comedy television series Up All Night . The episode originally aired on NBC in the United States on January 12 , 2012 . It was written by Erica &lt;unk&gt; and was directed by Beth McCarthy @-@ Miller . The episode also featured a guest appearance from Jason Lee as Chris and Reagan 's neighbor and Ava 's boyfriend , Kevin . \\n During Reagan ( Christina Applegate ) and Chris 's ( Will &lt;unk&gt; ) first New Year 's Eve game night , Reagan 's competitiveness comes out causing Ch...</td>\n",
       "      <td>False</td>\n",
       "    </tr>\n",
       "    <tr>\n",
       "      <th>4</th>\n",
       "      <td>\\n = Geopyxis carbonaria = \\n \\n Geopyxis carbonaria is a species of fungus in the genus Geopyxis , family &lt;unk&gt; . First described to science in 1805 , and given its current name in 1889 , the species is commonly known as the charcoal loving elf @-@ cup , dwarf &lt;unk&gt; cup , &lt;unk&gt; &lt;unk&gt; cup , or pixie cup . The small , &lt;unk&gt; @-@ shaped fruitbodies of the fungus are reddish @-@ brown with a whitish fringe and measure up to 2 cm ( 0 @.@ 8 in ) across . They have a short , tapered stalk . Fruitbodies are commonly found on soil where brush has recently been burned , sometimes in great numbers ....</td>\n",
       "      <td>False</td>\n",
       "    </tr>\n",
       "  </tbody>\n",
       "</table>\n",
       "</div>"
      ],
      "text/plain": [
       "                                                                                                                                                                                                                                                                                                                                                                                                                                                                                                                                                                                                                         0  \\\n",
       "0   \\n = 2013 – 14 York City F.C. season = \\n \\n The 2013 – 14 season was the <unk> season of competitive association football and 77th season in the Football League played by York City Football Club , a professional football club based in York , North Yorkshire , England . Their 17th @-@ place finish in 2012 – 13 meant it was their second consecutive season in League Two . The season ran from 1 July 2013 to 30 June 2014 . \\n Nigel Worthington , starting his first full season as York manager , made eight permanent summer signings . By the turn of the year York were only above the relegation z...   \n",
       "1   \\n = Big Boy ( song ) = \\n \\n \" Big Boy \" <unk> \" I 'm A Big Boy Now \" was the first single ever recorded by the Jackson 5 , which was released by Steeltown Records in January 1968 . The group played instruments on many of their Steeltown compositions , including \" Big Boy \" . The song was neither a critical nor commercial success , but the Jackson family were delighted with the outcome nonetheless . \\n The Jackson 5 would release a second single with Steeltown Records before moving to Motown Records . The group 's recordings at Steeltown Records were thought to be lost , but they were re...   \n",
       "2   \\n = The Remix ( Lady Gaga album ) = \\n \\n The Remix is a remix album by American recording artist Lady Gaga . Released in Japan on March 3 , 2010 , it contains remixes of the songs from her first studio album , The Fame ( 2008 ) , and her third extended play , The Fame Monster ( 2009 ) . A revised version of the track list was prepared for release in additional markets , beginning with Mexico on May 3 , 2010 . A number of recording artists have produced the songs , including Pet Shop Boys , Passion Pit and The Sound of Arrows . The remixed versions feature both uptempo and <unk> composit...   \n",
       "3   \\n = New Year 's Eve ( Up All Night ) = \\n \\n \" New Year 's Eve \" is the twelfth episode of the first season of the American comedy television series Up All Night . The episode originally aired on NBC in the United States on January 12 , 2012 . It was written by Erica <unk> and was directed by Beth McCarthy @-@ Miller . The episode also featured a guest appearance from Jason Lee as Chris and Reagan 's neighbor and Ava 's boyfriend , Kevin . \\n During Reagan ( Christina Applegate ) and Chris 's ( Will <unk> ) first New Year 's Eve game night , Reagan 's competitiveness comes out causing Ch...   \n",
       "4   \\n = Geopyxis carbonaria = \\n \\n Geopyxis carbonaria is a species of fungus in the genus Geopyxis , family <unk> . First described to science in 1805 , and given its current name in 1889 , the species is commonly known as the charcoal loving elf @-@ cup , dwarf <unk> cup , <unk> <unk> cup , or pixie cup . The small , <unk> @-@ shaped fruitbodies of the fungus are reddish @-@ brown with a whitish fringe and measure up to 2 cm ( 0 @.@ 8 in ) across . They have a short , tapered stalk . Fruitbodies are commonly found on soil where brush has recently been burned , sometimes in great numbers ....   \n",
       "\n",
       "   is_valid  \n",
       "0     False  \n",
       "1     False  \n",
       "2     False  \n",
       "3     False  \n",
       "4     False  "
      ]
     },
     "execution_count": null,
     "metadata": {},
     "output_type": "execute_result"
    }
   ],
   "source": [
    "wiki_path = untar_data(URLs.WIKITEXT_TINY)\n",
    "\n",
    "train_df = pd.read_csv(wiki_path/'train.csv', header=None)\n",
    "valid_df = pd.read_csv(wiki_path/'test.csv', header=None)\n",
    "\n",
    "train_df['is_valid'] = False\n",
    "valid_df['is_valid'] = True\n",
    "\n",
    "df = pd.concat([train_df, valid_df])\n",
    "\n",
    "print(len(df))\n",
    "df.head()"
   ]
  },
  {
   "cell_type": "code",
   "execution_count": null,
   "metadata": {},
   "outputs": [],
   "source": [
    "#export\n",
    "class LM_MetricsCallback(Callback):\n",
    "    \"\"\"A fastai friendly metric implemented as a callback so that we can handle use cases where we don't\n",
    "    want to count tokens marked to be ignored or else not count batches where there are no targs\n",
    "    \"\"\"\n",
    "    def __init__(self, **kwargs):\n",
    "        self.run_before = Recorder\n",
    "    \n",
    "        self.custom_metrics_dict = { 'lm_accuracy':None }    \n",
    "        self.do_setup = True\n",
    "        \n",
    "    def setup(self):\n",
    "        # one time setup code here.\n",
    "        if (not self.do_setup): return\n",
    "\n",
    "        # add custom text generation specific metrics\n",
    "        custom_metric_keys = self.custom_metrics_dict.keys()\n",
    "        custom_metrics = L([ ValueMetric(partial(self.metric_value, metric_key=k), k) for k in custom_metric_keys ])\n",
    "        self.learn.metrics = self.learn.metrics + custom_metrics\n",
    "\n",
    "        self.do_setup = False\n",
    "        \n",
    "    def before_fit(self): \n",
    "        self.setup()\n",
    "    \n",
    "    \n",
    "    # --- batch begin/after phases ---\n",
    "    def after_batch(self):\n",
    "        # do this only for validation set\n",
    "        if (self.training or self.learn.y is None): return\n",
    "        \n",
    "        preds = self.pred.argmax(dim=-1)\n",
    "        targs = self.yb[0]               # yb is TensorText tuple, item 0 is the data\n",
    "\n",
    "        msk = torch.where(targs != -100, 1, 0).bool()\n",
    "        preds = torch.masked_select(preds, msk).cpu()\n",
    "        targs = torch.masked_select(targs, msk).cpu()\n",
    "\n",
    "        if (preds.shape[0] == 0):\n",
    "            return\n",
    "        \n",
    "        self.results += [ (res[0], res[1]) for res in zip(preds, targs) ]\n",
    "        \n",
    "        \n",
    "    # --- validation begin/after phases ---\n",
    "    def before_validate(self): self.results = []\n",
    "        \n",
    "    def after_validate(self):\n",
    "        if (len(self.results) < 1): return\n",
    "        \n",
    "        preds, targs = map(list, zip(*self.results))\n",
    "        self.custom_metrics_dict['lm_accuracy'] = accuracy_score(targs, preds)\n",
    "        \n",
    "        \n",
    "    # --- for ValueMetric metrics ---\n",
    "    def metric_value(self, metric_key): return self.custom_metrics_dict[metric_key]"
   ]
  },
  {
   "cell_type": "markdown",
   "metadata": {},
   "source": [
    "## Causal Language Modeling\n",
    "\n",
    "In causal language modeling, we are attempting to predict the next token given those before it."
   ]
  },
  {
   "cell_type": "code",
   "execution_count": null,
   "metadata": {},
   "outputs": [
    {
     "name": "stderr",
     "output_type": "stream",
     "text": [
      "Using pad_token, but it is not set yet.\n"
     ]
    }
   ],
   "source": [
    "model_cls = AutoModelForCausalLM\n",
    "\n",
    "pretrained_model_name = \"gpt2\"\n",
    "hf_arch, hf_config, hf_tokenizer, hf_model = BLURR.get_hf_objects(pretrained_model_name, model_cls=model_cls)\n",
    "\n",
    "if (hf_tokenizer.pad_token is None): hf_tokenizer.pad_token = '[PAD]'"
   ]
  },
  {
   "cell_type": "code",
   "execution_count": null,
   "metadata": {},
   "outputs": [],
   "source": [
    "bbtfm = HF_LMBeforeBatchTransform(hf_arch, hf_config, hf_tokenizer, hf_model, lm_strategy_cls=CausalLMStrategy)\n",
    "blocks = (HF_TextBlock(before_batch_tfm=bbtfm, input_return_type=HF_CausalLMInput), noop)\n",
    "\n",
    "dblock = DataBlock(blocks=blocks, get_x=ColReader(0), splitter=ColSplitter(col='is_valid'))"
   ]
  },
  {
   "cell_type": "code",
   "execution_count": null,
   "metadata": {},
   "outputs": [],
   "source": [
    "dls = dblock.dataloaders(df, bs=2)"
   ]
  },
  {
   "cell_type": "code",
   "execution_count": null,
   "metadata": {},
   "outputs": [
    {
     "data": {
      "text/plain": [
       "(torch.Size([2, 1024]), torch.Size([2, 1024]), torch.Size([2, 1024]))"
      ]
     },
     "execution_count": null,
     "metadata": {},
     "output_type": "execute_result"
    }
   ],
   "source": [
    "b = dls.one_batch()\n",
    "b[0]['input_ids'].shape, b[0]['labels'].shape, b[1].shape"
   ]
  },
  {
   "cell_type": "code",
   "execution_count": null,
   "metadata": {},
   "outputs": [
    {
     "data": {
      "text/html": [
       "<table border=\"1\" class=\"dataframe\">\n",
       "  <thead>\n",
       "    <tr style=\"text-align: right;\">\n",
       "      <th></th>\n",
       "      <th>text</th>\n",
       "      <th>target</th>\n",
       "    </tr>\n",
       "  </thead>\n",
       "  <tbody>\n",
       "    <tr>\n",
       "      <th>0</th>\n",
       "      <td>\\n = Bob Dylan = \\n \\n Bob Dylan ( / &lt;unk&gt; / ; born Robert Allen Zimmerman, May 24, 1941 ) is an American singer @-@ songwriter, artist and writer. He has been influential in popular music and culture for more than five decades. Much of his most celebrated work dates from the 1960s when his songs chronicled social unrest, although Dylan repudiated suggestions from journalists that he was a spokesman for his generation. Nevertheless, early songs such as \" Blowin'in the Wind \" and \" The Times They A</td>\n",
       "      <td>\\n = Bob Dylan = \\n \\n Bob Dylan ( / &lt;unk&gt; / ; born Robert Allen Zimmerman, May 24, 1941 ) is an American singer @-@ songwriter, artist and writer. He has been influential in popular music and culture for more than five decades. Much of his most celebrated work dates from the 1960s when his songs chronicled social unrest, although Dylan repudiated suggestions from journalists that he was a spokesman for his generation. Nevertheless, early songs such as \" Blowin'in the Wind \" and \" The Times They Ar</td>\n",
       "    </tr>\n",
       "    <tr>\n",
       "      <th>1</th>\n",
       "      <td>\\n = Laurence Olivier = \\n \\n Laurence Kerr Olivier, Baron Olivier, &lt;unk&gt; ( / &lt;unk&gt; &lt;unk&gt; &lt;unk&gt; / ; 22 May 1907 – 11 July 1989 ) was an English actor who, along with his contemporaries Ralph Richardson and John Gielgud, dominated the British stage of the mid @-@ 20th century. He also worked in films throughout his career, playing more than fifty cinema roles. Late in his career, he had considerable success in television roles. \\n His family had no theatrical connections, but Olivier's father, a cle</td>\n",
       "      <td>\\n = Laurence Olivier = \\n \\n Laurence Kerr Olivier, Baron Olivier, &lt;unk&gt; ( / &lt;unk&gt; &lt;unk&gt; &lt;unk&gt; / ; 22 May 1907 – 11 July 1989 ) was an English actor who, along with his contemporaries Ralph Richardson and John Gielgud, dominated the British stage of the mid @-@ 20th century. He also worked in films throughout his career, playing more than fifty cinema roles. Late in his career, he had considerable success in television roles. \\n His family had no theatrical connections, but Olivier's father, a cler</td>\n",
       "    </tr>\n",
       "  </tbody>\n",
       "</table>"
      ],
      "text/plain": [
       "<IPython.core.display.HTML object>"
      ]
     },
     "metadata": {},
     "output_type": "display_data"
    }
   ],
   "source": [
    "dls.show_batch(dataloaders=dls, max_n=2, trunc_at=500)"
   ]
  },
  {
   "cell_type": "code",
   "execution_count": null,
   "metadata": {},
   "outputs": [],
   "source": [
    "model = HF_BaseModelWrapper(hf_model)\n",
    "fit_cbs = [LM_MetricsCallback()]\n",
    "\n",
    "learn = Learner(dls, \n",
    "                model,\n",
    "                opt_func=partial(Adam),\n",
    "                loss_func=HF_PreCalculatedLoss(),\n",
    "                cbs=[HF_BaseModelCallback],\n",
    "                metrics=[perplexity],\n",
    "                splitter=hf_splitter).to_fp16()\n",
    "\n",
    "learn.freeze()"
   ]
  },
  {
   "cell_type": "code",
   "execution_count": null,
   "metadata": {},
   "outputs": [
    {
     "data": {
      "text/html": [],
      "text/plain": [
       "<IPython.core.display.HTML object>"
      ]
     },
     "metadata": {},
     "output_type": "display_data"
    },
    {
     "data": {
      "text/plain": [
       "HF_BaseModelWrapper (Input shape: 2)\n",
       "============================================================================\n",
       "Layer (type)         Output Shape         Param #    Trainable \n",
       "============================================================================\n",
       "                     2 x 1024 x 768      \n",
       "Embedding                                 38597376   False     \n",
       "Embedding                                 786432     False     \n",
       "Dropout                                                        \n",
       "LayerNorm                                 1536       True      \n",
       "____________________________________________________________________________\n",
       "                     2 x 1024 x 2304     \n",
       "Conv1D                                    1771776    False     \n",
       "Conv1D                                    590592     False     \n",
       "Dropout                                                        \n",
       "Dropout                                                        \n",
       "LayerNorm                                 1536       True      \n",
       "____________________________________________________________________________\n",
       "                     2 x 1024 x 3072     \n",
       "Conv1D                                    2362368    False     \n",
       "____________________________________________________________________________\n",
       "                     2 x 1024 x 768      \n",
       "Conv1D                                    2360064    False     \n",
       "Dropout                                                        \n",
       "LayerNorm                                 1536       True      \n",
       "____________________________________________________________________________\n",
       "                     2 x 1024 x 2304     \n",
       "Conv1D                                    1771776    False     \n",
       "Conv1D                                    590592     False     \n",
       "Dropout                                                        \n",
       "Dropout                                                        \n",
       "LayerNorm                                 1536       True      \n",
       "____________________________________________________________________________\n",
       "                     2 x 1024 x 3072     \n",
       "Conv1D                                    2362368    False     \n",
       "____________________________________________________________________________\n",
       "                     2 x 1024 x 768      \n",
       "Conv1D                                    2360064    False     \n",
       "Dropout                                                        \n",
       "LayerNorm                                 1536       True      \n",
       "____________________________________________________________________________\n",
       "                     2 x 1024 x 2304     \n",
       "Conv1D                                    1771776    False     \n",
       "Conv1D                                    590592     False     \n",
       "Dropout                                                        \n",
       "Dropout                                                        \n",
       "LayerNorm                                 1536       True      \n",
       "____________________________________________________________________________\n",
       "                     2 x 1024 x 3072     \n",
       "Conv1D                                    2362368    False     \n",
       "____________________________________________________________________________\n",
       "                     2 x 1024 x 768      \n",
       "Conv1D                                    2360064    False     \n",
       "Dropout                                                        \n",
       "LayerNorm                                 1536       True      \n",
       "____________________________________________________________________________\n",
       "                     2 x 1024 x 2304     \n",
       "Conv1D                                    1771776    False     \n",
       "Conv1D                                    590592     False     \n",
       "Dropout                                                        \n",
       "Dropout                                                        \n",
       "LayerNorm                                 1536       True      \n",
       "____________________________________________________________________________\n",
       "                     2 x 1024 x 3072     \n",
       "Conv1D                                    2362368    False     \n",
       "____________________________________________________________________________\n",
       "                     2 x 1024 x 768      \n",
       "Conv1D                                    2360064    False     \n",
       "Dropout                                                        \n",
       "LayerNorm                                 1536       True      \n",
       "____________________________________________________________________________\n",
       "                     2 x 1024 x 2304     \n",
       "Conv1D                                    1771776    False     \n",
       "Conv1D                                    590592     False     \n",
       "Dropout                                                        \n",
       "Dropout                                                        \n",
       "LayerNorm                                 1536       True      \n",
       "____________________________________________________________________________\n",
       "                     2 x 1024 x 3072     \n",
       "Conv1D                                    2362368    False     \n",
       "____________________________________________________________________________\n",
       "                     2 x 1024 x 768      \n",
       "Conv1D                                    2360064    False     \n",
       "Dropout                                                        \n",
       "LayerNorm                                 1536       True      \n",
       "____________________________________________________________________________\n",
       "                     2 x 1024 x 2304     \n",
       "Conv1D                                    1771776    False     \n",
       "Conv1D                                    590592     False     \n",
       "Dropout                                                        \n",
       "Dropout                                                        \n",
       "LayerNorm                                 1536       True      \n",
       "____________________________________________________________________________\n",
       "                     2 x 1024 x 3072     \n",
       "Conv1D                                    2362368    False     \n",
       "____________________________________________________________________________\n",
       "                     2 x 1024 x 768      \n",
       "Conv1D                                    2360064    False     \n",
       "Dropout                                                        \n",
       "LayerNorm                                 1536       True      \n",
       "____________________________________________________________________________\n",
       "                     2 x 1024 x 2304     \n",
       "Conv1D                                    1771776    False     \n",
       "Conv1D                                    590592     False     \n",
       "Dropout                                                        \n",
       "Dropout                                                        \n",
       "LayerNorm                                 1536       True      \n",
       "____________________________________________________________________________\n",
       "                     2 x 1024 x 3072     \n",
       "Conv1D                                    2362368    False     \n",
       "____________________________________________________________________________\n",
       "                     2 x 1024 x 768      \n",
       "Conv1D                                    2360064    False     \n",
       "Dropout                                                        \n",
       "LayerNorm                                 1536       True      \n",
       "____________________________________________________________________________\n",
       "                     2 x 1024 x 2304     \n",
       "Conv1D                                    1771776    False     \n",
       "Conv1D                                    590592     False     \n",
       "Dropout                                                        \n",
       "Dropout                                                        \n",
       "LayerNorm                                 1536       True      \n",
       "____________________________________________________________________________\n",
       "                     2 x 1024 x 3072     \n",
       "Conv1D                                    2362368    False     \n",
       "____________________________________________________________________________\n",
       "                     2 x 1024 x 768      \n",
       "Conv1D                                    2360064    False     \n",
       "Dropout                                                        \n",
       "LayerNorm                                 1536       True      \n",
       "____________________________________________________________________________\n",
       "                     2 x 1024 x 2304     \n",
       "Conv1D                                    1771776    False     \n",
       "Conv1D                                    590592     False     \n",
       "Dropout                                                        \n",
       "Dropout                                                        \n",
       "LayerNorm                                 1536       True      \n",
       "____________________________________________________________________________\n",
       "                     2 x 1024 x 3072     \n",
       "Conv1D                                    2362368    False     \n",
       "____________________________________________________________________________\n",
       "                     2 x 1024 x 768      \n",
       "Conv1D                                    2360064    False     \n",
       "Dropout                                                        \n",
       "LayerNorm                                 1536       True      \n",
       "____________________________________________________________________________\n",
       "                     2 x 1024 x 2304     \n",
       "Conv1D                                    1771776    False     \n",
       "Conv1D                                    590592     False     \n",
       "Dropout                                                        \n",
       "Dropout                                                        \n",
       "LayerNorm                                 1536       True      \n",
       "____________________________________________________________________________\n",
       "                     2 x 1024 x 3072     \n",
       "Conv1D                                    2362368    False     \n",
       "____________________________________________________________________________\n",
       "                     2 x 1024 x 768      \n",
       "Conv1D                                    2360064    False     \n",
       "Dropout                                                        \n",
       "LayerNorm                                 1536       True      \n",
       "____________________________________________________________________________\n",
       "                     2 x 1024 x 2304     \n",
       "Conv1D                                    1771776    False     \n",
       "Conv1D                                    590592     False     \n",
       "Dropout                                                        \n",
       "Dropout                                                        \n",
       "LayerNorm                                 1536       True      \n",
       "____________________________________________________________________________\n",
       "                     2 x 1024 x 3072     \n",
       "Conv1D                                    2362368    False     \n",
       "____________________________________________________________________________\n",
       "                     2 x 1024 x 768      \n",
       "Conv1D                                    2360064    False     \n",
       "Dropout                                                        \n",
       "LayerNorm                                 1536       True      \n",
       "____________________________________________________________________________\n",
       "                     2 x 1024 x 2304     \n",
       "Conv1D                                    1771776    False     \n",
       "Conv1D                                    590592     False     \n",
       "Dropout                                                        \n",
       "Dropout                                                        \n",
       "LayerNorm                                 1536       True      \n",
       "____________________________________________________________________________\n",
       "                     2 x 1024 x 3072     \n",
       "Conv1D                                    2362368    False     \n",
       "____________________________________________________________________________\n",
       "                     2 x 1024 x 768      \n",
       "Conv1D                                    2360064    False     \n",
       "Dropout                                                        \n",
       "LayerNorm                                 1536       True      \n",
       "____________________________________________________________________________\n",
       "                     2 x 1024 x 50257    \n",
       "Linear                                    38597376   False     \n",
       "____________________________________________________________________________\n",
       "\n",
       "Total params: 163,037,184\n",
       "Total trainable params: 38,400\n",
       "Total non-trainable params: 162,998,784\n",
       "\n",
       "Optimizer used: functools.partial(<function Adam at 0x7fb9c8b681f0>)\n",
       "Loss function: <blurr.modeling.core.HF_PreCalculatedLoss object at 0x7fb9b003c9a0>\n",
       "\n",
       "Model frozen up to parameter group #4\n",
       "\n",
       "Callbacks:\n",
       "  - TrainEvalCallback\n",
       "  - HF_BaseModelCallback\n",
       "  - MixedPrecision\n",
       "  - Recorder\n",
       "  - ProgressCallback"
      ]
     },
     "execution_count": null,
     "metadata": {},
     "output_type": "execute_result"
    }
   ],
   "source": [
    "learn.summary()"
   ]
  },
  {
   "cell_type": "code",
   "execution_count": null,
   "metadata": {},
   "outputs": [],
   "source": [
    "# b = dls.one_batch()\n",
    "# preds = learn.model(b[0])\n",
    "# len(preds),preds[0], preds[1].shape"
   ]
  },
  {
   "cell_type": "code",
   "execution_count": null,
   "metadata": {},
   "outputs": [
    {
     "name": "stdout",
     "output_type": "stream",
     "text": [
      "5\n"
     ]
    }
   ],
   "source": [
    "print(len(learn.opt.param_groups))"
   ]
  },
  {
   "cell_type": "code",
   "execution_count": null,
   "metadata": {},
   "outputs": [
    {
     "data": {
      "text/html": [],
      "text/plain": [
       "<IPython.core.display.HTML object>"
      ]
     },
     "metadata": {},
     "output_type": "display_data"
    },
    {
     "name": "stderr",
     "output_type": "stream",
     "text": [
      "/home/wgilliam/miniconda3/envs/blurr/lib/python3.9/site-packages/fastai/callback/schedule.py:270: UserWarning: color is redundantly defined by the 'color' keyword argument and the fmt string \"ro\" (-> color='r'). The keyword argument will take precedence.\n",
      "  ax.plot(val, idx, 'ro', label=nm, c=color)\n"
     ]
    },
    {
     "data": {
      "text/plain": [
       "SuggestedLRs(minimum=0.15848932266235352, steep=1.3182567358016968, valley=tensor(0.0014), slide=tensor(0.2089))"
      ]
     },
     "execution_count": null,
     "metadata": {},
     "output_type": "execute_result"
    },
    {
     "data": {
      "image/png": "[encoded data removed]",
      "text/plain": [
       "<Figure size 640x480 with 1 Axes>"
      ]
     },
     "metadata": {},
     "output_type": "display_data"
    }
   ],
   "source": [
    "learn.lr_find(suggest_funcs=[minimum, steep, valley, slide])"
   ]
  },
  {
   "cell_type": "code",
   "execution_count": null,
   "metadata": {},
   "outputs": [
    {
     "data": {
      "text/html": [
       "<table border=\"1\" class=\"dataframe\">\n",
       "  <thead>\n",
       "    <tr style=\"text-align: left;\">\n",
       "      <th>epoch</th>\n",
       "      <th>train_loss</th>\n",
       "      <th>valid_loss</th>\n",
       "      <th>perplexity</th>\n",
       "      <th>lm_accuracy</th>\n",
       "      <th>time</th>\n",
       "    </tr>\n",
       "  </thead>\n",
       "  <tbody>\n",
       "    <tr>\n",
       "      <td>0</td>\n",
       "      <td>3.030440</td>\n",
       "      <td>2.801821</td>\n",
       "      <td>16.474615</td>\n",
       "      <td>0.458925</td>\n",
       "      <td>01:43</td>\n",
       "    </tr>\n",
       "  </tbody>\n",
       "</table>"
      ],
      "text/plain": [
       "<IPython.core.display.HTML object>"
      ]
     },
     "metadata": {},
     "output_type": "display_data"
    }
   ],
   "source": [
    "learn.fit_one_cycle(1, lr_max=3e-3, cbs=fit_cbs)"
   ]
  },
  {
   "cell_type": "code",
   "execution_count": null,
   "metadata": {},
   "outputs": [],
   "source": [
    "#export\n",
    "@typedispatch\n",
    "def show_results(x:HF_CausalLMInput, y, samples, outs, learner, ctxs=None, max_n=6, trunc_at=None, **kwargs):  \n",
    "    # grab our tokenizer and ignore token to decode\n",
    "    hf_before_batch_tfm = get_blurr_tfm(learner.dls.before_batch)\n",
    "    hf_config = hf_before_batch_tfm.hf_config\n",
    "    hf_tokenizer = hf_before_batch_tfm.hf_tokenizer\n",
    "    ignore_token_id = hf_before_batch_tfm.ignore_token_id\n",
    "    \n",
    "    res = L([(\n",
    "        hf_tokenizer.decode(s[0], skip_special_tokens=True)[:trunc_at], \n",
    "        hf_tokenizer.decode(s[1][s[1] != ignore_token_id], skip_special_tokens=True)[:trunc_at], \n",
    "        hf_tokenizer.decode(pred[0], skip_special_tokens=True)[:trunc_at], \n",
    "    ) for s, pred in zip(samples, outs) ])          \n",
    "    \n",
    "    display_df(pd.DataFrame(res, columns=['text', 'target', 'prediction'])[:max_n])\n",
    "    return ctxs"
   ]
  },
  {
   "cell_type": "code",
   "execution_count": null,
   "metadata": {},
   "outputs": [
    {
     "data": {
      "text/html": [],
      "text/plain": [
       "<IPython.core.display.HTML object>"
      ]
     },
     "metadata": {},
     "output_type": "display_data"
    },
    {
     "data": {
      "text/html": [
       "<table border=\"1\" class=\"dataframe\">\n",
       "  <thead>\n",
       "    <tr style=\"text-align: right;\">\n",
       "      <th></th>\n",
       "      <th>text</th>\n",
       "      <th>target</th>\n",
       "      <th>prediction</th>\n",
       "    </tr>\n",
       "  </thead>\n",
       "  <tbody>\n",
       "    <tr>\n",
       "      <th>0</th>\n",
       "      <td>\\n = Military history of Australia = \\n \\n The military history of Australia spans the nation's 220 @-@ year modern history, from the early Australian frontier wars between &lt;unk&gt; and Europeans to the ongoing conflicts in Iraq and Afghanistan in the ear</td>\n",
       "      <td>\\n = Military history of Australia = \\n \\n The military history of Australia spans the nation's 220 @-@ year modern history, from the early Australian frontier wars between &lt;unk&gt; and Europeans to the ongoing conflicts in Iraq and Afghanistan in the earl</td>\n",
       "      <td>\\n = The\\n = the = \\n \\n  Australian history of Australia is the period froms history years 1@ century history history, from the early days colonies to to theunk&gt; and &lt; to the early conflict between the and Afghanistan. the late 20st century.  the histor</td>\n",
       "    </tr>\n",
       "    <tr>\n",
       "      <th>1</th>\n",
       "      <td>\\n = Air Rhodesia Flight &lt;unk&gt; = \\n \\n Air Rhodesia Flight &lt;unk&gt; was a scheduled passenger flight that was shot down by the Zimbabwe People's Revolutionary Army ( &lt;unk&gt; ) on 3 September 1978, during the Rhodesian Bush War. The aircraft involved, a Vick</td>\n",
       "      <td>\\n = Air Rhodesia Flight &lt;unk&gt; = \\n \\n Air Rhodesia Flight &lt;unk&gt; was a scheduled passenger flight that was shot down by the Zimbabwe People's Revolutionary Army ( &lt;unk&gt; ) on 3 September 1978, during the Rhodesian Bush War. The aircraft involved, a Vicke</td>\n",
       "      <td>\\n = The Force = = # /&gt; = \\n \\n Air Rhodesia Flight (unk&gt; was a flight flight flight from was scheduled down by a Sovietan'ss Army Army (Zunk&gt; ) on July August,. and the countryian civili. The plane was in the Boeingickers 'ickersount, \" \"unk&gt;, was a fr</td>\n",
       "    </tr>\n",
       "  </tbody>\n",
       "</table>"
      ],
      "text/plain": [
       "<IPython.core.display.HTML object>"
      ]
     },
     "metadata": {},
     "output_type": "display_data"
    }
   ],
   "source": [
    "learn.show_results(learner=learn, trunc_at=250)"
   ]
  },
  {
   "cell_type": "code",
   "execution_count": null,
   "metadata": {},
   "outputs": [
    {
     "data": {
      "text/plain": [
       "[\" Blurr is fun to work with because it brings a new perspective on what drives our everyday lives and how our relationships shape them. We're also able to do this by adding a sense of humor into the scene to get everyone talking about it rather\"]"
      ]
     },
     "execution_count": null,
     "metadata": {},
     "output_type": "execute_result"
    }
   ],
   "source": [
    "learn.blurr_generate('Blurr is fun to work with because', max_length=50, do_sample=True, top_k=25)"
   ]
  },
  {
   "cell_type": "markdown",
   "metadata": {},
   "source": [
    "## Masked Language Modeling\n",
    "\n",
    "In masked language modeling (MLM), we are attempting to predict the ***masked*** tokens. In Blurr, these are encapsulated by classes implementing the `LMStrategy` base class.\n",
    "\n",
    "For a list of some of the more common strategies, see table 3 of the [Exploring the Limits of Transfer Learning with a Unified Text-to-Text Transformer](https://arxiv.org/abs/1910.10683) paper.  When fine-tuning a MLM model. you'll want to make sure you use the same approach as the model authors should you be looking to reproduce their results ... but our approach here makes it easy to play with different strategies regardless.\n",
    "\n",
    "In the example below, we'll tell Blurr we want to use the BERT-style masking strategy."
   ]
  },
  {
   "cell_type": "code",
   "execution_count": null,
   "metadata": {},
   "outputs": [],
   "source": [
    "#hide\n",
    "try: del learn; torch.cuda.empty_cache()\n",
    "except: pass"
   ]
  },
  {
   "cell_type": "code",
   "execution_count": null,
   "metadata": {},
   "outputs": [],
   "source": [
    "model_cls = AutoModelForMaskedLM\n",
    "\n",
    "pretrained_model_name = \"distilroberta-base\"\n",
    "hf_arch, hf_config, hf_tokenizer, hf_model = BLURR.get_hf_objects(pretrained_model_name, model_cls=model_cls)"
   ]
  },
  {
   "cell_type": "code",
   "execution_count": null,
   "metadata": {},
   "outputs": [],
   "source": [
    "bbtfm = HF_LMBeforeBatchTransform(hf_arch, hf_config, hf_tokenizer, hf_model, lm_strategy_cls=BertMLMStrategy)\n",
    "blocks = (HF_TextBlock(before_batch_tfm=bbtfm, input_return_type=HF_MLMInput), noop)\n",
    "\n",
    "dblock = DataBlock(blocks=blocks, get_x=ColReader(0), splitter=ColSplitter(col='is_valid'))"
   ]
  },
  {
   "cell_type": "code",
   "execution_count": null,
   "metadata": {},
   "outputs": [],
   "source": [
    "dls = dblock.dataloaders(df, bs=2)"
   ]
  },
  {
   "cell_type": "code",
   "execution_count": null,
   "metadata": {},
   "outputs": [
    {
     "data": {
      "text/plain": [
       "(torch.Size([2, 512]), torch.Size([2, 512]), torch.Size([2, 512]))"
      ]
     },
     "execution_count": null,
     "metadata": {},
     "output_type": "execute_result"
    }
   ],
   "source": [
    "b = dls.one_batch()\n",
    "b[0]['input_ids'].shape, b[0]['labels'].shape, b[1].shape"
   ]
  },
  {
   "cell_type": "code",
   "execution_count": null,
   "metadata": {},
   "outputs": [
    {
     "data": {
      "text/html": [
       "<table border=\"1\" class=\"dataframe\">\n",
       "  <thead>\n",
       "    <tr style=\"text-align: right;\">\n",
       "      <th></th>\n",
       "      <th>text</th>\n",
       "      <th>target</th>\n",
       "    </tr>\n",
       "  </thead>\n",
       "  <tbody>\n",
       "    <tr>\n",
       "      <th>0</th>\n",
       "      <td>[tax]  Bob  Dylan  =   \\n   \\n  Bob  Dylan  ( &lt;mask&gt;   &lt;mask&gt;  ;  born  Robert  Allen  Zimmerman , &lt;mask&gt;  24 ,  1941  ) &lt;mask&gt; &lt;mask&gt;  American  singer &lt;mask&gt; - @  song writer ,  artist &lt;mask&gt;  writer .  He  has  been  influential  in  popular  music  and  culture  for  more &lt;mask&gt;  five  decades .  Much  of  his  most  celebrated  work  dates [ from]  the &lt;mask&gt; &lt;mask&gt; &lt;mask&gt;  his  songs  chronic &lt;mask&gt;  social  unrest ,  although  Dylan &lt;mask&gt; iated  suggestions  from  journalists  that  he &lt;mask&gt;  a  spokesman  for  his  generation .  Nevertheless &lt;mask&gt;  early  songs  such  as  \" &lt;mask&gt; in  '  in  the  Wind  \" &lt;mask&gt;  \"  The  Times  They &lt;mask&gt; [ a]  @ - @    '  \"  became  an the ms  for  the  American &lt;mask&gt;  rights [ ratification]  anti  @ - @  war  movements . &lt;mask&gt;  he  left  his  initial  base  in  the  American  folk  music  revival , &lt;mask&gt;  six  @ - @  minute  single  \" &lt;mask&gt;  a  Rolling  Stone  \"  altered  the  range &lt;mask&gt;  popular  music  in  1965 .  His  mid  @ - @  1960 s  recordings ,  backed  by  rock  musicians [,]  reached &lt;mask&gt;  top  end  of  the  United  States  music  charts  while  also  attracting &lt;mask&gt;  and  criticism  from &lt;mask&gt;  in  the  folk &lt;mask&gt; .   &lt;mask&gt; [`]  ' s  lyrics  have  incorporated  various  political ,  social ,  philosophical ,  and  literary &lt;mask&gt; . &lt;mask&gt;  defied  existing  pop  music  conventions &lt;mask&gt; &lt;mask&gt;  to  the  burgeoning  counter culture . [�]  inspired  by  the  performances &lt;mask&gt;  Little  Richard &lt;mask&gt;  the</td>\n",
       "      <td>[ =]  Bob  Dylan  =   \\n   \\n  Bob  Dylan  ( [ /]   [ /]  ;  born  Robert  Allen  Zimmerman , [ May]  24 ,  1941  ) [ is] [ an]  American  singer [ @] - @  song writer ,  artist [ and]  writer .  He  has  been  influential  in  popular  music  and  culture  for  more [ than]  five  decades .  Much  of  his  most  celebrated  work  dates [ from]  the [ 1960] [s] [ when]  his  songs  chronic [led]  social  unrest ,  although  Dylan [ repud] iated  suggestions  from  journalists  that  he [ was]  a  spokesman  for  his  generation .  Nevertheless [,]  early  songs  such  as  \" [ Blow] in  '  in  the  Wind  \" [ and]  \"  The  Times  They [ Are] [ a]  @ - @    '  \"  became  an the ms  for  the  American [ civil]  rights [ and]  anti  @ - @  war  movements . [ After]  he  left  his  initial  base  in  the  American  folk  music  revival , [ his]  six  @ - @  minute  single  \" [ Like]  a  Rolling  Stone  \"  altered  the  range [ of]  popular  music  in  1965 .  His  mid  @ - @  1960 s  recordings ,  backed  by  rock  musicians [,]  reached [ the]  top  end  of  the  United  States  music  charts  while  also  attracting [ ]  and  criticism  from [ others]  in  the  folk [ movement] .   [\\n] [ Dylan]  ' s  lyrics  have  incorporated  various  political ,  social ,  philosophical ,  and  literary [ influences] . [ They]  defied  existing  pop  music  conventions [ and] [ appealed]  to  the  burgeoning  counter culture . [ Initially]  inspired  by  the  performances [ of]  Little  Richard [ and]  the</td>\n",
       "    </tr>\n",
       "    <tr>\n",
       "      <th>1</th>\n",
       "      <td>= &lt;mask&gt;  =   \\n   &lt;mask&gt;  Ireland  (  /    /  ;  Irish  :    [ &lt;mask&gt;  ]  ;  Ulster  @ - @  Scots &lt;mask&gt;    [    ] [ )]  is &lt;mask&gt; [ Ramsey]  in  the  North  Atlantic .  It &lt;mask&gt;  separated  from  Great  Britain  to  its  east  by  the  North  Channel ,  the  Irish &lt;mask&gt; &lt;mask&gt;  and  St  George  ' s  Channel &lt;mask&gt;  Ireland  is  the  second &lt;mask&gt; - @  largest  island  of  the  British  Isles ,  the  third  @ [-] &lt;mask&gt;  largest  in  Europe ,  and  the  twentieth  @ - @  largest  on  Earth .   &lt;mask&gt;   ,  Ireland  is  divided  between  the  Republic  of  Ireland  (  officially  named  Ireland  ) ,  which  covers  five  @ - @    of [ventory]  island ,  and &lt;mask&gt;  Ireland &lt;mask&gt; [ which]  is  part  of  the  United  Kingdom ,  in  the  northeast  of  the &lt;mask&gt; &lt;mask&gt;  In  2011  the  population  of  Ireland &lt;mask&gt;  about  6 &lt;mask&gt; . @  4  million , [ ranking]  it  the  second  @ - @  most  populous  island  in &lt;mask&gt;  after  Great  Britain .  Just &lt;mask&gt;  4  @ . @  6  million  live  in  the  Republic [itized]  Ireland  and  just  over  1  @ . &lt;mask&gt;  8  million  live  in  Northern  Ireland . &lt;mask&gt; &lt;mask&gt;  The &lt;mask&gt; &lt;mask&gt; s  geography [ comprises]  relatively &lt;mask&gt; &lt;mask&gt; &lt;mask&gt; @  lying  mountains [purpose]  a  central  plain , &lt;mask&gt;  several  navig able &lt;mask&gt;  extending  inland .  The  island  has  lush  vegetation ,  a  product  of  its  mild  but [ restore] &lt;mask&gt; &lt;mask&gt;  which</td>\n",
       "      <td>= [ Ireland]  =   \\n   [\\n]  Ireland  (  /    /  ;  Irish  :    [ [ ]  ]  ;  Ulster  @ - @  Scots [ :]    [    ] [ )]  is [ an] [ island]  in  the  North  Atlantic .  It [ is]  separated  from  Great  Britain  to  its  east  by  the  North  Channel ,  the  Irish [ Sea] [,]  and  St  George  ' s  Channel [.]  Ireland  is  the  second [ @] - @  largest  island  of  the  British  Isles ,  the  third  @ [-] [@]  largest  in  Europe ,  and  the  twentieth  @ - @  largest  on  Earth .   [\\n]   ,  Ireland  is  divided  between  the  Republic  of  Ireland  (  officially  named  Ireland  ) ,  which  covers  five  @ - @    of [ the]  island ,  and [ Northern]  Ireland [,] [ which]  is  part  of  the  United  Kingdom ,  in  the  northeast  of  the [ island] [.]  In  2011  the  population  of  Ireland [ was]  about  6 [ @] . @  4  million , [ ranking]  it  the  second  @ - @  most  populous  island  in [ Europe]  after  Great  Britain .  Just [ under]  4  @ . @  6  million  live  in  the  Republic [ of]  Ireland  and  just  over  1  @ . [@]  8  million  live  in  Northern  Ireland . [ ] [\\n]  The [ island] [ '] s  geography [ comprises]  relatively [ low] [ @] [-] @  lying  mountains [ surrounding]  a  central  plain , [ with]  several  navig able [ rivers]  extending  inland .  The  island  has  lush  vegetation ,  a  product  of  its  mild  but [ change] [able] [ climate]  which</td>\n",
       "    </tr>\n",
       "  </tbody>\n",
       "</table>"
      ],
      "text/plain": [
       "<IPython.core.display.HTML object>"
      ]
     },
     "metadata": {},
     "output_type": "display_data"
    }
   ],
   "source": [
    "dls.show_batch(dataloaders=dls, max_n=2, trunc_at=250)"
   ]
  },
  {
   "cell_type": "code",
   "execution_count": null,
   "metadata": {},
   "outputs": [],
   "source": [
    "model = HF_BaseModelWrapper(hf_model)\n",
    "fit_cbs = [LM_MetricsCallback()]\n",
    "\n",
    "learn = Learner(dls, \n",
    "                model,\n",
    "                opt_func=partial(Adam, decouple_wd=True),\n",
    "                loss_func= HF_PreCalculatedLoss(),\n",
    "                cbs=[HF_BaseModelCallback],\n",
    "                metrics=[perplexity],\n",
    "                splitter=hf_splitter).to_fp16()\n",
    "\n",
    "learn.freeze()"
   ]
  },
  {
   "cell_type": "code",
   "execution_count": null,
   "metadata": {},
   "outputs": [
    {
     "data": {
      "text/html": [],
      "text/plain": [
       "<IPython.core.display.HTML object>"
      ]
     },
     "metadata": {},
     "output_type": "display_data"
    },
    {
     "data": {
      "text/plain": [
       "HF_BaseModelWrapper (Input shape: 2)\n",
       "============================================================================\n",
       "Layer (type)         Output Shape         Param #    Trainable \n",
       "============================================================================\n",
       "                     2 x 512 x 768       \n",
       "Embedding                                 38603520   False     \n",
       "Embedding                                 394752     False     \n",
       "Embedding                                 768        False     \n",
       "LayerNorm                                 1536       True      \n",
       "Dropout                                                        \n",
       "Linear                                    590592     False     \n",
       "Linear                                    590592     False     \n",
       "Linear                                    590592     False     \n",
       "Dropout                                                        \n",
       "Linear                                    590592     False     \n",
       "LayerNorm                                 1536       True      \n",
       "Dropout                                                        \n",
       "____________________________________________________________________________\n",
       "                     2 x 512 x 3072      \n",
       "Linear                                    2362368    False     \n",
       "____________________________________________________________________________\n",
       "                     2 x 512 x 768       \n",
       "Linear                                    2360064    False     \n",
       "LayerNorm                                 1536       True      \n",
       "Dropout                                                        \n",
       "Linear                                    590592     False     \n",
       "Linear                                    590592     False     \n",
       "Linear                                    590592     False     \n",
       "Dropout                                                        \n",
       "Linear                                    590592     False     \n",
       "LayerNorm                                 1536       True      \n",
       "Dropout                                                        \n",
       "____________________________________________________________________________\n",
       "                     2 x 512 x 3072      \n",
       "Linear                                    2362368    False     \n",
       "____________________________________________________________________________\n",
       "                     2 x 512 x 768       \n",
       "Linear                                    2360064    False     \n",
       "LayerNorm                                 1536       True      \n",
       "Dropout                                                        \n",
       "Linear                                    590592     False     \n",
       "Linear                                    590592     False     \n",
       "Linear                                    590592     False     \n",
       "Dropout                                                        \n",
       "Linear                                    590592     False     \n",
       "LayerNorm                                 1536       True      \n",
       "Dropout                                                        \n",
       "____________________________________________________________________________\n",
       "                     2 x 512 x 3072      \n",
       "Linear                                    2362368    False     \n",
       "____________________________________________________________________________\n",
       "                     2 x 512 x 768       \n",
       "Linear                                    2360064    False     \n",
       "LayerNorm                                 1536       True      \n",
       "Dropout                                                        \n",
       "Linear                                    590592     False     \n",
       "Linear                                    590592     False     \n",
       "Linear                                    590592     False     \n",
       "Dropout                                                        \n",
       "Linear                                    590592     False     \n",
       "LayerNorm                                 1536       True      \n",
       "Dropout                                                        \n",
       "____________________________________________________________________________\n",
       "                     2 x 512 x 3072      \n",
       "Linear                                    2362368    False     \n",
       "____________________________________________________________________________\n",
       "                     2 x 512 x 768       \n",
       "Linear                                    2360064    False     \n",
       "LayerNorm                                 1536       True      \n",
       "Dropout                                                        \n",
       "Linear                                    590592     False     \n",
       "Linear                                    590592     False     \n",
       "Linear                                    590592     False     \n",
       "Dropout                                                        \n",
       "Linear                                    590592     False     \n",
       "LayerNorm                                 1536       True      \n",
       "Dropout                                                        \n",
       "____________________________________________________________________________\n",
       "                     2 x 512 x 3072      \n",
       "Linear                                    2362368    False     \n",
       "____________________________________________________________________________\n",
       "                     2 x 512 x 768       \n",
       "Linear                                    2360064    False     \n",
       "LayerNorm                                 1536       True      \n",
       "Dropout                                                        \n",
       "Linear                                    590592     False     \n",
       "Linear                                    590592     False     \n",
       "Linear                                    590592     False     \n",
       "Dropout                                                        \n",
       "Linear                                    590592     False     \n",
       "LayerNorm                                 1536       True      \n",
       "Dropout                                                        \n",
       "____________________________________________________________________________\n",
       "                     2 x 512 x 3072      \n",
       "Linear                                    2362368    False     \n",
       "____________________________________________________________________________\n",
       "                     2 x 512 x 768       \n",
       "Linear                                    2360064    False     \n",
       "LayerNorm                                 1536       True      \n",
       "Dropout                                                        \n",
       "Linear                                    590592     True      \n",
       "LayerNorm                                 1536       True      \n",
       "____________________________________________________________________________\n",
       "                     2 x 512 x 50265     \n",
       "Linear                                    38653785   False     \n",
       "____________________________________________________________________________\n",
       "\n",
       "Total params: 120,773,721\n",
       "Total trainable params: 612,096\n",
       "Total non-trainable params: 120,161,625\n",
       "\n",
       "Optimizer used: functools.partial(<function Adam at 0x7fb9c8b681f0>, decouple_wd=True)\n",
       "Loss function: <blurr.modeling.core.HF_PreCalculatedLoss object at 0x7fb9b2ece520>\n",
       "\n",
       "Model frozen up to parameter group #2\n",
       "\n",
       "Callbacks:\n",
       "  - TrainEvalCallback\n",
       "  - HF_BaseModelCallback\n",
       "  - MixedPrecision\n",
       "  - Recorder\n",
       "  - ProgressCallback"
      ]
     },
     "execution_count": null,
     "metadata": {},
     "output_type": "execute_result"
    }
   ],
   "source": [
    "#hide_output\n",
    "learn.summary()"
   ]
  },
  {
   "cell_type": "code",
   "execution_count": null,
   "metadata": {},
   "outputs": [
    {
     "name": "stdout",
     "output_type": "stream",
     "text": [
      "3\n"
     ]
    }
   ],
   "source": [
    "print(len(learn.opt.param_groups))"
   ]
  },
  {
   "cell_type": "code",
   "execution_count": null,
   "metadata": {},
   "outputs": [
    {
     "data": {
      "text/html": [],
      "text/plain": [
       "<IPython.core.display.HTML object>"
      ]
     },
     "metadata": {},
     "output_type": "display_data"
    },
    {
     "name": "stderr",
     "output_type": "stream",
     "text": [
      "/home/wgilliam/miniconda3/envs/blurr/lib/python3.9/site-packages/fastai/callback/schedule.py:270: UserWarning: color is redundantly defined by the 'color' keyword argument and the fmt string \"ro\" (-> color='r'). The keyword argument will take precedence.\n",
      "  ax.plot(val, idx, 'ro', label=nm, c=color)\n"
     ]
    },
    {
     "data": {
      "text/plain": [
       "SuggestedLRs(minimum=0.001096478197723627, steep=9.12010818865383e-07, valley=tensor(0.0010), slide=tensor(0.0005))"
      ]
     },
     "execution_count": null,
     "metadata": {},
     "output_type": "execute_result"
    },
    {
     "data": {
      "image/png": "[encoded data removed]",
      "text/plain": [
       "<Figure size 640x480 with 1 Axes>"
      ]
     },
     "metadata": {},
     "output_type": "display_data"
    }
   ],
   "source": [
    "learn.lr_find(suggest_funcs=[minimum, steep, valley, slide])"
   ]
  },
  {
   "cell_type": "code",
   "execution_count": null,
   "metadata": {},
   "outputs": [
    {
     "data": {
      "text/html": [
       "<table border=\"1\" class=\"dataframe\">\n",
       "  <thead>\n",
       "    <tr style=\"text-align: left;\">\n",
       "      <th>epoch</th>\n",
       "      <th>train_loss</th>\n",
       "      <th>valid_loss</th>\n",
       "      <th>perplexity</th>\n",
       "      <th>lm_accuracy</th>\n",
       "      <th>time</th>\n",
       "    </tr>\n",
       "  </thead>\n",
       "  <tbody>\n",
       "    <tr>\n",
       "      <td>0</td>\n",
       "      <td>1.849737</td>\n",
       "      <td>1.702988</td>\n",
       "      <td>5.490329</td>\n",
       "      <td>0.646976</td>\n",
       "      <td>00:31</td>\n",
       "    </tr>\n",
       "  </tbody>\n",
       "</table>"
      ],
      "text/plain": [
       "<IPython.core.display.HTML object>"
      ]
     },
     "metadata": {},
     "output_type": "display_data"
    }
   ],
   "source": [
    "learn.fit_one_cycle(1, lr_max=1e-4, cbs=fit_cbs)"
   ]
  },
  {
   "cell_type": "code",
   "execution_count": null,
   "metadata": {},
   "outputs": [],
   "source": [
    "#export\n",
    "@typedispatch\n",
    "def show_results(x:HF_MLMInput, y, samples, outs, learner, ctxs=None, max_n=6, trunc_at=None, **kwargs):  \n",
    "    # grab our tokenizer and ignore token to decode\n",
    "    hf_before_batch_tfm = get_blurr_tfm(learner.dls.before_batch)\n",
    "    hf_config = hf_before_batch_tfm.hf_config\n",
    "    hf_tokenizer = hf_before_batch_tfm.hf_tokenizer\n",
    "    ignore_token_id = hf_before_batch_tfm.ignore_token_id\n",
    "    \n",
    "    # grab our mask token id and do-not-mask token ids\n",
    "    mask_token_id = hf_tokenizer.mask_token_id\n",
    "    dnm_tok_ids = hf_before_batch_tfm.lm_strategy.dnm_tok_ids\n",
    "    \n",
    "    res = L()\n",
    "    for s, t in zip(samples, outs):\n",
    "        # exclue dnm tokens from input\n",
    "        inps = [ hf_tokenizer.decode(tok_id) \n",
    "                if (tok_id == mask_token_id or s[1][idx] == ignore_token_id) \n",
    "                else f'[{hf_tokenizer.decode(tok_id)}]' \n",
    "                for idx, tok_id in enumerate(s[0]) if (tok_id not in dnm_tok_ids) ]\n",
    "        \n",
    "        # replaced masked tokens with \"[{actual_token}]\"\n",
    "        trgs = [ hf_tokenizer.decode(s[0][idx]) \n",
    "                if (tok_id == ignore_token_id) \n",
    "                else f'[{hf_tokenizer.decode(tok_id)}]'\n",
    "                for idx, tok_id in enumerate(s[1]) if (s[0][idx] not in dnm_tok_ids) ]\n",
    "\n",
    "        # same as above except we replace the [MASK] with the PREDICTED token\n",
    "        preds = [ hf_tokenizer.decode(s[0][idx])\n",
    "                 if (tok_id == ignore_token_id) \n",
    "                 else f'[{hf_tokenizer.decode(t[0][idx])}]' \n",
    "                 for idx, tok_id in enumerate(s[1]) if (s[0][idx] not in dnm_tok_ids) ]\n",
    "  \n",
    "        res.append((' '.join(inps[:trunc_at]).strip(), \n",
    "                    ' '.join(trgs[:trunc_at]).strip(),\n",
    "                    ' '.join(preds[:trunc_at]).strip()))\n",
    "    \n",
    "    display_df(pd.DataFrame(res, columns=['text', 'target', 'prediction'])[:max_n])\n",
    "    return ctxs"
   ]
  },
  {
   "cell_type": "code",
   "execution_count": null,
   "metadata": {},
   "outputs": [
    {
     "data": {
      "text/html": [],
      "text/plain": [
       "<IPython.core.display.HTML object>"
      ]
     },
     "metadata": {},
     "output_type": "display_data"
    },
    {
     "data": {
      "text/html": [
       "<table border=\"1\" class=\"dataframe\">\n",
       "  <thead>\n",
       "    <tr style=\"text-align: right;\">\n",
       "      <th></th>\n",
       "      <th>text</th>\n",
       "      <th>target</th>\n",
       "      <th>prediction</th>\n",
       "    </tr>\n",
       "  </thead>\n",
       "  <tbody>\n",
       "    <tr>\n",
       "      <th>0</th>\n",
       "      <td>&lt;mask&gt;  Military  history  of  Australia  =   \\n &lt;mask&gt; \\n  The  military  history  of  Australia  spans  the  nation  ' s  220  @ - @ [bek] &lt;mask&gt;  history ,  from  the  early  Australian  frontier  wars  between    and &lt;mask&gt;  to  the  ongoing  conflicts  in  Iraq &lt;mask&gt;  Afghanistan  in  the &lt;mask&gt; [ 21] st  century .  Although &lt;mask&gt;  history  is  short  when  compared [ Activate]  that  of &lt;mask&gt;  other  nations &lt;mask&gt;  Australia  has  been  involved  in  numerous  conflicts  and  wars ,  and  war &lt;mask&gt;  military  service  have  been  significant &lt;mask&gt;  on &lt;mask&gt; [ Vienna]  and  national  identity ,  including  the  An zac  spirit .  The  relationship  between  war  and &lt;mask&gt;  society  has  also  been &lt;mask&gt;  by &lt;mask&gt;  enduring  themes  of  Australian  strategic  culture  and  its  unique &lt;mask&gt;  dilemma [ Ya]   \\n  As  British   ,  the  Australian &lt;mask&gt;  participated  in  Britain &lt;mask&gt; s  small  wars  of &lt;mask&gt;  19 th  century ,  while  later  as [ a]    dominion ,  and  then  an  independent  nation ,  Australia &lt;mask&gt; &lt;mask&gt;  the  First  World  War  and  Second  World  War ,  as  well &lt;mask&gt; &lt;mask&gt;  the  wars  in  Korea ,  Mal aya ,  B orne &lt;mask&gt;  and  Vietnam  during  the  Cold  War .  In  the [ Post] &lt;mask&gt; - @  Vietnam &lt;mask&gt;  Australian  forces  have  been &lt;mask&gt;  in  numerous  international  peace &lt;mask&gt; &lt;mask&gt; ,  through  the &lt;mask&gt;  Nations  and &lt;mask&gt;  agencies ,  including  in &lt;mask&gt;  Sinai , &lt;mask&gt;  Gulf , &lt;mask&gt; ,  Somalia ,  East  Tim or  and &lt;mask&gt;  Solomon  Islands &lt;mask&gt;  while  more &lt;mask&gt;  they  have  also  fought</td>\n",
       "      <td>[ =]  Military  history  of  Australia  =   \\n [ ] \\n  The  military  history  of  Australia  spans  the  nation  ' s  220  @ - @ [ year] [ modern]  history ,  from  the  early  Australian  frontier  wars  between    and [ Europeans]  to  the  ongoing  conflicts  in  Iraq [ and]  Afghanistan  in  the [ early] [ 21] st  century .  Although [ this]  history  is  short  when  compared [ to]  that  of [ many]  other  nations [,]  Australia  has  been  involved  in  numerous  conflicts  and  wars ,  and  war [ and]  military  service  have  been  significant [ influences]  on [ Australian] [ society]  and  national  identity ,  including  the  An zac  spirit .  The  relationship  between  war  and [ Australian]  society  has  also  been [ shaped]  by [ the]  enduring  themes  of  Australian  strategic  culture  and  its  unique [ security]  dilemma [.]   \\n  As  British   ,  the  Australian [ colonies]  participated  in  Britain [ '] s  small  wars  of [ the]  19 th  century ,  while  later  as [ a]    dominion ,  and  then  an  independent  nation ,  Australia [ fought] [ in]  the  First  World  War  and  Second  World  War ,  as  well [ as] [ in]  the  wars  in  Korea ,  Mal aya ,  B orne [o]  and  Vietnam  during  the  Cold  War .  In  the [ Post] [ @] - @  Vietnam [ era]  Australian  forces  have  been [ involved]  in  numerous  international  peace [keeping] [ missions] ,  through  the [ United]  Nations  and [ other]  agencies ,  including  in [ the]  Sinai , [ Persian]  Gulf , [ ] ,  Somalia ,  East  Tim or  and [ the]  Solomon  Islands [,]  while  more [ recently]  they  have  also  fought</td>\n",
       "      <td>[ =]  Military  history  of  Australia  =   \\n [ ] \\n  The  military  history  of  Australia  spans  the  nation  ' s  220  @ - @ [@] [ military]  history ,  from  the  early  Australian  frontier  wars  between    and [ Britain]  to  the  ongoing  conflicts  in  Iraq [ and]  Afghanistan  in  the [ early] [ 21] st  century .  Although [ military]  history  is  short  when  compared [ to]  that  of [ many]  other  nations [,]  Australia  has  been  involved  in  numerous  conflicts  and  wars ,  and  war [ and]  military  service  have  been  significant [ influences]  on [ Australian] [ culture]  and  national  identity ,  including  the  An zac  spirit .  The  relationship  between  war  and [ Australian]  society  has  also  been [ shaped]  by [ the]  enduring  themes  of  Australian  strategic  culture  and  its  unique [ ]  dilemma [.]   \\n  As  British   ,  the  Australian [ military]  participated  in  Britain [ '] s  small  wars  of [ the]  19 th  century ,  while  later  as [ a]    dominion ,  and  then  an  independent  nation ,  Australia [ participated] [ in]  the  First  World  War  and  Second  World  War ,  as  well [ as] [ in]  the  wars  in  Korea ,  Mal aya ,  B orne [o]  and  Vietnam  during  the  Cold  War .  In  the [ Post] [ @] - @  Vietnam [,]  Australian  forces  have  been [ involved]  in  numerous  international  peace [keeping] [encies] ,  through  the [ United]  Nations  and [ UN]  agencies ,  including  in [ the]  Sinai , [ the]  Gulf , [ South] ,  Somalia ,  East  Tim or  and [ the]  Solomon  Islands [,]  while  more [ recently]  they  have  also  fought</td>\n",
       "    </tr>\n",
       "    <tr>\n",
       "      <th>1</th>\n",
       "      <td>=  Air  Rhodes ia  Flight &lt;mask&gt;  =   \\n &lt;mask&gt; \\n  Air  Rhodes ia  Flight    was  a  scheduled  passenger  flight  that  was  shot &lt;mask&gt;  by  the  Zimbabwe  People &lt;mask&gt; [s]  Revolutionary  Army  (    )  on  3  September  1978 ,  during  the  Rhodes &lt;mask&gt;  Bush &lt;mask&gt; .  The  aircraft  involved ,  a  V ickers  V isc ount  named  the   &lt;mask&gt; [ Monaco] &lt;mask&gt; &lt;mask&gt;  last  leg  of  Air  Rhodes ia &lt;mask&gt; s  regular  scheduled  service  from  Victoria  Falls &lt;mask&gt;  the  capital  Sal isbury ,  via  the  resort  town  of   .   \\n  Soon  after  Flight    took &lt;mask&gt; ,  a  group  of    gu err illas &lt;mask&gt; &lt;mask&gt;  direct  hit  on  its  star &lt;mask&gt; &lt;mask&gt;  with  a  Soviet  @ - &lt;mask&gt;  made    2  surface  @ - @  to  @ - &lt;mask&gt;  air  infrared    missile &lt;mask&gt;  critically &lt;mask&gt;  the  aircraft  and [ horizontal]  an  emergency  landing .  An  attempted  belly  landing  in &lt;mask&gt;  cotton  field  just  west &lt;mask&gt;    was    by &lt;mask&gt;  unseen  ditch ,  which  caused  the  plane  to  cart &lt;mask&gt;  and &lt;mask&gt; &lt;mask&gt; .  Of  the  52  passengers  and  four  crew ,  38  died  in  this  crash  ;  the  insurgents &lt;mask&gt;  approached  the  wreckage ,  rounded &lt;mask&gt;  the  10  survivors  they &lt;mask&gt;  see  and  massac &lt;mask&gt;  them  with  automatic  gunfire .  Three  passengers &lt;mask&gt;  by [uly] [ in]  the &lt;mask&gt;  bush ,  while  a  further  five &lt;mask&gt;  because  they  had  gone  to  look  for  water  before [ the]  gu err illas  arrived &lt;mask&gt;</td>\n",
       "      <td>=  Air  Rhodes ia  Flight [ ]  =   \\n [ ] \\n  Air  Rhodes ia  Flight    was  a  scheduled  passenger  flight  that  was  shot [ down]  by  the  Zimbabwe  People [ '] [s]  Revolutionary  Army  (    )  on  3  September  1978 ,  during  the  Rhodes [ian]  Bush [ War] .  The  aircraft  involved ,  a  V ickers  V isc ount  named  the   [,] [ was] [ flying] [ the]  last  leg  of  Air  Rhodes ia [ '] s  regular  scheduled  service  from  Victoria  Falls [ to]  the  capital  Sal isbury ,  via  the  resort  town  of   .   \\n  Soon  after  Flight    took [ off] ,  a  group  of    gu err illas [ scored] [ a]  direct  hit  on  its  star [board] [ wing]  with  a  Soviet  @ - [@]  made    2  surface  @ - @  to  @ - [@]  air  infrared    missile [,]  critically [ damaging]  the  aircraft  and [ forcing]  an  emergency  landing .  An  attempted  belly  landing  in [ a]  cotton  field  just  west [ of]    was    by [ an]  unseen  ditch ,  which  caused  the  plane  to  cart [wheel]  and [ break] [ up] .  Of  the  52  passengers  and  four  crew ,  38  died  in  this  crash  ;  the  insurgents [ then]  approached  the  wreckage ,  rounded [ up]  the  10  survivors  they [ could]  see  and  massac [red]  them  with  automatic  gunfire .  Three  passengers [ survived]  by [ hiding] [ in]  the [ surrounding]  bush ,  while  a  further  five [ lived]  because  they  had  gone  to  look  for  water  before [ the]  gu err illas  arrived [.]</td>\n",
       "      <td>=  Air  Rhodes ia  Flight [ ]  =   \\n [\\n] \\n  Air  Rhodes ia  Flight    was  a  scheduled  passenger  flight  that  was  shot [ down]  by  the  Zimbabwe  People [ '] [s]  Revolutionary  Army  (    )  on  3  September  1978 ,  during  the  Rhodes [ian]  Bush [ War] .  The  aircraft  involved ,  a  V ickers  V isc ount  named  the   [ ] [ ] [ ] [ the]  last  leg  of  Air  Rhodes ia [ '] s  regular  scheduled  service  from  Victoria  Falls [ to]  the  capital  Sal isbury ,  via  the  resort  town  of   .   \\n  Soon  after  Flight    took [ place] ,  a  group  of    gu err illas [ fired] [ a]  direct  hit  on  its  star [ ] [,]  with  a  Soviet  @ - [@]  made    2  surface  @ - @  to  @ - [@]  air  infrared    missile [,]  critically [ damaged]  the  aircraft  and [ forced]  an  emergency  landing .  An  attempted  belly  landing  in [ a]  cotton  field  just  west [ of]    was    by [ an]  unseen  ditch ,  which  caused  the  plane  to  cart [ off]  and [ ] [ down] .  Of  the  52  passengers  and  four  crew ,  38  died  in  this  crash  ;  the  insurgents [ then]  approached  the  wreckage ,  rounded [ up]  the  10  survivors  they [ could]  see  and  massac [red]  them  with  automatic  gunfire .  Three  passengers [ died]  by [ drowning] [ in]  the [ surrounding]  bush ,  while  a  further  five [ died]  because  they  had  gone  to  look  for  water  before [ the]  gu err illas  arrived [.]</td>\n",
       "    </tr>\n",
       "  </tbody>\n",
       "</table>"
      ],
      "text/plain": [
       "<IPython.core.display.HTML object>"
      ]
     },
     "metadata": {},
     "output_type": "display_data"
    }
   ],
   "source": [
    "learn.show_results(learner=learn, trunc_at=250)"
   ]
  },
  {
   "cell_type": "markdown",
   "metadata": {},
   "source": [
    "While `Learner.blurr_generate` will work well for causal LMs designed for text generation, it won't for MLM models designed to predict masked tokens.  To accomodate the later, we add `Learner.blurr_fill_mask` ..."
   ]
  },
  {
   "cell_type": "code",
   "execution_count": null,
   "metadata": {},
   "outputs": [],
   "source": [
    "#export\n",
    "@patch\n",
    "def blurr_fill_mask(self:Learner, inp, n_preds=1, **kwargs):\n",
    "    \"\"\"For MLM models\"\"\"\n",
    "    # grab the Hugging Face tokenizer from the learner's dls.tfms\n",
    "    hf_before_batch_tfm = get_blurr_tfm(self.dls.before_batch)\n",
    "    hf_config = hf_before_batch_tfm.hf_config\n",
    "    hf_tokenizer = hf_before_batch_tfm.hf_tokenizer\n",
    "    tok_kwargs = hf_before_batch_tfm.tok_kwargs\n",
    "    \n",
    "    # grab the text generation kwargs\n",
    "    text_gen_kwargs = hf_before_batch_tfm.text_gen_kwargs if (len(kwargs) == 0) else kwargs\n",
    "\n",
    "    if (isinstance(inp, str)):\n",
    "        input_ids = hf_tokenizer.encode(inp, padding=True, truncation=True, return_tensors='pt', **tok_kwargs)\n",
    "    else:\n",
    "        # note (10/30/2020): as of pytorch 1.7, this has to be a plain ol tensor (not a subclass of TensorBase)\n",
    "        input_ids = inp.as_subclass(Tensor)\n",
    "        \n",
    "    input_ids = input_ids.to(self.model.hf_model.device)\n",
    "    mask_token_index = torch.where(input_ids == hf_tokenizer.mask_token_id)[1]\n",
    "    \n",
    "    outputs = self.model.hf_model(input_ids)\n",
    "    mask_token_logits = outputs.logits[0, mask_token_index, :]\n",
    "    preds = torch.topk(mask_token_logits, n_preds, dim=-1).indices[0].tolist()\n",
    "\n",
    "    outputs = [ inp.replace(hf_tokenizer.mask_token, hf_tokenizer.decode([tok_id]).strip()) \n",
    "               for tok_id in preds ]\n",
    "    \n",
    "    return outputs"
   ]
  },
  {
   "cell_type": "code",
   "execution_count": null,
   "metadata": {},
   "outputs": [
    {
     "data": {
      "text/plain": [
       "['The best place on earth is here.',\n",
       " 'The best place on earth is Antarctica.',\n",
       " 'The best place on earth is home.',\n",
       " 'The best place on earth is America.',\n",
       " 'The best place on earth is Earth.']"
      ]
     },
     "execution_count": null,
     "metadata": {},
     "output_type": "execute_result"
    }
   ],
   "source": [
    "learn.blurr_fill_mask(f'The best place on earth is {hf_tokenizer.mask_token}.', n_preds=5)"
   ]
  },
  {
   "cell_type": "markdown",
   "metadata": {},
   "source": [
    "### BlearnerForLM"
   ]
  },
  {
   "cell_type": "markdown",
   "metadata": {},
   "source": [
    "We can use the `BlearnerForLM` for either Causal or Masked language models.  With one line of code, we get our DataBlock, DataLoaders, and Blearner with sensible defaults and ready for training"
   ]
  },
  {
   "cell_type": "code",
   "execution_count": null,
   "metadata": {},
   "outputs": [],
   "source": [
    "#hide\n",
    "try: del learn; torch.cuda.empty_cache()\n",
    "except: pass"
   ]
  },
  {
   "cell_type": "code",
   "execution_count": null,
   "metadata": {},
   "outputs": [],
   "source": [
    "#export\n",
    "@delegates(Blearner.__init__)\n",
    "class BlearnerForLM(Blearner):\n",
    "\n",
    "    def __init__(self, dls, hf_model, **kwargs):\n",
    "        kwargs['loss_func'] = HF_PreCalculatedLoss()\n",
    "        super().__init__(dls, hf_model, **kwargs)\n",
    "        \n",
    "    @classmethod\n",
    "    def get_model_cls(self, lm_type): \n",
    "        return AutoModelForCausalLM if (lm_type == LMType.CAUSAL) else AutoModelForMaskedLM\n",
    "    \n",
    "    @classmethod\n",
    "    def get_metrics_cb(self):\n",
    "        return LM_MetricsCallback()\n",
    "    \n",
    "    @classmethod\n",
    "    def _create_learner(cls, data, pretrained_model_name_or_path, preprocess_func, \n",
    "                        lm_strategy_cls, text_attr, dblock_splitter, dl_kwargs, learner_kwargs):\n",
    "        \n",
    "        lm_type = lm_strategy_cls.get_lm_type()\n",
    "            \n",
    "        # get our hf objects\n",
    "        model_cls = cls.get_model_cls(lm_type=lm_type)\n",
    "        hf_arch, hf_config, hf_tokenizer, hf_model = BLURR.get_hf_objects(pretrained_model_name_or_path, \n",
    "                                                                          model_cls=model_cls)\n",
    "        \n",
    "        # if we need to preprocess the raw data before creating our DataLoaders\n",
    "        if (preprocess_func):\n",
    "            data = preprocess_func(data, hf_arch, hf_config, hf_tokenizer, hf_model, lm_type, lm_strategy_cls)\n",
    "            \n",
    "        # not all architectures include a native pad_token (e.g., gpt2, ctrl, etc...), so we add one here\n",
    "        if (hf_tokenizer.pad_token is None): \n",
    "            hf_tokenizer.add_special_tokens({'pad_token': '<pad>'})  \n",
    "            hf_config.pad_token_id = hf_tokenizer.get_vocab()['<pad>']\n",
    "            hf_model.resize_token_embeddings(len(hf_tokenizer))   \n",
    "        \n",
    "        # build getters\n",
    "        if (isinstance(data, pd.DataFrame)):\n",
    "            get_x = ColReader(text_attr)\n",
    "        else:\n",
    "            get_x = ItemGetter(text_attr)\n",
    "            \n",
    "        # build DataBlocks and DataLoaders\n",
    "        bbtfm = HF_LMBeforeBatchTransform(hf_arch, hf_config, hf_tokenizer, hf_model, lm_strategy_cls=lm_strategy_cls)\n",
    "    \n",
    "        input_return_type = HF_CausalLMInput if (lm_type == LMType.CAUSAL) else HF_MLMInput\n",
    "        blocks = (HF_TextBlock(before_batch_tfm=bbtfm, input_return_type=input_return_type), noop)\n",
    "\n",
    "        dblock = DataBlock(blocks=blocks, get_x=get_x, splitter=dblock_splitter)\n",
    "        dls = dblock.dataloaders(data, **dl_kwargs.copy())\n",
    "        \n",
    "        # return BLearner instance with default metrics (optional)\n",
    "        learner_kwargs['metrics'] = learner_kwargs.pop('metrics', [perplexity])\n",
    "        return cls(dls, hf_model, **learner_kwargs.copy())\n",
    "    \n",
    "    @classmethod\n",
    "    def from_dataframe(cls, df, pretrained_model_name_or_path, preprocess_func=None, \n",
    "                       lm_strategy_cls=CausalLMStrategy, text_attr='text', dblock_splitter=ColSplitter(), \n",
    "                       dl_kwargs={}, learner_kwargs={}):\n",
    "        \n",
    "        return cls._create_learner(df, pretrained_model_name_or_path, preprocess_func, \n",
    "                                   lm_strategy_cls, text_attr, dblock_splitter, dl_kwargs, learner_kwargs)\n",
    "    \n",
    "        \n",
    "    @classmethod\n",
    "    def from_csv(cls, csv_file, pretrained_model_name_or_path, preprocess_func=None, \n",
    "                 lm_strategy_cls=CausalLMStrategy, text_attr='text', dblock_splitter=ColSplitter(), \n",
    "                 dl_kwargs={}, learner_kwargs={}):\n",
    "        \n",
    "        df = pd.read_csv(csv_file)\n",
    "        return cls.from_dataframe(df, pretrained_model_name_or_path, preprocess_func, \n",
    "                                  lm_strategy_cls, text_attr, dblock_splitter, \n",
    "                                  dl_kwargs, learner_kwargs)\n",
    "    \n",
    "    @classmethod\n",
    "    def from_dictionaries(cls, ds, pretrained_model_name_or_path, preprocess_func=None, \n",
    "                          lm_strategy_cls=CausalLMStrategy, text_attr='text', dblock_splitter=RandomSplitter(), \n",
    "                          dl_kwargs={}, learner_kwargs={}):\n",
    "        \n",
    "        return cls._create_learner(ds, pretrained_model_name_or_path, preprocess_func, \n",
    "                                   lm_strategy_cls, text_attr, dblock_splitter, \n",
    "                                   dl_kwargs, learner_kwargs)"
   ]
  },
  {
   "cell_type": "markdown",
   "metadata": {},
   "source": [
    "Causal language modeling ..."
   ]
  },
  {
   "cell_type": "code",
   "execution_count": null,
   "metadata": {},
   "outputs": [
    {
     "name": "stderr",
     "output_type": "stream",
     "text": [
      "Using pad_token, but it is not set yet.\n"
     ]
    }
   ],
   "source": [
    "learn = BlearnerForLM.from_dataframe(df, 'gpt2', text_attr=0, dblock_splitter=RandomSplitter(), \n",
    "                                     dl_kwargs={'bs':2}).to_fp16()"
   ]
  },
  {
   "cell_type": "code",
   "execution_count": null,
   "metadata": {},
   "outputs": [
    {
     "data": {
      "text/html": [
       "<table border=\"1\" class=\"dataframe\">\n",
       "  <thead>\n",
       "    <tr style=\"text-align: right;\">\n",
       "      <th></th>\n",
       "      <th>text</th>\n",
       "      <th>target</th>\n",
       "    </tr>\n",
       "  </thead>\n",
       "  <tbody>\n",
       "    <tr>\n",
       "      <th>0</th>\n",
       "      <td>\\n = Military history of Australia = \\n \\n The military history of Australia spans the nation's 220 @-@ year modern history, from the early Australian frontier wars between &lt;unk&gt; and Europeans to the ongoing conflicts in Iraq and Afghanistan in the early 21st century. Although this history is short when compared to that of many other nations, Australia has been involved in numerous conflicts and wars, and war and military service have been significant influences on Australian society and national</td>\n",
       "      <td>\\n = Military history of Australia = \\n \\n The military history of Australia spans the nation's 220 @-@ year modern history, from the early Australian frontier wars between &lt;unk&gt; and Europeans to the ongoing conflicts in Iraq and Afghanistan in the early 21st century. Although this history is short when compared to that of many other nations, Australia has been involved in numerous conflicts and wars, and war and military service have been significant influences on Australian society and national i</td>\n",
       "    </tr>\n",
       "    <tr>\n",
       "      <th>1</th>\n",
       "      <td>\\n = Territorial era of Minnesota = \\n \\n The territorial era of Minnesota covers the history of the land that is now the modern US state of Minnesota from the Louisiana Purchase in 1803, to its achieving statehood in 1858. The Minnesota Territory itself was formed only in 1849 but the area had a rich history well before this. Though there was a long history of European presence in the area before 19th century, it was during the 19th century that the United States began to establish a firm presenc</td>\n",
       "      <td>\\n = Territorial era of Minnesota = \\n \\n The territorial era of Minnesota covers the history of the land that is now the modern US state of Minnesota from the Louisiana Purchase in 1803, to its achieving statehood in 1858. The Minnesota Territory itself was formed only in 1849 but the area had a rich history well before this. Though there was a long history of European presence in the area before 19th century, it was during the 19th century that the United States began to establish a firm presence</td>\n",
       "    </tr>\n",
       "  </tbody>\n",
       "</table>"
      ],
      "text/plain": [
       "<IPython.core.display.HTML object>"
      ]
     },
     "metadata": {},
     "output_type": "display_data"
    }
   ],
   "source": [
    "learn.dls.show_batch(dataloaders=learn.dls, max_n=2, trunc_at=500)"
   ]
  },
  {
   "cell_type": "code",
   "execution_count": null,
   "metadata": {},
   "outputs": [
    {
     "data": {
      "text/html": [
       "<table border=\"1\" class=\"dataframe\">\n",
       "  <thead>\n",
       "    <tr style=\"text-align: left;\">\n",
       "      <th>epoch</th>\n",
       "      <th>train_loss</th>\n",
       "      <th>valid_loss</th>\n",
       "      <th>perplexity</th>\n",
       "      <th>lm_accuracy</th>\n",
       "      <th>time</th>\n",
       "    </tr>\n",
       "  </thead>\n",
       "  <tbody>\n",
       "    <tr>\n",
       "      <td>0</td>\n",
       "      <td>3.619222</td>\n",
       "      <td>3.272270</td>\n",
       "      <td>26.371134</td>\n",
       "      <td>0.422302</td>\n",
       "      <td>01:40</td>\n",
       "    </tr>\n",
       "  </tbody>\n",
       "</table>"
      ],
      "text/plain": [
       "<IPython.core.display.HTML object>"
      ]
     },
     "metadata": {},
     "output_type": "display_data"
    }
   ],
   "source": [
    "learn.fit_one_cycle(1, lr_max=3e-3, cbs=[BlearnerForLM.get_metrics_cb()])"
   ]
  },
  {
   "cell_type": "code",
   "execution_count": null,
   "metadata": {},
   "outputs": [
    {
     "data": {
      "text/html": [],
      "text/plain": [
       "<IPython.core.display.HTML object>"
      ]
     },
     "metadata": {},
     "output_type": "display_data"
    },
    {
     "data": {
      "text/html": [
       "<table border=\"1\" class=\"dataframe\">\n",
       "  <thead>\n",
       "    <tr style=\"text-align: right;\">\n",
       "      <th></th>\n",
       "      <th>text</th>\n",
       "      <th>target</th>\n",
       "      <th>prediction</th>\n",
       "    </tr>\n",
       "  </thead>\n",
       "  <tbody>\n",
       "    <tr>\n",
       "      <th>0</th>\n",
       "      <td>\\n = Ireland = \\n \\n Ireland ( / &lt;unk&gt; / ; Irish : &lt;unk&gt; [ &lt;unk&gt; ] ; Ulster @-@ Scots : &lt;unk&gt; [ &lt;unk&gt; ] ) is an island in the North Atlantic. It is separated from Great Britain to its east by the North Channel, the Irish Sea, and St George's Channel. I</td>\n",
       "      <td>\\n = Ireland = \\n \\n Ireland ( / &lt;unk&gt; / ; Irish : &lt;unk&gt; [ &lt;unk&gt; ] ; Ulster @-@ Scots : &lt;unk&gt; [ &lt;unk&gt; ] ) is an island in the North Atlantic. It is separated from Great Britain to its east by the North Channel, the Irish Sea, and St George's Channel. Ir</td>\n",
       "      <td>\\n\\n = = \\n =\\n = =   &lt;&gt; ) &lt; ) = unk&gt; ) &lt;unk&gt; ] = Irish : &lt; &lt; : : &lt;unk&gt; [ &lt;unk&gt; ] ; = a Irish in the north of Ocean It is a from the Britain by the north by the Irish Atlantic and and southern Sea and and theirling'ss Sea. It is a largest largest-@ Scott</td>\n",
       "    </tr>\n",
       "    <tr>\n",
       "      <th>1</th>\n",
       "      <td>\\n = Battle of Romani = \\n \\n The Battle of Romani was the last ground attack of the Central Powers on the Suez Canal at the beginning of the Sinai and Palestine Campaign during the First World War. The battle was fought between 3 and 5 August 1916 nea</td>\n",
       "      <td>\\n = Battle of Romani = \\n \\n The Battle of Romani was the last ground attack of the Central Powers on the Suez Canal at the beginning of the Sinai and Palestine Campaign during the First World War. The battle was fought between 3 and 5 August 1916 near</td>\n",
       "      <td>\\n\\n = of theulusus\\n\\n =\\n = Battle of Romani was a first battle battle on the Roman Powers against the Romanoutheastern Canal in the end of the twentieth War the War. the period World War. The Battle was fought in the armies 4 million 1944 in the port b</td>\n",
       "    </tr>\n",
       "  </tbody>\n",
       "</table>"
      ],
      "text/plain": [
       "<IPython.core.display.HTML object>"
      ]
     },
     "metadata": {},
     "output_type": "display_data"
    }
   ],
   "source": [
    "learn.show_results(learner=learn, trunc_at=250)"
   ]
  },
  {
   "cell_type": "code",
   "execution_count": null,
   "metadata": {},
   "outputs": [
    {
     "data": {
      "text/plain": [
       "[' Blurr is fun to work with because it is same style of play that I preferred to have for my players in my first few games of my career.\" -- Chris Kluwe #12\\n\"The style of play used in our']"
      ]
     },
     "execution_count": null,
     "metadata": {},
     "output_type": "execute_result"
    }
   ],
   "source": [
    "learn.blurr_generate('Blurr is fun to work with because', max_length=50, do_sample=True, top_k=25)"
   ]
  },
  {
   "cell_type": "markdown",
   "metadata": {},
   "source": [
    "Masked language modeling"
   ]
  },
  {
   "cell_type": "code",
   "execution_count": null,
   "metadata": {},
   "outputs": [],
   "source": [
    "#hide\n",
    "try: del learn; torch.cuda.empty_cache()\n",
    "except: pass"
   ]
  },
  {
   "cell_type": "code",
   "execution_count": null,
   "metadata": {},
   "outputs": [],
   "source": [
    "learn = BlearnerForLM.from_dataframe(df, 'bert-base-cased', lm_strategy_cls=BertMLMStrategy, \n",
    "                                     text_attr=0, dblock_splitter=RandomSplitter(), \n",
    "                                     dl_kwargs={'bs':2}).to_fp16()"
   ]
  },
  {
   "cell_type": "code",
   "execution_count": null,
   "metadata": {},
   "outputs": [
    {
     "data": {
      "text/html": [
       "<table border=\"1\" class=\"dataframe\">\n",
       "  <thead>\n",
       "    <tr style=\"text-align: right;\">\n",
       "      <th></th>\n",
       "      <th>text</th>\n",
       "      <th>target</th>\n",
       "    </tr>\n",
       "  </thead>\n",
       "  <tbody>\n",
       "    <tr>\n",
       "      <th>0</th>\n",
       "      <td>= Military history of Australia = The military history of Australia spans the nation ' s 220 [MASK] - [MASK] year modern history , from the early Australian frontier wars between &lt; [MASK] ##k &gt; and Europeans to the ongoing conflicts [MASK] Iraq and Afghanistan in the [early] 21st century . Although this history is [MASK] when compared [MASK] that of many [MASK] nations , Australia [has] been [MASK] in numerous [MASK] and wars , and war and military [MASK] have been significant [Northeastern] on [Australian] society and [MASK] identity , including [MASK] [MASK] ##zac spirit . The relationship between war and Australian society has also [MASK] shaped by the enduring themes of Australian strategic culture and its unique security di ##lemma . As British &lt; [MASK] ##k &gt; , the Australian colonies participated in Britain ' s small wars of the 19th century [MASK] while later as a [MASK] un ##k &gt; do ##mini ##on , and [Parkway] [MASK] [MASK] nation , Australia fought in the First World War and Second World War , [as] well as in the [MASK] in Korea , [MASK] , [Borneo] [MASK] Vietnam during [MASK] Cold War . In the [MASK] [MASK] [disturb] @ Vietnam era Australian forces have been involved in numerous international peace ##keeping missions , through the United [MASK] and other [MASK] , including in the Sinai , [MASK] Gulf , &lt; un [MASK] &gt; , Somalia , East Timor and [MASK] Solomon Islands , while more recently [MASK] have also</td>\n",
       "      <td>= Military history of Australia = The military history of Australia spans the nation ' s 220 [@] - [@] year modern history , from the early Australian frontier wars between &lt; [un] ##k &gt; and Europeans to the ongoing conflicts [in] Iraq and Afghanistan in the [early] 21st century . Although this history is [short] when compared [to] that of many [other] nations , Australia [has] been [involved] in numerous [conflicts] and wars , and war and military [service] have been significant [influences] on [Australian] society and [national] identity , including [the] [An] ##zac spirit . The relationship between war and Australian society has also [been] shaped by the enduring themes of Australian strategic culture and its unique security di ##lemma . As British &lt; [un] ##k &gt; , the Australian colonies participated in Britain ' s small wars of the 19th century [,] while later as a [&lt;] un ##k &gt; do ##mini ##on , and [then] [an] [independent] nation , Australia fought in the First World War and Second World War , [as] well as in the [wars] in Korea , [Malaya] , [Borneo] [and] Vietnam during [the] Cold War . In the [Post] [@] [-] @ Vietnam era Australian forces have been involved in numerous international peace ##keeping missions , through the United [Nations] and other [agencies] , including in the Sinai , [Persian] Gulf , &lt; un [##k] &gt; , Somalia , East Timor and [the] Solomon Islands , while more recently [they] have also</td>\n",
       "    </tr>\n",
       "    <tr>\n",
       "      <th>1</th>\n",
       "      <td>= Bob Dylan = Bob Dylan ( / &lt; un ##k &gt; / ; born Robert Allen Z ##immer ##man [MASK] May 24 , 1941 ) is an American singer @ - @ [MASK] [MASK] artist [MASK] writer [MASK] He [MASK] [MASK] [MASK] in popular music and culture [for] more than five decades . Much of his most celebrated work dates [MASK] the 1960s when his songs chronicle ##d social unrest , although Dylan re ##pu [seemed] ##ted suggestions from journalists that he was a spokesman for his generation . [MASK] , early [MASK] [MASK] as \" B ##low ##in ' in the Wind \" and [MASK] The Times They Are [##জ] @ - @ &lt; un ##k &gt; [MASK] \" became [MASK] ##s for the American civil rights and [MASK] @ - @ war movements . After [MASK] left his initial base in the American folk music revival , [MASK] six @ [MASK] @ minute single \" [Like] [##ger] Rolling [MASK] \" altered the range of popular music [MASK] 1965 . His mid @ - @ 1960s recordings , backed by rock musicians , reached the top end [##ynx] the [MASK] States music charts [MASK] also attracting &lt; un ##k &gt; and criticism from others in the folk movement . Dylan [MASK] [MASK] lyrics have incorporated various political , social , philosophical , [MASK] literary influences . They def ##ied existing pop music conventions and appealed to the b ##urge ##oning counter ##culture . Initially inspired by the [performances]</td>\n",
       "      <td>= Bob Dylan = Bob Dylan ( / &lt; un ##k &gt; / ; born Robert Allen Z ##immer ##man [,] May 24 , 1941 ) is an American singer @ - @ [songwriter] [,] artist [and] writer [.] He [has] [been] [influential] in popular music and culture [for] more than five decades . Much of his most celebrated work dates [from] the 1960s when his songs chronicle ##d social unrest , although Dylan re ##pu [##dia] ##ted suggestions from journalists that he was a spokesman for his generation . [Nevertheless] , early [songs] [such] as \" B ##low ##in ' in the Wind \" and [\"] The Times They Are [a] @ - @ &lt; un ##k &gt; ['] \" became [anthem] ##s for the American civil rights and [anti] @ - @ war movements . After [he] left his initial base in the American folk music revival , [his] six @ [-] @ minute single \" [Like] [a] Rolling [Stone] \" altered the range of popular music [in] 1965 . His mid @ - @ 1960s recordings , backed by rock musicians , reached the top end [of] the [United] States music charts [while] also attracting &lt; un ##k &gt; and criticism from others in the folk movement . Dylan ['] [s] lyrics have incorporated various political , social , philosophical , [and] literary influences . They def ##ied existing pop music conventions and appealed to the b ##urge ##oning counter ##culture . Initially inspired by the [performances]</td>\n",
       "    </tr>\n",
       "  </tbody>\n",
       "</table>"
      ],
      "text/plain": [
       "<IPython.core.display.HTML object>"
      ]
     },
     "metadata": {},
     "output_type": "display_data"
    }
   ],
   "source": [
    "learn.dls.show_batch(dataloaders=learn.dls, max_n=2, trunc_at=250)"
   ]
  },
  {
   "cell_type": "code",
   "execution_count": null,
   "metadata": {},
   "outputs": [
    {
     "data": {
      "text/html": [
       "<table border=\"1\" class=\"dataframe\">\n",
       "  <thead>\n",
       "    <tr style=\"text-align: left;\">\n",
       "      <th>epoch</th>\n",
       "      <th>train_loss</th>\n",
       "      <th>valid_loss</th>\n",
       "      <th>perplexity</th>\n",
       "      <th>lm_accuracy</th>\n",
       "      <th>time</th>\n",
       "    </tr>\n",
       "  </thead>\n",
       "  <tbody>\n",
       "    <tr>\n",
       "      <td>0</td>\n",
       "      <td>2.702059</td>\n",
       "      <td>2.514437</td>\n",
       "      <td>12.359648</td>\n",
       "      <td>0.580146</td>\n",
       "      <td>00:40</td>\n",
       "    </tr>\n",
       "  </tbody>\n",
       "</table>"
      ],
      "text/plain": [
       "<IPython.core.display.HTML object>"
      ]
     },
     "metadata": {},
     "output_type": "display_data"
    }
   ],
   "source": [
    "learn.fit_one_cycle(1, lr_max=6e-4, cbs=[BlearnerForLM.get_metrics_cb()])"
   ]
  },
  {
   "cell_type": "code",
   "execution_count": null,
   "metadata": {},
   "outputs": [
    {
     "data": {
      "text/html": [],
      "text/plain": [
       "<IPython.core.display.HTML object>"
      ]
     },
     "metadata": {},
     "output_type": "display_data"
    },
    {
     "data": {
      "text/html": [
       "<table border=\"1\" class=\"dataframe\">\n",
       "  <thead>\n",
       "    <tr style=\"text-align: right;\">\n",
       "      <th></th>\n",
       "      <th>text</th>\n",
       "      <th>target</th>\n",
       "      <th>prediction</th>\n",
       "    </tr>\n",
       "  </thead>\n",
       "  <tbody>\n",
       "    <tr>\n",
       "      <th>0</th>\n",
       "      <td>[MASK] Ireland = Ireland [(] / &lt; un ##k &gt; / ; Irish : [MASK] [MASK] ##k &gt; [ [MASK] un ##k &gt; ] ; Ulster @ - @ Scots : &lt; un ##k &gt; [ &lt; un ##k [destroying] ] [MASK] is an island in the [MASK] [MASK] . It is separated from Great Britain to its east by the North Channel , the Irish Sea , and St George [MASK] s Channel . Ireland is the second @ [MASK] @ largest island of the [MASK] Isles , the [MASK] [MASK] [person] @ [MASK] [MASK] Europe , and the twentieth [MASK] - @ [MASK] on Earth . &lt; un ##k &gt; , Ireland is divided between the Republic of Ireland ( officially named Ireland ) [MASK] which covers five @ [-] @ &lt; un ##k &gt; of the island , and Northern Ireland , which is part of the United Kingdom , [MASK] the northeast of the island . In 2011 the population of Ireland was about 6 @ . @ [MASK] million , ranking [MASK] the second @ - @ most populous [MASK] in Europe after Great [MASK] . Just [signaling] 4 @ . [MASK] 6 million live [in] the Republic of Ireland and just over 1 @ . @ 8 million [MASK] in Northern [MASK] . The [loads] ' s [MASK] [MASK] relatively low @ - [MASK] lying mountains surrounding a central plain , with several na ##vi [MASK] rivers extending inland . The island has lush</td>\n",
       "      <td>[=] Ireland = Ireland [(] / &lt; un ##k &gt; / ; Irish : [&lt;] [un] ##k &gt; [ [&lt;] un ##k &gt; ] ; Ulster @ - @ Scots : &lt; un ##k &gt; [ &lt; un ##k [&gt;] ] [)] is an island in the [North] [Atlantic] . It is separated from Great Britain to its east by the North Channel , the Irish Sea , and St George ['] s Channel . Ireland is the second @ [-] @ largest island of the [British] Isles , the [third] [@] [-] @ [largest] [in] Europe , and the twentieth [@] - @ [largest] on Earth . &lt; un ##k &gt; , Ireland is divided between the Republic of Ireland ( officially named Ireland ) [,] which covers five @ [-] @ &lt; un ##k &gt; of the island , and Northern Ireland , which is part of the United Kingdom , [in] the northeast of the island . In 2011 the population of Ireland was about 6 @ . @ [4] million , ranking [it] the second @ - @ most populous [island] in Europe after Great [Britain] . Just [under] 4 @ . [@] 6 million live [in] the Republic of Ireland and just over 1 @ . @ 8 million [live] in Northern [Ireland] . The [island] ' s [geography] [comprises] relatively low @ - [@] lying mountains surrounding a central plain , with several na ##vi [##gable] rivers extending inland . The island has lush</td>\n",
       "      <td>[=] Ireland = Ireland [(] / &lt; un ##k &gt; / ; Irish : [&lt;] [un] ##k &gt; [ [&lt;] un ##k &gt; ] ; Ulster @ - @ Scots : &lt; un ##k &gt; [ &lt; un ##k [&gt;] ] [)] is an island in the [Atlantic] [Atlantic] . It is separated from Great Britain to its east by the North Channel , the Irish Sea , and St George ['] s Channel . Ireland is the second @ [-] @ largest island of the [British] Isles , the [third] [@] [@] @ [in] [in] Europe , and the twentieth [@] - @ [largest] on Earth . &lt; un ##k &gt; , Ireland is divided between the Republic of Ireland ( officially named Ireland ) [,] which covers five @ [-] @ &lt; un ##k &gt; of the island , and Northern Ireland , which is part of the United Kingdom , [to] the northeast of the island . In 2011 the population of Ireland was about 6 @ . @ [8] million , ranking [as] the second @ - @ most populous [island] in Europe after Great [Britain] . Just [over] 4 @ . [@] 6 million live [in] the Republic of Ireland and just over 1 @ . @ 8 million [live] in Northern [Ireland] . The [island] ' s [location] [are] relatively low @ - [@] lying mountains surrounding a central plain , with several na ##vi [##gable] rivers extending inland . The island has lush</td>\n",
       "    </tr>\n",
       "    <tr>\n",
       "      <th>1</th>\n",
       "      <td>= [Sultan] Haiti earthquake = The 2010 Haiti earthquake [(] French [MASK] &lt; un ##k &gt; de [MASK] à [MASK] un ##k [MASK] [MASK] Haitian C ##reole : &lt; un ##k &gt; 12 &lt; un ##k &gt; 2010 &lt; un ##k &gt; &lt; un ##k &gt; &lt; un ##k &gt; ) was a catastrophic magnitude 7 [MASK] . @ [MASK] [MASK] [MASK] earthquake [MASK] with an epic ##enter near the town of &lt; un ##k &gt; ( [MASK] [un] ##k &gt; ) , [MASK] 25 kilometres ( 16 mi ) west of Port @ [MASK] [MASK] au [MASK] - @ Prince , Haiti [MASK] [MASK] capital [MASK] The earthquake occurred at 16 : 53 local time ( 21 : 53 UTC ) [Scenic] Tuesday , [MASK] January 2010 . By 24 January , [MASK] [MASK] 52 after ##sh ##ocks measuring 4 @ . [MASK] [MASK] or greater [MASK] been recorded [MASK] An estimated three [MASK] people [were] affected by [stepping] q ##ua ##ke . Death toll estimates range from 100 @ , @ 000 to about 160 @ , @ 000 to Haitian government figures from 220 @ [MASK] @ 000 to 316 @ , @ 000 [Christina] [have] been widely characterized [MASK] deliberately in ##f ##lated by [the] Haitian government [MASK] The government of Haiti estimated that 250 @ , @ 000 [MASK] [MASK] 30 @ , @ 000 commercial buildings had collapsed or were [MASK] [damaged] . [MASK] has [MASK] [a] history of national debt , &lt; un</td>\n",
       "      <td>= [2010] Haiti earthquake = The 2010 Haiti earthquake [(] French [:] &lt; un ##k &gt; de [2010] à [&lt;] un ##k [&gt;] [;] Haitian C ##reole : &lt; un ##k &gt; 12 &lt; un ##k &gt; 2010 &lt; un ##k &gt; &lt; un ##k &gt; &lt; un ##k &gt; ) was a catastrophic magnitude 7 [@] . @ [0] [M] [##w] earthquake [,] with an epic ##enter near the town of &lt; un ##k &gt; ( [&lt;] [un] ##k &gt; ) , [approximately] 25 kilometres ( 16 mi ) west of Port @ [-] [@] au [@] - @ Prince , Haiti ['] [s] capital [.] The earthquake occurred at 16 : 53 local time ( 21 : 53 UTC ) [on] Tuesday , [12] January 2010 . By 24 January , [at] [least] 52 after ##sh ##ocks measuring 4 @ . [@] [5] or greater [had] been recorded [.] An estimated three [million] people [were] affected by [the] q ##ua ##ke . Death toll estimates range from 100 @ , @ 000 to about 160 @ , @ 000 to Haitian government figures from 220 @ [,] @ 000 to 316 @ , @ 000 [that] [have] been widely characterized [as] deliberately in ##f ##lated by [the] Haitian government [.] The government of Haiti estimated that 250 @ , @ 000 [residences] [and] 30 @ , @ 000 commercial buildings had collapsed or were [severely] [damaged] . [There] has [been] [a] history of national debt , &lt; un</td>\n",
       "      <td>= [2010] Haiti earthquake = The 2010 Haiti earthquake [(] French [:] &lt; un ##k &gt; de [2010] à [la] un ##k [&gt;] [;] Haitian C ##reole : &lt; un ##k &gt; 12 &lt; un ##k &gt; 2010 &lt; un ##k &gt; &lt; un ##k &gt; &lt; un ##k &gt; ) was a catastrophic magnitude 7 [@] . @ [-] [@] [Haiti] earthquake [,] with an epic ##enter near the town of &lt; un ##k &gt; ( [&lt;] [un] ##k &gt; ) , [about] 25 kilometres ( 16 mi ) west of Port @ [-] [@] au [@] - @ Prince , Haiti [,] [the] capital [.] The earthquake occurred at 16 : 53 local time ( 21 : 53 UTC ) [on] Tuesday , [24] January 2010 . By 24 January , [1] [,] 52 after ##sh ##ocks measuring 4 @ . [000] [@] or greater [had] been recorded [.] An estimated three [million] people [were] affected by [the] q ##ua ##ke . Death toll estimates range from 100 @ , @ 000 to about 160 @ , @ 000 to Haitian government figures from 220 @ [,] @ 000 to 316 @ , @ 000 [and] [have] been widely characterized [as] deliberately in ##f ##lated by [the] Haitian government [.] The government of Haiti estimated that 250 @ , @ 000 [,] [to] 30 @ , @ 000 commercial buildings had collapsed or were [severely] [damaged] . [Haiti] has [had] [a] history of national debt , &lt; un</td>\n",
       "    </tr>\n",
       "  </tbody>\n",
       "</table>"
      ],
      "text/plain": [
       "<IPython.core.display.HTML object>"
      ]
     },
     "metadata": {},
     "output_type": "display_data"
    }
   ],
   "source": [
    "learn.show_results(learner=learn, trunc_at=250)"
   ]
  },
  {
   "cell_type": "code",
   "execution_count": null,
   "metadata": {},
   "outputs": [],
   "source": [
    "batch_tfm = get_blurr_tfm(learn.dls.before_batch)"
   ]
  },
  {
   "cell_type": "code",
   "execution_count": null,
   "metadata": {},
   "outputs": [
    {
     "data": {
      "text/plain": [
       "['The best place on earth is heaven.',\n",
       " 'The best place on earth is here.',\n",
       " 'The best place on earth is paradise.',\n",
       " 'The best place on earth is Heaven.',\n",
       " 'The best place on earth is home.']"
      ]
     },
     "execution_count": null,
     "metadata": {},
     "output_type": "execute_result"
    }
   ],
   "source": [
    "learn.blurr_fill_mask(f'The best place on earth is {batch_tfm.hf_tokenizer.mask_token}.', n_preds=5)"
   ]
  },
  {
   "cell_type": "markdown",
   "metadata": {},
   "source": [
    "## Summary"
   ]
  },
  {
   "cell_type": "markdown",
   "metadata": {},
   "source": [
    "Whether you're using the low, mid, or high-level APIs, the `modeling.language_modeling` provides everything you need to train causual and masked language models"
   ]
  },
  {
   "cell_type": "code",
   "execution_count": null,
   "metadata": {},
   "outputs": [
    {
     "name": "stdout",
     "output_type": "stream",
     "text": [
      "Converted 00_utils.ipynb.\n",
      "Converted 01_data-core.ipynb.\n",
      "Converted 01_modeling-core.ipynb.\n",
      "Converted 02_data-language-modeling.ipynb.\n",
      "Converted 02_modeling-language-modeling.ipynb.\n",
      "Converted 03_data-token-classification.ipynb.\n",
      "Converted 03_modeling-token-classification.ipynb.\n",
      "Converted 04_data-question-answering.ipynb.\n",
      "Converted 04_modeling-question-answering.ipynb.\n",
      "Converted 10_data-seq2seq-core.ipynb.\n",
      "Converted 10_modeling-seq2seq-core.ipynb.\n",
      "Converted 11_data-seq2seq-summarization.ipynb.\n",
      "Converted 11_modeling-seq2seq-summarization.ipynb.\n",
      "Converted 12_data-seq2seq-translation.ipynb.\n",
      "Converted 12_modeling-seq2seq-translation.ipynb.\n",
      "Converted 99a_examples-high-level-api.ipynb.\n",
      "Converted 99b_examples-glue.ipynb.\n",
      "Converted 99c_examples-glue-plain-pytorch.ipynb.\n",
      "Converted 99d_examples-multilabel.ipynb.\n",
      "Converted index.ipynb.\n"
     ]
    }
   ],
   "source": [
    "#hide\n",
    "from nbdev.export import notebook2script\n",
    "notebook2script()"
   ]
  },
  {
   "cell_type": "code",
   "execution_count": null,
   "metadata": {},
   "outputs": [],
   "source": []
  }
 ],
 "metadata": {
  "kernelspec": {
   "display_name": "Python 3",
   "language": "python",
   "name": "python3"
  }
 },
 "nbformat": 4,
 "nbformat_minor": 4
}
