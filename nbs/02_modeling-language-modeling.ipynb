{
 "cells": [
  {
   "cell_type": "code",
   "execution_count": null,
   "metadata": {},
   "outputs": [],
   "source": [
    "# default_exp modeling.language_modeling"
   ]
  },
  {
   "cell_type": "code",
   "execution_count": null,
   "metadata": {},
   "outputs": [],
   "source": [
    "#all_slow"
   ]
  },
  {
   "cell_type": "code",
   "execution_count": null,
   "metadata": {},
   "outputs": [],
   "source": [
    "#hide\n",
    "%reload_ext autoreload\n",
    "%autoreload 2\n",
    "%matplotlib inline"
   ]
  },
  {
   "cell_type": "markdown",
   "metadata": {},
   "source": [
    "# modeling.language_modeling\n",
    "\n",
    "> This module contains custom models, custom splitters, etc... for both causal and MLM language modeling tasks. This includes things like training BERT from scratch or fine-tuning a particular pre-trained LM on your own corpus.\n",
    "\n",
    "**This is currently a work in progress** - You've been warned : )"
   ]
  },
  {
   "cell_type": "code",
   "execution_count": null,
   "metadata": {},
   "outputs": [],
   "source": [
    "#export\n",
    "import os, ast, inspect\n",
    "\n",
    "from fastcore.all import *\n",
    "from fastai.callback.all import *\n",
    "from fastai.data.block import DataBlock, ColReader, ItemGetter, ColSplitter, RandomSplitter\n",
    "from fastai.imports import *\n",
    "from fastai.learner import *\n",
    "from fastai.losses import CrossEntropyLossFlat\n",
    "from fastai.optimizer import Adam, OptimWrapper, params\n",
    "from fastai.metrics import perplexity\n",
    "from fastai.torch_core import *\n",
    "from fastai.torch_imports import *\n",
    "from fastprogress.fastprogress import progress_bar,master_bar\n",
    "from sklearn.metrics import accuracy_score\n",
    "from transformers import AutoModelForCausalLM, AutoModelForMaskedLM, logging\n",
    "\n",
    "\n",
    "from blurr.utils import BLURR\n",
    "from blurr.data.core import HF_TextBlock, BlurrDataLoader, first_blurr_tfm\n",
    "from blurr.modeling.core import HF_PreCalculatedLoss, Blearner\n",
    "from blurr.data.language_modeling import (\n",
    "    HF_LMBeforeBatchTransform, LMType, HF_CausalLMInput, CausalLMStrategy, HF_MLMInput, BertMLMStrategy\n",
    ")\n",
    "\n",
    "logging.set_verbosity_error()"
   ]
  },
  {
   "cell_type": "code",
   "execution_count": null,
   "metadata": {},
   "outputs": [
    {
     "name": "stdout",
     "output_type": "stream",
     "text": [
      "torch: 1.7.1\n",
      "fastai: 2.5.0\n",
      "transformers: 4.9.2\n"
     ]
    }
   ],
   "source": [
    "#hide\n",
    "import pdb\n",
    "\n",
    "from fastai.data.core import DataLoader, DataLoaders, TfmdDL\n",
    "from fastai.data.external import untar_data, URLs\n",
    "from fastcore.test import *\n",
    "from nbverbose.showdoc import show_doc\n",
    "\n",
    "from blurr.utils import print_versions\n",
    "from blurr.modeling.core import HF_BaseModelWrapper, HF_BaseModelCallback, HF_PreCalculatedLoss, hf_splitter\n",
    "\n",
    "os.environ[\"TOKENIZERS_PARALLELISM\"] = \"false\"\n",
    "print_versions('torch fastai transformers')"
   ]
  },
  {
   "cell_type": "code",
   "execution_count": null,
   "metadata": {},
   "outputs": [
    {
     "name": "stdout",
     "output_type": "stream",
     "text": [
      "Using GPU #1: GeForce GTX 1080 Ti\n"
     ]
    }
   ],
   "source": [
    "#hide_input\n",
    "#cuda\n",
    "torch.cuda.set_device(1)\n",
    "print(f'Using GPU #{torch.cuda.current_device()}: {torch.cuda.get_device_name()}')"
   ]
  },
  {
   "cell_type": "code",
   "execution_count": null,
   "metadata": {},
   "outputs": [
    {
     "name": "stdout",
     "output_type": "stream",
     "text": [
      "662\n"
     ]
    },
    {
     "data": {
      "text/html": [
       "<div>\n",
       "<style scoped>\n",
       "    .dataframe tbody tr th:only-of-type {\n",
       "        vertical-align: middle;\n",
       "    }\n",
       "\n",
       "    .dataframe tbody tr th {\n",
       "        vertical-align: top;\n",
       "    }\n",
       "\n",
       "    .dataframe thead th {\n",
       "        text-align: right;\n",
       "    }\n",
       "</style>\n",
       "<table border=\"1\" class=\"dataframe\">\n",
       "  <thead>\n",
       "    <tr style=\"text-align: right;\">\n",
       "      <th></th>\n",
       "      <th>0</th>\n",
       "      <th>is_valid</th>\n",
       "    </tr>\n",
       "  </thead>\n",
       "  <tbody>\n",
       "    <tr>\n",
       "      <th>0</th>\n",
       "      <td>\\n = 2013 – 14 York City F.C. season = \\n \\n The 2013 – 14 season was the &lt;unk&gt; season of competitive association football and 77th season in the Football League played by York City Football Club , a professional football club based in York , North Yorkshire , England . Their 17th @-@ place finish in 2012 – 13 meant it was their second consecutive season in League Two . The season ran from 1 July 2013 to 30 June 2014 . \\n Nigel Worthington , starting his first full season as York manager , made eight permanent summer signings . By the turn of the year York were only above the relegation z...</td>\n",
       "      <td>False</td>\n",
       "    </tr>\n",
       "    <tr>\n",
       "      <th>1</th>\n",
       "      <td>\\n = Big Boy ( song ) = \\n \\n \" Big Boy \" &lt;unk&gt; \" I 'm A Big Boy Now \" was the first single ever recorded by the Jackson 5 , which was released by Steeltown Records in January 1968 . The group played instruments on many of their Steeltown compositions , including \" Big Boy \" . The song was neither a critical nor commercial success , but the Jackson family were delighted with the outcome nonetheless . \\n The Jackson 5 would release a second single with Steeltown Records before moving to Motown Records . The group 's recordings at Steeltown Records were thought to be lost , but they were re...</td>\n",
       "      <td>False</td>\n",
       "    </tr>\n",
       "    <tr>\n",
       "      <th>2</th>\n",
       "      <td>\\n = The Remix ( Lady Gaga album ) = \\n \\n The Remix is a remix album by American recording artist Lady Gaga . Released in Japan on March 3 , 2010 , it contains remixes of the songs from her first studio album , The Fame ( 2008 ) , and her third extended play , The Fame Monster ( 2009 ) . A revised version of the track list was prepared for release in additional markets , beginning with Mexico on May 3 , 2010 . A number of recording artists have produced the songs , including Pet Shop Boys , Passion Pit and The Sound of Arrows . The remixed versions feature both uptempo and &lt;unk&gt; composit...</td>\n",
       "      <td>False</td>\n",
       "    </tr>\n",
       "    <tr>\n",
       "      <th>3</th>\n",
       "      <td>\\n = New Year 's Eve ( Up All Night ) = \\n \\n \" New Year 's Eve \" is the twelfth episode of the first season of the American comedy television series Up All Night . The episode originally aired on NBC in the United States on January 12 , 2012 . It was written by Erica &lt;unk&gt; and was directed by Beth McCarthy @-@ Miller . The episode also featured a guest appearance from Jason Lee as Chris and Reagan 's neighbor and Ava 's boyfriend , Kevin . \\n During Reagan ( Christina Applegate ) and Chris 's ( Will &lt;unk&gt; ) first New Year 's Eve game night , Reagan 's competitiveness comes out causing Ch...</td>\n",
       "      <td>False</td>\n",
       "    </tr>\n",
       "    <tr>\n",
       "      <th>4</th>\n",
       "      <td>\\n = Geopyxis carbonaria = \\n \\n Geopyxis carbonaria is a species of fungus in the genus Geopyxis , family &lt;unk&gt; . First described to science in 1805 , and given its current name in 1889 , the species is commonly known as the charcoal loving elf @-@ cup , dwarf &lt;unk&gt; cup , &lt;unk&gt; &lt;unk&gt; cup , or pixie cup . The small , &lt;unk&gt; @-@ shaped fruitbodies of the fungus are reddish @-@ brown with a whitish fringe and measure up to 2 cm ( 0 @.@ 8 in ) across . They have a short , tapered stalk . Fruitbodies are commonly found on soil where brush has recently been burned , sometimes in great numbers ....</td>\n",
       "      <td>False</td>\n",
       "    </tr>\n",
       "  </tbody>\n",
       "</table>\n",
       "</div>"
      ],
      "text/plain": [
       "                                                                                                                                                                                                                                                                                                                                                                                                                                                                                                                                                                                                                         0  \\\n",
       "0   \\n = 2013 – 14 York City F.C. season = \\n \\n The 2013 – 14 season was the <unk> season of competitive association football and 77th season in the Football League played by York City Football Club , a professional football club based in York , North Yorkshire , England . Their 17th @-@ place finish in 2012 – 13 meant it was their second consecutive season in League Two . The season ran from 1 July 2013 to 30 June 2014 . \\n Nigel Worthington , starting his first full season as York manager , made eight permanent summer signings . By the turn of the year York were only above the relegation z...   \n",
       "1   \\n = Big Boy ( song ) = \\n \\n \" Big Boy \" <unk> \" I 'm A Big Boy Now \" was the first single ever recorded by the Jackson 5 , which was released by Steeltown Records in January 1968 . The group played instruments on many of their Steeltown compositions , including \" Big Boy \" . The song was neither a critical nor commercial success , but the Jackson family were delighted with the outcome nonetheless . \\n The Jackson 5 would release a second single with Steeltown Records before moving to Motown Records . The group 's recordings at Steeltown Records were thought to be lost , but they were re...   \n",
       "2   \\n = The Remix ( Lady Gaga album ) = \\n \\n The Remix is a remix album by American recording artist Lady Gaga . Released in Japan on March 3 , 2010 , it contains remixes of the songs from her first studio album , The Fame ( 2008 ) , and her third extended play , The Fame Monster ( 2009 ) . A revised version of the track list was prepared for release in additional markets , beginning with Mexico on May 3 , 2010 . A number of recording artists have produced the songs , including Pet Shop Boys , Passion Pit and The Sound of Arrows . The remixed versions feature both uptempo and <unk> composit...   \n",
       "3   \\n = New Year 's Eve ( Up All Night ) = \\n \\n \" New Year 's Eve \" is the twelfth episode of the first season of the American comedy television series Up All Night . The episode originally aired on NBC in the United States on January 12 , 2012 . It was written by Erica <unk> and was directed by Beth McCarthy @-@ Miller . The episode also featured a guest appearance from Jason Lee as Chris and Reagan 's neighbor and Ava 's boyfriend , Kevin . \\n During Reagan ( Christina Applegate ) and Chris 's ( Will <unk> ) first New Year 's Eve game night , Reagan 's competitiveness comes out causing Ch...   \n",
       "4   \\n = Geopyxis carbonaria = \\n \\n Geopyxis carbonaria is a species of fungus in the genus Geopyxis , family <unk> . First described to science in 1805 , and given its current name in 1889 , the species is commonly known as the charcoal loving elf @-@ cup , dwarf <unk> cup , <unk> <unk> cup , or pixie cup . The small , <unk> @-@ shaped fruitbodies of the fungus are reddish @-@ brown with a whitish fringe and measure up to 2 cm ( 0 @.@ 8 in ) across . They have a short , tapered stalk . Fruitbodies are commonly found on soil where brush has recently been burned , sometimes in great numbers ....   \n",
       "\n",
       "   is_valid  \n",
       "0     False  \n",
       "1     False  \n",
       "2     False  \n",
       "3     False  \n",
       "4     False  "
      ]
     },
     "execution_count": null,
     "metadata": {},
     "output_type": "execute_result"
    }
   ],
   "source": [
    "wiki_path = untar_data(URLs.WIKITEXT_TINY)\n",
    "\n",
    "train_df = pd.read_csv(wiki_path/'train.csv', header=None)\n",
    "valid_df = pd.read_csv(wiki_path/'test.csv', header=None)\n",
    "\n",
    "train_df['is_valid'] = False\n",
    "valid_df['is_valid'] = True\n",
    "\n",
    "df = pd.concat([train_df, valid_df])\n",
    "\n",
    "print(len(df))\n",
    "df.head()"
   ]
  },
  {
   "cell_type": "code",
   "execution_count": null,
   "metadata": {},
   "outputs": [],
   "source": [
    "#export\n",
    "class LM_MetricsCallback(Callback):\n",
    "    \"\"\"A fastai friendly metric implemented as a callback so that we can handle use cases where we don't\n",
    "    want to count tokens marked to be ignored or else not count batches where there are no targs\n",
    "    \"\"\"\n",
    "    def __init__(self, **kwargs):\n",
    "        self.run_before = Recorder\n",
    "    \n",
    "        self.custom_metrics_dict = { 'lm_accuracy':None }    \n",
    "        self.do_setup = True\n",
    "        \n",
    "    def setup(self):\n",
    "        # one time setup code here.\n",
    "        if (not self.do_setup): return\n",
    "\n",
    "        # add custom text generation specific metrics\n",
    "        custom_metric_keys = self.custom_metrics_dict.keys()\n",
    "        custom_metrics = L([ ValueMetric(partial(self.metric_value, metric_key=k), k) for k in custom_metric_keys ])\n",
    "        self.learn.metrics = self.learn.metrics + custom_metrics\n",
    "\n",
    "        self.do_setup = False\n",
    "        \n",
    "    def before_fit(self): \n",
    "        self.setup()\n",
    "    \n",
    "    \n",
    "    # --- batch begin/after phases ---\n",
    "    def after_batch(self):\n",
    "        # do this only for validation set\n",
    "        if (self.training or self.learn.y is None): return\n",
    "        \n",
    "        preds = self.pred.argmax(dim=-1)\n",
    "        targs = self.yb[0]               # yb is TensorText tuple, item 0 is the data\n",
    "\n",
    "        msk = torch.where(targs != -100, 1, 0).bool()\n",
    "        preds = torch.masked_select(preds, msk).cpu()\n",
    "        targs = torch.masked_select(targs, msk).cpu()\n",
    "\n",
    "        if (preds.shape[0] == 0):\n",
    "            return\n",
    "        \n",
    "        self.results += [ (res[0], res[1]) for res in zip(preds, targs) ]\n",
    "        \n",
    "        \n",
    "    # --- validation begin/after phases ---\n",
    "    def before_validate(self): self.results = []\n",
    "        \n",
    "    def after_validate(self):\n",
    "        if (len(self.results) < 1): return\n",
    "        \n",
    "        preds, targs = map(list, zip(*self.results))\n",
    "        self.custom_metrics_dict['lm_accuracy'] = accuracy_score(targs, preds)\n",
    "        \n",
    "        \n",
    "    # --- for ValueMetric metrics ---\n",
    "    def metric_value(self, metric_key): return self.custom_metrics_dict[metric_key]"
   ]
  },
  {
   "cell_type": "markdown",
   "metadata": {},
   "source": [
    "## Causal Language Modeling\n",
    "\n",
    "In causal language modeling, we are attempting to predict the next token given those before it."
   ]
  },
  {
   "cell_type": "code",
   "execution_count": null,
   "metadata": {},
   "outputs": [
    {
     "name": "stderr",
     "output_type": "stream",
     "text": [
      "Using pad_token, but it is not set yet.\n"
     ]
    }
   ],
   "source": [
    "model_cls = AutoModelForCausalLM\n",
    "\n",
    "pretrained_model_name = \"gpt2\"\n",
    "hf_arch, hf_config, hf_tokenizer, hf_model = BLURR.get_hf_objects(pretrained_model_name, model_cls=model_cls)\n",
    "\n",
    "if (hf_tokenizer.pad_token is None): hf_tokenizer.pad_token = '[PAD]'"
   ]
  },
  {
   "cell_type": "code",
   "execution_count": null,
   "metadata": {},
   "outputs": [],
   "source": [
    "bbtfm = HF_LMBeforeBatchTransform(hf_arch, hf_config, hf_tokenizer, hf_model, lm_strategy_cls=CausalLMStrategy)\n",
    "blocks = (HF_TextBlock(before_batch_tfm=bbtfm, input_return_type=HF_CausalLMInput), noop)\n",
    "\n",
    "dblock = DataBlock(blocks=blocks, get_x=ColReader(0), splitter=ColSplitter(col='is_valid'))"
   ]
  },
  {
   "cell_type": "code",
   "execution_count": null,
   "metadata": {},
   "outputs": [],
   "source": [
    "dls = dblock.dataloaders(df, bs=2)"
   ]
  },
  {
   "cell_type": "code",
   "execution_count": null,
   "metadata": {},
   "outputs": [
    {
     "data": {
      "text/plain": [
       "(torch.Size([2, 1024]), torch.Size([2, 1024]), torch.Size([2, 1024]))"
      ]
     },
     "execution_count": null,
     "metadata": {},
     "output_type": "execute_result"
    }
   ],
   "source": [
    "b = dls.one_batch()\n",
    "b[0]['input_ids'].shape, b[0]['labels'].shape, b[1].shape"
   ]
  },
  {
   "cell_type": "code",
   "execution_count": null,
   "metadata": {},
   "outputs": [
    {
     "data": {
      "text/html": [
       "<table border=\"1\" class=\"dataframe\">\n",
       "  <thead>\n",
       "    <tr style=\"text-align: right;\">\n",
       "      <th></th>\n",
       "      <th>text</th>\n",
       "      <th>target</th>\n",
       "    </tr>\n",
       "  </thead>\n",
       "  <tbody>\n",
       "    <tr>\n",
       "      <th>0</th>\n",
       "      <td>\\n = Bob Dylan = \\n \\n Bob Dylan ( / &lt;unk&gt; / ; born Robert Allen Zimmerman, May 24, 1941 ) is an American singer @-@ songwriter, artist and writer. He has been influential in popular music and culture for more than five decades. Much of his most celebrated work dates from the 1960s when his songs chronicled social unrest, although Dylan repudiated suggestions from journalists that he was a spokesman for his generation. Nevertheless, early songs such as \" Blowin'in the Wind \" and \" The Times They A</td>\n",
       "      <td>\\n = Bob Dylan = \\n \\n Bob Dylan ( / &lt;unk&gt; / ; born Robert Allen Zimmerman, May 24, 1941 ) is an American singer @-@ songwriter, artist and writer. He has been influential in popular music and culture for more than five decades. Much of his most celebrated work dates from the 1960s when his songs chronicled social unrest, although Dylan repudiated suggestions from journalists that he was a spokesman for his generation. Nevertheless, early songs such as \" Blowin'in the Wind \" and \" The Times They Ar</td>\n",
       "    </tr>\n",
       "    <tr>\n",
       "      <th>1</th>\n",
       "      <td>\\n = Laurence Olivier = \\n \\n Laurence Kerr Olivier, Baron Olivier, &lt;unk&gt; ( / &lt;unk&gt; &lt;unk&gt; &lt;unk&gt; / ; 22 May 1907 – 11 July 1989 ) was an English actor who, along with his contemporaries Ralph Richardson and John Gielgud, dominated the British stage of the mid @-@ 20th century. He also worked in films throughout his career, playing more than fifty cinema roles. Late in his career, he had considerable success in television roles. \\n His family had no theatrical connections, but Olivier's father, a cle</td>\n",
       "      <td>\\n = Laurence Olivier = \\n \\n Laurence Kerr Olivier, Baron Olivier, &lt;unk&gt; ( / &lt;unk&gt; &lt;unk&gt; &lt;unk&gt; / ; 22 May 1907 – 11 July 1989 ) was an English actor who, along with his contemporaries Ralph Richardson and John Gielgud, dominated the British stage of the mid @-@ 20th century. He also worked in films throughout his career, playing more than fifty cinema roles. Late in his career, he had considerable success in television roles. \\n His family had no theatrical connections, but Olivier's father, a cler</td>\n",
       "    </tr>\n",
       "  </tbody>\n",
       "</table>"
      ],
      "text/plain": [
       "<IPython.core.display.HTML object>"
      ]
     },
     "metadata": {},
     "output_type": "display_data"
    }
   ],
   "source": [
    "dls.show_batch(dataloaders=dls, max_n=2, trunc_at=500)"
   ]
  },
  {
   "cell_type": "code",
   "execution_count": null,
   "metadata": {},
   "outputs": [],
   "source": [
    "model = HF_BaseModelWrapper(hf_model)\n",
    "fit_cbs = [LM_MetricsCallback()]\n",
    "\n",
    "learn = Learner(dls, \n",
    "                model,\n",
    "                opt_func=partial(Adam),\n",
    "                loss_func=HF_PreCalculatedLoss(),\n",
    "                cbs=[HF_BaseModelCallback],\n",
    "                metrics=[perplexity],\n",
    "                splitter=hf_splitter).to_fp16()\n",
    "\n",
    "learn.freeze()"
   ]
  },
  {
   "cell_type": "code",
   "execution_count": null,
   "metadata": {},
   "outputs": [
    {
     "data": {
      "text/html": [],
      "text/plain": [
       "<IPython.core.display.HTML object>"
      ]
     },
     "metadata": {},
     "output_type": "display_data"
    },
    {
     "data": {
      "text/plain": [
       "HF_BaseModelWrapper (Input shape: 2)\n",
       "============================================================================\n",
       "Layer (type)         Output Shape         Param #    Trainable \n",
       "============================================================================\n",
       "                     2 x 1024 x 768      \n",
       "Embedding                                 38597376   False     \n",
       "Embedding                                 786432     False     \n",
       "Dropout                                                        \n",
       "LayerNorm                                 1536       True      \n",
       "____________________________________________________________________________\n",
       "                     2 x 1024 x 2304     \n",
       "Conv1D                                    1771776    False     \n",
       "Conv1D                                    590592     False     \n",
       "Dropout                                                        \n",
       "Dropout                                                        \n",
       "LayerNorm                                 1536       True      \n",
       "____________________________________________________________________________\n",
       "                     2 x 1024 x 3072     \n",
       "Conv1D                                    2362368    False     \n",
       "____________________________________________________________________________\n",
       "                     2 x 1024 x 768      \n",
       "Conv1D                                    2360064    False     \n",
       "Dropout                                                        \n",
       "LayerNorm                                 1536       True      \n",
       "____________________________________________________________________________\n",
       "                     2 x 1024 x 2304     \n",
       "Conv1D                                    1771776    False     \n",
       "Conv1D                                    590592     False     \n",
       "Dropout                                                        \n",
       "Dropout                                                        \n",
       "LayerNorm                                 1536       True      \n",
       "____________________________________________________________________________\n",
       "                     2 x 1024 x 3072     \n",
       "Conv1D                                    2362368    False     \n",
       "____________________________________________________________________________\n",
       "                     2 x 1024 x 768      \n",
       "Conv1D                                    2360064    False     \n",
       "Dropout                                                        \n",
       "LayerNorm                                 1536       True      \n",
       "____________________________________________________________________________\n",
       "                     2 x 1024 x 2304     \n",
       "Conv1D                                    1771776    False     \n",
       "Conv1D                                    590592     False     \n",
       "Dropout                                                        \n",
       "Dropout                                                        \n",
       "LayerNorm                                 1536       True      \n",
       "____________________________________________________________________________\n",
       "                     2 x 1024 x 3072     \n",
       "Conv1D                                    2362368    False     \n",
       "____________________________________________________________________________\n",
       "                     2 x 1024 x 768      \n",
       "Conv1D                                    2360064    False     \n",
       "Dropout                                                        \n",
       "LayerNorm                                 1536       True      \n",
       "____________________________________________________________________________\n",
       "                     2 x 1024 x 2304     \n",
       "Conv1D                                    1771776    False     \n",
       "Conv1D                                    590592     False     \n",
       "Dropout                                                        \n",
       "Dropout                                                        \n",
       "LayerNorm                                 1536       True      \n",
       "____________________________________________________________________________\n",
       "                     2 x 1024 x 3072     \n",
       "Conv1D                                    2362368    False     \n",
       "____________________________________________________________________________\n",
       "                     2 x 1024 x 768      \n",
       "Conv1D                                    2360064    False     \n",
       "Dropout                                                        \n",
       "LayerNorm                                 1536       True      \n",
       "____________________________________________________________________________\n",
       "                     2 x 1024 x 2304     \n",
       "Conv1D                                    1771776    False     \n",
       "Conv1D                                    590592     False     \n",
       "Dropout                                                        \n",
       "Dropout                                                        \n",
       "LayerNorm                                 1536       True      \n",
       "____________________________________________________________________________\n",
       "                     2 x 1024 x 3072     \n",
       "Conv1D                                    2362368    False     \n",
       "____________________________________________________________________________\n",
       "                     2 x 1024 x 768      \n",
       "Conv1D                                    2360064    False     \n",
       "Dropout                                                        \n",
       "LayerNorm                                 1536       True      \n",
       "____________________________________________________________________________\n",
       "                     2 x 1024 x 2304     \n",
       "Conv1D                                    1771776    False     \n",
       "Conv1D                                    590592     False     \n",
       "Dropout                                                        \n",
       "Dropout                                                        \n",
       "LayerNorm                                 1536       True      \n",
       "____________________________________________________________________________\n",
       "                     2 x 1024 x 3072     \n",
       "Conv1D                                    2362368    False     \n",
       "____________________________________________________________________________\n",
       "                     2 x 1024 x 768      \n",
       "Conv1D                                    2360064    False     \n",
       "Dropout                                                        \n",
       "LayerNorm                                 1536       True      \n",
       "____________________________________________________________________________\n",
       "                     2 x 1024 x 2304     \n",
       "Conv1D                                    1771776    False     \n",
       "Conv1D                                    590592     False     \n",
       "Dropout                                                        \n",
       "Dropout                                                        \n",
       "LayerNorm                                 1536       True      \n",
       "____________________________________________________________________________\n",
       "                     2 x 1024 x 3072     \n",
       "Conv1D                                    2362368    False     \n",
       "____________________________________________________________________________\n",
       "                     2 x 1024 x 768      \n",
       "Conv1D                                    2360064    False     \n",
       "Dropout                                                        \n",
       "LayerNorm                                 1536       True      \n",
       "____________________________________________________________________________\n",
       "                     2 x 1024 x 2304     \n",
       "Conv1D                                    1771776    False     \n",
       "Conv1D                                    590592     False     \n",
       "Dropout                                                        \n",
       "Dropout                                                        \n",
       "LayerNorm                                 1536       True      \n",
       "____________________________________________________________________________\n",
       "                     2 x 1024 x 3072     \n",
       "Conv1D                                    2362368    False     \n",
       "____________________________________________________________________________\n",
       "                     2 x 1024 x 768      \n",
       "Conv1D                                    2360064    False     \n",
       "Dropout                                                        \n",
       "LayerNorm                                 1536       True      \n",
       "____________________________________________________________________________\n",
       "                     2 x 1024 x 2304     \n",
       "Conv1D                                    1771776    False     \n",
       "Conv1D                                    590592     False     \n",
       "Dropout                                                        \n",
       "Dropout                                                        \n",
       "LayerNorm                                 1536       True      \n",
       "____________________________________________________________________________\n",
       "                     2 x 1024 x 3072     \n",
       "Conv1D                                    2362368    False     \n",
       "____________________________________________________________________________\n",
       "                     2 x 1024 x 768      \n",
       "Conv1D                                    2360064    False     \n",
       "Dropout                                                        \n",
       "LayerNorm                                 1536       True      \n",
       "____________________________________________________________________________\n",
       "                     2 x 1024 x 2304     \n",
       "Conv1D                                    1771776    False     \n",
       "Conv1D                                    590592     False     \n",
       "Dropout                                                        \n",
       "Dropout                                                        \n",
       "LayerNorm                                 1536       True      \n",
       "____________________________________________________________________________\n",
       "                     2 x 1024 x 3072     \n",
       "Conv1D                                    2362368    False     \n",
       "____________________________________________________________________________\n",
       "                     2 x 1024 x 768      \n",
       "Conv1D                                    2360064    False     \n",
       "Dropout                                                        \n",
       "LayerNorm                                 1536       True      \n",
       "____________________________________________________________________________\n",
       "                     2 x 1024 x 2304     \n",
       "Conv1D                                    1771776    False     \n",
       "Conv1D                                    590592     False     \n",
       "Dropout                                                        \n",
       "Dropout                                                        \n",
       "LayerNorm                                 1536       True      \n",
       "____________________________________________________________________________\n",
       "                     2 x 1024 x 3072     \n",
       "Conv1D                                    2362368    False     \n",
       "____________________________________________________________________________\n",
       "                     2 x 1024 x 768      \n",
       "Conv1D                                    2360064    False     \n",
       "Dropout                                                        \n",
       "LayerNorm                                 1536       True      \n",
       "____________________________________________________________________________\n",
       "                     2 x 1024 x 2304     \n",
       "Conv1D                                    1771776    False     \n",
       "Conv1D                                    590592     False     \n",
       "Dropout                                                        \n",
       "Dropout                                                        \n",
       "LayerNorm                                 1536       True      \n",
       "____________________________________________________________________________\n",
       "                     2 x 1024 x 3072     \n",
       "Conv1D                                    2362368    False     \n",
       "____________________________________________________________________________\n",
       "                     2 x 1024 x 768      \n",
       "Conv1D                                    2360064    False     \n",
       "Dropout                                                        \n",
       "LayerNorm                                 1536       True      \n",
       "____________________________________________________________________________\n",
       "                     2 x 1024 x 50257    \n",
       "Linear                                    38597376   False     \n",
       "____________________________________________________________________________\n",
       "\n",
       "Total params: 163,037,184\n",
       "Total trainable params: 38,400\n",
       "Total non-trainable params: 162,998,784\n",
       "\n",
       "Optimizer used: functools.partial(<function Adam at 0x7fea62df8820>)\n",
       "Loss function: <blurr.modeling.core.HF_PreCalculatedLoss object at 0x7fea4722e5e0>\n",
       "\n",
       "Model frozen up to parameter group #4\n",
       "\n",
       "Callbacks:\n",
       "  - TrainEvalCallback\n",
       "  - HF_BaseModelCallback\n",
       "  - MixedPrecision\n",
       "  - Recorder\n",
       "  - ProgressCallback"
      ]
     },
     "execution_count": null,
     "metadata": {},
     "output_type": "execute_result"
    }
   ],
   "source": [
    "learn.summary()"
   ]
  },
  {
   "cell_type": "code",
   "execution_count": null,
   "metadata": {},
   "outputs": [],
   "source": [
    "# b = dls.one_batch()\n",
    "# preds = learn.model(b[0])\n",
    "# len(preds),preds[0], preds[1].shape"
   ]
  },
  {
   "cell_type": "code",
   "execution_count": null,
   "metadata": {},
   "outputs": [
    {
     "name": "stdout",
     "output_type": "stream",
     "text": [
      "5\n"
     ]
    }
   ],
   "source": [
    "print(len(learn.opt.param_groups))"
   ]
  },
  {
   "cell_type": "code",
   "execution_count": null,
   "metadata": {},
   "outputs": [
    {
     "data": {
      "text/html": [],
      "text/plain": [
       "<IPython.core.display.HTML object>"
      ]
     },
     "metadata": {},
     "output_type": "display_data"
    },
    {
     "name": "stderr",
     "output_type": "stream",
     "text": [
      "/home/wgilliam/miniconda3/envs/blurr/lib/python3.9/site-packages/fastai/callback/schedule.py:270: UserWarning: color is redundantly defined by the 'color' keyword argument and the fmt string \"ro\" (-> color='r'). The keyword argument will take precedence.\n",
      "  ax.plot(val, idx, 'ro', label=nm, c=color)\n"
     ]
    },
    {
     "data": {
      "text/plain": [
       "SuggestedLRs(minimum=0.15848932266235352, steep=1.3182567358016968, valley=0.0006918309954926372, slide=0.2089296132326126)"
      ]
     },
     "execution_count": null,
     "metadata": {},
     "output_type": "execute_result"
    },
    {
     "data": {
      "image/png": "[encoded data removed]",
      "text/plain": [
       "<Figure size 640x480 with 1 Axes>"
      ]
     },
     "metadata": {},
     "output_type": "display_data"
    }
   ],
   "source": [
    "learn.lr_find(suggest_funcs=[minimum, steep, valley, slide])"
   ]
  },
  {
   "cell_type": "code",
   "execution_count": null,
   "metadata": {},
   "outputs": [
    {
     "data": {
      "text/html": [
       "<table border=\"1\" class=\"dataframe\">\n",
       "  <thead>\n",
       "    <tr style=\"text-align: left;\">\n",
       "      <th>epoch</th>\n",
       "      <th>train_loss</th>\n",
       "      <th>valid_loss</th>\n",
       "      <th>perplexity</th>\n",
       "      <th>lm_accuracy</th>\n",
       "      <th>time</th>\n",
       "    </tr>\n",
       "  </thead>\n",
       "  <tbody>\n",
       "    <tr>\n",
       "      <td>0</td>\n",
       "      <td>3.039621</td>\n",
       "      <td>2.801684</td>\n",
       "      <td>16.472361</td>\n",
       "      <td>0.457967</td>\n",
       "      <td>01:47</td>\n",
       "    </tr>\n",
       "  </tbody>\n",
       "</table>"
      ],
      "text/plain": [
       "<IPython.core.display.HTML object>"
      ]
     },
     "metadata": {},
     "output_type": "display_data"
    }
   ],
   "source": [
    "learn.fit_one_cycle(1, lr_max=3e-3, cbs=fit_cbs)"
   ]
  },
  {
   "cell_type": "code",
   "execution_count": null,
   "metadata": {},
   "outputs": [],
   "source": [
    "#export\n",
    "@typedispatch\n",
    "def show_results(\n",
    "    x:HF_CausalLMInput, \n",
    "    y, \n",
    "    samples, \n",
    "    outs, \n",
    "    learner, \n",
    "    ctxs=None, \n",
    "    max_n=6, \n",
    "    trunc_at=None, \n",
    "    **kwargs\n",
    "):  \n",
    "    # grab our tokenizer and ignore token to decode\n",
    "    tfm = first_blurr_tfm(learner.dls)\n",
    "    \n",
    "    hf_config = tfm.hf_config\n",
    "    hf_tokenizer = tfm.hf_tokenizer\n",
    "    ignore_token_id = tfm.ignore_token_id\n",
    "    \n",
    "    res = L([(\n",
    "        hf_tokenizer.decode(s[0], skip_special_tokens=True)[:trunc_at], \n",
    "        hf_tokenizer.decode(s[1][s[1] != ignore_token_id], skip_special_tokens=True)[:trunc_at], \n",
    "        hf_tokenizer.decode(pred[0], skip_special_tokens=True)[:trunc_at], \n",
    "    ) for s, pred in zip(samples, outs) ])          \n",
    "    \n",
    "    display_df(pd.DataFrame(res, columns=['text', 'target', 'prediction'])[:max_n])\n",
    "    return ctxs"
   ]
  },
  {
   "cell_type": "code",
   "execution_count": null,
   "metadata": {},
   "outputs": [
    {
     "data": {
      "text/html": [],
      "text/plain": [
       "<IPython.core.display.HTML object>"
      ]
     },
     "metadata": {},
     "output_type": "display_data"
    },
    {
     "data": {
      "text/html": [
       "<table border=\"1\" class=\"dataframe\">\n",
       "  <thead>\n",
       "    <tr style=\"text-align: right;\">\n",
       "      <th></th>\n",
       "      <th>text</th>\n",
       "      <th>target</th>\n",
       "      <th>prediction</th>\n",
       "    </tr>\n",
       "  </thead>\n",
       "  <tbody>\n",
       "    <tr>\n",
       "      <th>0</th>\n",
       "      <td>\\n = Military history of Australia = \\n \\n The military history of Australia spans the nation's 220 @-@ year modern history, from the early Australian frontier wars between &lt;unk&gt; and Europeans to the ongoing conflicts in Iraq and Afghanistan in the ear</td>\n",
       "      <td>\\n = Military history of Australia = \\n \\n The military history of Australia spans the nation's 220 @-@ year modern history, from the early Australian frontier wars between &lt;unk&gt; and Europeans to the ongoing conflicts in Iraq and Afghanistan in the earl</td>\n",
       "      <td>\\n = The History = the = \\n \\n  Australian history of Australia is the period froms history years @@ century history history. from the early days colonies to to theunk&gt; to &lt; to the early conflict between the and Afghanistan. the late 20st century.  the</td>\n",
       "    </tr>\n",
       "    <tr>\n",
       "      <th>1</th>\n",
       "      <td>\\n = Air Rhodesia Flight &lt;unk&gt; = \\n \\n Air Rhodesia Flight &lt;unk&gt; was a scheduled passenger flight that was shot down by the Zimbabwe People's Revolutionary Army ( &lt;unk&gt; ) on 3 September 1978, during the Rhodesian Bush War. The aircraft involved, a Vick</td>\n",
       "      <td>\\n = Air Rhodesia Flight &lt;unk&gt; = \\n \\n Air Rhodesia Flight &lt;unk&gt; was a scheduled passenger flight that was shot down by the Zimbabwe People's Revolutionary Army ( &lt;unk&gt; ) on 3 September 1978, during the Rhodesian Bush War. The aircraft involved, a Vicke</td>\n",
       "      <td>\\n = The Force = = # /&gt; = \\n Air\\n Air Rhodesia Flight (unk&gt; was a flight flight flight from was scheduled down by a Sovietan'ss Army Army (Zunk&gt; ) on July August 1944. killing a countryian militaryi. The flight was in which Boeingickers 'ickersount, \"</td>\n",
       "    </tr>\n",
       "  </tbody>\n",
       "</table>"
      ],
      "text/plain": [
       "<IPython.core.display.HTML object>"
      ]
     },
     "metadata": {},
     "output_type": "display_data"
    }
   ],
   "source": [
    "learn.show_results(learner=learn, trunc_at=250)"
   ]
  },
  {
   "cell_type": "code",
   "execution_count": null,
   "metadata": {},
   "outputs": [
    {
     "data": {
      "text/plain": [
       "[' Blurr is fun to work with because it is difficult to write a novel without feeling like something has been written and written that someone else has written. The problem of writing a novel that has been done without a synopsis is one that the average person']"
      ]
     },
     "execution_count": null,
     "metadata": {},
     "output_type": "execute_result"
    }
   ],
   "source": [
    "learn.blurr_generate('Blurr is fun to work with because', max_length=50, do_sample=True, top_k=25)"
   ]
  },
  {
   "cell_type": "markdown",
   "metadata": {},
   "source": [
    "## Masked Language Modeling\n",
    "\n",
    "In masked language modeling (MLM), we are attempting to predict the ***masked*** tokens. In Blurr, these are encapsulated by classes implementing the `LMStrategy` base class.\n",
    "\n",
    "For a list of some of the more common strategies, see table 3 of the [Exploring the Limits of Transfer Learning with a Unified Text-to-Text Transformer](https://arxiv.org/abs/1910.10683) paper.  When fine-tuning a MLM model. you'll want to make sure you use the same approach as the model authors should you be looking to reproduce their results ... but our approach here makes it easy to play with different strategies regardless.\n",
    "\n",
    "In the example below, we'll tell Blurr we want to use the BERT-style masking strategy."
   ]
  },
  {
   "cell_type": "code",
   "execution_count": null,
   "metadata": {},
   "outputs": [],
   "source": [
    "#hide\n",
    "try: del learn; torch.cuda.empty_cache()\n",
    "except: pass"
   ]
  },
  {
   "cell_type": "code",
   "execution_count": null,
   "metadata": {},
   "outputs": [],
   "source": [
    "model_cls = AutoModelForMaskedLM\n",
    "\n",
    "pretrained_model_name = \"distilroberta-base\"\n",
    "hf_arch, hf_config, hf_tokenizer, hf_model = BLURR.get_hf_objects(pretrained_model_name, model_cls=model_cls)"
   ]
  },
  {
   "cell_type": "code",
   "execution_count": null,
   "metadata": {},
   "outputs": [],
   "source": [
    "bbtfm = HF_LMBeforeBatchTransform(hf_arch, hf_config, hf_tokenizer, hf_model, lm_strategy_cls=BertMLMStrategy)\n",
    "blocks = (HF_TextBlock(before_batch_tfm=bbtfm, input_return_type=HF_MLMInput), noop)\n",
    "\n",
    "dblock = DataBlock(blocks=blocks, get_x=ColReader(0), splitter=ColSplitter(col='is_valid'))"
   ]
  },
  {
   "cell_type": "code",
   "execution_count": null,
   "metadata": {},
   "outputs": [],
   "source": [
    "dls = dblock.dataloaders(df, bs=2)"
   ]
  },
  {
   "cell_type": "code",
   "execution_count": null,
   "metadata": {},
   "outputs": [
    {
     "data": {
      "text/plain": [
       "(torch.Size([2, 512]), torch.Size([2, 512]), torch.Size([2, 512]))"
      ]
     },
     "execution_count": null,
     "metadata": {},
     "output_type": "execute_result"
    }
   ],
   "source": [
    "b = dls.one_batch()\n",
    "b[0]['input_ids'].shape, b[0]['labels'].shape, b[1].shape"
   ]
  },
  {
   "cell_type": "code",
   "execution_count": null,
   "metadata": {},
   "outputs": [
    {
     "data": {
      "text/html": [
       "<table border=\"1\" class=\"dataframe\">\n",
       "  <thead>\n",
       "    <tr style=\"text-align: right;\">\n",
       "      <th></th>\n",
       "      <th>text</th>\n",
       "      <th>target</th>\n",
       "    </tr>\n",
       "  </thead>\n",
       "  <tbody>\n",
       "    <tr>\n",
       "      <th>0</th>\n",
       "      <td>= [ Bob] &lt;mask&gt;  =   \\n   \\n  Bob &lt;mask&gt; &lt;mask&gt; [ Slater]    /  ;  born  Robert  Allen  Zimmerman , &lt;mask&gt;  24 ,  1941  )  is  an  American  singer  @ - @  song writer ,  artist  and  writer .  He  has  been  influential  in [ popular]  music  and  culture  for  more &lt;mask&gt;  five &lt;mask&gt; .  Much  of  his  most [ celebrated]  work  dates  from  the  1960 s  when  his  songs  chronic led  social  unrest ,  although  Dylan  repud iated  suggestions  from  journalists  that  he  was  a  spokesman [ appell]  his  generation .  Nevertheless ,  early  songs  such  as  \"  Blow in [ '] &lt;mask&gt;  the  Wind &lt;mask&gt;  and  \"  The &lt;mask&gt;  They [ striving]  a  @ - &lt;mask&gt;    '  \"  became  an the ms  for  the [ American]  civil  rights  and  anti  @ - @  war  movements .  After  he &lt;mask&gt;  his  initial  base  in  the  American  folk &lt;mask&gt;  revival ,  his &lt;mask&gt; &lt;mask&gt; - @  minute  single  \"  Like [ a]  Rolling &lt;mask&gt;  \"  altered  the  range [ of]  popular  music &lt;mask&gt;  1965 &lt;mask&gt;  His  mid  @ - @  1960 s  recordings ,  backed  by  rock  musicians ,  reached  the  top  end &lt;mask&gt;  the &lt;mask&gt;  States &lt;mask&gt;  charts  while  also  attracting    and  criticism  from &lt;mask&gt;  in  the  folk  movement .   \\n  Dylan  ' s  lyrics &lt;mask&gt;  incorporated  various  political , &lt;mask&gt; &lt;mask&gt;  philosophical &lt;mask&gt;  and &lt;mask&gt;  influences .  They  defied  existing  pop  music  conventions  and  appealed  to  the &lt;mask&gt;  counter [culture] [ Treatment]  Initially  inspired  by &lt;mask&gt;  performances  of  Little  Richard  and &lt;mask&gt;</td>\n",
       "      <td>= [ Bob] [ Dylan]  =   \\n   \\n  Bob [ Dylan] [ (] [ /]    /  ;  born  Robert  Allen  Zimmerman , [ May]  24 ,  1941  )  is  an  American  singer  @ - @  song writer ,  artist  and  writer .  He  has  been  influential  in [ popular]  music  and  culture  for  more [ than]  five [ decades] .  Much  of  his  most [ celebrated]  work  dates  from  the  1960 s  when  his  songs  chronic led  social  unrest ,  although  Dylan  repud iated  suggestions  from  journalists  that  he  was  a  spokesman [ for]  his  generation .  Nevertheless ,  early  songs  such  as  \"  Blow in [ '] [ in]  the  Wind [ \"]  and  \"  The [ Times]  They [ Are]  a  @ - [@]    '  \"  became  an the ms  for  the [ American]  civil  rights  and  anti  @ - @  war  movements .  After  he [ left]  his  initial  base  in  the  American  folk [ music]  revival ,  his [ six] [ @] - @  minute  single  \"  Like [ a]  Rolling [ Stone]  \"  altered  the  range [ of]  popular  music [ in]  1965 [.]  His  mid  @ - @  1960 s  recordings ,  backed  by  rock  musicians ,  reached  the  top  end [ of]  the [ United]  States [ music]  charts  while  also  attracting    and  criticism  from [ others]  in  the  folk  movement .   \\n  Dylan  ' s  lyrics [ have]  incorporated  various  political , [ social] [,]  philosophical [,]  and [ literary]  influences .  They  defied  existing  pop  music  conventions  and  appealed  to  the [ burgeoning]  counter [culture] [.]  Initially  inspired  by [ the]  performances  of  Little  Richard  and [ the]</td>\n",
       "    </tr>\n",
       "    <tr>\n",
       "      <th>1</th>\n",
       "      <td>&lt;mask&gt;  Mort imer  Wheeler  =   \\n   \\n  Sir  Robert &lt;mask&gt;  Mort imer  Wheeler  CH &lt;mask&gt;   , &lt;mask&gt; &lt;mask&gt; &lt;mask&gt; , &lt;mask&gt; ,  F RS ,    (  10 &lt;mask&gt;  1890 &lt;mask&gt; &lt;mask&gt;  July  1976  )  was  a  British  archae ologist  and  officer  in  the  British  Army .  Over [ screenplay]  course &lt;mask&gt;  his  career , &lt;mask&gt;  served &lt;mask&gt;  Director  of  both  the  National  Museum  of  Wales  and  London  Museum ,  Director [usage] &lt;mask&gt; @  General  of  the  Archae ological  Survey  of  India ,  and  the  founder  and  Honor ary  Director  of  the  Institute  of  Archae ology  in  London ,  further &lt;mask&gt;  twenty  @ [Doug] @  four  books &lt;mask&gt;  archaeological  subjects .   &lt;mask&gt; &lt;mask&gt;  in  Glasgow  to  a &lt;mask&gt;  @ - @  class &lt;mask&gt; ,  Wheeler  was [ raised]  largely  in &lt;mask&gt;  before  rel ocating  to  London  in  his  teenage  years . [ After]  studying  Classics  at &lt;mask&gt;  College  London  (  U CL  ) , [ INV]  began  working  professionally  in  archae &lt;mask&gt; ,  specializing  in  the  Rom ano  @ - &lt;mask&gt;  British  period . &lt;mask&gt;  World  War  I  he  volunteered  for  service  in  the [ nudity]  Art illery , &lt;mask&gt;  stationed  on  the  Western  Front ,  where  he  rose  to  the  rank  of  major  and &lt;mask&gt;  awarded  the  Military  Cross .  Returning  to  Britain ,  he  obtained  his &lt;mask&gt; ate  from  U CL  before  taking  on  a  position  at  the  National  Museum  of  Wales ,  first &lt;mask&gt;  Keeper &lt;mask&gt;  Archae ology  and  then &lt;mask&gt; [ Director] , &lt;mask&gt;  which &lt;mask&gt;</td>\n",
       "      <td>[ =]  Mort imer  Wheeler  =   \\n   \\n  Sir  Robert [ Eric]  Mort imer  Wheeler  CH [,]   , [ MC] [,] [ ] , [ ] ,  F RS ,    (  10 [ September]  1890 [ –] [ 22]  July  1976  )  was  a  British  archae ologist  and  officer  in  the  British  Army .  Over [ the]  course [ of]  his  career , [ he]  served [ as]  Director  of  both  the  National  Museum  of  Wales  and  London  Museum ,  Director [ @] [-] @  General  of  the  Archae ological  Survey  of  India ,  and  the  founder  and  Honor ary  Director  of  the  Institute  of  Archae ology  in  London ,  further [ writing]  twenty  @ [-] @  four  books [ on]  archaeological  subjects .   [\\n] [ Born]  in  Glasgow  to  a [ middle]  @ - @  class [ family] ,  Wheeler  was [ raised]  largely  in [ Yorkshire]  before  rel ocating  to  London  in  his  teenage  years . [ After]  studying  Classics  at [ University]  College  London  (  U CL  ) , [ he]  began  working  professionally  in  archae [ology] ,  specializing  in  the  Rom ano  @ - [@]  British  period . [ During]  World  War  I  he  volunteered  for  service  in  the [ Royal]  Art illery , [ being]  stationed  on  the  Western  Front ,  where  he  rose  to  the  rank  of  major  and [ was]  awarded  the  Military  Cross .  Returning  to  Britain ,  he  obtained  his [ doctor] ate  from  U CL  before  taking  on  a  position  at  the  National  Museum  of  Wales ,  first [ as]  Keeper [ of]  Archae ology  and  then [ as] [ Director] , [ during]  which [ time]</td>\n",
       "    </tr>\n",
       "  </tbody>\n",
       "</table>"
      ],
      "text/plain": [
       "<IPython.core.display.HTML object>"
      ]
     },
     "metadata": {},
     "output_type": "display_data"
    }
   ],
   "source": [
    "dls.show_batch(dataloaders=dls, max_n=2, trunc_at=250)"
   ]
  },
  {
   "cell_type": "code",
   "execution_count": null,
   "metadata": {},
   "outputs": [],
   "source": [
    "model = HF_BaseModelWrapper(hf_model)\n",
    "fit_cbs = [LM_MetricsCallback()]\n",
    "\n",
    "learn = Learner(dls, \n",
    "                model,\n",
    "                opt_func=partial(Adam, decouple_wd=True),\n",
    "                loss_func= HF_PreCalculatedLoss(),\n",
    "                cbs=[HF_BaseModelCallback],\n",
    "                metrics=[perplexity],\n",
    "                splitter=hf_splitter).to_fp16()\n",
    "\n",
    "learn.freeze()"
   ]
  },
  {
   "cell_type": "code",
   "execution_count": null,
   "metadata": {},
   "outputs": [
    {
     "data": {
      "text/html": [],
      "text/plain": [
       "<IPython.core.display.HTML object>"
      ]
     },
     "metadata": {},
     "output_type": "display_data"
    },
    {
     "data": {
      "text/plain": [
       "HF_BaseModelWrapper (Input shape: 2)\n",
       "============================================================================\n",
       "Layer (type)         Output Shape         Param #    Trainable \n",
       "============================================================================\n",
       "                     2 x 512 x 768       \n",
       "Embedding                                 38603520   False     \n",
       "Embedding                                 394752     False     \n",
       "Embedding                                 768        False     \n",
       "LayerNorm                                 1536       True      \n",
       "Dropout                                                        \n",
       "Linear                                    590592     False     \n",
       "Linear                                    590592     False     \n",
       "Linear                                    590592     False     \n",
       "Dropout                                                        \n",
       "Linear                                    590592     False     \n",
       "LayerNorm                                 1536       True      \n",
       "Dropout                                                        \n",
       "____________________________________________________________________________\n",
       "                     2 x 512 x 3072      \n",
       "Linear                                    2362368    False     \n",
       "____________________________________________________________________________\n",
       "                     2 x 512 x 768       \n",
       "Linear                                    2360064    False     \n",
       "LayerNorm                                 1536       True      \n",
       "Dropout                                                        \n",
       "Linear                                    590592     False     \n",
       "Linear                                    590592     False     \n",
       "Linear                                    590592     False     \n",
       "Dropout                                                        \n",
       "Linear                                    590592     False     \n",
       "LayerNorm                                 1536       True      \n",
       "Dropout                                                        \n",
       "____________________________________________________________________________\n",
       "                     2 x 512 x 3072      \n",
       "Linear                                    2362368    False     \n",
       "____________________________________________________________________________\n",
       "                     2 x 512 x 768       \n",
       "Linear                                    2360064    False     \n",
       "LayerNorm                                 1536       True      \n",
       "Dropout                                                        \n",
       "Linear                                    590592     False     \n",
       "Linear                                    590592     False     \n",
       "Linear                                    590592     False     \n",
       "Dropout                                                        \n",
       "Linear                                    590592     False     \n",
       "LayerNorm                                 1536       True      \n",
       "Dropout                                                        \n",
       "____________________________________________________________________________\n",
       "                     2 x 512 x 3072      \n",
       "Linear                                    2362368    False     \n",
       "____________________________________________________________________________\n",
       "                     2 x 512 x 768       \n",
       "Linear                                    2360064    False     \n",
       "LayerNorm                                 1536       True      \n",
       "Dropout                                                        \n",
       "Linear                                    590592     False     \n",
       "Linear                                    590592     False     \n",
       "Linear                                    590592     False     \n",
       "Dropout                                                        \n",
       "Linear                                    590592     False     \n",
       "LayerNorm                                 1536       True      \n",
       "Dropout                                                        \n",
       "____________________________________________________________________________\n",
       "                     2 x 512 x 3072      \n",
       "Linear                                    2362368    False     \n",
       "____________________________________________________________________________\n",
       "                     2 x 512 x 768       \n",
       "Linear                                    2360064    False     \n",
       "LayerNorm                                 1536       True      \n",
       "Dropout                                                        \n",
       "Linear                                    590592     False     \n",
       "Linear                                    590592     False     \n",
       "Linear                                    590592     False     \n",
       "Dropout                                                        \n",
       "Linear                                    590592     False     \n",
       "LayerNorm                                 1536       True      \n",
       "Dropout                                                        \n",
       "____________________________________________________________________________\n",
       "                     2 x 512 x 3072      \n",
       "Linear                                    2362368    False     \n",
       "____________________________________________________________________________\n",
       "                     2 x 512 x 768       \n",
       "Linear                                    2360064    False     \n",
       "LayerNorm                                 1536       True      \n",
       "Dropout                                                        \n",
       "Linear                                    590592     False     \n",
       "Linear                                    590592     False     \n",
       "Linear                                    590592     False     \n",
       "Dropout                                                        \n",
       "Linear                                    590592     False     \n",
       "LayerNorm                                 1536       True      \n",
       "Dropout                                                        \n",
       "____________________________________________________________________________\n",
       "                     2 x 512 x 3072      \n",
       "Linear                                    2362368    False     \n",
       "____________________________________________________________________________\n",
       "                     2 x 512 x 768       \n",
       "Linear                                    2360064    False     \n",
       "LayerNorm                                 1536       True      \n",
       "Dropout                                                        \n",
       "Linear                                    590592     True      \n",
       "LayerNorm                                 1536       True      \n",
       "____________________________________________________________________________\n",
       "                     2 x 512 x 50265     \n",
       "Linear                                    38653785   False     \n",
       "____________________________________________________________________________\n",
       "\n",
       "Total params: 120,773,721\n",
       "Total trainable params: 612,096\n",
       "Total non-trainable params: 120,161,625\n",
       "\n",
       "Optimizer used: functools.partial(<function Adam at 0x7fea62df8820>, decouple_wd=True)\n",
       "Loss function: <blurr.modeling.core.HF_PreCalculatedLoss object at 0x7fea44e23880>\n",
       "\n",
       "Model frozen up to parameter group #2\n",
       "\n",
       "Callbacks:\n",
       "  - TrainEvalCallback\n",
       "  - HF_BaseModelCallback\n",
       "  - MixedPrecision\n",
       "  - Recorder\n",
       "  - ProgressCallback"
      ]
     },
     "execution_count": null,
     "metadata": {},
     "output_type": "execute_result"
    }
   ],
   "source": [
    "#hide_output\n",
    "learn.summary()"
   ]
  },
  {
   "cell_type": "code",
   "execution_count": null,
   "metadata": {},
   "outputs": [
    {
     "name": "stdout",
     "output_type": "stream",
     "text": [
      "3\n"
     ]
    }
   ],
   "source": [
    "print(len(learn.opt.param_groups))"
   ]
  },
  {
   "cell_type": "code",
   "execution_count": null,
   "metadata": {},
   "outputs": [
    {
     "data": {
      "text/html": [],
      "text/plain": [
       "<IPython.core.display.HTML object>"
      ]
     },
     "metadata": {},
     "output_type": "display_data"
    },
    {
     "name": "stderr",
     "output_type": "stream",
     "text": [
      "/home/wgilliam/miniconda3/envs/blurr/lib/python3.9/site-packages/fastai/callback/schedule.py:270: UserWarning: color is redundantly defined by the 'color' keyword argument and the fmt string \"ro\" (-> color='r'). The keyword argument will take precedence.\n",
      "  ax.plot(val, idx, 'ro', label=nm, c=color)\n"
     ]
    },
    {
     "data": {
      "text/plain": [
       "SuggestedLRs(minimum=0.0007585775572806596, steep=9.12010818865383e-07, valley=0.0003311311302240938, slide=0.0003981071640737355)"
      ]
     },
     "execution_count": null,
     "metadata": {},
     "output_type": "execute_result"
    },
    {
     "data": {
      "image/png": "[encoded data removed]",
      "text/plain": [
       "<Figure size 640x480 with 1 Axes>"
      ]
     },
     "metadata": {},
     "output_type": "display_data"
    }
   ],
   "source": [
    "learn.lr_find(suggest_funcs=[minimum, steep, valley, slide])"
   ]
  },
  {
   "cell_type": "code",
   "execution_count": null,
   "metadata": {},
   "outputs": [
    {
     "data": {
      "text/html": [
       "<table border=\"1\" class=\"dataframe\">\n",
       "  <thead>\n",
       "    <tr style=\"text-align: left;\">\n",
       "      <th>epoch</th>\n",
       "      <th>train_loss</th>\n",
       "      <th>valid_loss</th>\n",
       "      <th>perplexity</th>\n",
       "      <th>lm_accuracy</th>\n",
       "      <th>time</th>\n",
       "    </tr>\n",
       "  </thead>\n",
       "  <tbody>\n",
       "    <tr>\n",
       "      <td>0</td>\n",
       "      <td>1.801301</td>\n",
       "      <td>1.776143</td>\n",
       "      <td>5.907029</td>\n",
       "      <td>0.640817</td>\n",
       "      <td>00:31</td>\n",
       "    </tr>\n",
       "  </tbody>\n",
       "</table>"
      ],
      "text/plain": [
       "<IPython.core.display.HTML object>"
      ]
     },
     "metadata": {},
     "output_type": "display_data"
    }
   ],
   "source": [
    "learn.fit_one_cycle(1, lr_max=1e-4, cbs=fit_cbs)"
   ]
  },
  {
   "cell_type": "code",
   "execution_count": null,
   "metadata": {},
   "outputs": [],
   "source": [
    "#export\n",
    "@typedispatch\n",
    "def show_results(\n",
    "    x:HF_MLMInput,\n",
    "    y, \n",
    "    samples, \n",
    "    outs, \n",
    "    learner, \n",
    "    ctxs=None, \n",
    "    max_n=6, \n",
    "    trunc_at=None, \n",
    "    **kwargs\n",
    "):  \n",
    "    # grab our tokenizer and ignore token to decode\n",
    "    tfm = first_blurr_tfm(learner.dls)\n",
    "    \n",
    "    hf_config = tfm.hf_config\n",
    "    hf_tokenizer = tfm.hf_tokenizer\n",
    "    ignore_token_id = tfm.ignore_token_id\n",
    "    \n",
    "    # grab our mask token id and do-not-mask token ids\n",
    "    mask_token_id = hf_tokenizer.mask_token_id\n",
    "    \n",
    "    vocab = hf_tokenizer.get_vocab()\n",
    "    dnm_tok_ids = [ vocab[tok] for tok in list(hf_tokenizer.special_tokens_map.values()) \n",
    "                   if vocab[tok] != mask_token_id ]\n",
    "    \n",
    "    res = L()\n",
    "    for s, t in zip(samples, outs):\n",
    "        # exclue dnm tokens from input\n",
    "        inps = [ hf_tokenizer.decode(tok_id) \n",
    "                if (tok_id == mask_token_id or s[1][idx] == ignore_token_id) \n",
    "                else f'[{hf_tokenizer.decode(tok_id)}]' \n",
    "                for idx, tok_id in enumerate(s[0]) if (tok_id not in dnm_tok_ids) ]\n",
    "        \n",
    "        # replaced masked tokens with \"[{actual_token}]\"\n",
    "        trgs = [ hf_tokenizer.decode(s[0][idx]) \n",
    "                if (tok_id == ignore_token_id) \n",
    "                else f'[{hf_tokenizer.decode(tok_id)}]'\n",
    "                for idx, tok_id in enumerate(s[1]) if (s[0][idx] not in dnm_tok_ids) ]\n",
    "\n",
    "        # same as above except we replace the [MASK] with the PREDICTED token\n",
    "        preds = [ hf_tokenizer.decode(s[0][idx])\n",
    "                 if (tok_id == ignore_token_id) \n",
    "                 else f'[{hf_tokenizer.decode(t[0][idx])}]' \n",
    "                 for idx, tok_id in enumerate(s[1]) if (s[0][idx] not in dnm_tok_ids) ]\n",
    "  \n",
    "        res.append((' '.join(inps[:trunc_at]).strip(), \n",
    "                    ' '.join(trgs[:trunc_at]).strip(),\n",
    "                    ' '.join(preds[:trunc_at]).strip()))\n",
    "    \n",
    "    display_df(pd.DataFrame(res, columns=['text', 'target', 'prediction'])[:max_n])\n",
    "    return ctxs"
   ]
  },
  {
   "cell_type": "code",
   "execution_count": null,
   "metadata": {},
   "outputs": [
    {
     "data": {
      "text/html": [],
      "text/plain": [
       "<IPython.core.display.HTML object>"
      ]
     },
     "metadata": {},
     "output_type": "display_data"
    },
    {
     "data": {
      "text/html": [
       "<table border=\"1\" class=\"dataframe\">\n",
       "  <thead>\n",
       "    <tr style=\"text-align: right;\">\n",
       "      <th></th>\n",
       "      <th>text</th>\n",
       "      <th>target</th>\n",
       "      <th>prediction</th>\n",
       "    </tr>\n",
       "  </thead>\n",
       "  <tbody>\n",
       "    <tr>\n",
       "      <th>0</th>\n",
       "      <td>&lt;mask&gt;  =  Military  history  of  Australia  = [  ] [\\n]   \\n  The  military  history  of  Australia [ spans]  the  nation  ' s  220  @ - @ [767]  modern  history ,  from  the  early  Australian [ Norton]  wars  between &lt;mask&gt;  and  Europeans &lt;mask&gt; &lt;mask&gt;  ongoing  conflicts &lt;mask&gt;  Iraq  and &lt;mask&gt;  in  the  early  21 st &lt;mask&gt; &lt;mask&gt;  Although  this  history &lt;mask&gt;  short  when  compared  to  that  of  many &lt;mask&gt;  nations ,  Australia  has  been  involved  in  numerous  conflicts &lt;mask&gt;  wars ,  and  war  and [ makes]  service  have  been  significant &lt;mask&gt;  on  Australian  society &lt;mask&gt; &lt;mask&gt; &lt;mask&gt; ,  including  the  An zac  spirit .  The  relationship  between  war  and  Australian  society  has &lt;mask&gt;  been  shaped  by  the  enduring &lt;mask&gt;  of &lt;mask&gt;  strategic  culture &lt;mask&gt;  its  unique  security  dilemma .   \\n  As  British   , &lt;mask&gt;  Australian &lt;mask&gt;  participated  in  Britain  ' s  small  wars  of  the  19 th  century ,  while  later  as  a   [ dominion] ,  and  then  an  independent &lt;mask&gt; ,  Australia &lt;mask&gt;  in  the  First  World  War  and  Second &lt;mask&gt;  War &lt;mask&gt;  as &lt;mask&gt;  as &lt;mask&gt;  the  wars  in  Korea ,  Mal aya ,  B orne o &lt;mask&gt;  Vietnam  during  the &lt;mask&gt;  War .  In  the  Post  @ - @  Vietnam  era  Australian  forces  have  been  involved &lt;mask&gt;  numerous  international  peace keeping  missions ,  through  the  United  Nations  and  other &lt;mask&gt; ,  including  in  the  Sinai ,  Persian  Gulf ,   ,  Somalia ,  East &lt;mask&gt; or  and  the  Solomon  Islands ,  while  more  recently  they  have  also  fought</td>\n",
       "      <td>[\\n]  =  Military  history  of  Australia  = [ ] [\\n]   \\n  The  military  history  of  Australia [ spans]  the  nation  ' s  220  @ - @ [ year]  modern  history ,  from  the  early  Australian [ frontier]  wars  between [ ]  and  Europeans [ to] [ the]  ongoing  conflicts [ in]  Iraq  and [ Afghanistan]  in  the  early  21 st [ century] [.]  Although  this  history [ is]  short  when  compared  to  that  of  many [ other]  nations ,  Australia  has  been  involved  in  numerous  conflicts [ and]  wars ,  and  war  and [ military]  service  have  been  significant [ influences]  on  Australian  society [ and] [ national] [ identity] ,  including  the  An zac  spirit .  The  relationship  between  war  and  Australian  society  has [ also]  been  shaped  by  the  enduring [ themes]  of [ Australian]  strategic  culture [ and]  its  unique  security  dilemma .   \\n  As  British   , [ the]  Australian [ colonies]  participated  in  Britain  ' s  small  wars  of  the  19 th  century ,  while  later  as  a   [ dominion] ,  and  then  an  independent [ nation] ,  Australia [ fought]  in  the  First  World  War  and  Second [ World]  War [,]  as [ well]  as [ in]  the  wars  in  Korea ,  Mal aya ,  B orne o [ and]  Vietnam  during  the [ Cold]  War .  In  the  Post  @ - @  Vietnam  era  Australian  forces  have  been  involved [ in]  numerous  international  peace keeping  missions ,  through  the  United  Nations  and  other [ agencies] ,  including  in  the  Sinai ,  Persian  Gulf ,   ,  Somalia ,  East [ Tim] or  and  the  Solomon  Islands ,  while  more  recently  they  have  also  fought</td>\n",
       "      <td>[\\n]  =  Military  history  of  Australia  = [ ] [ ]   \\n  The  military  history  of  Australia [ spans]  the  nation  ' s  220  @ - @ [ =]  modern  history ,  from  the  early  Australian [ colonial]  wars  between [ ]  and  Europeans [ to] [ the]  ongoing  conflicts [ in]  Iraq  and [ Afghanistan]  in  the  early  21 st [ century] [.]  Although  this  history [ falls]  short  when  compared  to  that  of  many [ other]  nations ,  Australia  has  been  involved  in  numerous  conflicts [,]  wars ,  and  war  and [ military]  service  have  been  significant [ influences]  on  Australian  society [ and] [ ] [ history] ,  including  the  An zac  spirit .  The  relationship  between  war  and  Australian  society  has [ also]  been  shaped  by  the  enduring [ influence]  of [ its]  strategic  culture [ and]  its  unique  security  dilemma .   \\n  As  British   , [ the]  Australian [ forces]  participated  in  Britain  ' s  small  wars  of  the  19 th  century ,  while  later  as  a   [ dominion] ,  and  then  an  independent [ nation] ,  Australia [ participated]  in  the  First  World  War  and  Second [ World]  War [,]  as [ well]  as [ in]  the  wars  in  Korea ,  Mal aya ,  B orne o [ and]  Vietnam  during  the [ Vietnam]  War .  In  the  Post  @ - @  Vietnam  era  Australian  forces  have  been  involved [ in]  numerous  international  peace keeping  missions ,  through  the  United  Nations  and  other [ countries] ,  including  in  the  Sinai ,  Persian  Gulf ,   ,  Somalia ,  East [ Tim] or  and  the  Solomon  Islands ,  while  more  recently  they  have  also  fought</td>\n",
       "    </tr>\n",
       "    <tr>\n",
       "      <th>1</th>\n",
       "      <td>&lt;mask&gt;  Air  Rhodes ia  Flight   &lt;mask&gt;   \\n   &lt;mask&gt; [ Air]  Rhodes ia  Flight &lt;mask&gt; [ Occup]  a  scheduled  passenger  flight &lt;mask&gt;  was  shot  down  by  the  Zimbabwe  People  ' s  Revolutionary  Army &lt;mask&gt;    ) &lt;mask&gt;  3  September  1978 ,  during  the  Rhodes ian  Bush  War .  The  aircraft  involved ,  a &lt;mask&gt; ickers  V isc ount  named  the   ,  was  flying  the  last &lt;mask&gt;  of  Air  Rhodes ia  ' s  regular  scheduled  service  from  Victoria  Falls &lt;mask&gt; &lt;mask&gt;  capital  Sal isbury ,  via  the  resort  town  of   . &lt;mask&gt; \\n  Soon  after  Flight    took  off , &lt;mask&gt; &lt;mask&gt; &lt;mask&gt;    gu err illas  scored  a  direct  hit  on  its &lt;mask&gt; board  wing &lt;mask&gt;  a  Soviet  @ - &lt;mask&gt;  made    2  surface &lt;mask&gt; - @  to  @ - @  air  infrared &lt;mask&gt;  missile &lt;mask&gt; &lt;mask&gt;  damaging  the  aircraft  and  forcing  an  emergency  landing &lt;mask&gt;  An  attempted  belly  landing  in  a  cotton  field  just &lt;mask&gt;  of   &lt;mask&gt;    by  an  unseen  ditch ,  which  caused  the  plane  to  cart wheel &lt;mask&gt;  break  up .  Of  the  52  passengers [ crank]  four  crew ,  38  died &lt;mask&gt; [ this]  crash  ;  the  insurgents  then  approached  the  wreckage ,  rounded  up  the  10 &lt;mask&gt;  they  could  see  and &lt;mask&gt; red  them  with [ilde]  gunfire .  Three &lt;mask&gt;  survived  by [amd]  in  the  surrounding  bush &lt;mask&gt;  while  a  further  five  lived  because  they  had  gone  to  look  for  water  before  the  gu err illas  arrived . [ ]</td>\n",
       "      <td>[ =]  Air  Rhodes ia  Flight   [ =]   \\n   [\\n] [ Air]  Rhodes ia  Flight [ ] [ was]  a  scheduled  passenger  flight [ that]  was  shot  down  by  the  Zimbabwe  People  ' s  Revolutionary  Army [ (]    ) [ on]  3  September  1978 ,  during  the  Rhodes ian  Bush  War .  The  aircraft  involved ,  a [ V] ickers  V isc ount  named  the   ,  was  flying  the  last [ leg]  of  Air  Rhodes ia  ' s  regular  scheduled  service  from  Victoria  Falls [ to] [ the]  capital  Sal isbury ,  via  the  resort  town  of   . [ ] \\n  Soon  after  Flight    took  off , [ a] [ group] [ of]    gu err illas  scored  a  direct  hit  on  its [ star] board  wing [ with]  a  Soviet  @ - [@]  made    2  surface [ @] - @  to  @ - @  air  infrared [ ]  missile [,] [ critically]  damaging  the  aircraft  and  forcing  an  emergency  landing [.]  An  attempted  belly  landing  in  a  cotton  field  just [ west]  of   [ was]    by  an  unseen  ditch ,  which  caused  the  plane  to  cart wheel [ and]  break  up .  Of  the  52  passengers [ and]  four  crew ,  38  died [ in] [ this]  crash  ;  the  insurgents  then  approached  the  wreckage ,  rounded  up  the  10 [ survivors]  they  could  see  and [ massac] red  them  with [ automatic]  gunfire .  Three [ passengers]  survived  by [ hiding]  in  the  surrounding  bush [,]  while  a  further  five  lived  because  they  had  gone  to  look  for  water  before  the  gu err illas  arrived . [ ]</td>\n",
       "      <td>[\\n]  Air  Rhodes ia  Flight   [ ]   \\n   [\\n] [ Air]  Rhodes ia  Flight [ ] [,]  a  scheduled  passenger  flight [,]  was  shot  down  by  the  Zimbabwe  People  ' s  Revolutionary  Army [ (]    ) [ on]  3  September  1978 ,  during  the  Rhodes ian  Bush  War .  The  aircraft  involved ,  a [ ] ickers  V isc ount  named  the   ,  was  flying  the  last [ leg]  of  Air  Rhodes ia  ' s  regular  scheduled  service  from  Victoria  Falls [,] [ the]  capital  Sal isbury ,  via  the  resort  town  of   . [ ] \\n  Soon  after  Flight    took  off , [ ] [ ] [ the]    gu err illas  scored  a  direct  hit  on  its [ star] board  wing [ ;]  a  Soviet  @ - [@]  made    2  surface [ @] - @  to  @ - @  air  infrared [ ]  missile [ ] [,]  damaging  the  aircraft  and  forcing  an  emergency  landing [.]  An  attempted  belly  landing  in  a  cotton  field  just [ north]  of   [ was]    by  an  unseen  ditch ,  which  caused  the  plane  to  cart wheel [ and]  break  up .  Of  the  52  passengers [ of]  four  crew ,  38  died [ in] [ this]  crash  ;  the  insurgents  then  approached  the  wreckage ,  rounded  up  the  10 [ survivors]  they  could  see  and [ massac] red  them  with [ heavy]  gunfire .  Three [ survivors]  survived  by [ hiding]  in  the  surrounding  bush [ bush]  while  a  further  five  lived  because  they  had  gone  to  look  for  water  before  the  gu err illas  arrived . [ ]</td>\n",
       "    </tr>\n",
       "  </tbody>\n",
       "</table>"
      ],
      "text/plain": [
       "<IPython.core.display.HTML object>"
      ]
     },
     "metadata": {},
     "output_type": "display_data"
    }
   ],
   "source": [
    "learn.show_results(learner=learn, trunc_at=250)"
   ]
  },
  {
   "cell_type": "markdown",
   "metadata": {},
   "source": [
    "While `Learner.blurr_generate` will work well for causal LMs designed for text generation, it won't for MLM models designed to predict masked tokens.  To accomodate the later, we add `Learner.blurr_fill_mask` ..."
   ]
  },
  {
   "cell_type": "code",
   "execution_count": null,
   "metadata": {},
   "outputs": [],
   "source": [
    "#export\n",
    "@patch\n",
    "def blurr_fill_mask(\n",
    "    self:Learner, \n",
    "    inp, \n",
    "    n_preds=1, \n",
    "    **kwargs\n",
    "):\n",
    "    \"\"\"For MLM models\"\"\"\n",
    "    # grab the Hugging Face tokenizer from the learner's dls.tfms\n",
    "    tfm = first_blurr_tfm(self.dls)\n",
    "    \n",
    "    hf_config = tfm.hf_config\n",
    "    hf_tokenizer = tfm.hf_tokenizer\n",
    "    tok_kwargs = tfm.tok_kwargs\n",
    "    \n",
    "    # grab the text generation kwargs\n",
    "    text_gen_kwargs = tfm.text_gen_kwargs if (len(kwargs) == 0) else kwargs\n",
    "\n",
    "    if (isinstance(inp, str)):\n",
    "        input_ids = hf_tokenizer.encode(inp, padding=True, truncation=True, return_tensors='pt', **tok_kwargs)\n",
    "    else:\n",
    "        # note (10/30/2020): as of pytorch 1.7, this has to be a plain ol tensor (not a subclass of TensorBase)\n",
    "        input_ids = inp.as_subclass(Tensor)\n",
    "        \n",
    "    input_ids = input_ids.to(self.model.hf_model.device)\n",
    "    mask_token_index = torch.where(input_ids == hf_tokenizer.mask_token_id)[1]\n",
    "    \n",
    "    outputs = self.model.hf_model(input_ids)\n",
    "    mask_token_logits = outputs.logits[0, mask_token_index, :]\n",
    "    preds = torch.topk(mask_token_logits, n_preds, dim=-1).indices[0].tolist()\n",
    "\n",
    "    outputs = [ inp.replace(hf_tokenizer.mask_token, hf_tokenizer.decode([tok_id]).strip()) \n",
    "               for tok_id in preds ]\n",
    "    \n",
    "    return outputs"
   ]
  },
  {
   "cell_type": "code",
   "execution_count": null,
   "metadata": {},
   "outputs": [
    {
     "data": {
      "text/plain": [
       "['The best place on earth is here.',\n",
       " 'The best place on earth is Antarctica.',\n",
       " 'The best place on earth is home.',\n",
       " 'The best place on earth is hell.',\n",
       " 'The best place on earth is America.']"
      ]
     },
     "execution_count": null,
     "metadata": {},
     "output_type": "execute_result"
    }
   ],
   "source": [
    "learn.blurr_fill_mask(f'The best place on earth is {hf_tokenizer.mask_token}.', n_preds=5)"
   ]
  },
  {
   "cell_type": "markdown",
   "metadata": {},
   "source": [
    "### BlearnerForLM"
   ]
  },
  {
   "cell_type": "markdown",
   "metadata": {},
   "source": [
    "We can use the `BlearnerForLM` for either Causal or Masked language models.  With one line of code, we get our DataBlock, DataLoaders, and Blearner with sensible defaults and ready for training"
   ]
  },
  {
   "cell_type": "code",
   "execution_count": null,
   "metadata": {},
   "outputs": [],
   "source": [
    "#hide\n",
    "try: del learn; torch.cuda.empty_cache()\n",
    "except: pass"
   ]
  },
  {
   "cell_type": "code",
   "execution_count": null,
   "metadata": {},
   "outputs": [],
   "source": [
    "#export\n",
    "@delegates(Blearner.__init__)\n",
    "class BlearnerForLM(Blearner):\n",
    "\n",
    "    def __init__(self, dls, hf_model, **kwargs):\n",
    "        kwargs['loss_func'] = HF_PreCalculatedLoss()\n",
    "        super().__init__(dls, hf_model, **kwargs)\n",
    "        \n",
    "    @classmethod\n",
    "    def get_model_cls(self, lm_type): \n",
    "        return AutoModelForCausalLM if (lm_type == LMType.CAUSAL) else AutoModelForMaskedLM\n",
    "    \n",
    "    @classmethod\n",
    "    def get_metrics_cb(self):\n",
    "        return LM_MetricsCallback()\n",
    "    \n",
    "    @classmethod\n",
    "    def _create_learner(\n",
    "        cls, \n",
    "        data, \n",
    "        pretrained_model_name_or_path, \n",
    "        preprocess_func,\n",
    "        lm_strategy_cls, \n",
    "        text_attr, \n",
    "        dblock_splitter, \n",
    "        dl_kwargs, \n",
    "        learner_kwargs\n",
    "    ):\n",
    "        lm_type = lm_strategy_cls.get_lm_type()\n",
    "            \n",
    "        # get our hf objects\n",
    "        model_cls = cls.get_model_cls(lm_type=lm_type)\n",
    "        hf_arch, hf_config, hf_tokenizer, hf_model = BLURR.get_hf_objects(pretrained_model_name_or_path, \n",
    "                                                                          model_cls=model_cls)\n",
    "        \n",
    "        # if we need to preprocess the raw data before creating our DataLoaders\n",
    "        if (preprocess_func):\n",
    "            data = preprocess_func(data, hf_arch, hf_config, hf_tokenizer, hf_model, lm_type, lm_strategy_cls)\n",
    "            \n",
    "        # not all architectures include a native pad_token (e.g., gpt2, ctrl, etc...), so we add one here\n",
    "        if (hf_tokenizer.pad_token is None): \n",
    "            hf_tokenizer.add_special_tokens({'pad_token': '<pad>'})  \n",
    "            hf_config.pad_token_id = hf_tokenizer.get_vocab()['<pad>']\n",
    "            hf_model.resize_token_embeddings(len(hf_tokenizer))   \n",
    "        \n",
    "        # build getters\n",
    "        if (isinstance(data, pd.DataFrame)):\n",
    "            get_x = ColReader(text_attr)\n",
    "        else:\n",
    "            get_x = ItemGetter(text_attr)\n",
    "            \n",
    "        # build DataBlocks and DataLoaders\n",
    "        bbtfm = HF_LMBeforeBatchTransform(hf_arch, hf_config, hf_tokenizer, hf_model, lm_strategy_cls=lm_strategy_cls)\n",
    "    \n",
    "        input_return_type = HF_CausalLMInput if (lm_type == LMType.CAUSAL) else HF_MLMInput\n",
    "        blocks = (HF_TextBlock(before_batch_tfm=bbtfm, input_return_type=input_return_type), noop)\n",
    "\n",
    "        dblock = DataBlock(blocks=blocks, get_x=get_x, splitter=dblock_splitter)\n",
    "        dls = dblock.dataloaders(data, **dl_kwargs.copy())\n",
    "        \n",
    "        # return BLearner instance with default metrics (optional)\n",
    "        learner_kwargs['metrics'] = learner_kwargs.pop('metrics', [perplexity])\n",
    "        return cls(dls, hf_model, **learner_kwargs.copy())\n",
    "    \n",
    "    @classmethod\n",
    "    def from_dataframe(\n",
    "        cls, \n",
    "        df, \n",
    "        pretrained_model_name_or_path, \n",
    "        preprocess_func=None, \n",
    "        lm_strategy_cls=CausalLMStrategy, \n",
    "        text_attr='text', \n",
    "        dblock_splitter=ColSplitter(), \n",
    "        dl_kwargs={}, \n",
    "        learner_kwargs={}\n",
    "    ):\n",
    "        return cls._create_learner(df, pretrained_model_name_or_path, preprocess_func, \n",
    "                                   lm_strategy_cls, text_attr, dblock_splitter, dl_kwargs, learner_kwargs)\n",
    "    \n",
    "        \n",
    "    @classmethod\n",
    "    def from_csv(\n",
    "        cls, \n",
    "        csv_file, \n",
    "        pretrained_model_name_or_path, \n",
    "        preprocess_func=None, \n",
    "        lm_strategy_cls=CausalLMStrategy, \n",
    "        text_attr='text', \n",
    "        dblock_splitter=ColSplitter(), \n",
    "        dl_kwargs={}, \n",
    "        learner_kwargs={}\n",
    "    ):\n",
    "        df = pd.read_csv(csv_file)\n",
    "        return cls.from_dataframe(df, pretrained_model_name_or_path, preprocess_func, \n",
    "                                  lm_strategy_cls, text_attr, dblock_splitter, \n",
    "                                  dl_kwargs, learner_kwargs)\n",
    "    \n",
    "    @classmethod\n",
    "    def from_dictionaries(\n",
    "        cls, \n",
    "        ds, \n",
    "        pretrained_model_name_or_path, \n",
    "        preprocess_func=None, \n",
    "        lm_strategy_cls=CausalLMStrategy, \n",
    "        text_attr='text', \n",
    "        dblock_splitter=RandomSplitter(), \n",
    "        dl_kwargs={}, \n",
    "        learner_kwargs={}\n",
    "    ):\n",
    "        return cls._create_learner(ds, pretrained_model_name_or_path, preprocess_func, \n",
    "                                   lm_strategy_cls, text_attr, dblock_splitter, \n",
    "                                   dl_kwargs, learner_kwargs)"
   ]
  },
  {
   "cell_type": "markdown",
   "metadata": {},
   "source": [
    "Causal language modeling ..."
   ]
  },
  {
   "cell_type": "code",
   "execution_count": null,
   "metadata": {},
   "outputs": [
    {
     "name": "stderr",
     "output_type": "stream",
     "text": [
      "Using pad_token, but it is not set yet.\n"
     ]
    }
   ],
   "source": [
    "learn = BlearnerForLM.from_dataframe(df, 'gpt2', text_attr=0, dblock_splitter=RandomSplitter(), \n",
    "                                     dl_kwargs={'bs':2}).to_fp16()"
   ]
  },
  {
   "cell_type": "code",
   "execution_count": null,
   "metadata": {},
   "outputs": [
    {
     "data": {
      "text/html": [
       "<table border=\"1\" class=\"dataframe\">\n",
       "  <thead>\n",
       "    <tr style=\"text-align: right;\">\n",
       "      <th></th>\n",
       "      <th>text</th>\n",
       "      <th>target</th>\n",
       "    </tr>\n",
       "  </thead>\n",
       "  <tbody>\n",
       "    <tr>\n",
       "      <th>0</th>\n",
       "      <td>\\n = Air Rhodesia Flight &lt;unk&gt; = \\n \\n Air Rhodesia Flight &lt;unk&gt; was a scheduled passenger flight that was shot down by the Zimbabwe People's Revolutionary Army ( &lt;unk&gt; ) on 3 September 1978, during the Rhodesian Bush War. The aircraft involved, a Vickers Viscount named the &lt;unk&gt;, was flying the last leg of Air Rhodesia's regular scheduled service from Victoria Falls to the capital Salisbury, via the resort town of &lt;unk&gt;. \\n Soon after Flight &lt;unk&gt; took off, a group of &lt;unk&gt; guerrillas scored a dir</td>\n",
       "      <td>\\n = Air Rhodesia Flight &lt;unk&gt; = \\n \\n Air Rhodesia Flight &lt;unk&gt; was a scheduled passenger flight that was shot down by the Zimbabwe People's Revolutionary Army ( &lt;unk&gt; ) on 3 September 1978, during the Rhodesian Bush War. The aircraft involved, a Vickers Viscount named the &lt;unk&gt;, was flying the last leg of Air Rhodesia's regular scheduled service from Victoria Falls to the capital Salisbury, via the resort town of &lt;unk&gt;. \\n Soon after Flight &lt;unk&gt; took off, a group of &lt;unk&gt; guerrillas scored a dire</td>\n",
       "    </tr>\n",
       "    <tr>\n",
       "      <th>1</th>\n",
       "      <td>\\n = Laurence Olivier = \\n \\n Laurence Kerr Olivier, Baron Olivier, &lt;unk&gt; ( / &lt;unk&gt; &lt;unk&gt; &lt;unk&gt; / ; 22 May 1907 – 11 July 1989 ) was an English actor who, along with his contemporaries Ralph Richardson and John Gielgud, dominated the British stage of the mid @-@ 20th century. He also worked in films throughout his career, playing more than fifty cinema roles. Late in his career, he had considerable success in television roles. \\n His family had no theatrical connections, but Olivier's father, a cle</td>\n",
       "      <td>\\n = Laurence Olivier = \\n \\n Laurence Kerr Olivier, Baron Olivier, &lt;unk&gt; ( / &lt;unk&gt; &lt;unk&gt; &lt;unk&gt; / ; 22 May 1907 – 11 July 1989 ) was an English actor who, along with his contemporaries Ralph Richardson and John Gielgud, dominated the British stage of the mid @-@ 20th century. He also worked in films throughout his career, playing more than fifty cinema roles. Late in his career, he had considerable success in television roles. \\n His family had no theatrical connections, but Olivier's father, a cler</td>\n",
       "    </tr>\n",
       "  </tbody>\n",
       "</table>"
      ],
      "text/plain": [
       "<IPython.core.display.HTML object>"
      ]
     },
     "metadata": {},
     "output_type": "display_data"
    }
   ],
   "source": [
    "learn.dls.show_batch(dataloaders=learn.dls, max_n=2, trunc_at=500)"
   ]
  },
  {
   "cell_type": "code",
   "execution_count": null,
   "metadata": {},
   "outputs": [
    {
     "data": {
      "text/html": [
       "<table border=\"1\" class=\"dataframe\">\n",
       "  <thead>\n",
       "    <tr style=\"text-align: left;\">\n",
       "      <th>epoch</th>\n",
       "      <th>train_loss</th>\n",
       "      <th>valid_loss</th>\n",
       "      <th>perplexity</th>\n",
       "      <th>lm_accuracy</th>\n",
       "      <th>time</th>\n",
       "    </tr>\n",
       "  </thead>\n",
       "  <tbody>\n",
       "    <tr>\n",
       "      <td>0</td>\n",
       "      <td>3.640666</td>\n",
       "      <td>3.266243</td>\n",
       "      <td>26.212673</td>\n",
       "      <td>0.416184</td>\n",
       "      <td>01:42</td>\n",
       "    </tr>\n",
       "  </tbody>\n",
       "</table>"
      ],
      "text/plain": [
       "<IPython.core.display.HTML object>"
      ]
     },
     "metadata": {},
     "output_type": "display_data"
    }
   ],
   "source": [
    "learn.fit_one_cycle(1, lr_max=3e-3, cbs=[BlearnerForLM.get_metrics_cb()])"
   ]
  },
  {
   "cell_type": "code",
   "execution_count": null,
   "metadata": {},
   "outputs": [
    {
     "data": {
      "text/html": [],
      "text/plain": [
       "<IPython.core.display.HTML object>"
      ]
     },
     "metadata": {},
     "output_type": "display_data"
    },
    {
     "data": {
      "text/html": [
       "<table border=\"1\" class=\"dataframe\">\n",
       "  <thead>\n",
       "    <tr style=\"text-align: right;\">\n",
       "      <th></th>\n",
       "      <th>text</th>\n",
       "      <th>target</th>\n",
       "      <th>prediction</th>\n",
       "    </tr>\n",
       "  </thead>\n",
       "  <tbody>\n",
       "    <tr>\n",
       "      <th>0</th>\n",
       "      <td>\\n = Military history of Australia = \\n \\n The military history of Australia spans the nation's 220 @-@ year modern history, from the early Australian frontier wars between &lt;unk&gt; and Europeans to the ongoing conflicts in Iraq and Afghanistan in the ear</td>\n",
       "      <td>\\n = Military history of Australia = \\n \\n The military history of Australia spans the nation's 220 @-@ year modern history, from the early Australian frontier wars between &lt;unk&gt; and Europeans to the ongoing conflicts in Iraq and Afghanistan in the earl</td>\n",
       "      <td>\\nThe =\\n = the\\n\\n\\n =\\n = Australian history of Australia is the period froms history years 1years years period era. including the early days military to to the 18&gt; Australia &lt; &lt; the early Australian between the and Afghanistan. the 1980 1980st century.</td>\n",
       "    </tr>\n",
       "    <tr>\n",
       "      <th>1</th>\n",
       "      <td>\\n = Bob Dylan = \\n \\n Bob Dylan ( / &lt;unk&gt; / ; born Robert Allen Zimmerman, May 24, 1941 ) is an American singer @-@ songwriter, artist and writer. He has been influential in popular music and culture for more than five decades. Much of his most celebr</td>\n",
       "      <td>\\n = Bob Dylan = \\n \\n Bob Dylan ( / &lt;unk&gt; / ; born Robert Allen Zimmerman, May 24, 1941 ) is an American singer @-@ songwriter, artist and writer. He has been influential in popular music and culture for more than five decades. Much of his most celebra</td>\n",
       "      <td>\\nThe ='s\\n\\n\\n\\n\\n = Dylan =19 ) &lt;&gt; ) &lt; &lt; in Dylan Dylan &lt; born, 18 ) was a American singer and &lt; &lt;,writer and and @ musician. He is been married in theizing and music since over 20 decades. He of his music popular work is back the lates and he first were</td>\n",
       "    </tr>\n",
       "  </tbody>\n",
       "</table>"
      ],
      "text/plain": [
       "<IPython.core.display.HTML object>"
      ]
     },
     "metadata": {},
     "output_type": "display_data"
    }
   ],
   "source": [
    "learn.show_results(learner=learn, trunc_at=250)"
   ]
  },
  {
   "cell_type": "code",
   "execution_count": null,
   "metadata": {},
   "outputs": [
    {
     "data": {
      "text/plain": [
       "[' Blurr is fun to work with because it works way you should. It also helps to get a good sense for the quality of the work.']"
      ]
     },
     "execution_count": null,
     "metadata": {},
     "output_type": "execute_result"
    }
   ],
   "source": [
    "learn.blurr_generate('Blurr is fun to work with because', max_length=50, do_sample=True, top_k=25)"
   ]
  },
  {
   "cell_type": "markdown",
   "metadata": {},
   "source": [
    "Masked language modeling"
   ]
  },
  {
   "cell_type": "code",
   "execution_count": null,
   "metadata": {},
   "outputs": [],
   "source": [
    "#hide\n",
    "try: del learn; torch.cuda.empty_cache()\n",
    "except: pass"
   ]
  },
  {
   "cell_type": "code",
   "execution_count": null,
   "metadata": {},
   "outputs": [],
   "source": [
    "learn = BlearnerForLM.from_dataframe(df, 'bert-base-cased', lm_strategy_cls=BertMLMStrategy, \n",
    "                                     text_attr=0, dblock_splitter=RandomSplitter(), \n",
    "                                     dl_kwargs={'bs':2}).to_fp16()"
   ]
  },
  {
   "cell_type": "code",
   "execution_count": null,
   "metadata": {},
   "outputs": [
    {
     "data": {
      "text/html": [
       "<table border=\"1\" class=\"dataframe\">\n",
       "  <thead>\n",
       "    <tr style=\"text-align: right;\">\n",
       "      <th></th>\n",
       "      <th>text</th>\n",
       "      <th>target</th>\n",
       "    </tr>\n",
       "  </thead>\n",
       "  <tbody>\n",
       "    <tr>\n",
       "      <th>0</th>\n",
       "      <td>= Air Rhodesia Flight &lt; [MASK] ##k &gt; [MASK] [##ल] Rhodesia [MASK] &lt; un [MASK] &gt; was a scheduled passenger flight that was shot down [MASK] the Zimbabwe [Sang] ' [MASK] Revolutionary Army ( &lt; [un] ##k [MASK] ) on [##rism] September 1978 , during the Rhodesia ##n Bush War . The [aircraft] involved , a Vickers Viscount [MASK] the &lt; un ##k &gt; , was flying the last leg [MASK] [MASK] [MASK] ' [MASK] regular scheduled [MASK] from Victoria Falls to the capital Salisbury , via the resort [MASK] of &lt; un ##k &gt; . Soon [after] Flight [MASK] un ##k [MASK] took off , a group of &lt; un ##k &gt; guerrilla ##s scored a direct hit on its star [##board] wing with a Soviet @ - @ made &lt; un ##k &gt; 2 surface @ - @ to @ - [@] air infrared [MASK] un ##k &gt; missile , [critically] damaging the aircraft and forcing [MASK] emergency landing . An attempted belly landing in [##郎] [MASK] [MASK] [MASK] west of [MASK] un ##k &gt; was &lt; un ##k &gt; by an [MASK] ditch , which caused the [MASK] to cart ##wheel and break [Booth] [MASK] Of the 52 passengers and four crew , 38 died in this crash ; [MASK] insurgents then approached [MASK] [MASK] , rounded up [MASK] [MASK] survivors they could see and massacre ##d them with automatic gunfire . Three [MASK] survived by hiding in the surrounding bush , while a further five lived</td>\n",
       "      <td>= Air Rhodesia Flight &lt; [un] ##k &gt; [=] [Air] Rhodesia [Flight] &lt; un [##k] &gt; was a scheduled passenger flight that was shot down [by] the Zimbabwe [People] ' [s] Revolutionary Army ( &lt; [un] ##k [&gt;] ) on [3] September 1978 , during the Rhodesia ##n Bush War . The [aircraft] involved , a Vickers Viscount [named] the &lt; un ##k &gt; , was flying the last leg [of] [Air] [Rhodesia] ' [s] regular scheduled [service] from Victoria Falls to the capital Salisbury , via the resort [town] of &lt; un ##k &gt; . Soon [after] Flight [&lt;] un ##k [&gt;] took off , a group of &lt; un ##k &gt; guerrilla ##s scored a direct hit on its star [##board] wing with a Soviet @ - @ made &lt; un ##k &gt; 2 surface @ - @ to @ - [@] air infrared [&lt;] un ##k &gt; missile , [critically] damaging the aircraft and forcing [an] emergency landing . An attempted belly landing in [a] [cotton] [field] [just] west of [&lt;] un ##k &gt; was &lt; un ##k &gt; by an [unseen] ditch , which caused the [plane] to cart ##wheel and break [up] [.] Of the 52 passengers and four crew , 38 died in this crash ; [the] insurgents then approached [the] [wreckage] , rounded up [the] [10] survivors they could see and massacre ##d them with automatic gunfire . Three [passengers] survived by hiding in the surrounding bush , while a further five lived</td>\n",
       "    </tr>\n",
       "    <tr>\n",
       "      <th>1</th>\n",
       "      <td>= 2010 Haiti earthquake = The 2010 [MASK] earthquake ( French : [MASK] un ##k &gt; de 2010 à &lt; [un] ##k &gt; ; Haitian [MASK] ##reole : &lt; un ##k &gt; 12 &lt; un ##k [MASK] [2010] &lt; un ##k &gt; &lt; un [MASK] [&gt;] &lt; un [prevented] &gt; ) was a catastrophic [bolted] 7 [MASK] . @ 0 M ##w earthquake , with an [MASK] ##enter near the town of &lt; un ##k [MASK] ( &lt; un ##k &gt; ) , approximately 25 kilometres ( [MASK] mi ) west of Port @ - @ au @ - @ [MASK] , [Ruiz] ' s capital . The earthquake [MASK] [designs] 16 : 53 local time ( 21 [MASK] 53 UTC ) on Tuesday , [MASK] January 2010 . By 24 January , at least 52 after ##sh ##ocks [MASK] 4 @ . @ 5 or greater had been recorded . An estimated three [MASK] people were affected by [MASK] q ##ua ##ke . Death toll estimates range from 100 @ , @ 000 to [MASK] 160 @ , @ 000 to Haitian government figures from [MASK] @ , @ 000 to 316 @ [MASK] @ 000 [MASK] have been widely characterized as [MASK] in ##f ##lated by the [MASK] government . [MASK] [MASK] of [MASK] estimated that [MASK] @ , @ 000 residences [MASK] 30 @ , @ 000 commercial buildings [MASK] collapsed or were severely damaged . [MASK] [MASK] been [MASK] [comune] of national debt , &lt; un</td>\n",
       "      <td>= 2010 Haiti earthquake = The 2010 [Haiti] earthquake ( French : [&lt;] un ##k &gt; de 2010 à &lt; [un] ##k &gt; ; Haitian [C] ##reole : &lt; un ##k &gt; 12 &lt; un ##k [&gt;] [2010] &lt; un ##k &gt; &lt; un [##k] [&gt;] &lt; un [##k] &gt; ) was a catastrophic [magnitude] 7 [@] . @ 0 M ##w earthquake , with an [epic] ##enter near the town of &lt; un ##k [&gt;] ( &lt; un ##k &gt; ) , approximately 25 kilometres ( [16] mi ) west of Port @ - @ au @ - @ [Prince] , [Haiti] ' s capital . The earthquake [occurred] [at] 16 : 53 local time ( 21 [:] 53 UTC ) on Tuesday , [12] January 2010 . By 24 January , at least 52 after ##sh ##ocks [measuring] 4 @ . @ 5 or greater had been recorded . An estimated three [million] people were affected by [the] q ##ua ##ke . Death toll estimates range from 100 @ , @ 000 to [about] 160 @ , @ 000 to Haitian government figures from [220] @ , @ 000 to 316 @ [,] @ 000 [that] have been widely characterized as [deliberately] in ##f ##lated by the [Haitian] government . [The] [government] of [Haiti] estimated that [250] @ , @ 000 residences [and] 30 @ , @ 000 commercial buildings [had] collapsed or were severely damaged . [There] [has] been [a] [history] of national debt , &lt; un</td>\n",
       "    </tr>\n",
       "  </tbody>\n",
       "</table>"
      ],
      "text/plain": [
       "<IPython.core.display.HTML object>"
      ]
     },
     "metadata": {},
     "output_type": "display_data"
    }
   ],
   "source": [
    "learn.dls.show_batch(dataloaders=learn.dls, max_n=2, trunc_at=250)"
   ]
  },
  {
   "cell_type": "code",
   "execution_count": null,
   "metadata": {},
   "outputs": [
    {
     "data": {
      "text/html": [
       "<table border=\"1\" class=\"dataframe\">\n",
       "  <thead>\n",
       "    <tr style=\"text-align: left;\">\n",
       "      <th>epoch</th>\n",
       "      <th>train_loss</th>\n",
       "      <th>valid_loss</th>\n",
       "      <th>perplexity</th>\n",
       "      <th>lm_accuracy</th>\n",
       "      <th>time</th>\n",
       "    </tr>\n",
       "  </thead>\n",
       "  <tbody>\n",
       "    <tr>\n",
       "      <td>0</td>\n",
       "      <td>2.694262</td>\n",
       "      <td>2.518818</td>\n",
       "      <td>12.413919</td>\n",
       "      <td>0.574601</td>\n",
       "      <td>00:42</td>\n",
       "    </tr>\n",
       "  </tbody>\n",
       "</table>"
      ],
      "text/plain": [
       "<IPython.core.display.HTML object>"
      ]
     },
     "metadata": {},
     "output_type": "display_data"
    }
   ],
   "source": [
    "learn.fit_one_cycle(1, lr_max=6e-4, cbs=[BlearnerForLM.get_metrics_cb()])"
   ]
  },
  {
   "cell_type": "code",
   "execution_count": null,
   "metadata": {},
   "outputs": [
    {
     "data": {
      "text/html": [],
      "text/plain": [
       "<IPython.core.display.HTML object>"
      ]
     },
     "metadata": {},
     "output_type": "display_data"
    },
    {
     "data": {
      "text/html": [
       "<table border=\"1\" class=\"dataframe\">\n",
       "  <thead>\n",
       "    <tr style=\"text-align: right;\">\n",
       "      <th></th>\n",
       "      <th>text</th>\n",
       "      <th>target</th>\n",
       "      <th>prediction</th>\n",
       "    </tr>\n",
       "  </thead>\n",
       "  <tbody>\n",
       "    <tr>\n",
       "      <th>0</th>\n",
       "      <td>[Kirby] Military history of Australia = The [MASK] [MASK] [MASK] Australia spans the nation ' s [MASK] @ - [MASK] year modern history , from the early Australian frontier wars between [MASK] [MASK] ##k &gt; and Europeans [MASK] the ongoing conflicts in [Iraq] and Afghanistan [MASK] the early 21st century . Although this history is short [MASK] compared to that of many other nations , Australia has been involved in numerous conflicts [MASK] wars , and war [and] military [MASK] have been significant [MASK] on Australian society and national [MASK] , including the An ##zac [MASK] . [MASK] relationship between war and Australian society has also been shaped by [MASK] [MASK] themes [mouths] Australian strategic culture and its unique security [MASK] ##lemma . As British [MASK] un ##k &gt; , the Australian colonies participated in Britain ' [Giorgio] small wars of the 19th century [MASK] while later as a &lt; un ##k [##mler] do ##mini ##on , and then [MASK] independent [MASK] , Australia fought in [the] First World [MASK] and Second World War , as well as in the wars in [MASK] , Malaya , Borneo and Vietnam during the Cold War [MASK] In the Post @ - @ Vietnam era Australian [MASK] [have] been involved in numerous international [MASK] ##keeping missions , through [MASK] [MASK] Nations and other agencies , including in the Sinai , Persian Gulf , &lt; un ##k [##olt] , Somalia , East Timor and the Solomon [MASK] , while more recently [MASK] [MASK] also</td>\n",
       "      <td>[=] Military history of Australia = The [military] [history] [of] Australia spans the nation ' s [220] @ - [@] year modern history , from the early Australian frontier wars between [&lt;] [un] ##k &gt; and Europeans [to] the ongoing conflicts in [Iraq] and Afghanistan [in] the early 21st century . Although this history is short [when] compared to that of many other nations , Australia has been involved in numerous conflicts [and] wars , and war [and] military [service] have been significant [influences] on Australian society and national [identity] , including the An ##zac [spirit] . [The] relationship between war and Australian society has also been shaped by [the] [enduring] themes [of] Australian strategic culture and its unique security [di] ##lemma . As British [&lt;] un ##k &gt; , the Australian colonies participated in Britain ' [s] small wars of the 19th century [,] while later as a &lt; un ##k [&gt;] do ##mini ##on , and then [an] independent [nation] , Australia fought in [the] First World [War] and Second World War , as well as in the wars in [Korea] , Malaya , Borneo and Vietnam during the Cold War [.] In the Post @ - @ Vietnam era Australian [forces] [have] been involved in numerous international [peace] ##keeping missions , through [the] [United] Nations and other agencies , including in the Sinai , Persian Gulf , &lt; un ##k [&gt;] , Somalia , East Timor and the Solomon [Islands] , while more recently [they] [have] also</td>\n",
       "      <td>[=] Military history of Australia = The [Military] [history] [of] Australia spans the nation ' s [post] @ - [@] year modern history , from the early Australian frontier wars between [&lt;] [un] ##k &gt; and Europeans [to] the ongoing conflicts in [Iraq] and Afghanistan [in] the early 21st century . Although this history is short [,] compared to that of many other nations , Australia has been involved in numerous conflicts [and] wars , and war [and] military [service] have been significant [influences] on Australian society and national [culture] , including the An ##zac [campaign] . [The] relationship between war and Australian society has also been shaped by [the] [political] themes [of] Australian strategic culture and its unique security [di] ##lemma . As British [&lt;] un ##k &gt; , the Australian colonies participated in Britain ' [s] small wars of the 19th century [,] while later as a &lt; un ##k [&gt;] do ##mini ##on , and then [an] independent [state] , Australia fought in [the] First World [War] and Second World War , as well as in the wars in [Afghanistan] , Malaya , Borneo and Vietnam during the Cold War [.] In the Post @ - @ Vietnam era Australian [soldiers] [have] been involved in numerous international [peace] ##keeping missions , through [the] [United] Nations and other agencies , including in the Sinai , Persian Gulf , &lt; un ##k [&gt;] , Somalia , East Timor and the Solomon [Islands] , while more recently [they] [have] also</td>\n",
       "    </tr>\n",
       "    <tr>\n",
       "      <th>1</th>\n",
       "      <td>= Bob Dylan = [##pm] Dylan ( / &lt; un ##k &gt; / ; born Robert Allen Z [MASK] ##man [MASK] May [MASK] , 1941 ) is an American singer @ - @ songwriter , artist and writer . He has been [MASK] in popular music and culture for more than five [MASK] . [MASK] of his most [celebrated] work dates from the [1960s] when his songs [MASK] ##d social unrest , although Dylan re ##pu ##dia ##ted suggestions from journalists [MASK] he was a spokesman [MASK] his generation . Nevertheless , early songs such [as] \" B ##low ##in ' in the Wind \" and \" The Times They Are a [MASK] - @ &lt; [##rwick] [##k] &gt; ' \" became anthem ##s for the American civil rights [MASK] anti @ - @ war movements [MASK] After [MASK] left [MASK] initial base in [MASK] [MASK] folk music revival , his six @ - [MASK] minute single \" [MASK] a Rolling Stone \" altered the [MASK] of [popular] music in 1965 [impose] His mid @ - @ 1960s recordings [MASK] backed by rock musicians , reached the top end of the United States [MASK] charts [MASK] also attracting &lt; un ##k &gt; and criticism from others in the folk movement . Dylan ' s lyrics have incorporated various [MASK] , social [MASK] philosophical [MASK] and [MASK] [MASK] . They def ##ied existing pop music conventions and appealed to the b ##urge ##oning counter ##culture [MASK] [MASK] inspired by the performances</td>\n",
       "      <td>= Bob Dylan = [Bob] Dylan ( / &lt; un ##k &gt; / ; born Robert Allen Z [##immer] ##man [,] May [24] , 1941 ) is an American singer @ - @ songwriter , artist and writer . He has been [influential] in popular music and culture for more than five [decades] . [Much] of his most [celebrated] work dates from the [1960s] when his songs [chronicle] ##d social unrest , although Dylan re ##pu ##dia ##ted suggestions from journalists [that] he was a spokesman [for] his generation . Nevertheless , early songs such [as] \" B ##low ##in ' in the Wind \" and \" The Times They Are a [@] - @ &lt; [un] [##k] &gt; ' \" became anthem ##s for the American civil rights [and] anti @ - @ war movements [.] After [he] left [his] initial base in [the] [American] folk music revival , his six @ - [@] minute single \" [Like] a Rolling Stone \" altered the [range] of [popular] music in 1965 [.] His mid @ - @ 1960s recordings [,] backed by rock musicians , reached the top end of the United States [music] charts [while] also attracting &lt; un ##k &gt; and criticism from others in the folk movement . Dylan ' s lyrics have incorporated various [political] , social [,] philosophical [,] and [literary] [influences] . They def ##ied existing pop music conventions and appealed to the b ##urge ##oning counter ##culture [.] [Initially] inspired by the performances</td>\n",
       "      <td>= Bob Dylan = [Bob] Dylan ( / &lt; un ##k &gt; / ; born Robert Allen Z [##immer] ##man [,] May [1] , 1941 ) is an American singer @ - @ songwriter , artist and writer . He has been [involved] in popular music and culture for more than five [decades] . [Much] of his most [celebrated] work dates from the [1960s] when his songs [tackle] ##d social unrest , although Dylan re ##pu ##dia ##ted suggestions from journalists [that] he was a spokesman [for] his generation . Nevertheless , early songs such [as] \" B ##low ##in ' in the Wind \" and \" The Times They Are a [@] - @ &lt; [un] [##k] &gt; ' \" became anthem ##s for the American civil rights [and] anti @ - @ war movements [.] After [Dylan] left [his] initial base in [the] [American] folk music revival , his six @ - [@] minute single \" [Like] a Rolling Stone \" altered the [fortunes] of [popular] music in 1965 [.] His mid @ - @ 1960s recordings [,] backed by rock musicians , reached the top end of the United States [Billboard] charts [,] also attracting &lt; un ##k &gt; and criticism from others in the folk movement . Dylan ' s lyrics have incorporated various [political] , social [,] philosophical [themes] and [political] [themes] . They def ##ied existing pop music conventions and appealed to the b ##urge ##oning counter ##culture [,] [were] inspired by the performances</td>\n",
       "    </tr>\n",
       "  </tbody>\n",
       "</table>"
      ],
      "text/plain": [
       "<IPython.core.display.HTML object>"
      ]
     },
     "metadata": {},
     "output_type": "display_data"
    }
   ],
   "source": [
    "learn.show_results(learner=learn, trunc_at=250)"
   ]
  },
  {
   "cell_type": "code",
   "execution_count": null,
   "metadata": {},
   "outputs": [],
   "source": [
    "batch_tfm = first_blurr_tfm(learn.dls)"
   ]
  },
  {
   "cell_type": "code",
   "execution_count": null,
   "metadata": {},
   "outputs": [
    {
     "data": {
      "text/plain": [
       "['The best place on earth is heaven.',\n",
       " 'The best place on earth is here.',\n",
       " 'The best place on earth is Egypt.',\n",
       " 'The best place on earth is nowhere.',\n",
       " 'The best place on earth is paradise.']"
      ]
     },
     "execution_count": null,
     "metadata": {},
     "output_type": "execute_result"
    }
   ],
   "source": [
    "learn.blurr_fill_mask(f'The best place on earth is {batch_tfm.hf_tokenizer.mask_token}.', n_preds=5)"
   ]
  },
  {
   "cell_type": "markdown",
   "metadata": {},
   "source": [
    "## Summary"
   ]
  },
  {
   "cell_type": "markdown",
   "metadata": {},
   "source": [
    "Whether you're using the low, mid, or high-level APIs, the `modeling.language_modeling` provides everything you need to train causual and masked language models"
   ]
  },
  {
   "cell_type": "code",
   "execution_count": null,
   "metadata": {},
   "outputs": [
    {
     "name": "stdout",
     "output_type": "stream",
     "text": [
      "Converted 00_utils.ipynb.\n",
      "Converted 01_data-core.ipynb.\n",
      "Converted 01_modeling-core.ipynb.\n",
      "Converted 02_data-language-modeling.ipynb.\n",
      "Converted 02_modeling-language-modeling.ipynb.\n",
      "Converted 03_data-token-classification.ipynb.\n",
      "Converted 03_modeling-token-classification.ipynb.\n",
      "Converted 04_data-question-answering.ipynb.\n",
      "Converted 04_modeling-question-answering.ipynb.\n",
      "Converted 10_data-seq2seq-core.ipynb.\n",
      "Converted 10_modeling-seq2seq-core.ipynb.\n",
      "Converted 11_data-seq2seq-summarization.ipynb.\n",
      "Converted 11_modeling-seq2seq-summarization.ipynb.\n",
      "Converted 12_data-seq2seq-translation.ipynb.\n",
      "Converted 12_modeling-seq2seq-translation.ipynb.\n",
      "Converted 99a_examples-high-level-api.ipynb.\n",
      "Converted 99b_examples-glue.ipynb.\n",
      "Converted 99c_examples-glue-plain-pytorch.ipynb.\n",
      "Converted 99d_examples-multilabel.ipynb.\n",
      "Converted index.ipynb.\n"
     ]
    }
   ],
   "source": [
    "#hide\n",
    "from nbdev.export import notebook2script\n",
    "notebook2script()"
   ]
  },
  {
   "cell_type": "code",
   "execution_count": null,
   "metadata": {},
   "outputs": [],
   "source": []
  }
 ],
 "metadata": {
  "kernelspec": {
   "display_name": "Python 3",
   "language": "python",
   "name": "python3"
  }
 },
 "nbformat": 4,
 "nbformat_minor": 4
}
