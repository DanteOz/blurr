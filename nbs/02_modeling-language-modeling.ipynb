{
 "cells": [
  {
   "cell_type": "code",
   "execution_count": null,
   "metadata": {},
   "outputs": [],
   "source": [
    "# default_exp modeling.language_modeling"
   ]
  },
  {
   "cell_type": "code",
   "execution_count": null,
   "metadata": {},
   "outputs": [],
   "source": [
    "#all_slow"
   ]
  },
  {
   "cell_type": "code",
   "execution_count": null,
   "metadata": {},
   "outputs": [],
   "source": [
    "#hide\n",
    "%reload_ext autoreload\n",
    "%autoreload 2\n",
    "%matplotlib inline\n",
    "\n",
    "import os\n",
    "os.environ[\"TOKENIZERS_PARALLELISM\"] = \"false\""
   ]
  },
  {
   "cell_type": "markdown",
   "metadata": {},
   "source": [
    "# modeling.language_modeling\n",
    "\n",
    "> This module contains custom models, custom splitters, etc... for both causal and MLM language modeling tasks. This includes things like training BERT from scratch or fine-tuning a particular pre-trained LM on your own corpus.\n",
    "\n",
    "**This is currently a work in progress** - You've been warned : )"
   ]
  },
  {
   "cell_type": "code",
   "execution_count": null,
   "metadata": {},
   "outputs": [],
   "source": [
    "#export\n",
    "import ast\n",
    "\n",
    "import torch\n",
    "from transformers import *\n",
    "from fastai.text.all import *\n",
    "\n",
    "from blurr.utils import *\n",
    "from blurr.data.core import *\n",
    "from blurr.data.language_modeling import *\n",
    "from blurr.modeling.core import *"
   ]
  },
  {
   "cell_type": "code",
   "execution_count": null,
   "metadata": {},
   "outputs": [],
   "source": [
    "#hide\n",
    "import pdb\n",
    "\n",
    "from nbdev.showdoc import *\n",
    "from fastcore.test import *"
   ]
  },
  {
   "cell_type": "code",
   "execution_count": null,
   "metadata": {},
   "outputs": [
    {
     "name": "stdout",
     "output_type": "stream",
     "text": [
      "Using GPU #1: GeForce GTX 1080 Ti\n"
     ]
    }
   ],
   "source": [
    "#cuda\n",
    "torch.cuda.set_device(1)\n",
    "print(f'Using GPU #{torch.cuda.current_device()}: {torch.cuda.get_device_name()}')"
   ]
  },
  {
   "cell_type": "code",
   "execution_count": null,
   "metadata": {},
   "outputs": [
    {
     "name": "stdout",
     "output_type": "stream",
     "text": [
      "662\n"
     ]
    },
    {
     "data": {
      "text/html": [
       "<div>\n",
       "<style scoped>\n",
       "    .dataframe tbody tr th:only-of-type {\n",
       "        vertical-align: middle;\n",
       "    }\n",
       "\n",
       "    .dataframe tbody tr th {\n",
       "        vertical-align: top;\n",
       "    }\n",
       "\n",
       "    .dataframe thead th {\n",
       "        text-align: right;\n",
       "    }\n",
       "</style>\n",
       "<table border=\"1\" class=\"dataframe\">\n",
       "  <thead>\n",
       "    <tr style=\"text-align: right;\">\n",
       "      <th></th>\n",
       "      <th>0</th>\n",
       "      <th>is_valid</th>\n",
       "    </tr>\n",
       "  </thead>\n",
       "  <tbody>\n",
       "    <tr>\n",
       "      <th>0</th>\n",
       "      <td>\\n = 2013 – 14 York City F.C. season = \\n \\n The 2013 – 14 season was the &lt;unk&gt; season of competitive association football and 77th season in the Football League played by York City Football Club , a professional football club based in York , North Yorkshire , England . Their 17th @-@ place finish in 2012 – 13 meant it was their second consecutive season in League Two . The season ran from 1 July 2013 to 30 June 2014 . \\n Nigel Worthington , starting his first full season as York manager , made eight permanent summer signings . By the turn of the year York were only above the relegation z...</td>\n",
       "      <td>False</td>\n",
       "    </tr>\n",
       "    <tr>\n",
       "      <th>1</th>\n",
       "      <td>\\n = Big Boy ( song ) = \\n \\n \" Big Boy \" &lt;unk&gt; \" I 'm A Big Boy Now \" was the first single ever recorded by the Jackson 5 , which was released by Steeltown Records in January 1968 . The group played instruments on many of their Steeltown compositions , including \" Big Boy \" . The song was neither a critical nor commercial success , but the Jackson family were delighted with the outcome nonetheless . \\n The Jackson 5 would release a second single with Steeltown Records before moving to Motown Records . The group 's recordings at Steeltown Records were thought to be lost , but they were re...</td>\n",
       "      <td>False</td>\n",
       "    </tr>\n",
       "    <tr>\n",
       "      <th>2</th>\n",
       "      <td>\\n = The Remix ( Lady Gaga album ) = \\n \\n The Remix is a remix album by American recording artist Lady Gaga . Released in Japan on March 3 , 2010 , it contains remixes of the songs from her first studio album , The Fame ( 2008 ) , and her third extended play , The Fame Monster ( 2009 ) . A revised version of the track list was prepared for release in additional markets , beginning with Mexico on May 3 , 2010 . A number of recording artists have produced the songs , including Pet Shop Boys , Passion Pit and The Sound of Arrows . The remixed versions feature both uptempo and &lt;unk&gt; composit...</td>\n",
       "      <td>False</td>\n",
       "    </tr>\n",
       "    <tr>\n",
       "      <th>3</th>\n",
       "      <td>\\n = New Year 's Eve ( Up All Night ) = \\n \\n \" New Year 's Eve \" is the twelfth episode of the first season of the American comedy television series Up All Night . The episode originally aired on NBC in the United States on January 12 , 2012 . It was written by Erica &lt;unk&gt; and was directed by Beth McCarthy @-@ Miller . The episode also featured a guest appearance from Jason Lee as Chris and Reagan 's neighbor and Ava 's boyfriend , Kevin . \\n During Reagan ( Christina Applegate ) and Chris 's ( Will &lt;unk&gt; ) first New Year 's Eve game night , Reagan 's competitiveness comes out causing Ch...</td>\n",
       "      <td>False</td>\n",
       "    </tr>\n",
       "    <tr>\n",
       "      <th>4</th>\n",
       "      <td>\\n = Geopyxis carbonaria = \\n \\n Geopyxis carbonaria is a species of fungus in the genus Geopyxis , family &lt;unk&gt; . First described to science in 1805 , and given its current name in 1889 , the species is commonly known as the charcoal loving elf @-@ cup , dwarf &lt;unk&gt; cup , &lt;unk&gt; &lt;unk&gt; cup , or pixie cup . The small , &lt;unk&gt; @-@ shaped fruitbodies of the fungus are reddish @-@ brown with a whitish fringe and measure up to 2 cm ( 0 @.@ 8 in ) across . They have a short , tapered stalk . Fruitbodies are commonly found on soil where brush has recently been burned , sometimes in great numbers ....</td>\n",
       "      <td>False</td>\n",
       "    </tr>\n",
       "  </tbody>\n",
       "</table>\n",
       "</div>"
      ],
      "text/plain": [
       "                                                                                                                                                                                                                                                                                                                                                                                                                                                                                                                                                                                                                         0  \\\n",
       "0   \\n = 2013 – 14 York City F.C. season = \\n \\n The 2013 – 14 season was the <unk> season of competitive association football and 77th season in the Football League played by York City Football Club , a professional football club based in York , North Yorkshire , England . Their 17th @-@ place finish in 2012 – 13 meant it was their second consecutive season in League Two . The season ran from 1 July 2013 to 30 June 2014 . \\n Nigel Worthington , starting his first full season as York manager , made eight permanent summer signings . By the turn of the year York were only above the relegation z...   \n",
       "1   \\n = Big Boy ( song ) = \\n \\n \" Big Boy \" <unk> \" I 'm A Big Boy Now \" was the first single ever recorded by the Jackson 5 , which was released by Steeltown Records in January 1968 . The group played instruments on many of their Steeltown compositions , including \" Big Boy \" . The song was neither a critical nor commercial success , but the Jackson family were delighted with the outcome nonetheless . \\n The Jackson 5 would release a second single with Steeltown Records before moving to Motown Records . The group 's recordings at Steeltown Records were thought to be lost , but they were re...   \n",
       "2   \\n = The Remix ( Lady Gaga album ) = \\n \\n The Remix is a remix album by American recording artist Lady Gaga . Released in Japan on March 3 , 2010 , it contains remixes of the songs from her first studio album , The Fame ( 2008 ) , and her third extended play , The Fame Monster ( 2009 ) . A revised version of the track list was prepared for release in additional markets , beginning with Mexico on May 3 , 2010 . A number of recording artists have produced the songs , including Pet Shop Boys , Passion Pit and The Sound of Arrows . The remixed versions feature both uptempo and <unk> composit...   \n",
       "3   \\n = New Year 's Eve ( Up All Night ) = \\n \\n \" New Year 's Eve \" is the twelfth episode of the first season of the American comedy television series Up All Night . The episode originally aired on NBC in the United States on January 12 , 2012 . It was written by Erica <unk> and was directed by Beth McCarthy @-@ Miller . The episode also featured a guest appearance from Jason Lee as Chris and Reagan 's neighbor and Ava 's boyfriend , Kevin . \\n During Reagan ( Christina Applegate ) and Chris 's ( Will <unk> ) first New Year 's Eve game night , Reagan 's competitiveness comes out causing Ch...   \n",
       "4   \\n = Geopyxis carbonaria = \\n \\n Geopyxis carbonaria is a species of fungus in the genus Geopyxis , family <unk> . First described to science in 1805 , and given its current name in 1889 , the species is commonly known as the charcoal loving elf @-@ cup , dwarf <unk> cup , <unk> <unk> cup , or pixie cup . The small , <unk> @-@ shaped fruitbodies of the fungus are reddish @-@ brown with a whitish fringe and measure up to 2 cm ( 0 @.@ 8 in ) across . They have a short , tapered stalk . Fruitbodies are commonly found on soil where brush has recently been burned , sometimes in great numbers ....   \n",
       "\n",
       "   is_valid  \n",
       "0     False  \n",
       "1     False  \n",
       "2     False  \n",
       "3     False  \n",
       "4     False  "
      ]
     },
     "execution_count": null,
     "metadata": {},
     "output_type": "execute_result"
    }
   ],
   "source": [
    "wiki_path = untar_data(URLs.WIKITEXT_TINY)\n",
    "\n",
    "train_df = pd.read_csv(wiki_path/'train.csv', header=None)\n",
    "valid_df = pd.read_csv(wiki_path/'test.csv', header=None)\n",
    "\n",
    "train_df['is_valid'] = False\n",
    "valid_df['is_valid'] = True\n",
    "\n",
    "df = pd.concat([train_df, valid_df])\n",
    "\n",
    "print(len(df))\n",
    "df.head()"
   ]
  },
  {
   "cell_type": "markdown",
   "metadata": {},
   "source": [
    "## Causal Language Modeling\n",
    "\n",
    "In causal language modeling, we are attempting to predict the next token given those before it."
   ]
  },
  {
   "cell_type": "code",
   "execution_count": null,
   "metadata": {},
   "outputs": [
    {
     "name": "stderr",
     "output_type": "stream",
     "text": [
      "Using pad_token, but it is not set yet.\n"
     ]
    }
   ],
   "source": [
    "model_cls = AutoModelForCausalLM\n",
    "\n",
    "pretrained_model_name = \"gpt2\"\n",
    "hf_arch, hf_config, hf_tokenizer, hf_model = BLURR.get_hf_objects(pretrained_model_name, model_cls=model_cls)\n",
    "\n",
    "if (hf_tokenizer.pad_token is None): hf_tokenizer.pad_token = '[PAD]'"
   ]
  },
  {
   "cell_type": "code",
   "execution_count": null,
   "metadata": {},
   "outputs": [],
   "source": [
    "bbtfm = HF_LMBeforeBatchTransform(hf_arch, hf_config, hf_tokenizer, hf_model, lm_strategy_cls=CausalLMStrategy)\n",
    "blocks = (HF_TextBlock(before_batch_tfm=bbtfm, input_return_type=HF_CausalLMInput), noop)\n",
    "\n",
    "dblock = DataBlock(blocks=blocks, get_x=ColReader(0), splitter=ColSplitter(col='is_valid'))"
   ]
  },
  {
   "cell_type": "code",
   "execution_count": null,
   "metadata": {},
   "outputs": [],
   "source": [
    "dls = dblock.dataloaders(df, bs=2)"
   ]
  },
  {
   "cell_type": "code",
   "execution_count": null,
   "metadata": {},
   "outputs": [
    {
     "data": {
      "text/plain": [
       "(torch.Size([2, 1024]), torch.Size([2, 1024]), torch.Size([2, 1024]))"
      ]
     },
     "execution_count": null,
     "metadata": {},
     "output_type": "execute_result"
    }
   ],
   "source": [
    "b = dls.one_batch()\n",
    "b[0]['input_ids'].shape, b[0]['labels'].shape, b[1].shape"
   ]
  },
  {
   "cell_type": "code",
   "execution_count": null,
   "metadata": {},
   "outputs": [
    {
     "data": {
      "text/html": [
       "<table border=\"1\" class=\"dataframe\">\n",
       "  <thead>\n",
       "    <tr style=\"text-align: right;\">\n",
       "      <th></th>\n",
       "      <th>text</th>\n",
       "      <th>target</th>\n",
       "    </tr>\n",
       "  </thead>\n",
       "  <tbody>\n",
       "    <tr>\n",
       "      <th>0</th>\n",
       "      <td>\\n = Bob Dylan = \\n \\n Bob Dylan ( / &lt;unk&gt; / ; born Robert Allen Zimmerman, May 24, 1941 ) is an American singer @-@ songwriter, artist and writer. He has been influential in popular music and culture for more than five decades. Much of his most celebrated work dates from the 1960s when his songs chronicled social unrest, although Dylan repudiated suggestions from journalists that he was a spokesman for his generation. Nevertheless, early songs such as \" Blowin'in the Wind \" and \" The Times They A</td>\n",
       "      <td>\\n = Bob Dylan = \\n \\n Bob Dylan ( / &lt;unk&gt; / ; born Robert Allen Zimmerman, May 24, 1941 ) is an American singer @-@ songwriter, artist and writer. He has been influential in popular music and culture for more than five decades. Much of his most celebrated work dates from the 1960s when his songs chronicled social unrest, although Dylan repudiated suggestions from journalists that he was a spokesman for his generation. Nevertheless, early songs such as \" Blowin'in the Wind \" and \" The Times They A</td>\n",
       "    </tr>\n",
       "    <tr>\n",
       "      <th>1</th>\n",
       "      <td>\\n = Laurence Olivier = \\n \\n Laurence Kerr Olivier, Baron Olivier, &lt;unk&gt; ( / &lt;unk&gt; &lt;unk&gt; &lt;unk&gt; / ; 22 May 1907 – 11 July 1989 ) was an English actor who, along with his contemporaries Ralph Richardson and John Gielgud, dominated the British stage of the mid @-@ 20th century. He also worked in films throughout his career, playing more than fifty cinema roles. Late in his career, he had considerable success in television roles. \\n His family had no theatrical connections, but Olivier's father, a cle</td>\n",
       "      <td>\\n = Laurence Olivier = \\n \\n Laurence Kerr Olivier, Baron Olivier, &lt;unk&gt; ( / &lt;unk&gt; &lt;unk&gt; &lt;unk&gt; / ; 22 May 1907 – 11 July 1989 ) was an English actor who, along with his contemporaries Ralph Richardson and John Gielgud, dominated the British stage of the mid @-@ 20th century. He also worked in films throughout his career, playing more than fifty cinema roles. Late in his career, he had considerable success in television roles. \\n His family had no theatrical connections, but Olivier's father, a cle</td>\n",
       "    </tr>\n",
       "  </tbody>\n",
       "</table>"
      ],
      "text/plain": [
       "<IPython.core.display.HTML object>"
      ]
     },
     "metadata": {},
     "output_type": "display_data"
    }
   ],
   "source": [
    "dls.show_batch(dataloaders=dls, max_n=2, trunc_at=500)"
   ]
  },
  {
   "cell_type": "code",
   "execution_count": null,
   "metadata": {},
   "outputs": [],
   "source": [
    "model = HF_BaseModelWrapper(hf_model)\n",
    "\n",
    "learn = Learner(dls, \n",
    "                model,\n",
    "                opt_func=partial(Adam),\n",
    "                loss_func=HF_PreCalculatedLoss(),\n",
    "                cbs=[HF_BaseModelCallback],\n",
    "                splitter=hf_splitter)#.to_fp16()\n",
    "\n",
    "learn.freeze()"
   ]
  },
  {
   "cell_type": "code",
   "execution_count": null,
   "metadata": {},
   "outputs": [
    {
     "data": {
      "text/html": [],
      "text/plain": [
       "<IPython.core.display.HTML object>"
      ]
     },
     "metadata": {},
     "output_type": "display_data"
    },
    {
     "data": {
      "text/plain": [
       "HF_BaseModelWrapper (Input shape: 2)\n",
       "============================================================================\n",
       "Layer (type)         Output Shape         Param #    Trainable \n",
       "============================================================================\n",
       "                     2 x 1024 x 768      \n",
       "Embedding                                 38597376   False     \n",
       "Embedding                                 786432     False     \n",
       "Dropout                                                        \n",
       "LayerNorm                                 1536       True      \n",
       "____________________________________________________________________________\n",
       "                     2 x 1024 x 2304     \n",
       "Conv1D                                    1771776    False     \n",
       "Conv1D                                    590592     False     \n",
       "Dropout                                                        \n",
       "Dropout                                                        \n",
       "LayerNorm                                 1536       True      \n",
       "____________________________________________________________________________\n",
       "                     2 x 1024 x 3072     \n",
       "Conv1D                                    2362368    False     \n",
       "____________________________________________________________________________\n",
       "                     2 x 1024 x 768      \n",
       "Conv1D                                    2360064    False     \n",
       "Dropout                                                        \n",
       "LayerNorm                                 1536       True      \n",
       "____________________________________________________________________________\n",
       "                     2 x 1024 x 2304     \n",
       "Conv1D                                    1771776    False     \n",
       "Conv1D                                    590592     False     \n",
       "Dropout                                                        \n",
       "Dropout                                                        \n",
       "LayerNorm                                 1536       True      \n",
       "____________________________________________________________________________\n",
       "                     2 x 1024 x 3072     \n",
       "Conv1D                                    2362368    False     \n",
       "____________________________________________________________________________\n",
       "                     2 x 1024 x 768      \n",
       "Conv1D                                    2360064    False     \n",
       "Dropout                                                        \n",
       "LayerNorm                                 1536       True      \n",
       "____________________________________________________________________________\n",
       "                     2 x 1024 x 2304     \n",
       "Conv1D                                    1771776    False     \n",
       "Conv1D                                    590592     False     \n",
       "Dropout                                                        \n",
       "Dropout                                                        \n",
       "LayerNorm                                 1536       True      \n",
       "____________________________________________________________________________\n",
       "                     2 x 1024 x 3072     \n",
       "Conv1D                                    2362368    False     \n",
       "____________________________________________________________________________\n",
       "                     2 x 1024 x 768      \n",
       "Conv1D                                    2360064    False     \n",
       "Dropout                                                        \n",
       "LayerNorm                                 1536       True      \n",
       "____________________________________________________________________________\n",
       "                     2 x 1024 x 2304     \n",
       "Conv1D                                    1771776    False     \n",
       "Conv1D                                    590592     False     \n",
       "Dropout                                                        \n",
       "Dropout                                                        \n",
       "LayerNorm                                 1536       True      \n",
       "____________________________________________________________________________\n",
       "                     2 x 1024 x 3072     \n",
       "Conv1D                                    2362368    False     \n",
       "____________________________________________________________________________\n",
       "                     2 x 1024 x 768      \n",
       "Conv1D                                    2360064    False     \n",
       "Dropout                                                        \n",
       "LayerNorm                                 1536       True      \n",
       "____________________________________________________________________________\n",
       "                     2 x 1024 x 2304     \n",
       "Conv1D                                    1771776    False     \n",
       "Conv1D                                    590592     False     \n",
       "Dropout                                                        \n",
       "Dropout                                                        \n",
       "LayerNorm                                 1536       True      \n",
       "____________________________________________________________________________\n",
       "                     2 x 1024 x 3072     \n",
       "Conv1D                                    2362368    False     \n",
       "____________________________________________________________________________\n",
       "                     2 x 1024 x 768      \n",
       "Conv1D                                    2360064    False     \n",
       "Dropout                                                        \n",
       "LayerNorm                                 1536       True      \n",
       "____________________________________________________________________________\n",
       "                     2 x 1024 x 2304     \n",
       "Conv1D                                    1771776    False     \n",
       "Conv1D                                    590592     False     \n",
       "Dropout                                                        \n",
       "Dropout                                                        \n",
       "LayerNorm                                 1536       True      \n",
       "____________________________________________________________________________\n",
       "                     2 x 1024 x 3072     \n",
       "Conv1D                                    2362368    False     \n",
       "____________________________________________________________________________\n",
       "                     2 x 1024 x 768      \n",
       "Conv1D                                    2360064    False     \n",
       "Dropout                                                        \n",
       "LayerNorm                                 1536       True      \n",
       "____________________________________________________________________________\n",
       "                     2 x 1024 x 2304     \n",
       "Conv1D                                    1771776    False     \n",
       "Conv1D                                    590592     False     \n",
       "Dropout                                                        \n",
       "Dropout                                                        \n",
       "LayerNorm                                 1536       True      \n",
       "____________________________________________________________________________\n",
       "                     2 x 1024 x 3072     \n",
       "Conv1D                                    2362368    False     \n",
       "____________________________________________________________________________\n",
       "                     2 x 1024 x 768      \n",
       "Conv1D                                    2360064    False     \n",
       "Dropout                                                        \n",
       "LayerNorm                                 1536       True      \n",
       "____________________________________________________________________________\n",
       "                     2 x 1024 x 2304     \n",
       "Conv1D                                    1771776    False     \n",
       "Conv1D                                    590592     False     \n",
       "Dropout                                                        \n",
       "Dropout                                                        \n",
       "LayerNorm                                 1536       True      \n",
       "____________________________________________________________________________\n",
       "                     2 x 1024 x 3072     \n",
       "Conv1D                                    2362368    False     \n",
       "____________________________________________________________________________\n",
       "                     2 x 1024 x 768      \n",
       "Conv1D                                    2360064    False     \n",
       "Dropout                                                        \n",
       "LayerNorm                                 1536       True      \n",
       "____________________________________________________________________________\n",
       "                     2 x 1024 x 2304     \n",
       "Conv1D                                    1771776    False     \n",
       "Conv1D                                    590592     False     \n",
       "Dropout                                                        \n",
       "Dropout                                                        \n",
       "LayerNorm                                 1536       True      \n",
       "____________________________________________________________________________\n",
       "                     2 x 1024 x 3072     \n",
       "Conv1D                                    2362368    False     \n",
       "____________________________________________________________________________\n",
       "                     2 x 1024 x 768      \n",
       "Conv1D                                    2360064    False     \n",
       "Dropout                                                        \n",
       "LayerNorm                                 1536       True      \n",
       "____________________________________________________________________________\n",
       "                     2 x 1024 x 2304     \n",
       "Conv1D                                    1771776    False     \n",
       "Conv1D                                    590592     False     \n",
       "Dropout                                                        \n",
       "Dropout                                                        \n",
       "LayerNorm                                 1536       True      \n",
       "____________________________________________________________________________\n",
       "                     2 x 1024 x 3072     \n",
       "Conv1D                                    2362368    False     \n",
       "____________________________________________________________________________\n",
       "                     2 x 1024 x 768      \n",
       "Conv1D                                    2360064    False     \n",
       "Dropout                                                        \n",
       "LayerNorm                                 1536       True      \n",
       "____________________________________________________________________________\n",
       "                     2 x 1024 x 2304     \n",
       "Conv1D                                    1771776    False     \n",
       "Conv1D                                    590592     False     \n",
       "Dropout                                                        \n",
       "Dropout                                                        \n",
       "LayerNorm                                 1536       True      \n",
       "____________________________________________________________________________\n",
       "                     2 x 1024 x 3072     \n",
       "Conv1D                                    2362368    False     \n",
       "____________________________________________________________________________\n",
       "                     2 x 1024 x 768      \n",
       "Conv1D                                    2360064    False     \n",
       "Dropout                                                        \n",
       "LayerNorm                                 1536       True      \n",
       "____________________________________________________________________________\n",
       "                     2 x 1024 x 2304     \n",
       "Conv1D                                    1771776    False     \n",
       "Conv1D                                    590592     False     \n",
       "Dropout                                                        \n",
       "Dropout                                                        \n",
       "LayerNorm                                 1536       True      \n",
       "____________________________________________________________________________\n",
       "                     2 x 1024 x 3072     \n",
       "Conv1D                                    2362368    False     \n",
       "____________________________________________________________________________\n",
       "                     2 x 1024 x 768      \n",
       "Conv1D                                    2360064    False     \n",
       "Dropout                                                        \n",
       "LayerNorm                                 1536       True      \n",
       "____________________________________________________________________________\n",
       "                     2 x 1024 x 50257    \n",
       "Linear                                    38597376   False     \n",
       "____________________________________________________________________________\n",
       "\n",
       "Total params: 163,037,184\n",
       "Total trainable params: 38,400\n",
       "Total non-trainable params: 162,998,784\n",
       "\n",
       "Optimizer used: functools.partial(<function Adam at 0x7fb568263820>)\n",
       "Loss function: <blurr.modeling.core.HF_PreCalculatedLoss object at 0x7fb5500d01f0>\n",
       "\n",
       "Model frozen up to parameter group #4\n",
       "\n",
       "Callbacks:\n",
       "  - TrainEvalCallback\n",
       "  - HF_BaseModelCallback\n",
       "  - Recorder\n",
       "  - ProgressCallback"
      ]
     },
     "execution_count": null,
     "metadata": {},
     "output_type": "execute_result"
    }
   ],
   "source": [
    "learn.summary()"
   ]
  },
  {
   "cell_type": "code",
   "execution_count": null,
   "metadata": {},
   "outputs": [],
   "source": [
    "# b = dls.one_batch()\n",
    "# preds = learn.model(b[0])\n",
    "# len(preds),preds[0], preds[1].shape"
   ]
  },
  {
   "cell_type": "code",
   "execution_count": null,
   "metadata": {},
   "outputs": [
    {
     "name": "stdout",
     "output_type": "stream",
     "text": [
      "5\n"
     ]
    }
   ],
   "source": [
    "print(len(learn.opt.param_groups))"
   ]
  },
  {
   "cell_type": "code",
   "execution_count": null,
   "metadata": {},
   "outputs": [
    {
     "data": {
      "text/html": [],
      "text/plain": [
       "<IPython.core.display.HTML object>"
      ]
     },
     "metadata": {},
     "output_type": "display_data"
    },
    {
     "name": "stderr",
     "output_type": "stream",
     "text": [
      "/home/wgilliam/miniconda3/envs/blurr/lib/python3.9/site-packages/fastai/callback/schedule.py:270: UserWarning: color is redundantly defined by the 'color' keyword argument and the fmt string \"ro\" (-> color='r'). The keyword argument will take precedence.\n",
      "  ax.plot(val, idx, 'ro', label=nm, c=color)\n"
     ]
    },
    {
     "data": {
      "text/plain": [
       "SuggestedLRs(minimum=0.0003019951749593019, steep=7.585775892948732e-05, valley=tensor(0.0001), slide=tensor(0.0030))"
      ]
     },
     "execution_count": null,
     "metadata": {},
     "output_type": "execute_result"
    },
    {
     "data": {
      "image/png": "[encoded data removed]",
      "text/plain": [
       "<Figure size 640x480 with 1 Axes>"
      ]
     },
     "metadata": {},
     "output_type": "display_data"
    }
   ],
   "source": [
    "#slow\n",
    "learn.lr_find(suggest_funcs=[minimum, steep, valley, slide])"
   ]
  },
  {
   "cell_type": "code",
   "execution_count": null,
   "metadata": {},
   "outputs": [
    {
     "data": {
      "text/html": [
       "<table border=\"1\" class=\"dataframe\">\n",
       "  <thead>\n",
       "    <tr style=\"text-align: left;\">\n",
       "      <th>epoch</th>\n",
       "      <th>train_loss</th>\n",
       "      <th>valid_loss</th>\n",
       "      <th>time</th>\n",
       "    </tr>\n",
       "  </thead>\n",
       "  <tbody>\n",
       "    <tr>\n",
       "      <td>0</td>\n",
       "      <td>3.052545</td>\n",
       "      <td>2.812411</td>\n",
       "      <td>01:39</td>\n",
       "    </tr>\n",
       "  </tbody>\n",
       "</table>"
      ],
      "text/plain": [
       "<IPython.core.display.HTML object>"
      ]
     },
     "metadata": {},
     "output_type": "display_data"
    }
   ],
   "source": [
    "#slow\n",
    "learn.fit_one_cycle(1, lr_max=3e-3)"
   ]
  },
  {
   "cell_type": "code",
   "execution_count": null,
   "metadata": {},
   "outputs": [],
   "source": [
    "#export\n",
    "@typedispatch\n",
    "def show_results(x:HF_CausalLMInput, y, samples, outs, learner, ctxs=None, max_n=6, trunc_at=None, **kwargs):  \n",
    "    # grab our tokenizer and ignore token to decode\n",
    "    hf_before_batch_tfm = get_blurr_tfm(learner.dls.before_batch)\n",
    "    hf_config = hf_before_batch_tfm.hf_config\n",
    "    hf_tokenizer = hf_before_batch_tfm.hf_tokenizer\n",
    "    ignore_token_id = hf_before_batch_tfm.ignore_token_id\n",
    "    \n",
    "    res = L([(\n",
    "        hf_tokenizer.decode(s[0], skip_special_tokens=True)[:trunc_at], \n",
    "        hf_tokenizer.decode(s[1][s[1] != ignore_token_id], skip_special_tokens=True)[:trunc_at], \n",
    "        hf_tokenizer.decode(pred[0], skip_special_tokens=True)[:trunc_at], \n",
    "    ) for s, pred in zip(samples, outs) ])          \n",
    "    \n",
    "    display_df(pd.DataFrame(res, columns=['text', 'target', 'prediction'])[:max_n])\n",
    "    return ctxs"
   ]
  },
  {
   "cell_type": "code",
   "execution_count": null,
   "metadata": {},
   "outputs": [
    {
     "data": {
      "text/html": [],
      "text/plain": [
       "<IPython.core.display.HTML object>"
      ]
     },
     "metadata": {},
     "output_type": "display_data"
    },
    {
     "data": {
      "text/html": [
       "<table border=\"1\" class=\"dataframe\">\n",
       "  <thead>\n",
       "    <tr style=\"text-align: right;\">\n",
       "      <th></th>\n",
       "      <th>text</th>\n",
       "      <th>target</th>\n",
       "      <th>prediction</th>\n",
       "    </tr>\n",
       "  </thead>\n",
       "  <tbody>\n",
       "    <tr>\n",
       "      <th>0</th>\n",
       "      <td>\\n = Military history of Australia = \\n \\n The military history of Australia spans the nation's 220 @-@ year modern history, from the early Australian frontier wars between &lt;unk&gt; and Europeans to the ongoing conflicts in Iraq and Afghanistan in the ear</td>\n",
       "      <td>\\n = Military history of Australia = \\n \\n The military history of Australia spans the nation's 220 @-@ year modern history, from the early Australian frontier wars between &lt;unk&gt; and Europeans to the ongoing conflicts in Iraq and Afghanistan in the ear</td>\n",
       "      <td>\\n =  and = the = \\n \\n  Australian history of Australia is the period froms history- &lt;@ century history period, from the early days colonies to to theunk&gt; and &lt; to the early conflict between the and Afghanistan. the late 20st century.  the military is</td>\n",
       "    </tr>\n",
       "    <tr>\n",
       "      <th>1</th>\n",
       "      <td>\\n = Air Rhodesia Flight &lt;unk&gt; = \\n \\n Air Rhodesia Flight &lt;unk&gt; was a scheduled passenger flight that was shot down by the Zimbabwe People's Revolutionary Army ( &lt;unk&gt; ) on 3 September 1978, during the Rhodesian Bush War. The aircraft involved, a Vick</td>\n",
       "      <td>\\n = Air Rhodesia Flight &lt;unk&gt; = \\n \\n Air Rhodesia Flight &lt;unk&gt; was a scheduled passenger flight that was shot down by the Zimbabwe People's Revolutionary Army ( &lt;unk&gt; ) on 3 September 1978, during the Rhodesian Bush War. The aircraft involved, a Vick</td>\n",
       "      <td>\\n =  Force = = 9 /&gt; &lt; \\n \\n Air Rhodesia Flight (unk&gt; was a flight flight flight from was scheduled down by a Unitedan'ss Army Army ( Zunk&gt; ) on July August,. killing the countryian civilido. The plane was in was Boeingickers 'ickersount, \" 'unk&gt;, was</td>\n",
       "    </tr>\n",
       "  </tbody>\n",
       "</table>"
      ],
      "text/plain": [
       "<IPython.core.display.HTML object>"
      ]
     },
     "metadata": {},
     "output_type": "display_data"
    }
   ],
   "source": [
    "#slow\n",
    "learn.show_results(learner=learn, trunc_at=250)"
   ]
  },
  {
   "cell_type": "code",
   "execution_count": null,
   "metadata": {},
   "outputs": [],
   "source": [
    "#slow\n",
    "#hide\n",
    "try: del learn; torch.cuda.empty_cache()\n",
    "except: pass"
   ]
  },
  {
   "cell_type": "markdown",
   "metadata": {},
   "source": [
    "## Masked Language Modeling\n",
    "\n",
    "In masked language modeling (MLM), we are attempting to predict the ***masked*** tokens. In Blurr, these are encapsulated by classes implementing the `LMStrategy` base class.\n",
    "\n",
    "For a list of some of the more common strategies, see table 3 of the [Exploring the Limits of Transfer Learning with a Unified Text-to-Text Transformer](https://arxiv.org/abs/1910.10683) paper.  When fine-tuning a MLM model. you'll want to make sure you use the same approach as the model authors should you be looking to reproduce their results ... but our approach here makes it easy to play with different strategies regardless.\n",
    "\n",
    "In the example below, we'll tell Blurr we want to use the BERT-style masking strategy."
   ]
  },
  {
   "cell_type": "code",
   "execution_count": null,
   "metadata": {},
   "outputs": [],
   "source": [
    "model_cls = AutoModelForMaskedLM\n",
    "\n",
    "pretrained_model_name = \"bert-base-uncased\"\n",
    "hf_arch, hf_config, hf_tokenizer, hf_model = BLURR.get_hf_objects(pretrained_model_name, model_cls=model_cls)"
   ]
  },
  {
   "cell_type": "code",
   "execution_count": null,
   "metadata": {},
   "outputs": [],
   "source": [
    "bbtfm = HF_LMBeforeBatchTransform(hf_arch, hf_config, hf_tokenizer, hf_model, lm_strategy_cls=BertMLMStrategy)\n",
    "blocks = (HF_TextBlock(before_batch_tfm=bbtfm, input_return_type=HF_MLMInput), noop)\n",
    "\n",
    "dblock = DataBlock(blocks=blocks, get_x=ColReader(0), splitter=ColSplitter(col='is_valid'))"
   ]
  },
  {
   "cell_type": "code",
   "execution_count": null,
   "metadata": {},
   "outputs": [],
   "source": [
    "dls = dblock.dataloaders(df, bs=2)"
   ]
  },
  {
   "cell_type": "code",
   "execution_count": null,
   "metadata": {},
   "outputs": [
    {
     "data": {
      "text/plain": [
       "(torch.Size([2, 512]), torch.Size([2, 512]), torch.Size([2, 512]))"
      ]
     },
     "execution_count": null,
     "metadata": {},
     "output_type": "execute_result"
    }
   ],
   "source": [
    "b = dls.one_batch()\n",
    "b[0]['input_ids'].shape, b[0]['labels'].shape, b[1].shape"
   ]
  },
  {
   "cell_type": "code",
   "execution_count": null,
   "metadata": {},
   "outputs": [
    {
     "data": {
      "text/html": [
       "<table border=\"1\" class=\"dataframe\">\n",
       "  <thead>\n",
       "    <tr style=\"text-align: right;\">\n",
       "      <th></th>\n",
       "      <th>text</th>\n",
       "      <th>target</th>\n",
       "    </tr>\n",
       "  </thead>\n",
       "  <tbody>\n",
       "    <tr>\n",
       "      <th>0</th>\n",
       "      <td>= bob dylan = bob dylan ( / &lt; [MASK] ##k &gt; / ; [MASK] robert [allen] zimmerman , may 24 , 1941 ) is [MASK] american singer @ - @ songwriter , artist and writer . [MASK] has been influential in popular music and culture for more than [MASK] decades . much of [MASK] most celebrated work dates from the 1960s when his [MASK] chronicle ##d social unrest [MASK] although dylan [exceeds] ##udi [MASK] suggestions [MASK] journalists that [he] was a spokesman for his [MASK] . nevertheless , early songs such as \" blow ##in ' [litre] [amadeus] wind \" and \" the [MASK] they are a @ - @ &lt; un ##k &gt; ' \" [MASK] anthem [MASK] for the american [civil] rights and anti [MASK] - @ war movements . after he left his initial base [MASK] the american folk music revival , his six @ - @ minute single \" [MASK] a [MASK] stone [\"] altered the [MASK] of popular music in 1965 . his mid @ - @ 1960s recordings , backed by rock musicians , reached the top end of [paw] united states [MASK] charts while also [MASK] &lt; un ##k &gt; and criticism from others in [MASK] [MASK] movement . dylan ' [s] lyrics have incorporated various political , social , philosophical , and literary [MASK] . they def ##ied existing pop [MASK] conventions and appealed [MASK] the bu ##rgeon ##ing counter [MASK] . initially inspired by the [MASK] of little richard and</td>\n",
       "      <td>= bob dylan = bob dylan ( / &lt; [un] ##k &gt; / ; [born] robert [allen] zimmerman , may 24 , 1941 ) is [an] american singer @ - @ songwriter , artist and writer . [he] has been influential in popular music and culture for more than [five] decades . much of [his] most celebrated work dates from the 1960s when his [songs] chronicle ##d social unrest [,] although dylan [rep] ##udi [##ated] suggestions [from] journalists that [he] was a spokesman for his [generation] . nevertheless , early songs such as \" blow ##in ' [in] [the] wind \" and \" the [times] they are a @ - @ &lt; un ##k &gt; ' \" [became] anthem [##s] for the american [civil] rights and anti [@] - @ war movements . after he left his initial base [in] the american folk music revival , his six @ - @ minute single \" [like] a [rolling] stone [\"] altered the [range] of popular music in 1965 . his mid @ - @ 1960s recordings , backed by rock musicians , reached the top end of [the] united states [music] charts while also [attracting] &lt; un ##k &gt; and criticism from others in [the] [folk] movement . dylan ' [s] lyrics have incorporated various political , social , philosophical , and literary [influences] . they def ##ied existing pop [music] conventions and appealed [to] the bu ##rgeon ##ing counter [##culture] . initially inspired by the [performances] of little richard and</td>\n",
       "    </tr>\n",
       "    <tr>\n",
       "      <th>1</th>\n",
       "      <td>[MASK] george calvert , 1st baron [MASK] = george calvert , 1st [baron] baltimore ( &lt; un ##k &gt; – 15 april 1632 [MASK] was an english politician and &lt; un ##k &gt; . he [MASK] domestic political success [MASK] a member of parliament and [later] secretary of state under king james i . he lost [MASK] [of] [MASK] political power after his support for [MASK] failed marriage alliance between prince charles and the spanish [MASK] of habsburg [MASK] family . rather than continue in politics [MASK] he resigned all [sinclair] his [MASK] offices in 1625 except for his position on the [MASK] council and declared his catholicism publicly . [MASK] was created baron baltimore in the irish peerage [MASK] his resignation . baltimore manor was located in county long ##ford , ireland . calvert took an interest in [the] british colonization of [MASK] americas , at first for commercial reasons and [MASK] to create a refuge for [MASK] catholics . he became the proprietor of avalon , the first sustained [english] settlement on the [MASK] peninsula on the island of newfoundland ( off the eastern coast [MASK] modern canada ) [MASK] &lt; [MASK] [MASK] &gt; [MASK] its [MASK] and sometimes in ##hos ##pit ##able climate and the &lt; un ##k [MASK] of the [MASK] , sir george looked [MASK] [MASK] more suitable spot [further] south [MASK] sought a new royal charter to settle the region , which would become the state of maryland . calvert died five weeks before</td>\n",
       "      <td>[=] george calvert , 1st baron [baltimore] = george calvert , 1st [baron] baltimore ( &lt; un ##k &gt; – 15 april 1632 [)] was an english politician and &lt; un ##k &gt; . he [achieved] domestic political success [as] a member of parliament and [later] secretary of state under king james i . he lost [much] [of] [his] political power after his support for [a] failed marriage alliance between prince charles and the spanish [house] of habsburg [royal] family . rather than continue in politics [,] he resigned all [of] his [political] offices in 1625 except for his position on the [privy] council and declared his catholicism publicly . [he] was created baron baltimore in the irish peerage [upon] his resignation . baltimore manor was located in county long ##ford , ireland . calvert took an interest in [the] british colonization of [the] americas , at first for commercial reasons and [later] to create a refuge for [english] catholics . he became the proprietor of avalon , the first sustained [english] settlement on the [southeastern] peninsula on the island of newfoundland ( off the eastern coast [of] modern canada ) [.] &lt; [un] [##k] &gt; [by] its [cold] and sometimes in ##hos ##pit ##able climate and the &lt; un ##k [&gt;] of the [settlers] , sir george looked [for] [a] more suitable spot [further] south [and] sought a new royal charter to settle the region , which would become the state of maryland . calvert died five weeks before</td>\n",
       "    </tr>\n",
       "  </tbody>\n",
       "</table>"
      ],
      "text/plain": [
       "<IPython.core.display.HTML object>"
      ]
     },
     "metadata": {},
     "output_type": "display_data"
    }
   ],
   "source": [
    "dls.show_batch(dataloaders=dls, max_n=2, trunc_at=250)"
   ]
  },
  {
   "cell_type": "code",
   "execution_count": null,
   "metadata": {},
   "outputs": [],
   "source": [
    "model = HF_BaseModelWrapper(hf_model)\n",
    "\n",
    "learn = Learner(dls, \n",
    "                model,\n",
    "                opt_func=partial(Adam),\n",
    "                loss_func=HF_PreCalculatedLoss(),\n",
    "                cbs=[HF_BaseModelCallback],\n",
    "                metrics=[accuracy, perplexity, FBeta(beta=1, average='micro')],\n",
    "                splitter=hf_splitter)#.to_fp16()\n",
    "\n",
    "learn.freeze()"
   ]
  },
  {
   "cell_type": "code",
   "execution_count": null,
   "metadata": {},
   "outputs": [
    {
     "data": {
      "text/html": [],
      "text/plain": [
       "<IPython.core.display.HTML object>"
      ]
     },
     "metadata": {},
     "output_type": "display_data"
    },
    {
     "data": {
      "text/plain": [
       "HF_BaseModelWrapper (Input shape: 2)\n",
       "============================================================================\n",
       "Layer (type)         Output Shape         Param #    Trainable \n",
       "============================================================================\n",
       "                     2 x 512 x 768       \n",
       "Embedding                                 23440896   False     \n",
       "Embedding                                 393216     False     \n",
       "Embedding                                 1536       False     \n",
       "LayerNorm                                 1536       True      \n",
       "Dropout                                                        \n",
       "Linear                                    590592     False     \n",
       "Linear                                    590592     False     \n",
       "Linear                                    590592     False     \n",
       "Dropout                                                        \n",
       "Linear                                    590592     False     \n",
       "LayerNorm                                 1536       True      \n",
       "Dropout                                                        \n",
       "____________________________________________________________________________\n",
       "                     2 x 512 x 3072      \n",
       "Linear                                    2362368    False     \n",
       "____________________________________________________________________________\n",
       "                     2 x 512 x 768       \n",
       "Linear                                    2360064    False     \n",
       "LayerNorm                                 1536       True      \n",
       "Dropout                                                        \n",
       "Linear                                    590592     False     \n",
       "Linear                                    590592     False     \n",
       "Linear                                    590592     False     \n",
       "Dropout                                                        \n",
       "Linear                                    590592     False     \n",
       "LayerNorm                                 1536       True      \n",
       "Dropout                                                        \n",
       "____________________________________________________________________________\n",
       "                     2 x 512 x 3072      \n",
       "Linear                                    2362368    False     \n",
       "____________________________________________________________________________\n",
       "                     2 x 512 x 768       \n",
       "Linear                                    2360064    False     \n",
       "LayerNorm                                 1536       True      \n",
       "Dropout                                                        \n",
       "Linear                                    590592     False     \n",
       "Linear                                    590592     False     \n",
       "Linear                                    590592     False     \n",
       "Dropout                                                        \n",
       "Linear                                    590592     False     \n",
       "LayerNorm                                 1536       True      \n",
       "Dropout                                                        \n",
       "____________________________________________________________________________\n",
       "                     2 x 512 x 3072      \n",
       "Linear                                    2362368    False     \n",
       "____________________________________________________________________________\n",
       "                     2 x 512 x 768       \n",
       "Linear                                    2360064    False     \n",
       "LayerNorm                                 1536       True      \n",
       "Dropout                                                        \n",
       "Linear                                    590592     False     \n",
       "Linear                                    590592     False     \n",
       "Linear                                    590592     False     \n",
       "Dropout                                                        \n",
       "Linear                                    590592     False     \n",
       "LayerNorm                                 1536       True      \n",
       "Dropout                                                        \n",
       "____________________________________________________________________________\n",
       "                     2 x 512 x 3072      \n",
       "Linear                                    2362368    False     \n",
       "____________________________________________________________________________\n",
       "                     2 x 512 x 768       \n",
       "Linear                                    2360064    False     \n",
       "LayerNorm                                 1536       True      \n",
       "Dropout                                                        \n",
       "Linear                                    590592     False     \n",
       "Linear                                    590592     False     \n",
       "Linear                                    590592     False     \n",
       "Dropout                                                        \n",
       "Linear                                    590592     False     \n",
       "LayerNorm                                 1536       True      \n",
       "Dropout                                                        \n",
       "____________________________________________________________________________\n",
       "                     2 x 512 x 3072      \n",
       "Linear                                    2362368    False     \n",
       "____________________________________________________________________________\n",
       "                     2 x 512 x 768       \n",
       "Linear                                    2360064    False     \n",
       "LayerNorm                                 1536       True      \n",
       "Dropout                                                        \n",
       "Linear                                    590592     False     \n",
       "Linear                                    590592     False     \n",
       "Linear                                    590592     False     \n",
       "Dropout                                                        \n",
       "Linear                                    590592     False     \n",
       "LayerNorm                                 1536       True      \n",
       "Dropout                                                        \n",
       "____________________________________________________________________________\n",
       "                     2 x 512 x 3072      \n",
       "Linear                                    2362368    False     \n",
       "____________________________________________________________________________\n",
       "                     2 x 512 x 768       \n",
       "Linear                                    2360064    False     \n",
       "LayerNorm                                 1536       True      \n",
       "Dropout                                                        \n",
       "Linear                                    590592     False     \n",
       "Linear                                    590592     False     \n",
       "Linear                                    590592     False     \n",
       "Dropout                                                        \n",
       "Linear                                    590592     False     \n",
       "LayerNorm                                 1536       True      \n",
       "Dropout                                                        \n",
       "____________________________________________________________________________\n",
       "                     2 x 512 x 3072      \n",
       "Linear                                    2362368    False     \n",
       "____________________________________________________________________________\n",
       "                     2 x 512 x 768       \n",
       "Linear                                    2360064    False     \n",
       "LayerNorm                                 1536       True      \n",
       "Dropout                                                        \n",
       "Linear                                    590592     False     \n",
       "Linear                                    590592     False     \n",
       "Linear                                    590592     False     \n",
       "Dropout                                                        \n",
       "Linear                                    590592     False     \n",
       "LayerNorm                                 1536       True      \n",
       "Dropout                                                        \n",
       "____________________________________________________________________________\n",
       "                     2 x 512 x 3072      \n",
       "Linear                                    2362368    False     \n",
       "____________________________________________________________________________\n",
       "                     2 x 512 x 768       \n",
       "Linear                                    2360064    False     \n",
       "LayerNorm                                 1536       True      \n",
       "Dropout                                                        \n",
       "Linear                                    590592     False     \n",
       "Linear                                    590592     False     \n",
       "Linear                                    590592     False     \n",
       "Dropout                                                        \n",
       "Linear                                    590592     False     \n",
       "LayerNorm                                 1536       True      \n",
       "Dropout                                                        \n",
       "____________________________________________________________________________\n",
       "                     2 x 512 x 3072      \n",
       "Linear                                    2362368    False     \n",
       "____________________________________________________________________________\n",
       "                     2 x 512 x 768       \n",
       "Linear                                    2360064    False     \n",
       "LayerNorm                                 1536       True      \n",
       "Dropout                                                        \n",
       "Linear                                    590592     False     \n",
       "Linear                                    590592     False     \n",
       "Linear                                    590592     False     \n",
       "Dropout                                                        \n",
       "Linear                                    590592     False     \n",
       "LayerNorm                                 1536       True      \n",
       "Dropout                                                        \n",
       "____________________________________________________________________________\n",
       "                     2 x 512 x 3072      \n",
       "Linear                                    2362368    False     \n",
       "____________________________________________________________________________\n",
       "                     2 x 512 x 768       \n",
       "Linear                                    2360064    False     \n",
       "LayerNorm                                 1536       True      \n",
       "Dropout                                                        \n",
       "Linear                                    590592     False     \n",
       "Linear                                    590592     False     \n",
       "Linear                                    590592     False     \n",
       "Dropout                                                        \n",
       "Linear                                    590592     False     \n",
       "LayerNorm                                 1536       True      \n",
       "Dropout                                                        \n",
       "____________________________________________________________________________\n",
       "                     2 x 512 x 3072      \n",
       "Linear                                    2362368    False     \n",
       "____________________________________________________________________________\n",
       "                     2 x 512 x 768       \n",
       "Linear                                    2360064    False     \n",
       "LayerNorm                                 1536       True      \n",
       "Dropout                                                        \n",
       "Linear                                    590592     False     \n",
       "Linear                                    590592     False     \n",
       "Linear                                    590592     False     \n",
       "Dropout                                                        \n",
       "Linear                                    590592     False     \n",
       "LayerNorm                                 1536       True      \n",
       "Dropout                                                        \n",
       "____________________________________________________________________________\n",
       "                     2 x 512 x 3072      \n",
       "Linear                                    2362368    False     \n",
       "____________________________________________________________________________\n",
       "                     2 x 512 x 768       \n",
       "Linear                                    2360064    False     \n",
       "LayerNorm                                 1536       True      \n",
       "Dropout                                                        \n",
       "Linear                                    590592     True      \n",
       "LayerNorm                                 1536       True      \n",
       "____________________________________________________________________________\n",
       "                     2 x 512 x 30522     \n",
       "Linear                                    23471418   False     \n",
       "____________________________________________________________________________\n",
       "\n",
       "Total params: 132,955,194\n",
       "Total trainable params: 630,528\n",
       "Total non-trainable params: 132,324,666\n",
       "\n",
       "Optimizer used: functools.partial(<function Adam at 0x7fb568263820>)\n",
       "Loss function: <blurr.modeling.core.HF_PreCalculatedLoss object at 0x7fb55234e310>\n",
       "\n",
       "Model frozen up to parameter group #2\n",
       "\n",
       "Callbacks:\n",
       "  - TrainEvalCallback\n",
       "  - HF_BaseModelCallback\n",
       "  - Recorder\n",
       "  - ProgressCallback"
      ]
     },
     "execution_count": null,
     "metadata": {},
     "output_type": "execute_result"
    }
   ],
   "source": [
    "learn.summary()"
   ]
  },
  {
   "cell_type": "code",
   "execution_count": null,
   "metadata": {},
   "outputs": [
    {
     "name": "stdout",
     "output_type": "stream",
     "text": [
      "3\n"
     ]
    }
   ],
   "source": [
    "print(len(learn.opt.param_groups))"
   ]
  },
  {
   "cell_type": "code",
   "execution_count": null,
   "metadata": {},
   "outputs": [
    {
     "data": {
      "text/html": [],
      "text/plain": [
       "<IPython.core.display.HTML object>"
      ]
     },
     "metadata": {},
     "output_type": "display_data"
    },
    {
     "name": "stderr",
     "output_type": "stream",
     "text": [
      "/home/wgilliam/miniconda3/envs/blurr/lib/python3.9/site-packages/fastai/callback/schedule.py:270: UserWarning: color is redundantly defined by the 'color' keyword argument and the fmt string \"ro\" (-> color='r'). The keyword argument will take precedence.\n",
      "  ax.plot(val, idx, 'ro', label=nm, c=color)\n"
     ]
    },
    {
     "data": {
      "text/plain": [
       "SuggestedLRs(minimum=6.918309954926372e-05, steep=1.0964781722577754e-06, valley=tensor(0.0012), slide=tensor(0.0006))"
      ]
     },
     "execution_count": null,
     "metadata": {},
     "output_type": "execute_result"
    },
    {
     "data": {
      "image/png": "[encoded data removed]",
      "text/plain": [
       "<Figure size 640x480 with 1 Axes>"
      ]
     },
     "metadata": {},
     "output_type": "display_data"
    }
   ],
   "source": [
    "#slow\n",
    "learn.lr_find(suggest_funcs=[minimum, steep, valley, slide])"
   ]
  },
  {
   "cell_type": "code",
   "execution_count": null,
   "metadata": {},
   "outputs": [
    {
     "data": {
      "text/html": [
       "<table border=\"1\" class=\"dataframe\">\n",
       "  <thead>\n",
       "    <tr style=\"text-align: left;\">\n",
       "      <th>epoch</th>\n",
       "      <th>train_loss</th>\n",
       "      <th>valid_loss</th>\n",
       "      <th>accuracy</th>\n",
       "      <th>perplexity</th>\n",
       "      <th>fbeta_score</th>\n",
       "      <th>time</th>\n",
       "    </tr>\n",
       "  </thead>\n",
       "  <tbody>\n",
       "    <tr>\n",
       "      <td>0</td>\n",
       "      <td>1.671741</td>\n",
       "      <td>1.417179</td>\n",
       "      <td>0.107089</td>\n",
       "      <td>4.125465</td>\n",
       "      <td>0.107089</td>\n",
       "      <td>00:35</td>\n",
       "    </tr>\n",
       "  </tbody>\n",
       "</table>"
      ],
      "text/plain": [
       "<IPython.core.display.HTML object>"
      ]
     },
     "metadata": {},
     "output_type": "display_data"
    }
   ],
   "source": [
    "#slow\n",
    "learn.fit_one_cycle(1, lr_max=6e-4)"
   ]
  },
  {
   "cell_type": "code",
   "execution_count": null,
   "metadata": {},
   "outputs": [
    {
     "data": {
      "text/html": [
       "<table border=\"1\" class=\"dataframe\">\n",
       "  <thead>\n",
       "    <tr style=\"text-align: left;\">\n",
       "      <th>epoch</th>\n",
       "      <th>train_loss</th>\n",
       "      <th>valid_loss</th>\n",
       "      <th>accuracy</th>\n",
       "      <th>perplexity</th>\n",
       "      <th>fbeta_score</th>\n",
       "      <th>time</th>\n",
       "    </tr>\n",
       "  </thead>\n",
       "  <tbody>\n",
       "    <tr>\n",
       "      <td>0</td>\n",
       "      <td>1.651779</td>\n",
       "      <td>1.485794</td>\n",
       "      <td>0.104430</td>\n",
       "      <td>4.418471</td>\n",
       "      <td>0.104430</td>\n",
       "      <td>00:56</td>\n",
       "    </tr>\n",
       "    <tr>\n",
       "      <td>1</td>\n",
       "      <td>1.568780</td>\n",
       "      <td>1.480760</td>\n",
       "      <td>0.105552</td>\n",
       "      <td>4.396283</td>\n",
       "      <td>0.105552</td>\n",
       "      <td>00:56</td>\n",
       "    </tr>\n",
       "  </tbody>\n",
       "</table>"
      ],
      "text/plain": [
       "<IPython.core.display.HTML object>"
      ]
     },
     "metadata": {},
     "output_type": "display_data"
    }
   ],
   "source": [
    "#slow\n",
    "learn.unfreeze()\n",
    "learn.fit_one_cycle(2, lr_max=slice(1e-9, 1e-6))"
   ]
  },
  {
   "cell_type": "code",
   "execution_count": null,
   "metadata": {},
   "outputs": [],
   "source": [
    "#export\n",
    "@typedispatch\n",
    "def show_results(x:HF_MLMInput, y, samples, outs, learner, ctxs=None, max_n=6, trunc_at=None, **kwargs):  \n",
    "    # grab our tokenizer and ignore token to decode\n",
    "    hf_before_batch_tfm = get_blurr_tfm(learner.dls.before_batch)\n",
    "    hf_config = hf_before_batch_tfm.hf_config\n",
    "    hf_tokenizer = hf_before_batch_tfm.hf_tokenizer\n",
    "    ignore_token_id = hf_before_batch_tfm.ignore_token_id\n",
    "    \n",
    "    # grab our mask token id and do-not-mask token ids\n",
    "    mask_token_id = hf_tokenizer.mask_token_id\n",
    "    dnm_tok_ids = hf_before_batch_tfm.lm_strategy.dnm_tok_ids\n",
    "    \n",
    "    res = L()\n",
    "    for s, t in zip(samples, outs):\n",
    "        # exclue dnm tokens from input\n",
    "        inps = [ hf_tokenizer.decode(tok_id) \n",
    "                if (tok_id == mask_token_id or s[1][idx] == ignore_token_id) \n",
    "                else f'[{hf_tokenizer.decode(tok_id)}]' \n",
    "                for idx, tok_id in enumerate(s[0]) if (tok_id not in dnm_tok_ids) ]\n",
    "        \n",
    "        # replaced masked tokens with \"[{actual_token}]\"\n",
    "        trgs = [ hf_tokenizer.decode(s[0][idx]) \n",
    "                if (tok_id == ignore_token_id) \n",
    "                else f'[{hf_tokenizer.decode(tok_id)}]'\n",
    "                for idx, tok_id in enumerate(s[1]) if (s[0][idx] not in dnm_tok_ids) ]\n",
    "\n",
    "        # same as above except we replace the [MASK] with the PREDICTED token\n",
    "        preds = [ hf_tokenizer.decode(s[0][idx])\n",
    "                 if (tok_id == ignore_token_id) \n",
    "                 else f'[{hf_tokenizer.decode(t[0][idx])}]' \n",
    "                 for idx, tok_id in enumerate(s[1]) if (s[0][idx] not in dnm_tok_ids) ]\n",
    "  \n",
    "        res.append((' '.join(inps[:trunc_at]).strip(), \n",
    "                    ' '.join(trgs[:trunc_at]).strip(),\n",
    "                    ' '.join(preds[:trunc_at]).strip()))\n",
    "    \n",
    "    display_df(pd.DataFrame(res, columns=['text', 'target', 'prediction'])[:max_n])\n",
    "    return ctxs"
   ]
  },
  {
   "cell_type": "code",
   "execution_count": null,
   "metadata": {},
   "outputs": [
    {
     "data": {
      "text/html": [],
      "text/plain": [
       "<IPython.core.display.HTML object>"
      ]
     },
     "metadata": {},
     "output_type": "display_data"
    },
    {
     "data": {
      "text/html": [
       "<table border=\"1\" class=\"dataframe\">\n",
       "  <thead>\n",
       "    <tr style=\"text-align: right;\">\n",
       "      <th></th>\n",
       "      <th>text</th>\n",
       "      <th>target</th>\n",
       "      <th>prediction</th>\n",
       "    </tr>\n",
       "  </thead>\n",
       "  <tbody>\n",
       "    <tr>\n",
       "      <th>0</th>\n",
       "      <td>= military history [##onal] australia = the military history of australia spans [the] nation ' [MASK] [MASK] @ - @ year modern history , from the early australian frontier wars between &lt; [MASK] ##k [&gt;] [MASK] [pendant] [MASK] the ongoing conflicts in iraq and [export] in the early 21st century . although this history is short when compared to [MASK] of many [MASK] nations [,] australia has been involved in numerous conflicts and [wars] , and [MASK] and military [MASK] have been significant influences on [MASK] society and national [MASK] , including the anzac spirit . the relationship between war and australian society has also been shaped [MASK] the enduring themes of australian strategic culture and [MASK] [MASK] security [MASK] [MASK] as british &lt; un ##k &gt; , the australian [MASK] participated in britain ' s small wars of the 19th century , while later as a &lt; un ##k &gt; dominion , and then an independent nation , australia fought in the first world war and second world war [MASK] as well as in the wars in korea , malaya , borneo and vietnam during the [MASK] war . in the post @ - @ vietnam era australian forces have [MASK] involved in numerous international [MASK] missions , through the united [MASK] [MASK] other agencies , [MASK] in [MASK] sinai [MASK] persian gulf , &lt; un ##k &gt; , [MASK] , east timor and the solomon [MASK] , while more recently they have also [fought] as part of [MASK]</td>\n",
       "      <td>= military history [of] australia = the military history of australia spans [the] nation ' [s] [220] @ - @ year modern history , from the early australian frontier wars between &lt; [un] ##k [&gt;] [and] [europeans] [to] the ongoing conflicts in iraq and [afghanistan] in the early 21st century . although this history is short when compared to [that] of many [other] nations [,] australia has been involved in numerous conflicts and [wars] , and [war] and military [service] have been significant influences on [australian] society and national [identity] , including the anzac spirit . the relationship between war and australian society has also been shaped [by] the enduring themes of australian strategic culture and [its] [unique] security [dilemma] [.] as british &lt; un ##k &gt; , the australian [colonies] participated in britain ' s small wars of the 19th century , while later as a &lt; un ##k &gt; dominion , and then an independent nation , australia fought in the first world war and second world war [,] as well as in the wars in korea , malaya , borneo and vietnam during the [cold] war . in the post @ - @ vietnam era australian forces have [been] involved in numerous international [peacekeeping] missions , through the united [nations] [and] other agencies , [including] in [the] sinai [,] persian gulf , &lt; un ##k &gt; , [somalia] , east timor and the solomon [islands] , while more recently they have also [fought] as part of [multi]</td>\n",
       "      <td>= military history [of] australia = the military history of australia spans [the] nation ' [s] [post] @ - @ year modern history , from the early australian frontier wars between &lt; [un] ##k [&gt;] [,] [up] [to] the ongoing conflicts in iraq and [afghanistan] in the early 21st century . although this history is short when compared to [those] of many [other] nations [,] australia has been involved in numerous conflicts and [wars] , and [war] and military [forces] have been significant influences on [australian] society and national [identity] , including the anzac spirit . the relationship between war and australian society has also been shaped [by] the enduring themes of australian strategic culture and [australian] [and] security [.] [.] as british &lt; un ##k &gt; , the australian [army] participated in britain ' s small wars of the 19th century , while later as a &lt; un ##k &gt; dominion , and then an independent nation , australia fought in the first world war and second world war [,] as well as in the wars in korea , malaya , borneo and vietnam during the [vietnam] war . in the post @ - @ vietnam era australian forces have [been] involved in numerous international [peacekeeping] missions , through the united [nations] [and] other agencies , [particularly] in [the] sinai [,] persian gulf , &lt; un ##k &gt; , [afghanistan] , east timor and the solomon [islands] , while more recently they have also [fought] as part of [the]</td>\n",
       "    </tr>\n",
       "    <tr>\n",
       "      <th>1</th>\n",
       "      <td>[MASK] air rhodesia [MASK] &lt; un ##k &gt; [MASK] air rhodesia flight &lt; un ##k &gt; was a scheduled passenger flight that was [MASK] down by the zimbabwe people ' s revolutionary army ( &lt; un ##k &gt; [MASK] on 3 [MASK] 1978 [MASK] during [MASK] rhodesia ##n bush war [MASK] the aircraft involved , a vickers viscount named the &lt; un ##k [MASK] , was [MASK] the last leg of air [MASK] ['] s regular scheduled service from victoria falls to the capital salisbury , via the resort town of &lt; un [MASK] &gt; [MASK] soon after flight &lt; un ##k [MASK] took off , a group of &lt; un ##k &gt; guerrillas scored [MASK] [MASK] [MASK] on its starboard wing with a soviet @ - @ made [MASK] un ##k &gt; 2 surface @ - @ to @ [MASK] @ air infrared &lt; un ##k [MASK] [MASK] , critically damaging [MASK] aircraft and forcing [MASK] emergency landing . an attempted belly landing in a [MASK] [MASK] just west of &lt; [balloon] [MASK] [MASK] was &lt; [MASK] [##ᆨ] &gt; by an unseen ditch , [MASK] caused the plane to cart ##wheel and break up [northwards] of the 52 passengers and four crew , 38 died in this crash ; the insurgents then approached the wreckage [MASK] rounded up the 10 survivors they [could] see and massacre ##d them with automatic gunfire . three passengers survived by hiding in the surrounding bush , while a [MASK] five lived [because] they</td>\n",
       "      <td>[=] air rhodesia [flight] &lt; un ##k &gt; [=] air rhodesia flight &lt; un ##k &gt; was a scheduled passenger flight that was [shot] down by the zimbabwe people ' s revolutionary army ( &lt; un ##k &gt; [)] on 3 [september] 1978 [,] during [the] rhodesia ##n bush war [.] the aircraft involved , a vickers viscount named the &lt; un ##k [&gt;] , was [flying] the last leg of air [rhodesia] ['] s regular scheduled service from victoria falls to the capital salisbury , via the resort town of &lt; un [##k] &gt; [.] soon after flight &lt; un ##k [&gt;] took off , a group of &lt; un ##k &gt; guerrillas scored [a] [direct] [hit] on its starboard wing with a soviet @ - @ made [&lt;] un ##k &gt; 2 surface @ - @ to @ [-] @ air infrared &lt; un ##k [&gt;] [missile] , critically damaging [the] aircraft and forcing [an] emergency landing . an attempted belly landing in a [cotton] [field] just west of &lt; [un] [##k] [&gt;] was &lt; [un] [##k] &gt; by an unseen ditch , [which] caused the plane to cart ##wheel and break up [.] of the 52 passengers and four crew , 38 died in this crash ; the insurgents then approached the wreckage [,] rounded up the 10 survivors they [could] see and massacre ##d them with automatic gunfire . three passengers survived by hiding in the surrounding bush , while a [further] five lived [because] they</td>\n",
       "      <td>[the] air rhodesia [flight] &lt; un ##k &gt; [or] air rhodesia flight &lt; un ##k &gt; was a scheduled passenger flight that was [shot] down by the zimbabwe people ' s revolutionary army ( &lt; un ##k &gt; [)] on 3 [march] 1978 [,] during [the] rhodesia ##n bush war [.] the aircraft involved , a vickers viscount named the &lt; un ##k [&gt;] , was [operating] the last leg of air [rhodesia] ['] s regular scheduled service from victoria falls to the capital salisbury , via the resort town of &lt; un [##k] &gt; [.] soon after flight &lt; un ##k [&gt;] took off , a group of &lt; un ##k &gt; guerrillas scored [a] [@] [hits] on its starboard wing with a soviet @ - @ made [&lt;] un ##k &gt; 2 surface @ - @ to @ [-] @ air infrared &lt; un ##k [&gt;] [bomb] , critically damaging [the] aircraft and forcing [an] emergency landing . an attempted belly landing in a [bush] [field] just west of &lt; [balloon] [&gt;] [&gt;] was &lt; [un] [##k] &gt; by an unseen ditch , [which] caused the plane to cart ##wheel and break up [.] of the 52 passengers and four crew , 38 died in this crash ; the insurgents then approached the wreckage [,] rounded up the 10 survivors they [could] see and massacre ##d them with automatic gunfire . three passengers survived by hiding in the surrounding bush , while a [further] five lived [because] they</td>\n",
       "    </tr>\n",
       "  </tbody>\n",
       "</table>"
      ],
      "text/plain": [
       "<IPython.core.display.HTML object>"
      ]
     },
     "metadata": {},
     "output_type": "display_data"
    }
   ],
   "source": [
    "#slow\n",
    "learn.show_results(learner=learn, trunc_at=250)"
   ]
  },
  {
   "cell_type": "code",
   "execution_count": null,
   "metadata": {},
   "outputs": [],
   "source": []
  },
  {
   "cell_type": "markdown",
   "metadata": {},
   "source": [
    "## Cleanup"
   ]
  },
  {
   "cell_type": "code",
   "execution_count": null,
   "metadata": {},
   "outputs": [
    {
     "name": "stdout",
     "output_type": "stream",
     "text": [
      "Converted 00_utils.ipynb.\n",
      "Converted 01_data-core.ipynb.\n",
      "Converted 01_modeling-core.ipynb.\n",
      "Converted 02_data-language-modeling.ipynb.\n",
      "Converted 02_modeling-language-modeling.ipynb.\n",
      "Converted 03_data-token-classification.ipynb.\n",
      "Converted 03_modeling-token-classification.ipynb.\n",
      "Converted 04_data-question-answering.ipynb.\n",
      "Converted 04_modeling-question-answering.ipynb.\n",
      "Converted 10_data-seq2seq-core.ipynb.\n",
      "Converted 10_modeling-seq2seq-core.ipynb.\n",
      "Converted 11_data-seq2seq-summarization.ipynb.\n",
      "Converted 11_modeling-seq2seq-summarization.ipynb.\n",
      "Converted 12_data-seq2seq-translation.ipynb.\n",
      "Converted 12_modeling-seq2seq-translation.ipynb.\n",
      "Converted 99a_examples-multilabel.ipynb.\n",
      "Converted index.ipynb.\n"
     ]
    }
   ],
   "source": [
    "#hide\n",
    "from nbdev.export import notebook2script\n",
    "notebook2script()"
   ]
  },
  {
   "cell_type": "code",
   "execution_count": null,
   "metadata": {},
   "outputs": [],
   "source": []
  }
 ],
 "metadata": {
  "kernelspec": {
   "display_name": "Python 3",
   "language": "python",
   "name": "python3"
  }
 },
 "nbformat": 4,
 "nbformat_minor": 4
}
