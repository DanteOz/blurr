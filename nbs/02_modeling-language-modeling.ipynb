{
 "cells": [
  {
   "cell_type": "code",
   "execution_count": null,
   "metadata": {},
   "outputs": [],
   "source": [
    "# default_exp modeling.language_modeling\n"
   ]
  },
  {
   "cell_type": "code",
   "execution_count": null,
   "metadata": {},
   "outputs": [],
   "source": [
    "# all_slow\n"
   ]
  },
  {
   "cell_type": "code",
   "execution_count": null,
   "metadata": {},
   "outputs": [],
   "source": [
    "#hide\n",
    "%reload_ext autoreload\n",
    "%autoreload 2\n",
    "%matplotlib inline"
   ]
  },
  {
   "cell_type": "markdown",
   "metadata": {},
   "source": [
    "# modeling.language_modeling\n",
    "\n",
    "> This module contains custom models, custom splitters, etc... for both causal and MLM language modeling tasks. This includes things like training BERT from scratch or fine-tuning a particular pre-trained LM on your own corpus.\n",
    "\n",
    "**This is currently a work in progress** - You've been warned : )"
   ]
  },
  {
   "cell_type": "code",
   "execution_count": null,
   "metadata": {},
   "outputs": [],
   "source": [
    "# export\n",
    "import ast, gc, inspect, os\n",
    "from typing import Any, Callable, Dict, List, Optional, Union, Type\n",
    "\n",
    "from fastcore.all import *\n",
    "from fastai.callback.all import *\n",
    "from fastai.data.block import DataBlock, ColReader, ItemGetter, ColSplitter, RandomSplitter\n",
    "from fastai.data.core import DataLoader, DataLoaders, TfmdDL\n",
    "from fastai.imports import *\n",
    "from fastai.learner import *\n",
    "from fastai.losses import CrossEntropyLossFlat\n",
    "from fastai.optimizer import Adam, OptimWrapper, params\n",
    "from fastai.metrics import perplexity\n",
    "from fastai.torch_core import *\n",
    "from fastai.torch_imports import *\n",
    "from fastprogress.fastprogress import progress_bar, master_bar\n",
    "from sklearn.metrics import accuracy_score\n",
    "from transformers import AutoModelForCausalLM, AutoModelForMaskedLM, logging, PretrainedConfig, PreTrainedTokenizerBase, PreTrainedModel\n",
    "\n",
    "\n",
    "from blurr.utils import BLURR\n",
    "from blurr.data.core import BlurrDataLoader, TextBlock, first_blurr_tfm\n",
    "from blurr.modeling.core import Blearner, PreCalculatedCrossEntropyLoss\n",
    "from blurr.data.language_modeling import (\n",
    "    BaseLMStrategy,\n",
    "    LMBatchTokenizeTransform,\n",
    "    LMPreprocessor,\n",
    "    LMType,\n",
    "    CausalLMTextInput,\n",
    "    CausalLMStrategy,\n",
    "    MLMTextInput,\n",
    "    BertMLMStrategy,\n",
    ")\n",
    "\n",
    "logging.set_verbosity_error()\n"
   ]
  },
  {
   "cell_type": "code",
   "execution_count": null,
   "metadata": {},
   "outputs": [
    {
     "name": "stdout",
     "output_type": "stream",
     "text": [
      "What we're running with at the time this documentation was generated:\n",
      "torch: 1.10.1+cu111\n",
      "fastai: 2.5.3\n",
      "transformers: 4.16.2\n"
     ]
    }
   ],
   "source": [
    "# hide_input\n",
    "import pdb\n",
    "\n",
    "from fastai.data.external import untar_data, URLs\n",
    "from fastcore.test import *\n",
    "from nbdev.showdoc import show_doc\n",
    "\n",
    "from blurr.utils import print_versions\n",
    "from blurr.modeling.core import BaseModelWrapper, BaseModelCallback, PreCalculatedLoss, blurr_splitter\n",
    "\n",
    "os.environ[\"TOKENIZERS_PARALLELISM\"] = \"false\"\n",
    "print(\"What we're running with at the time this documentation was generated:\")\n",
    "print_versions(\"torch fastai transformers\")\n"
   ]
  },
  {
   "cell_type": "code",
   "execution_count": null,
   "metadata": {},
   "outputs": [
    {
     "name": "stdout",
     "output_type": "stream",
     "text": [
      "Using GPU #1: GeForce GTX 1080 Ti\n"
     ]
    }
   ],
   "source": [
    "# hide\n",
    "# cuda\n",
    "torch.cuda.set_device(1)\n",
    "print(f\"Using GPU #{torch.cuda.current_device()}: {torch.cuda.get_device_name()}\")\n"
   ]
  },
  {
   "cell_type": "markdown",
   "metadata": {},
   "source": [
    "## Setup\n",
    "\n",
    "For this example, we'll use the `WIKITEXT_TINY` dataset available from fastai to demonstrate how to configure BLURR code for language modeling"
   ]
  },
  {
   "cell_type": "code",
   "execution_count": null,
   "metadata": {},
   "outputs": [
    {
     "name": "stdout",
     "output_type": "stream",
     "text": [
      "662\n"
     ]
    },
    {
     "data": {
      "text/html": [
       "<div>\n",
       "<style scoped>\n",
       "    .dataframe tbody tr th:only-of-type {\n",
       "        vertical-align: middle;\n",
       "    }\n",
       "\n",
       "    .dataframe tbody tr th {\n",
       "        vertical-align: top;\n",
       "    }\n",
       "\n",
       "    .dataframe thead th {\n",
       "        text-align: right;\n",
       "    }\n",
       "</style>\n",
       "<table border=\"1\" class=\"dataframe\">\n",
       "  <thead>\n",
       "    <tr style=\"text-align: right;\">\n",
       "      <th></th>\n",
       "      <th>0</th>\n",
       "      <th>is_valid</th>\n",
       "    </tr>\n",
       "  </thead>\n",
       "  <tbody>\n",
       "    <tr>\n",
       "      <th>0</th>\n",
       "      <td>\\n = 2013 – 14 York City F.C. season = \\n \\n The 2013 – 14 season was the &lt;unk&gt; season of competitive association football and 77th season in the Football League played by York City Football Club , a professional football club based in York , North Yorkshire , England . Their 17th @-@ place finish in 2012 – 13 meant it was their second consecutive season in League Two . The season ran from 1 July 2013 to 30 June 2014 . \\n Nigel Worthington , starting his first full season as York manager , made eight permanent summer signings . By the turn of the year York were only above the relegation z...</td>\n",
       "      <td>False</td>\n",
       "    </tr>\n",
       "    <tr>\n",
       "      <th>1</th>\n",
       "      <td>\\n = Big Boy ( song ) = \\n \\n \" Big Boy \" &lt;unk&gt; \" I 'm A Big Boy Now \" was the first single ever recorded by the Jackson 5 , which was released by Steeltown Records in January 1968 . The group played instruments on many of their Steeltown compositions , including \" Big Boy \" . The song was neither a critical nor commercial success , but the Jackson family were delighted with the outcome nonetheless . \\n The Jackson 5 would release a second single with Steeltown Records before moving to Motown Records . The group 's recordings at Steeltown Records were thought to be lost , but they were re...</td>\n",
       "      <td>False</td>\n",
       "    </tr>\n",
       "    <tr>\n",
       "      <th>2</th>\n",
       "      <td>\\n = The Remix ( Lady Gaga album ) = \\n \\n The Remix is a remix album by American recording artist Lady Gaga . Released in Japan on March 3 , 2010 , it contains remixes of the songs from her first studio album , The Fame ( 2008 ) , and her third extended play , The Fame Monster ( 2009 ) . A revised version of the track list was prepared for release in additional markets , beginning with Mexico on May 3 , 2010 . A number of recording artists have produced the songs , including Pet Shop Boys , Passion Pit and The Sound of Arrows . The remixed versions feature both uptempo and &lt;unk&gt; composit...</td>\n",
       "      <td>False</td>\n",
       "    </tr>\n",
       "    <tr>\n",
       "      <th>3</th>\n",
       "      <td>\\n = New Year 's Eve ( Up All Night ) = \\n \\n \" New Year 's Eve \" is the twelfth episode of the first season of the American comedy television series Up All Night . The episode originally aired on NBC in the United States on January 12 , 2012 . It was written by Erica &lt;unk&gt; and was directed by Beth McCarthy @-@ Miller . The episode also featured a guest appearance from Jason Lee as Chris and Reagan 's neighbor and Ava 's boyfriend , Kevin . \\n During Reagan ( Christina Applegate ) and Chris 's ( Will &lt;unk&gt; ) first New Year 's Eve game night , Reagan 's competitiveness comes out causing Ch...</td>\n",
       "      <td>False</td>\n",
       "    </tr>\n",
       "    <tr>\n",
       "      <th>4</th>\n",
       "      <td>\\n = Geopyxis carbonaria = \\n \\n Geopyxis carbonaria is a species of fungus in the genus Geopyxis , family &lt;unk&gt; . First described to science in 1805 , and given its current name in 1889 , the species is commonly known as the charcoal loving elf @-@ cup , dwarf &lt;unk&gt; cup , &lt;unk&gt; &lt;unk&gt; cup , or pixie cup . The small , &lt;unk&gt; @-@ shaped fruitbodies of the fungus are reddish @-@ brown with a whitish fringe and measure up to 2 cm ( 0 @.@ 8 in ) across . They have a short , tapered stalk . Fruitbodies are commonly found on soil where brush has recently been burned , sometimes in great numbers ....</td>\n",
       "      <td>False</td>\n",
       "    </tr>\n",
       "  </tbody>\n",
       "</table>\n",
       "</div>"
      ],
      "text/plain": [
       "                                                                                                                                                                                                                                                                                                                                                                                                                                                                                                                                                                                                                         0  \\\n",
       "0   \\n = 2013 – 14 York City F.C. season = \\n \\n The 2013 – 14 season was the <unk> season of competitive association football and 77th season in the Football League played by York City Football Club , a professional football club based in York , North Yorkshire , England . Their 17th @-@ place finish in 2012 – 13 meant it was their second consecutive season in League Two . The season ran from 1 July 2013 to 30 June 2014 . \\n Nigel Worthington , starting his first full season as York manager , made eight permanent summer signings . By the turn of the year York were only above the relegation z...   \n",
       "1   \\n = Big Boy ( song ) = \\n \\n \" Big Boy \" <unk> \" I 'm A Big Boy Now \" was the first single ever recorded by the Jackson 5 , which was released by Steeltown Records in January 1968 . The group played instruments on many of their Steeltown compositions , including \" Big Boy \" . The song was neither a critical nor commercial success , but the Jackson family were delighted with the outcome nonetheless . \\n The Jackson 5 would release a second single with Steeltown Records before moving to Motown Records . The group 's recordings at Steeltown Records were thought to be lost , but they were re...   \n",
       "2   \\n = The Remix ( Lady Gaga album ) = \\n \\n The Remix is a remix album by American recording artist Lady Gaga . Released in Japan on March 3 , 2010 , it contains remixes of the songs from her first studio album , The Fame ( 2008 ) , and her third extended play , The Fame Monster ( 2009 ) . A revised version of the track list was prepared for release in additional markets , beginning with Mexico on May 3 , 2010 . A number of recording artists have produced the songs , including Pet Shop Boys , Passion Pit and The Sound of Arrows . The remixed versions feature both uptempo and <unk> composit...   \n",
       "3   \\n = New Year 's Eve ( Up All Night ) = \\n \\n \" New Year 's Eve \" is the twelfth episode of the first season of the American comedy television series Up All Night . The episode originally aired on NBC in the United States on January 12 , 2012 . It was written by Erica <unk> and was directed by Beth McCarthy @-@ Miller . The episode also featured a guest appearance from Jason Lee as Chris and Reagan 's neighbor and Ava 's boyfriend , Kevin . \\n During Reagan ( Christina Applegate ) and Chris 's ( Will <unk> ) first New Year 's Eve game night , Reagan 's competitiveness comes out causing Ch...   \n",
       "4   \\n = Geopyxis carbonaria = \\n \\n Geopyxis carbonaria is a species of fungus in the genus Geopyxis , family <unk> . First described to science in 1805 , and given its current name in 1889 , the species is commonly known as the charcoal loving elf @-@ cup , dwarf <unk> cup , <unk> <unk> cup , or pixie cup . The small , <unk> @-@ shaped fruitbodies of the fungus are reddish @-@ brown with a whitish fringe and measure up to 2 cm ( 0 @.@ 8 in ) across . They have a short , tapered stalk . Fruitbodies are commonly found on soil where brush has recently been burned , sometimes in great numbers ....   \n",
       "\n",
       "   is_valid  \n",
       "0     False  \n",
       "1     False  \n",
       "2     False  \n",
       "3     False  \n",
       "4     False  "
      ]
     },
     "execution_count": null,
     "metadata": {},
     "output_type": "execute_result"
    }
   ],
   "source": [
    "wiki_path = untar_data(URLs.WIKITEXT_TINY)\n",
    "\n",
    "train_df = pd.read_csv(wiki_path / \"train.csv\", header=None)\n",
    "valid_df = pd.read_csv(wiki_path / \"test.csv\", header=None)\n",
    "\n",
    "train_df[\"is_valid\"] = False\n",
    "valid_df[\"is_valid\"] = True\n",
    "\n",
    "df = pd.concat([train_df, valid_df])\n",
    "\n",
    "print(len(df))\n",
    "df.head()\n"
   ]
  },
  {
   "cell_type": "markdown",
   "metadata": {},
   "source": [
    "## Mid-level API"
   ]
  },
  {
   "cell_type": "markdown",
   "metadata": {},
   "source": [
    "### `LMMetricsCallback`\n",
    "\n",
    "In this section, we'll add helpful metrics for calculating accuracy and perplexity for both causal and masked language modeling tasks."
   ]
  },
  {
   "cell_type": "code",
   "execution_count": null,
   "metadata": {},
   "outputs": [],
   "source": [
    "# export\n",
    "class LMMetricsCallback(Callback):\n",
    "    \"\"\"A fastai friendly metric implemented as a callback so that we can handle use cases where we don't\n",
    "    want to count tokens marked to be ignored or else not count batches where there are no targs\n",
    "    \"\"\"\n",
    "\n",
    "    def __init__(self, **kwargs):\n",
    "        self.run_before = Recorder\n",
    "\n",
    "        self.custom_metrics_dict = {\"lm_accuracy\": None}\n",
    "        self.do_setup = True\n",
    "\n",
    "    def setup(self):\n",
    "        # one time setup code here.\n",
    "        if not self.do_setup:\n",
    "            return\n",
    "\n",
    "        # add custom text generation specific metrics\n",
    "        custom_metric_keys = self.custom_metrics_dict.keys()\n",
    "        custom_metrics = L([ValueMetric(partial(self.metric_value, metric_key=k), k) for k in custom_metric_keys])\n",
    "        self.learn.metrics = self.learn.metrics + custom_metrics\n",
    "\n",
    "        self.do_setup = False\n",
    "\n",
    "    def before_fit(self):\n",
    "        self.setup()\n",
    "\n",
    "    # --- batch begin/after phases ---\n",
    "    def after_batch(self):\n",
    "        # do this only for validation set\n",
    "        if self.training or self.learn.y is None:\n",
    "            return\n",
    "\n",
    "        preds = self.pred.argmax(dim=-1)\n",
    "        targs = self.yb[0]  # yb is TensorText tuple, item 0 is the data\n",
    "\n",
    "        msk = torch.where(targs != -100, 1, 0).bool()\n",
    "        preds = torch.masked_select(preds, msk).cpu()\n",
    "        targs = torch.masked_select(targs, msk).cpu()\n",
    "\n",
    "        if preds.shape[0] == 0:\n",
    "            return\n",
    "\n",
    "        self.results += [(res[0], res[1]) for res in zip(preds, targs)]\n",
    "\n",
    "    # --- validation begin/after phases ---\n",
    "    def before_validate(self):\n",
    "        self.results = []\n",
    "\n",
    "    def after_validate(self):\n",
    "        if len(self.results) < 1:\n",
    "            return\n",
    "\n",
    "        preds, targs = map(list, zip(*self.results))\n",
    "        self.custom_metrics_dict[\"lm_accuracy\"] = accuracy_score(targs, preds)\n",
    "\n",
    "    # --- for ValueMetric metrics ---\n",
    "    def metric_value(self, metric_key):\n",
    "        return self.custom_metrics_dict[metric_key]\n"
   ]
  },
  {
   "cell_type": "markdown",
   "metadata": {},
   "source": [
    "### Examples"
   ]
  },
  {
   "cell_type": "markdown",
   "metadata": {},
   "source": [
    "#### Causal Language Modeling\n",
    "\n",
    "In causal language modeling, we are attempting to predict the next token given those before it."
   ]
  },
  {
   "cell_type": "code",
   "execution_count": null,
   "metadata": {},
   "outputs": [
    {
     "name": "stderr",
     "output_type": "stream",
     "text": [
      "Using pad_token, but it is not set yet.\n"
     ]
    }
   ],
   "source": [
    "model_cls = AutoModelForCausalLM\n",
    "\n",
    "pretrained_model_name = \"gpt2\"\n",
    "hf_arch, hf_config, hf_tokenizer, hf_model = BLURR.get_hf_objects(pretrained_model_name, model_cls=model_cls)\n",
    "\n",
    "if hf_tokenizer.pad_token is None:\n",
    "    hf_tokenizer.pad_token = \"[PAD]\"\n"
   ]
  },
  {
   "cell_type": "code",
   "execution_count": null,
   "metadata": {},
   "outputs": [],
   "source": [
    "preprocessor = LMPreprocessor(hf_tokenizer, chunk_size=128, text_attr=0)\n",
    "proc_df = preprocessor.process_df(train_df, valid_df)"
   ]
  },
  {
   "cell_type": "code",
   "execution_count": null,
   "metadata": {},
   "outputs": [],
   "source": [
    "bbtfm = LMBatchTokenizeTransform(hf_arch, hf_config, hf_tokenizer, hf_model, lm_strategy_cls=CausalLMStrategy)\n",
    "blocks = (TextBlock(batch_tokenize_tfm=bbtfm, input_return_type=CausalLMTextInput), noop)\n",
    "\n",
    "dblock = DataBlock(blocks=blocks, get_x=ColReader(\"proc_0\"), splitter=ColSplitter(col=\"is_valid\"))\n"
   ]
  },
  {
   "cell_type": "code",
   "execution_count": null,
   "metadata": {},
   "outputs": [],
   "source": [
    "dls = dblock.dataloaders(proc_df, bs=2)\n"
   ]
  },
  {
   "cell_type": "code",
   "execution_count": null,
   "metadata": {},
   "outputs": [
    {
     "data": {
      "text/plain": [
       "(torch.Size([2, 129]), torch.Size([2, 129]), torch.Size([2, 129]))"
      ]
     },
     "execution_count": null,
     "metadata": {},
     "output_type": "execute_result"
    }
   ],
   "source": [
    "b = dls.one_batch()\n",
    "b[0][\"input_ids\"].shape, b[0][\"labels\"].shape, b[1].shape\n"
   ]
  },
  {
   "cell_type": "code",
   "execution_count": null,
   "metadata": {},
   "outputs": [
    {
     "data": {
      "text/html": [
       "<table border=\"1\" class=\"dataframe\">\n",
       "  <thead>\n",
       "    <tr style=\"text-align: right;\">\n",
       "      <th></th>\n",
       "      <th>text</th>\n",
       "      <th>target</th>\n",
       "    </tr>\n",
       "  </thead>\n",
       "  <tbody>\n",
       "    <tr>\n",
       "      <th>0</th>\n",
       "      <td>₹ 40 million ( US $ 590 @,@ 000 ) was spent solely on VFX for Magadheera. \\n \\n = = = &lt;unk&gt; = = = \\n \\n During the film's shoot at Ramoji Film City in late November 2008, a 500 square feet ( 46 m2 ) film can, containing two or three scenes, was discovered missing from Rainbow lab. The filmmakers filed a case at &lt;unk&gt; police station. Security personnel and film unit members searched, but failed to recover the reels. Rajamouli's unit said it was not important if the scenes from</td>\n",
       "      <td>�� 40 million ( US $ 590 @,@ 000 ) was spent solely on VFX for Magadheera. \\n \\n = = = &lt;unk&gt; = = = \\n \\n During the film's shoot at Ramoji Film City in late November 2008, a 500 square feet ( 46 m2 ) film can, containing two or three scenes, was discovered missing from Rainbow lab. The filmmakers filed a case at &lt;unk&gt; police station. Security personnel and film unit members searched, but failed to recover the reels. Rajamouli's unit said it was not important if the scenes from</td>\n",
       "    </tr>\n",
       "    <tr>\n",
       "      <th>1</th>\n",
       "      <td>unk&gt;. Another such cruise took place during 1 – 4 December. The typical routine of gunnery drills and squadron exercises occurred in January 1916. The fleet departed for a cruise in the North Sea on 26 February ; Jellicoe had intended to use the Harwich Force to sweep the &lt;unk&gt; Bight, but bad weather prevented operations in the southern North Sea. As a result, the operation was confined to the northern end of the sea. On the night of 25 March, Iron Duke and the rest of the fleet sailed from Sca</td>\n",
       "      <td>k&gt;. Another such cruise took place during 1 – 4 December. The typical routine of gunnery drills and squadron exercises occurred in January 1916. The fleet departed for a cruise in the North Sea on 26 February ; Jellicoe had intended to use the Harwich Force to sweep the &lt;unk&gt; Bight, but bad weather prevented operations in the southern North Sea. As a result, the operation was confined to the northern end of the sea. On the night of 25 March, Iron Duke and the rest of the fleet sailed from Scapa</td>\n",
       "    </tr>\n",
       "  </tbody>\n",
       "</table>"
      ],
      "text/plain": [
       "<IPython.core.display.HTML object>"
      ]
     },
     "metadata": {},
     "output_type": "display_data"
    }
   ],
   "source": [
    "dls.show_batch(dataloaders=dls, max_n=2, trunc_at=500)\n"
   ]
  },
  {
   "cell_type": "markdown",
   "metadata": {},
   "source": [
    "##### Training"
   ]
  },
  {
   "cell_type": "code",
   "execution_count": null,
   "metadata": {},
   "outputs": [],
   "source": [
    "model = BaseModelWrapper(hf_model)\n",
    "fit_cbs = [LMMetricsCallback()]\n",
    "\n",
    "learn = Learner(\n",
    "    dls,\n",
    "    model,\n",
    "    opt_func=partial(Adam),\n",
    "    loss_func=PreCalculatedCrossEntropyLoss(),\n",
    "    cbs=[BaseModelCallback],\n",
    "    metrics=[perplexity],\n",
    "    splitter=blurr_splitter,\n",
    ").to_fp16()\n",
    "\n",
    "learn.freeze()\n"
   ]
  },
  {
   "cell_type": "code",
   "execution_count": null,
   "metadata": {},
   "outputs": [],
   "source": [
    "# hide_output\n",
    "# learn.summary()\n"
   ]
  },
  {
   "cell_type": "code",
   "execution_count": null,
   "metadata": {},
   "outputs": [],
   "source": [
    "# b = dls.one_batch()\n",
    "# preds = learn.model(b[0])\n",
    "# len(preds),preds[0], preds[1].shape\n"
   ]
  },
  {
   "cell_type": "code",
   "execution_count": null,
   "metadata": {},
   "outputs": [
    {
     "name": "stdout",
     "output_type": "stream",
     "text": [
      "5\n"
     ]
    }
   ],
   "source": [
    "print(len(learn.opt.param_groups))\n"
   ]
  },
  {
   "cell_type": "code",
   "execution_count": null,
   "metadata": {},
   "outputs": [
    {
     "data": {
      "text/html": [],
      "text/plain": [
       "<IPython.core.display.HTML object>"
      ]
     },
     "metadata": {},
     "output_type": "display_data"
    },
    {
     "data": {
      "text/plain": [
       "SuggestedLRs(minimum=0.004786301031708717, steep=6.309573450380412e-07, valley=0.0030199517495930195, slide=0.0014454397605732083)"
      ]
     },
     "execution_count": null,
     "metadata": {},
     "output_type": "execute_result"
    },
    {
     "data": {
      "image/png": "[encoded data removed]",
      "text/plain": [
       "<Figure size 432x288 with 1 Axes>"
      ]
     },
     "metadata": {
      "needs_background": "light"
     },
     "output_type": "display_data"
    }
   ],
   "source": [
    "learn.lr_find(suggest_funcs=[minimum, steep, valley, slide])\n"
   ]
  },
  {
   "cell_type": "code",
   "execution_count": null,
   "metadata": {},
   "outputs": [
    {
     "data": {
      "text/html": [
       "<table border=\"1\" class=\"dataframe\">\n",
       "  <thead>\n",
       "    <tr style=\"text-align: left;\">\n",
       "      <th>epoch</th>\n",
       "      <th>train_loss</th>\n",
       "      <th>valid_loss</th>\n",
       "      <th>perplexity</th>\n",
       "      <th>lm_accuracy</th>\n",
       "      <th>time</th>\n",
       "    </tr>\n",
       "  </thead>\n",
       "  <tbody>\n",
       "    <tr>\n",
       "      <td>0</td>\n",
       "      <td>3.480516</td>\n",
       "      <td>3.166632</td>\n",
       "      <td>23.727434</td>\n",
       "      <td>0.417128</td>\n",
       "      <td>07:57</td>\n",
       "    </tr>\n",
       "  </tbody>\n",
       "</table>"
      ],
      "text/plain": [
       "<IPython.core.display.HTML object>"
      ]
     },
     "metadata": {},
     "output_type": "display_data"
    }
   ],
   "source": [
    "learn.fit_one_cycle(1, lr_max=3e-3, cbs=fit_cbs)\n"
   ]
  },
  {
   "cell_type": "markdown",
   "metadata": {},
   "source": [
    "##### Showing results\n",
    "\n",
    "Below we'll add in additional functionality to more intuitively show the results of our model."
   ]
  },
  {
   "cell_type": "code",
   "execution_count": null,
   "metadata": {},
   "outputs": [],
   "source": [
    "# export\n",
    "@typedispatch\n",
    "def show_results(\n",
    "    # This typedispatched `show_results` will be called for `HF_CausalLMInput` typed inputs\n",
    "    x: CausalLMTextInput,\n",
    "    # Your targets\n",
    "    y,\n",
    "    # Your raw inputs/targets\n",
    "    samples,\n",
    "    # The model's predictions\n",
    "    outs,\n",
    "    # Your `Learner`. This is required so as to get at the Hugging Face objects for decoding them into\n",
    "    # something understandable\n",
    "    learner,\n",
    "    # Your `show_results` context\n",
    "    ctxs=None,\n",
    "    # The maximum number of items to show\n",
    "    max_n=6,\n",
    "    # Any truncation your want applied to your decoded inputs\n",
    "    trunc_at=None,\n",
    "    # Any other keyword arguments you want applied to `show_results`\n",
    "    **kwargs\n",
    "):\n",
    "    # grab our tokenizer and ignore token to decode\n",
    "    tfm = first_blurr_tfm(learner.dls)\n",
    "\n",
    "    hf_config = tfm.hf_config\n",
    "    hf_tokenizer = tfm.hf_tokenizer\n",
    "    ignore_token_id = tfm.ignore_token_id\n",
    "\n",
    "    res = L(\n",
    "        [\n",
    "            (\n",
    "                hf_tokenizer.decode(s[0], skip_special_tokens=True)[:trunc_at],\n",
    "                hf_tokenizer.decode(s[1][s[1] != ignore_token_id], skip_special_tokens=True)[:trunc_at],\n",
    "                hf_tokenizer.decode(pred[0], skip_special_tokens=True)[:trunc_at],\n",
    "            )\n",
    "            for s, pred in zip(samples, outs)\n",
    "        ]\n",
    "    )\n",
    "\n",
    "    display_df(pd.DataFrame(res, columns=[\"text\", \"target\", \"prediction\"])[:max_n])\n",
    "    return ctxs\n"
   ]
  },
  {
   "cell_type": "code",
   "execution_count": null,
   "metadata": {},
   "outputs": [
    {
     "data": {
      "text/html": [],
      "text/plain": [
       "<IPython.core.display.HTML object>"
      ]
     },
     "metadata": {},
     "output_type": "display_data"
    },
    {
     "data": {
      "text/html": [
       "<table border=\"1\" class=\"dataframe\">\n",
       "  <thead>\n",
       "    <tr style=\"text-align: right;\">\n",
       "      <th></th>\n",
       "      <th>text</th>\n",
       "      <th>target</th>\n",
       "      <th>prediction</th>\n",
       "    </tr>\n",
       "  </thead>\n",
       "  <tbody>\n",
       "    <tr>\n",
       "      <th>0</th>\n",
       "      <td>. \\n The German government has said that it does not consider Scientology a religion, but a \" commercial enterprise with a history of taking advantage of vulnerable individuals and an extreme dislike of any criticism \" whose \" totalitarian structure a</td>\n",
       "      <td>\\n The German government has said that it does not consider Scientology a religion, but a \" commercial enterprise with a history of taking advantage of vulnerable individuals and an extreme dislike of any criticism \" whose \" totalitarian structure an</td>\n",
       "      <td>&lt;\\n  &lt; army was been that the is not want the to threat, but that \" religion enterprise \" a religious of commercial advantage of the individuals \" the interest religious of the form of. \" &lt;ism \" political \" be a threat to the \"s national system \". ,</td>\n",
       "    </tr>\n",
       "    <tr>\n",
       "      <th>1</th>\n",
       "      <td>. On 22 November, the &lt;unk&gt; came under fire for the first time near &lt;unk&gt;, and they subsequently forced their attackers to withdraw after inflicting significant casualties on them. \\n Following a series of minor victories, the British suffered a major</td>\n",
       "      <td>On 22 November, the &lt;unk&gt; came under fire for the first time near &lt;unk&gt;, and they subsequently forced their attackers to withdraw after inflicting significant casualties on them. \\n Following a series of minor victories, the British suffered a major</td>\n",
       "      <td>&lt; the August, the Britishunk&gt; &lt; to attack from a first time in theunk&gt;, and the were lost the way to retreat. a heavy damage. the. The\\n  the brief of attacks skirm, the &lt; forces heavy setback setback in thewater, the and 12 November,. when the casua</td>\n",
       "    </tr>\n",
       "  </tbody>\n",
       "</table>"
      ],
      "text/plain": [
       "<IPython.core.display.HTML object>"
      ]
     },
     "metadata": {},
     "output_type": "display_data"
    }
   ],
   "source": [
    "learn.show_results(learner=learn, trunc_at=250)\n"
   ]
  },
  {
   "cell_type": "markdown",
   "metadata": {},
   "source": [
    "##### Prediction"
   ]
  },
  {
   "cell_type": "code",
   "execution_count": null,
   "metadata": {},
   "outputs": [
    {
     "data": {
      "text/plain": [
       "[{'generated_texts': ' Blurr is fun to work with because he was a former member of the original team , which included players including <unk> <unk> , former <unk> and ex- players from a band known as the New Kids on the Block .'}]"
      ]
     },
     "execution_count": null,
     "metadata": {},
     "output_type": "execute_result"
    }
   ],
   "source": [
    "learn.blurr_generate(\"Blurr is fun to work with because\", max_length=50, do_sample=True, top_k=25)\n"
   ]
  },
  {
   "cell_type": "code",
   "execution_count": null,
   "metadata": {},
   "outputs": [],
   "source": [
    "# hide\n",
    "try:\n",
    "    del learn\n",
    "    torch.cuda.empty_cache()\n",
    "    gc.collect()\n",
    "except:\n",
    "    pass\n"
   ]
  },
  {
   "cell_type": "markdown",
   "metadata": {},
   "source": [
    "#### Masked Language Modeling\n",
    "\n",
    "In masked language modeling (MLM), we are attempting to predict the ***masked*** tokens. In Blurr, these are encapsulated by classes implementing the `BaseLMStrategy` base class.\n",
    "\n",
    "For a list of some of the more common strategies, see table 3 of the [Exploring the Limits of Transfer Learning with a Unified Text-to-Text Transformer](https://arxiv.org/abs/1910.10683) paper.  When fine-tuning a MLM model. you'll want to make sure you use the same approach as the model authors should you be looking to reproduce their results ... but our approach here makes it easy to play with different strategies regardless.\n",
    "\n",
    "In the example below, we'll tell Blurr we want to use the BERT-style masking strategy."
   ]
  },
  {
   "cell_type": "code",
   "execution_count": null,
   "metadata": {},
   "outputs": [],
   "source": [
    "model_cls = AutoModelForMaskedLM\n",
    "\n",
    "pretrained_model_name = \"distilroberta-base\"\n",
    "hf_arch, hf_config, hf_tokenizer, hf_model = BLURR.get_hf_objects(pretrained_model_name, model_cls=model_cls)\n",
    "\n",
    "if hf_tokenizer.pad_token is None:\n",
    "    hf_tokenizer.pad_token = \"[PAD]\"\n"
   ]
  },
  {
   "cell_type": "code",
   "execution_count": null,
   "metadata": {},
   "outputs": [],
   "source": [
    "preprocessor = LMPreprocessor(hf_tokenizer, chunk_size=128, text_attr=0)\n",
    "proc_df = preprocessor.process_df(train_df, valid_df)"
   ]
  },
  {
   "cell_type": "code",
   "execution_count": null,
   "metadata": {},
   "outputs": [],
   "source": [
    "bbtfm = LMBatchTokenizeTransform(hf_arch, hf_config, hf_tokenizer, hf_model, lm_strategy_cls=BertMLMStrategy)\n",
    "blocks = (TextBlock(batch_tokenize_tfm=bbtfm, input_return_type=MLMTextInput), noop)\n",
    "\n",
    "dblock = DataBlock(blocks=blocks, get_x=ColReader(\"proc_0\"), splitter=ColSplitter(col=\"is_valid\"))\n"
   ]
  },
  {
   "cell_type": "code",
   "execution_count": null,
   "metadata": {},
   "outputs": [],
   "source": [
    "dls = dblock.dataloaders(proc_df, bs=2)\n"
   ]
  },
  {
   "cell_type": "code",
   "execution_count": null,
   "metadata": {},
   "outputs": [
    {
     "data": {
      "text/plain": [
       "(torch.Size([2, 130]), torch.Size([2, 130]), torch.Size([2, 130]))"
      ]
     },
     "execution_count": null,
     "metadata": {},
     "output_type": "execute_result"
    }
   ],
   "source": [
    "b = dls.one_batch()\n",
    "b[0][\"input_ids\"].shape, b[0][\"labels\"].shape, b[1].shape\n"
   ]
  },
  {
   "cell_type": "code",
   "execution_count": null,
   "metadata": {},
   "outputs": [
    {
     "data": {
      "text/html": [
       "<table border=\"1\" class=\"dataframe\">\n",
       "  <thead>\n",
       "    <tr style=\"text-align: right;\">\n",
       "      <th></th>\n",
       "      <th>text</th>\n",
       "      <th>target</th>\n",
       "    </tr>\n",
       "  </thead>\n",
       "  <tbody>\n",
       "    <tr>\n",
       "      <th>0</th>\n",
       "      <td>� � � &lt;mask&gt; &lt;mask&gt;  wanted  to  forcibly  retire  officers  with  more [ than]  25 &lt;mask&gt; &lt;mask&gt;  service ,  as  they  thought  them  to  be    and  ineffective &lt;mask&gt;  but  most  importantly ,  rivals  for  power &lt;mask&gt;  Most  of  the  older  officers  had &lt;mask&gt; &lt;mask&gt;  under  the  Vietnamese  National  Army  during  the &lt;mask&gt;  colonial  era ,  and  some  of  the [ younger]  men  saw  them  as  too  detached  from  the [matically]  situation &lt;mask&gt;  The  Young  Turks  had  quite  a  lot  of  influence  over  Kh án h ,  as  Th i  and  K &lt;mask&gt; � �  had  intervened  milit arily  to  save  him  from  a  coup  attempt  in  September &lt;mask&gt;  Gener als   [ V] � � n    and  D � &lt;mask&gt; � &lt;mask&gt; ng  V &lt;mask&gt; �</td>\n",
       "      <td>� � � [u] [ —]  wanted  to  forcibly  retire  officers  with  more [ than]  25 [ years] [ of]  service ,  as  they  thought  them  to  be    and  ineffective [,]  but  most  importantly ,  rivals  for  power [.]  Most  of  the  older  officers  had [ more] [ experience]  under  the  Vietnamese  National  Army  during  the [ French]  colonial  era ,  and  some  of  the [ younger]  men  saw  them  as  too  detached  from  the [ modern]  situation [.]  The  Young  Turks  had  quite  a  lot  of  influence  over  Kh án h ,  as  Th i  and  K [�] � �  had  intervened  milit arily  to  save  him  from  a  coup  attempt  in  September [ by]  Gener als   [ V] � � n    and  D � [�] � [�] ng  V [�] �</td>\n",
       "    </tr>\n",
       "    <tr>\n",
       "      <th>1</th>\n",
       "      <td>&lt;mask&gt;  line  25  : &lt;mask&gt; \\n &lt;mask&gt;  Walter  Jackson  B ate ,  the  use  of  sp ond ees  in  lines  31  –  34  creates  a  feeling  of  slow  flight ,  and [ surprise] &lt;mask&gt;  the &lt;mask&gt;  st anza . &lt;mask&gt; .  the  distinctive  use  of  scattered  sp ond ees , [ together]  with  initial   ,  lend  [ [ s]  ]  an  approximate  phon etic  suggestion  of &lt;mask&gt;  peculiar  spring &lt;mask&gt;  bounce [ of]  the  bird  in &lt;mask&gt;  flight .  \"   \\n   \\n  =  =  Po em  =  =   &lt;mask&gt;   \\n  My  heart   &lt;mask&gt; &lt;mask&gt;  a      pains   \\n  My  sense &lt;mask&gt; &lt;mask&gt;  though  of &lt;mask&gt; ml ock  I  had  drunk ,   \\n  Or  emptied  some</td>\n",
       "      <td>[ and]  line  25  : [ ] \\n [ To]  Walter  Jackson  B ate ,  the  use  of  sp ond ees  in  lines  31  –  34  creates  a  feeling  of  slow  flight ,  and [ \"] [ in]  the [ final]  st anza . [.] .  the  distinctive  use  of  scattered  sp ond ees , [ together]  with  initial   ,  lend  [ [ s]  ]  an  approximate  phon etic  suggestion  of [ the]  peculiar  spring [ and]  bounce [ of]  the  bird  in [ its]  flight .  \"   \\n   \\n  =  =  Po em  =  =   [\\n]   \\n  My  heart   [,] [ and]  a      pains   \\n  My  sense [,] [ as]  though  of [ he] ml ock  I  had  drunk ,   \\n  Or  emptied  some</td>\n",
       "    </tr>\n",
       "  </tbody>\n",
       "</table>"
      ],
      "text/plain": [
       "<IPython.core.display.HTML object>"
      ]
     },
     "metadata": {},
     "output_type": "display_data"
    }
   ],
   "source": [
    "dls.show_batch(dataloaders=dls, max_n=2, trunc_at=250)\n"
   ]
  },
  {
   "cell_type": "markdown",
   "metadata": {},
   "source": [
    "##### Training"
   ]
  },
  {
   "cell_type": "code",
   "execution_count": null,
   "metadata": {},
   "outputs": [],
   "source": [
    "model = BaseModelWrapper(hf_model)\n",
    "fit_cbs = [LMMetricsCallback()]\n",
    "\n",
    "learn = Learner(\n",
    "    dls,\n",
    "    model,\n",
    "    opt_func=partial(Adam, decouple_wd=True),\n",
    "    loss_func=PreCalculatedCrossEntropyLoss(),\n",
    "    cbs=[BaseModelCallback],\n",
    "    metrics=[perplexity],\n",
    "    splitter=blurr_splitter,\n",
    ").to_fp16()\n",
    "\n",
    "learn.freeze()\n"
   ]
  },
  {
   "cell_type": "code",
   "execution_count": null,
   "metadata": {},
   "outputs": [],
   "source": [
    "# hide_output\n",
    "# learn.summary()\n"
   ]
  },
  {
   "cell_type": "code",
   "execution_count": null,
   "metadata": {},
   "outputs": [
    {
     "name": "stdout",
     "output_type": "stream",
     "text": [
      "3\n"
     ]
    }
   ],
   "source": [
    "print(len(learn.opt.param_groups))\n"
   ]
  },
  {
   "cell_type": "code",
   "execution_count": null,
   "metadata": {},
   "outputs": [
    {
     "data": {
      "text/html": [],
      "text/plain": [
       "<IPython.core.display.HTML object>"
      ]
     },
     "metadata": {},
     "output_type": "display_data"
    },
    {
     "data": {
      "text/plain": [
       "SuggestedLRs(minimum=0.0007585775572806596, steep=6.918309736647643e-06, valley=0.0008317637839354575, slide=0.04786301031708717)"
      ]
     },
     "execution_count": null,
     "metadata": {},
     "output_type": "execute_result"
    },
    {
     "data": {
      "image/png": "[encoded data removed]",
      "text/plain": [
       "<Figure size 432x288 with 1 Axes>"
      ]
     },
     "metadata": {
      "needs_background": "light"
     },
     "output_type": "display_data"
    }
   ],
   "source": [
    "learn.lr_find(suggest_funcs=[minimum, steep, valley, slide])\n"
   ]
  },
  {
   "cell_type": "code",
   "execution_count": null,
   "metadata": {},
   "outputs": [
    {
     "data": {
      "text/html": [
       "<table border=\"1\" class=\"dataframe\">\n",
       "  <thead>\n",
       "    <tr style=\"text-align: left;\">\n",
       "      <th>epoch</th>\n",
       "      <th>train_loss</th>\n",
       "      <th>valid_loss</th>\n",
       "      <th>perplexity</th>\n",
       "      <th>lm_accuracy</th>\n",
       "      <th>time</th>\n",
       "    </tr>\n",
       "  </thead>\n",
       "  <tbody>\n",
       "    <tr>\n",
       "      <td>0</td>\n",
       "      <td>1.814517</td>\n",
       "      <td>1.805421</td>\n",
       "      <td>6.082534</td>\n",
       "      <td>0.638812</td>\n",
       "      <td>05:32</td>\n",
       "    </tr>\n",
       "  </tbody>\n",
       "</table>"
      ],
      "text/plain": [
       "<IPython.core.display.HTML object>"
      ]
     },
     "metadata": {},
     "output_type": "display_data"
    }
   ],
   "source": [
    "learn.fit_one_cycle(1, lr_max=1e-4, cbs=fit_cbs)\n"
   ]
  },
  {
   "cell_type": "code",
   "execution_count": null,
   "metadata": {},
   "outputs": [],
   "source": [
    "# export\n",
    "@typedispatch\n",
    "def show_results(\n",
    "    # This typedispatched `show_results` will be called for `HF_MLMInput` typed inputs\n",
    "    x: MLMTextInput,\n",
    "    # Your targets\n",
    "    y,\n",
    "    # Your raw inputs/targets\n",
    "    samples,\n",
    "    # The model's predictions\n",
    "    outs,\n",
    "    # Your `Learner`. This is required so as to get at the Hugging Face objects for decoding them into\n",
    "    # something understandable\n",
    "    learner,\n",
    "    # Your `show_results` context\n",
    "    ctxs=None,\n",
    "    # The maximum number of items to show\n",
    "    max_n=6,\n",
    "    # Any truncation your want applied to your decoded inputs\n",
    "    trunc_at=None,\n",
    "    # Any other keyword arguments you want applied to `show_results`\n",
    "    **kwargs,\n",
    "):\n",
    "    # grab our tokenizer and ignore token to decode\n",
    "    tfm = first_blurr_tfm(learner.dls)\n",
    "\n",
    "    hf_config = tfm.hf_config\n",
    "    hf_tokenizer = tfm.hf_tokenizer\n",
    "    ignore_token_id = tfm.ignore_token_id\n",
    "\n",
    "    # grab our mask token id and do-not-mask token ids\n",
    "    mask_token_id = hf_tokenizer.mask_token_id\n",
    "\n",
    "    vocab = hf_tokenizer.get_vocab()\n",
    "    dnm_tok_ids = [vocab[tok] for tok in list(hf_tokenizer.special_tokens_map.values()) if vocab[tok] != mask_token_id]\n",
    "\n",
    "    res = L()\n",
    "    for s, t in zip(samples, outs):\n",
    "        # exclue dnm tokens from input\n",
    "        inps = [\n",
    "            hf_tokenizer.decode(tok_id) if (tok_id == mask_token_id or s[1][idx] == ignore_token_id) else f\"[{hf_tokenizer.decode(tok_id)}]\"\n",
    "            for idx, tok_id in enumerate(s[0])\n",
    "            if (tok_id not in dnm_tok_ids)\n",
    "        ]\n",
    "\n",
    "        # replaced masked tokens with \"[{actual_token}]\"\n",
    "        trgs = [\n",
    "            hf_tokenizer.decode(s[0][idx]) if (tok_id == ignore_token_id) else f\"[{hf_tokenizer.decode(tok_id)}]\"\n",
    "            for idx, tok_id in enumerate(s[1])\n",
    "            if (s[0][idx] not in dnm_tok_ids)\n",
    "        ]\n",
    "\n",
    "        # same as above except we replace the [MASK] with the PREDICTED token\n",
    "        preds = [\n",
    "            hf_tokenizer.decode(s[0][idx]) if (tok_id == ignore_token_id) else f\"[{hf_tokenizer.decode(t[0][idx])}]\"\n",
    "            for idx, tok_id in enumerate(s[1])\n",
    "            if (s[0][idx] not in dnm_tok_ids)\n",
    "        ]\n",
    "\n",
    "        res.append((\" \".join(inps[:trunc_at]).strip(), \" \".join(trgs[:trunc_at]).strip(), \" \".join(preds[:trunc_at]).strip()))\n",
    "\n",
    "    display_df(pd.DataFrame(res, columns=[\"text\", \"target\", \"prediction\"])[:max_n])\n",
    "    return ctxs\n"
   ]
  },
  {
   "cell_type": "markdown",
   "metadata": {},
   "source": [
    "##### Showing results\n",
    "\n",
    "Below we'll add in additional functionality to more intuitively show the results of our model."
   ]
  },
  {
   "cell_type": "code",
   "execution_count": null,
   "metadata": {},
   "outputs": [
    {
     "data": {
      "text/html": [],
      "text/plain": [
       "<IPython.core.display.HTML object>"
      ]
     },
     "metadata": {},
     "output_type": "display_data"
    },
    {
     "data": {
      "text/html": [
       "<table border=\"1\" class=\"dataframe\">\n",
       "  <thead>\n",
       "    <tr style=\"text-align: right;\">\n",
       "      <th></th>\n",
       "      <th>text</th>\n",
       "      <th>target</th>\n",
       "      <th>prediction</th>\n",
       "    </tr>\n",
       "  </thead>\n",
       "  <tbody>\n",
       "    <tr>\n",
       "      <th>0</th>\n",
       "      <td>hostile &lt;mask&gt;  the  sett &lt;mask&gt;  ' &lt;mask&gt;  presence  led &lt;mask&gt;  competition  over  resources ,  and  to  the  occupation  of  the  indigenous  inhabitants  '  lands .  European  diseases  dec imated [ Aboriginal]  populations &lt;mask&gt;  and  the  occupation  or  destruction &lt;mask&gt; &lt;mask&gt;  and  food &lt;mask&gt;  sometimes  led  to &lt;mask&gt; &lt;mask&gt;  By  and  large  neither  the  British  nor  the [ ]  approached  the  conflict  in  an  organised  sense  and  conflict  occurred  between  groups  of  settlers  and  individual &lt;mask&gt;  rather  than  systematic  warfare .  At  times ,  however ,  the  frontier  wars [ did]  see  the  involvement  of  British  soldiers  and  later  mounted  police  units .  Not  all  Aboriginal  groups  resisted  white [mans] &lt;mask&gt;  on &lt;mask&gt;  lands , &lt;mask&gt;  many    served  in &lt;mask&gt;  police  units  and  were  involved  in</td>\n",
       "      <td>hostile [ when]  the  sett [ler]  ' [s]  presence  led [ to]  competition  over  resources ,  and  to  the  occupation  of  the  indigenous  inhabitants  '  lands .  European  diseases  dec imated [ Aboriginal]  populations [,]  and  the  occupation  or  destruction [ of] [ lands]  and  food [ resources]  sometimes  led  to [ starvation] [.]  By  and  large  neither  the  British  nor  the [ ]  approached  the  conflict  in  an  organised  sense  and  conflict  occurred  between  groups  of  settlers  and  individual [ tribes]  rather  than  systematic  warfare .  At  times ,  however ,  the  frontier  wars [ did]  see  the  involvement  of  British  soldiers  and  later  mounted  police  units .  Not  all  Aboriginal  groups  resisted  white [ encro] [achment]  on [ their]  lands , [ while]  many    served  in [ mounted]  police  units  and  were  involved  in</td>\n",
       "      <td>hostile [ to]  the  sett [ler]  ' [s]  presence  led [ to]  competition  over  resources ,  and  to  the  occupation  of  the  indigenous  inhabitants  '  lands .  European  diseases  dec imated [ Aboriginal]  populations [,]  and  the  occupation  or  destruction [ of] [ land]  and  food [ supplies]  sometimes  led  to [ starvation] [.]  By  and  large  neither  the  British  nor  the [ ]  approached  the  conflict  in  an  organised  sense  and  conflict  occurred  between  groups  of  settlers  and  individual [ tribes]  rather  than  systematic  warfare .  At  times ,  however ,  the  frontier  wars [ did]  see  the  involvement  of  British  soldiers  and  later  mounted  police  units .  Not  all  Aboriginal  groups  resisted  white [ inv] [achment]  on [ their]  lands , [ but]  many    served  in [ mounted]  police  units  and  were  involved  in</td>\n",
       "    </tr>\n",
       "    <tr>\n",
       "      <th>1</th>\n",
       "      <td>voicing  their  complaints  about  the  treatment  of  Scient [ bargaining]  in  Germany ,  and  had  a  briefing  with  United  States  National  Security    Sandy  Berger , &lt;mask&gt;  Clinton  had &lt;mask&gt;  to &lt;mask&gt;  \" &lt;mask&gt;  administration &lt;mask&gt; s &lt;mask&gt; &lt;mask&gt;  person  \" .  The  German  ambassador  responded  with  a  letter [ to]  the   &lt;mask&gt;  that  the  German  government  had  come  to  the  conclusion  that  Scientology  ' s &lt;mask&gt; [ pseudo]  @ - @  scientific  courses  can &lt;mask&gt;  jeopard &lt;mask&gt;  individuals  '  mental  and  physical  health  and  that  it  exploits  its  members  \" ,  adding  that &lt;mask&gt;  membership  can  lead  to  psychological  and  physical  dependency ,  to  financial  ruin &lt;mask&gt;  and  even  to  suicide .  In  addition &lt;mask&gt;  there  are &lt;mask&gt;  that  Scientology  poses  a [ threat]  to</td>\n",
       "      <td>voicing  their  complaints  about  the  treatment  of  Scient [ologists]  in  Germany ,  and  had  a  briefing  with  United  States  National  Security    Sandy  Berger , [ whom]  Clinton  had [ assigned]  to [ be]  \" [ the]  administration [ '] s [ Scientology] [ point]  person  \" .  The  German  ambassador  responded  with  a  letter [ to]  the   [ stating]  that  the  German  government  had  come  to  the  conclusion  that  Scientology  ' s [ \"] [ pseudo]  @ - @  scientific  courses  can [ seriously]  jeopard [ize]  individuals  '  mental  and  physical  health  and  that  it  exploits  its  members  \" ,  adding  that [ \"]  membership  can  lead  to  psychological  and  physical  dependency ,  to  financial  ruin [,]  and  even  to  suicide .  In  addition [,]  there  are [ indications]  that  Scientology  poses  a [ threat]  to</td>\n",
       "      <td>voicing  their  complaints  about  the  treatment  of  Scient [ologists]  in  Germany ,  and  had  a  briefing  with  United  States  National  Security    Sandy  Berger , [ whom]  Clinton  had [ attempted]  to [ become]  \" [ the]  administration [ '] s [ most] [ private]  person  \" .  The  German  ambassador  responded  with  a  letter [ to]  the   [ stating]  that  the  German  government  had  come  to  the  conclusion  that  Scientology  ' s [ \"] [ pseudo]  @ - @  scientific  courses  can [ \"]  jeopard [ize]  individuals  '  mental  and  physical  health  and  that  it  exploits  its  members  \" ,  adding  that [ the]  membership  can  lead  to  psychological  and  physical  dependency ,  to  financial  ruin [,]  and  even  to  suicide .  In  addition [,]  there  are [ concerns]  that  Scientology  poses  a [ threat]  to</td>\n",
       "    </tr>\n",
       "  </tbody>\n",
       "</table>"
      ],
      "text/plain": [
       "<IPython.core.display.HTML object>"
      ]
     },
     "metadata": {},
     "output_type": "display_data"
    }
   ],
   "source": [
    "learn.show_results(learner=learn, trunc_at=250)\n"
   ]
  },
  {
   "cell_type": "markdown",
   "metadata": {},
   "source": [
    "##### Prediction\n",
    "\n",
    "While `Learner.blurr_generate` will work well for causal LMs designed for text generation, it won't for MLM models designed to predict masked tokens.  To accomodate the later, we add `Learner.blurr_fill_mask` ..."
   ]
  },
  {
   "cell_type": "code",
   "execution_count": null,
   "metadata": {},
   "outputs": [],
   "source": [
    "# export\n",
    "@patch\n",
    "def blurr_fill_mask(\n",
    "    self: Learner,\n",
    "    # Your input_ids or raw text string with a `hf_tokenizer.mask_token`\n",
    "    inp: Union[List[int], str],\n",
    "    # The number of predictions you want to return for the [MASK]ed token\n",
    "    n_preds: int = 1,\n",
    "    # Any other keyword arguments you want applied to text generation\n",
    "    **kwargs\n",
    "):\n",
    "    \"\"\"For MLM models\"\"\"\n",
    "    # grab the Hugging Face tokenizer from the learner's dls.tfms\n",
    "    tfm = first_blurr_tfm(self.dls)\n",
    "\n",
    "    hf_config = tfm.hf_config\n",
    "    hf_tokenizer = tfm.hf_tokenizer\n",
    "    tok_kwargs = tfm.tok_kwargs\n",
    "\n",
    "    # grab the text generation kwargs\n",
    "    text_gen_kwargs = tfm.text_gen_kwargs if (len(kwargs) == 0) else kwargs\n",
    "\n",
    "    if isinstance(inp, str):\n",
    "        input_ids = hf_tokenizer.encode(inp, padding=True, truncation=True, return_tensors=\"pt\", **tok_kwargs)\n",
    "    else:\n",
    "        # note (10/30/2020): as of pytorch 1.7, this has to be a plain ol tensor (not a subclass of TensorBase)\n",
    "        input_ids = inp.as_subclass(Tensor)\n",
    "\n",
    "    input_ids = input_ids.to(self.model.hf_model.device)\n",
    "    mask_token_index = torch.where(input_ids == hf_tokenizer.mask_token_id)[1]\n",
    "\n",
    "    outputs = self.model.hf_model(input_ids)\n",
    "    mask_token_logits = outputs.logits[0, mask_token_index, :]\n",
    "    preds = torch.topk(mask_token_logits, n_preds, dim=-1).indices[0].tolist()\n",
    "\n",
    "    outputs = [inp.replace(hf_tokenizer.mask_token, hf_tokenizer.decode([tok_id]).strip()) for tok_id in preds]\n",
    "\n",
    "    return outputs\n"
   ]
  },
  {
   "cell_type": "code",
   "execution_count": null,
   "metadata": {},
   "outputs": [
    {
     "data": {
      "text/plain": [
       "['The best place on earth is here.',\n",
       " 'The best place on earth is there.',\n",
       " 'The best place on earth is home.',\n",
       " 'The best place on earth is not.',\n",
       " 'The best place on earth is America.']"
      ]
     },
     "execution_count": null,
     "metadata": {},
     "output_type": "execute_result"
    }
   ],
   "source": [
    "learn.blurr_fill_mask(f\"The best place on earth is {hf_tokenizer.mask_token}.\", n_preds=5)\n"
   ]
  },
  {
   "cell_type": "code",
   "execution_count": null,
   "metadata": {},
   "outputs": [],
   "source": [
    "# hide\n",
    "try:\n",
    "    del learn\n",
    "    torch.cuda.empty_cache(), gc.collect()\n",
    "except:\n",
    "    pass\n"
   ]
  },
  {
   "cell_type": "markdown",
   "metadata": {},
   "source": [
    "## High-level API"
   ]
  },
  {
   "cell_type": "markdown",
   "metadata": {},
   "source": [
    "### `BlearnerForLM`\n",
    "\n",
    "We can use the `BlearnerForLM` for either Causal or Masked language models.  With one line of code, we get our DataBlock, DataLoaders, and Blearner with sensible defaults and ready for training"
   ]
  },
  {
   "cell_type": "code",
   "execution_count": null,
   "metadata": {},
   "outputs": [],
   "source": [
    "# export\n",
    "@delegates(Blearner.__init__)\n",
    "class BlearnerForLM(Blearner):\n",
    "    def __init__(self, dls: DataLoaders, hf_model: PreTrainedModel, **kwargs):\n",
    "        kwargs[\"loss_func\"] = kwargs.get(\"loss_func\", PreCalculatedCrossEntropyLoss())\n",
    "        super().__init__(dls, hf_model, **kwargs)\n",
    "\n",
    "    @classmethod\n",
    "    def get_model_cls(self, lm_type):\n",
    "        return AutoModelForCausalLM if (lm_type == LMType.CAUSAL) else AutoModelForMaskedLM\n",
    "\n",
    "    @classmethod\n",
    "    def get_metrics_cb(self):\n",
    "        return LMMetricsCallback()\n",
    "\n",
    "    @classmethod\n",
    "    def from_data(\n",
    "        cls,\n",
    "        # Your raw dataset. Supports DataFrames, Hugging Face Datasets, as well as file paths\n",
    "        # to .csv, .xlsx, .xls, and .jsonl files\n",
    "        data: Union[pd.DataFrame, Path, str, List[Dict]],\n",
    "        # The name or path of the pretrained model you want to fine-tune\n",
    "        pretrained_model_name_or_path: Optional[Union[str, os.PathLike]],\n",
    "        # The language modeling strategy (or objective)\n",
    "        lm_strategy_cls: BaseLMStrategy = CausalLMStrategy,\n",
    "        # The attribute in your dataset that contains your raw text\n",
    "        text_attr: str = \"text\",\n",
    "        # A function that will split your Dataset into a training and validation set\n",
    "        # See [here](https://docs.fast.ai/data.transforms.html#Split) for a list of fast.ai splitters\n",
    "        dblock_splitter: Optional[Callable] = None,\n",
    "        # Any kwargs to pass to your `DataLoaders`\n",
    "        dl_kwargs={},\n",
    "        # Any kwargs to pass to your task specific `Blearner`\n",
    "        learner_kwargs={},\n",
    "    ):\n",
    "        # if we get a path/str then we're loading something like a .csv file\n",
    "        if isinstance(data, Path) or isinstance(data, str):\n",
    "            content_type = mimetypes.guess_type(data)[0]\n",
    "            if content_type == \"application/vnd.openxmlformats-officedocument.spreadsheetml.sheet\":\n",
    "                data = pd.read_excel(data)\n",
    "            elif content_type == \"text/csv\":\n",
    "                data = pd.read_csv(data)\n",
    "            elif content_type == \"application/json\":\n",
    "                data = pd.read_json(data, orient=\"records\")\n",
    "            else:\n",
    "                raise ValueError(\"'data' must be a .xlsx, .xls, .csv, or .jsonl file\")\n",
    "\n",
    "            data = pd.read_csv(data)\n",
    "\n",
    "        # infer our datablock splitter if None\n",
    "        if dblock_splitter is None:\n",
    "            dblock_splitter = ColSplitter() if hasattr(data, \"is_valid\") else RandomSplitter()\n",
    "\n",
    "        # get our hf objects\n",
    "        lm_type = lm_strategy_cls.get_lm_type()\n",
    "        model_cls = cls.get_model_cls(lm_type=lm_type)\n",
    "        hf_arch, hf_config, hf_tokenizer, hf_model = BLURR.get_hf_objects(pretrained_model_name_or_path, model_cls=model_cls)\n",
    "\n",
    "        # not all architectures include a native pad_token (e.g., gpt2, ctrl, etc...), so we add one here\n",
    "        if hf_tokenizer.pad_token is None:\n",
    "            hf_tokenizer.add_special_tokens({\"pad_token\": \"<pad>\"})\n",
    "            hf_config.pad_token_id = hf_tokenizer.get_vocab()[\"<pad>\"]\n",
    "            hf_model.resize_token_embeddings(len(hf_tokenizer))\n",
    "\n",
    "        # define DataBlock and DataLoaders\n",
    "        bbtfm = LMBatchTokenizeTransform(hf_arch, hf_config, hf_tokenizer, hf_model, lm_strategy_cls=lm_strategy_cls)\n",
    "\n",
    "        input_return_type = CausalLMTextInput if (lm_type == LMType.CAUSAL) else MLMTextInput\n",
    "        blocks = (TextBlock(batch_tokenize_tfm=bbtfm, input_return_type=input_return_type), noop)\n",
    "\n",
    "        dblock = DataBlock(blocks=blocks, get_x=ItemGetter(text_attr), splitter=dblock_splitter)\n",
    "        dls = dblock.dataloaders(data, **dl_kwargs.copy())\n",
    "\n",
    "        # return BLearner instance with default metrics (optional)\n",
    "        learner_kwargs[\"metrics\"] = learner_kwargs.pop(\"metrics\", [perplexity])\n",
    "        return cls(dls, hf_model, **learner_kwargs.copy())\n"
   ]
  },
  {
   "cell_type": "markdown",
   "metadata": {},
   "source": [
    "### Example"
   ]
  },
  {
   "cell_type": "markdown",
   "metadata": {},
   "source": [
    "#### Causal language modeling"
   ]
  },
  {
   "cell_type": "code",
   "execution_count": null,
   "metadata": {},
   "outputs": [
    {
     "name": "stderr",
     "output_type": "stream",
     "text": [
      "Using pad_token, but it is not set yet.\n"
     ]
    }
   ],
   "source": [
    "learn = BlearnerForLM.from_data(df, \"gpt2\", text_attr=0, dl_kwargs={\"bs\": 2}).to_fp16()\n"
   ]
  },
  {
   "cell_type": "code",
   "execution_count": null,
   "metadata": {},
   "outputs": [
    {
     "data": {
      "text/html": [
       "<table border=\"1\" class=\"dataframe\">\n",
       "  <thead>\n",
       "    <tr style=\"text-align: right;\">\n",
       "      <th></th>\n",
       "      <th>text</th>\n",
       "      <th>target</th>\n",
       "    </tr>\n",
       "  </thead>\n",
       "  <tbody>\n",
       "    <tr>\n",
       "      <th>0</th>\n",
       "      <td>\\n = Bob Dylan = \\n \\n Bob Dylan ( / &lt;unk&gt; / ; born Robert Allen Zimmerman, May 24, 1941 ) is an American singer @-@ songwriter, artist and writer. He has been influential in popular music and culture for more than five decades. Much of his most celebrated work dates from the 1960s when his songs chronicled social unrest, although Dylan repudiated suggestions from journalists that he was a spokesman for his generation. Nevertheless, early songs such as \" Blowin'in the Wind \" and \" The Times They A</td>\n",
       "      <td>\\n = Bob Dylan = \\n \\n Bob Dylan ( / &lt;unk&gt; / ; born Robert Allen Zimmerman, May 24, 1941 ) is an American singer @-@ songwriter, artist and writer. He has been influential in popular music and culture for more than five decades. Much of his most celebrated work dates from the 1960s when his songs chronicled social unrest, although Dylan repudiated suggestions from journalists that he was a spokesman for his generation. Nevertheless, early songs such as \" Blowin'in the Wind \" and \" The Times They Ar</td>\n",
       "    </tr>\n",
       "    <tr>\n",
       "      <th>1</th>\n",
       "      <td>\\n = Condom = \\n \\n A condom is a sheath @-@ shaped barrier device that may be used during sexual intercourse to reduce the probability of pregnancy and decrease the risk of sexually transmitted infections ( STIs ) such as HIV / AIDS. It is rolled onto an erect penis before intercourse and blocks &lt;unk&gt; semen from entering the body of a sexual partner. Condoms are also used during &lt;unk&gt; and for collection of semen for use in infertility treatment. In the modern age, condoms are most often made from</td>\n",
       "      <td>\\n = Condom = \\n \\n A condom is a sheath @-@ shaped barrier device that may be used during sexual intercourse to reduce the probability of pregnancy and decrease the risk of sexually transmitted infections ( STIs ) such as HIV / AIDS. It is rolled onto an erect penis before intercourse and blocks &lt;unk&gt; semen from entering the body of a sexual partner. Condoms are also used during &lt;unk&gt; and for collection of semen for use in infertility treatment. In the modern age, condoms are most often made from</td>\n",
       "    </tr>\n",
       "  </tbody>\n",
       "</table>"
      ],
      "text/plain": [
       "<IPython.core.display.HTML object>"
      ]
     },
     "metadata": {},
     "output_type": "display_data"
    }
   ],
   "source": [
    "learn.dls.show_batch(dataloaders=learn.dls, max_n=2, trunc_at=500)\n"
   ]
  },
  {
   "cell_type": "code",
   "execution_count": null,
   "metadata": {},
   "outputs": [
    {
     "data": {
      "text/html": [
       "<table border=\"1\" class=\"dataframe\">\n",
       "  <thead>\n",
       "    <tr style=\"text-align: left;\">\n",
       "      <th>epoch</th>\n",
       "      <th>train_loss</th>\n",
       "      <th>valid_loss</th>\n",
       "      <th>perplexity</th>\n",
       "      <th>lm_accuracy</th>\n",
       "      <th>time</th>\n",
       "    </tr>\n",
       "  </thead>\n",
       "  <tbody>\n",
       "    <tr>\n",
       "      <td>0</td>\n",
       "      <td>3.480263</td>\n",
       "      <td>3.104528</td>\n",
       "      <td>22.298697</td>\n",
       "      <td>0.429945</td>\n",
       "      <td>01:55</td>\n",
       "    </tr>\n",
       "  </tbody>\n",
       "</table>"
      ],
      "text/plain": [
       "<IPython.core.display.HTML object>"
      ]
     },
     "metadata": {},
     "output_type": "display_data"
    }
   ],
   "source": [
    "learn.fit_one_cycle(1, lr_max=3e-3, cbs=[BlearnerForLM.get_metrics_cb()])\n"
   ]
  },
  {
   "cell_type": "code",
   "execution_count": null,
   "metadata": {},
   "outputs": [
    {
     "data": {
      "text/html": [],
      "text/plain": [
       "<IPython.core.display.HTML object>"
      ]
     },
     "metadata": {},
     "output_type": "display_data"
    },
    {
     "data": {
      "text/html": [
       "<table border=\"1\" class=\"dataframe\">\n",
       "  <thead>\n",
       "    <tr style=\"text-align: right;\">\n",
       "      <th></th>\n",
       "      <th>text</th>\n",
       "      <th>target</th>\n",
       "      <th>prediction</th>\n",
       "    </tr>\n",
       "  </thead>\n",
       "  <tbody>\n",
       "    <tr>\n",
       "      <th>0</th>\n",
       "      <td>\\n = Military history of Australia = \\n \\n The military history of Australia spans the nation's 220 @-@ year modern history, from the early Australian frontier wars between &lt;unk&gt; and Europeans to the ongoing conflicts in Iraq and Afghanistan in the ear</td>\n",
       "      <td>\\n = Military history of Australia = \\n \\n The military history of Australia spans the nation's 220 @-@ year modern history, from the early Australian frontier wars between &lt;unk&gt; and Europeans to the ongoing conflicts in Iraq and Afghanistan in the earl</td>\n",
       "      <td>\\n\\n =\\n = the\\n\\n\\n =\\n = Australian history of Australia is the period froms history- 1@ years period era. from the early days military to to the 18&gt; Australia &lt; &lt; the early conflict between the and Afghanistan. the late 1980st century. The the history is</td>\n",
       "    </tr>\n",
       "    <tr>\n",
       "      <th>1</th>\n",
       "      <td>\\n = Air Rhodesia Flight &lt;unk&gt; = \\n \\n Air Rhodesia Flight &lt;unk&gt; was a scheduled passenger flight that was shot down by the Zimbabwe People's Revolutionary Army ( &lt;unk&gt; ) on 3 September 1978, during the Rhodesian Bush War. The aircraft involved, a Vick</td>\n",
       "      <td>\\n = Air Rhodesia Flight &lt;unk&gt; = \\n \\n Air Rhodesia Flight &lt;unk&gt; was a scheduled passenger flight that was shot down by the Zimbabwe People's Revolutionary Army ( &lt;unk&gt; ) on 3 September 1978, during the Rhodesian Bush War. The aircraft involved, a Vicke</td>\n",
       "      <td>\\n\\n = Forceia\\n\\n\\n&gt;\\n Air\\n =\\n = Rhodesia Flight &lt;unk&gt; = a flight flight flight from was scheduled down by a Sovietan'ss Liberation Army (Zunk&gt; ) on September August 1944. killing a liberationian civil War. The plane was was was civilian- aircraftickersou</td>\n",
       "    </tr>\n",
       "  </tbody>\n",
       "</table>"
      ],
      "text/plain": [
       "<IPython.core.display.HTML object>"
      ]
     },
     "metadata": {},
     "output_type": "display_data"
    }
   ],
   "source": [
    "learn.show_results(learner=learn, trunc_at=250)\n"
   ]
  },
  {
   "cell_type": "code",
   "execution_count": null,
   "metadata": {},
   "outputs": [
    {
     "data": {
      "text/plain": [
       "[{'generated_texts': \" Blurr is fun to work with because it's main theme is the idea. It's the first game in a series, and it's a great way to newbies looking at games and learning how to get their hands on them\"}]"
      ]
     },
     "execution_count": null,
     "metadata": {},
     "output_type": "execute_result"
    }
   ],
   "source": [
    "learn.blurr_generate(\"Blurr is fun to work with because\", max_length=50, do_sample=True, top_k=25)\n"
   ]
  },
  {
   "cell_type": "code",
   "execution_count": null,
   "metadata": {},
   "outputs": [],
   "source": [
    "# hide\n",
    "try:\n",
    "    del learn\n",
    "    torch.cuda.empty_cache()\n",
    "    gc.collect()\n",
    "except:\n",
    "    pass\n"
   ]
  },
  {
   "cell_type": "markdown",
   "metadata": {},
   "source": [
    "#### Masked language modeling"
   ]
  },
  {
   "cell_type": "code",
   "execution_count": null,
   "metadata": {},
   "outputs": [],
   "source": [
    "learn = BlearnerForLM.from_data(df, \"bert-base-cased\", lm_strategy_cls=BertMLMStrategy, text_attr=0, dl_kwargs={\"bs\": 2}).to_fp16()\n"
   ]
  },
  {
   "cell_type": "code",
   "execution_count": null,
   "metadata": {},
   "outputs": [
    {
     "data": {
      "text/html": [
       "<table border=\"1\" class=\"dataframe\">\n",
       "  <thead>\n",
       "    <tr style=\"text-align: right;\">\n",
       "      <th></th>\n",
       "      <th>text</th>\n",
       "      <th>target</th>\n",
       "    </tr>\n",
       "  </thead>\n",
       "  <tbody>\n",
       "    <tr>\n",
       "      <th>0</th>\n",
       "      <td>= Bob Dylan = Bob Dylan ( / &lt; un ##k &gt; / ; born Robert Allen Z ##immer ##man , May 24 , 1941 ) is [MASK] American [MASK] @ - @ [MASK] , artist [##》] writer . He [MASK] been influential in popular music and culture [Strings] more than five decades . Much of his most celebrated [MASK] [MASK] from the 1960s when his [MASK] chronicle ##d social unrest , although Dylan re ##pu ##dia ##ted suggestions from journalists that he [MASK] [MASK] spokesman for [MASK] generation . Nevertheless , early songs such as \" B [##low] [MASK] ' in the Wind \" and \" The Times They Are a @ - @ [MASK] un ##k [MASK] ' \" became anthem ##s for the American civil rights and anti @ [MASK] @ war movements . After he [MASK] [MASK] [MASK] base in the American [MASK] music revival , his six @ - [MASK] [MASK] single \" Like [MASK] Rolling Stone \" altered the range [MASK] popular music in 1965 . His mid [MASK] - [##lor] 1960s recordings , backed by rock musicians , [MASK] the top end of the United States music charts while also attracting &lt; un ##k &gt; and criticism from [MASK] in [MASK] folk [MASK] . [scrap] ' s lyrics have incorporated [MASK] political , social , [MASK] , and literary influences . [They] def ##ied [MASK] pop [MASK] conventions and appealed to [MASK] b [MASK] ##oning counter ##culture [MASK] Initially inspired by the performances</td>\n",
       "      <td>= Bob Dylan = Bob Dylan ( / &lt; un ##k &gt; / ; born Robert Allen Z ##immer ##man , May 24 , 1941 ) is [an] American [singer] @ - @ [songwriter] , artist [and] writer . He [has] been influential in popular music and culture [for] more than five decades . Much of his most celebrated [work] [dates] from the 1960s when his [songs] chronicle ##d social unrest , although Dylan re ##pu ##dia ##ted suggestions from journalists that he [was] [a] spokesman for [his] generation . Nevertheless , early songs such as \" B [##low] [##in] ' in the Wind \" and \" The Times They Are a @ - @ [&lt;] un ##k [&gt;] ' \" became anthem ##s for the American civil rights and anti @ [-] @ war movements . After he [left] [his] [initial] base in the American [folk] music revival , his six @ - [@] [minute] single \" Like [a] Rolling Stone \" altered the range [of] popular music in 1965 . His mid [@] - [@] 1960s recordings , backed by rock musicians , [reached] the top end of the United States music charts while also attracting &lt; un ##k &gt; and criticism from [others] in [the] folk [movement] . [Dylan] ' s lyrics have incorporated [various] political , social , [philosophical] , and literary influences . [They] def ##ied [existing] pop [music] conventions and appealed to [the] b [##urge] ##oning counter ##culture [.] Initially inspired by the performances</td>\n",
       "    </tr>\n",
       "    <tr>\n",
       "      <th>1</th>\n",
       "      <td>= Missouri River [MASK] The Missouri River is the longest river in North America . Rising in the Rocky Mountains of [MASK] Montana , the Missouri [MASK] east and south [MASK] 2 @ [MASK] @ 34 [##1] [miles] ( [MASK] [MASK] , @ 76 ##7 km ) [MASK] [MASK] the Mississippi River north [MASK] St . Louis , [MASK] . The [MASK] takes drainage from a sparse ##ly populated [MASK] semi @ - @ arid watershed of more than half a million square miles ( 1 @ , @ [MASK] [MASK] , [Radar] 000 km ##2 ) , which includes parts of ten U . S . states [MASK] two [MASK] provinces . When combined with the lower Mississippi River , it [MASK] the world ' s fourth longest river system . For over 12 [MASK] , @ 000 years , people have depended on the Missouri River and its tributaries as a [MASK] of su ##sten ##ance and transportation . [MASK] [MASK] ten major [MASK] of Native [MASK] populated the watershed [,] most leading [MASK] nomadic lifestyle and [MASK] on enormous buffalo herd ##s that once r [##oam] ##ed through the Great Plains . The [MASK] [MASK] encountered the river in the late seventeenth century , and the region passed through Spanish and French hands before [MASK] becoming part [620] the United [regime] through the Louisiana P ##ur ##chase . [The] Missouri was long believed to be part of the Northwest [MASK] [–] a water route from the Atlantic</td>\n",
       "      <td>= Missouri River [=] The Missouri River is the longest river in North America . Rising in the Rocky Mountains of [western] Montana , the Missouri [flows] east and south [for] 2 @ [,] @ 34 [##1] [miles] ( [3] [@] , @ 76 ##7 km ) [before] [entering] the Mississippi River north [of] St . Louis , [Missouri] . The [river] takes drainage from a sparse ##ly populated [,] semi @ - @ arid watershed of more than half a million square miles ( 1 @ , @ [300] [@] , [@] 000 km ##2 ) , which includes parts of ten U . S . states [and] two [Canadian] provinces . When combined with the lower Mississippi River , it [forms] the world ' s fourth longest river system . For over 12 [@] , @ 000 years , people have depended on the Missouri River and its tributaries as a [source] of su ##sten ##ance and transportation . [More] [than] ten major [groups] of Native [Americans] populated the watershed [,] most leading [a] nomadic lifestyle and [dependent] on enormous buffalo herd ##s that once r [##oam] ##ed through the Great Plains . The [first] [Europeans] encountered the river in the late seventeenth century , and the region passed through Spanish and French hands before [finally] becoming part [of] the United [States] through the Louisiana P ##ur ##chase . [The] Missouri was long believed to be part of the Northwest [Passage] [–] a water route from the Atlantic</td>\n",
       "    </tr>\n",
       "  </tbody>\n",
       "</table>"
      ],
      "text/plain": [
       "<IPython.core.display.HTML object>"
      ]
     },
     "metadata": {},
     "output_type": "display_data"
    }
   ],
   "source": [
    "learn.dls.show_batch(dataloaders=learn.dls, max_n=2, trunc_at=250)\n"
   ]
  },
  {
   "cell_type": "code",
   "execution_count": null,
   "metadata": {},
   "outputs": [
    {
     "data": {
      "text/html": [
       "<table border=\"1\" class=\"dataframe\">\n",
       "  <thead>\n",
       "    <tr style=\"text-align: left;\">\n",
       "      <th>epoch</th>\n",
       "      <th>train_loss</th>\n",
       "      <th>valid_loss</th>\n",
       "      <th>perplexity</th>\n",
       "      <th>lm_accuracy</th>\n",
       "      <th>time</th>\n",
       "    </tr>\n",
       "  </thead>\n",
       "  <tbody>\n",
       "    <tr>\n",
       "      <td>0</td>\n",
       "      <td>2.658835</td>\n",
       "      <td>2.445236</td>\n",
       "      <td>11.533271</td>\n",
       "      <td>0.579787</td>\n",
       "      <td>00:43</td>\n",
       "    </tr>\n",
       "  </tbody>\n",
       "</table>"
      ],
      "text/plain": [
       "<IPython.core.display.HTML object>"
      ]
     },
     "metadata": {},
     "output_type": "display_data"
    }
   ],
   "source": [
    "learn.fit_one_cycle(1, lr_max=6e-4, cbs=[BlearnerForLM.get_metrics_cb()])\n"
   ]
  },
  {
   "cell_type": "code",
   "execution_count": null,
   "metadata": {},
   "outputs": [
    {
     "data": {
      "text/html": [],
      "text/plain": [
       "<IPython.core.display.HTML object>"
      ]
     },
     "metadata": {},
     "output_type": "display_data"
    },
    {
     "data": {
      "text/html": [
       "<table border=\"1\" class=\"dataframe\">\n",
       "  <thead>\n",
       "    <tr style=\"text-align: right;\">\n",
       "      <th></th>\n",
       "      <th>text</th>\n",
       "      <th>target</th>\n",
       "      <th>prediction</th>\n",
       "    </tr>\n",
       "  </thead>\n",
       "  <tbody>\n",
       "    <tr>\n",
       "      <th>0</th>\n",
       "      <td>= Military history of [MASK] = The military history of Australia spans [MASK] [MASK] ' s 220 @ - @ year modern history , from [benefited] early Australian [frontier] wars between &lt; un [MASK] [MASK] and Europeans to [MASK] ongoing conflicts in Iraq and Afghanistan in the early 21st century . Although this history is short [Dam] compared to that of many other nations , Australia has been involved in [MASK] conflicts and wars , and war and military service [MASK] been significant influences on Australian society and national identity , including the [MASK] ##zac spirit . The relationship between war and Australian society has also been shaped by the enduring themes [MASK] [Australian] strategic culture and its unique security di ##lemma . As British &lt; un ##k &gt; [MASK] the Australian colonies participated in Britain ' s small wars of the 19th [century] , while later [MASK] a &lt; un ##k &gt; do ##mini ##on , and then an independent nation , Australia fought in [MASK] [MASK] [MASK] War and Second World War [MASK] as [MASK] as in the wars in Korea , Malaya , Borneo and Vietnam during the Cold [MASK] . In [MASK] Post @ - @ Vietnam era Australian forces [MASK] been [involved] in numerous international peace ##keeping missions , [MASK] the [MASK] Nations and other [MASK] , including in the [MASK] [MASK] Persian Gulf , &lt; un ##k &gt; , Somalia [MASK] East Timor and the Solomon Islands , [MASK] more recently they have also</td>\n",
       "      <td>= Military history of [Australia] = The military history of Australia spans [the] [nation] ' s 220 @ - @ year modern history , from [the] early Australian [frontier] wars between &lt; un [##k] [&gt;] and Europeans to [the] ongoing conflicts in Iraq and Afghanistan in the early 21st century . Although this history is short [when] compared to that of many other nations , Australia has been involved in [numerous] conflicts and wars , and war and military service [have] been significant influences on Australian society and national identity , including the [An] ##zac spirit . The relationship between war and Australian society has also been shaped by the enduring themes [of] [Australian] strategic culture and its unique security di ##lemma . As British &lt; un ##k &gt; [,] the Australian colonies participated in Britain ' s small wars of the 19th [century] , while later [as] a &lt; un ##k &gt; do ##mini ##on , and then an independent nation , Australia fought in [the] [First] [World] War and Second World War [,] as [well] as in the wars in Korea , Malaya , Borneo and Vietnam during the Cold [War] . In [the] Post @ - @ Vietnam era Australian forces [have] been [involved] in numerous international peace ##keeping missions , [through] the [United] Nations and other [agencies] , including in the [Sinai] [,] Persian Gulf , &lt; un ##k &gt; , Somalia [,] East Timor and the Solomon Islands , [while] more recently they have also</td>\n",
       "      <td>= Military history of [Australia] = The military history of Australia spans [Australia] [Australia] ' s 220 @ - @ year modern history , from [the] early Australian [frontier] wars between &lt; un [##k] [&gt;] and Europeans to [the] ongoing conflicts in Iraq and Afghanistan in the early 21st century . Although this history is short [lived] compared to that of many other nations , Australia has been involved in [numerous] conflicts and wars , and war and military service [have] been significant influences on Australian society and national identity , including the [An] ##zac spirit . The relationship between war and Australian society has also been shaped by the enduring themes [of] [Australian] strategic culture and its unique security di ##lemma . As British &lt; un ##k &gt; [and] the Australian colonies participated in Britain ' s small wars of the 19th [century] , while later [becoming] a &lt; un ##k &gt; do ##mini ##on , and then an independent nation , Australia fought in [the] [First] [World] War and Second World War [,] as [well] as in the wars in Korea , Malaya , Borneo and Vietnam during the Cold [War] . In [the] Post @ - @ Vietnam era Australian forces [have] been [involved] in numerous international peace ##keeping missions , [to] the [United] Nations and other [countries] , including in the [Persian] [,] Persian Gulf , &lt; un ##k &gt; , Somalia [,] East Timor and the Solomon Islands , [and] more recently they have also</td>\n",
       "    </tr>\n",
       "    <tr>\n",
       "      <th>1</th>\n",
       "      <td>= Air Rhodesia [Flight] &lt; un ##k &gt; = Air Rhodesia [MASK] &lt; un ##k &gt; was a [MASK] passenger flight that was shot [MASK] by the Zimbabwe People ' s Revolutionary [MASK] ( &lt; un ##k &gt; ) on [MASK] September 1978 , [MASK] the Rhodesia ##n Bush War . The aircraft involved , a Vickers Viscount named the &lt; un ##k &gt; [MASK] was flying the last leg of Air Rhodesia ' s regular scheduled service [MASK] Victoria Falls to [MASK] [MASK] Salisbury , via the resort [MASK] [MASK] &lt; un ##k &gt; . Soon after Flight [&lt;] un ##k &gt; took off , [MASK] group [MASK] &lt; un [MASK] &gt; guerrilla ##s scored a direct hit on its star ##board wing with a Soviet @ - [MASK] made &lt; un ##k &gt; 2 surface @ - @ to @ - @ air infrared &lt; un [MASK] [&gt;] [MASK] , critically [MASK] the aircraft [and] forcing an [MASK] landing . An attempted belly landing in a [MASK] [payload] [MASK] west of &lt; un ##k &gt; [MASK] &lt; un ##k &gt; by an unseen ditch , which caused the plane to [MASK] ##wheel and break up . Of the 52 passengers and four crew [MASK] 38 died [MASK] [MASK] crash [MASK] the [MASK] then approached the wreckage , rounded up the 10 survivors they could see and massacre [##d] them with automatic gunfire . Three passengers survived by [MASK] in [MASK] surrounding bush , while a further [MASK] lived</td>\n",
       "      <td>= Air Rhodesia [Flight] &lt; un ##k &gt; = Air Rhodesia [Flight] &lt; un ##k &gt; was a [scheduled] passenger flight that was shot [down] by the Zimbabwe People ' s Revolutionary [Army] ( &lt; un ##k &gt; ) on [3] September 1978 , [during] the Rhodesia ##n Bush War . The aircraft involved , a Vickers Viscount named the &lt; un ##k &gt; [,] was flying the last leg of Air Rhodesia ' s regular scheduled service [from] Victoria Falls to [the] [capital] Salisbury , via the resort [town] [of] &lt; un ##k &gt; . Soon after Flight [&lt;] un ##k &gt; took off , [a] group [of] &lt; un [##k] &gt; guerrilla ##s scored a direct hit on its star ##board wing with a Soviet @ - [@] made &lt; un ##k &gt; 2 surface @ - @ to @ - @ air infrared &lt; un [##k] [&gt;] [missile] , critically [damaging] the aircraft [and] forcing an [emergency] landing . An attempted belly landing in a [cotton] [field] [just] west of &lt; un ##k &gt; [was] &lt; un ##k &gt; by an unseen ditch , which caused the plane to [cart] ##wheel and break up . Of the 52 passengers and four crew [,] 38 died [in] [this] crash [;] the [insurgents] then approached the wreckage , rounded up the 10 survivors they could see and massacre [##d] them with automatic gunfire . Three passengers survived by [hiding] in [the] surrounding bush , while a further [five] lived</td>\n",
       "      <td>= Air Rhodesia [Flight] &lt; un ##k &gt; = Air Rhodesia [Flight] &lt; un ##k &gt; was a [scheduled] passenger flight that was shot [down] by the Zimbabwe People ' s Revolutionary [Army] ( &lt; un ##k &gt; ) on [10] September 1978 , [during] the Rhodesia ##n Bush War . The aircraft involved , a Vickers Viscount named the &lt; un ##k &gt; [,] was flying the last leg of Air Rhodesia ' s regular scheduled service [from] Victoria Falls to [Darwin] [Port] Salisbury , via the resort [of] [the] &lt; un ##k &gt; . Soon after Flight [&lt;] un ##k &gt; took off , [a] group [of] &lt; un [##k] &gt; guerrilla ##s scored a direct hit on its star ##board wing with a Soviet @ - [@] made &lt; un ##k &gt; 2 surface @ - @ to @ - @ air infrared &lt; un [##k] [&gt;] [)] , critically [damaging] the aircraft [and] forcing an [emergency] landing . An attempted belly landing in a [small] [payload] [bay] west of &lt; un ##k &gt; [followed] &lt; un ##k &gt; by an unseen ditch , which caused the plane to [tail] ##wheel and break up . Of the 52 passengers and four crew [,] 38 died [in] [the] crash [;] the [police] then approached the wreckage , rounded up the 10 survivors they could see and massacre [##d] them with automatic gunfire . Three passengers survived by [drowning] in [the] surrounding bush , while a further [two] lived</td>\n",
       "    </tr>\n",
       "  </tbody>\n",
       "</table>"
      ],
      "text/plain": [
       "<IPython.core.display.HTML object>"
      ]
     },
     "metadata": {},
     "output_type": "display_data"
    }
   ],
   "source": [
    "learn.show_results(learner=learn, trunc_at=250)\n"
   ]
  },
  {
   "cell_type": "code",
   "execution_count": null,
   "metadata": {},
   "outputs": [],
   "source": [
    "batch_tfm = first_blurr_tfm(learn.dls)\n"
   ]
  },
  {
   "cell_type": "code",
   "execution_count": null,
   "metadata": {},
   "outputs": [
    {
     "data": {
      "text/plain": [
       "['The best place on earth is here.',\n",
       " 'The best place on earth is heaven.',\n",
       " 'The best place on earth is Egypt.',\n",
       " 'The best place on earth is India.',\n",
       " 'The best place on earth is America.']"
      ]
     },
     "execution_count": null,
     "metadata": {},
     "output_type": "execute_result"
    }
   ],
   "source": [
    "learn.blurr_fill_mask(f\"The best place on earth is {batch_tfm.hf_tokenizer.mask_token}.\", n_preds=5)\n"
   ]
  },
  {
   "cell_type": "code",
   "execution_count": null,
   "metadata": {},
   "outputs": [],
   "source": [
    "# hide\n",
    "try:\n",
    "    del learn\n",
    "    torch.cuda.empty_cache()\n",
    "    gc.collect()\n",
    "except:\n",
    "    pass\n"
   ]
  },
  {
   "cell_type": "markdown",
   "metadata": {},
   "source": [
    "## Summary\n",
    "\n",
    "Whether you're using the low, mid, or high-level APIs, the `modeling.language_modeling` provides everything you need to train causual and masked language models"
   ]
  },
  {
   "cell_type": "code",
   "execution_count": null,
   "metadata": {},
   "outputs": [
    {
     "name": "stdout",
     "output_type": "stream",
     "text": [
      "Converted 00_utils.ipynb.\n",
      "Converted 01_data-core.ipynb.\n",
      "Converted 01_modeling-core.ipynb.\n",
      "Converted 02_data-language-modeling.ipynb.\n",
      "Converted 02_modeling-language-modeling.ipynb.\n",
      "Converted 03_data-token-classification.ipynb.\n",
      "Converted 03_modeling-token-classification.ipynb.\n",
      "Converted 04_data-question-answering.ipynb.\n",
      "Converted 04_modeling-question-answering.ipynb.\n",
      "Converted 10_data-seq2seq-core.ipynb.\n",
      "Converted 10_modeling-seq2seq-core.ipynb.\n",
      "Converted 11_data-seq2seq-summarization.ipynb.\n",
      "Converted 11_modeling-seq2seq-summarization.ipynb.\n",
      "Converted 12_data-seq2seq-translation.ipynb.\n",
      "Converted 12_modeling-seq2seq-translation.ipynb.\n",
      "Converted 99a_examples-high-level-api.ipynb.\n",
      "Converted 99b_examples-glue.ipynb.\n",
      "Converted 99c_examples-glue-plain-pytorch.ipynb.\n",
      "Converted 99d_examples-multilabel.ipynb.\n",
      "Converted 99e_examples-causal-lm-gpt2.ipynb.\n",
      "Converted index.ipynb.\n"
     ]
    }
   ],
   "source": [
    "# hide\n",
    "from nbdev.export import notebook2script\n",
    "\n",
    "notebook2script()\n"
   ]
  },
  {
   "cell_type": "code",
   "execution_count": null,
   "metadata": {},
   "outputs": [],
   "source": []
  }
 ],
 "metadata": {
  "kernelspec": {
   "display_name": "Python 3",
   "language": "python",
   "name": "python3"
  }
 },
 "nbformat": 4,
 "nbformat_minor": 4
}
