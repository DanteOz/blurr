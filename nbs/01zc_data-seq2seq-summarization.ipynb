{
 "cells": [
  {
   "cell_type": "code",
   "execution_count": null,
   "metadata": {},
   "outputs": [],
   "source": [
    "# default_exp data.seq2seq.summarization"
   ]
  },
  {
   "cell_type": "code",
   "execution_count": null,
   "metadata": {},
   "outputs": [],
   "source": [
    "#all_slow"
   ]
  },
  {
   "cell_type": "code",
   "execution_count": null,
   "metadata": {},
   "outputs": [],
   "source": [
    "#hide\n",
    "%reload_ext autoreload\n",
    "%autoreload 2\n",
    "%matplotlib inline\n",
    "\n",
    "import os\n",
    "os.environ[\"TOKENIZERS_PARALLELISM\"] = \"false\""
   ]
  },
  {
   "cell_type": "markdown",
   "metadata": {},
   "source": [
    "# data.seq2seq.summarization\n",
    "\n",
    "> This module contains the bits required to use the fastai DataBlock API and/or mid-level data processing pipelines to organize your data for summarization tasks using architectures like BART and T5."
   ]
  },
  {
   "cell_type": "code",
   "execution_count": null,
   "metadata": {},
   "outputs": [],
   "source": [
    "#export\n",
    "import ast\n",
    "from functools import reduce\n",
    "\n",
    "import torch\n",
    "from transformers import *\n",
    "from fastai.text.all import *\n",
    "\n",
    "from blurr.utils import *\n",
    "from blurr.data.core import *\n",
    "from blurr.data.seq2seq.core import *\n",
    "\n",
    "logging.set_verbosity_error()"
   ]
  },
  {
   "cell_type": "code",
   "execution_count": null,
   "metadata": {},
   "outputs": [
    {
     "name": "stdout",
     "output_type": "stream",
     "text": [
      "Using pytorch 1.7.1\n",
      "Using fastai 2.3.1\n",
      "Using transformers 4.5.1\n"
     ]
    }
   ],
   "source": [
    "#hide\n",
    "import pdb\n",
    "\n",
    "from nbdev.showdoc import *\n",
    "from fastcore.test import *\n",
    "\n",
    "from fastai import __version__ as fa_version\n",
    "from torch import __version__ as pt_version\n",
    "from transformers import __version__ as hft_version\n",
    "\n",
    "print(f'Using pytorch {pt_version}')\n",
    "print(f'Using fastai {fa_version}')\n",
    "print(f'Using transformers {hft_version}')"
   ]
  },
  {
   "cell_type": "code",
   "execution_count": null,
   "metadata": {},
   "outputs": [
    {
     "name": "stdout",
     "output_type": "stream",
     "text": [
      "Using GPU #1: GeForce GTX 1080 Ti\n"
     ]
    }
   ],
   "source": [
    "#cuda\n",
    "torch.cuda.set_device(1)\n",
    "print(f'Using GPU #{torch.cuda.current_device()}: {torch.cuda.get_device_name()}')"
   ]
  },
  {
   "cell_type": "markdown",
   "metadata": {},
   "source": [
    "## Summarization tokenization, batch transform, and DataBlock methods\n",
    "\n",
    "Summarization tasks attempt to generate a human-understandable and sensible representation of a larger body of text (e.g., capture the meaning of a larger document in 1-3 sentences)."
   ]
  },
  {
   "cell_type": "code",
   "execution_count": null,
   "metadata": {},
   "outputs": [
    {
     "data": {
      "text/plain": [
       "1000"
      ]
     },
     "execution_count": null,
     "metadata": {},
     "output_type": "execute_result"
    }
   ],
   "source": [
    "path = Path('./')\n",
    "cnndm_df = pd.read_csv(path/'cnndm_sample.csv'); len(cnndm_df)"
   ]
  },
  {
   "cell_type": "code",
   "execution_count": null,
   "metadata": {},
   "outputs": [
    {
     "data": {
      "text/html": [
       "<div>\n",
       "<style scoped>\n",
       "    .dataframe tbody tr th:only-of-type {\n",
       "        vertical-align: middle;\n",
       "    }\n",
       "\n",
       "    .dataframe tbody tr th {\n",
       "        vertical-align: top;\n",
       "    }\n",
       "\n",
       "    .dataframe thead th {\n",
       "        text-align: right;\n",
       "    }\n",
       "</style>\n",
       "<table border=\"1\" class=\"dataframe\">\n",
       "  <thead>\n",
       "    <tr style=\"text-align: right;\">\n",
       "      <th></th>\n",
       "      <th>article</th>\n",
       "      <th>highlights</th>\n",
       "      <th>ds_type</th>\n",
       "    </tr>\n",
       "  </thead>\n",
       "  <tbody>\n",
       "    <tr>\n",
       "      <th>0</th>\n",
       "      <td>(CNN)  -- Globalization washes like a flood over the world's cultures and economies. Floods can be destructive; however, they can also bring blessings, as the annual floods of the Nile did for ancient Egypt. The world's great universities can be crucial instruments in shaping, in a positive way, humankind's reaction to globalization and the development of humankind itself. Traditionally, universities have been defined and limited by location, creating an academic community and drawing students and scholars to that place. Eventually, some universities began to encourage students to study el...</td>\n",
       "      <td>John Sexton: Traditionally, universities have been defined and limited by location .\\nGlobal campuses form a network of thought, innovation, he writes .\\nFaculty can teach, Sexton says, students can team up in many cities at once .\\nSexton: Research, scholarship can be shared and cultural ties made in \"century of knowledge\"</td>\n",
       "      <td>train</td>\n",
       "    </tr>\n",
       "    <tr>\n",
       "      <th>1</th>\n",
       "      <td>(CNN) -- Armenian President Robert Kocharian declared a state of emergency Saturday night after a day of clashes between police and protesters, a spokeswoman for the Armenian Foreign Ministry said. Opposition supporters wave an Armenian flag during a protest rally in Yerevan, Armenia, on Saturday. The protesters claim last month's presidential election was rigged. The state of emergency will \"hopefully bring some order\" to the capital, Yerevan, said Salpi Ghazarian, assistant to the Armenian foreign minister, who spoke to CNN early Sunday. The state of emergency could last until March 20, ...</td>\n",
       "      <td>NEW: Protest moves after crackdown at Freedom Square .\\nOrder sought after protests over last month's election turn violent .\\nDemonstrators say the election was fraudulent .\\nState of emergency could last until March 20, official says .</td>\n",
       "      <td>train</td>\n",
       "    </tr>\n",
       "  </tbody>\n",
       "</table>\n",
       "</div>"
      ],
      "text/plain": [
       "                                                                                                                                                                                                                                                                                                                                                                                                                                                                                                                                                                                                                   article  \\\n",
       "0  (CNN)  -- Globalization washes like a flood over the world's cultures and economies. Floods can be destructive; however, they can also bring blessings, as the annual floods of the Nile did for ancient Egypt. The world's great universities can be crucial instruments in shaping, in a positive way, humankind's reaction to globalization and the development of humankind itself. Traditionally, universities have been defined and limited by location, creating an academic community and drawing students and scholars to that place. Eventually, some universities began to encourage students to study el...   \n",
       "1  (CNN) -- Armenian President Robert Kocharian declared a state of emergency Saturday night after a day of clashes between police and protesters, a spokeswoman for the Armenian Foreign Ministry said. Opposition supporters wave an Armenian flag during a protest rally in Yerevan, Armenia, on Saturday. The protesters claim last month's presidential election was rigged. The state of emergency will \"hopefully bring some order\" to the capital, Yerevan, said Salpi Ghazarian, assistant to the Armenian foreign minister, who spoke to CNN early Sunday. The state of emergency could last until March 20, ...   \n",
       "\n",
       "                                                                                                                                                                                                                                                                                                                              highlights  \\\n",
       "0  John Sexton: Traditionally, universities have been defined and limited by location .\\nGlobal campuses form a network of thought, innovation, he writes .\\nFaculty can teach, Sexton says, students can team up in many cities at once .\\nSexton: Research, scholarship can be shared and cultural ties made in \"century of knowledge\"   \n",
       "1                                                                                          NEW: Protest moves after crackdown at Freedom Square .\\nOrder sought after protests over last month's election turn violent .\\nDemonstrators say the election was fraudulent .\\nState of emergency could last until March 20, official says .   \n",
       "\n",
       "  ds_type  \n",
       "0   train  \n",
       "1   train  "
      ]
     },
     "execution_count": null,
     "metadata": {},
     "output_type": "execute_result"
    }
   ],
   "source": [
    "cnndm_df.head(2)"
   ]
  },
  {
   "cell_type": "code",
   "execution_count": null,
   "metadata": {},
   "outputs": [
    {
     "data": {
      "text/plain": [
       "('bart',\n",
       " transformers.models.bart.tokenization_bart_fast.BartTokenizerFast,\n",
       " transformers.models.bart.configuration_bart.BartConfig,\n",
       " transformers.models.bart.modeling_bart.BartForConditionalGeneration)"
      ]
     },
     "execution_count": null,
     "metadata": {},
     "output_type": "execute_result"
    }
   ],
   "source": [
    "pretrained_model_name = \"facebook/bart-large-cnn\"\n",
    "model_cls = AutoModelForSeq2SeqLM\n",
    "\n",
    "hf_arch, hf_config, hf_tokenizer, hf_model = BLURR.get_hf_objects(pretrained_model_name, model_cls=model_cls)\n",
    "hf_arch, type(hf_tokenizer), type(hf_config), type(hf_model)"
   ]
  },
  {
   "cell_type": "code",
   "execution_count": null,
   "metadata": {},
   "outputs": [],
   "source": [
    "blocks = (HF_Seq2SeqBlock(hf_arch, hf_config, hf_tokenizer, hf_model), noop)\n",
    "\n",
    "dblock = DataBlock(blocks=blocks, \n",
    "                   get_x=ColReader('article'), \n",
    "                   get_y=ColReader('highlights'), \n",
    "                   splitter=RandomSplitter())"
   ]
  },
  {
   "cell_type": "markdown",
   "metadata": {},
   "source": [
    "Two lines!  Notice we pass in `noop` for our targets (e.g. our summaries) because the batch transform will take care of both out inputs and targets."
   ]
  },
  {
   "cell_type": "code",
   "execution_count": null,
   "metadata": {},
   "outputs": [
    {
     "name": "stdout",
     "output_type": "stream",
     "text": [
      "Setting-up type transforms pipelines\n",
      "Collecting items from                                                                                                                                                                                                                                                                                                                                                                                                                                                                                                                                                                                                                      article  \\\n",
      "0    (CNN)  -- Globalization washes like a flood over the world's cultures and economies. Floods can be destructive; however, they can also bring blessings, as the annual floods of the Nile did for ancient Egypt. The world's great universities can be crucial instruments in shaping, in a positive way, humankind's reaction to globalization and the development of humankind itself. Traditionally, universities have been defined and limited by location, creating an academic community and drawing students and scholars to that place. Eventually, some universities began to encourage students to study el...   \n",
      "1    (CNN) -- Armenian President Robert Kocharian declared a state of emergency Saturday night after a day of clashes between police and protesters, a spokeswoman for the Armenian Foreign Ministry said. Opposition supporters wave an Armenian flag during a protest rally in Yerevan, Armenia, on Saturday. The protesters claim last month's presidential election was rigged. The state of emergency will \"hopefully bring some order\" to the capital, Yerevan, said Salpi Ghazarian, assistant to the Armenian foreign minister, who spoke to CNN early Sunday. The state of emergency could last until March 20, ...   \n",
      "2    (Mental Floss) -- President Barack Obama turns 48 on Tuesday. While the first family encourages you to send contributions to your favorite charity in lieu of the White House, if you insist on doing some last-minute birthday shopping for 44, you might consider a pair of jeans or a case of Bud Light. For some historical precedent, here's a look back at some of the more interesting presidential gifts. Future president Barack Obama and his family blow out the candles on his birthday cake in 2004. George W. Bush: Raw lamb . President Bush and his family received about 1,000 gifts per month duri...   \n",
      "3    (CNN) -- Renee Pernice, a 35-year-old mother of two young children, vanished from her home in Kansas City, Missouri, shortly after New Year's this year. She hasn't been heard from since. Renee Pernice is pictured here with her two sons and husband, Shon. Police believe foul play is involved, yet they have not found her body. No one has been arrested in the case. Police have not named her husband, Shon Pernice, as a person of interest or a suspect in the case. However, \"he's the last known person to see her alive,\" said Doug Niemeier, a sergeant with the Kansas City Police Department. Six m...   \n",
      "4    Michelle Crumrine was out of town when a tornado tore through her neighborhood. She returned to Washington, Illinois, to find pieces of her life strewn about where her house once stood. \"A lot of people have a pile of rubble still,\" she said, \"and I don't have anything. ... It's gone. I don't know where it went.\" Nearby, rescuers with flashlights trudged through the neighborhood in the dark of night, searching for signs of life in the wreckage. As a severe weather system slammed the Midwest on Sunday, spawning dozens of tornadoes, flash floods and hail, this town of 10,000 people was among...   \n",
      "..                                                                                                                                                                                                                                                                                                                                                                                                                                                                                                                                                                                                                       ...   \n",
      "995  New Delhi (CNN) -- In New Delhi's upscale diplomatic district, Ram Dhan lives in a parallel world. For years, his home has been a rickety shanty that he shares with his ailing wife, a young son, a daughter-in-law and two grandchildren. Now 62, Dhan has lived through India's journey as an independent nation. He finds little reason to rejoice as the country celebrates Monday, the 64th anniversary of freedom from British rule. \"The poor have hardly benefited,\" he says. Sitting on a cot in his shack huddled in a squalid slum in one of the richest neighborhoods of the Indian capital, he bitterl...   \n",
      "996  (CNN) -- We've seen deaths, weddings, dramatic costume changes, surprise hookups and more deaths. And that's just in the past five years or so. The world of superhero comics has seen a lot of changes recently, with the demise -- and in some cases, resurrection - of Robin, Captain America, Peter Parker, Professor Charles Xavier and the Human Torch. Clark Kent walked out on his job and dated Wonder Woman. There have been revelations that multiple characters were gay, along with a same-sex wedding or two. (There also was a complete reboot in 2011 for DC Comics, which like CNN is owned by Time...   \n",
      "997  (CNN) -- Sarin gas has been used several times in the Syrian civil war, including at least once by the Assad regime, France's foreign minister said Tuesday, citing results from test samples in France's possession. Laurent Fabius announced that conclusion after meeting with the head of a United Nations mission set up to establish the facts about the alleged use of chemical weapons in Syria. \"I gave him the results of tests carried out by our lab appointed by the Organization for the Prohibition of Chemical Weapons to identify chemical warfare,\" Fabius said in a statement, referring to the S...   \n",
      "998  (CNN) -- When the 2,455th star on the Hollywood Walk of Fame is laid on Monday for actor Steve Guttenberg, Ana Martinez will once again be working behind the scenes as curator-in-chief to the iconic attraction. The Walk of Fame is one of showbiz's most visible landmarks,and Martinez has been its inconspicuous producer for almost half the attraction's 51 years, making sure the constellation of stars is perfectly aligned on the Hollywood sidewalks. For 24 years, she has been the person deciding where celebrities will receive their coveted symbol of fame in the heart of Tinseltown. When a sta...   \n",
      "999  President Barack Obama's announcement that he now supports same-sex marriage reflects a dramatic shift taking place across the country. Last year, for the first time, polls found a majority of Americans share that stance. Surveys show the country's position has undergone a rapid change over the past 15 years -- one not seen on other issues. On climate change, abortion and the death penalty, \"we're not seeing Americans necessarily becoming more liberal,\" said Frank Newport, editor in chief of Gallup. \"This one stands a little alone.\" Views of same-sex marriage around the world . In 1996, Ga...   \n",
      "\n",
      "                                                                                                                                                                                                                                                                                                                                highlights  \\\n",
      "0    John Sexton: Traditionally, universities have been defined and limited by location .\\nGlobal campuses form a network of thought, innovation, he writes .\\nFaculty can teach, Sexton says, students can team up in many cities at once .\\nSexton: Research, scholarship can be shared and cultural ties made in \"century of knowledge\"   \n",
      "1                                                                                            NEW: Protest moves after crackdown at Freedom Square .\\nOrder sought after protests over last month's election turn violent .\\nDemonstrators say the election was fraudulent .\\nState of emergency could last until March 20, official says .   \n",
      "2                                                                                                                             The president of Argentina gave George W. Bush 300 pounds of lamb meat .\\nJFK received a carved peach pit in his likeness .\\nA bowling alley was installed in the White House as a birthday gift to Truman .   \n",
      "3                    Renee Pernice disappeared from her home shortly after New Year's this year .\\nPolice believe foul play is involved, although they have not found a body .\\nPolice say her husband accessed a HazMat building shortly after she disappeared .\\nAttorneys for husband, Shon Pernice, declined comment for this report .   \n",
      "4                                                                           A third person died in Massac County, Illinois, bringing the state total death toll to 6 .\\nHigh winds knock out power to 390,000 in Michigan .\\n67 tornadoes were reported across the region .\\n\"I don't have anything. ... It's gone,\" a storm victim says .   \n",
      "..                                                                                                                                                                                                                                                                                                                                     ...   \n",
      "995                                                   India is marking its 64th anniversary of freedom from British rule .\\n\"The poor have hardly benefited,\" says one man .\\nPrime Minister Manmohan Singh admits much needs to be done for the \"common man\"\\nPolicymakers have agreed over the years that corruption is a major factor .   \n",
      "996                                                                                                  From the deaths of Robin and Peter Parker to major reboots, comics see a lot of change .\\nComics creators say that the most important element is a well-told story .\\nThree comic book experts share their views of this phenomenon .   \n",
      "997     NEW: Fabius says the Assad regime is culpable in at least one instance .\\nFrance is certain sarin gas was used in Syria \"several times,\" Fabius says .\\nThe announcement comes after a meeting with the head of a fact-finding mission .\\nHuman Rights Council report: \"Reasonable grounds\" to believe chemical agents were used .   \n",
      "998                                                                                                                            Ana Martinez is the curator-in-chief for the Hollywood Walk of Fame .\\nSo far Martinez has produced 586 star ceremonies .\\nOn Monday she will be at the helm for the unveiling of Steve Guttenberg's star .   \n",
      "999                                                                                                                  Gallup and CNN polls in 2011 found the majority of Americans supported same-sex marriage .\\nUsually such changes take place over longer blocks of time, a pollster says .\\nYoung adults are helping drive the shift .   \n",
      "\n",
      "    ds_type  \n",
      "0     train  \n",
      "1     train  \n",
      "2     train  \n",
      "3     train  \n",
      "4     train  \n",
      "..      ...  \n",
      "995   train  \n",
      "996   train  \n",
      "997   train  \n",
      "998   train  \n",
      "999   train  \n",
      "\n",
      "[1000 rows x 3 columns]\n",
      "Found 1000 items\n",
      "2 datasets of sizes 800,200\n",
      "Setting up Pipeline: ColReader -- {'cols': 'article', 'pref': '', 'suff': '', 'label_delim': None}\n",
      "Setting up Pipeline: ColReader -- {'cols': 'highlights', 'pref': '', 'suff': '', 'label_delim': None}\n",
      "\n",
      "Building one sample\n",
      "  Pipeline: ColReader -- {'cols': 'article', 'pref': '', 'suff': '', 'label_delim': None}\n",
      "    starting from\n",
      "      article       (CNN) -- For most Americans, mosquitoes are pests whose bites leave behind itchy bumps. But in other parts of the world, mosquitoes carry a disease called malaria that kills more than a million people each year. Mosquitoes, especially those in Sub-Saharan Africa, may transmit malaria to humans. A new malaria vaccine that's about to begin human clinical trials is dependent on mosquitoes -- a whole lot of them. Bioengineers have been growing millions of mosquitoes in a sterile environment, letting them feed on malaria-infected blood, irradiating the bugs, extracting the disease-causing paras...\n",
      "highlights                                                                                                                                                                                                                                                                                                 Sanaria Inc. is developing a malaria vaccine that uses the whole parasite .\\nConcept is akin to live virus vaccines, such as those for polio and measles .\\nThe method had been tried in the 1970s but wasn't feasible on mass scale .\\nThe most advanced malaria vaccine, by GlaxoSmithKline, has been tested in Africa .\n",
      "ds_type                                                                                                                                                                                                                                                                                                                                                                                                                                                                                                                                                                                                                         train\n",
      "Name: 905, dtype: object\n",
      "    applying ColReader -- {'cols': 'article', 'pref': '', 'suff': '', 'label_delim': None} gives\n",
      "      (CNN) -- For most Americans, mosquitoes are pests whose bites leave behind itchy bumps. But in other parts of the world, mosquitoes carry a disease called malaria that kills more than a million people each year. Mosquitoes, especially those in Sub-Saharan Africa, may transmit malaria to humans. A new malaria vaccine that's about to begin human clinical trials is dependent on mosquitoes -- a whole lot of them. Bioengineers have been growing millions of mosquitoes in a sterile environment, letting them feed on malaria-infected blood, irradiating the bugs, extracting the disease-causing parasites and storing them for use in vaccines. The announcement of the Food and Drug Administration's approval for clinical trials comes just days before World Malaria Day, which is Saturday. Check out the World Health Organization's site about malaria goals worldwide . The vaccine is unique among other candidates in that it uses the entire parasite and not just parts of it, said Dr. Stephen Hoffman, chief executive and scientific officer at Sanaria Inc., the Maryland-based biotechnology firm developing the vaccine. This technique was first shown to be effective in the 1970s, but the technology didn't exist to mass-produce it for the millions of people who need it, said Dr.  Kirsten Lyke, principal investigator in the clinical trial site at the University of Maryland School of Medicine. At that time, people were immunized by being bitten by the irradiated mosquitoes. \"That is the only effective vaccine that anyone has ever really developed that works and does complete protection,\" said John Dame, chair of Infectious Diseases and Pathology at the University of Florida, who is not involved with the Sanaria trials. The vaccine takes the same basic approach as standard vaccines in use for diseases such as measles and polio. In those vaccines against viruses, weakened bacteria is injected, creating an immune response without causing illness. In the Sanaria vaccine, the body recognizes the malaria parasite as a foreign material, Lyke said. It goes to the liver, where a lot of the immune response is generated, but does not develop into a disease because the mosquito was irradiated, she said. Clinical trials will begin in May, Hoffman said, and will include 80 immunized individuals and 24 controls. About 3,000 mosquitoes were used to produce the vaccines for the first clinical trials, he said. If these trials are successful, researchers will initiate trials on adults in Africa, and then children. Among other vaccines in clinical trials currently, the one that is furthest along is RTS,S, developed by GlaxoSmithKline PLC. The company announced in December that this vaccine, based on a recombinant protein that uses part of the malaria parasite, was safely administered to African infants, with an efficacy of 65 percent in a three-month follow-up. Both the Sanaria and the GlaxoSmithKline projects receive support from the PATH Malaria Vaccine Initiative, a program at the nonprofit PATH established through an initial grant from the Bill & Melinda Gates Foundation. Dame, who used to be involved with the GlaxoSmithKline vaccine, said he would guess the Sanaria vaccine will be more effective, but clinical trials will provide more information. He also noted that mass distribution to developing countries would require appropriate infrastructure, and may be more difficult depending on how long the immunization lasts. Each year, 350 million to 500 million cases of malaria occur worldwide, according to the Centers for Disease Control and Prevention. Most people who die from the disease are young children in Africa south of the Sahara. Symptoms of malaria include fever, chills and flu-like illness, the CDC said. Although preventive measures exist, such as insecticide-treated nets and medications, there is no licensed vaccine on the market. Moreover, effective treatments are largely too expensive for the people who need them in poor countries. The parasite has become resistant to cheaper treatments, Lyke said. \"Individuals living on $1 or $2 a day can't even afford $8 medication,\" Lyke said. The U.S. military also has a keen interest in a malaria vaccine. The antimalaria drugs available have side effects such as stomach aches, said Dr. Tom Richie, director of the Navy component of the U.S. military malaria vaccine program, who provides oversight to the clinical trials. \"Malaria has been one of the most significant infectious threats to our military personnel when we deploy to tropical areas,\" Richie said. The disease was the leading cause of casualties in the South Pacific theater during World War II, and also a major problem in the Vietnam War, he said. There are five species of the malaria parasite known to infect humans. One called Plasmodium falciparum causes the vast majority of cases. Malaria was eliminated in the United States in 1951, but there are still cases in the country, mostly from people who acquired it in high-risk countries. In 2002, there were 1,337 cases of malaria in the U.S., and all but five had been acquired abroad. An international team at the Malaria Atlas Project recently published what researchers say is the most comprehensive map ever illustrating global malaria risk. Researchers told CNN the map offers hope that it is possible to eradicate the disease in many parts of the world. Hoffman, former head of a U.S. Navy malaria vaccine team, started the Sanaria effort himself in the breakfast room of his house in 2003. The company now has a more official corporate headquarters in Rockville, Maryland. \"I thought that the world needed a malaria vaccine, there was no question this was the best way to make one,\" he said.\n",
      "  Pipeline: ColReader -- {'cols': 'highlights', 'pref': '', 'suff': '', 'label_delim': None}\n",
      "    starting from\n",
      "      article       (CNN) -- For most Americans, mosquitoes are pests whose bites leave behind itchy bumps. But in other parts of the world, mosquitoes carry a disease called malaria that kills more than a million people each year. Mosquitoes, especially those in Sub-Saharan Africa, may transmit malaria to humans. A new malaria vaccine that's about to begin human clinical trials is dependent on mosquitoes -- a whole lot of them. Bioengineers have been growing millions of mosquitoes in a sterile environment, letting them feed on malaria-infected blood, irradiating the bugs, extracting the disease-causing paras...\n",
      "highlights                                                                                                                                                                                                                                                                                                 Sanaria Inc. is developing a malaria vaccine that uses the whole parasite .\\nConcept is akin to live virus vaccines, such as those for polio and measles .\\nThe method had been tried in the 1970s but wasn't feasible on mass scale .\\nThe most advanced malaria vaccine, by GlaxoSmithKline, has been tested in Africa .\n",
      "ds_type                                                                                                                                                                                                                                                                                                                                                                                                                                                                                                                                                                                                                         train\n",
      "Name: 905, dtype: object\n",
      "    applying ColReader -- {'cols': 'highlights', 'pref': '', 'suff': '', 'label_delim': None} gives\n",
      "      Sanaria Inc. is developing a malaria vaccine that uses the whole parasite .\n",
      "Concept is akin to live virus vaccines, such as those for polio and measles .\n",
      "The method had been tried in the 1970s but wasn't feasible on mass scale .\n",
      "The most advanced malaria vaccine, by GlaxoSmithKline, has been tested in Africa .\n",
      "\n",
      "Final sample: ('(CNN) -- For most Americans, mosquitoes are pests whose bites leave behind itchy bumps. But in other parts of the world, mosquitoes carry a disease called malaria that kills more than a million people each year. Mosquitoes, especially those in Sub-Saharan Africa, may transmit malaria to humans. A new malaria vaccine that\\'s about to begin human clinical trials is dependent on mosquitoes -- a whole lot of them. Bioengineers have been growing millions of mosquitoes in a sterile environment, letting them feed on malaria-infected blood, irradiating the bugs, extracting the disease-causing parasites and storing them for use in vaccines. The announcement of the Food and Drug Administration\\'s approval for clinical trials comes just days before World Malaria Day, which is Saturday. Check out the World Health Organization\\'s site about malaria goals worldwide . The vaccine is unique among other candidates in that it uses the entire parasite and not just parts of it, said Dr. Stephen Hoffman, chief executive and scientific officer at Sanaria Inc., the Maryland-based biotechnology firm developing the vaccine. This technique was first shown to be effective in the 1970s, but the technology didn\\'t exist to mass-produce it for the millions of people who need it, said Dr.  Kirsten Lyke, principal investigator in the clinical trial site at the University of Maryland School of Medicine. At that time, people were immunized by being bitten by the irradiated mosquitoes. \"That is the only effective vaccine that anyone has ever really developed that works and does complete protection,\" said John Dame, chair of Infectious Diseases and Pathology at the University of Florida, who is not involved with the Sanaria trials. The vaccine takes the same basic approach as standard vaccines in use for diseases such as measles and polio. In those vaccines against viruses, weakened bacteria is injected, creating an immune response without causing illness. In the Sanaria vaccine, the body recognizes the malaria parasite as a foreign material, Lyke said. It goes to the liver, where a lot of the immune response is generated, but does not develop into a disease because the mosquito was irradiated, she said. Clinical trials will begin in May, Hoffman said, and will include 80 immunized individuals and 24 controls. About 3,000 mosquitoes were used to produce the vaccines for the first clinical trials, he said. If these trials are successful, researchers will initiate trials on adults in Africa, and then children. Among other vaccines in clinical trials currently, the one that is furthest along is RTS,S, developed by GlaxoSmithKline PLC. The company announced in December that this vaccine, based on a recombinant protein that uses part of the malaria parasite, was safely administered to African infants, with an efficacy of 65 percent in a three-month follow-up. Both the Sanaria and the GlaxoSmithKline projects receive support from the PATH Malaria Vaccine Initiative, a program at the nonprofit PATH established through an initial grant from the Bill & Melinda Gates Foundation. Dame, who used to be involved with the GlaxoSmithKline vaccine, said he would guess the Sanaria vaccine will be more effective, but clinical trials will provide more information. He also noted that mass distribution to developing countries would require appropriate infrastructure, and may be more difficult depending on how long the immunization lasts. Each year, 350 million to 500 million cases of malaria occur worldwide, according to the Centers for Disease Control and Prevention. Most people who die from the disease are young children in Africa south of the Sahara. Symptoms of malaria include fever, chills and flu-like illness, the CDC said. Although preventive measures exist, such as insecticide-treated nets and medications, there is no licensed vaccine on the market. Moreover, effective treatments are largely too expensive for the people who need them in poor countries. The parasite has become resistant to cheaper treatments, Lyke said. \"Individuals living on $1 or $2 a day can\\'t even afford $8 medication,\" Lyke said. The U.S. military also has a keen interest in a malaria vaccine. The antimalaria drugs available have side effects such as stomach aches, said Dr. Tom Richie, director of the Navy component of the U.S. military malaria vaccine program, who provides oversight to the clinical trials. \"Malaria has been one of the most significant infectious threats to our military personnel when we deploy to tropical areas,\" Richie said. The disease was the leading cause of casualties in the South Pacific theater during World War II, and also a major problem in the Vietnam War, he said. There are five species of the malaria parasite known to infect humans. One called Plasmodium falciparum causes the vast majority of cases. Malaria was eliminated in the United States in 1951, but there are still cases in the country, mostly from people who acquired it in high-risk countries. In 2002, there were 1,337 cases of malaria in the U.S., and all but five had been acquired abroad. An international team at the Malaria Atlas Project recently published what researchers say is the most comprehensive map ever illustrating global malaria risk. Researchers told CNN the map offers hope that it is possible to eradicate the disease in many parts of the world. Hoffman, former head of a U.S. Navy malaria vaccine team, started the Sanaria effort himself in the breakfast room of his house in 2003. The company now has a more official corporate headquarters in Rockville, Maryland. \"I thought that the world needed a malaria vaccine, there was no question this was the best way to make one,\" he said.', \"Sanaria Inc. is developing a malaria vaccine that uses the whole parasite .\\nConcept is akin to live virus vaccines, such as those for polio and measles .\\nThe method had been tried in the 1970s but wasn't feasible on mass scale .\\nThe most advanced malaria vaccine, by GlaxoSmithKline, has been tested in Africa .\")\n",
      "\n",
      "\n",
      "Collecting items from                                                                                                                                                                                                                                                                                                                                                                                                                                                                                                                                                                                                                      article  \\\n",
      "0    (CNN)  -- Globalization washes like a flood over the world's cultures and economies. Floods can be destructive; however, they can also bring blessings, as the annual floods of the Nile did for ancient Egypt. The world's great universities can be crucial instruments in shaping, in a positive way, humankind's reaction to globalization and the development of humankind itself. Traditionally, universities have been defined and limited by location, creating an academic community and drawing students and scholars to that place. Eventually, some universities began to encourage students to study el...   \n",
      "1    (CNN) -- Armenian President Robert Kocharian declared a state of emergency Saturday night after a day of clashes between police and protesters, a spokeswoman for the Armenian Foreign Ministry said. Opposition supporters wave an Armenian flag during a protest rally in Yerevan, Armenia, on Saturday. The protesters claim last month's presidential election was rigged. The state of emergency will \"hopefully bring some order\" to the capital, Yerevan, said Salpi Ghazarian, assistant to the Armenian foreign minister, who spoke to CNN early Sunday. The state of emergency could last until March 20, ...   \n",
      "2    (Mental Floss) -- President Barack Obama turns 48 on Tuesday. While the first family encourages you to send contributions to your favorite charity in lieu of the White House, if you insist on doing some last-minute birthday shopping for 44, you might consider a pair of jeans or a case of Bud Light. For some historical precedent, here's a look back at some of the more interesting presidential gifts. Future president Barack Obama and his family blow out the candles on his birthday cake in 2004. George W. Bush: Raw lamb . President Bush and his family received about 1,000 gifts per month duri...   \n",
      "3    (CNN) -- Renee Pernice, a 35-year-old mother of two young children, vanished from her home in Kansas City, Missouri, shortly after New Year's this year. She hasn't been heard from since. Renee Pernice is pictured here with her two sons and husband, Shon. Police believe foul play is involved, yet they have not found her body. No one has been arrested in the case. Police have not named her husband, Shon Pernice, as a person of interest or a suspect in the case. However, \"he's the last known person to see her alive,\" said Doug Niemeier, a sergeant with the Kansas City Police Department. Six m...   \n",
      "4    Michelle Crumrine was out of town when a tornado tore through her neighborhood. She returned to Washington, Illinois, to find pieces of her life strewn about where her house once stood. \"A lot of people have a pile of rubble still,\" she said, \"and I don't have anything. ... It's gone. I don't know where it went.\" Nearby, rescuers with flashlights trudged through the neighborhood in the dark of night, searching for signs of life in the wreckage. As a severe weather system slammed the Midwest on Sunday, spawning dozens of tornadoes, flash floods and hail, this town of 10,000 people was among...   \n",
      "..                                                                                                                                                                                                                                                                                                                                                                                                                                                                                                                                                                                                                       ...   \n",
      "995  New Delhi (CNN) -- In New Delhi's upscale diplomatic district, Ram Dhan lives in a parallel world. For years, his home has been a rickety shanty that he shares with his ailing wife, a young son, a daughter-in-law and two grandchildren. Now 62, Dhan has lived through India's journey as an independent nation. He finds little reason to rejoice as the country celebrates Monday, the 64th anniversary of freedom from British rule. \"The poor have hardly benefited,\" he says. Sitting on a cot in his shack huddled in a squalid slum in one of the richest neighborhoods of the Indian capital, he bitterl...   \n",
      "996  (CNN) -- We've seen deaths, weddings, dramatic costume changes, surprise hookups and more deaths. And that's just in the past five years or so. The world of superhero comics has seen a lot of changes recently, with the demise -- and in some cases, resurrection - of Robin, Captain America, Peter Parker, Professor Charles Xavier and the Human Torch. Clark Kent walked out on his job and dated Wonder Woman. There have been revelations that multiple characters were gay, along with a same-sex wedding or two. (There also was a complete reboot in 2011 for DC Comics, which like CNN is owned by Time...   \n",
      "997  (CNN) -- Sarin gas has been used several times in the Syrian civil war, including at least once by the Assad regime, France's foreign minister said Tuesday, citing results from test samples in France's possession. Laurent Fabius announced that conclusion after meeting with the head of a United Nations mission set up to establish the facts about the alleged use of chemical weapons in Syria. \"I gave him the results of tests carried out by our lab appointed by the Organization for the Prohibition of Chemical Weapons to identify chemical warfare,\" Fabius said in a statement, referring to the S...   \n",
      "998  (CNN) -- When the 2,455th star on the Hollywood Walk of Fame is laid on Monday for actor Steve Guttenberg, Ana Martinez will once again be working behind the scenes as curator-in-chief to the iconic attraction. The Walk of Fame is one of showbiz's most visible landmarks,and Martinez has been its inconspicuous producer for almost half the attraction's 51 years, making sure the constellation of stars is perfectly aligned on the Hollywood sidewalks. For 24 years, she has been the person deciding where celebrities will receive their coveted symbol of fame in the heart of Tinseltown. When a sta...   \n",
      "999  President Barack Obama's announcement that he now supports same-sex marriage reflects a dramatic shift taking place across the country. Last year, for the first time, polls found a majority of Americans share that stance. Surveys show the country's position has undergone a rapid change over the past 15 years -- one not seen on other issues. On climate change, abortion and the death penalty, \"we're not seeing Americans necessarily becoming more liberal,\" said Frank Newport, editor in chief of Gallup. \"This one stands a little alone.\" Views of same-sex marriage around the world . In 1996, Ga...   \n",
      "\n",
      "                                                                                                                                                                                                                                                                                                                                highlights  \\\n",
      "0    John Sexton: Traditionally, universities have been defined and limited by location .\\nGlobal campuses form a network of thought, innovation, he writes .\\nFaculty can teach, Sexton says, students can team up in many cities at once .\\nSexton: Research, scholarship can be shared and cultural ties made in \"century of knowledge\"   \n",
      "1                                                                                            NEW: Protest moves after crackdown at Freedom Square .\\nOrder sought after protests over last month's election turn violent .\\nDemonstrators say the election was fraudulent .\\nState of emergency could last until March 20, official says .   \n",
      "2                                                                                                                             The president of Argentina gave George W. Bush 300 pounds of lamb meat .\\nJFK received a carved peach pit in his likeness .\\nA bowling alley was installed in the White House as a birthday gift to Truman .   \n",
      "3                    Renee Pernice disappeared from her home shortly after New Year's this year .\\nPolice believe foul play is involved, although they have not found a body .\\nPolice say her husband accessed a HazMat building shortly after she disappeared .\\nAttorneys for husband, Shon Pernice, declined comment for this report .   \n",
      "4                                                                           A third person died in Massac County, Illinois, bringing the state total death toll to 6 .\\nHigh winds knock out power to 390,000 in Michigan .\\n67 tornadoes were reported across the region .\\n\"I don't have anything. ... It's gone,\" a storm victim says .   \n",
      "..                                                                                                                                                                                                                                                                                                                                     ...   \n",
      "995                                                   India is marking its 64th anniversary of freedom from British rule .\\n\"The poor have hardly benefited,\" says one man .\\nPrime Minister Manmohan Singh admits much needs to be done for the \"common man\"\\nPolicymakers have agreed over the years that corruption is a major factor .   \n",
      "996                                                                                                  From the deaths of Robin and Peter Parker to major reboots, comics see a lot of change .\\nComics creators say that the most important element is a well-told story .\\nThree comic book experts share their views of this phenomenon .   \n",
      "997     NEW: Fabius says the Assad regime is culpable in at least one instance .\\nFrance is certain sarin gas was used in Syria \"several times,\" Fabius says .\\nThe announcement comes after a meeting with the head of a fact-finding mission .\\nHuman Rights Council report: \"Reasonable grounds\" to believe chemical agents were used .   \n",
      "998                                                                                                                            Ana Martinez is the curator-in-chief for the Hollywood Walk of Fame .\\nSo far Martinez has produced 586 star ceremonies .\\nOn Monday she will be at the helm for the unveiling of Steve Guttenberg's star .   \n",
      "999                                                                                                                  Gallup and CNN polls in 2011 found the majority of Americans supported same-sex marriage .\\nUsually such changes take place over longer blocks of time, a pollster says .\\nYoung adults are helping drive the shift .   \n",
      "\n",
      "    ds_type  \n",
      "0     train  \n",
      "1     train  \n",
      "2     train  \n",
      "3     train  \n",
      "4     train  \n",
      "..      ...  \n",
      "995   train  \n",
      "996   train  \n",
      "997   train  \n",
      "998   train  \n",
      "999   train  \n",
      "\n",
      "[1000 rows x 3 columns]\n",
      "Found 1000 items\n",
      "2 datasets of sizes 800,200\n",
      "Setting up Pipeline: ColReader -- {'cols': 'article', 'pref': '', 'suff': '', 'label_delim': None}\n",
      "Setting up Pipeline: ColReader -- {'cols': 'highlights', 'pref': '', 'suff': '', 'label_delim': None}\n",
      "Setting up after_item: Pipeline: ToTensor\n",
      "Setting up before_batch: Pipeline: HF_Seq2SeqBeforeBatchTransform\n",
      "Setting up after_batch: Pipeline: HF_Seq2SeqAfterBatchTransform\n"
     ]
    },
    {
     "name": "stdout",
     "output_type": "stream",
     "text": [
      "\n",
      "Building one batch\n",
      "Applying item_tfms to the first sample:\n",
      "  Pipeline: ToTensor\n",
      "    starting from\n",
      "      ((CNN) -- For most Americans, mosquitoes are pests whose bites leave behind itchy bumps. But in other parts of the world, mosquitoes carry a disease called malaria that kills more than a million people each year. Mosquitoes, especially those in Sub-Saharan Africa, may transmit malaria to humans. A new malaria vaccine that's about to begin human clinical trials is dependent on mosquitoes -- a whole lot of them. Bioengineers have been growing millions of mosquitoes in a sterile environment, letting them feed on malaria-infected blood, irradiating the bugs, extracting the disease-causing parasites and storing them for use in vaccines. The announcement of the Food and Drug Administration's approval for clinical trials comes just days before World Malaria Day, which is Saturday. Check out the World Health Organization's site about malaria goals worldwide . The vaccine is unique among other candidates in that it uses the entire parasite and not just parts of it, said Dr. Stephen Hoffman, chief executive and scientific officer at Sanaria Inc., the Maryland-based biotechnology firm developing the vaccine. This technique was first shown to be effective in the 1970s, but the technology didn't exist to mass-produce it for the millions of people who need it, said Dr.  Kirsten Lyke, principal investigator in the clinical trial site at the University of Maryland School of Medicine. At that time, people were immunized by being bitten by the irradiated mosquitoes. \"That is the only effective vaccine that anyone has ever really developed that works and does complete protection,\" said John Dame, chair of Infectious Diseases and Pathology at the University of Florida, who is not involved with the Sanaria trials. The vaccine takes the same basic approach as standard vaccines in use for diseases such as measles and polio. In those vaccines against viruses, weakened bacteria is injected, creating an immune response without causing illness. In the Sanaria vaccine, the body recognizes the malaria parasite as a foreign material, Lyke said. It goes to the liver, where a lot of the immune response is generated, but does not develop into a disease because the mosquito was irradiated, she said. Clinical trials will begin in May, Hoffman said, and will include 80 immunized individuals and 24 controls. About 3,000 mosquitoes were used to produce the vaccines for the first clinical trials, he said. If these trials are successful, researchers will initiate trials on adults in Africa, and then children. Among other vaccines in clinical trials currently, the one that is furthest along is RTS,S, developed by GlaxoSmithKline PLC. The company announced in December that this vaccine, based on a recombinant protein that uses part of the malaria parasite, was safely administered to African infants, with an efficacy of 65 percent in a three-month follow-up. Both the Sanaria and the GlaxoSmithKline projects receive support from the PATH Malaria Vaccine Initiative, a program at the nonprofit PATH established through an initial grant from the Bill & Melinda Gates Foundation. Dame, who used to be involved with the GlaxoSmithKline vaccine, said he would guess the Sanaria vaccine will be more effective, but clinical trials will provide more information. He also noted that mass distribution to developing countries would require appropriate infrastructure, and may be more difficult depending on how long the immunization lasts. Each year, 350 million to 500 million cases of malaria occur worldwide, according to the Centers for Disease Control and Prevention. Most people who die from the disease are young children in Africa south of the Sahara. Symptoms of malaria include fever, chills and flu-like illness, the CDC said. Although preventive measures exist, such as insecticide-treated nets and medications, there is no licensed vaccine on the market. Moreover, effective treatments are largely too expensive for the people who need them in poor countries. The parasite has become resistant to cheaper treatments, Lyke said. \"Individuals living on $1 or $2 a day can't even afford $8 medication,\" Lyke said. The U.S. military also has a keen interest in a malaria vaccine. The antimalaria drugs available have side effects such as stomach aches, said Dr. Tom Richie, director of the Navy component of the U.S. military malaria vaccine program, who provides oversight to the clinical trials. \"Malaria has been one of the most significant infectious threats to our military personnel when we deploy to tropical areas,\" Richie said. The disease was the leading cause of casualties in the South Pacific theater during World War II, and also a major problem in the Vietnam War, he said. There are five species of the malaria parasite known to infect humans. One called Plasmodium falciparum causes the vast majority of cases. Malaria was eliminated in the United States in 1951, but there are still cases in the country, mostly from people who acquired it in high-risk countries. In 2002, there were 1,337 cases of malaria in the U.S., and all but five had been acquired abroad. An international team at the Malaria Atlas Project recently published what researchers say is the most comprehensive map ever illustrating global malaria risk. Researchers told CNN the map offers hope that it is possible to eradicate the disease in many parts of the world. Hoffman, former head of a U.S. Navy malaria vaccine team, started the Sanaria effort himself in the breakfast room of his house in 2003. The company now has a more official corporate headquarters in Rockville, Maryland. \"I thought that the world needed a malaria vaccine, there was no question this was the best way to make one,\" he said., Sanaria Inc. is developing a malaria vaccine that uses the whole parasite .\n",
      "Concept is akin to live virus vaccines, such as those for polio and measles .\n",
      "The method had been tried in the 1970s but wasn't feasible on mass scale .\n",
      "The most advanced malaria vaccine, by GlaxoSmithKline, has been tested in Africa .)\n",
      "    applying ToTensor gives\n",
      "      ((CNN) -- For most Americans, mosquitoes are pests whose bites leave behind itchy bumps. But in other parts of the world, mosquitoes carry a disease called malaria that kills more than a million people each year. Mosquitoes, especially those in Sub-Saharan Africa, may transmit malaria to humans. A new malaria vaccine that's about to begin human clinical trials is dependent on mosquitoes -- a whole lot of them. Bioengineers have been growing millions of mosquitoes in a sterile environment, letting them feed on malaria-infected blood, irradiating the bugs, extracting the disease-causing parasites and storing them for use in vaccines. The announcement of the Food and Drug Administration's approval for clinical trials comes just days before World Malaria Day, which is Saturday. Check out the World Health Organization's site about malaria goals worldwide . The vaccine is unique among other candidates in that it uses the entire parasite and not just parts of it, said Dr. Stephen Hoffman, chief executive and scientific officer at Sanaria Inc., the Maryland-based biotechnology firm developing the vaccine. This technique was first shown to be effective in the 1970s, but the technology didn't exist to mass-produce it for the millions of people who need it, said Dr.  Kirsten Lyke, principal investigator in the clinical trial site at the University of Maryland School of Medicine. At that time, people were immunized by being bitten by the irradiated mosquitoes. \"That is the only effective vaccine that anyone has ever really developed that works and does complete protection,\" said John Dame, chair of Infectious Diseases and Pathology at the University of Florida, who is not involved with the Sanaria trials. The vaccine takes the same basic approach as standard vaccines in use for diseases such as measles and polio. In those vaccines against viruses, weakened bacteria is injected, creating an immune response without causing illness. In the Sanaria vaccine, the body recognizes the malaria parasite as a foreign material, Lyke said. It goes to the liver, where a lot of the immune response is generated, but does not develop into a disease because the mosquito was irradiated, she said. Clinical trials will begin in May, Hoffman said, and will include 80 immunized individuals and 24 controls. About 3,000 mosquitoes were used to produce the vaccines for the first clinical trials, he said. If these trials are successful, researchers will initiate trials on adults in Africa, and then children. Among other vaccines in clinical trials currently, the one that is furthest along is RTS,S, developed by GlaxoSmithKline PLC. The company announced in December that this vaccine, based on a recombinant protein that uses part of the malaria parasite, was safely administered to African infants, with an efficacy of 65 percent in a three-month follow-up. Both the Sanaria and the GlaxoSmithKline projects receive support from the PATH Malaria Vaccine Initiative, a program at the nonprofit PATH established through an initial grant from the Bill & Melinda Gates Foundation. Dame, who used to be involved with the GlaxoSmithKline vaccine, said he would guess the Sanaria vaccine will be more effective, but clinical trials will provide more information. He also noted that mass distribution to developing countries would require appropriate infrastructure, and may be more difficult depending on how long the immunization lasts. Each year, 350 million to 500 million cases of malaria occur worldwide, according to the Centers for Disease Control and Prevention. Most people who die from the disease are young children in Africa south of the Sahara. Symptoms of malaria include fever, chills and flu-like illness, the CDC said. Although preventive measures exist, such as insecticide-treated nets and medications, there is no licensed vaccine on the market. Moreover, effective treatments are largely too expensive for the people who need them in poor countries. The parasite has become resistant to cheaper treatments, Lyke said. \"Individuals living on $1 or $2 a day can't even afford $8 medication,\" Lyke said. The U.S. military also has a keen interest in a malaria vaccine. The antimalaria drugs available have side effects such as stomach aches, said Dr. Tom Richie, director of the Navy component of the U.S. military malaria vaccine program, who provides oversight to the clinical trials. \"Malaria has been one of the most significant infectious threats to our military personnel when we deploy to tropical areas,\" Richie said. The disease was the leading cause of casualties in the South Pacific theater during World War II, and also a major problem in the Vietnam War, he said. There are five species of the malaria parasite known to infect humans. One called Plasmodium falciparum causes the vast majority of cases. Malaria was eliminated in the United States in 1951, but there are still cases in the country, mostly from people who acquired it in high-risk countries. In 2002, there were 1,337 cases of malaria in the U.S., and all but five had been acquired abroad. An international team at the Malaria Atlas Project recently published what researchers say is the most comprehensive map ever illustrating global malaria risk. Researchers told CNN the map offers hope that it is possible to eradicate the disease in many parts of the world. Hoffman, former head of a U.S. Navy malaria vaccine team, started the Sanaria effort himself in the breakfast room of his house in 2003. The company now has a more official corporate headquarters in Rockville, Maryland. \"I thought that the world needed a malaria vaccine, there was no question this was the best way to make one,\" he said., Sanaria Inc. is developing a malaria vaccine that uses the whole parasite .\n",
      "Concept is akin to live virus vaccines, such as those for polio and measles .\n",
      "The method had been tried in the 1970s but wasn't feasible on mass scale .\n",
      "The most advanced malaria vaccine, by GlaxoSmithKline, has been tested in Africa .)\n",
      "\n",
      "Adding the next 3 samples\n",
      "\n",
      "Applying before_batch to the list of samples\n",
      "  Pipeline: HF_Seq2SeqBeforeBatchTransform\n",
      "    starting from\n",
      "      [((CNN) -- For most Americans, mosquitoes are pests whose bites leave behind itchy bumps. But in other parts of the world, mosquitoes carry a disease called malaria that kills more than a million people each year. Mosquitoes, especially those in Sub-Saharan Africa, may transmit malaria to humans. A new malaria vaccine that's about to begin human clinical trials is dependent on mosquitoes -- a whole lot of them. Bioengineers have been growing millions of mosquitoes in a sterile environment, letting them feed on malaria-infected blood, irradiating the bugs, extracting the disease-causing parasites and storing them for use in vaccines. The announcement of the Food and Drug Administration's approval for clinical trials comes just days before World Malaria Day, which is Saturday. Check out the World Health Organization's site about malaria goals worldwide . The vaccine is unique among other candidates in that it uses the entire parasite and not just parts of it, said Dr. Stephen Hoffman, chief executive and scientific officer at Sanaria Inc., the Maryland-based biotechnology firm developing the vaccine. This technique was first shown to be effective in the 1970s, but the technology didn't exist to mass-produce it for the millions of people who need it, said Dr.  Kirsten Lyke, principal investigator in the clinical trial site at the University of Maryland School of Medicine. At that time, people were immunized by being bitten by the irradiated mosquitoes. \"That is the only effective vaccine that anyone has ever really developed that works and does complete protection,\" said John Dame, chair of Infectious Diseases and Pathology at the University of Florida, who is not involved with the Sanaria trials. The vaccine takes the same basic approach as standard vaccines in use for diseases such as measles and polio. In those vaccines against viruses, weakened bacteria is injected, creating an immune response without causing illness. In the Sanaria vaccine, the body recognizes the malaria parasite as a foreign material, Lyke said. It goes to the liver, where a lot of the immune response is generated, but does not develop into a disease because the mosquito was irradiated, she said. Clinical trials will begin in May, Hoffman said, and will include 80 immunized individuals and 24 controls. About 3,000 mosquitoes were used to produce the vaccines for the first clinical trials, he said. If these trials are successful, researchers will initiate trials on adults in Africa, and then children. Among other vaccines in clinical trials currently, the one that is furthest along is RTS,S, developed by GlaxoSmithKline PLC. The company announced in December that this vaccine, based on a recombinant protein that uses part of the malaria parasite, was safely administered to African infants, with an efficacy of 65 percent in a three-month follow-up. Both the Sanaria and the GlaxoSmithKline projects receive support from the PATH Malaria Vaccine Initiative, a program at the nonprofit PATH established through an initial grant from the Bill & Melinda Gates Foundation. Dame, who used to be involved with the GlaxoSmithKline vaccine, said he would guess the Sanaria vaccine will be more effective, but clinical trials will provide more information. He also noted that mass distribution to developing countries would require appropriate infrastructure, and may be more difficult depending on how long the immunization lasts. Each year, 350 million to 500 million cases of malaria occur worldwide, according to the Centers for Disease Control and Prevention. Most people who die from the disease are young children in Africa south of the Sahara. Symptoms of malaria include fever, chills and flu-like illness, the CDC said. Although preventive measures exist, such as insecticide-treated nets and medications, there is no licensed vaccine on the market. Moreover, effective treatments are largely too expensive for the people who need them in poor countries. The parasite has become resistant to cheaper treatments, Lyke said. \"Individuals living on $1 or $2 a day can't even afford $8 medication,\" Lyke said. The U.S. military also has a keen interest in a malaria vaccine. The antimalaria drugs available have side effects such as stomach aches, said Dr. Tom Richie, director of the Navy component of the U.S. military malaria vaccine program, who provides oversight to the clinical trials. \"Malaria has been one of the most significant infectious threats to our military personnel when we deploy to tropical areas,\" Richie said. The disease was the leading cause of casualties in the South Pacific theater during World War II, and also a major problem in the Vietnam War, he said. There are five species of the malaria parasite known to infect humans. One called Plasmodium falciparum causes the vast majority of cases. Malaria was eliminated in the United States in 1951, but there are still cases in the country, mostly from people who acquired it in high-risk countries. In 2002, there were 1,337 cases of malaria in the U.S., and all but five had been acquired abroad. An international team at the Malaria Atlas Project recently published what researchers say is the most comprehensive map ever illustrating global malaria risk. Researchers told CNN the map offers hope that it is possible to eradicate the disease in many parts of the world. Hoffman, former head of a U.S. Navy malaria vaccine team, started the Sanaria effort himself in the breakfast room of his house in 2003. The company now has a more official corporate headquarters in Rockville, Maryland. \"I thought that the world needed a malaria vaccine, there was no question this was the best way to make one,\" he said., Sanaria Inc. is developing a malaria vaccine that uses the whole parasite .\n",
      "Concept is akin to live virus vaccines, such as those for polio and measles .\n",
      "The method had been tried in the 1970s but wasn't feasible on mass scale .\n",
      "The most advanced malaria vaccine, by GlaxoSmithKline, has been tested in Africa .), (Three brothers have confessed to involvement in the gang rape of two teenage girls in India, a police officer told CNN. The men have pleaded guilty to the rape charges but have not admitted to killing the girls, local police spokesman Mukesh Saxena said Sunday. All five known suspects, including two police officers, have been arrested, he said. The police complaint also names two unknown people in the case. Investigations are trying to determine their identity, Saxena said. The assault on the cousins, ages 14 and 16, sparked outrage in the community in Uttar Pradesh state. After being gang raped, they were hanged from a mango tree, police said. The initial post-mortem report suggests that the two girls were alive when they were hanged, Saxena told CNN on Wednesday. \"The (autopsy) report is the basis of our investigation. The cause of the death is also being verified further through various other forensic and scientific methods,\" he said. Villagers streamed into the homes of the girls' relatives, weeping behind their customary veils. The mother of one of the girls said her daughter wanted to become a doctor to escape grinding poverty. The attackers, she said, deserved the same fate that befell her daughter. \"Hang them in public,\" she said. CNN cannot identify the relatives or victims under Indian law. In the northern village where the attack occurred, crowds surrounded the girls for hours after their bodies were found on May 28. They accused authorities of siding with the suspects and blocked them from taking the girls down from their nooses unless arrests were made. In addition to possible rape and murder charges, the officers face charges of conspiracy in the crime and negligence of duty after villagers accused them of failing to respond when they first pinpointed the suspects. An autopsy confirmed that the girls had been raped and strangled, according to authorities. They were cremated the same day the bodies were found, in line with Hindu customs, Saxena said. \"We are scared,\" said Renu Devi, a woman in the village where the attack occurred. \"If this could happen to them, it could happen to us also.\" Police under scrutiny . Devi has reason to fear. The girls were in an orchard relieving themselves the night of May 27 when the attackers grabbed them, authorities said. Toilets are rare in the village, forcing women to wander away into fields in the dead of night. \"There's no toilet. Where can the girls go?\" shouted Jamuni Devi, another woman from the village. \"No one has done anything for sanitation.\" Indians have more access to mobile phones than to toilets, according to a United Nations report four years ago. \"India has some 545 million cell phones, enough to serve about 45% of the population,\" according to the U.N. But it also has the highest number of people in the world -- an estimated 620 million -- who defecate in the open, according to UNICEF. The lack of indoor plumbing leaves women in rural areas vulnerable to frequent rapes and beatings. \"It is a tragic irony to think that in India, a country now wealthy enough that roughly half of the people own phones, about half cannot afford the basic necessity and dignity of a toilet,\" said Zafar Adeel, chairman of the organization U.N.-Water. Unable to stop abduction . Some people saw the abduction but were unable to stop it, police spokesman Saxena said, citing witnesses. His account echoed that of the father of the older victim, who alleged that a scuffle broke out between a relative and the three brothers suspected of the attack. \"They scared my cousin away with a locally made pistol,\" he said. The daughter he lost was his only child. The victims' relatives accused local police of failing to respond and siding with the suspects when the parents reported the case. The allegations have fueled anger among the villagers. \"If police wanted, my daughter would have been alive today,\" he said. 'Endemic' violence . This Uttar Pradesh rape is the latest of several that have drawn the world's attention to India in recent years. The horrific gang rape and murder of a 23-year-old woman in New Delhi in late 2012 shook India, sparking campaigns against violent crimes against women in the country, the world's second most populous, after China. The case prompted protests in many cities, soul-searching in the media and changes to law. But shocking instances of sexual violence continue to come to light. \"Laws can only do so much when you have to end something which is as endemic and as entrenched as violence against women,\" said Divya Iyer, a senior researcher for Amnesty International in Bangalore, India. The country's new Prime Minister, Narendra Modi, has said he wants to take steps to ensure that women are safe, particularly in rural India. But women's rights groups have criticized what they say is a lack of specific proposals to tackle the problem, suggesting that gender inequality doesn't appear to be high on his list of priorities. READ MORE: Grief, fear, blame over rapes in Indian village . READ MORE: Relatives call for attackers to be hanged ., The shocking attack on the cousins, ages 14 and 16, sparks outrage worldwide .\n",
      "Two police officers and three brothers have been arrested .\n",
      "A total of five men are in custody so far .\n",
      "\"We are scared,\" says Renu Devi, a woman in the village where the attack occurred .), ((CNN) -- Two dozen lions rescued from harrowing conditions at circuses in Bolivia have a new home in Colorado, where they will live outside of cages and roar at the distant Rocky Mountains. Animal Defenders International (ADI) brought them last week to Denver, where they were transported to the Wild Animal Sanctuary, to conclude its \"Operation Lion Ark.\" The flight followed the passage of a 2009 law in Bolivia that bans the use of any animals in circuses. The 25 felines are currently housed in a 15,000-square-foot temporary biosphere, complete with grass, trees and other natural features, at the sanctuary in Keenesburg, about 30 miles northeast of Denver. They're sleeping better, are getting exercise and have begun to roar in unison, \"which demonstrates they are beginning to bond as we expected,\" said Pat Craig, executive director of the sanctuary. The ADI campaign and airlift got a big financial boost from TV game show host Bob Barker. Barker and actress Jorja Fox of \"CSI\" described the campaign Wednesday night on HLN's \"Jane Velez-Mitchell. \"It is a true testament to the Bolivian people what they were able to accomplish quickly,\" Fox said of the law and the rescue of the lions, which were part of eight circuses. Of the 25 lions, 24 were seized from circuses, many the traveling variety. Eight were living in a cage pulled by a truck, Fox said, and at least two had never seen other lions. The sanctuary is building a permanent 80-acre fenced site for the lions, which will live in four prides, Craig told CNN. They'll get along just fine with the climate in Colorado, he said, because they are exposed to the cold in North Africa. Living in Bolivia put them in a much warmer climate that will require acclimation until they are released into the permanent living area in late March or April. \"It was a surprise to me to know that lions are genetically wired for winter,\" said Fox. The 320-acre sanctuary of rolling grasslands, split into habitats, houses more than 275 large carnivores, including bears, tigers and other big cats. The Wild Animal Sanctuary emphasizes its mission is to serve as a sanctuary, not for entertainment. \"It's a home for animals, not a zoo for people,\" Craig said. Animal rights activists and groups are optimistic that Bolivia's 2009 action will lead other countries to ban animals in circuses and change conditions in zoos. \"I'm against zoos. I consider them prisons for animals,\" Barker told HLN. The sanctuary uses proceeds from its annual 50,000 visitors to cover the costs of their visit, Craig said. \"We hope they become long-term contributors.\" About 80 percent of the carnivores at the facility, which costs about $2.5 million a year to operate, were in the United States when they were seized from deplorable or illegal situations, he added. Most of the lions will have a lifespan of about 21 to 23 years, double their expected longevity in the wild. That's largely because they have no predators or competition from within their population. Lionesses receive estrogen implants so that they won't go into heat. That reduces the competition and fighting among males. Craig praised Bolivia for taking action. \"This is the first country that stepped up,\" he said. He expects Peru, Ecuador and other countries to take steps that eliminate or limit the use of animals in circuses and other entertainment venues. Cities and states in the United States are taking a hard look at the treatment of elephants and carnivores, according to Craig. The 25 lions are adjusting well, appear calm and enjoy stretching their legs while running and playing. \"Like many rescued animals that come from extreme captive situations, they are quickly accepting all of the positive changes that are happening,\" Craig told CNN. \"There is nowhere to go but up when you have lived at the bottom, so they are open to grasping every opportunity to enjoy life that we present. This will continue all the way until they are roaming freely in large acreage habitats, when they can complete their journey.\" CNN's Phil Gast contributed to this report ., Twenty-five lions have new home at Colorado sanctuary .\n",
      "They were brought from Bolivia, where they were in traveling circuses .\n",
      "South American country banned use of animals in circuses .\n",
      "Bob Barker helped fund the effort to move them .), ((CNN) -- Forget the extreme environmental campaigns involving chaining oneself to an oil refinery or egging local politicians. The next big thing of environmental campaigning? Aesthetics. A group of 20 artists decided to step away from slogans and campaigns and unveiled a sculpture exhibition designed to make suggestions, rather than demands. Called \"Pertaining to Things Natural\" the show at London's Chelsea Physic Garden puts together art pieces that respond to the environment and the current ecological debates. Cathy Ward and Eric Wright are among the artists involved in the show. Their sculpture \"Skyfield\" addresses the issue of sustainability. \"As populations expand, pressure increases to produce more food on the limited and shrinking land that is available for cultivation,\" Ward explains. \"Scientific advances in the genetics of plants as well as increased knowledge on the effects of diet on health are opening new and vital debates on our future,\" she says. Her bright pink, double deck structure might not convey that message straight away, but a closer look shows that the sculpture could be used as a corn grower, suggesting a solution to the lack of cultivated land. James P. Graham's \"Golden Cage\" is one of those more metaphoric pieces. The cage-like structure of volcanic rocks wrapped in gold wire symbolizes man's \"attempts to imprison and control nature,\" a much discussed theme within the environmental debate. The connection between art and environment is not a new one. From the pioneer Friedensreich Hundertwasser, who designed underground highways lined by trees and rooftop gardens, to sculptures made of recycled materials, creative souls have long tried to send out the environmental message. But this latest addition to the dialog between art and environment carries more subtle message. Sculptor Michael Shaw installed large inflatable balloons on trees. \"There is no 'Greenpeace message' in the piece,\" he says. \"But it relates to environment, it is responsive to it. Where the sculpture is depends on the wind.\" The curator of the show, David Worthington, says this is the way art can add to the environmental debate -- even without straightforward messages. \"We can affect people's consciousness about environment on intellectual level, through campaigns and information,\" he says and points out environmental groups around the world. \"But we can also do it on emotional level through art and creativity,\" he says. \"The emotional level is more powerful.\", Sculpture show aims to make people engage with nature .\n",
      "Curator David Worthington says art is capable of changing people's habits .\n",
      "Artists communicate through emotions, rather than by placing demands, he says .)]\n",
      "    applying HF_Seq2SeqBeforeBatchTransform gives\n",
      "      [({'input_ids': tensor([    0,    36, 16256,  ...,    57,  3566,     2]), 'attention_mask': tensor([1, 1, 1,  ..., 1, 1, 1]), 'labels': tensor([    0,   764,  8954,   603,     4,    16,  2623,    10, 23305,  9937,\n",
      "           14,  2939,     5,  1086, 37004,   479, 50118,  9157, 16771,    16,\n",
      "        21468,     7,   697,  6793, 16968,     6,   215,    25,   167,    13,\n",
      "        30801,     8, 26143,   479, 50118,   133,  5448,    56,    57,  1381,\n",
      "           11,     5,  6200,    29,    53,   938,    75, 21798,    15,  2862,\n",
      "         3189,   479, 50118,   133,   144,  3319, 23305,  9937,     6,    30,\n",
      "         4573,  3631,   139, 14124,   530,  1902,     6,    34,    57,  4776,\n",
      "           11,  1327,   479,     2])}, Tensor of size 74), ({'input_ids': tensor([   0, 2873, 5396,  ..., 2490,    6,    2]), 'attention_mask': tensor([1, 1, 1,  ..., 1, 1, 1]), 'labels': tensor([    0,    20,  8777,   908,    15,     5, 20005,     6,  4864,   501,\n",
      "            8,   545,     6, 30555, 10618,  3612,   479, 50118,  9058,   249,\n",
      "         1024,     8,   130,  5396,    33,    57,  1128,   479, 50118,   250,\n",
      "          746,     9,   292,   604,    32,    11,  3469,    98,   444,   479,\n",
      "        50118,   113,   170,    32,  8265,    60,   161,  6340,   257, 35120,\n",
      "            6,    10,   693,    11,     5,  3375,   147,     5,   908,  2756,\n",
      "          479,     2,     1,     1,     1,     1,     1,     1,     1,     1,\n",
      "            1,     1,     1,     1])}, Tensor of size 74), ({'input_ids': tensor([    0,    36, 16256,  ...,     1,     1,     1]), 'attention_mask': tensor([1, 1, 1,  ..., 0, 0, 0]), 'labels': tensor([    0, 10692,    12,  9579, 25711,    33,    92,   184,    23,  3004,\n",
      "        13488,   479, 50118,  1213,    58,  1146,    31, 29819,     6,   147,\n",
      "           51,    58,    11,  5796, 27884,  9764,   479, 50118, 10050,   470,\n",
      "          247,  4968,   304,     9,  3122,    11, 27884,  9764,   479, 50118,\n",
      "        25158, 21998,  1147,  1391,     5,  1351,     7,   517,   106,   479,\n",
      "            2,     1,     1,     1,     1,     1,     1,     1,     1,     1,\n",
      "            1,     1,     1,     1,     1,     1,     1,     1,     1,     1,\n",
      "            1,     1,     1,     1])}, Tensor of size 74), ({'input_ids': tensor([    0,    36, 16256,  ...,     1,     1,     1]), 'attention_mask': tensor([1, 1, 1,  ..., 0, 0, 0]), 'labels': tensor([    0,  2741, 35884,  2407,   311,  5026,     7,   146,    82,  4949,\n",
      "           19,  2574,   479, 50118, 42090,  2630,   871, 12130, 13247,  1054,\n",
      "          161,  1808,    16,  4453,     9,  2992,    82,    18, 10095,   479,\n",
      "        50118, 23295,  1952,  8469,   149,  8597,     6,  1195,    87,    30,\n",
      "         9405,  4501,     6,    37,   161,   479,     2,     1,     1,     1,\n",
      "            1,     1,     1,     1,     1,     1,     1,     1,     1,     1,\n",
      "            1,     1,     1,     1,     1,     1,     1,     1,     1,     1,\n",
      "            1,     1,     1,     1])}, Tensor of size 74)]\n",
      "\n",
      "Collating items in a batch\n",
      "\n",
      "Applying batch_tfms to the batch built\n",
      "  Pipeline: HF_Seq2SeqAfterBatchTransform\n",
      "    starting from\n",
      "      ({'input_ids': tensor([[    0,    36, 16256,  ...,    57,  3566,     2],\n",
      "        [    0,  2873,  5396,  ...,  2490,     6,     2],\n",
      "        [    0,    36, 16256,  ...,     1,     1,     1],\n",
      "        [    0,    36, 16256,  ...,     1,     1,     1]], device='cuda:1'), 'attention_mask': tensor([[1, 1, 1,  ..., 1, 1, 1],\n",
      "        [1, 1, 1,  ..., 1, 1, 1],\n",
      "        [1, 1, 1,  ..., 0, 0, 0],\n",
      "        [1, 1, 1,  ..., 0, 0, 0]], device='cuda:1'), 'labels': tensor([[    0,   764,  8954,   603,     4,    16,  2623,    10, 23305,  9937,\n",
      "            14,  2939,     5,  1086, 37004,   479, 50118,  9157, 16771,    16,\n",
      "         21468,     7,   697,  6793, 16968,     6,   215,    25,   167,    13,\n",
      "         30801,     8, 26143,   479, 50118,   133,  5448,    56,    57,  1381,\n",
      "            11,     5,  6200,    29,    53,   938,    75, 21798,    15,  2862,\n",
      "          3189,   479, 50118,   133,   144,  3319, 23305,  9937,     6,    30,\n",
      "          4573,  3631,   139, 14124,   530,  1902,     6,    34,    57,  4776,\n",
      "            11,  1327,   479,     2],\n",
      "        [    0,    20,  8777,   908,    15,     5, 20005,     6,  4864,   501,\n",
      "             8,   545,     6, 30555, 10618,  3612,   479, 50118,  9058,   249,\n",
      "          1024,     8,   130,  5396,    33,    57,  1128,   479, 50118,   250,\n",
      "           746,     9,   292,   604,    32,    11,  3469,    98,   444,   479,\n",
      "         50118,   113,   170,    32,  8265,    60,   161,  6340,   257, 35120,\n",
      "             6,    10,   693,    11,     5,  3375,   147,     5,   908,  2756,\n",
      "           479,     2,     1,     1,     1,     1,     1,     1,     1,     1,\n",
      "             1,     1,     1,     1],\n",
      "        [    0, 10692,    12,  9579, 25711,    33,    92,   184,    23,  3004,\n",
      "         13488,   479, 50118,  1213,    58,  1146,    31, 29819,     6,   147,\n",
      "            51,    58,    11,  5796, 27884,  9764,   479, 50118, 10050,   470,\n",
      "           247,  4968,   304,     9,  3122,    11, 27884,  9764,   479, 50118,\n",
      "         25158, 21998,  1147,  1391,     5,  1351,     7,   517,   106,   479,\n",
      "             2,     1,     1,     1,     1,     1,     1,     1,     1,     1,\n",
      "             1,     1,     1,     1,     1,     1,     1,     1,     1,     1,\n",
      "             1,     1,     1,     1],\n",
      "        [    0,  2741, 35884,  2407,   311,  5026,     7,   146,    82,  4949,\n",
      "            19,  2574,   479, 50118, 42090,  2630,   871, 12130, 13247,  1054,\n",
      "           161,  1808,    16,  4453,     9,  2992,    82,    18, 10095,   479,\n",
      "         50118, 23295,  1952,  8469,   149,  8597,     6,  1195,    87,    30,\n",
      "          9405,  4501,     6,    37,   161,   479,     2,     1,     1,     1,\n",
      "             1,     1,     1,     1,     1,     1,     1,     1,     1,     1,\n",
      "             1,     1,     1,     1,     1,     1,     1,     1,     1,     1,\n",
      "             1,     1,     1,     1]], device='cuda:1')}, Tensor of size 4x74)\n",
      "    applying HF_Seq2SeqAfterBatchTransform gives\n",
      "      ({'input_ids': tensor([[    0,    36, 16256,  ...,    57,  3566,     2],\n",
      "        [    0,  2873,  5396,  ...,  2490,     6,     2],\n",
      "        [    0,    36, 16256,  ...,     1,     1,     1],\n",
      "        [    0,    36, 16256,  ...,     1,     1,     1]], device='cuda:1'), 'attention_mask': tensor([[1, 1, 1,  ..., 1, 1, 1],\n",
      "        [1, 1, 1,  ..., 1, 1, 1],\n",
      "        [1, 1, 1,  ..., 0, 0, 0],\n",
      "        [1, 1, 1,  ..., 0, 0, 0]], device='cuda:1'), 'labels': tensor([[    0,   764,  8954,   603,     4,    16,  2623,    10, 23305,  9937,\n",
      "            14,  2939,     5,  1086, 37004,   479, 50118,  9157, 16771,    16,\n",
      "         21468,     7,   697,  6793, 16968,     6,   215,    25,   167,    13,\n",
      "         30801,     8, 26143,   479, 50118,   133,  5448,    56,    57,  1381,\n",
      "            11,     5,  6200,    29,    53,   938,    75, 21798,    15,  2862,\n",
      "          3189,   479, 50118,   133,   144,  3319, 23305,  9937,     6,    30,\n",
      "          4573,  3631,   139, 14124,   530,  1902,     6,    34,    57,  4776,\n",
      "            11,  1327,   479,     2],\n",
      "        [    0,    20,  8777,   908,    15,     5, 20005,     6,  4864,   501,\n",
      "             8,   545,     6, 30555, 10618,  3612,   479, 50118,  9058,   249,\n",
      "          1024,     8,   130,  5396,    33,    57,  1128,   479, 50118,   250,\n",
      "           746,     9,   292,   604,    32,    11,  3469,    98,   444,   479,\n",
      "         50118,   113,   170,    32,  8265,    60,   161,  6340,   257, 35120,\n",
      "             6,    10,   693,    11,     5,  3375,   147,     5,   908,  2756,\n",
      "           479,     2,     1,     1,     1,     1,     1,     1,     1,     1,\n",
      "             1,     1,     1,     1],\n",
      "        [    0, 10692,    12,  9579, 25711,    33,    92,   184,    23,  3004,\n",
      "         13488,   479, 50118,  1213,    58,  1146,    31, 29819,     6,   147,\n",
      "            51,    58,    11,  5796, 27884,  9764,   479, 50118, 10050,   470,\n",
      "           247,  4968,   304,     9,  3122,    11, 27884,  9764,   479, 50118,\n",
      "         25158, 21998,  1147,  1391,     5,  1351,     7,   517,   106,   479,\n",
      "             2,     1,     1,     1,     1,     1,     1,     1,     1,     1,\n",
      "             1,     1,     1,     1,     1,     1,     1,     1,     1,     1,\n",
      "             1,     1,     1,     1],\n",
      "        [    0,  2741, 35884,  2407,   311,  5026,     7,   146,    82,  4949,\n",
      "            19,  2574,   479, 50118, 42090,  2630,   871, 12130, 13247,  1054,\n",
      "           161,  1808,    16,  4453,     9,  2992,    82,    18, 10095,   479,\n",
      "         50118, 23295,  1952,  8469,   149,  8597,     6,  1195,    87,    30,\n",
      "          9405,  4501,     6,    37,   161,   479,     2,     1,     1,     1,\n",
      "             1,     1,     1,     1,     1,     1,     1,     1,     1,     1,\n",
      "             1,     1,     1,     1,     1,     1,     1,     1,     1,     1,\n",
      "             1,     1,     1,     1]], device='cuda:1')}, Tensor of size 4x74)\n"
     ]
    }
   ],
   "source": [
    "# dblock.summary(cnndm_df)"
   ]
  },
  {
   "cell_type": "code",
   "execution_count": null,
   "metadata": {},
   "outputs": [],
   "source": [
    "dls = dblock.dataloaders(cnndm_df, bs=4)"
   ]
  },
  {
   "cell_type": "code",
   "execution_count": null,
   "metadata": {},
   "outputs": [],
   "source": [
    "b = dls.one_batch()"
   ]
  },
  {
   "cell_type": "code",
   "execution_count": null,
   "metadata": {},
   "outputs": [
    {
     "data": {
      "text/plain": [
       "(2, torch.Size([4, 1024]), torch.Size([4, 69]), torch.Size([4, 69]))"
      ]
     },
     "execution_count": null,
     "metadata": {},
     "output_type": "execute_result"
    }
   ],
   "source": [
    "len(b), b[0]['input_ids'].shape, b[0]['labels'].shape, b[1].shape"
   ]
  },
  {
   "cell_type": "code",
   "execution_count": null,
   "metadata": {},
   "outputs": [
    {
     "data": {
      "text/html": [
       "<table border=\"1\" class=\"dataframe\">\n",
       "  <thead>\n",
       "    <tr style=\"text-align: right;\">\n",
       "      <th></th>\n",
       "      <th>text</th>\n",
       "      <th>target</th>\n",
       "    </tr>\n",
       "  </thead>\n",
       "  <tbody>\n",
       "    <tr>\n",
       "      <th>0</th>\n",
       "      <td>(CNN) -- Home to up to 10 percent of all known species, Mexico is recognized as one of the most biodiverse regions on the planet. The twin threats of climate change and human encroachment on natural environments are, however, threatening the existence of the country's rich wildlife. And there is a great deal to lose. In the United Nations Environment Program (UNEP) World Conservation Monitoring Centre's list of megadiverse countries Mexico ranks 11th. The list represents a group of 17 countries that harbor the majority of the Earth's species and are therefore considered extremely biodiverse. From its coral reefs in the Caribbean Sea to its tropical jungles in Chiapas and the Yucatan peninsula and its deserts and prairies in the north, Mexico boasts an incredibly rich variety of flora and fauna. Some 574 out of 717 reptile species found in Mexico -- the most in any country -- can only be encountered within its borders. It is home to 502 types of mammals, 290 species of birds, 1,150 var</td>\n",
       "      <td>Mexico hosts to up to 10 percent of all known species on Earth.\\nIt is home to 502 types of mammals, 290 bird species and 26,000 types of plants.\\nHuman development and climate change is placing a big strain on its biodiversity.\\nThe Golden Eagle is un</td>\n",
       "    </tr>\n",
       "    <tr>\n",
       "      <th>1</th>\n",
       "      <td>Some U.S. officials this year are expected to get smartphones capable of handling classified government documents over cellular networks, according to people involved in the project. The phones will run a modified version of Google's Android software, which is being developed as part of an initiative that spans multiple federal agencies and government contractors, these people said. The smartphones are first being deployed to U.S. soldiers, people familiar with the project said. Later, federal agencies are expected to get phones for sending and receiving government cables while away from their offices, sources said. Eventually, local governments and corporations could give workers phones with similar software. The Army has been testing touchscreen devices at U.S. bases for nearly two years, said Michael McCarthy, a director for the Army's Brigade Modernization Command, in a phone interview. About 40 phones were sent to fighters overseas a year ago, and the Army plans to ship 50 more p</td>\n",
       "      <td>Government, military officials to get Android phones capable of sharing secret documents.\\nThe phones will run a modified version of Google's Android software, sources say.\\nContractor: Google \"more cooperative\" than Apple working with government on p</td>\n",
       "    </tr>\n",
       "  </tbody>\n",
       "</table>"
      ],
      "text/plain": [
       "<IPython.core.display.HTML object>"
      ]
     },
     "metadata": {},
     "output_type": "display_data"
    }
   ],
   "source": [
    "dls.show_batch(dataloaders=dls, max_n=2, input_trunc_at=1000, target_trunc_at=250)"
   ]
  },
  {
   "cell_type": "markdown",
   "metadata": {},
   "source": [
    "## Tests\n",
    "\n",
    "The purpose of the following tests is to ensure as much as possible, that the core DataBlock code above works for the pretrained **summarization models** below.  These tests are excluded from the CI workflow because of how long they would take to run and the amount of data that would be required to download.\n",
    "\n",
    "**Note**: Feel free to modify the code below to test whatever pretrained summarization models you are working with ... and if any of your pretrained summarization models fail, please submit a github issue *(or a PR if you'd like to fix it yourself)*"
   ]
  },
  {
   "cell_type": "code",
   "execution_count": null,
   "metadata": {},
   "outputs": [
    {
     "data": {
      "text/plain": [
       "[transformers.models.bart.modeling_bart.BartForConditionalGeneration,\n",
       " transformers.models.blenderbot.modeling_blenderbot.BlenderbotForConditionalGeneration,\n",
       " transformers.models.blenderbot_small.modeling_blenderbot_small.BlenderbotSmallForConditionalGeneration,\n",
       " transformers.models.fsmt.modeling_fsmt.FSMTForConditionalGeneration,\n",
       " transformers.models.led.modeling_led.LEDForConditionalGeneration,\n",
       " transformers.models.m2m_100.modeling_m2m_100.M2M100ForConditionalGeneration,\n",
       " transformers.models.mbart.modeling_mbart.MBartForConditionalGeneration,\n",
       " transformers.models.mt5.modeling_mt5.MT5ForConditionalGeneration,\n",
       " transformers.models.pegasus.modeling_pegasus.PegasusForConditionalGeneration,\n",
       " transformers.models.prophetnet.modeling_prophetnet.ProphetNetForConditionalGeneration,\n",
       " transformers.models.speech_to_text.modeling_speech_to_text.Speech2TextForConditionalGeneration,\n",
       " transformers.models.t5.modeling_t5.T5ForConditionalGeneration,\n",
       " transformers.models.xlm_prophetnet.modeling_xlm_prophetnet.XLMProphetNetForConditionalGeneration]"
      ]
     },
     "execution_count": null,
     "metadata": {},
     "output_type": "execute_result"
    }
   ],
   "source": [
    "[ model_type for model_type in BLURR.get_models(task='ConditionalGeneration') \n",
    " if (not model_type.__name__.startswith('TF')) ]"
   ]
  },
  {
   "cell_type": "code",
   "execution_count": null,
   "metadata": {},
   "outputs": [],
   "source": [
    "pretrained_model_names = [\n",
    "    'facebook/bart-base',\n",
    "    'facebook/blenderbot_small-90M',\n",
    "    'allenai/led-base-16384',\n",
    "    'google/mt5-small',\n",
    "    'google/pegasus-cnn_dailymail',\n",
    "    't5-small', \n",
    "    'microsoft/prophetnet-large-uncased',\n",
    "    'microsoft/xprophetnet-large-wiki100-cased', # XLMProphetNet\n",
    "]"
   ]
  },
  {
   "cell_type": "code",
   "execution_count": null,
   "metadata": {},
   "outputs": [],
   "source": [
    "path = Path('./')\n",
    "cnndm_df = pd.read_csv(path/'cnndm_sample.csv')"
   ]
  },
  {
   "cell_type": "code",
   "execution_count": null,
   "metadata": {},
   "outputs": [
    {
     "name": "stdout",
     "output_type": "stream",
     "text": [
      "=== facebook/bart-base ===\n",
      "\n",
      "architecture:\tbart\n",
      "tokenizer:\tBartTokenizerFast\n",
      "\n",
      "*** TESTING DataLoaders ***\n",
      "\n"
     ]
    },
    {
     "data": {
      "text/html": [
       "<table border=\"1\" class=\"dataframe\">\n",
       "  <thead>\n",
       "    <tr style=\"text-align: right;\">\n",
       "      <th></th>\n",
       "      <th>text</th>\n",
       "      <th>target</th>\n",
       "    </tr>\n",
       "  </thead>\n",
       "  <tbody>\n",
       "    <tr>\n",
       "      <th>0</th>\n",
       "      <td>(CNN) -- Home to up to 10 percent of all known species, Mexico is recognized as one of the most biodiverse regions on the planet. The twin threats of climate change and human encroachment on natural environments are, however, threatening the existence of the country's rich wildlife. And there is a great deal to lose. In the United Nations Environment Program (UNEP) World Conservation Monitoring Centre's list of megadiverse countries Mexico ranks 11th. The list represents a group of 17 countries that harbor the majority of the Earth's species and are therefore considered extremely biodiverse. From its coral reefs in the Caribbean Sea to its tropical jungles in Chiapas and the Yucatan peninsula and its deserts and prairies in the north, Mexico boasts an incredibly rich variety of flora and fauna. Some 574 out of 717 reptile species found in Mexico -- the most in any country -- can only be encountered within its borders. It is home to 502 types of mammals, 290 species of birds, 1,150 var</td>\n",
       "      <td>Mexico hosts to up to 10 percent of all known species on Earth.\\nIt is home to 502 types of mammals, 290 bird species and 26,000 types of plants.\\nHuman development</td>\n",
       "    </tr>\n",
       "    <tr>\n",
       "      <th>1</th>\n",
       "      <td>(CNN) -- To Disney or not to Disney? For many travelers, especially those with children, it's not even a question they ask. They already know the answer. \"Yes.\" To these visitors, Disney is Mickey Mouse, princesses, magic and fun. It's happy memories of childhood brought back to life in your children, a clean place where the rides are safe and the Disney characters are always happy to pose for pictures with your kids. That's Deb Koma, who visited once as a child and walked back into the Magic Kingdom in the mid-1990s with her young son. \"It was so perfect, everybody was so happy, everything was so maintained,\" said Koma, who now works for the AllEars.net, an unofficial Disney planning and fan site. \"You were in a perfect fantasy world. That, and my little boy loved it.\" But for other vacationers, Disney inspires a firm \"no.\" To those travelers, Disney is merely a commercial machine built to sell tickets, overpriced toys and a stereotype of girls as princesses. They may remember visiti</td>\n",
       "      <td>Disney represents magical stories and fun family to fans.\\nSome parents delight in their children's wonder during a first visit to Disney.\\nSome critics think the company encourages kids to buy too much</td>\n",
       "    </tr>\n",
       "  </tbody>\n",
       "</table>"
      ],
      "text/plain": [
       "<IPython.core.display.HTML object>"
      ]
     },
     "metadata": {},
     "output_type": "display_data"
    },
    {
     "name": "stdout",
     "output_type": "stream",
     "text": [
      "=== facebook/blenderbot_small-90M ===\n",
      "\n",
      "architecture:\tblenderbot_small\n",
      "tokenizer:\tBlenderbotSmallTokenizer\n",
      "\n",
      "*** TESTING DataLoaders ***\n",
      "\n"
     ]
    },
    {
     "data": {
      "text/html": [
       "<table border=\"1\" class=\"dataframe\">\n",
       "  <thead>\n",
       "    <tr style=\"text-align: right;\">\n",
       "      <th></th>\n",
       "      <th>text</th>\n",
       "      <th>target</th>\n",
       "    </tr>\n",
       "  </thead>\n",
       "  <tbody>\n",
       "    <tr>\n",
       "      <th>0</th>\n",
       "      <td>cnn ) - home to up to 10 percent of all known species, mexico is recognized as one of the most biodiverse regions on the planet. the twin threats of climate change and human encroachment on natural environments are, however, threatening the existence of the country's rich wildlife. and there is a great deal to lose. in the united nations environment program unep ) world conservation monitoring centre's list of megadiverse countries mexico ranks 11th. the list represents a group of 17 countries that harbor the majority of the earth's species and are therefore considered extremely biodiverse. from its coral reefs in the caribbean sea to its tropical jungles in chiapas and the yucatan peninsula and its deand prairies in the north, mexico boasts an incredibly rich variety of flora and fauna. some 574 out of 717 reptile species found in mexico - the most in any country - can only be encountered within its borders. it is home to 502 types of mammals, 290 species of birds, 1 150 varieties of</td>\n",
       "      <td>mexico hosts to up to 10 percent of all known species on earth. __newln__ it is home to 502 types of mammals, 290 bird species and 26 000 types of plants. __newln__ human development</td>\n",
       "    </tr>\n",
       "    <tr>\n",
       "      <th>1</th>\n",
       "      <td>cnn ) - to disney or not to disney? for many travelers, especially those with children, it's not even a question they ask. they already know the answer. yes \" to these visitors, disney is mickey mouse, princesses, magic and fun. it's happy memories of childhood brought back to life in your children, a clean place where the rides are safe and the disney characters are always happy to pose for pictures with your kids. that's deb koma, who visited once as a child and walked back into the magic kingdom in the mid1990s with her young son. it was so perfect, everybody was so happy, everything was so maintained \" said koma, who now works for the allears net, an unofficial disney planning and fan site. you were in a perfect fantasy world. that, and my little boy loved it \" but for other vacationers, disney inspires a firm no \" to those travelers, disney is merely a commercial machine built to sell tickets, overpriced toys and a stereotype of girls as princesses. they may remember visiting disn</td>\n",
       "      <td>disney represents magical stories and fun family to fans. __newln__ some parents delight in their children's wonder during a first visit to disney. __newln__ some critics think the company encourages kids to buy too much stuff</td>\n",
       "    </tr>\n",
       "  </tbody>\n",
       "</table>"
      ],
      "text/plain": [
       "<IPython.core.display.HTML object>"
      ]
     },
     "metadata": {},
     "output_type": "display_data"
    },
    {
     "name": "stdout",
     "output_type": "stream",
     "text": [
      "=== allenai/led-base-16384 ===\n",
      "\n",
      "architecture:\tled\n",
      "tokenizer:\tLEDTokenizerFast\n",
      "\n",
      "*** TESTING DataLoaders ***\n",
      "\n"
     ]
    },
    {
     "data": {
      "text/html": [
       "<table border=\"1\" class=\"dataframe\">\n",
       "  <thead>\n",
       "    <tr style=\"text-align: right;\">\n",
       "      <th></th>\n",
       "      <th>text</th>\n",
       "      <th>target</th>\n",
       "    </tr>\n",
       "  </thead>\n",
       "  <tbody>\n",
       "    <tr>\n",
       "      <th>0</th>\n",
       "      <td>Dan Condon believes in recycling. Just not when it comes to his hotel towels. Condon composts when he's at home in Boulder, Colorado. He eats local, organic and fair-trade food and drives a Honda CR-Z hybrid sports car. You might call him green. Except he's not so green when he travels for his work at an education nonprofit and stays in a hotel, which happens about 10 weeks per year. There, he uses a new towel every day. And don't try to bribe him with a drink or dessert coupon to get him to reuse the same one. \"I could care less about rewards for environmentally conscious behavior unless it's miles,\" Condon wrote in an e-mail. If hotels can't convince a hybrid-driving recycling enthusiast like Condon to go green while traveling, how can they possibly convince everyone else? 9 glamorous movie-star hotels. That's the problem of hotels trying to \"green\" your hotel stay. After guests have paid a pretty penny for a night at the inn, even the most environmental guests may want to treat them</td>\n",
       "      <td>Hotel guests who \"go green\" are happier with their stay.\\nIncreasing water and energy costs are pushing hotels to cut costs wherever they can.\\nMany hotels find that guests don</td>\n",
       "    </tr>\n",
       "    <tr>\n",
       "      <th>1</th>\n",
       "      <td>(CNN) -- To Disney or not to Disney? For many travelers, especially those with children, it's not even a question they ask. They already know the answer. \"Yes.\" To these visitors, Disney is Mickey Mouse, princesses, magic and fun. It's happy memories of childhood brought back to life in your children, a clean place where the rides are safe and the Disney characters are always happy to pose for pictures with your kids. That's Deb Koma, who visited once as a child and walked back into the Magic Kingdom in the mid-1990s with her young son. \"It was so perfect, everybody was so happy, everything was so maintained,\" said Koma, who now works for the AllEars.net, an unofficial Disney planning and fan site. \"You were in a perfect fantasy world. That, and my little boy loved it.\" But for other vacationers, Disney inspires a firm \"no.\" To those travelers, Disney is merely a commercial machine built to sell tickets, overpriced toys and a stereotype of girls as princesses. They may remember visitin</td>\n",
       "      <td>Disney represents magical stories and fun family to fans.\\nSome parents delight in their children's wonder during a first visit to Disney.\\nSome critics think the company encourages kids to buy too much</td>\n",
       "    </tr>\n",
       "  </tbody>\n",
       "</table>"
      ],
      "text/plain": [
       "<IPython.core.display.HTML object>"
      ]
     },
     "metadata": {},
     "output_type": "display_data"
    },
    {
     "name": "stdout",
     "output_type": "stream",
     "text": [
      "=== google/mt5-small ===\n",
      "\n",
      "architecture:\tmt5\n",
      "tokenizer:\tT5TokenizerFast\n",
      "\n",
      "*** TESTING DataLoaders ***\n",
      "\n"
     ]
    },
    {
     "data": {
      "text/html": [
       "<table border=\"1\" class=\"dataframe\">\n",
       "  <thead>\n",
       "    <tr style=\"text-align: right;\">\n",
       "      <th></th>\n",
       "      <th>text</th>\n",
       "      <th>target</th>\n",
       "    </tr>\n",
       "  </thead>\n",
       "  <tbody>\n",
       "    <tr>\n",
       "      <th>0</th>\n",
       "      <td>(CNN) -- Home to up to 10 percent of all known species, Mexico is recognized as one of the most biodiverse regions on the planet. The twin threats of climate change and human encroachment on natural environments are, however, threatening the existence of the country's rich wildlife. And there is a great deal to lose. In the United Nations Environment Program (UNEP) World Conservation Monitoring Centre's list of megadiverse countries Mexico ranks 11th. The list represents a group of 17 countries that harbor the majority of the Earth's species and are therefore considered extremely biodiverse. From its coral reefs in the Caribbean Sea to its tropical jungles in Chiapas and the Yucatan peninsula and its deserts and prairies in the north, Mexico boasts an incredibly rich variety of flora and fauna. Some 574 out of 717 reptile species found in Mexico -- the most in any country -- can only be encountered within its borders. It is home to 502 types of mammals, 290 species of birds,</td>\n",
       "      <td>Mexico hosts to up to 10 percent of all known species on Earth. It is home to 502 types of mammals, 290 bird species and 26,000 types of</td>\n",
       "    </tr>\n",
       "    <tr>\n",
       "      <th>1</th>\n",
       "      <td>(CNN) -- Wondering where to go for your next holiday? Experts explain which destinations we should be checking out in 2014. Brazil: The World Cup. The modern game of football, or soccer, may have been born in England's public schools, but many will claim its soul has settled in Brazil. It has the world's most successful international team, winning the World Cup five times. It calls what many claim to be the world's greatest player, Pele, one of its own. And company managers and bosses are known to demand their employees skip work to watch the big games. The World Cup next year then, to be hosted over June and July in 18 cities across the country, is likely to be memorable, to say the least. Throw in the rest of the country, which includes rainforests, beaches and a party culture that makes most New Year's Eve soirees look decidedly po-faced, and you have the makings of an epic trip. Daisy Parker from ABTA (Association of British Travel Agents) suggests visiting some</td>\n",
       "      <td>New Zealand government threw $50 million into the construction of the Nga Haerenga cycle trails. Nosara in Costa Rica recently awarded a Blue Flag -- a certification</td>\n",
       "    </tr>\n",
       "  </tbody>\n",
       "</table>"
      ],
      "text/plain": [
       "<IPython.core.display.HTML object>"
      ]
     },
     "metadata": {},
     "output_type": "display_data"
    },
    {
     "name": "stdout",
     "output_type": "stream",
     "text": [
      "=== google/pegasus-cnn_dailymail ===\n",
      "\n",
      "architecture:\tpegasus\n",
      "tokenizer:\tPegasusTokenizerFast\n",
      "\n",
      "*** TESTING DataLoaders ***\n",
      "\n"
     ]
    },
    {
     "data": {
      "text/html": [
       "<table border=\"1\" class=\"dataframe\">\n",
       "  <thead>\n",
       "    <tr style=\"text-align: right;\">\n",
       "      <th></th>\n",
       "      <th>text</th>\n",
       "      <th>target</th>\n",
       "    </tr>\n",
       "  </thead>\n",
       "  <tbody>\n",
       "    <tr>\n",
       "      <th>0</th>\n",
       "      <td>Dan Condon believes in recycling. Just not when it comes to his hotel towels. Condon composts when he's at home in Boulder, Colorado. He eats local, organic and fair-trade food and drives a Honda CR-Z hybrid sports car. You might call him green. Except he's not so green when he travels for his work at an education nonprofit and stays in a hotel, which happens about 10 weeks per year. There, he uses a new towel every day. And don't try to bribe him with a drink or dessert coupon to get him to reuse the same one. \"I could care less about rewards for environmentally conscious behavior unless it's miles,\" Condon wrote in an e-mail. If hotels can't convince a hybrid-driving recycling enthusiast like Condon to go green while traveling, how can they possibly convince everyone else? 9 glamorous movie-star hotels. That's the problem of hotels trying to \"green\" your hotel stay. After guests have paid a pretty penny for a night at the inn, even the most environmental guests may want to treat them</td>\n",
       "      <td>Hotel guests who \"go green\" are happier with their stay. Increasing water and energy costs are pushing hotels to cut costs wherever they can. Many hotels find that guests don't mind</td>\n",
       "    </tr>\n",
       "    <tr>\n",
       "      <th>1</th>\n",
       "      <td>Washington (CNN) -- Few answers have emerged to the myriad questions about the Boston Marathon bombing and its aftermath, but that didn't stop political leaders from clashing about what happened and why it did on Sunday talk shows. Republican members of Congress played up a possible connection to global terrorists and said the lone surviving suspect should be designated an enemy combatant to allow unfettered questioning and unlimited detention. Democratic legislators called for handling the 19-year-old suspect as a crime suspect rather than a war enemy, allowing the U.S. citizen the right to legal representation under federal law that could impose the death penalty. A closer look at their statements and arguments showed how politicians blend facts, conjecture and spin to push their side's agenda while countering arguments from across the aisle. The facts so far tell a still-convoluted story. Tamerlan and Dzhokhar Tsarnaev, brothers of northern Caucasus origin who had lived in the Unite</td>\n",
       "      <td>Partisan posturing emerges over Boston bombings on Sunday talk shows. Despite little evidence, Republicans hint of possible international terror ties. Democrats argue against designating the suspect an enemy combatant. Authors</td>\n",
       "    </tr>\n",
       "  </tbody>\n",
       "</table>"
      ],
      "text/plain": [
       "<IPython.core.display.HTML object>"
      ]
     },
     "metadata": {},
     "output_type": "display_data"
    },
    {
     "name": "stdout",
     "output_type": "stream",
     "text": [
      "=== t5-small ===\n",
      "\n",
      "architecture:\tt5\n",
      "tokenizer:\tT5TokenizerFast\n",
      "\n",
      "*** TESTING DataLoaders ***\n",
      "\n"
     ]
    },
    {
     "data": {
      "text/html": [
       "<table border=\"1\" class=\"dataframe\">\n",
       "  <thead>\n",
       "    <tr style=\"text-align: right;\">\n",
       "      <th></th>\n",
       "      <th>text</th>\n",
       "      <th>target</th>\n",
       "    </tr>\n",
       "  </thead>\n",
       "  <tbody>\n",
       "    <tr>\n",
       "      <th>0</th>\n",
       "      <td>summarize: (CNN) -- Home to up to 10 percent of all known species, Mexico is recognized as one of the most biodiverse regions on the planet. The twin threats of climate change and human encroachment on natural environments are, however, threatening the existence of the country's rich wildlife. And there is a great deal to lose. In the United Nations Environment Program (UNEP) World Conservation Monitoring Centre's list of megadiverse countries Mexico ranks 11th. The list represents a group of 17 countries that harbor the majority of the Earth's species and are therefore considered extremely biodiverse. From its coral reefs in the Caribbean Sea to its tropical jungles in Chiapas and the Yucatan peninsula and its deserts and prairies in the north, Mexico boasts an incredibly rich variety of flora and fauna. Some 574 out of 717 reptile species found in Mexico -- the most in any country -- can only be encountered within its borders. It is home to 502 types of mammals, 290 species of birds,</td>\n",
       "      <td>Mexico hosts to up to 10 percent of all known species on Earth. It is home to 502 types of mammals, 290 bird species and 26,000 types of plants. Human development</td>\n",
       "    </tr>\n",
       "    <tr>\n",
       "      <th>1</th>\n",
       "      <td>summarize: I have an uncle who has always been a robust and healthy guy. He drank a glass of skim milk every day, bragged about how many pull-ups he was doing and fit into pants he was wearing 20 years before. He didn't take a single medication and retired early. Given that he had no medical problems and ran his own business, he opted to go several years without health insurance. Eventually, when he turned 65, he picked up Medicare. What happened next was a little strange. He fell off the wagon. He exercised only sporadically, and paid hardly any attention to what he was eating. One day, I saw him eat an entire bag of potato chips. He bemoaned the fact that he was forced to buy new, bigger pants, and he stopped drinking his milk. For him, becoming newly insured had nearly the opposite effect on him of what we doctors hope to achieve. He'd become unhealthier. In many ways, my uncle was demonstrating a concept known as the moral hazard. Two economists wrote about this exact scenario in 2</td>\n",
       "      <td>Sanjay Gupta: Moral hazard causes some to neglect health when they get health insurance. He says Obamacare alone won't guarantee good health; personal habits must</td>\n",
       "    </tr>\n",
       "  </tbody>\n",
       "</table>"
      ],
      "text/plain": [
       "<IPython.core.display.HTML object>"
      ]
     },
     "metadata": {},
     "output_type": "display_data"
    },
    {
     "name": "stdout",
     "output_type": "stream",
     "text": [
      "=== microsoft/prophetnet-large-uncased ===\n",
      "\n",
      "architecture:\tprophetnet\n",
      "tokenizer:\tProphetNetTokenizer\n",
      "\n",
      "*** TESTING DataLoaders ***\n",
      "\n"
     ]
    },
    {
     "data": {
      "text/html": [
       "<table border=\"1\" class=\"dataframe\">\n",
       "  <thead>\n",
       "    <tr style=\"text-align: right;\">\n",
       "      <th></th>\n",
       "      <th>text</th>\n",
       "      <th>target</th>\n",
       "    </tr>\n",
       "  </thead>\n",
       "  <tbody>\n",
       "    <tr>\n",
       "      <th>0</th>\n",
       "      <td>( cnn ) - - home to up to 10 percent of all known species, mexico is recognized as one of the most biodiverse regions on the planet. the twin threats of climate change and human encroachment on natural environments are, however, threatening the existence of the country's rich wildlife. and there is a great deal to lose. in the united nations environment program ( unep ) world conservation monitoring centre's list of megadiverse countries mexico ranks 11th. the list represents a group of 17 countries that harbor the majority of the earth's species and are therefore considered extremely biodiverse. from its coral reefs in the caribbean sea to its tropical jungles in chiapas and the yucatan peninsula and its deserts and prairies in the north, mexico boasts an incredibly rich variety of flora and fauna. some 574 out of 717 reptile species found in mexico - - the most in any country - - can only be encountered within its borders. it is home to 502 types of mammals, 290 species of birds, 1,</td>\n",
       "      <td>mexico hosts to up to 10 percent of all known species on earth. it is home to 502 types of mammals, 290 bird species and 26, 000 types of plants. human development and climate</td>\n",
       "    </tr>\n",
       "    <tr>\n",
       "      <th>1</th>\n",
       "      <td>( cnn ) - - wondering where to go for your next holiday? experts explain which destinations we should be checking out in 2014. brazil : the world cup. the modern game of football, or soccer, may have been born in england's public schools, but many will claim its soul has settled in brazil. it has the world's most successful international team, winning the world cup five times. it calls what many claim to be the world's greatest player, pele, one of its own. and company managers and bosses are known to demand their employees skip work to watch the big games. the world cup next year then, to be hosted over june and july in 18 cities across the country, is likely to be memorable, to say the least. throw in the rest of the country, which includes rainforests, beaches and a party culture that makes most new year's eve soirees look decidedly po - faced, and you have the makings of an epic trip. daisy parker from abta ( association of british travel agents ) suggests visiting some of the coun</td>\n",
       "      <td>new zealand government threw $ 50 million into the construction of the nga haerenga cycle trails. nosara in costa rica recently awarded a blue flag - - a certification awarded to world's</td>\n",
       "    </tr>\n",
       "  </tbody>\n",
       "</table>"
      ],
      "text/plain": [
       "<IPython.core.display.HTML object>"
      ]
     },
     "metadata": {},
     "output_type": "display_data"
    },
    {
     "name": "stdout",
     "output_type": "stream",
     "text": [
      "=== microsoft/xprophetnet-large-wiki100-cased ===\n",
      "\n",
      "architecture:\txlm_prophetnet\n",
      "tokenizer:\tXLMProphetNetTokenizer\n",
      "\n",
      "*** TESTING DataLoaders ***\n",
      "\n"
     ]
    },
    {
     "data": {
      "text/html": [
       "<table border=\"1\" class=\"dataframe\">\n",
       "  <thead>\n",
       "    <tr style=\"text-align: right;\">\n",
       "      <th></th>\n",
       "      <th>text</th>\n",
       "      <th>target</th>\n",
       "    </tr>\n",
       "  </thead>\n",
       "  <tbody>\n",
       "    <tr>\n",
       "      <th>0</th>\n",
       "      <td>(CNN) -- Home to up to 10 percent of all known species, Mexico is recognized as one of the most biodiverse regions on the planet. The twin threats of climate change and human encroachment on natural environments are, however, threatening the existence of the country's rich wildlife. And there is a great deal to lose. In the United Nations Environment Program (UNEP) World Conservation Monitoring Centre's list of megadiverse countries Mexico ranks 11th. The list represents a group of 17 countries that harbor the majority of the Earth's species and are therefore considered extremely biodiverse. From its coral reefs in the Caribbean Sea to its tropical jungles in Chiapas and the Yucatan peninsula and its deserts and prairies in the north, Mexico boasts an incredibly rich variety of flora and fauna. Some 574 out of 717 reptile species found in Mexico -- the most in any country -- can only be encountered within its borders. It is home to 502 types of mammals, 290 species of birds, 1,150 vari</td>\n",
       "      <td>Mexico hosts to up to 10 percent of all known species on Earth. It is home to 502 types of mammals, 290 bird species and 26,000 types of plants</td>\n",
       "    </tr>\n",
       "    <tr>\n",
       "      <th>1</th>\n",
       "      <td>(CNN) -- To Disney or not to Disney? For many travelers, especially those with children, it's not even a question they ask. They already know the answer. \"Yes.\" To these visitors, Disney is Mickey Mouse, princesses, magic and fun. It's happy memories of childhood brought back to life in your children, a clean place where the rides are safe and the Disney characters are always happy to pose for pictures with your kids. That's Deb Koma, who visited once as a child and walked back into the Magic Kingdom in the mid-1990s with her young son. \"It was so perfect, everybody was so happy, everything was so maintained,\" said Koma, who now works for the AllEars.net, an unofficial Disney planning and fan site. \"You were in a perfect fantasy world. That, and my little boy loved it.\" But for other vacationers, Disney inspires a firm \"no.\" To those travelers, Disney is merely a commercial machine built to sell tickets, overpriced toys and a stereotype of girls as princesses. They may remember visitin</td>\n",
       "      <td>Disney represents magical stories and fun family to fans. Some parents delight in their children's wonder during a first visit to Disney. Some critics think the company encourages</td>\n",
       "    </tr>\n",
       "  </tbody>\n",
       "</table>"
      ],
      "text/plain": [
       "<IPython.core.display.HTML object>"
      ]
     },
     "metadata": {},
     "output_type": "display_data"
    }
   ],
   "source": [
    "#slow\n",
    "#hide_output\n",
    "model_cls = AutoModelForSeq2SeqLM\n",
    "bsz = 2\n",
    "seq_sz = 256\n",
    "trg_seq_sz = 40\n",
    "\n",
    "test_results = []\n",
    "for model_name in pretrained_model_names:\n",
    "    error=None\n",
    "    \n",
    "    print(f'=== {model_name} ===\\n')\n",
    "    \n",
    "    hf_arch, hf_config, hf_tokenizer, hf_model = BLURR.get_hf_objects(model_name, model_cls=model_cls)\n",
    "    print(f'architecture:\\t{hf_arch}\\ntokenizer:\\t{type(hf_tokenizer).__name__}\\n')\n",
    "    \n",
    "    # not all architectures include a native pad_token (e.g., gpt2, ctrl, etc...), so we add one here\n",
    "    if (hf_tokenizer.pad_token is None): \n",
    "        hf_tokenizer.add_special_tokens({'pad_token': '<pad>'})  \n",
    "        hf_config.pad_token_id = hf_tokenizer.get_vocab()['<pad>']\n",
    "        hf_model.resize_token_embeddings(len(hf_tokenizer))   \n",
    "    \n",
    "    before_batch_tfm = HF_Seq2SeqBeforeBatchTransform(hf_arch, hf_config, hf_tokenizer, hf_model,\n",
    "                                                      padding='max_length', \n",
    "                                                      max_length=seq_sz, \n",
    "                                                      max_target_length=trg_seq_sz)\n",
    "    \n",
    "    def add_t5_prefix(inp): return f'summarize: {inp}' if (hf_arch == 't5') else inp\n",
    "    \n",
    "    blocks = (HF_Seq2SeqBlock(before_batch_tfm=before_batch_tfm), noop)\n",
    "    dblock = DataBlock(blocks=blocks, \n",
    "                   get_x=Pipeline([ColReader('article'), add_t5_prefix]), \n",
    "                   get_y=ColReader('highlights'), \n",
    "                   splitter=RandomSplitter())\n",
    "\n",
    "    dls = dblock.dataloaders(cnndm_df, bs=bsz) \n",
    "    b = dls.one_batch()\n",
    "\n",
    "    try:\n",
    "        print('*** TESTING DataLoaders ***\\n')\n",
    "        test_eq(len(b), 2)\n",
    "        test_eq(len(b[0]['input_ids']), bsz)\n",
    "        test_eq(b[0]['input_ids'].shape, torch.Size([bsz, seq_sz]))\n",
    "        test_eq(len(b[1]), bsz)\n",
    "        test_eq(b[1].shape, torch.Size([bsz, trg_seq_sz]))\n",
    "\n",
    "        if (hasattr(hf_tokenizer, 'add_prefix_space') and hf_arch not in ['led']):\n",
    "             test_eq(hf_tokenizer.add_prefix_space, True)\n",
    "            \n",
    "        test_results.append((hf_arch, type(hf_tokenizer).__name__, model_name, 'PASSED', ''))\n",
    "        dls.show_batch(dataloaders=dls, max_n=2, input_trunc_at=1000)\n",
    "        \n",
    "    except Exception as err:\n",
    "        test_results.append((hf_arch, type(hf_tokenizer).__name__, model_name, 'FAILED', err))"
   ]
  },
  {
   "cell_type": "code",
   "execution_count": null,
   "metadata": {},
   "outputs": [
    {
     "data": {
      "text/html": [
       "<table border=\"1\" class=\"dataframe\">\n",
       "  <thead>\n",
       "    <tr style=\"text-align: right;\">\n",
       "      <th></th>\n",
       "      <th>arch</th>\n",
       "      <th>tokenizer</th>\n",
       "      <th>model_name</th>\n",
       "      <th>result</th>\n",
       "      <th>error</th>\n",
       "    </tr>\n",
       "  </thead>\n",
       "  <tbody>\n",
       "    <tr>\n",
       "      <th>0</th>\n",
       "      <td>bart</td>\n",
       "      <td>BartTokenizerFast</td>\n",
       "      <td>facebook/bart-base</td>\n",
       "      <td>PASSED</td>\n",
       "      <td></td>\n",
       "    </tr>\n",
       "    <tr>\n",
       "      <th>1</th>\n",
       "      <td>blenderbot_small</td>\n",
       "      <td>BlenderbotSmallTokenizer</td>\n",
       "      <td>facebook/blenderbot_small-90M</td>\n",
       "      <td>PASSED</td>\n",
       "      <td></td>\n",
       "    </tr>\n",
       "    <tr>\n",
       "      <th>2</th>\n",
       "      <td>led</td>\n",
       "      <td>LEDTokenizerFast</td>\n",
       "      <td>allenai/led-base-16384</td>\n",
       "      <td>PASSED</td>\n",
       "      <td></td>\n",
       "    </tr>\n",
       "    <tr>\n",
       "      <th>3</th>\n",
       "      <td>mt5</td>\n",
       "      <td>T5TokenizerFast</td>\n",
       "      <td>google/mt5-small</td>\n",
       "      <td>PASSED</td>\n",
       "      <td></td>\n",
       "    </tr>\n",
       "    <tr>\n",
       "      <th>4</th>\n",
       "      <td>pegasus</td>\n",
       "      <td>PegasusTokenizerFast</td>\n",
       "      <td>google/pegasus-cnn_dailymail</td>\n",
       "      <td>PASSED</td>\n",
       "      <td></td>\n",
       "    </tr>\n",
       "    <tr>\n",
       "      <th>5</th>\n",
       "      <td>t5</td>\n",
       "      <td>T5TokenizerFast</td>\n",
       "      <td>t5-small</td>\n",
       "      <td>PASSED</td>\n",
       "      <td></td>\n",
       "    </tr>\n",
       "    <tr>\n",
       "      <th>6</th>\n",
       "      <td>prophetnet</td>\n",
       "      <td>ProphetNetTokenizer</td>\n",
       "      <td>microsoft/prophetnet-large-uncased</td>\n",
       "      <td>PASSED</td>\n",
       "      <td></td>\n",
       "    </tr>\n",
       "    <tr>\n",
       "      <th>7</th>\n",
       "      <td>xlm_prophetnet</td>\n",
       "      <td>XLMProphetNetTokenizer</td>\n",
       "      <td>microsoft/xprophetnet-large-wiki100-cased</td>\n",
       "      <td>PASSED</td>\n",
       "      <td></td>\n",
       "    </tr>\n",
       "  </tbody>\n",
       "</table>"
      ],
      "text/plain": [
       "<IPython.core.display.HTML object>"
      ]
     },
     "metadata": {},
     "output_type": "display_data"
    }
   ],
   "source": [
    "#slow\n",
    "#hide_input\n",
    "test_results_df = pd.DataFrame(test_results, columns=['arch', 'tokenizer', 'model_name', 'result', 'error'])\n",
    "display_df(test_results_df)"
   ]
  },
  {
   "cell_type": "markdown",
   "metadata": {},
   "source": [
    "## Cleanup"
   ]
  },
  {
   "cell_type": "code",
   "execution_count": null,
   "metadata": {},
   "outputs": [
    {
     "name": "stdout",
     "output_type": "stream",
     "text": [
      "Converted 00_utils.ipynb.\n",
      "Converted 01_data-core.ipynb.\n",
      "Converted 01a_data-token-classification.ipynb.\n",
      "Converted 01b_data-question-answering.ipynb.\n",
      "Converted 01za_data-seq2seq-core.ipynb.\n",
      "Converted 01zb_data-seq2seq-language-modeling.ipynb.\n",
      "Converted 01zc_data-seq2seq-summarization.ipynb.\n",
      "Converted 01zd_data-seq2seq-translation.ipynb.\n",
      "Converted 02_modeling-core.ipynb.\n",
      "Converted 02a_modeling-token-classification.ipynb.\n",
      "Converted 02b_modeling-question-answering.ipynb.\n",
      "Converted 02za_modeling-seq2seq-core.ipynb.\n",
      "Converted 02zb_modeling-seq2seq-language-modeling.ipynb.\n",
      "Converted 02zc_modeling-seq2seq-summarization.ipynb.\n",
      "Converted 02zc_modeling-seq2seq-translation.ipynb.\n",
      "Converted 99a_examples-multilabel.ipynb.\n",
      "Converted index.ipynb.\n"
     ]
    }
   ],
   "source": [
    "#hide\n",
    "from nbdev.export import notebook2script\n",
    "notebook2script()"
   ]
  },
  {
   "cell_type": "code",
   "execution_count": null,
   "metadata": {},
   "outputs": [],
   "source": []
  }
 ],
 "metadata": {
  "kernelspec": {
   "display_name": "Python 3",
   "language": "python",
   "name": "python3"
  }
 },
 "nbformat": 4,
 "nbformat_minor": 4
}
