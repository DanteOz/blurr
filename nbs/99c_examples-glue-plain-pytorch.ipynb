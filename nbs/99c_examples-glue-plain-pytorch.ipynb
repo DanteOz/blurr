{
 "cells": [
  {
   "cell_type": "code",
   "execution_count": null,
   "metadata": {},
   "outputs": [],
   "source": [
    "# default_exp examples.glue_low_level_api"
   ]
  },
  {
   "cell_type": "code",
   "execution_count": null,
   "metadata": {},
   "outputs": [],
   "source": [
    "#all_slow"
   ]
  },
  {
   "cell_type": "code",
   "execution_count": null,
   "metadata": {},
   "outputs": [],
   "source": [
    "#hide\n",
    "%reload_ext autoreload\n",
    "%autoreload 2\n",
    "%matplotlib inline\n",
    "\n",
    "import os\n",
    "os.environ[\"TOKENIZERS_PARALLELISM\"] = \"false\""
   ]
  },
  {
   "cell_type": "markdown",
   "metadata": {},
   "source": [
    "# Using the Low-level fastai API\n",
    "\n",
    "> This notebook demonstrates how we can use Blurr to tackle the [General Language Understanding Evaluation(GLUE) benchmark](https://gluebenchmark.com/) tasks using the low-level fastai API.  That means we're going to be creating our Datasets (using the dataset creation methods of the datasets library) and DataLoaders (both plain ol' PyTorch DataLoader and fastai DataLoader) to train, evalulate, and do inference."
   ]
  },
  {
   "cell_type": "code",
   "execution_count": null,
   "metadata": {},
   "outputs": [],
   "source": [
    "#export\n",
    "from dataclasses import dataclass\n",
    "\n",
    "import torch\n",
    "from fastai.text.all import *\n",
    "from transformers import *\n",
    "from datasets import load_dataset\n",
    "\n",
    "from blurr.utils import *\n",
    "from blurr.data.core import *\n",
    "from blurr.modeling.core import *\n",
    "\n",
    "logging.set_verbosity_error()"
   ]
  },
  {
   "cell_type": "code",
   "execution_count": null,
   "metadata": {},
   "outputs": [
    {
     "name": "stdout",
     "output_type": "stream",
     "text": [
      "Here's what we're running with ...\n",
      "\n",
      "Using pytorch 1.7.1\n",
      "Using fastai 2.4\n",
      "Using transformers 4.6.1\n"
     ]
    }
   ],
   "source": [
    "#hide_input\n",
    "import pdb\n",
    "\n",
    "from nbdev.showdoc import *\n",
    "from fastcore.test import *\n",
    "\n",
    "from fastai import __version__ as fa_version\n",
    "from torch import __version__ as pt_version\n",
    "from transformers import __version__ as hft_version\n",
    "\n",
    "print(\"Here's what we're running with ...\\n\")\n",
    "print(f'Using pytorch {pt_version}')\n",
    "print(f'Using fastai {fa_version}')\n",
    "print(f'Using transformers {hft_version}')"
   ]
  },
  {
   "cell_type": "code",
   "execution_count": null,
   "metadata": {},
   "outputs": [
    {
     "name": "stdout",
     "output_type": "stream",
     "text": [
      "Using GPU #1: GeForce GTX 1080 Ti\n"
     ]
    }
   ],
   "source": [
    "#cuda\n",
    "#hide_input\n",
    "torch.cuda.set_device(1)\n",
    "print(f'Using GPU #{torch.cuda.current_device()}: {torch.cuda.get_device_name()}')"
   ]
  },
  {
   "cell_type": "markdown",
   "metadata": {},
   "source": [
    "## GLUE tasks"
   ]
  },
  {
   "cell_type": "code",
   "execution_count": null,
   "metadata": {},
   "outputs": [
    {
     "data": {
      "text/html": [
       "<style  type=\"text/css\" >\n",
       "</style><table id=\"T_0e0ec_\" ><thead>    <tr>        <th class=\"col_heading level0 col0\" >Abbr</th>        <th class=\"col_heading level0 col1\" >Name</th>        <th class=\"col_heading level0 col2\" >Task type</th>        <th class=\"col_heading level0 col3\" >Description</th>        <th class=\"col_heading level0 col4\" >Size</th>        <th class=\"col_heading level0 col5\" >Metrics</th>    </tr></thead><tbody>\n",
       "                <tr>\n",
       "                                <td id=\"T_0e0ec_row0_col0\" class=\"data row0 col0\" >CoLA</td>\n",
       "                        <td id=\"T_0e0ec_row0_col1\" class=\"data row0 col1\" >Corpus of Linguistic Acceptability</td>\n",
       "                        <td id=\"T_0e0ec_row0_col2\" class=\"data row0 col2\" >Single-Sentence Task</td>\n",
       "                        <td id=\"T_0e0ec_row0_col3\" class=\"data row0 col3\" >Predict whether a sequence is a grammatical English sentence</td>\n",
       "                        <td id=\"T_0e0ec_row0_col4\" class=\"data row0 col4\" >8.5k</td>\n",
       "                        <td id=\"T_0e0ec_row0_col5\" class=\"data row0 col5\" >Matthews corr.</td>\n",
       "            </tr>\n",
       "            <tr>\n",
       "                                <td id=\"T_0e0ec_row1_col0\" class=\"data row1 col0\" >SST-2</td>\n",
       "                        <td id=\"T_0e0ec_row1_col1\" class=\"data row1 col1\" >Stanford Sentiment Treebank</td>\n",
       "                        <td id=\"T_0e0ec_row1_col2\" class=\"data row1 col2\" >Single-Sentence Task</td>\n",
       "                        <td id=\"T_0e0ec_row1_col3\" class=\"data row1 col3\" >Predict the sentiment of a given sentence</td>\n",
       "                        <td id=\"T_0e0ec_row1_col4\" class=\"data row1 col4\" >67k</td>\n",
       "                        <td id=\"T_0e0ec_row1_col5\" class=\"data row1 col5\" >Accuracy</td>\n",
       "            </tr>\n",
       "            <tr>\n",
       "                                <td id=\"T_0e0ec_row2_col0\" class=\"data row2 col0\" >MRPC</td>\n",
       "                        <td id=\"T_0e0ec_row2_col1\" class=\"data row2 col1\" >Microsoft Research Paraphrase Corpus</td>\n",
       "                        <td id=\"T_0e0ec_row2_col2\" class=\"data row2 col2\" >Similarity and Paraphrase Tasks</td>\n",
       "                        <td id=\"T_0e0ec_row2_col3\" class=\"data row2 col3\" >Predict whether two sentences are semantically equivalent</td>\n",
       "                        <td id=\"T_0e0ec_row2_col4\" class=\"data row2 col4\" >3.7k</td>\n",
       "                        <td id=\"T_0e0ec_row2_col5\" class=\"data row2 col5\" >F1/Accuracy</td>\n",
       "            </tr>\n",
       "            <tr>\n",
       "                                <td id=\"T_0e0ec_row3_col0\" class=\"data row3 col0\" >SST-B</td>\n",
       "                        <td id=\"T_0e0ec_row3_col1\" class=\"data row3 col1\" >Semantic Textual Similarity Benchmark</td>\n",
       "                        <td id=\"T_0e0ec_row3_col2\" class=\"data row3 col2\" >Similarity and Paraphrase Tasks</td>\n",
       "                        <td id=\"T_0e0ec_row3_col3\" class=\"data row3 col3\" >Predict the similarity score for two sentences on a scale from 1 to 5</td>\n",
       "                        <td id=\"T_0e0ec_row3_col4\" class=\"data row3 col4\" >7k</td>\n",
       "                        <td id=\"T_0e0ec_row3_col5\" class=\"data row3 col5\" >Pearson/Spearman corr.</td>\n",
       "            </tr>\n",
       "            <tr>\n",
       "                                <td id=\"T_0e0ec_row4_col0\" class=\"data row4 col0\" >QQP</td>\n",
       "                        <td id=\"T_0e0ec_row4_col1\" class=\"data row4 col1\" >Quora question pair</td>\n",
       "                        <td id=\"T_0e0ec_row4_col2\" class=\"data row4 col2\" >Similarity and Paraphrase Tasks</td>\n",
       "                        <td id=\"T_0e0ec_row4_col3\" class=\"data row4 col3\" >Predict if two questions are a paraphrase of one another</td>\n",
       "                        <td id=\"T_0e0ec_row4_col4\" class=\"data row4 col4\" >364k</td>\n",
       "                        <td id=\"T_0e0ec_row4_col5\" class=\"data row4 col5\" >F1/Accuracy</td>\n",
       "            </tr>\n",
       "            <tr>\n",
       "                                <td id=\"T_0e0ec_row5_col0\" class=\"data row5 col0\" >MNLI</td>\n",
       "                        <td id=\"T_0e0ec_row5_col1\" class=\"data row5 col1\" >Mulit-Genre Natural Language Inference</td>\n",
       "                        <td id=\"T_0e0ec_row5_col2\" class=\"data row5 col2\" >Inference Tasks</td>\n",
       "                        <td id=\"T_0e0ec_row5_col3\" class=\"data row5 col3\" >Predict whether the premise entails, contradicts or is neutral to the hypothesis</td>\n",
       "                        <td id=\"T_0e0ec_row5_col4\" class=\"data row5 col4\" >393k</td>\n",
       "                        <td id=\"T_0e0ec_row5_col5\" class=\"data row5 col5\" >Accuracy</td>\n",
       "            </tr>\n",
       "            <tr>\n",
       "                                <td id=\"T_0e0ec_row6_col0\" class=\"data row6 col0\" >QNLI</td>\n",
       "                        <td id=\"T_0e0ec_row6_col1\" class=\"data row6 col1\" >Stanford Question Answering Dataset</td>\n",
       "                        <td id=\"T_0e0ec_row6_col2\" class=\"data row6 col2\" >Inference Tasks</td>\n",
       "                        <td id=\"T_0e0ec_row6_col3\" class=\"data row6 col3\" >Predict whether the context sentence contains the answer to the question</td>\n",
       "                        <td id=\"T_0e0ec_row6_col4\" class=\"data row6 col4\" >105k</td>\n",
       "                        <td id=\"T_0e0ec_row6_col5\" class=\"data row6 col5\" >Accuracy</td>\n",
       "            </tr>\n",
       "            <tr>\n",
       "                                <td id=\"T_0e0ec_row7_col0\" class=\"data row7 col0\" >RTE</td>\n",
       "                        <td id=\"T_0e0ec_row7_col1\" class=\"data row7 col1\" >Recognize Textual Entailment</td>\n",
       "                        <td id=\"T_0e0ec_row7_col2\" class=\"data row7 col2\" >Inference Tasks</td>\n",
       "                        <td id=\"T_0e0ec_row7_col3\" class=\"data row7 col3\" >Predict whether one sentece entails another</td>\n",
       "                        <td id=\"T_0e0ec_row7_col4\" class=\"data row7 col4\" >2.5k</td>\n",
       "                        <td id=\"T_0e0ec_row7_col5\" class=\"data row7 col5\" >Accuracy</td>\n",
       "            </tr>\n",
       "            <tr>\n",
       "                                <td id=\"T_0e0ec_row8_col0\" class=\"data row8 col0\" >WNLI</td>\n",
       "                        <td id=\"T_0e0ec_row8_col1\" class=\"data row8 col1\" >Winograd Schema Challenge</td>\n",
       "                        <td id=\"T_0e0ec_row8_col2\" class=\"data row8 col2\" >Inference Tasks</td>\n",
       "                        <td id=\"T_0e0ec_row8_col3\" class=\"data row8 col3\" >Predict if the sentence with the pronoun substituted is entailed by the original sentence</td>\n",
       "                        <td id=\"T_0e0ec_row8_col4\" class=\"data row8 col4\" >634</td>\n",
       "                        <td id=\"T_0e0ec_row8_col5\" class=\"data row8 col5\" >Accuracy</td>\n",
       "            </tr>\n",
       "    </tbody></table>"
      ],
      "text/plain": [
       "<pandas.io.formats.style.Styler at 0x7f90e4850b50>"
      ]
     },
     "execution_count": null,
     "metadata": {},
     "output_type": "execute_result"
    }
   ],
   "source": [
    "#hide_input\n",
    "glue_tasks = {\n",
    "    'cola': {\n",
    "        'abbr': 'CoLA',\n",
    "        'name': 'Corpus of Linguistic Acceptability',\n",
    "        'description': 'Predict whether a sequence is a grammatical English sentence',\n",
    "        'task_type': 'Single-Sentence Task',\n",
    "        'domain': 'Misc.',\n",
    "        'size': '8.5k',\n",
    "        'metrics': 'Matthews corr.',\n",
    "        'dataset_names': {'train': 'train', 'valid': 'validation', 'test': 'test'},\n",
    "        'inputs': ['sentence'],\n",
    "        'target': 'label',\n",
    "        'metric_funcs': [MatthewsCorrCoef()],\n",
    "        'n_labels': 2,\n",
    "    },\n",
    "    'sst2': {\n",
    "        'abbr': 'SST-2',\n",
    "        'name': 'Stanford Sentiment Treebank',\n",
    "        'description': 'Predict the sentiment of a given sentence',\n",
    "        'task_type': 'Single-Sentence Task',\n",
    "        'domain': 'Movie reviews',\n",
    "        'size': '67k',\n",
    "        'metrics': 'Accuracy',\n",
    "        'dataset_names': {'train': 'train', 'valid': 'validation', 'test': 'test'},\n",
    "        'inputs': ['sentence'],\n",
    "        'target': 'label',\n",
    "        'metric_funcs': [accuracy],\n",
    "        'n_labels': 2\n",
    "    },\n",
    "    \n",
    "    'mrpc': {\n",
    "        'abbr': 'MRPC',\n",
    "        'name': 'Microsoft Research Paraphrase Corpus',\n",
    "        'description': 'Predict whether two sentences are semantically equivalent',\n",
    "        'task_type': 'Similarity and Paraphrase Tasks',\n",
    "        'domain': 'News',\n",
    "        'size': '3.7k',\n",
    "        'metrics': 'F1/Accuracy',\n",
    "        'dataset_names': {'train': 'train', 'valid': 'validation', 'test': 'test'},\n",
    "        'inputs': ['sentence1', 'sentence2'],\n",
    "        'target': 'label',\n",
    "        'metric_funcs': [F1Score(), accuracy],\n",
    "        'n_labels': 2\n",
    "    },\n",
    "    'stsb': {\n",
    "        'abbr': 'SST-B',\n",
    "        'name': 'Semantic Textual Similarity Benchmark',\n",
    "        'description': 'Predict the similarity score for two sentences on a scale from 1 to 5',\n",
    "        'task_type': 'Similarity and Paraphrase Tasks',\n",
    "        'domain': 'Misc.',\n",
    "        'size': '7k',\n",
    "        'metrics': 'Pearson/Spearman corr.',\n",
    "        'dataset_names': {'train': 'train', 'valid': 'validation', 'test': 'test'},\n",
    "        'inputs': ['sentence1', 'sentence2'],\n",
    "        'target': 'label',\n",
    "        'metric_funcs': [PearsonCorrCoef(), SpearmanCorrCoef()],\n",
    "        'n_labels': 1\n",
    "    },\n",
    "    'qqp': {\n",
    "        'abbr': 'QQP',\n",
    "        'name': 'Quora question pair',\n",
    "        'description': 'Predict if two questions are a paraphrase of one another',\n",
    "        'task_type': 'Similarity and Paraphrase Tasks',\n",
    "        'domain': 'Social QA questions',\n",
    "        'size': '364k',\n",
    "        'metrics': 'F1/Accuracy',\n",
    "        'dataset_names': {'train': 'train', 'valid': 'validation', 'test': 'test'},\n",
    "        'inputs': ['question1', 'question2'],\n",
    "        'target': 'label',\n",
    "        'metric_funcs': [F1Score(), accuracy],\n",
    "        'n_labels': 2\n",
    "    },\n",
    "    \n",
    "    'mnli': {\n",
    "        'abbr': 'MNLI',\n",
    "        'name': 'Mulit-Genre Natural Language Inference',\n",
    "        'description': 'Predict whether the premise entails, contradicts or is neutral to the hypothesis',\n",
    "        'task_type': 'Inference Tasks',\n",
    "        'domain': 'Misc.',\n",
    "        'size': '393k',\n",
    "        'metrics': 'Accuracy',\n",
    "        'dataset_names': {'train': 'train', 'valid': 'validation-matched', 'test': 'test'},\n",
    "        'inputs': ['premise', 'hypothesis'],\n",
    "        'target': 'label',\n",
    "        'metric_funcs': [accuracy],\n",
    "        'n_labels': 3\n",
    "    },\n",
    "    'qnli': {\n",
    "        'abbr': 'QNLI',\n",
    "        'name': 'Stanford Question Answering Dataset',\n",
    "        'description': 'Predict whether the context sentence contains the answer to the question',\n",
    "        'task_type': 'Inference Tasks',\n",
    "        'domain': 'Wikipedia',\n",
    "        'size': '105k',\n",
    "        'metrics': 'Accuracy',\n",
    "        'dataset_names': {'train': 'train', 'valid': 'validation', 'test': 'test'},\n",
    "        'inputs': ['question', 'sentence'],\n",
    "        'target': 'label',\n",
    "        'metric_funcs': [accuracy],\n",
    "        'n_labels': 2\n",
    "    },\n",
    "    'rte': {\n",
    "        'abbr': 'RTE',\n",
    "        'name': 'Recognize Textual Entailment',\n",
    "        'description': 'Predict whether one sentece entails another',\n",
    "        'task_type': 'Inference Tasks',\n",
    "        'domain': 'News, Wikipedia',\n",
    "        'size': '2.5k',\n",
    "        'metrics': 'Accuracy',\n",
    "        'dataset_names': {'train': 'train', 'valid': 'validation', 'test': 'test'},\n",
    "        'inputs': ['sentence1', 'sentence2'],\n",
    "        'target': 'label',\n",
    "        'metric_funcs': [accuracy],\n",
    "        'n_labels': 2\n",
    "    },\n",
    "    'wnli': {\n",
    "        'abbr': 'WNLI',\n",
    "        'name': 'Winograd Schema Challenge',\n",
    "        'description': 'Predict if the sentence with the pronoun substituted is entailed by the original sentence',\n",
    "        'task_type': 'Inference Tasks',\n",
    "        'domain': 'Fiction books',\n",
    "        'size': '634',\n",
    "        'metrics': 'Accuracy',\n",
    "        'dataset_names': {'train': 'train', 'valid': 'validation', 'test': 'test'},\n",
    "        'inputs': ['sentence1', 'sentence2'],\n",
    "        'target': 'label',\n",
    "        'metric_funcs': [accuracy],\n",
    "        'n_labels': 2\n",
    "    }\n",
    "}\n",
    "\n",
    "# for v in glue_tasks.values(): print(v)\n",
    "glue_tasks.values()\n",
    "\n",
    "glue_df = pd.DataFrame(glue_tasks.values(), columns=['abbr', 'name', 'task_type', 'description', 'size', 'metrics'])\n",
    "glue_df.columns = glue_df.columns.str.replace('_', ' ').str.capitalize()\n",
    "glue_df.style.hide_index()"
   ]
  },
  {
   "cell_type": "markdown",
   "metadata": {},
   "source": [
    "## Define the task and hyperparmeters"
   ]
  },
  {
   "cell_type": "markdown",
   "metadata": {},
   "source": [
    "We'll use the \"distilroberta-base\" checkpoint for this example, but if you want to try an architecture that returns `token_type_ids` for example, you can use something like bert-cased."
   ]
  },
  {
   "cell_type": "code",
   "execution_count": null,
   "metadata": {},
   "outputs": [],
   "source": [
    "task = 'mrpc'\n",
    "task_meta = glue_tasks[task]\n",
    "train_ds_name = task_meta['dataset_names'][\"train\"]\n",
    "valid_ds_name = task_meta['dataset_names'][\"valid\"]\n",
    "test_ds_name = task_meta['dataset_names'][\"test\"]\n",
    "\n",
    "task_inputs =  task_meta['inputs']\n",
    "task_target =  task_meta['target']\n",
    "task_metrics = task_meta['metric_funcs']\n",
    "\n",
    "pretrained_model_name = \"distilroberta-base\" # bert-base-cased | distilroberta-base\n",
    "\n",
    "bsz = 16\n",
    "val_bsz = bsz *2"
   ]
  },
  {
   "cell_type": "markdown",
   "metadata": {},
   "source": [
    "## Raw data"
   ]
  },
  {
   "cell_type": "markdown",
   "metadata": {},
   "source": [
    "Let's start by building our `DataBlock`.  We'll load the MRPC datset from huggingface's `datasets` library which will be cached after downloading via the `load_dataset` method.  For more information on the `datasets` API, see the documentation here."
   ]
  },
  {
   "cell_type": "code",
   "execution_count": null,
   "metadata": {},
   "outputs": [
    {
     "name": "stderr",
     "output_type": "stream",
     "text": [
      "Reusing dataset glue (/home/wgilliam/.cache/huggingface/datasets/glue/mrpc/1.0.0/dacbe3125aa31d7f70367a07a8a9e72a5a0bfeb5fc42e75c9db75b96da6053ad)\n"
     ]
    },
    {
     "name": "stdout",
     "output_type": "stream",
     "text": [
      "DatasetDict({\n",
      "    train: Dataset({\n",
      "        features: ['sentence1', 'sentence2', 'label', 'idx'],\n",
      "        num_rows: 3668\n",
      "    })\n",
      "    validation: Dataset({\n",
      "        features: ['sentence1', 'sentence2', 'label', 'idx'],\n",
      "        num_rows: 408\n",
      "    })\n",
      "    test: Dataset({\n",
      "        features: ['sentence1', 'sentence2', 'label', 'idx'],\n",
      "        num_rows: 1725\n",
      "    })\n",
      "})\n",
      "\n",
      "{'idx': 0, 'label': 1, 'sentence1': 'Amrozi accused his brother , whom he called \" the witness \" , of deliberately distorting his evidence .', 'sentence2': 'Referring to him as only \" the witness \" , Amrozi accused his brother of deliberately distorting his evidence .'}\n",
      "\n",
      "{'sentence1': Value(dtype='string', id=None), 'sentence2': Value(dtype='string', id=None), 'label': ClassLabel(num_classes=2, names=['not_equivalent', 'equivalent'], names_file=None, id=None), 'idx': Value(dtype='int32', id=None)}\n",
      "\n"
     ]
    }
   ],
   "source": [
    "raw_datasets = load_dataset('glue', task) \n",
    "print(f'{raw_datasets}\\n')\n",
    "print(f'{raw_datasets[train_ds_name][0]}\\n')\n",
    "print(f'{raw_datasets[train_ds_name].features}\\n')"
   ]
  },
  {
   "cell_type": "markdown",
   "metadata": {},
   "source": [
    "## Prepare the huggingface objects"
   ]
  },
  {
   "cell_type": "markdown",
   "metadata": {},
   "source": [
    "My #1 answer as to the question, \"Why aren't my transformers training?\", is that you likely don't have `num_labels` set correctly.  The default for sequence classification tasks is 2, and even though that is what we have here, let's show how to set this either way."
   ]
  },
  {
   "cell_type": "code",
   "execution_count": null,
   "metadata": {},
   "outputs": [
    {
     "data": {
      "text/plain": [
       "2"
      ]
     },
     "execution_count": null,
     "metadata": {},
     "output_type": "execute_result"
    }
   ],
   "source": [
    "n_lbls = raw_datasets[train_ds_name].features[task_target].num_classes\n",
    "n_lbls"
   ]
  },
  {
   "cell_type": "code",
   "execution_count": null,
   "metadata": {},
   "outputs": [
    {
     "name": "stdout",
     "output_type": "stream",
     "text": [
      "roberta\n",
      "<class 'transformers.models.roberta.configuration_roberta.RobertaConfig'>\n",
      "<class 'transformers.models.roberta.tokenization_roberta_fast.RobertaTokenizerFast'>\n",
      "<class 'transformers.models.roberta.modeling_roberta.RobertaForSequenceClassification'>\n"
     ]
    }
   ],
   "source": [
    "model_cls = AutoModelForSequenceClassification\n",
    "\n",
    "hf_arch, hf_config, hf_tokenizer, hf_model = BLURR.get_hf_objects(pretrained_model_name, \n",
    "                                                                  model_cls=model_cls, \n",
    "                                                                  config_kwargs={'num_labels': n_lbls})\n",
    "\n",
    "print(hf_arch)\n",
    "print(type(hf_config))\n",
    "print(type(hf_tokenizer))\n",
    "print(type(hf_model))"
   ]
  },
  {
   "cell_type": "markdown",
   "metadata": {},
   "source": [
    "## Build the tokenized datasets"
   ]
  },
  {
   "cell_type": "markdown",
   "metadata": {},
   "source": [
    "Tokenize (and numericalize) the raw text using the `datasets.map` function, and then remove unnecessary and/or problematic attributes from the resulting tokenized dataset (e.g., things like strings that can't be converted to a tensor)"
   ]
  },
  {
   "cell_type": "code",
   "execution_count": null,
   "metadata": {},
   "outputs": [
    {
     "data": {
      "application/vnd.jupyter.widget-view+json": {
       "model_id": "52a24ae135b6413fb2ddf92d013e8990",
       "version_major": 2,
       "version_minor": 0
      },
      "text/plain": [
       "  0%|          | 0/4 [00:00<?, ?ba/s]"
      ]
     },
     "metadata": {},
     "output_type": "display_data"
    },
    {
     "data": {
      "application/vnd.jupyter.widget-view+json": {
       "model_id": "c9cc16aa971f463b983c8d6fbe4dc093",
       "version_major": 2,
       "version_minor": 0
      },
      "text/plain": [
       "  0%|          | 0/1 [00:00<?, ?ba/s]"
      ]
     },
     "metadata": {},
     "output_type": "display_data"
    },
    {
     "data": {
      "application/vnd.jupyter.widget-view+json": {
       "model_id": "c6b9d0efafa04d8d8cda302918eef013",
       "version_major": 2,
       "version_minor": 0
      },
      "text/plain": [
       "  0%|          | 0/2 [00:00<?, ?ba/s]"
      ]
     },
     "metadata": {},
     "output_type": "display_data"
    }
   ],
   "source": [
    "def tokenize_function(example):\n",
    "    return hf_tokenizer(*[example[inp] for inp in task_inputs ], truncation=True)\n",
    "\n",
    "tokenized_datasets = raw_datasets.map(tokenize_function, batched=True)"
   ]
  },
  {
   "cell_type": "code",
   "execution_count": null,
   "metadata": {},
   "outputs": [
    {
     "data": {
      "text/plain": [
       "['attention_mask', 'input_ids', 'label']"
      ]
     },
     "execution_count": null,
     "metadata": {},
     "output_type": "execute_result"
    }
   ],
   "source": [
    "tokenized_datasets = tokenized_datasets.remove_columns(task_inputs + ['idx'])\n",
    "tokenized_datasets[\"train\"].column_names"
   ]
  },
  {
   "cell_type": "markdown",
   "metadata": {},
   "source": [
    "## 1. Using PyTorch DataLoaders"
   ]
  },
  {
   "cell_type": "markdown",
   "metadata": {},
   "source": [
    "### Build the DataLoaders"
   ]
  },
  {
   "cell_type": "markdown",
   "metadata": {},
   "source": [
    "We have to augment the default `DataCollatorWithPadding` method to return a tuple of inputs/targets. As huggingface returns a `BatchEncoding` object after the call to `DataCollatorWithPadding`, we convert it to a `dict` so that fastai can put the batches on the correct device for training"
   ]
  },
  {
   "cell_type": "code",
   "execution_count": null,
   "metadata": {},
   "outputs": [],
   "source": [
    "@dataclass\n",
    "class Blurr_DataCollatorWithPadding(DataCollatorWithPadding):\n",
    "    def __call__(self, features):\n",
    "        batch = super().__call__(features)\n",
    "        return dict(batch), batch['labels']"
   ]
  },
  {
   "cell_type": "markdown",
   "metadata": {},
   "source": [
    "Build the plain ol' PyTorch `DataLoaders`"
   ]
  },
  {
   "cell_type": "code",
   "execution_count": null,
   "metadata": {},
   "outputs": [],
   "source": [
    "data_collator = Blurr_DataCollatorWithPadding(tokenizer=hf_tokenizer)\n",
    "\n",
    "train_dataloader = torch.utils.data.DataLoader(tokenized_datasets[train_ds_name], shuffle=True, batch_size=bsz, \n",
    "                                               collate_fn=data_collator)\n",
    "\n",
    "eval_dataloader = torch.utils.data.DataLoader(tokenized_datasets[valid_ds_name], batch_size=val_bsz, \n",
    "                                              collate_fn=data_collator)"
   ]
  },
  {
   "cell_type": "code",
   "execution_count": null,
   "metadata": {},
   "outputs": [],
   "source": [
    "dls = DataLoaders(train_dataloader, eval_dataloader)"
   ]
  },
  {
   "cell_type": "code",
   "execution_count": null,
   "metadata": {},
   "outputs": [
    {
     "data": {
      "text/plain": [
       "(torch.Size([16, 80]),\n",
       " torch.Size([16]),\n",
       " device(type='cpu'),\n",
       " device(type='cpu'))"
      ]
     },
     "execution_count": null,
     "metadata": {},
     "output_type": "execute_result"
    }
   ],
   "source": [
    "for b in dls.train: break\n",
    "b[0]['input_ids'].shape, b[1].shape, b[0]['input_ids'].device, b[1].device"
   ]
  },
  {
   "cell_type": "markdown",
   "metadata": {},
   "source": [
    "### Train"
   ]
  },
  {
   "cell_type": "markdown",
   "metadata": {},
   "source": [
    "With our plain ol' PyTorch DataLoaders built, we can now build our `Learner` and train. \n",
    "\n",
    "**Note**: Certain fastai methods like `dls.one_batch`, `get_preds` and `dls.test_dl` won't work with standard PyTorch DataLoaders ... but we'll show how to remedy that in a moment :)"
   ]
  },
  {
   "cell_type": "code",
   "execution_count": null,
   "metadata": {},
   "outputs": [],
   "source": [
    "model = HF_BaseModelWrapper(hf_model)\n",
    "\n",
    "learn = Learner(dls, \n",
    "                model,\n",
    "                opt_func=partial(Adam),\n",
    "                loss_func=HF_PreCalculatedLoss(),\n",
    "                metrics=task_metrics,\n",
    "                cbs=[HF_BaseModelCallback],\n",
    "                splitter=hf_splitter).to_fp16()\n",
    "\n",
    "learn.freeze()"
   ]
  },
  {
   "cell_type": "code",
   "execution_count": null,
   "metadata": {},
   "outputs": [],
   "source": [
    "# learn.summary() # ... won't work :("
   ]
  },
  {
   "cell_type": "code",
   "execution_count": null,
   "metadata": {},
   "outputs": [
    {
     "data": {
      "text/html": [],
      "text/plain": [
       "<IPython.core.display.HTML object>"
      ]
     },
     "metadata": {},
     "output_type": "display_data"
    },
    {
     "name": "stderr",
     "output_type": "stream",
     "text": [
      "/home/wgilliam/miniconda3/envs/blurr/lib/python3.9/site-packages/fastai/callback/schedule.py:270: UserWarning: color is redundantly defined by the 'color' keyword argument and the fmt string \"ro\" (-> color='r'). The keyword argument will take precedence.\n",
      "  ax.plot(val, idx, 'ro', label=nm, c=color)\n"
     ]
    },
    {
     "data": {
      "text/plain": [
       "SuggestedLRs(minimum=4.786300996784121e-05, steep=6.309573450380412e-07, valley=tensor(0.0007), slide=tensor(0.0021))"
      ]
     },
     "execution_count": null,
     "metadata": {},
     "output_type": "execute_result"
    },
    {
     "data": {
      "image/png": "[encoded data removed]",
      "text/plain": [
       "<Figure size 640x480 with 1 Axes>"
      ]
     },
     "metadata": {},
     "output_type": "display_data"
    }
   ],
   "source": [
    "learn.lr_find(suggest_funcs=[minimum, steep, valley, slide])"
   ]
  },
  {
   "cell_type": "code",
   "execution_count": null,
   "metadata": {},
   "outputs": [
    {
     "data": {
      "text/html": [
       "<table border=\"1\" class=\"dataframe\">\n",
       "  <thead>\n",
       "    <tr style=\"text-align: left;\">\n",
       "      <th>epoch</th>\n",
       "      <th>train_loss</th>\n",
       "      <th>valid_loss</th>\n",
       "      <th>f1_score</th>\n",
       "      <th>accuracy</th>\n",
       "      <th>time</th>\n",
       "    </tr>\n",
       "  </thead>\n",
       "  <tbody>\n",
       "    <tr>\n",
       "      <td>0</td>\n",
       "      <td>0.576206</td>\n",
       "      <td>0.500343</td>\n",
       "      <td>0.834646</td>\n",
       "      <td>0.742647</td>\n",
       "      <td>00:11</td>\n",
       "    </tr>\n",
       "  </tbody>\n",
       "</table>"
      ],
      "text/plain": [
       "<IPython.core.display.HTML object>"
      ]
     },
     "metadata": {},
     "output_type": "display_data"
    }
   ],
   "source": [
    "learn.fit_one_cycle(1, lr_max=2e-3)"
   ]
  },
  {
   "cell_type": "code",
   "execution_count": null,
   "metadata": {},
   "outputs": [
    {
     "data": {
      "text/html": [],
      "text/plain": [
       "<IPython.core.display.HTML object>"
      ]
     },
     "metadata": {},
     "output_type": "display_data"
    },
    {
     "name": "stderr",
     "output_type": "stream",
     "text": [
      "/home/wgilliam/miniconda3/envs/blurr/lib/python3.9/site-packages/fastai/callback/schedule.py:270: UserWarning: color is redundantly defined by the 'color' keyword argument and the fmt string \"ro\" (-> color='r'). The keyword argument will take precedence.\n",
      "  ax.plot(val, idx, 'ro', label=nm, c=color)\n"
     ]
    },
    {
     "data": {
      "text/plain": [
       "SuggestedLRs(minimum=1.3065426344993637e-12, steep=1.0546620000939644e-11, valley=tensor(7.6342e-06), slide=tensor(1.1716e-05))"
      ]
     },
     "execution_count": null,
     "metadata": {},
     "output_type": "execute_result"
    },
    {
     "data": {
      "image/png": "[encoded data removed]",
      "text/plain": [
       "<Figure size 640x480 with 1 Axes>"
      ]
     },
     "metadata": {},
     "output_type": "display_data"
    }
   ],
   "source": [
    "learn.unfreeze()\n",
    "learn.lr_find(start_lr=1e-12, end_lr=2e-3, suggest_funcs=[minimum, steep, valley, slide])"
   ]
  },
  {
   "cell_type": "code",
   "execution_count": null,
   "metadata": {},
   "outputs": [
    {
     "data": {
      "text/html": [
       "<table border=\"1\" class=\"dataframe\">\n",
       "  <thead>\n",
       "    <tr style=\"text-align: left;\">\n",
       "      <th>epoch</th>\n",
       "      <th>train_loss</th>\n",
       "      <th>valid_loss</th>\n",
       "      <th>f1_score</th>\n",
       "      <th>accuracy</th>\n",
       "      <th>time</th>\n",
       "    </tr>\n",
       "  </thead>\n",
       "  <tbody>\n",
       "    <tr>\n",
       "      <td>0</td>\n",
       "      <td>0.447772</td>\n",
       "      <td>0.412896</td>\n",
       "      <td>0.878289</td>\n",
       "      <td>0.818627</td>\n",
       "      <td>00:19</td>\n",
       "    </tr>\n",
       "    <tr>\n",
       "      <td>1</td>\n",
       "      <td>0.301240</td>\n",
       "      <td>0.307498</td>\n",
       "      <td>0.911032</td>\n",
       "      <td>0.877451</td>\n",
       "      <td>00:19</td>\n",
       "    </tr>\n",
       "  </tbody>\n",
       "</table>"
      ],
      "text/plain": [
       "<IPython.core.display.HTML object>"
      ]
     },
     "metadata": {},
     "output_type": "display_data"
    }
   ],
   "source": [
    "learn.fit_one_cycle(2, lr_max=slice(2e-5, 2e-4))"
   ]
  },
  {
   "cell_type": "markdown",
   "metadata": {},
   "source": [
    "### Evaluate"
   ]
  },
  {
   "cell_type": "markdown",
   "metadata": {},
   "source": [
    "How did we do?"
   ]
  },
  {
   "cell_type": "code",
   "execution_count": null,
   "metadata": {},
   "outputs": [
    {
     "data": {
      "text/html": [],
      "text/plain": [
       "<IPython.core.display.HTML object>"
      ]
     },
     "metadata": {},
     "output_type": "display_data"
    }
   ],
   "source": [
    "val_res = learn.validate()"
   ]
  },
  {
   "cell_type": "code",
   "execution_count": null,
   "metadata": {},
   "outputs": [
    {
     "data": {
      "text/plain": [
       "{'loss': 0.3074977993965149,\n",
       " 'f1_score': 0.911032028469751,\n",
       " 'accuracy': 0.8774510025978088}"
      ]
     },
     "execution_count": null,
     "metadata": {},
     "output_type": "execute_result"
    }
   ],
   "source": [
    "val_res_d = { 'loss': val_res[0]}\n",
    "for idx, m in enumerate(learn.metrics): val_res_d[m.name] = val_res[idx+1]\n",
    "    \n",
    "val_res_d"
   ]
  },
  {
   "cell_type": "code",
   "execution_count": null,
   "metadata": {},
   "outputs": [],
   "source": [
    "# preds, targs = learn.get_preds()  # ... won't work :("
   ]
  },
  {
   "cell_type": "markdown",
   "metadata": {},
   "source": [
    "### Inference"
   ]
  },
  {
   "cell_type": "markdown",
   "metadata": {},
   "source": [
    "Let's do **item inference** on an example from our test dataset"
   ]
  },
  {
   "cell_type": "code",
   "execution_count": null,
   "metadata": {},
   "outputs": [
    {
     "data": {
      "text/html": [
       "<div>\n",
       "<style scoped>\n",
       "    .dataframe tbody tr th:only-of-type {\n",
       "        vertical-align: middle;\n",
       "    }\n",
       "\n",
       "    .dataframe tbody tr th {\n",
       "        vertical-align: top;\n",
       "    }\n",
       "\n",
       "    .dataframe thead th {\n",
       "        text-align: right;\n",
       "    }\n",
       "</style>\n",
       "<table border=\"1\" class=\"dataframe\">\n",
       "  <thead>\n",
       "    <tr style=\"text-align: right;\">\n",
       "      <th></th>\n",
       "      <th>idx</th>\n",
       "      <th>label</th>\n",
       "      <th>sentence1</th>\n",
       "      <th>sentence2</th>\n",
       "    </tr>\n",
       "  </thead>\n",
       "  <tbody>\n",
       "    <tr>\n",
       "      <th>0</th>\n",
       "      <td>0</td>\n",
       "      <td>1</td>\n",
       "      <td>PCCW 's chief operating officer , Mike Butcher , and Alex Arena , the chief financial officer , will report directly to Mr So .</td>\n",
       "      <td>Current Chief Operating Officer Mike Butcher and Group Chief Financial Officer Alex Arena will report to So .</td>\n",
       "    </tr>\n",
       "    <tr>\n",
       "      <th>1</th>\n",
       "      <td>1</td>\n",
       "      <td>1</td>\n",
       "      <td>The world 's two largest automakers said their U.S. sales declined more than predicted last month as a late summer sales frenzy caused more of an industry backlash than expected .</td>\n",
       "      <td>Domestic sales at both GM and No. 2 Ford Motor Co. declined more than predicted as a late summer sales frenzy prompted a larger-than-expected industry backlash .</td>\n",
       "    </tr>\n",
       "    <tr>\n",
       "      <th>2</th>\n",
       "      <td>2</td>\n",
       "      <td>1</td>\n",
       "      <td>According to the federal Centers for Disease Control and Prevention ( news - web sites ) , there were 19 reported cases of measles in the United States in 2002 .</td>\n",
       "      <td>The Centers for Disease Control and Prevention said there were 19 reported cases of measles in the United States in 2002 .</td>\n",
       "    </tr>\n",
       "    <tr>\n",
       "      <th>3</th>\n",
       "      <td>3</td>\n",
       "      <td>0</td>\n",
       "      <td>A tropical storm rapidly developed in the Gulf of Mexico Sunday and was expected to hit somewhere along the Texas or Louisiana coasts by Monday night .</td>\n",
       "      <td>A tropical storm rapidly developed in the Gulf of Mexico on Sunday and could have hurricane-force winds when it hits land somewhere along the Louisiana coast Monday night .</td>\n",
       "    </tr>\n",
       "    <tr>\n",
       "      <th>4</th>\n",
       "      <td>4</td>\n",
       "      <td>0</td>\n",
       "      <td>The company didn 't detail the costs of the replacement and repairs .</td>\n",
       "      <td>But company officials expect the costs of the replacement work to run into the millions of dollars .</td>\n",
       "    </tr>\n",
       "  </tbody>\n",
       "</table>\n",
       "</div>"
      ],
      "text/plain": [
       "   idx  label  \\\n",
       "0    0      1   \n",
       "1    1      1   \n",
       "2    2      1   \n",
       "3    3      0   \n",
       "4    4      0   \n",
       "\n",
       "                                                                                                                                                                             sentence1  \\\n",
       "0                                                      PCCW 's chief operating officer , Mike Butcher , and Alex Arena , the chief financial officer , will report directly to Mr So .   \n",
       "1  The world 's two largest automakers said their U.S. sales declined more than predicted last month as a late summer sales frenzy caused more of an industry backlash than expected .   \n",
       "2                    According to the federal Centers for Disease Control and Prevention ( news - web sites ) , there were 19 reported cases of measles in the United States in 2002 .   \n",
       "3                              A tropical storm rapidly developed in the Gulf of Mexico Sunday and was expected to hit somewhere along the Texas or Louisiana coasts by Monday night .   \n",
       "4                                                                                                                The company didn 't detail the costs of the replacement and repairs .   \n",
       "\n",
       "                                                                                                                                                                      sentence2  \n",
       "0                                                                 Current Chief Operating Officer Mike Butcher and Group Chief Financial Officer Alex Arena will report to So .  \n",
       "1             Domestic sales at both GM and No. 2 Ford Motor Co. declined more than predicted as a late summer sales frenzy prompted a larger-than-expected industry backlash .  \n",
       "2                                                    The Centers for Disease Control and Prevention said there were 19 reported cases of measles in the United States in 2002 .  \n",
       "3  A tropical storm rapidly developed in the Gulf of Mexico on Sunday and could have hurricane-force winds when it hits land somewhere along the Louisiana coast Monday night .  \n",
       "4                                                                          But company officials expect the costs of the replacement work to run into the millions of dollars .  "
      ]
     },
     "execution_count": null,
     "metadata": {},
     "output_type": "execute_result"
    }
   ],
   "source": [
    "raw_test_df = raw_datasets[test_ds_name].to_pandas()\n",
    "raw_test_df.head()"
   ]
  },
  {
   "cell_type": "code",
   "execution_count": null,
   "metadata": {},
   "outputs": [],
   "source": [
    "test_ex_idx = 0\n",
    "test_ex = raw_test_df.iloc[test_ex_idx][task_inputs].values.tolist()"
   ]
  },
  {
   "cell_type": "code",
   "execution_count": null,
   "metadata": {},
   "outputs": [],
   "source": [
    "inputs = hf_tokenizer(*test_ex, return_tensors=\"pt\").to('cuda:1')"
   ]
  },
  {
   "cell_type": "code",
   "execution_count": null,
   "metadata": {},
   "outputs": [
    {
     "data": {
      "text/plain": [
       "tensor([[-2.8143,  1.8015]], device='cuda:1', grad_fn=<AddmmBackward>)"
      ]
     },
     "execution_count": null,
     "metadata": {},
     "output_type": "execute_result"
    }
   ],
   "source": [
    "outputs = hf_model(**inputs)\n",
    "outputs.logits"
   ]
  },
  {
   "cell_type": "code",
   "execution_count": null,
   "metadata": {},
   "outputs": [
    {
     "data": {
      "text/plain": [
       "tensor(1, device='cuda:1')"
      ]
     },
     "execution_count": null,
     "metadata": {},
     "output_type": "execute_result"
    }
   ],
   "source": [
    "torch.argmax(torch.softmax(outputs.logits, dim=-1))"
   ]
  },
  {
   "cell_type": "markdown",
   "metadata": {},
   "source": [
    "Let's do **batch inference** on the entire test dataset"
   ]
  },
  {
   "cell_type": "code",
   "execution_count": null,
   "metadata": {},
   "outputs": [],
   "source": [
    "# test_dl = dls.test_dl(tokenized_datasets[test_ds_name]) # ... won't work :(\n",
    "\n",
    "test_dataloader = torch.utils.data.DataLoader(tokenized_datasets[test_ds_name], shuffle=False, batch_size=val_bsz, \n",
    "                                               collate_fn=data_collator)\n",
    "\n",
    "hf_model.eval()\n",
    "\n",
    "probs, preds = [], []\n",
    "for xb,yb in test_dataloader: \n",
    "    xb = to_device(xb,'cuda')\n",
    "    with torch.no_grad(): \n",
    "        outputs = hf_model(**xb)\n",
    "        \n",
    "    logits = outputs.logits\n",
    "    predictions = torch.argmax(logits, dim=-1)\n",
    "    \n",
    "    probs.append(logits)\n",
    "    preds.append(predictions)"
   ]
  },
  {
   "cell_type": "code",
   "execution_count": null,
   "metadata": {},
   "outputs": [
    {
     "name": "stdout",
     "output_type": "stream",
     "text": [
      "torch.Size([1725, 2]) torch.Size([1725])\n"
     ]
    }
   ],
   "source": [
    "all_probs = torch.cat(probs, dim=0)\n",
    "all_preds = torch.cat(preds, dim=0)\n",
    "\n",
    "print(all_probs.shape, all_preds.shape)"
   ]
  },
  {
   "cell_type": "markdown",
   "metadata": {},
   "source": [
    "## 2. Using fastai DataLoaders"
   ]
  },
  {
   "cell_type": "markdown",
   "metadata": {},
   "source": [
    "Let's start with a fresh set of huggingface objects"
   ]
  },
  {
   "cell_type": "code",
   "execution_count": null,
   "metadata": {},
   "outputs": [],
   "source": [
    "hf_arch, hf_config, hf_tokenizer, hf_model = BLURR.get_hf_objects(pretrained_model_name, \n",
    "                                                                  model_cls=model_cls, \n",
    "                                                                  config_kwargs={'num_labels': n_lbls})"
   ]
  },
  {
   "cell_type": "markdown",
   "metadata": {},
   "source": [
    "... ***and the fix is this simple!***  Instead of using the PyTorch Dataloaders, let's use the fastai flavor like this ..."
   ]
  },
  {
   "cell_type": "code",
   "execution_count": null,
   "metadata": {},
   "outputs": [],
   "source": [
    "data_collator = Blurr_DataCollatorWithPadding(tokenizer=hf_tokenizer)\n",
    "\n",
    "train_dataloader = DataLoader(tokenized_datasets[train_ds_name], shuffle=True, batch_size=bsz, \n",
    "                              create_batch=data_collator)\n",
    "\n",
    "eval_dataloader = DataLoader(tokenized_datasets[valid_ds_name], batch_size=val_bsz, \n",
    "                             create_batch=data_collator)"
   ]
  },
  {
   "cell_type": "markdown",
   "metadata": {},
   "source": [
    "Everything else is the same ... ***but*** now we get a bit more of the fastai features back"
   ]
  },
  {
   "cell_type": "markdown",
   "metadata": {},
   "source": [
    "### Build the DataLoaders"
   ]
  },
  {
   "cell_type": "code",
   "execution_count": null,
   "metadata": {},
   "outputs": [],
   "source": [
    "dls = DataLoaders(train_dataloader, eval_dataloader)"
   ]
  },
  {
   "cell_type": "code",
   "execution_count": null,
   "metadata": {},
   "outputs": [
    {
     "data": {
      "text/plain": [
       "(torch.Size([16, 70]),\n",
       " torch.Size([16]),\n",
       " device(type='cpu'),\n",
       " device(type='cpu'))"
      ]
     },
     "execution_count": null,
     "metadata": {},
     "output_type": "execute_result"
    }
   ],
   "source": [
    "b = dls.one_batch()\n",
    "b[0]['input_ids'].shape, b[1].shape, b[0]['input_ids'].device, b[1].device"
   ]
  },
  {
   "cell_type": "markdown",
   "metadata": {},
   "source": [
    "### Train"
   ]
  },
  {
   "cell_type": "code",
   "execution_count": null,
   "metadata": {},
   "outputs": [],
   "source": [
    "model = HF_BaseModelWrapper(hf_model)\n",
    "\n",
    "learn = Learner(dls, \n",
    "                model,\n",
    "                opt_func=partial(Adam),\n",
    "                loss_func=HF_PreCalculatedLoss(),\n",
    "                metrics=task_metrics,\n",
    "                cbs=[HF_BaseModelCallback],\n",
    "                splitter=hf_splitter).to_fp16()\n",
    "\n",
    "learn.freeze()"
   ]
  },
  {
   "cell_type": "code",
   "execution_count": null,
   "metadata": {},
   "outputs": [
    {
     "data": {
      "text/html": [],
      "text/plain": [
       "<IPython.core.display.HTML object>"
      ]
     },
     "metadata": {},
     "output_type": "display_data"
    },
    {
     "name": "stderr",
     "output_type": "stream",
     "text": [
      "/home/wgilliam/miniconda3/envs/blurr/lib/python3.9/site-packages/fastai/callback/schedule.py:270: UserWarning: color is redundantly defined by the 'color' keyword argument and the fmt string \"ro\" (-> color='r'). The keyword argument will take precedence.\n",
      "  ax.plot(val, idx, 'ro', label=nm, c=color)\n"
     ]
    },
    {
     "data": {
      "text/plain": [
       "SuggestedLRs(minimum=0.0019054606556892395, steep=0.00010964782268274575, valley=tensor(0.0006), slide=tensor(0.0012))"
      ]
     },
     "execution_count": null,
     "metadata": {},
     "output_type": "execute_result"
    },
    {
     "data": {
      "image/png": "[encoded data removed]",
      "text/plain": [
       "<Figure size 640x480 with 1 Axes>"
      ]
     },
     "metadata": {},
     "output_type": "display_data"
    }
   ],
   "source": [
    "learn.lr_find(suggest_funcs=[minimum, steep, valley, slide])"
   ]
  },
  {
   "cell_type": "code",
   "execution_count": null,
   "metadata": {},
   "outputs": [
    {
     "data": {
      "text/html": [
       "<table border=\"1\" class=\"dataframe\">\n",
       "  <thead>\n",
       "    <tr style=\"text-align: left;\">\n",
       "      <th>epoch</th>\n",
       "      <th>train_loss</th>\n",
       "      <th>valid_loss</th>\n",
       "      <th>f1_score</th>\n",
       "      <th>accuracy</th>\n",
       "      <th>time</th>\n",
       "    </tr>\n",
       "  </thead>\n",
       "  <tbody>\n",
       "    <tr>\n",
       "      <td>0</td>\n",
       "      <td>0.520931</td>\n",
       "      <td>0.479620</td>\n",
       "      <td>0.847826</td>\n",
       "      <td>0.759804</td>\n",
       "      <td>00:11</td>\n",
       "    </tr>\n",
       "  </tbody>\n",
       "</table>"
      ],
      "text/plain": [
       "<IPython.core.display.HTML object>"
      ]
     },
     "metadata": {},
     "output_type": "display_data"
    }
   ],
   "source": [
    "learn.fit_one_cycle(1, lr_max=2e-3)"
   ]
  },
  {
   "cell_type": "code",
   "execution_count": null,
   "metadata": {},
   "outputs": [
    {
     "data": {
      "text/html": [],
      "text/plain": [
       "<IPython.core.display.HTML object>"
      ]
     },
     "metadata": {},
     "output_type": "display_data"
    },
    {
     "name": "stderr",
     "output_type": "stream",
     "text": [
      "/home/wgilliam/miniconda3/envs/blurr/lib/python3.9/site-packages/fastai/callback/schedule.py:270: UserWarning: color is redundantly defined by the 'color' keyword argument and the fmt string \"ro\" (-> color='r'). The keyword argument will take precedence.\n",
      "  ax.plot(val, idx, 'ro', label=nm, c=color)\n"
     ]
    },
    {
     "data": {
      "text/plain": [
       "SuggestedLRs(minimum=2.227479490102269e-06, steep=8.513399187004556e-12, valley=tensor(1.3762e-06), slide=tensor(2.2275e-05))"
      ]
     },
     "execution_count": null,
     "metadata": {},
     "output_type": "execute_result"
    },
    {
     "data": {
      "image/png": "[encoded data removed]",
      "text/plain": [
       "<Figure size 640x480 with 1 Axes>"
      ]
     },
     "metadata": {},
     "output_type": "display_data"
    }
   ],
   "source": [
    "learn.unfreeze()\n",
    "learn.lr_find(start_lr=1e-12, end_lr=2e-3, suggest_funcs=[minimum, steep, valley, slide])"
   ]
  },
  {
   "cell_type": "code",
   "execution_count": null,
   "metadata": {},
   "outputs": [
    {
     "data": {
      "text/html": [
       "<table border=\"1\" class=\"dataframe\">\n",
       "  <thead>\n",
       "    <tr style=\"text-align: left;\">\n",
       "      <th>epoch</th>\n",
       "      <th>train_loss</th>\n",
       "      <th>valid_loss</th>\n",
       "      <th>f1_score</th>\n",
       "      <th>accuracy</th>\n",
       "      <th>time</th>\n",
       "    </tr>\n",
       "  </thead>\n",
       "  <tbody>\n",
       "    <tr>\n",
       "      <td>0</td>\n",
       "      <td>0.457834</td>\n",
       "      <td>0.340799</td>\n",
       "      <td>0.895683</td>\n",
       "      <td>0.857843</td>\n",
       "      <td>00:20</td>\n",
       "    </tr>\n",
       "    <tr>\n",
       "      <td>1</td>\n",
       "      <td>0.267792</td>\n",
       "      <td>0.320309</td>\n",
       "      <td>0.899654</td>\n",
       "      <td>0.857843</td>\n",
       "      <td>00:20</td>\n",
       "    </tr>\n",
       "  </tbody>\n",
       "</table>"
      ],
      "text/plain": [
       "<IPython.core.display.HTML object>"
      ]
     },
     "metadata": {},
     "output_type": "display_data"
    }
   ],
   "source": [
    "learn.fit_one_cycle(2, lr_max=slice(2e-5, 2e-4))"
   ]
  },
  {
   "cell_type": "markdown",
   "metadata": {},
   "source": [
    "### Evaluate"
   ]
  },
  {
   "cell_type": "markdown",
   "metadata": {},
   "source": [
    "How did we do?"
   ]
  },
  {
   "cell_type": "code",
   "execution_count": null,
   "metadata": {},
   "outputs": [
    {
     "data": {
      "text/html": [],
      "text/plain": [
       "<IPython.core.display.HTML object>"
      ]
     },
     "metadata": {},
     "output_type": "display_data"
    }
   ],
   "source": [
    "val_res = learn.validate()"
   ]
  },
  {
   "cell_type": "code",
   "execution_count": null,
   "metadata": {},
   "outputs": [
    {
     "data": {
      "text/plain": [
       "{'loss': 0.3203085660934448,\n",
       " 'f1_score': 0.8996539792387542,\n",
       " 'accuracy': 0.8578431606292725}"
      ]
     },
     "execution_count": null,
     "metadata": {},
     "output_type": "execute_result"
    }
   ],
   "source": [
    "val_res_d = { 'loss': val_res[0]}\n",
    "for idx, m in enumerate(learn.metrics): val_res_d[m.name] = val_res[idx+1]\n",
    "    \n",
    "val_res_d"
   ]
  },
  {
   "cell_type": "markdown",
   "metadata": {},
   "source": [
    "Now we can use `Learner.get_preds()`"
   ]
  },
  {
   "cell_type": "code",
   "execution_count": null,
   "metadata": {},
   "outputs": [
    {
     "data": {
      "text/html": [],
      "text/plain": [
       "<IPython.core.display.HTML object>"
      ]
     },
     "metadata": {},
     "output_type": "display_data"
    },
    {
     "name": "stdout",
     "output_type": "stream",
     "text": [
      "torch.Size([408, 2]) torch.Size([408])\n",
      "TensorBase(0.8578)\n"
     ]
    }
   ],
   "source": [
    "preds, targs = learn.get_preds()\n",
    "print(preds.shape, targs.shape)\n",
    "print(accuracy(preds, targs))"
   ]
  },
  {
   "cell_type": "markdown",
   "metadata": {},
   "source": [
    "### Inference"
   ]
  },
  {
   "cell_type": "markdown",
   "metadata": {},
   "source": [
    "Let's do **item inference** on an example from our test dataset"
   ]
  },
  {
   "cell_type": "code",
   "execution_count": null,
   "metadata": {},
   "outputs": [
    {
     "data": {
      "text/html": [
       "<div>\n",
       "<style scoped>\n",
       "    .dataframe tbody tr th:only-of-type {\n",
       "        vertical-align: middle;\n",
       "    }\n",
       "\n",
       "    .dataframe tbody tr th {\n",
       "        vertical-align: top;\n",
       "    }\n",
       "\n",
       "    .dataframe thead th {\n",
       "        text-align: right;\n",
       "    }\n",
       "</style>\n",
       "<table border=\"1\" class=\"dataframe\">\n",
       "  <thead>\n",
       "    <tr style=\"text-align: right;\">\n",
       "      <th></th>\n",
       "      <th>idx</th>\n",
       "      <th>label</th>\n",
       "      <th>sentence1</th>\n",
       "      <th>sentence2</th>\n",
       "    </tr>\n",
       "  </thead>\n",
       "  <tbody>\n",
       "    <tr>\n",
       "      <th>0</th>\n",
       "      <td>0</td>\n",
       "      <td>1</td>\n",
       "      <td>PCCW 's chief operating officer , Mike Butcher , and Alex Arena , the chief financial officer , will report directly to Mr So .</td>\n",
       "      <td>Current Chief Operating Officer Mike Butcher and Group Chief Financial Officer Alex Arena will report to So .</td>\n",
       "    </tr>\n",
       "    <tr>\n",
       "      <th>1</th>\n",
       "      <td>1</td>\n",
       "      <td>1</td>\n",
       "      <td>The world 's two largest automakers said their U.S. sales declined more than predicted last month as a late summer sales frenzy caused more of an industry backlash than expected .</td>\n",
       "      <td>Domestic sales at both GM and No. 2 Ford Motor Co. declined more than predicted as a late summer sales frenzy prompted a larger-than-expected industry backlash .</td>\n",
       "    </tr>\n",
       "    <tr>\n",
       "      <th>2</th>\n",
       "      <td>2</td>\n",
       "      <td>1</td>\n",
       "      <td>According to the federal Centers for Disease Control and Prevention ( news - web sites ) , there were 19 reported cases of measles in the United States in 2002 .</td>\n",
       "      <td>The Centers for Disease Control and Prevention said there were 19 reported cases of measles in the United States in 2002 .</td>\n",
       "    </tr>\n",
       "    <tr>\n",
       "      <th>3</th>\n",
       "      <td>3</td>\n",
       "      <td>0</td>\n",
       "      <td>A tropical storm rapidly developed in the Gulf of Mexico Sunday and was expected to hit somewhere along the Texas or Louisiana coasts by Monday night .</td>\n",
       "      <td>A tropical storm rapidly developed in the Gulf of Mexico on Sunday and could have hurricane-force winds when it hits land somewhere along the Louisiana coast Monday night .</td>\n",
       "    </tr>\n",
       "    <tr>\n",
       "      <th>4</th>\n",
       "      <td>4</td>\n",
       "      <td>0</td>\n",
       "      <td>The company didn 't detail the costs of the replacement and repairs .</td>\n",
       "      <td>But company officials expect the costs of the replacement work to run into the millions of dollars .</td>\n",
       "    </tr>\n",
       "  </tbody>\n",
       "</table>\n",
       "</div>"
      ],
      "text/plain": [
       "   idx  label  \\\n",
       "0    0      1   \n",
       "1    1      1   \n",
       "2    2      1   \n",
       "3    3      0   \n",
       "4    4      0   \n",
       "\n",
       "                                                                                                                                                                             sentence1  \\\n",
       "0                                                      PCCW 's chief operating officer , Mike Butcher , and Alex Arena , the chief financial officer , will report directly to Mr So .   \n",
       "1  The world 's two largest automakers said their U.S. sales declined more than predicted last month as a late summer sales frenzy caused more of an industry backlash than expected .   \n",
       "2                    According to the federal Centers for Disease Control and Prevention ( news - web sites ) , there were 19 reported cases of measles in the United States in 2002 .   \n",
       "3                              A tropical storm rapidly developed in the Gulf of Mexico Sunday and was expected to hit somewhere along the Texas or Louisiana coasts by Monday night .   \n",
       "4                                                                                                                The company didn 't detail the costs of the replacement and repairs .   \n",
       "\n",
       "                                                                                                                                                                      sentence2  \n",
       "0                                                                 Current Chief Operating Officer Mike Butcher and Group Chief Financial Officer Alex Arena will report to So .  \n",
       "1             Domestic sales at both GM and No. 2 Ford Motor Co. declined more than predicted as a late summer sales frenzy prompted a larger-than-expected industry backlash .  \n",
       "2                                                    The Centers for Disease Control and Prevention said there were 19 reported cases of measles in the United States in 2002 .  \n",
       "3  A tropical storm rapidly developed in the Gulf of Mexico on Sunday and could have hurricane-force winds when it hits land somewhere along the Louisiana coast Monday night .  \n",
       "4                                                                          But company officials expect the costs of the replacement work to run into the millions of dollars .  "
      ]
     },
     "execution_count": null,
     "metadata": {},
     "output_type": "execute_result"
    }
   ],
   "source": [
    "raw_test_df = raw_datasets[test_ds_name].to_pandas()\n",
    "raw_test_df.head()"
   ]
  },
  {
   "cell_type": "code",
   "execution_count": null,
   "metadata": {},
   "outputs": [],
   "source": [
    "test_ex_idx = 0\n",
    "test_ex = raw_test_df.iloc[test_ex_idx][task_inputs].values.tolist()"
   ]
  },
  {
   "cell_type": "code",
   "execution_count": null,
   "metadata": {},
   "outputs": [],
   "source": [
    "inputs = hf_tokenizer(*test_ex, return_tensors=\"pt\").to('cuda:1')"
   ]
  },
  {
   "cell_type": "code",
   "execution_count": null,
   "metadata": {},
   "outputs": [
    {
     "data": {
      "text/plain": [
       "tensor([[-2.2560,  1.7812]], device='cuda:1', grad_fn=<AddmmBackward>)"
      ]
     },
     "execution_count": null,
     "metadata": {},
     "output_type": "execute_result"
    }
   ],
   "source": [
    "outputs = hf_model(**inputs)\n",
    "outputs.logits"
   ]
  },
  {
   "cell_type": "code",
   "execution_count": null,
   "metadata": {},
   "outputs": [
    {
     "data": {
      "text/plain": [
       "tensor(1, device='cuda:1')"
      ]
     },
     "execution_count": null,
     "metadata": {},
     "output_type": "execute_result"
    }
   ],
   "source": [
    "torch.argmax(torch.softmax(outputs.logits, dim=-1))"
   ]
  },
  {
   "cell_type": "markdown",
   "metadata": {},
   "source": [
    "Let's do **batch inference** on the entire test dataset using `dls.test_dl`"
   ]
  },
  {
   "cell_type": "code",
   "execution_count": null,
   "metadata": {},
   "outputs": [
    {
     "data": {
      "text/html": [],
      "text/plain": [
       "<IPython.core.display.HTML object>"
      ]
     },
     "metadata": {},
     "output_type": "display_data"
    },
    {
     "data": {
      "text/plain": [
       "(tensor([[0.0173, 0.9827],\n",
       "         [0.0993, 0.9007],\n",
       "         [0.0077, 0.9923],\n",
       "         ...,\n",
       "         [0.0276, 0.9724],\n",
       "         [0.0217, 0.9783],\n",
       "         [0.0175, 0.9825]]),\n",
       " tensor([1, 1, 1,  ..., 0, 1, 1]))"
      ]
     },
     "execution_count": null,
     "metadata": {},
     "output_type": "execute_result"
    }
   ],
   "source": [
    "test_dl = dls.test_dl(tokenized_datasets[test_ds_name])\n",
    "preds = learn.get_preds(dl=test_dl)\n",
    "preds"
   ]
  },
  {
   "cell_type": "markdown",
   "metadata": {},
   "source": [
    "## Cleanup"
   ]
  },
  {
   "cell_type": "markdown",
   "metadata": {},
   "source": [
    "So you can see, with one simple swap of the `DataLoader` objects, you can get back a lot of that nice fastai functionality folks using the mid/high-level APIs have at their disposal. Nevertheless, if you're hell bent on using the standard PyTorch `DataLoaders`, you're still good to go with using the fastai `Learner`, it's callbacks, etc..."
   ]
  },
  {
   "cell_type": "code",
   "execution_count": null,
   "metadata": {},
   "outputs": [
    {
     "name": "stdout",
     "output_type": "stream",
     "text": [
      "Converted 00_utils.ipynb.\n",
      "Converted 01_data-core.ipynb.\n",
      "Converted 01_modeling-core.ipynb.\n",
      "Converted 02_data-language-modeling.ipynb.\n",
      "Converted 02_modeling-language-modeling.ipynb.\n",
      "Converted 03_data-token-classification.ipynb.\n",
      "Converted 03_modeling-token-classification.ipynb.\n",
      "Converted 04_data-question-answering.ipynb.\n",
      "Converted 04_modeling-question-answering.ipynb.\n",
      "Converted 10_data-seq2seq-core.ipynb.\n",
      "Converted 10_modeling-seq2seq-core.ipynb.\n",
      "Converted 11_data-seq2seq-summarization.ipynb.\n",
      "Converted 11_modeling-seq2seq-summarization.ipynb.\n",
      "Converted 12_data-seq2seq-translation.ipynb.\n",
      "Converted 12_modeling-seq2seq-translation.ipynb.\n",
      "Converted 99a_examples-multilabel.ipynb.\n",
      "Converted 99b_examples-glue.ipynb.\n",
      "Converted 99c_examples-glue-plain-pytorch.ipynb.\n",
      "Converted 99d_examples-high-level-api.ipynb.\n",
      "Converted index.ipynb.\n"
     ]
    }
   ],
   "source": [
    "#hide\n",
    "from nbdev.export import notebook2script\n",
    "notebook2script()"
   ]
  }
 ],
 "metadata": {
  "kernelspec": {
   "display_name": "Python 3",
   "language": "python",
   "name": "python3"
  }
 },
 "nbformat": 4,
 "nbformat_minor": 2
}
