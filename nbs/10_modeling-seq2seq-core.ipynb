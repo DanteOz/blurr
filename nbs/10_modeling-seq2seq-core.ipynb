{
 "cells": [
  {
   "cell_type": "code",
   "execution_count": null,
   "metadata": {},
   "outputs": [],
   "source": [
    "# default_exp modeling.seq2seq.core"
   ]
  },
  {
   "cell_type": "code",
   "execution_count": null,
   "metadata": {},
   "outputs": [],
   "source": [
    "#all_slow"
   ]
  },
  {
   "cell_type": "code",
   "execution_count": null,
   "metadata": {},
   "outputs": [],
   "source": [
    "#hide\n",
    "%reload_ext autoreload\n",
    "%autoreload 2\n",
    "%matplotlib inline\n",
    "\n",
    "import os\n",
    "os.environ[\"TOKENIZERS_PARALLELISM\"] = \"false\""
   ]
  },
  {
   "cell_type": "markdown",
   "metadata": {},
   "source": [
    "# modeling.seq2seq.core\n",
    "\n",
    "> This module contains core custom models, loss functions, etc... for Seq2Seq based tasks (e.g., language modeling, summarization, translation, etc...)"
   ]
  },
  {
   "cell_type": "code",
   "execution_count": null,
   "metadata": {},
   "outputs": [],
   "source": [
    "#export\n",
    "import ast, inspect, torch\n",
    "\n",
    "from transformers import *\n",
    "from fastai.text.all import *\n",
    "from fastai.callback.hook import _print_shapes\n",
    "\n",
    "from blurr.utils import *\n",
    "from blurr.data.core import get_blurr_tfm\n",
    "from blurr.data.seq2seq.core import *\n",
    "from blurr.modeling.core import *\n",
    "\n",
    "from datasets import load_metric as hf_load_metric, list_metrics as hf_list_metrics\n",
    "\n",
    "import nltk\n",
    "nltk.download('wordnet', quiet=True)\n",
    "\n",
    "logging.set_verbosity_error()"
   ]
  },
  {
   "cell_type": "code",
   "execution_count": null,
   "metadata": {},
   "outputs": [
    {
     "name": "stdout",
     "output_type": "stream",
     "text": [
      "Using pytorch 1.7.1\n",
      "Using fastai 2.3.1\n",
      "Using transformers 4.6.1\n"
     ]
    }
   ],
   "source": [
    "#hide\n",
    "import pdb\n",
    "\n",
    "from nbdev.showdoc import *\n",
    "from fastcore.test import *\n",
    "\n",
    "from fastai import __version__ as fa_version\n",
    "from torch import __version__ as pt_version\n",
    "from transformers import __version__ as hft_version\n",
    "\n",
    "print(f'Using pytorch {pt_version}')\n",
    "print(f'Using fastai {fa_version}')\n",
    "print(f'Using transformers {hft_version}')"
   ]
  },
  {
   "cell_type": "code",
   "execution_count": null,
   "metadata": {},
   "outputs": [
    {
     "name": "stdout",
     "output_type": "stream",
     "text": [
      "Using GPU #1: GeForce GTX 1080 Ti\n"
     ]
    }
   ],
   "source": [
    "#cuda\n",
    "torch.cuda.set_device(1)\n",
    "print(f'Using GPU #{torch.cuda.current_device()}: {torch.cuda.get_device_name()}')"
   ]
  },
  {
   "cell_type": "markdown",
   "metadata": {},
   "source": [
    "## Seq2Seq"
   ]
  },
  {
   "cell_type": "code",
   "execution_count": null,
   "metadata": {},
   "outputs": [
    {
     "data": {
      "text/html": [
       "<div>\n",
       "<style scoped>\n",
       "    .dataframe tbody tr th:only-of-type {\n",
       "        vertical-align: middle;\n",
       "    }\n",
       "\n",
       "    .dataframe tbody tr th {\n",
       "        vertical-align: top;\n",
       "    }\n",
       "\n",
       "    .dataframe thead th {\n",
       "        text-align: right;\n",
       "    }\n",
       "</style>\n",
       "<table border=\"1\" class=\"dataframe\">\n",
       "  <thead>\n",
       "    <tr style=\"text-align: right;\">\n",
       "      <th></th>\n",
       "      <th>article</th>\n",
       "      <th>highlights</th>\n",
       "      <th>ds_type</th>\n",
       "    </tr>\n",
       "  </thead>\n",
       "  <tbody>\n",
       "    <tr>\n",
       "      <th>0</th>\n",
       "      <td>(CNN)  -- Globalization washes like a flood over the world's cultures and economies. Floods can be destructive; however, they can also bring blessings, as the annual floods of the Nile did for ancient Egypt. The world's great universities can be crucial instruments in shaping, in a positive way, humankind's reaction to globalization and the development of humankind itself. Traditionally, universities have been defined and limited by location, creating an academic community and drawing students and scholars to that place. Eventually, some universities began to encourage students to study el...</td>\n",
       "      <td>John Sexton: Traditionally, universities have been defined and limited by location .\\nGlobal campuses form a network of thought, innovation, he writes .\\nFaculty can teach, Sexton says, students can team up in many cities at once .\\nSexton: Research, scholarship can be shared and cultural ties made in \"century of knowledge\"</td>\n",
       "      <td>train</td>\n",
       "    </tr>\n",
       "    <tr>\n",
       "      <th>1</th>\n",
       "      <td>(CNN) -- Armenian President Robert Kocharian declared a state of emergency Saturday night after a day of clashes between police and protesters, a spokeswoman for the Armenian Foreign Ministry said. Opposition supporters wave an Armenian flag during a protest rally in Yerevan, Armenia, on Saturday. The protesters claim last month's presidential election was rigged. The state of emergency will \"hopefully bring some order\" to the capital, Yerevan, said Salpi Ghazarian, assistant to the Armenian foreign minister, who spoke to CNN early Sunday. The state of emergency could last until March 20, ...</td>\n",
       "      <td>NEW: Protest moves after crackdown at Freedom Square .\\nOrder sought after protests over last month's election turn violent .\\nDemonstrators say the election was fraudulent .\\nState of emergency could last until March 20, official says .</td>\n",
       "      <td>train</td>\n",
       "    </tr>\n",
       "  </tbody>\n",
       "</table>\n",
       "</div>"
      ],
      "text/plain": [
       "                                                                                                                                                                                                                                                                                                                                                                                                                                                                                                                                                                                                                   article  \\\n",
       "0  (CNN)  -- Globalization washes like a flood over the world's cultures and economies. Floods can be destructive; however, they can also bring blessings, as the annual floods of the Nile did for ancient Egypt. The world's great universities can be crucial instruments in shaping, in a positive way, humankind's reaction to globalization and the development of humankind itself. Traditionally, universities have been defined and limited by location, creating an academic community and drawing students and scholars to that place. Eventually, some universities began to encourage students to study el...   \n",
       "1  (CNN) -- Armenian President Robert Kocharian declared a state of emergency Saturday night after a day of clashes between police and protesters, a spokeswoman for the Armenian Foreign Ministry said. Opposition supporters wave an Armenian flag during a protest rally in Yerevan, Armenia, on Saturday. The protesters claim last month's presidential election was rigged. The state of emergency will \"hopefully bring some order\" to the capital, Yerevan, said Salpi Ghazarian, assistant to the Armenian foreign minister, who spoke to CNN early Sunday. The state of emergency could last until March 20, ...   \n",
       "\n",
       "                                                                                                                                                                                                                                                                                                                              highlights  \\\n",
       "0  John Sexton: Traditionally, universities have been defined and limited by location .\\nGlobal campuses form a network of thought, innovation, he writes .\\nFaculty can teach, Sexton says, students can team up in many cities at once .\\nSexton: Research, scholarship can be shared and cultural ties made in \"century of knowledge\"   \n",
       "1                                                                                          NEW: Protest moves after crackdown at Freedom Square .\\nOrder sought after protests over last month's election turn violent .\\nDemonstrators say the election was fraudulent .\\nState of emergency could last until March 20, official says .   \n",
       "\n",
       "  ds_type  \n",
       "0   train  \n",
       "1   train  "
      ]
     },
     "execution_count": null,
     "metadata": {},
     "output_type": "execute_result"
    }
   ],
   "source": [
    "path = Path('./')\n",
    "cnndm_df = pd.read_csv(path/'cnndm_sample.csv')\n",
    "\n",
    "cnndm_df.head(2)"
   ]
  },
  {
   "cell_type": "code",
   "execution_count": null,
   "metadata": {},
   "outputs": [
    {
     "data": {
      "text/plain": [
       "('bart',\n",
       " transformers.models.bart.configuration_bart.BartConfig,\n",
       " transformers.models.bart.tokenization_bart_fast.BartTokenizerFast,\n",
       " transformers.models.bart.modeling_bart.BartForConditionalGeneration)"
      ]
     },
     "execution_count": null,
     "metadata": {},
     "output_type": "execute_result"
    }
   ],
   "source": [
    "pretrained_model_name = \"facebook/bart-large-cnn\"\n",
    "hf_arch, hf_config, hf_tokenizer, hf_model = BLURR.get_hf_objects(pretrained_model_name, \n",
    "                                                                  model_cls=BartForConditionalGeneration)\n",
    "\n",
    "hf_arch, type(hf_config), type(hf_tokenizer), type(hf_model)"
   ]
  },
  {
   "cell_type": "code",
   "execution_count": null,
   "metadata": {},
   "outputs": [],
   "source": [
    "before_batch_tfm = HF_Seq2SeqBeforeBatchTransform(hf_arch, hf_config, hf_tokenizer, hf_model,\n",
    "                                                  max_length=256, max_target_length=130)\n",
    "\n",
    "blocks = (HF_Seq2SeqBlock(before_batch_tfm=before_batch_tfm), noop)\n",
    "\n",
    "dblock = DataBlock(blocks=blocks, \n",
    "                   get_x=ColReader('article'), \n",
    "                   get_y=ColReader('highlights'), \n",
    "                   splitter=RandomSplitter())"
   ]
  },
  {
   "cell_type": "code",
   "execution_count": null,
   "metadata": {},
   "outputs": [],
   "source": [
    "dls = dblock.dataloaders(cnndm_df, bs=2)"
   ]
  },
  {
   "cell_type": "code",
   "execution_count": null,
   "metadata": {},
   "outputs": [],
   "source": [
    "b = dls.one_batch()"
   ]
  },
  {
   "cell_type": "code",
   "execution_count": null,
   "metadata": {},
   "outputs": [
    {
     "data": {
      "text/plain": [
       "(2, torch.Size([2, 256]), torch.Size([2, 78]))"
      ]
     },
     "execution_count": null,
     "metadata": {},
     "output_type": "execute_result"
    }
   ],
   "source": [
    "len(b), b[0]['input_ids'].shape, b[1].shape"
   ]
  },
  {
   "cell_type": "code",
   "execution_count": null,
   "metadata": {},
   "outputs": [
    {
     "data": {
      "text/html": [
       "<table border=\"1\" class=\"dataframe\">\n",
       "  <thead>\n",
       "    <tr style=\"text-align: right;\">\n",
       "      <th></th>\n",
       "      <th>text</th>\n",
       "      <th>target</th>\n",
       "    </tr>\n",
       "  </thead>\n",
       "  <tbody>\n",
       "    <tr>\n",
       "      <th>0</th>\n",
       "      <td>&lt;s&gt; (CNN) -- Home to up to 10 percent of all known species, Mexico is recognized as one of the most biodiverse regions on the planet. The twin threats of climate change and human encroachment on natural environments are, however, threatening the existence of the country's rich wildlife. And there is a great deal to lose. In the United Nations Environment Program (UNEP) World Conservation Monitoring Centre's list of megadiverse countries Mexico ranks 11th. The list represents a group of 17 countries that harbor the majority of the Earth's species and are therefore considered extremely biodiverse. From its coral reefs in the Caribbean Sea to its tropical jungles in Chiapas and the Yucatan peninsula and its deserts and prairies in the north, Mexico boasts an incredibly rich variety of flora and fauna. Some 574 out of 717 reptile species found in Mexico -- the most in any country -- can only be encountered within its borders. It is home to 502 types of mammals, 290 species of birds, 1,150 varieties of birds and 26,000 classifications of plants. Pronatura, a non-profit organization that works to promote conservation and sustainable development in Mexico, has selected six species which it says symbolize the problems faced by the&lt;/s&gt;</td>\n",
       "      <td>Mexico hosts to up to 10 percent of all known species on Earth.\\nIt is home to 502 types of mammals, 290 bird species and 26,000 types of plants.\\nHuman development and climate change is placing a big strain on its biodiversity.\\nThe Golden Eagle is under threat in spite of being the country's national symbol.</td>\n",
       "    </tr>\n",
       "    <tr>\n",
       "      <th>1</th>\n",
       "      <td>&lt;s&gt; It's an international air disaster in a war zone -- a commercial flight with almost 300 people on board shot down in eastern Ukraine. As new details emerge, here is a look at basic questions about the tragedy:. Was the plane shot down? All evidence so far says yes. President Barack Obama declared Friday that a surface-to-air missile blasted the Malaysia Airlines Boeing 777 on Thursday over the Donetsk region of Ukraine near the Russian border. According to a senior American official, a U.S. radar system saw a surface-to-air missile system turn on and track an aircraft right before plane went down. A second system saw a heat signature, which would indicate a missile rising from the ground into the air at the time the airliner was hit, the official explained. Does anyone dispute that? Not at this point. While the Ukrainian government trades accusations of blame with pro-Russian rebels it is fighting in eastern Ukraine and Russia itself, no one has offered evidence of an alternative theory. The plane's debris field indicates a mid-air explosion. Who did it? A preliminary classified U.S. intelligence analysis concludes the rebels most likely fired the missile, according to an American defense official with direct access to the latest information. \"Evidence indicates that the plane was shot&lt;/s&gt;</td>\n",
       "      <td>Donetsk rebel official: Plane shot down, but not by us.\\nMalaysian official says the crash site's integrity has been compromised.\\nPresident Obama says evidence points to a missile strike by pro-Russian rebels.\\nRussia could face increasing international isolation and tougher sanctions.</td>\n",
       "    </tr>\n",
       "  </tbody>\n",
       "</table>"
      ],
      "text/plain": [
       "<IPython.core.display.HTML object>"
      ]
     },
     "metadata": {},
     "output_type": "display_data"
    }
   ],
   "source": [
    "dls.show_batch(dataloaders=dls, max_n=2)"
   ]
  },
  {
   "cell_type": "markdown",
   "metadata": {},
   "source": [
    "### Training\n",
    "\n",
    "Here we create a Seq2Seq specific subclass of `HF_BaseModelCallback` in order to include custom, Seq2Seq specific, metrics, and also handle the pre-calculated loss during training"
   ]
  },
  {
   "cell_type": "markdown",
   "metadata": {},
   "source": [
    "seq2seq_metrics\n",
    "- {'rouge': { 'compute_args': {'return_types': [\"rouge1\", \"rouge2\", \"rougeL\"], 'use_stemmer': True}, 'returns':[\"rouge1\", \"rouge2\", \"rougeL\"]}\n",
    "- {'bert_score': { 'returns': [\"precision\", \"recall\", \"f1\"] }\n",
    "- {'bleu': { 'returns': \"bleu\" }\n",
    "- {'bleurt': { 'returns': \"scores\" }\n",
    "- {'meteor': { 'returns': \"meteor\" }\n",
    "- {'sacrebleu': { 'returns': \"score\" }"
   ]
  },
  {
   "cell_type": "code",
   "execution_count": null,
   "metadata": {},
   "outputs": [],
   "source": [
    "#export\n",
    "class HF_Seq2SeqMetricsCallback(Callback):  \n",
    "    def __init__(self, custom_metrics=None, ignore_token_id=CrossEntropyLossFlat().ignore_index, \n",
    "                 text_gen_kwargs={}, **kwargs):\n",
    "        \n",
    "        super().__init__(**kwargs)\n",
    "        self.order = Recorder.order-1   \n",
    "        \n",
    "        store_attr(self=self, names='custom_metrics, ignore_token_id, text_gen_kwargs, kwargs')\n",
    "        self.custom_metric_funcs, self.custom_metric_vals = {}, {}\n",
    "        \n",
    "        if (custom_metrics is not None):\n",
    "            for metric_name, metric_info_dict in custom_metrics.items():\n",
    "                # self.custom_metric_funcs (tuple): the function to compute the metric and what should be returned,\n",
    "                # if the \"compute_func\" is not defined, we assume it is a huggingface metric\n",
    "                if ('compute_func' in metric_info_dict):\n",
    "                    compute_func = metric_info_dict['compute_func']\n",
    "                else:\n",
    "                    compute_func = hf_load_metric(metric_name).compute\n",
    "                    \n",
    "                compute_kwargs = metric_info_dict['compute_kwargs'] if ('compute_kwargs' in metric_info_dict) else {}\n",
    "                metric_returns = metric_info_dict['returns']\n",
    "        \n",
    "                self.custom_metric_funcs[metric_name] = (partial(compute_func, **compute_kwargs),  metric_returns)\n",
    "                \n",
    "                # self.custom_metric_vals (list): all the custom metrics to report as a \"ValueMetric\"\n",
    "                if (metric_name == 'rouge'): \n",
    "                    self.custom_metric_vals.update({ rouge_type:None for rouge_type in metric_returns })\n",
    "                elif (is_listy(metric_returns)):\n",
    "                    self.custom_metric_vals.update({ f'{metric_name}_{ret_val}':None for ret_val in metric_returns })\n",
    "                else:\n",
    "                    self.custom_metric_vals.update({ metric_name:None })\n",
    "\n",
    "        self.do_setup = True\n",
    "        \n",
    "    def setup(self):\n",
    "        # one time setup code here.\n",
    "        if (not self.do_setup): return\n",
    "        \n",
    "        # grab the hf_tokenizer from the HF_BeforeBatchTransform (used for rouge metrics)\n",
    "        hf_before_batch_tfm = get_blurr_tfm(self.learn.dls.before_batch)\n",
    "        self.hf_tokenizer = hf_before_batch_tfm.hf_tokenizer\n",
    "        self.tok_kwargs = hf_before_batch_tfm.tok_kwargs\n",
    "        \n",
    "        # use before batch tfm's text_gen_kwargs if user doesn't pass in their own kwargs\n",
    "        if (len(self.text_gen_kwargs) == 0): self.text_gen_kwargs = hf_before_batch_tfm.text_gen_kwargs\n",
    "        \n",
    "        # add seq2seq generation specific metrics (rouge, bertscore, bleu, etc...) to learner metrics\n",
    "        metric_keys = list(self.custom_metric_vals.keys())\n",
    "        custom_metrics = L([ ValueMetric(partial(self.metric_value, metric_key=k), k) for k in metric_keys ])\n",
    "        self.learn.metrics = self.learn.metrics + custom_metrics\n",
    "        \n",
    "        self.do_setup = False\n",
    "        \n",
    "    def before_fit(self): self.setup()\n",
    "        \n",
    "        \n",
    "    # --- batch begin/after phases ---\n",
    "    def after_batch(self):\n",
    "        if (self.training or self.learn.y is None or self.custom_metrics is None): return\n",
    "        \n",
    "        # grab predicted and reference ids for any metrics that need them\n",
    "        input_ids, attention_mask = self.xb[0]['input_ids'], self.xb[0]['attention_mask']\n",
    "        gen_ids = self.learn.model.hf_model.generate(input_ids=input_ids, \n",
    "                                                     attention_mask=attention_mask, \n",
    "                                                     **self.text_gen_kwargs)\n",
    "        \n",
    "        self.generated_ids += gen_ids.tolist()\n",
    "        self.refernce_ids += [ seq[seq != self.ignore_token_id].tolist()  for seq in self.yb[0] ]\n",
    "\n",
    "    # --- validation begin/after phases ---\n",
    "    def before_validate(self): self.generated_ids, self.refernce_ids = [], []\n",
    "        \n",
    "    def after_validate(self):\n",
    "        if (self.learn.y is None or self.custom_metrics is None): return\n",
    "        \n",
    "        # fetch the generated prediction and reference tokens and texts\n",
    "        gen_toks = [ self.hf_tokenizer.convert_ids_to_tokens(ids, skip_special_tokens=True) \n",
    "                    for ids in self.generated_ids ]\n",
    "        \n",
    "        ref_toks = [ self.hf_tokenizer.convert_ids_to_tokens(ids, skip_special_tokens=True) \n",
    "                    for ids in self.refernce_ids ]\n",
    "        \n",
    "        gen_texts = self.hf_tokenizer.batch_decode(self.generated_ids, \n",
    "                                                   skip_special_tokens=True, \n",
    "                                                   clean_up_tokenization_spaces=True)\n",
    "        \n",
    "        ref_texts = self.hf_tokenizer.batch_decode(self.refernce_ids, \n",
    "                                                   skip_special_tokens=True, \n",
    "                                                   clean_up_tokenization_spaces=True)\n",
    "            \n",
    "        # calculate any seq2seq metrics\n",
    "        for metric_name, metric_info in self.custom_metric_funcs.items():\n",
    "            compute_func, return_val = metric_info\n",
    "            \n",
    "            # some metrics work on tokens (bleu), some allow for multiple references (blue, sacrebleu), and most\n",
    "            # work directly on the generated and reference texts; here blurr does the dirty work of getting your\n",
    "            # preds/references formatted for the metric you are using\n",
    "            if (metric_name == 'bleu'):\n",
    "                predictions, references = gen_toks, [ [toks] for toks in ref_toks ]\n",
    "            elif (metric_name == 'sacrebleu'):\n",
    "                predictions, references = gen_texts, [ [txt] for txt in ref_texts ]\n",
    "            else:\n",
    "                predictions, references = gen_texts, ref_texts\n",
    "                \n",
    "            # calls the metrics \"compute\" function\n",
    "            res = compute_func(predictions=predictions, references=references)\n",
    "            \n",
    "            # updates the custom_metric_vals with the metric's value\n",
    "            if (metric_name == 'rouge'):\n",
    "                for rouge_key, scores in res.items(): \n",
    "                    self.custom_metric_vals[rouge_key] = scores.mid.fmeasure\n",
    "            if (metric_name == 'bertscore'):\n",
    "                for score_key, score in res.items(): \n",
    "                    if (f'{metric_name}_{score_key}' not in self.custom_metric_vals): continue\n",
    "                    self.custom_metric_vals[f'{metric_name}_{score_key}'] = np.array(score).mean().item()\n",
    "            elif (is_listy(return_val)):\n",
    "                for score_key, score in res.items(): \n",
    "                    if (f'{metric_name}_{score_key}' not in self.custom_metric_vals): continue\n",
    "                    self.custom_metric_vals[f'{metric_name}_{score_key}'] = score\n",
    "            else:\n",
    "                self.custom_metric_vals[metric_name] = res[return_val]\n",
    "                \n",
    "\n",
    "    # --- for ValueMetric metrics ---\n",
    "    def metric_value(self, metric_key): return self.custom_metric_vals[metric_key]"
   ]
  },
  {
   "cell_type": "markdown",
   "metadata": {},
   "source": [
    "We add a custom param splitter to give us a bit more depth in applying discriminative learning rates for Seq2Seq tasks."
   ]
  },
  {
   "cell_type": "code",
   "execution_count": null,
   "metadata": {},
   "outputs": [],
   "source": [
    "#export\n",
    "def seq2seq_splitter(m, arch):\n",
    "    \"\"\"Custom param splitter for summarization models\"\"\"\n",
    "    model = m.hf_model if (hasattr(m, 'hf_model')) else m\n",
    "\n",
    "    if arch in ['bart', 'blenderbot', 'blenderbot_small', 'fsmt', 'marian', 'mbart', 'pegasus']:     \n",
    "        embeds_modules = [\n",
    "            model.model.encoder.embed_positions, \n",
    "            model.model.encoder.embed_tokens,\n",
    "            model.model.decoder.embed_positions, \n",
    "            model.model.decoder.embed_tokens\n",
    "        ]\n",
    "        if arch != 'fsmt': embeds_modules.insert(0, model.model.shared)\n",
    "            \n",
    "        embeds = nn.Sequential(*embeds_modules)\n",
    "        groups = L(embeds, model.model.encoder, model.model.decoder)\n",
    "        return groups.map(params).filter(lambda el: len(el) > 0)\n",
    "    \n",
    "    if arch in['led']:\n",
    "        embeds_modules = [\n",
    "            model.led.encoder.embed_positions, \n",
    "            model.led.encoder.embed_tokens,\n",
    "            model.led.decoder.embed_positions, \n",
    "            model.led.decoder.embed_tokens\n",
    "        ]\n",
    "\n",
    "        embeds = nn.Sequential(*embeds_modules)\n",
    "        groups = L(embeds, model.led.encoder, model.led.decoder)\n",
    "        return groups.map(params).filter(lambda el: len(el) > 0)\n",
    "    \n",
    "    if arch in['mt5', 't5']:\n",
    "        embeds = nn.Sequential(\n",
    "            model.shared, \n",
    "            model.encoder.embed_tokens,\n",
    "            model.decoder.embed_tokens\n",
    "        )\n",
    "        \n",
    "        groups = L(embeds, model.encoder, model.decoder)\n",
    "        return groups.map(params).filter(lambda el: len(el) > 0)\n",
    "    \n",
    "    if arch in ['prophetnet', 'xlm_prophetnet']:\n",
    "        embeds = nn.Sequential(\n",
    "            model.prophetnet.word_embeddings, \n",
    "            model.prophetnet.encoder.word_embeddings, \n",
    "            model.prophetnet.encoder.position_embeddings, \n",
    "            model.prophetnet.decoder.word_embeddings, \n",
    "            model.prophetnet.decoder.position_embeddings, \n",
    "            model.prophetnet.decoder.ngram_embeddings \n",
    "        )\n",
    "        \n",
    "        groups = L(embeds, model.prophetnet.encoder.layers, model.prophetnet.decoder.layers, model.lm_head)\n",
    "        return groups.map(params).filter(lambda el: len(el) > 0)\n",
    "    \n",
    "    \n",
    "    raise ValueError(f'seq2seq_splitter does not support this architecutre: {arch}')"
   ]
  },
  {
   "cell_type": "code",
   "execution_count": null,
   "metadata": {},
   "outputs": [
    {
     "data": {
      "text/markdown": [
       "<h4 id=\"seq2seq_splitter\" class=\"doc_header\"><code>seq2seq_splitter</code><a href=\"__main__.py#L2\" class=\"source_link\" style=\"float:right\">[source]</a></h4>\n",
       "\n",
       "> <code>seq2seq_splitter</code>(**`m`**, **`arch`**)\n",
       "\n",
       "Custom param splitter for summarization models"
      ],
      "text/plain": [
       "<IPython.core.display.Markdown object>"
      ]
     },
     "metadata": {},
     "output_type": "display_data"
    }
   ],
   "source": [
    "show_doc(seq2seq_splitter)"
   ]
  },
  {
   "cell_type": "code",
   "execution_count": null,
   "metadata": {},
   "outputs": [
    {
     "name": "stderr",
     "output_type": "stream",
     "text": [
      "[nltk_data] Downloading package wordnet to /home/wgilliam/nltk_data...\n",
      "[nltk_data]   Package wordnet is already up-to-date!\n"
     ]
    }
   ],
   "source": [
    "seq2seq_metrics = {\n",
    "    'rouge': {\n",
    "        'compute_kwargs': {\n",
    "            'rouge_types': [\"rouge1\", \"rouge2\", \"rougeL\"], 'use_stemmer': True\n",
    "        }, \n",
    "        'returns': [\"rouge1\", \"rouge2\", \"rougeL\"] \n",
    "    },\n",
    "    'bertscore': {\n",
    "        'compute_kwargs': { 'lang': 'en' },\n",
    "        'returns': [\"precision\", \"recall\", \"f1\"]\n",
    "    }, \n",
    "    'bleu': { 'returns': \"bleu\" },\n",
    "    'meteor': { 'returns': \"meteor\" },\n",
    "    'sacrebleu': { 'returns': \"score\" }\n",
    "}\n",
    "\n",
    "model = HF_BaseModelWrapper(hf_model)\n",
    "learn_cbs = [HF_BaseModelCallback]\n",
    "fit_cbs = [HF_Seq2SeqMetricsCallback(custom_metrics=seq2seq_metrics)]\n",
    "\n",
    "learn = Learner(dls, \n",
    "                model,\n",
    "                opt_func=partial(Adam),\n",
    "                loss_func=CrossEntropyLossFlat(), #HF_PreCalculatedLoss()\n",
    "                cbs=learn_cbs,\n",
    "                splitter=partial(seq2seq_splitter, arch=hf_arch)) #.to_native_fp16() #.to_fp16()\n",
    "\n",
    "learn.freeze()"
   ]
  },
  {
   "cell_type": "code",
   "execution_count": null,
   "metadata": {},
   "outputs": [
    {
     "data": {
      "text/plain": [
       "(4, torch.Size([]), torch.Size([2, 69, 50264]))"
      ]
     },
     "execution_count": null,
     "metadata": {},
     "output_type": "execute_result"
    }
   ],
   "source": [
    "b = dls.one_batch()\n",
    "preds = learn.model(b[0])\n",
    "\n",
    "len(preds),preds['loss'].shape, preds['logits'].shape"
   ]
  },
  {
   "cell_type": "code",
   "execution_count": null,
   "metadata": {},
   "outputs": [
    {
     "data": {
      "text/plain": [
       "(4, torch.Size([]), torch.Size([2, 74, 50264]))"
      ]
     },
     "execution_count": null,
     "metadata": {},
     "output_type": "execute_result"
    }
   ],
   "source": [
    "b = dls.one_batch()\n",
    "preds = learn.model(b[0])\n",
    "\n",
    "len(preds),preds['loss'].shape, preds['logits'].shape"
   ]
  },
  {
   "cell_type": "code",
   "execution_count": null,
   "metadata": {},
   "outputs": [
    {
     "name": "stdout",
     "output_type": "stream",
     "text": [
      "3\n"
     ]
    }
   ],
   "source": [
    "print(len(learn.opt.param_groups))"
   ]
  },
  {
   "cell_type": "code",
   "execution_count": null,
   "metadata": {},
   "outputs": [
    {
     "data": {
      "text/html": [],
      "text/plain": [
       "<IPython.core.display.HTML object>"
      ]
     },
     "metadata": {},
     "output_type": "display_data"
    },
    {
     "data": {
      "text/plain": [
       "SuggestedLRs(lr_min=0.00012022644514217973, lr_steep=8.31763736641733e-06)"
      ]
     },
     "execution_count": null,
     "metadata": {},
     "output_type": "execute_result"
    },
    {
     "data": {
      "image/png": "[encoded data removed]",
      "text/plain": [
       "<Figure size 640x480 with 1 Axes>"
      ]
     },
     "metadata": {},
     "output_type": "display_data"
    }
   ],
   "source": [
    "#slow\n",
    "learn.lr_find(suggestions=True)"
   ]
  },
  {
   "cell_type": "code",
   "execution_count": null,
   "metadata": {},
   "outputs": [
    {
     "data": {
      "text/html": [
       "<table border=\"1\" class=\"dataframe\">\n",
       "  <thead>\n",
       "    <tr style=\"text-align: left;\">\n",
       "      <th>epoch</th>\n",
       "      <th>train_loss</th>\n",
       "      <th>valid_loss</th>\n",
       "      <th>rouge1</th>\n",
       "      <th>rouge2</th>\n",
       "      <th>rougeL</th>\n",
       "      <th>bertscore_precision</th>\n",
       "      <th>bertscore_recall</th>\n",
       "      <th>bertscore_f1</th>\n",
       "      <th>bleu</th>\n",
       "      <th>meteor</th>\n",
       "      <th>sacrebleu</th>\n",
       "      <th>time</th>\n",
       "    </tr>\n",
       "  </thead>\n",
       "  <tbody>\n",
       "    <tr>\n",
       "      <td>0</td>\n",
       "      <td>1.778825</td>\n",
       "      <td>1.660103</td>\n",
       "      <td>0.392363</td>\n",
       "      <td>0.174361</td>\n",
       "      <td>0.264122</td>\n",
       "      <td>0.877209</td>\n",
       "      <td>0.894521</td>\n",
       "      <td>0.885675</td>\n",
       "      <td>0.152929</td>\n",
       "      <td>0.315640</td>\n",
       "      <td>12.394661</td>\n",
       "      <td>03:40</td>\n",
       "    </tr>\n",
       "  </tbody>\n",
       "</table>"
      ],
      "text/plain": [
       "<IPython.core.display.HTML object>"
      ]
     },
     "metadata": {},
     "output_type": "display_data"
    }
   ],
   "source": [
    "#slow\n",
    "learn.fit_one_cycle(1, lr_max=4e-5, cbs=fit_cbs)"
   ]
  },
  {
   "cell_type": "markdown",
   "metadata": {},
   "source": [
    "### Showing results\n",
    "\n",
    "Below we'll add in additional functionality to take advantage of huggingface's `PreTrainedModel.generate` model, which can be used to easily implement beam search, top-k/nucleous sampling, etc... so that we get more human sounding results."
   ]
  },
  {
   "cell_type": "code",
   "execution_count": null,
   "metadata": {},
   "outputs": [],
   "source": [
    "test_article = \"\"\"\n",
    "About 10 men armed with pistols and small machine guns raided a casino in Switzerland and made off \n",
    "into France with several hundred thousand Swiss francs in the early hours of Sunday morning, police said. \n",
    "The men, dressed in black clothes and black ski masks, split into two groups during the raid on the Grand Casino \n",
    "Basel, Chief Inspector Peter Gill told CNN. One group tried to break into the casino's vault on the lower level \n",
    "but could not get in, but they did rob the cashier of the money that was not secured, he said. The second group \n",
    "of armed robbers entered the upper level where the roulette and blackjack tables are located and robbed the \n",
    "cashier there, he said. As the thieves were leaving the casino, a woman driving by and unaware of what was \n",
    "occurring unknowingly blocked the armed robbers' vehicles. A gunman pulled the woman from her vehicle, beat \n",
    "her, and took off for the French border. The other gunmen followed into France, which is only about 100 \n",
    "meters (yards) from the casino, Gill said. There were about 600 people in the casino at the time of the robbery. \n",
    "There were no serious injuries, although one guest on the Casino floor was kicked in the head by one of the \n",
    "robbers when he moved, the police officer said. Swiss authorities are working closely with French authorities, \n",
    "Gill said. The robbers spoke French and drove vehicles with French lRicense plates. CNN's Andreena Narayan \n",
    "contributed to this report.\n",
    "\"\"\""
   ]
  },
  {
   "cell_type": "code",
   "execution_count": null,
   "metadata": {},
   "outputs": [
    {
     "name": "stdout",
     "output_type": "stream",
     "text": [
      "<s><s> 10About 10 men with with pistols and small machine guns raid a casino in Switzerland. made\n"
     ]
    }
   ],
   "source": [
    "res = learn.blurr_predict(test_article)\n",
    "print(hf_tokenizer.decode(res[0][0][0][:20]))"
   ]
  },
  {
   "cell_type": "markdown",
   "metadata": {},
   "source": [
    "That doesn't look much like a human-generated text.  Let's use huggingface's `PreTrainedModel.generate` method to create something more human-like."
   ]
  },
  {
   "cell_type": "code",
   "execution_count": null,
   "metadata": {},
   "outputs": [
    {
     "name": "stdout",
     "output_type": "stream",
     "text": [
      "=== Target ===\n",
      " Hotel guests who \"go green\" are happier with their stay.\n",
      "Increasing water and energy costs are pushing hotels to cut costs wherever they can.\n",
      "Many hotels find that guests don't mind using the same towels and sheets every night.\n",
      "TripAdvisor will be adding a green label for hotels listed on its site.\n",
      "\n",
      "=== Prediction ===\n",
      " Dan Condon composts when he's at home in Boulder, Colorado, and drives a Honda CR-Z hybrid sports car.\n",
      "When he travels for work and stays in a hotel, he uses a new towel every day.\n",
      "Condon: \"I could care less about rewards for environmentally conscious behavior unless it's miles\"\n",
      "If hotels can't convince Condon to go green while traveling, how can they convince everyone else?\n"
     ]
    }
   ],
   "source": [
    "b = dls.valid.one_batch()\n",
    "\n",
    "b_before_batch_tfm = get_blurr_tfm(dls.before_batch)\n",
    "\n",
    "b_hf_tokenizer = b_before_batch_tfm.hf_tokenizer\n",
    "b_ignore_token_id = b_before_batch_tfm.ignore_token_id\n",
    "\n",
    "test_input_ids = b[0]['input_ids'][0].unsqueeze(0).to(learn.model.hf_model.device)\n",
    "test_trg_ids = b[1][0].unsqueeze(0).to(learn.model.hf_model.device)\n",
    "test_trg_ids = [ trg[trg != b_ignore_token_id] for trg in test_trg_ids ]\n",
    "\n",
    "gen_text = learn.model.hf_model.generate(test_input_ids, num_beams=4, max_length=130, min_length=30)\n",
    "\n",
    "print('=== Target ===')\n",
    "print(f'{b_hf_tokenizer.decode(test_trg_ids[0], skip_special_tokens=True, clean_up_tokenization_spaces=True)}\\n')\n",
    "\n",
    "print('=== Prediction ===')\n",
    "print(b_hf_tokenizer.decode(gen_text[0], skip_special_tokens=True, clean_up_tokenization_spaces=True))"
   ]
  },
  {
   "cell_type": "markdown",
   "metadata": {},
   "source": [
    "We'll add a `blurr_generate` method to `Learner` that uses huggingface's `PreTrainedModel.generate` to create our predictions.  For the full list of arguments you can pass in see [here](https://huggingface.co/transformers/main_classes/model.html#transformers.PreTrainedModel.generate). You can also check out their [\"How To Generate\"](https://github.com/huggingface/blog/blob/master/notebooks/02_how_to_generate.ipynb) notebook for more information about how it all works."
   ]
  },
  {
   "cell_type": "code",
   "execution_count": null,
   "metadata": {},
   "outputs": [],
   "source": [
    "#export\n",
    "@patch\n",
    "def blurr_generate(self:Learner, inp, task=None, **kwargs):\n",
    "    \"\"\"Uses the built-in `generate` method to generate the text \n",
    "    (see [here](https://huggingface.co/transformers/main_classes/model.html#transformers.PreTrainedModel.generate)\n",
    "    for a list of arguments you can pass in)\n",
    "    \"\"\"\n",
    "    # grab the huggingface tokenizer from the learner's dls.tfms\n",
    "    hf_before_batch_tfm = get_blurr_tfm(self.dls.before_batch)\n",
    "    hf_config = hf_before_batch_tfm.hf_config\n",
    "    hf_tokenizer = hf_before_batch_tfm.hf_tokenizer\n",
    "    tok_kwargs = hf_before_batch_tfm.tok_kwargs\n",
    "    \n",
    "    # grab the text generation kwargs\n",
    "    text_gen_kwargs = hf_before_batch_tfm.text_gen_kwargs if (len(kwargs) == 0) else kwargs\n",
    "\n",
    "    if (isinstance(inp, str)):\n",
    "        input_ids = hf_tokenizer.encode(inp, padding=True, truncation=True, return_tensors='pt', **tok_kwargs)\n",
    "    else:\n",
    "        # note (10/30/2020): as of pytorch 1.7, this has to be a plain ol tensor (not a subclass of TensorBase)\n",
    "        input_ids = inp.as_subclass(Tensor)\n",
    "        \n",
    "    input_ids = input_ids.to(self.model.hf_model.device)\n",
    "    \n",
    "    gen_texts = self.model.hf_model.generate(input_ids, **text_gen_kwargs)\n",
    "    outputs = [ hf_tokenizer.decode(txt, skip_special_tokens=True, clean_up_tokenization_spaces=False) \n",
    "               for txt in gen_texts ]\n",
    "    \n",
    "    if hf_before_batch_tfm.hf_arch == 'pegasus':\n",
    "        outputs = [o.replace('<n>', ' ') for o in outputs]\n",
    "    \n",
    "    return outputs"
   ]
  },
  {
   "cell_type": "code",
   "execution_count": null,
   "metadata": {},
   "outputs": [
    {
     "data": {
      "text/markdown": [
       "<h4 id=\"Learner.blurr_generate\" class=\"doc_header\"><code>Learner.blurr_generate</code><a href=\"__main__.py#L2\" class=\"source_link\" style=\"float:right\">[source]</a></h4>\n",
       "\n",
       "> <code>Learner.blurr_generate</code>(**`inp`**, **`task`**=*`None`*, **\\*\\*`kwargs`**)\n",
       "\n",
       "Uses the built-in `generate` method to generate the text \n",
       "(see [here](https://huggingface.co/transformers/main_classes/model.html#transformers.PreTrainedModel.generate)\n",
       "for a list of arguments you can pass in)"
      ],
      "text/plain": [
       "<IPython.core.display.Markdown object>"
      ]
     },
     "metadata": {},
     "output_type": "display_data"
    }
   ],
   "source": [
    "show_doc(Learner.blurr_generate)"
   ]
  },
  {
   "cell_type": "code",
   "execution_count": null,
   "metadata": {},
   "outputs": [
    {
     "name": "stdout",
     "output_type": "stream",
     "text": [
      "=== Prediction 1 ===\n",
      " 10 men with pistols and machine guns raid Swiss casino .\n",
      "They make off with several hundred thousand Swiss francs .\n",
      "A woman driving by unknowingly blocks their vehicles and is beaten by one of them .\n",
      "There were about 600 people in the casino at the time of the robbery .\n",
      "No serious injuries, although one guest was kicked in the head .\n",
      "\n",
      "=== Prediction 2 ===\n",
      " 10 men with pistols and machine guns raid Swiss casino .\n",
      "They make off with several hundred thousand Swiss francs .\n",
      "A woman driving by unknowingly blocks their vehicles and is beaten by one of them .\n",
      "There were about 600 people in the casino at the time of the robbery .\n",
      "The robbers spoke French and drove vehicles with French plates .\n",
      "\n",
      "=== Prediction 3 ===\n",
      " 10 men with pistols and machine guns raid Swiss casino .\n",
      "They make off with several hundred thousand Swiss francs .\n",
      "A woman driving by unknowingly blocks their vehicles and is beaten by one of them .\n",
      "There were about 600 people in the casino at the time of the robbery .\n",
      "No serious injuries were reported .\n",
      "\n"
     ]
    }
   ],
   "source": [
    "outputs = learn.blurr_generate(test_article, num_return_sequences=3)\n",
    "\n",
    "for idx, o in enumerate(outputs):\n",
    "    print(f'=== Prediction {idx+1} ===\\n{o}\\n')"
   ]
  },
  {
   "cell_type": "markdown",
   "metadata": {},
   "source": [
    "Much nicer!!! Now, we can update our @typedispatched `show_results` to use this new method."
   ]
  },
  {
   "cell_type": "code",
   "execution_count": null,
   "metadata": {},
   "outputs": [],
   "source": [
    "#export\n",
    "@typedispatch\n",
    "def show_results(x:HF_Seq2SeqInput, y, samples, outs, learner, ctxs=None, max_n=6, \n",
    "                 input_trunc_at=None, target_trunc_at=None, text_gen_kwargs={}, **kwargs):  \n",
    "    \n",
    "    hf_before_batch_tfm = get_blurr_tfm(learner.dls.before_batch)\n",
    "    hf_config = hf_before_batch_tfm.hf_config\n",
    "    hf_tokenizer = hf_before_batch_tfm.hf_tokenizer\n",
    "    ignore_token_id = hf_before_batch_tfm.ignore_token_id\n",
    "    \n",
    "    if (len(text_gen_kwargs) == 0): text_gen_kwargs = hf_before_batch_tfm.text_gen_kwargs\n",
    "    \n",
    "    gen_text_txts = learner.blurr_generate(x, **text_gen_kwargs)\n",
    "    res = L([(\n",
    "        hf_tokenizer.decode(s[0], skip_special_tokens=True)[:input_trunc_at], \n",
    "        hf_tokenizer.decode(s[1][s[1] != ignore_token_id], skip_special_tokens=True)[:target_trunc_at], \n",
    "        gen_txt[:target_trunc_at]\n",
    "    ) for s, gen_txt in zip(samples, gen_text_txts) ])          \n",
    "    \n",
    "    display_df(pd.DataFrame(res, columns=['text', 'target', 'prediction'])[:max_n])\n",
    "    return ctxs"
   ]
  },
  {
   "cell_type": "code",
   "execution_count": null,
   "metadata": {},
   "outputs": [
    {
     "data": {
      "text/html": [],
      "text/plain": [
       "<IPython.core.display.HTML object>"
      ]
     },
     "metadata": {},
     "output_type": "display_data"
    },
    {
     "data": {
      "text/html": [
       "<table border=\"1\" class=\"dataframe\">\n",
       "  <thead>\n",
       "    <tr style=\"text-align: right;\">\n",
       "      <th></th>\n",
       "      <th>text</th>\n",
       "      <th>target</th>\n",
       "      <th>prediction</th>\n",
       "    </tr>\n",
       "  </thead>\n",
       "  <tbody>\n",
       "    <tr>\n",
       "      <th>0</th>\n",
       "      <td>Dan Condon believes in recycling. Just not when it comes to his hotel towels. Condon composts when he's at home in Boulder, Colorado. He eats local, organic and fair-trade food and drives a Honda CR-Z hybrid sports car. You might call him green. Except he's not so green when he travels for his work at an education nonprofit and stays in a hotel, which happens about 10 weeks per year. There, he uses a new towel every day. And don't try to bribe him with a drink or dessert coupon to get him to re</td>\n",
       "      <td>Hotel guests who \"go green\" are happier with their stay.\\nIncreasing water and energy costs are pushing hotels to cut costs wherever they can.\\nMany hotels find that guests don't mind using the same towels and sheets every night.\\nTripAdvisor will be a</td>\n",
       "      <td>Dan Condon composts when he's at home in Boulder, Colorado, and drives a Honda CR-Z hybrid sports car .\\nWhen he travels for work and stays in a hotel, he uses a new towel every day .\\nCondon: \"I could care less about rewards for environmentally consc</td>\n",
       "    </tr>\n",
       "    <tr>\n",
       "      <th>1</th>\n",
       "      <td>Some U.S. officials this year are expected to get smartphones capable of handling classified government documents over cellular networks, according to people involved in the project. The phones will run a modified version of Google's Android software, which is being developed as part of an initiative that spans multiple federal agencies and government contractors, these people said. The smartphones are first being deployed to U.S. soldiers, people familiar with the project said. Later, federal</td>\n",
       "      <td>Government, military officials to get Android phones capable of sharing secret documents.\\nThe phones will run a modified version of Google's Android software, sources say.\\nContractor: Google \"more cooperative\" than Apple working with government on p</td>\n",
       "      <td>Some U.S. officials this year are expected to get smartphones capable of handling classified documents over cellular networks .\\nThe phones will run a modified version of Google's Android software, sources say .\\nThey are first being deployed to soldi</td>\n",
       "    </tr>\n",
       "  </tbody>\n",
       "</table>"
      ],
      "text/plain": [
       "<IPython.core.display.HTML object>"
      ]
     },
     "metadata": {},
     "output_type": "display_data"
    }
   ],
   "source": [
    "learn.show_results(learner=learn, input_trunc_at=500, target_trunc_at=250)"
   ]
  },
  {
   "cell_type": "markdown",
   "metadata": {},
   "source": [
    "### Inference"
   ]
  },
  {
   "cell_type": "code",
   "execution_count": null,
   "metadata": {},
   "outputs": [],
   "source": [
    "export_fname = 'summarize_export'"
   ]
  },
  {
   "cell_type": "code",
   "execution_count": null,
   "metadata": {},
   "outputs": [],
   "source": [
    "learn.metrics = None\n",
    "learn.export(fname=f'{export_fname}.pkl')"
   ]
  },
  {
   "cell_type": "code",
   "execution_count": null,
   "metadata": {},
   "outputs": [
    {
     "data": {
      "text/plain": [
       "[' 10 men with pistols and machine guns raid Swiss casino .\\nThey make off with several hundred thousand Swiss francs .\\nA woman driving by unknowingly blocks their vehicles and is beaten by one of them .\\nThere were about 600 people in the casino at the time of the robbery .\\nNo serious injuries, although one guest was kicked in the head .']"
      ]
     },
     "execution_count": null,
     "metadata": {},
     "output_type": "execute_result"
    }
   ],
   "source": [
    "inf_learn = load_learner(fname=f'{export_fname}.pkl')\n",
    "inf_learn.blurr_generate(test_article)"
   ]
  },
  {
   "cell_type": "markdown",
   "metadata": {},
   "source": [
    "## Cleanup"
   ]
  },
  {
   "cell_type": "code",
   "execution_count": null,
   "metadata": {},
   "outputs": [
    {
     "name": "stdout",
     "output_type": "stream",
     "text": [
      "Converted 00_utils.ipynb.\n",
      "Converted 01_data-core.ipynb.\n",
      "Converted 01_modeling-core.ipynb.\n",
      "Converted 02_data-language-modeling.ipynb.\n",
      "Converted 02_modeling-language-modeling.ipynb.\n",
      "Converted 03_data-token-classification.ipynb.\n",
      "Converted 03_modeling-token-classification.ipynb.\n",
      "Converted 04_data-question-answering.ipynb.\n",
      "Converted 04_modeling-question-answering.ipynb.\n",
      "Converted 10_data-seq2seq-core.ipynb.\n",
      "Converted 10_modeling-seq2seq-core.ipynb.\n",
      "Converted 11_data-seq2seq-summarization.ipynb.\n",
      "Converted 11_modeling-seq2seq-summarization.ipynb.\n",
      "Converted 12_data-seq2seq-translation.ipynb.\n",
      "Converted 12_modeling-seq2seq-translation.ipynb.\n",
      "Converted 99a_examples-multilabel.ipynb.\n",
      "Converted index.ipynb.\n"
     ]
    }
   ],
   "source": [
    "#hide\n",
    "from nbdev.export import notebook2script\n",
    "notebook2script()"
   ]
  },
  {
   "cell_type": "code",
   "execution_count": null,
   "metadata": {},
   "outputs": [],
   "source": []
  }
 ],
 "metadata": {
  "kernelspec": {
   "display_name": "Python 3",
   "language": "python",
   "name": "python3"
  }
 },
 "nbformat": 4,
 "nbformat_minor": 4
}
