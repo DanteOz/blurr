{
 "cells": [
  {
   "cell_type": "code",
   "execution_count": null,
   "metadata": {},
   "outputs": [],
   "source": [
    "# default_exp examples.glue"
   ]
  },
  {
   "cell_type": "code",
   "execution_count": null,
   "metadata": {},
   "outputs": [],
   "source": [
    "#all_slow"
   ]
  },
  {
   "cell_type": "code",
   "execution_count": null,
   "metadata": {},
   "outputs": [],
   "source": [
    "#hide\n",
    "%reload_ext autoreload\n",
    "%autoreload 2\n",
    "%matplotlib inline\n",
    "\n",
    "import os\n",
    "os.environ[\"TOKENIZERS_PARALLELISM\"] = \"false\""
   ]
  },
  {
   "cell_type": "markdown",
   "metadata": {},
   "source": [
    "# GLUE  classification tasks\n",
    "\n",
    "> This notebook demonstrates how we can use Blurr to tackle the [General Language Understanding Evaluation(GLUE) benchmark](https://gluebenchmark.com/) tasks."
   ]
  },
  {
   "cell_type": "code",
   "execution_count": null,
   "metadata": {},
   "outputs": [],
   "source": [
    "#export\n",
    "import torch\n",
    "from fastai.text.all import *\n",
    "\n",
    "from datasets import load_dataset, concatenate_datasets\n",
    "from transformers import *\n",
    "\n",
    "from blurr.utils import *\n",
    "from blurr.data.core import *\n",
    "from blurr.modeling.core import *\n",
    "\n",
    "logging.set_verbosity_error()"
   ]
  },
  {
   "cell_type": "code",
   "execution_count": null,
   "metadata": {},
   "outputs": [
    {
     "name": "stdout",
     "output_type": "stream",
     "text": [
      "Here's what we're running with ...\n",
      "\n",
      "Using pytorch 1.7.1\n",
      "Using fastai 2.4\n",
      "Using transformers 4.6.1\n"
     ]
    }
   ],
   "source": [
    "#hide_input\n",
    "import pdb\n",
    "\n",
    "from nbdev.showdoc import *\n",
    "from fastcore.test import *\n",
    "\n",
    "from fastai import __version__ as fa_version\n",
    "from torch import __version__ as pt_version\n",
    "from transformers import __version__ as hft_version\n",
    "\n",
    "print(\"Here's what we're running with ...\\n\")\n",
    "print(f'Using pytorch {pt_version}')\n",
    "print(f'Using fastai {fa_version}')\n",
    "print(f'Using transformers {hft_version}')"
   ]
  },
  {
   "cell_type": "code",
   "execution_count": null,
   "metadata": {},
   "outputs": [
    {
     "name": "stdout",
     "output_type": "stream",
     "text": [
      "Using GPU #1: GeForce GTX 1080 Ti\n"
     ]
    }
   ],
   "source": [
    "#cuda\n",
    "#hide_input\n",
    "torch.cuda.set_device(1)\n",
    "print(f'Using GPU #{torch.cuda.current_device()}: {torch.cuda.get_device_name()}')"
   ]
  },
  {
   "cell_type": "markdown",
   "metadata": {},
   "source": [
    "## GLUE tasks"
   ]
  },
  {
   "cell_type": "code",
   "execution_count": null,
   "metadata": {},
   "outputs": [
    {
     "data": {
      "text/html": [
       "<style  type=\"text/css\" >\n",
       "</style><table id=\"T_b01ef_\" ><thead>    <tr>        <th class=\"col_heading level0 col0\" >Abbr</th>        <th class=\"col_heading level0 col1\" >Name</th>        <th class=\"col_heading level0 col2\" >Task type</th>        <th class=\"col_heading level0 col3\" >Description</th>        <th class=\"col_heading level0 col4\" >Size</th>        <th class=\"col_heading level0 col5\" >Metrics</th>    </tr></thead><tbody>\n",
       "                <tr>\n",
       "                                <td id=\"T_b01ef_row0_col0\" class=\"data row0 col0\" >CoLA</td>\n",
       "                        <td id=\"T_b01ef_row0_col1\" class=\"data row0 col1\" >Corpus of Linguistic Acceptability</td>\n",
       "                        <td id=\"T_b01ef_row0_col2\" class=\"data row0 col2\" >Single-Sentence Task</td>\n",
       "                        <td id=\"T_b01ef_row0_col3\" class=\"data row0 col3\" >Predict whether a sequence is a grammatical English sentence</td>\n",
       "                        <td id=\"T_b01ef_row0_col4\" class=\"data row0 col4\" >8.5k</td>\n",
       "                        <td id=\"T_b01ef_row0_col5\" class=\"data row0 col5\" >Matthews corr.</td>\n",
       "            </tr>\n",
       "            <tr>\n",
       "                                <td id=\"T_b01ef_row1_col0\" class=\"data row1 col0\" >SST-2</td>\n",
       "                        <td id=\"T_b01ef_row1_col1\" class=\"data row1 col1\" >Stanford Sentiment Treebank</td>\n",
       "                        <td id=\"T_b01ef_row1_col2\" class=\"data row1 col2\" >Single-Sentence Task</td>\n",
       "                        <td id=\"T_b01ef_row1_col3\" class=\"data row1 col3\" >Predict the sentiment of a given sentence</td>\n",
       "                        <td id=\"T_b01ef_row1_col4\" class=\"data row1 col4\" >67k</td>\n",
       "                        <td id=\"T_b01ef_row1_col5\" class=\"data row1 col5\" >Accuracy</td>\n",
       "            </tr>\n",
       "            <tr>\n",
       "                                <td id=\"T_b01ef_row2_col0\" class=\"data row2 col0\" >MRPC</td>\n",
       "                        <td id=\"T_b01ef_row2_col1\" class=\"data row2 col1\" >Microsoft Research Paraphrase Corpus</td>\n",
       "                        <td id=\"T_b01ef_row2_col2\" class=\"data row2 col2\" >Similarity and Paraphrase Tasks</td>\n",
       "                        <td id=\"T_b01ef_row2_col3\" class=\"data row2 col3\" >Predict whether two sentences are semantically equivalent</td>\n",
       "                        <td id=\"T_b01ef_row2_col4\" class=\"data row2 col4\" >3.7k</td>\n",
       "                        <td id=\"T_b01ef_row2_col5\" class=\"data row2 col5\" >F1/Accuracy</td>\n",
       "            </tr>\n",
       "            <tr>\n",
       "                                <td id=\"T_b01ef_row3_col0\" class=\"data row3 col0\" >SST-B</td>\n",
       "                        <td id=\"T_b01ef_row3_col1\" class=\"data row3 col1\" >Semantic Textual Similarity Benchmark</td>\n",
       "                        <td id=\"T_b01ef_row3_col2\" class=\"data row3 col2\" >Similarity and Paraphrase Tasks</td>\n",
       "                        <td id=\"T_b01ef_row3_col3\" class=\"data row3 col3\" >Predict the similarity score for two sentences on a scale from 1 to 5</td>\n",
       "                        <td id=\"T_b01ef_row3_col4\" class=\"data row3 col4\" >7k</td>\n",
       "                        <td id=\"T_b01ef_row3_col5\" class=\"data row3 col5\" >Pearson/Spearman corr.</td>\n",
       "            </tr>\n",
       "            <tr>\n",
       "                                <td id=\"T_b01ef_row4_col0\" class=\"data row4 col0\" >QQP</td>\n",
       "                        <td id=\"T_b01ef_row4_col1\" class=\"data row4 col1\" >Quora question pair</td>\n",
       "                        <td id=\"T_b01ef_row4_col2\" class=\"data row4 col2\" >Similarity and Paraphrase Tasks</td>\n",
       "                        <td id=\"T_b01ef_row4_col3\" class=\"data row4 col3\" >Predict if two questions are a paraphrase of one another</td>\n",
       "                        <td id=\"T_b01ef_row4_col4\" class=\"data row4 col4\" >364k</td>\n",
       "                        <td id=\"T_b01ef_row4_col5\" class=\"data row4 col5\" >F1/Accuracy</td>\n",
       "            </tr>\n",
       "            <tr>\n",
       "                                <td id=\"T_b01ef_row5_col0\" class=\"data row5 col0\" >MNLI</td>\n",
       "                        <td id=\"T_b01ef_row5_col1\" class=\"data row5 col1\" >Mulit-Genre Natural Language Inference</td>\n",
       "                        <td id=\"T_b01ef_row5_col2\" class=\"data row5 col2\" >Inference Tasks</td>\n",
       "                        <td id=\"T_b01ef_row5_col3\" class=\"data row5 col3\" >Predict whether the premise entails, contradicts or is neutral to the hypothesis</td>\n",
       "                        <td id=\"T_b01ef_row5_col4\" class=\"data row5 col4\" >393k</td>\n",
       "                        <td id=\"T_b01ef_row5_col5\" class=\"data row5 col5\" >Accuracy</td>\n",
       "            </tr>\n",
       "            <tr>\n",
       "                                <td id=\"T_b01ef_row6_col0\" class=\"data row6 col0\" >QNLI</td>\n",
       "                        <td id=\"T_b01ef_row6_col1\" class=\"data row6 col1\" >Stanford Question Answering Dataset</td>\n",
       "                        <td id=\"T_b01ef_row6_col2\" class=\"data row6 col2\" >Inference Tasks</td>\n",
       "                        <td id=\"T_b01ef_row6_col3\" class=\"data row6 col3\" >Predict whether the context sentence contains the answer to the question</td>\n",
       "                        <td id=\"T_b01ef_row6_col4\" class=\"data row6 col4\" >105k</td>\n",
       "                        <td id=\"T_b01ef_row6_col5\" class=\"data row6 col5\" >Accuracy</td>\n",
       "            </tr>\n",
       "            <tr>\n",
       "                                <td id=\"T_b01ef_row7_col0\" class=\"data row7 col0\" >RTE</td>\n",
       "                        <td id=\"T_b01ef_row7_col1\" class=\"data row7 col1\" >Recognize Textual Entailment</td>\n",
       "                        <td id=\"T_b01ef_row7_col2\" class=\"data row7 col2\" >Inference Tasks</td>\n",
       "                        <td id=\"T_b01ef_row7_col3\" class=\"data row7 col3\" >Predict whether one sentece entails another</td>\n",
       "                        <td id=\"T_b01ef_row7_col4\" class=\"data row7 col4\" >2.5k</td>\n",
       "                        <td id=\"T_b01ef_row7_col5\" class=\"data row7 col5\" >Accuracy</td>\n",
       "            </tr>\n",
       "            <tr>\n",
       "                                <td id=\"T_b01ef_row8_col0\" class=\"data row8 col0\" >WNLI</td>\n",
       "                        <td id=\"T_b01ef_row8_col1\" class=\"data row8 col1\" >Winograd Schema Challenge</td>\n",
       "                        <td id=\"T_b01ef_row8_col2\" class=\"data row8 col2\" >Inference Tasks</td>\n",
       "                        <td id=\"T_b01ef_row8_col3\" class=\"data row8 col3\" >Predict if the sentence with the pronoun substituted is entailed by the original sentence</td>\n",
       "                        <td id=\"T_b01ef_row8_col4\" class=\"data row8 col4\" >634</td>\n",
       "                        <td id=\"T_b01ef_row8_col5\" class=\"data row8 col5\" >Accuracy</td>\n",
       "            </tr>\n",
       "    </tbody></table>"
      ],
      "text/plain": [
       "<pandas.io.formats.style.Styler at 0x7f639db2adc0>"
      ]
     },
     "execution_count": null,
     "metadata": {},
     "output_type": "execute_result"
    }
   ],
   "source": [
    "#hide_input\n",
    "glue_tasks = {\n",
    "    'cola': {\n",
    "        'abbr': 'CoLA',\n",
    "        'name': 'Corpus of Linguistic Acceptability',\n",
    "        'description': 'Predict whether a sequence is a grammatical English sentence',\n",
    "        'task_type': 'Single-Sentence Task',\n",
    "        'domain': 'Misc.',\n",
    "        'size': '8.5k',\n",
    "        'metrics': 'Matthews corr.',\n",
    "        'dataset_names': {'train': 'train', 'valid': 'validation', 'test': 'test'},\n",
    "        'inputs': ['sentence'],\n",
    "        'target': 'label',\n",
    "        'metric_funcs': [MatthewsCorrCoef()],\n",
    "        'n_labels': 2,\n",
    "    },\n",
    "    'sst2': {\n",
    "        'abbr': 'SST-2',\n",
    "        'name': 'Stanford Sentiment Treebank',\n",
    "        'description': 'Predict the sentiment of a given sentence',\n",
    "        'task_type': 'Single-Sentence Task',\n",
    "        'domain': 'Movie reviews',\n",
    "        'size': '67k',\n",
    "        'metrics': 'Accuracy',\n",
    "        'dataset_names': {'train': 'train', 'valid': 'validation', 'test': 'test'},\n",
    "        'inputs': ['sentence'],\n",
    "        'target': 'label',\n",
    "        'metric_funcs': [accuracy],\n",
    "        'n_labels': 2\n",
    "    },\n",
    "    \n",
    "    'mrpc': {\n",
    "        'abbr': 'MRPC',\n",
    "        'name': 'Microsoft Research Paraphrase Corpus',\n",
    "        'description': 'Predict whether two sentences are semantically equivalent',\n",
    "        'task_type': 'Similarity and Paraphrase Tasks',\n",
    "        'domain': 'News',\n",
    "        'size': '3.7k',\n",
    "        'metrics': 'F1/Accuracy',\n",
    "        'dataset_names': {'train': 'train', 'valid': 'validation', 'test': 'test'},\n",
    "        'inputs': ['sentence1', 'sentence2'],\n",
    "        'target': 'label',\n",
    "        'metric_funcs': [F1Score(), accuracy],\n",
    "        'n_labels': 2\n",
    "    },\n",
    "    'stsb': {\n",
    "        'abbr': 'SST-B',\n",
    "        'name': 'Semantic Textual Similarity Benchmark',\n",
    "        'description': 'Predict the similarity score for two sentences on a scale from 1 to 5',\n",
    "        'task_type': 'Similarity and Paraphrase Tasks',\n",
    "        'domain': 'Misc.',\n",
    "        'size': '7k',\n",
    "        'metrics': 'Pearson/Spearman corr.',\n",
    "        'dataset_names': {'train': 'train', 'valid': 'validation', 'test': 'test'},\n",
    "        'inputs': ['sentence1', 'sentence2'],\n",
    "        'target': 'label',\n",
    "        'metric_funcs': [PearsonCorrCoef(), SpearmanCorrCoef()],\n",
    "        'n_labels': 1\n",
    "    },\n",
    "    'qqp': {\n",
    "        'abbr': 'QQP',\n",
    "        'name': 'Quora question pair',\n",
    "        'description': 'Predict if two questions are a paraphrase of one another',\n",
    "        'task_type': 'Similarity and Paraphrase Tasks',\n",
    "        'domain': 'Social QA questions',\n",
    "        'size': '364k',\n",
    "        'metrics': 'F1/Accuracy',\n",
    "        'dataset_names': {'train': 'train', 'valid': 'validation', 'test': 'test'},\n",
    "        'inputs': ['question1', 'question2'],\n",
    "        'target': 'label',\n",
    "        'metric_funcs': [F1Score(), accuracy],\n",
    "        'n_labels': 2\n",
    "    },\n",
    "    \n",
    "    'mnli': {\n",
    "        'abbr': 'MNLI',\n",
    "        'name': 'Mulit-Genre Natural Language Inference',\n",
    "        'description': 'Predict whether the premise entails, contradicts or is neutral to the hypothesis',\n",
    "        'task_type': 'Inference Tasks',\n",
    "        'domain': 'Misc.',\n",
    "        'size': '393k',\n",
    "        'metrics': 'Accuracy',\n",
    "        'dataset_names': {'train': 'train', 'valid': 'validation-matched', 'test': 'test'},\n",
    "        'inputs': ['premise', 'hypothesis'],\n",
    "        'target': 'label',\n",
    "        'metric_funcs': [accuracy],\n",
    "        'n_labels': 3\n",
    "    },\n",
    "    'qnli': {\n",
    "        'abbr': 'QNLI',\n",
    "        'name': 'Stanford Question Answering Dataset',\n",
    "        'description': 'Predict whether the context sentence contains the answer to the question',\n",
    "        'task_type': 'Inference Tasks',\n",
    "        'domain': 'Wikipedia',\n",
    "        'size': '105k',\n",
    "        'metrics': 'Accuracy',\n",
    "        'dataset_names': {'train': 'train', 'valid': 'validation', 'test': 'test'},\n",
    "        'inputs': ['question', 'sentence'],\n",
    "        'target': 'label',\n",
    "        'metric_funcs': [accuracy],\n",
    "        'n_labels': 2\n",
    "    },\n",
    "    'rte': {\n",
    "        'abbr': 'RTE',\n",
    "        'name': 'Recognize Textual Entailment',\n",
    "        'description': 'Predict whether one sentece entails another',\n",
    "        'task_type': 'Inference Tasks',\n",
    "        'domain': 'News, Wikipedia',\n",
    "        'size': '2.5k',\n",
    "        'metrics': 'Accuracy',\n",
    "        'dataset_names': {'train': 'train', 'valid': 'validation', 'test': 'test'},\n",
    "        'inputs': ['sentence1', 'sentence2'],\n",
    "        'target': 'label',\n",
    "        'metric_funcs': [accuracy],\n",
    "        'n_labels': 2\n",
    "    },\n",
    "    'wnli': {\n",
    "        'abbr': 'WNLI',\n",
    "        'name': 'Winograd Schema Challenge',\n",
    "        'description': 'Predict if the sentence with the pronoun substituted is entailed by the original sentence',\n",
    "        'task_type': 'Inference Tasks',\n",
    "        'domain': 'Fiction books',\n",
    "        'size': '634',\n",
    "        'metrics': 'Accuracy',\n",
    "        'dataset_names': {'train': 'train', 'valid': 'validation', 'test': 'test'},\n",
    "        'inputs': ['sentence1', 'sentence2'],\n",
    "        'target': 'label',\n",
    "        'metric_funcs': [accuracy],\n",
    "        'n_labels': 2\n",
    "    }\n",
    "}\n",
    "\n",
    "# for v in glue_tasks.values(): print(v)\n",
    "glue_tasks.values()\n",
    "\n",
    "glue_df = pd.DataFrame(glue_tasks.values(), columns=['abbr', 'name', 'task_type', 'description', 'size', 'metrics'])\n",
    "glue_df.columns = glue_df.columns.str.replace('_', ' ').str.capitalize()\n",
    "glue_df.style.hide_index()"
   ]
  },
  {
   "cell_type": "markdown",
   "metadata": {},
   "source": [
    "## Define the task and hyperparmeters"
   ]
  },
  {
   "cell_type": "markdown",
   "metadata": {},
   "source": [
    "We'll use the \"distilroberta-base\" checkpoint for this example, but if you want to try an architecture that returns `token_type_ids` for example, you can use something like bert-cased."
   ]
  },
  {
   "cell_type": "code",
   "execution_count": null,
   "metadata": {},
   "outputs": [],
   "source": [
    "task = 'mrpc'\n",
    "task_meta = glue_tasks[task]\n",
    "train_ds_name = task_meta['dataset_names'][\"train\"]\n",
    "valid_ds_name = task_meta['dataset_names'][\"valid\"]\n",
    "test_ds_name = task_meta['dataset_names'][\"test\"]\n",
    "\n",
    "task_inputs =  task_meta['inputs']\n",
    "task_target =  task_meta['target']\n",
    "task_metrics = task_meta['metric_funcs']\n",
    "\n",
    "pretrained_model_name = \"distilroberta-base\" # bert-base-cased | distilroberta-base\n",
    "\n",
    "bsz = 16\n",
    "val_bsz = bsz *2"
   ]
  },
  {
   "cell_type": "markdown",
   "metadata": {},
   "source": [
    "## Prepare the datasets"
   ]
  },
  {
   "cell_type": "markdown",
   "metadata": {},
   "source": [
    "Let's start by building our `DataBlock`.  We'll load the MRPC datset from huggingface's `datasets` library which will be cached after downloading via the `load_dataset` method.  For more information on the `datasets` API, see the documentation here."
   ]
  },
  {
   "cell_type": "code",
   "execution_count": null,
   "metadata": {},
   "outputs": [
    {
     "name": "stderr",
     "output_type": "stream",
     "text": [
      "Reusing dataset glue (/home/wgilliam/.cache/huggingface/datasets/glue/mrpc/1.0.0/dacbe3125aa31d7f70367a07a8a9e72a5a0bfeb5fc42e75c9db75b96da6053ad)\n"
     ]
    },
    {
     "name": "stdout",
     "output_type": "stream",
     "text": [
      "DatasetDict({\n",
      "    train: Dataset({\n",
      "        features: ['sentence1', 'sentence2', 'label', 'idx'],\n",
      "        num_rows: 3668\n",
      "    })\n",
      "    validation: Dataset({\n",
      "        features: ['sentence1', 'sentence2', 'label', 'idx'],\n",
      "        num_rows: 408\n",
      "    })\n",
      "    test: Dataset({\n",
      "        features: ['sentence1', 'sentence2', 'label', 'idx'],\n",
      "        num_rows: 1725\n",
      "    })\n",
      "})\n",
      "\n",
      "{'idx': 0, 'label': 1, 'sentence1': 'Amrozi accused his brother , whom he called \" the witness \" , of deliberately distorting his evidence .', 'sentence2': 'Referring to him as only \" the witness \" , Amrozi accused his brother of deliberately distorting his evidence .'}\n",
      "\n",
      "{'sentence1': Value(dtype='string', id=None), 'sentence2': Value(dtype='string', id=None), 'label': ClassLabel(num_classes=2, names=['not_equivalent', 'equivalent'], names_file=None, id=None), 'idx': Value(dtype='int32', id=None)}\n",
      "\n"
     ]
    }
   ],
   "source": [
    "raw_datasets = load_dataset('glue', task) \n",
    "print(f'{raw_datasets}\\n')\n",
    "print(f'{raw_datasets[train_ds_name][0]}\\n')\n",
    "print(f'{raw_datasets[train_ds_name].features}\\n')"
   ]
  },
  {
   "cell_type": "markdown",
   "metadata": {},
   "source": [
    "There are a variety of ways we can preprocess the dataset for DataBlock consumption.  For example, we could push the data into a DataFrame, add a boolean `is_valid` column, and use the `ColSplitter` method to define our train/validation splits like this:"
   ]
  },
  {
   "cell_type": "code",
   "execution_count": null,
   "metadata": {},
   "outputs": [
    {
     "name": "stdout",
     "output_type": "stream",
     "text": [
      "4076\n"
     ]
    },
    {
     "data": {
      "text/html": [
       "<div>\n",
       "<style scoped>\n",
       "    .dataframe tbody tr th:only-of-type {\n",
       "        vertical-align: middle;\n",
       "    }\n",
       "\n",
       "    .dataframe tbody tr th {\n",
       "        vertical-align: top;\n",
       "    }\n",
       "\n",
       "    .dataframe thead th {\n",
       "        text-align: right;\n",
       "    }\n",
       "</style>\n",
       "<table border=\"1\" class=\"dataframe\">\n",
       "  <thead>\n",
       "    <tr style=\"text-align: right;\">\n",
       "      <th></th>\n",
       "      <th>sentence1</th>\n",
       "      <th>sentence2</th>\n",
       "      <th>label</th>\n",
       "      <th>idx</th>\n",
       "      <th>is_valid</th>\n",
       "    </tr>\n",
       "  </thead>\n",
       "  <tbody>\n",
       "    <tr>\n",
       "      <th>0</th>\n",
       "      <td>Amrozi accused his brother , whom he called \" the witness \" , of deliberately distorting his evidence .</td>\n",
       "      <td>Referring to him as only \" the witness \" , Amrozi accused his brother of deliberately distorting his evidence .</td>\n",
       "      <td>1</td>\n",
       "      <td>0</td>\n",
       "      <td>False</td>\n",
       "    </tr>\n",
       "    <tr>\n",
       "      <th>1</th>\n",
       "      <td>Yucaipa owned Dominick 's before selling the chain to Safeway in 1998 for $ 2.5 billion .</td>\n",
       "      <td>Yucaipa bought Dominick 's in 1995 for $ 693 million and sold it to Safeway for $ 1.8 billion in 1998 .</td>\n",
       "      <td>0</td>\n",
       "      <td>1</td>\n",
       "      <td>False</td>\n",
       "    </tr>\n",
       "    <tr>\n",
       "      <th>2</th>\n",
       "      <td>They had published an advertisement on the Internet on June 10 , offering the cargo for sale , he added .</td>\n",
       "      <td>On June 10 , the ship 's owners had published an advertisement on the Internet , offering the explosives for sale .</td>\n",
       "      <td>1</td>\n",
       "      <td>2</td>\n",
       "      <td>False</td>\n",
       "    </tr>\n",
       "    <tr>\n",
       "      <th>3</th>\n",
       "      <td>Around 0335 GMT , Tab shares were up 19 cents , or 4.4 % , at A $ 4.56 , having earlier set a record high of A $ 4.57 .</td>\n",
       "      <td>Tab shares jumped 20 cents , or 4.6 % , to set a record closing high at A $ 4.57 .</td>\n",
       "      <td>0</td>\n",
       "      <td>3</td>\n",
       "      <td>False</td>\n",
       "    </tr>\n",
       "    <tr>\n",
       "      <th>4</th>\n",
       "      <td>The stock rose $ 2.11 , or about 11 percent , to close Friday at $ 21.51 on the New York Stock Exchange .</td>\n",
       "      <td>PG &amp; E Corp. shares jumped $ 1.63 or 8 percent to $ 21.03 on the New York Stock Exchange on Friday .</td>\n",
       "      <td>1</td>\n",
       "      <td>4</td>\n",
       "      <td>False</td>\n",
       "    </tr>\n",
       "  </tbody>\n",
       "</table>\n",
       "</div>"
      ],
      "text/plain": [
       "                                                                                                                 sentence1  \\\n",
       "0                  Amrozi accused his brother , whom he called \" the witness \" , of deliberately distorting his evidence .   \n",
       "1                                Yucaipa owned Dominick 's before selling the chain to Safeway in 1998 for $ 2.5 billion .   \n",
       "2                They had published an advertisement on the Internet on June 10 , offering the cargo for sale , he added .   \n",
       "3  Around 0335 GMT , Tab shares were up 19 cents , or 4.4 % , at A $ 4.56 , having earlier set a record high of A $ 4.57 .   \n",
       "4                The stock rose $ 2.11 , or about 11 percent , to close Friday at $ 21.51 on the New York Stock Exchange .   \n",
       "\n",
       "                                                                                                             sentence2  \\\n",
       "0      Referring to him as only \" the witness \" , Amrozi accused his brother of deliberately distorting his evidence .   \n",
       "1              Yucaipa bought Dominick 's in 1995 for $ 693 million and sold it to Safeway for $ 1.8 billion in 1998 .   \n",
       "2  On June 10 , the ship 's owners had published an advertisement on the Internet , offering the explosives for sale .   \n",
       "3                                   Tab shares jumped 20 cents , or 4.6 % , to set a record closing high at A $ 4.57 .   \n",
       "4                 PG & E Corp. shares jumped $ 1.63 or 8 percent to $ 21.03 on the New York Stock Exchange on Friday .   \n",
       "\n",
       "   label  idx  is_valid  \n",
       "0      1    0     False  \n",
       "1      0    1     False  \n",
       "2      1    2     False  \n",
       "3      0    3     False  \n",
       "4      1    4     False  "
      ]
     },
     "execution_count": null,
     "metadata": {},
     "output_type": "execute_result"
    }
   ],
   "source": [
    "raw_train_df = pd.DataFrame(raw_datasets[train_ds_name], columns=list(raw_datasets[train_ds_name].features.keys()))\n",
    "raw_train_df['is_valid'] = False\n",
    "\n",
    "raw_valid_df = pd.DataFrame(raw_datasets[valid_ds_name], columns=list(raw_datasets[train_ds_name].features.keys()))\n",
    "raw_valid_df['is_valid'] = True\n",
    "\n",
    "raw_df = pd.concat([raw_train_df, raw_valid_df])\n",
    "print(len(raw_df))\n",
    "raw_df.head()"
   ]
  },
  {
   "cell_type": "markdown",
   "metadata": {},
   "source": [
    "Another option is to capture the indexes for both train and validation sets, use the datasets `concatenate_datasets` to put them into a single dataset, and finally use the `IndexSplitter` method to define our train/validation splits as such:"
   ]
  },
  {
   "cell_type": "code",
   "execution_count": null,
   "metadata": {},
   "outputs": [],
   "source": [
    "n_train, n_valid = raw_datasets[train_ds_name].num_rows, raw_datasets[valid_ds_name].num_rows\n",
    "train_idxs, valid_idxs = L(range(n_train)), L(range(n_train, n_train + n_valid))\n",
    "raw_ds = concatenate_datasets([raw_datasets[train_ds_name], raw_datasets[valid_ds_name]])"
   ]
  },
  {
   "cell_type": "markdown",
   "metadata": {},
   "source": [
    "## Mid-level API"
   ]
  },
  {
   "cell_type": "markdown",
   "metadata": {},
   "source": [
    "### Prepare the huggingface objects"
   ]
  },
  {
   "cell_type": "markdown",
   "metadata": {},
   "source": [
    "How many classes are we working with? Depending on your approach above, you can do one of the two approaches below."
   ]
  },
  {
   "cell_type": "code",
   "execution_count": null,
   "metadata": {},
   "outputs": [
    {
     "data": {
      "text/plain": [
       "2"
      ]
     },
     "execution_count": null,
     "metadata": {},
     "output_type": "execute_result"
    }
   ],
   "source": [
    "n_lbls = raw_df[task_target].nunique(); n_lbls"
   ]
  },
  {
   "cell_type": "code",
   "execution_count": null,
   "metadata": {},
   "outputs": [
    {
     "data": {
      "text/plain": [
       "2"
      ]
     },
     "execution_count": null,
     "metadata": {},
     "output_type": "execute_result"
    }
   ],
   "source": [
    "n_lbls = len(set([item[task_target] for item in raw_ds])); n_lbls"
   ]
  },
  {
   "cell_type": "code",
   "execution_count": null,
   "metadata": {},
   "outputs": [
    {
     "name": "stdout",
     "output_type": "stream",
     "text": [
      "roberta\n",
      "<class 'transformers.models.roberta.configuration_roberta.RobertaConfig'>\n",
      "<class 'transformers.models.roberta.tokenization_roberta_fast.RobertaTokenizerFast'>\n",
      "<class 'transformers.models.roberta.modeling_roberta.RobertaForSequenceClassification'>\n"
     ]
    }
   ],
   "source": [
    "model_cls = AutoModelForSequenceClassification\n",
    "\n",
    "config = AutoConfig.from_pretrained(pretrained_model_name)\n",
    "config.num_labels = n_lbls\n",
    "\n",
    "hf_arch, hf_config, hf_tokenizer, hf_model = BLURR.get_hf_objects(pretrained_model_name, \n",
    "                                                                  model_cls=model_cls, \n",
    "                                                                  config=config)\n",
    "\n",
    "print(hf_arch)\n",
    "print(type(hf_config))\n",
    "print(type(hf_tokenizer))\n",
    "print(type(hf_model))"
   ]
  },
  {
   "cell_type": "markdown",
   "metadata": {},
   "source": [
    "### Build the DataBlock"
   ]
  },
  {
   "cell_type": "code",
   "execution_count": null,
   "metadata": {},
   "outputs": [],
   "source": [
    "blocks = (HF_TextBlock(hf_arch, hf_config, hf_tokenizer, hf_model), CategoryBlock())\n",
    "\n",
    "def get_x(r, attr): \n",
    "    return r[attr] if (isinstance(attr, str)) else tuple(r[inp] for inp in attr)\n",
    "    \n",
    "dblock = DataBlock(blocks=blocks, \n",
    "                   get_x=partial(get_x, attr=task_inputs), \n",
    "                   get_y=ItemGetter(task_target), \n",
    "                   splitter=IndexSplitter(valid_idxs))"
   ]
  },
  {
   "cell_type": "code",
   "execution_count": null,
   "metadata": {},
   "outputs": [],
   "source": [
    "dls = dblock.dataloaders(raw_ds, bs=bsz, val_bs=val_bsz)"
   ]
  },
  {
   "cell_type": "code",
   "execution_count": null,
   "metadata": {},
   "outputs": [
    {
     "data": {
      "text/plain": [
       "(2, torch.Size([16, 69]), torch.Size([16]))"
      ]
     },
     "execution_count": null,
     "metadata": {},
     "output_type": "execute_result"
    }
   ],
   "source": [
    "b = dls.one_batch()\n",
    "len(b), b[0]['input_ids'].shape, b[1].shape"
   ]
  },
  {
   "cell_type": "code",
   "execution_count": null,
   "metadata": {},
   "outputs": [],
   "source": [
    "if ('token_type_ids' in b[0]):\n",
    "    print([(hf_tokenizer.convert_ids_to_tokens(inp_id.item()), inp_id.item(), tt_id.item() )\n",
    "           for inp_id, tt_id in zip (b[0]['input_ids'][0], b[0]['token_type_ids'][0]) \n",
    "           if inp_id != hf_tokenizer.pad_token_id])"
   ]
  },
  {
   "cell_type": "code",
   "execution_count": null,
   "metadata": {},
   "outputs": [
    {
     "data": {
      "text/html": [
       "<table border=\"1\" class=\"dataframe\">\n",
       "  <thead>\n",
       "    <tr style=\"text-align: right;\">\n",
       "      <th></th>\n",
       "      <th>text</th>\n",
       "      <th>category</th>\n",
       "    </tr>\n",
       "  </thead>\n",
       "  <tbody>\n",
       "    <tr>\n",
       "      <th>0</th>\n",
       "      <td>Amrozi accused his brother, whom he called \" the witness \", of deliberately distorting his evidence. Referring to him as only \" the witness \", Amrozi accused his brother of deliberately distorting his evidence.</td>\n",
       "      <td>1</td>\n",
       "    </tr>\n",
       "    <tr>\n",
       "      <th>1</th>\n",
       "      <td>All five were charged with robbery and criminal impersonation of a police officer. The teens are being held on charges of robbery and criminal impersonation of a police officer, sources said.</td>\n",
       "      <td>1</td>\n",
       "    </tr>\n",
       "    <tr>\n",
       "      <th>2</th>\n",
       "      <td>As part of a 2001 agreement to extradite them from Canada, prosecutors agreed not to seek the death penalty. As part of the agreement to extradite the two best friends from Canada, prosecutors agreed not to seek the death penalty for convictions.</td>\n",
       "      <td>1</td>\n",
       "    </tr>\n",
       "    <tr>\n",
       "      <th>3</th>\n",
       "      <td>They were not supplied or given to us but unearthed by our reporter, David Blair, in the Foreign Ministry in Baghdad. \" They were not supplied or given to us, but unearthed by our reporter \" in Iraq's foreign ministry, he said.</td>\n",
       "      <td>1</td>\n",
       "    </tr>\n",
       "    <tr>\n",
       "      <th>4</th>\n",
       "      <td>October gasoline prices settled 1.47 cents lower at 78.70 cents a gallon. October heating oil ended down 0.41 cent to 70.74 cents a gallon.</td>\n",
       "      <td>1</td>\n",
       "    </tr>\n",
       "  </tbody>\n",
       "</table>"
      ],
      "text/plain": [
       "<IPython.core.display.HTML object>"
      ]
     },
     "metadata": {},
     "output_type": "display_data"
    }
   ],
   "source": [
    "dls.show_batch(dataloaders=dls, max_n=5)"
   ]
  },
  {
   "cell_type": "markdown",
   "metadata": {},
   "source": [
    "### Train"
   ]
  },
  {
   "cell_type": "markdown",
   "metadata": {},
   "source": [
    "With our DataLoaders built, we can now build our `Learner` and train.  We'll use mixed precision so we can train with bigger batches"
   ]
  },
  {
   "cell_type": "code",
   "execution_count": null,
   "metadata": {},
   "outputs": [],
   "source": [
    "model = HF_BaseModelWrapper(hf_model)\n",
    "\n",
    "learn = Learner(dls, \n",
    "                model,\n",
    "                opt_func=partial(Adam),\n",
    "                loss_func=CrossEntropyLossFlat(),\n",
    "                metrics=task_metrics,\n",
    "                cbs=[HF_BaseModelCallback],\n",
    "                splitter=hf_splitter).to_fp16()\n",
    "\n",
    "learn.freeze()"
   ]
  },
  {
   "cell_type": "code",
   "execution_count": null,
   "metadata": {},
   "outputs": [
    {
     "data": {
      "text/html": [],
      "text/plain": [
       "<IPython.core.display.HTML object>"
      ]
     },
     "metadata": {},
     "output_type": "display_data"
    },
    {
     "data": {
      "text/plain": [
       "HF_BaseModelWrapper (Input shape: 16)\n",
       "============================================================================\n",
       "Layer (type)         Output Shape         Param #    Trainable \n",
       "============================================================================\n",
       "                     16 x 69 x 768       \n",
       "Embedding                                 38603520   False     \n",
       "Embedding                                 394752     False     \n",
       "Embedding                                 768        False     \n",
       "LayerNorm                                 1536       True      \n",
       "Dropout                                                        \n",
       "Linear                                    590592     False     \n",
       "Linear                                    590592     False     \n",
       "Linear                                    590592     False     \n",
       "Dropout                                                        \n",
       "Linear                                    590592     False     \n",
       "LayerNorm                                 1536       True      \n",
       "Dropout                                                        \n",
       "____________________________________________________________________________\n",
       "                     16 x 69 x 3072      \n",
       "Linear                                    2362368    False     \n",
       "____________________________________________________________________________\n",
       "                     16 x 69 x 768       \n",
       "Linear                                    2360064    False     \n",
       "LayerNorm                                 1536       True      \n",
       "Dropout                                                        \n",
       "Linear                                    590592     False     \n",
       "Linear                                    590592     False     \n",
       "Linear                                    590592     False     \n",
       "Dropout                                                        \n",
       "Linear                                    590592     False     \n",
       "LayerNorm                                 1536       True      \n",
       "Dropout                                                        \n",
       "____________________________________________________________________________\n",
       "                     16 x 69 x 3072      \n",
       "Linear                                    2362368    False     \n",
       "____________________________________________________________________________\n",
       "                     16 x 69 x 768       \n",
       "Linear                                    2360064    False     \n",
       "LayerNorm                                 1536       True      \n",
       "Dropout                                                        \n",
       "Linear                                    590592     False     \n",
       "Linear                                    590592     False     \n",
       "Linear                                    590592     False     \n",
       "Dropout                                                        \n",
       "Linear                                    590592     False     \n",
       "LayerNorm                                 1536       True      \n",
       "Dropout                                                        \n",
       "____________________________________________________________________________\n",
       "                     16 x 69 x 3072      \n",
       "Linear                                    2362368    False     \n",
       "____________________________________________________________________________\n",
       "                     16 x 69 x 768       \n",
       "Linear                                    2360064    False     \n",
       "LayerNorm                                 1536       True      \n",
       "Dropout                                                        \n",
       "Linear                                    590592     False     \n",
       "Linear                                    590592     False     \n",
       "Linear                                    590592     False     \n",
       "Dropout                                                        \n",
       "Linear                                    590592     False     \n",
       "LayerNorm                                 1536       True      \n",
       "Dropout                                                        \n",
       "____________________________________________________________________________\n",
       "                     16 x 69 x 3072      \n",
       "Linear                                    2362368    False     \n",
       "____________________________________________________________________________\n",
       "                     16 x 69 x 768       \n",
       "Linear                                    2360064    False     \n",
       "LayerNorm                                 1536       True      \n",
       "Dropout                                                        \n",
       "Linear                                    590592     False     \n",
       "Linear                                    590592     False     \n",
       "Linear                                    590592     False     \n",
       "Dropout                                                        \n",
       "Linear                                    590592     False     \n",
       "LayerNorm                                 1536       True      \n",
       "Dropout                                                        \n",
       "____________________________________________________________________________\n",
       "                     16 x 69 x 3072      \n",
       "Linear                                    2362368    False     \n",
       "____________________________________________________________________________\n",
       "                     16 x 69 x 768       \n",
       "Linear                                    2360064    False     \n",
       "LayerNorm                                 1536       True      \n",
       "Dropout                                                        \n",
       "Linear                                    590592     False     \n",
       "Linear                                    590592     False     \n",
       "Linear                                    590592     False     \n",
       "Dropout                                                        \n",
       "Linear                                    590592     False     \n",
       "LayerNorm                                 1536       True      \n",
       "Dropout                                                        \n",
       "____________________________________________________________________________\n",
       "                     16 x 69 x 3072      \n",
       "Linear                                    2362368    False     \n",
       "____________________________________________________________________________\n",
       "                     16 x 69 x 768       \n",
       "Linear                                    2360064    False     \n",
       "LayerNorm                                 1536       True      \n",
       "Dropout                                                        \n",
       "Linear                                    590592     True      \n",
       "Dropout                                                        \n",
       "____________________________________________________________________________\n",
       "                     16 x 2              \n",
       "Linear                                    1538       True      \n",
       "____________________________________________________________________________\n",
       "\n",
       "Total params: 82,119,938\n",
       "Total trainable params: 612,098\n",
       "Total non-trainable params: 81,507,840\n",
       "\n",
       "Optimizer used: functools.partial(<function Adam at 0x7f63b8cdad30>)\n",
       "Loss function: FlattenedLoss of CrossEntropyLoss()\n",
       "\n",
       "Model frozen up to parameter group #2\n",
       "\n",
       "Callbacks:\n",
       "  - TrainEvalCallback\n",
       "  - HF_BaseModelCallback\n",
       "  - MixedPrecision\n",
       "  - Recorder\n",
       "  - ProgressCallback"
      ]
     },
     "execution_count": null,
     "metadata": {},
     "output_type": "execute_result"
    }
   ],
   "source": [
    "learn.summary()"
   ]
  },
  {
   "cell_type": "code",
   "execution_count": null,
   "metadata": {},
   "outputs": [
    {
     "data": {
      "text/plain": [
       "(torch.Size([16, 2]),\n",
       " SequenceClassifierOutput(loss=None, logits=tensor([[ 0.1071, -0.0940],\n",
       "         [ 0.1020, -0.0825],\n",
       "         [ 0.1007, -0.1009],\n",
       "         [ 0.1005, -0.0866],\n",
       "         [ 0.1160, -0.0963],\n",
       "         [ 0.1053, -0.0829],\n",
       "         [ 0.1144, -0.0933],\n",
       "         [ 0.1095, -0.0989],\n",
       "         [ 0.1001, -0.0940],\n",
       "         [ 0.1097, -0.0874],\n",
       "         [ 0.1112, -0.0802],\n",
       "         [ 0.1112, -0.0944],\n",
       "         [ 0.1115, -0.0962],\n",
       "         [ 0.1098, -0.0901],\n",
       "         [ 0.1239, -0.0915],\n",
       "         [ 0.1121, -0.0852]], device='cuda:1', grad_fn=<AddmmBackward>), hidden_states=None, attentions=None))"
      ]
     },
     "execution_count": null,
     "metadata": {},
     "output_type": "execute_result"
    }
   ],
   "source": [
    "preds = model(b[0])\n",
    "preds.logits.shape, preds"
   ]
  },
  {
   "cell_type": "code",
   "execution_count": null,
   "metadata": {},
   "outputs": [
    {
     "data": {
      "text/html": [],
      "text/plain": [
       "<IPython.core.display.HTML object>"
      ]
     },
     "metadata": {},
     "output_type": "display_data"
    },
    {
     "name": "stderr",
     "output_type": "stream",
     "text": [
      "/home/wgilliam/miniconda3/envs/blurr/lib/python3.9/site-packages/fastai/callback/schedule.py:270: UserWarning: color is redundantly defined by the 'color' keyword argument and the fmt string \"ro\" (-> color='r'). The keyword argument will take precedence.\n",
      "  ax.plot(val, idx, 'ro', label=nm, c=color)\n"
     ]
    },
    {
     "data": {
      "text/plain": [
       "SuggestedLRs(minimum=3.311311302240938e-05, steep=0.02290867641568184, valley=tensor(0.0003), slide=tensor(0.0021))"
      ]
     },
     "execution_count": null,
     "metadata": {},
     "output_type": "execute_result"
    },
    {
     "data": {
      "image/png": "[encoded data removed]",
      "text/plain": [
       "<Figure size 640x480 with 1 Axes>"
      ]
     },
     "metadata": {},
     "output_type": "display_data"
    }
   ],
   "source": [
    "learn.lr_find(suggest_funcs=[minimum, steep, valley, slide])"
   ]
  },
  {
   "cell_type": "code",
   "execution_count": null,
   "metadata": {},
   "outputs": [
    {
     "data": {
      "text/html": [
       "<table border=\"1\" class=\"dataframe\">\n",
       "  <thead>\n",
       "    <tr style=\"text-align: left;\">\n",
       "      <th>epoch</th>\n",
       "      <th>train_loss</th>\n",
       "      <th>valid_loss</th>\n",
       "      <th>f1_score</th>\n",
       "      <th>accuracy</th>\n",
       "      <th>time</th>\n",
       "    </tr>\n",
       "  </thead>\n",
       "  <tbody>\n",
       "    <tr>\n",
       "      <td>0</td>\n",
       "      <td>0.554214</td>\n",
       "      <td>0.487845</td>\n",
       "      <td>0.854400</td>\n",
       "      <td>0.776961</td>\n",
       "      <td>00:12</td>\n",
       "    </tr>\n",
       "  </tbody>\n",
       "</table>"
      ],
      "text/plain": [
       "<IPython.core.display.HTML object>"
      ]
     },
     "metadata": {},
     "output_type": "display_data"
    }
   ],
   "source": [
    "learn.fit_one_cycle(1, lr_max=2e-3)"
   ]
  },
  {
   "cell_type": "code",
   "execution_count": null,
   "metadata": {},
   "outputs": [
    {
     "data": {
      "text/html": [],
      "text/plain": [
       "<IPython.core.display.HTML object>"
      ]
     },
     "metadata": {},
     "output_type": "display_data"
    },
    {
     "name": "stderr",
     "output_type": "stream",
     "text": [
      "/home/wgilliam/miniconda3/envs/blurr/lib/python3.9/site-packages/fastai/callback/schedule.py:270: UserWarning: color is redundantly defined by the 'color' keyword argument and the fmt string \"ro\" (-> color='r'). The keyword argument will take precedence.\n",
      "  ax.plot(val, idx, 'ro', label=nm, c=color)\n"
     ]
    },
    {
     "data": {
      "text/plain": [
       "SuggestedLRs(minimum=1.3065426344993637e-12, steep=1.0546620000939644e-11, valley=tensor(2.7595e-05), slide=tensor(2.2275e-05))"
      ]
     },
     "execution_count": null,
     "metadata": {},
     "output_type": "execute_result"
    },
    {
     "data": {
      "image/png": "[encoded data removed]",
      "text/plain": [
       "<Figure size 640x480 with 1 Axes>"
      ]
     },
     "metadata": {},
     "output_type": "display_data"
    }
   ],
   "source": [
    "learn.unfreeze()\n",
    "learn.lr_find(start_lr=1e-12, end_lr=2e-3, suggest_funcs=[minimum, steep, valley, slide])"
   ]
  },
  {
   "cell_type": "code",
   "execution_count": null,
   "metadata": {},
   "outputs": [
    {
     "data": {
      "text/html": [
       "<table border=\"1\" class=\"dataframe\">\n",
       "  <thead>\n",
       "    <tr style=\"text-align: left;\">\n",
       "      <th>epoch</th>\n",
       "      <th>train_loss</th>\n",
       "      <th>valid_loss</th>\n",
       "      <th>f1_score</th>\n",
       "      <th>accuracy</th>\n",
       "      <th>time</th>\n",
       "    </tr>\n",
       "  </thead>\n",
       "  <tbody>\n",
       "    <tr>\n",
       "      <td>0</td>\n",
       "      <td>0.465272</td>\n",
       "      <td>0.387093</td>\n",
       "      <td>0.869565</td>\n",
       "      <td>0.816176</td>\n",
       "      <td>00:21</td>\n",
       "    </tr>\n",
       "    <tr>\n",
       "      <td>1</td>\n",
       "      <td>0.294113</td>\n",
       "      <td>0.330454</td>\n",
       "      <td>0.895944</td>\n",
       "      <td>0.855392</td>\n",
       "      <td>00:21</td>\n",
       "    </tr>\n",
       "  </tbody>\n",
       "</table>"
      ],
      "text/plain": [
       "<IPython.core.display.HTML object>"
      ]
     },
     "metadata": {},
     "output_type": "display_data"
    }
   ],
   "source": [
    "learn.fit_one_cycle(2, lr_max=slice(2e-5, 2e-4))"
   ]
  },
  {
   "cell_type": "code",
   "execution_count": null,
   "metadata": {},
   "outputs": [
    {
     "data": {
      "text/html": [],
      "text/plain": [
       "<IPython.core.display.HTML object>"
      ]
     },
     "metadata": {},
     "output_type": "display_data"
    },
    {
     "data": {
      "text/html": [
       "<table border=\"1\" class=\"dataframe\">\n",
       "  <thead>\n",
       "    <tr style=\"text-align: right;\">\n",
       "      <th></th>\n",
       "      <th>text</th>\n",
       "      <th>category</th>\n",
       "      <th>target</th>\n",
       "    </tr>\n",
       "  </thead>\n",
       "  <tbody>\n",
       "    <tr>\n",
       "      <th>0</th>\n",
       "      <td>He said the foodservice pie business doesn 't fit the company's long-term growth strategy. \" The foodservice pie business does not fit our long-term growth strategy.</td>\n",
       "      <td>1</td>\n",
       "      <td>1</td>\n",
       "    </tr>\n",
       "    <tr>\n",
       "      <th>1</th>\n",
       "      <td>The first products are likely to be dongles costing between US $ 100 and US $ 150 that will establish connections between consumer electronics devices and PCs. The first products will likely be dongles costing $ 100 to $ 150 that will establish connections between consumer electronics devices and PCs.</td>\n",
       "      <td>1</td>\n",
       "      <td>1</td>\n",
       "    </tr>\n",
       "    <tr>\n",
       "      <th>2</th>\n",
       "      <td>About 10 percent of high school and 16 percent of elementary students must be proficient at math. In math, 16 percent of elementary and middle school students and 9.6 percent of high school students must be proficient.</td>\n",
       "      <td>1</td>\n",
       "      <td>1</td>\n",
       "    </tr>\n",
       "    <tr>\n",
       "      <th>3</th>\n",
       "      <td>The decision came a year after Whipple ended federal oversight of the district's racial balance, facilities, budget, and busing. The decision came a year after Whipple ended federal oversight of school busing as well as the district's racial balance, facilities and budget.</td>\n",
       "      <td>1</td>\n",
       "      <td>1</td>\n",
       "    </tr>\n",
       "    <tr>\n",
       "      <th>4</th>\n",
       "      <td>Parson was charged with intentionally causing and attempting to cause damage to protected computers. Parson is charged with one count of intentionally causing damage to a protected computer.</td>\n",
       "      <td>1</td>\n",
       "      <td>1</td>\n",
       "    </tr>\n",
       "  </tbody>\n",
       "</table>"
      ],
      "text/plain": [
       "<IPython.core.display.HTML object>"
      ]
     },
     "metadata": {},
     "output_type": "display_data"
    }
   ],
   "source": [
    "learn.show_results(learner=learn, max_n=5)"
   ]
  },
  {
   "cell_type": "markdown",
   "metadata": {},
   "source": [
    "### Evaluate"
   ]
  },
  {
   "cell_type": "markdown",
   "metadata": {},
   "source": [
    "How did we do?"
   ]
  },
  {
   "cell_type": "code",
   "execution_count": null,
   "metadata": {},
   "outputs": [
    {
     "data": {
      "text/html": [],
      "text/plain": [
       "<IPython.core.display.HTML object>"
      ]
     },
     "metadata": {},
     "output_type": "display_data"
    }
   ],
   "source": [
    "val_res = learn.validate()"
   ]
  },
  {
   "cell_type": "code",
   "execution_count": null,
   "metadata": {},
   "outputs": [
    {
     "data": {
      "text/plain": [
       "{'loss': 0.33045369386672974,\n",
       " 'f1_score': 0.8959435626102292,\n",
       " 'accuracy': 0.8553921580314636}"
      ]
     },
     "execution_count": null,
     "metadata": {},
     "output_type": "execute_result"
    }
   ],
   "source": [
    "val_res_d = { 'loss': val_res[0]}\n",
    "for idx, m in enumerate(learn.metrics):\n",
    "    val_res_d[m.name] = val_res[idx+1]\n",
    "    \n",
    "val_res_d"
   ]
  },
  {
   "cell_type": "code",
   "execution_count": null,
   "metadata": {},
   "outputs": [
    {
     "data": {
      "text/html": [],
      "text/plain": [
       "<IPython.core.display.HTML object>"
      ]
     },
     "metadata": {},
     "output_type": "display_data"
    },
    {
     "name": "stdout",
     "output_type": "stream",
     "text": [
      "torch.Size([408, 2]) torch.Size([408]) torch.Size([408])\n",
      "TensorBase(0.3305) TensorBase(0.8554)\n"
     ]
    }
   ],
   "source": [
    "preds, targs, losses = learn.get_preds(with_loss=True)\n",
    "print(preds.shape, targs.shape, losses.shape)\n",
    "print(losses.mean(), accuracy(preds, targs))"
   ]
  },
  {
   "cell_type": "markdown",
   "metadata": {},
   "source": [
    "### Inference"
   ]
  },
  {
   "cell_type": "markdown",
   "metadata": {},
   "source": [
    "Let's do **item inference** on an example from our test dataset"
   ]
  },
  {
   "cell_type": "code",
   "execution_count": null,
   "metadata": {},
   "outputs": [
    {
     "data": {
      "text/html": [
       "<div>\n",
       "<style scoped>\n",
       "    .dataframe tbody tr th:only-of-type {\n",
       "        vertical-align: middle;\n",
       "    }\n",
       "\n",
       "    .dataframe tbody tr th {\n",
       "        vertical-align: top;\n",
       "    }\n",
       "\n",
       "    .dataframe thead th {\n",
       "        text-align: right;\n",
       "    }\n",
       "</style>\n",
       "<table border=\"1\" class=\"dataframe\">\n",
       "  <thead>\n",
       "    <tr style=\"text-align: right;\">\n",
       "      <th></th>\n",
       "      <th>sentence1</th>\n",
       "      <th>sentence2</th>\n",
       "      <th>label</th>\n",
       "      <th>idx</th>\n",
       "    </tr>\n",
       "  </thead>\n",
       "  <tbody>\n",
       "    <tr>\n",
       "      <th>0</th>\n",
       "      <td>PCCW 's chief operating officer , Mike Butcher , and Alex Arena , the chief financial officer , will report directly to Mr So .</td>\n",
       "      <td>Current Chief Operating Officer Mike Butcher and Group Chief Financial Officer Alex Arena will report to So .</td>\n",
       "      <td>1</td>\n",
       "      <td>0</td>\n",
       "    </tr>\n",
       "    <tr>\n",
       "      <th>1</th>\n",
       "      <td>The world 's two largest automakers said their U.S. sales declined more than predicted last month as a late summer sales frenzy caused more of an industry backlash than expected .</td>\n",
       "      <td>Domestic sales at both GM and No. 2 Ford Motor Co. declined more than predicted as a late summer sales frenzy prompted a larger-than-expected industry backlash .</td>\n",
       "      <td>1</td>\n",
       "      <td>1</td>\n",
       "    </tr>\n",
       "    <tr>\n",
       "      <th>2</th>\n",
       "      <td>According to the federal Centers for Disease Control and Prevention ( news - web sites ) , there were 19 reported cases of measles in the United States in 2002 .</td>\n",
       "      <td>The Centers for Disease Control and Prevention said there were 19 reported cases of measles in the United States in 2002 .</td>\n",
       "      <td>1</td>\n",
       "      <td>2</td>\n",
       "    </tr>\n",
       "    <tr>\n",
       "      <th>3</th>\n",
       "      <td>A tropical storm rapidly developed in the Gulf of Mexico Sunday and was expected to hit somewhere along the Texas or Louisiana coasts by Monday night .</td>\n",
       "      <td>A tropical storm rapidly developed in the Gulf of Mexico on Sunday and could have hurricane-force winds when it hits land somewhere along the Louisiana coast Monday night .</td>\n",
       "      <td>0</td>\n",
       "      <td>3</td>\n",
       "    </tr>\n",
       "    <tr>\n",
       "      <th>4</th>\n",
       "      <td>The company didn 't detail the costs of the replacement and repairs .</td>\n",
       "      <td>But company officials expect the costs of the replacement work to run into the millions of dollars .</td>\n",
       "      <td>0</td>\n",
       "      <td>4</td>\n",
       "    </tr>\n",
       "    <tr>\n",
       "      <th>5</th>\n",
       "      <td>The settling companies would also assign their possible claims against the underwriters to the investor plaintiffs , he added .</td>\n",
       "      <td>Under the agreement , the settling companies will also assign their potential claims against the underwriters to the investors , he added .</td>\n",
       "      <td>1</td>\n",
       "      <td>5</td>\n",
       "    </tr>\n",
       "    <tr>\n",
       "      <th>6</th>\n",
       "      <td>Air Commodore Quaife said the Hornets remained on three-minute alert throughout the operation .</td>\n",
       "      <td>Air Commodore John Quaife said the security operation was unprecedented .</td>\n",
       "      <td>0</td>\n",
       "      <td>6</td>\n",
       "    </tr>\n",
       "    <tr>\n",
       "      <th>7</th>\n",
       "      <td>A Washington County man may have the countys first human case of West Nile virus , the health department said Friday .</td>\n",
       "      <td>The countys first and only human case of West Nile this year was confirmed by health officials on Sept . 8 .</td>\n",
       "      <td>1</td>\n",
       "      <td>7</td>\n",
       "    </tr>\n",
       "    <tr>\n",
       "      <th>8</th>\n",
       "      <td>Moseley and a senior aide delivered their summary assessments to about 300 American and allied military officers on Thursday .</td>\n",
       "      <td>General Moseley and a senior aide presented their assessments at an internal briefing for American and allied military officers at Nellis Air Force Base in Nevada on Thursday .</td>\n",
       "      <td>1</td>\n",
       "      <td>8</td>\n",
       "    </tr>\n",
       "    <tr>\n",
       "      <th>9</th>\n",
       "      <td>The broader Standard &amp; Poor 's 500 Index &lt; .SPX &gt; was 0.46 points lower , or 0.05 percent , at 997.02 .</td>\n",
       "      <td>The technology-laced Nasdaq Composite Index .IXIC was up 7.42 points , or 0.45 percent , at 1,653.44 .</td>\n",
       "      <td>0</td>\n",
       "      <td>9</td>\n",
       "    </tr>\n",
       "  </tbody>\n",
       "</table>\n",
       "</div>"
      ],
      "text/plain": [
       "                                                                                                                                                                             sentence1  \\\n",
       "0                                                      PCCW 's chief operating officer , Mike Butcher , and Alex Arena , the chief financial officer , will report directly to Mr So .   \n",
       "1  The world 's two largest automakers said their U.S. sales declined more than predicted last month as a late summer sales frenzy caused more of an industry backlash than expected .   \n",
       "2                    According to the federal Centers for Disease Control and Prevention ( news - web sites ) , there were 19 reported cases of measles in the United States in 2002 .   \n",
       "3                              A tropical storm rapidly developed in the Gulf of Mexico Sunday and was expected to hit somewhere along the Texas or Louisiana coasts by Monday night .   \n",
       "4                                                                                                                The company didn 't detail the costs of the replacement and repairs .   \n",
       "5                                                      The settling companies would also assign their possible claims against the underwriters to the investor plaintiffs , he added .   \n",
       "6                                                                                      Air Commodore Quaife said the Hornets remained on three-minute alert throughout the operation .   \n",
       "7                                                               A Washington County man may have the countys first human case of West Nile virus , the health department said Friday .   \n",
       "8                                                       Moseley and a senior aide delivered their summary assessments to about 300 American and allied military officers on Thursday .   \n",
       "9                                                                              The broader Standard & Poor 's 500 Index < .SPX > was 0.46 points lower , or 0.05 percent , at 997.02 .   \n",
       "\n",
       "                                                                                                                                                                          sentence2  \\\n",
       "0                                                                     Current Chief Operating Officer Mike Butcher and Group Chief Financial Officer Alex Arena will report to So .   \n",
       "1                 Domestic sales at both GM and No. 2 Ford Motor Co. declined more than predicted as a late summer sales frenzy prompted a larger-than-expected industry backlash .   \n",
       "2                                                        The Centers for Disease Control and Prevention said there were 19 reported cases of measles in the United States in 2002 .   \n",
       "3      A tropical storm rapidly developed in the Gulf of Mexico on Sunday and could have hurricane-force winds when it hits land somewhere along the Louisiana coast Monday night .   \n",
       "4                                                                              But company officials expect the costs of the replacement work to run into the millions of dollars .   \n",
       "5                                       Under the agreement , the settling companies will also assign their potential claims against the underwriters to the investors , he added .   \n",
       "6                                                                                                         Air Commodore John Quaife said the security operation was unprecedented .   \n",
       "7                                                                      The countys first and only human case of West Nile this year was confirmed by health officials on Sept . 8 .   \n",
       "8  General Moseley and a senior aide presented their assessments at an internal briefing for American and allied military officers at Nellis Air Force Base in Nevada on Thursday .   \n",
       "9                                                                            The technology-laced Nasdaq Composite Index .IXIC was up 7.42 points , or 0.45 percent , at 1,653.44 .   \n",
       "\n",
       "   label  idx  \n",
       "0      1    0  \n",
       "1      1    1  \n",
       "2      1    2  \n",
       "3      0    3  \n",
       "4      0    4  \n",
       "5      1    5  \n",
       "6      0    6  \n",
       "7      1    7  \n",
       "8      1    8  \n",
       "9      0    9  "
      ]
     },
     "execution_count": null,
     "metadata": {},
     "output_type": "execute_result"
    }
   ],
   "source": [
    "raw_test_df = pd.DataFrame(raw_datasets[test_ds_name], columns=list(raw_datasets[test_ds_name].features.keys()))\n",
    "raw_test_df.head(10)"
   ]
  },
  {
   "cell_type": "code",
   "execution_count": null,
   "metadata": {},
   "outputs": [
    {
     "data": {
      "text/plain": [
       "[(('0',), (#1) [tensor(0)], (#1) [tensor([0.9511, 0.0489])])]"
      ]
     },
     "execution_count": null,
     "metadata": {},
     "output_type": "execute_result"
    }
   ],
   "source": [
    "learn.blurr_predict(raw_test_df.iloc[9].to_dict())"
   ]
  },
  {
   "cell_type": "markdown",
   "metadata": {},
   "source": [
    "Let's do **batch inference** on the entire test dataset"
   ]
  },
  {
   "cell_type": "code",
   "execution_count": null,
   "metadata": {},
   "outputs": [
    {
     "data": {
      "text/html": [],
      "text/plain": [
       "<IPython.core.display.HTML object>"
      ]
     },
     "metadata": {},
     "output_type": "display_data"
    },
    {
     "data": {
      "text/plain": [
       "(tensor([[0.0093, 0.9907],\n",
       "         [0.0677, 0.9323],\n",
       "         [0.0070, 0.9930],\n",
       "         ...,\n",
       "         [0.1376, 0.8624],\n",
       "         [0.0072, 0.9928],\n",
       "         [0.0161, 0.9839]]),\n",
       " None)"
      ]
     },
     "execution_count": null,
     "metadata": {},
     "output_type": "execute_result"
    }
   ],
   "source": [
    "test_dl = dls.test_dl(raw_datasets[test_ds_name])\n",
    "preds = learn.get_preds(dl=test_dl)\n",
    "preds"
   ]
  },
  {
   "cell_type": "markdown",
   "metadata": {},
   "source": [
    "## High-level API"
   ]
  },
  {
   "cell_type": "markdown",
   "metadata": {},
   "source": [
    "With the high-level API, we can create our DataBlock, DataLoaders, and Blearner in one line of code"
   ]
  },
  {
   "cell_type": "code",
   "execution_count": null,
   "metadata": {},
   "outputs": [],
   "source": [
    "#hide\n",
    "try: del learn; torch.cuda.empty_cache()\n",
    "except: pass"
   ]
  },
  {
   "cell_type": "code",
   "execution_count": null,
   "metadata": {},
   "outputs": [],
   "source": [
    "dl_kwargs = {'bs': bsz, 'val_bs': val_bsz}\n",
    "learn_kwargs = { 'metrics': task_metrics }\n",
    "\n",
    "learn = BlearnerForSequenceClassification.from_dataframe(raw_df, pretrained_model_name, \n",
    "                                                         text=task_inputs, label=task_target,\n",
    "                                                         dl_kwargs=dl_kwargs, learner_kwargs=learn_kwargs)"
   ]
  },
  {
   "cell_type": "code",
   "execution_count": null,
   "metadata": {},
   "outputs": [
    {
     "data": {
      "text/html": [
       "<table border=\"1\" class=\"dataframe\">\n",
       "  <thead>\n",
       "    <tr style=\"text-align: left;\">\n",
       "      <th>epoch</th>\n",
       "      <th>train_loss</th>\n",
       "      <th>valid_loss</th>\n",
       "      <th>f1_score</th>\n",
       "      <th>accuracy</th>\n",
       "      <th>time</th>\n",
       "    </tr>\n",
       "  </thead>\n",
       "  <tbody>\n",
       "    <tr>\n",
       "      <td>0</td>\n",
       "      <td>0.509683</td>\n",
       "      <td>0.490516</td>\n",
       "      <td>0.847512</td>\n",
       "      <td>0.767157</td>\n",
       "      <td>00:11</td>\n",
       "    </tr>\n",
       "  </tbody>\n",
       "</table>"
      ],
      "text/plain": [
       "<IPython.core.display.HTML object>"
      ]
     },
     "metadata": {},
     "output_type": "display_data"
    }
   ],
   "source": [
    "learn.fit_one_cycle(1, lr_max=2e-3)"
   ]
  },
  {
   "cell_type": "code",
   "execution_count": null,
   "metadata": {},
   "outputs": [
    {
     "data": {
      "text/html": [],
      "text/plain": [
       "<IPython.core.display.HTML object>"
      ]
     },
     "metadata": {},
     "output_type": "display_data"
    },
    {
     "data": {
      "text/html": [
       "<table border=\"1\" class=\"dataframe\">\n",
       "  <thead>\n",
       "    <tr style=\"text-align: right;\">\n",
       "      <th></th>\n",
       "      <th>text</th>\n",
       "      <th>category</th>\n",
       "      <th>target</th>\n",
       "    </tr>\n",
       "  </thead>\n",
       "  <tbody>\n",
       "    <tr>\n",
       "      <th>0</th>\n",
       "      <td>He said the foodservice pie business doesn 't fit the company's long-term growth strategy. \" The foodservice pie business does not fit our long-term growth strategy.</td>\n",
       "      <td>1</td>\n",
       "      <td>1</td>\n",
       "    </tr>\n",
       "    <tr>\n",
       "      <th>1</th>\n",
       "      <td>He was arrested Friday night at an Alpharetta seafood restaurant while dining with his wife, singer Whitney Houston. He was arrested again Friday night at an Alpharetta restaurant where he was having dinner with his wife.</td>\n",
       "      <td>1</td>\n",
       "      <td>1</td>\n",
       "    </tr>\n",
       "    <tr>\n",
       "      <th>2</th>\n",
       "      <td>After losing as much as 84.56 earlier, the Dow Jones industrial average closed up 22.81, or 0.2 percent, at 9,340.45. In midday trading, the Dow Jones industrial average lost 68.84, or 0.7 percent, to 9,248.80.</td>\n",
       "      <td>0</td>\n",
       "      <td>0</td>\n",
       "    </tr>\n",
       "    <tr>\n",
       "      <th>3</th>\n",
       "      <td>In that position, Elias will report to Joe Tucci, president and CEO of EMC. As executive vice president of new ventures, Elias will report to Joe Tucci, EMC's president and chief executive.</td>\n",
       "      <td>1</td>\n",
       "      <td>1</td>\n",
       "    </tr>\n",
       "    <tr>\n",
       "      <th>4</th>\n",
       "      <td>We strongly disagree with Novell's position and view it as a desperate measure to curry favor with the Linux community. McBride characterized Novell's move as \" a desperate measure to curry favor with the Linux community. \"</td>\n",
       "      <td>0</td>\n",
       "      <td>1</td>\n",
       "    </tr>\n",
       "  </tbody>\n",
       "</table>"
      ],
      "text/plain": [
       "<IPython.core.display.HTML object>"
      ]
     },
     "metadata": {},
     "output_type": "display_data"
    }
   ],
   "source": [
    "learn.show_results(learner=learn, max_n=5)"
   ]
  },
  {
   "cell_type": "markdown",
   "metadata": {},
   "source": [
    "## Cleanup"
   ]
  },
  {
   "cell_type": "markdown",
   "metadata": {},
   "source": [
    "The general flow of this notebook was inspired by Zach Mueller's \"[Text Classification with Transformers](https://walkwithfastai.com/nlp.external.transformers-glue)\" example that can be found in the wonderful [Walk With Fastai docs](https://walkwithfastai.com/).  Take a look there for another approach to working with fast.ai and huggingface on GLUE tasks."
   ]
  },
  {
   "cell_type": "code",
   "execution_count": null,
   "metadata": {},
   "outputs": [
    {
     "name": "stdout",
     "output_type": "stream",
     "text": [
      "Converted 00_utils.ipynb.\n",
      "Converted 01_data-core.ipynb.\n",
      "Converted 01_modeling-core.ipynb.\n",
      "Converted 02_data-language-modeling.ipynb.\n",
      "Converted 02_modeling-language-modeling.ipynb.\n",
      "Converted 03_data-token-classification.ipynb.\n",
      "Converted 03_modeling-token-classification.ipynb.\n",
      "Converted 04_data-question-answering.ipynb.\n",
      "Converted 04_modeling-question-answering.ipynb.\n",
      "Converted 10_data-seq2seq-core.ipynb.\n",
      "Converted 10_modeling-seq2seq-core.ipynb.\n",
      "Converted 11_data-seq2seq-summarization.ipynb.\n",
      "Converted 11_modeling-seq2seq-summarization.ipynb.\n",
      "Converted 12_data-seq2seq-translation.ipynb.\n",
      "Converted 12_modeling-seq2seq-translation.ipynb.\n",
      "Converted 99a_examples-multilabel.ipynb.\n",
      "Converted 99b_examples-glue.ipynb.\n",
      "Converted 99c_examples-glue-plain-pytorch.ipynb.\n",
      "Converted 99d_examples-high-level-api.ipynb.\n",
      "Converted index.ipynb.\n"
     ]
    }
   ],
   "source": [
    "#hide\n",
    "from nbdev.export import notebook2script\n",
    "notebook2script()"
   ]
  },
  {
   "cell_type": "code",
   "execution_count": null,
   "metadata": {},
   "outputs": [],
   "source": []
  }
 ],
 "metadata": {
  "kernelspec": {
   "display_name": "Python 3",
   "language": "python",
   "name": "python3"
  }
 },
 "nbformat": 4,
 "nbformat_minor": 2
}
