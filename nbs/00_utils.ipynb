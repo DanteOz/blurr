{
 "cells": [
  {
   "cell_type": "code",
   "execution_count": null,
   "metadata": {},
   "outputs": [],
   "source": [
    "#default_exp utils"
   ]
  },
  {
   "cell_type": "code",
   "execution_count": null,
   "metadata": {},
   "outputs": [],
   "source": [
    "#hide\n",
    "%reload_ext autoreload\n",
    "%autoreload 2\n",
    "%matplotlib inline\n",
    "\n",
    "import os\n",
    "os.environ[\"TOKENIZERS_PARALLELISM\"] = \"false\""
   ]
  },
  {
   "cell_type": "markdown",
   "metadata": {},
   "source": [
    "# utils\n",
    "\n",
    "> Various utility functions used by the blurr package."
   ]
  },
  {
   "cell_type": "code",
   "execution_count": null,
   "metadata": {},
   "outputs": [],
   "source": [
    "#export\n",
    "import sys, inspect\n",
    "from enum import Enum\n",
    "\n",
    "import torch\n",
    "from transformers import *\n",
    "from fastai.text.all import *\n",
    "\n",
    "logging.set_verbosity_error()"
   ]
  },
  {
   "cell_type": "code",
   "execution_count": null,
   "metadata": {},
   "outputs": [
    {
     "name": "stdout",
     "output_type": "stream",
     "text": [
      "Using pytorch 1.7.1\n",
      "Using fastai 2.4\n",
      "Using transformers 4.8.1\n"
     ]
    }
   ],
   "source": [
    "#hide_input\n",
    "import pdb\n",
    "\n",
    "from nbdev.showdoc import *\n",
    "from fastcore.test import *\n",
    "\n",
    "from fastai import __version__ as fa_version\n",
    "from torch import __version__ as pt_version\n",
    "from transformers import __version__ as hft_version\n",
    "\n",
    "print(f'Using pytorch {pt_version}')\n",
    "print(f'Using fastai {fa_version}')\n",
    "print(f'Using transformers {hft_version}')"
   ]
  },
  {
   "cell_type": "code",
   "execution_count": null,
   "metadata": {},
   "outputs": [
    {
     "name": "stdout",
     "output_type": "stream",
     "text": [
      "Using GPU #1: GeForce GTX 1080 Ti\n"
     ]
    }
   ],
   "source": [
    "#hide_input\n",
    "#cuda\n",
    "torch.cuda.set_device(1)\n",
    "print(f'Using GPU #{torch.cuda.current_device()}: {torch.cuda.get_device_name()}')"
   ]
  },
  {
   "cell_type": "code",
   "execution_count": null,
   "metadata": {},
   "outputs": [],
   "source": [
    "#export\n",
    "def str_to_class(classname):\n",
    "    \"converts string representation to class\"\n",
    "    return getattr(sys.modules[__name__], classname)"
   ]
  },
  {
   "cell_type": "code",
   "execution_count": null,
   "metadata": {},
   "outputs": [],
   "source": [
    "#export\n",
    "class Singleton:\n",
    "    def __init__(self,cls):\n",
    "        self._cls, self._instance = cls, None\n",
    "\n",
    "    def __call__(self, *args, **kwargs):\n",
    "        if self._instance == None: self._instance = self._cls(*args, **kwargs)\n",
    "        return self._instance"
   ]
  },
  {
   "cell_type": "markdown",
   "metadata": {},
   "source": [
    "`Singleton` functions as python decorator.  Use this above any class to turn that class into a singleton (see [here](https://python-3-patterns-idioms-test.readthedocs.io/en/latest/Singleton.html) for more info on the singleton pattern)."
   ]
  },
  {
   "cell_type": "code",
   "execution_count": null,
   "metadata": {},
   "outputs": [],
   "source": [
    "@Singleton\n",
    "class TestSingleton: pass\n",
    "\n",
    "a = TestSingleton()\n",
    "b = TestSingleton()\n",
    "test_eq(a,b)"
   ]
  },
  {
   "cell_type": "markdown",
   "metadata": {},
   "source": [
    "## BlurrUtil"
   ]
  },
  {
   "cell_type": "code",
   "execution_count": null,
   "metadata": {},
   "outputs": [],
   "source": [
    "#export\n",
    "@Singleton\n",
    "class BlurrUtil():\n",
    "    \n",
    "    def __init__(self):\n",
    "        # get hf classes (tokenizers, configs, models, etc...)\n",
    "        transformer_classes = inspect.getmembers(sys.modules[__name__], \n",
    "                                                 lambda member: inspect.isclass(member)\n",
    "                                                 and member.__module__.startswith('transformers.'))\n",
    "        \n",
    "        # build a df that we can query against to get various transformers objects/info\n",
    "        self._df = pd.DataFrame(transformer_classes, columns=['class_name', 'class_location'])\n",
    "        \n",
    "        # add the module each class is included in\n",
    "        self._df['module'] = self._df.class_location.apply(lambda v: v.__module__)\n",
    "        \n",
    "        # remove class_location (don't need it anymore)\n",
    "        self._df.drop(labels=['class_location'], axis=1, inplace=True)\n",
    "        \n",
    "        # break up the module into separate cols\n",
    "        module_parts_df = self._df.module.str.split(\".\", n = -1, expand = True) \n",
    "        for i in range(len(module_parts_df.columns)):\n",
    "            self._df[f'module_part_{i}'] = module_parts_df[i]\n",
    "\n",
    "        # using module part 1, break up the functional area and arch into separate cols\n",
    "        module_part_3_df = self._df.module_part_3.str.split(\"_\", n = 1, expand = True) \n",
    "        self._df[['functional_area', 'arch']] = module_part_3_df\n",
    "        \n",
    "        # transformers >=4.5.x does \"auto\" differently; so remove it and \"utils\" from \"arch\" column\n",
    "        self._df = self._df[~self._df['arch'].isin(['auto', 'utils'])]\n",
    "        \n",
    "\n",
    "        # if functional area = modeling, pull out the task it is built for\n",
    "        model_type_df = self._df[(self._df.functional_area == 'modeling')].class_name.str.split('For', n=1, expand=True)\n",
    "        \n",
    "        model_type_df[1] = np.where(model_type_df[1].notnull(), \n",
    "                                    'For' + model_type_df[1].astype(str), \n",
    "                                    model_type_df[1])\n",
    "        \n",
    "        self._df['model_task'] = model_type_df[1]\n",
    "        self._df['model_task'] = self._df['model_task'].str.replace('For', '', n=1, case=True, regex=False)\n",
    "        \n",
    "        model_type_df = self._df[(self._df.functional_area == 'modeling')].class_name.str.split('With', n=1, expand=True)\n",
    "        model_type_df[1] = np.where(model_type_df[1].notnull(), \n",
    "                                    'With' + model_type_df[1].astype(str), \n",
    "                                    self._df[(self._df.functional_area == 'modeling')].model_task)\n",
    "        \n",
    "        self._df['model_task'] = model_type_df[1]\n",
    "        self._df['model_task'] = self._df['model_task'].str.replace('With', '', n=1, case=True, regex=False)\n",
    "        \n",
    "        # look at what we're going to remove (use to verify we're just getting rid of stuff we want too)\n",
    "        # df[~df['hf_class_type'].isin(['modeling', 'configuration', 'tokenization'])]\n",
    "        \n",
    "        # only need these 3 functional areas for our querying purposes\n",
    "        self._df = self._df[self._df['functional_area'].isin(['modeling', 'configuration', 'tokenization'])]\n",
    "        \n",
    "    def get_architectures(self): \n",
    "        \"\"\"Used to get all the architectures supported by your `Transformers` install\"\"\"\n",
    "        return sorted(self._df[(self._df.arch.notna()) & \n",
    "                        (self._df.arch != None)].arch.unique().tolist())\n",
    "    \n",
    "    def get_config(self, arch): \n",
    "        \"\"\"Used the locate the name of the configuration class for a given architecture\"\"\"\n",
    "        config = self._df[(self._df.functional_area == 'configuration') & \n",
    "                          (self._df.arch == arch)].class_name.values[0]\n",
    "        \n",
    "        return str_to_class(config)\n",
    "    \n",
    "    def get_tokenizers(self, arch): \n",
    "        \"\"\"Used to get the available Hugging Face tokenizers for a given architecture. Note: There may be \n",
    "        multiple tokenizers and so this returns a list.\n",
    "        \"\"\"\n",
    "        toks = sorted(self._df[(self._df.functional_area == 'tokenization') & \n",
    "                               (self._df.arch == arch)].class_name.values)\n",
    "        \n",
    "        return [str_to_class(tok_name) for tok_name in toks]\n",
    "    \n",
    "    def get_tasks(self, arch=None): \n",
    "        \"\"\"Get the type of tasks for which there is a custom model for (*optional: by architecture*). \n",
    "        There are a number of customized models built for specific tasks like token classification, \n",
    "        question/answering, LM, etc....\n",
    "        \"\"\"\n",
    "        query = ['model_task.notna()']\n",
    "        if (arch): query.append(f'arch == \"{arch}\"')\n",
    "\n",
    "        return sorted(self._df.query(' & '.join(query), engine='python').model_task.unique().tolist())\n",
    "    \n",
    "    def get_models(self, arch=None, task=None):\n",
    "        \"\"\"The transformer models available for use (optional: by architecture | task)\"\"\"\n",
    "        query = ['functional_area == \"modeling\"']\n",
    "        if (arch): query.append(f'arch == \"{arch}\"')\n",
    "        if (task): query.append(f'model_task == \"{task}\"')\n",
    "\n",
    "        models = sorted(self._df.query(' & '.join(query)).class_name.tolist())\n",
    "        return [str_to_class(model_name) for model_name in models] \n",
    "    \n",
    "    def get_classes_for_model(self, model_name_or_cls):\n",
    "        \"\"\"Get tokenizers, config, and model for a given model name / class\"\"\"\n",
    "        model_name = model_name_or_cls if isinstance(model_name_or_cls, str) else model_name_or_cls.__name__\n",
    "\n",
    "        meta = self._df[self._df.class_name == model_name]\n",
    "        tokenizers = self.get_tokenizers(meta.arch.values[0])\n",
    "        config = self.get_config(meta.arch.values[0])\n",
    "\n",
    "        return (config, tokenizers, str_to_class(model_name))\n",
    "    \n",
    "    def get_model_architecture(self, model_name_or_enum):\n",
    "        \"\"\"Get the architecture for a given model name / enum\"\"\"\n",
    "        model_name = model_name_or_enum if isinstance(model_name_or_enum, str) else model_name_or_enum.name\n",
    "        return self._df[self._df.class_name == model_name].arch.values[0]\n",
    "    \n",
    "    def get_hf_objects(self, pretrained_model_name_or_path, task=None,\n",
    "                       config=None, tokenizer_cls=None, model_cls=None, \n",
    "                       config_kwargs={}, tokenizer_kwargs={}, model_kwargs={}, cache_dir=None):\n",
    "        \"\"\"Returns the architecture (str), config (obj), tokenizer (obj), and model (obj) given at minimum a\n",
    "        `pre-trained model name or path`. Specify a `task` to ensure the right \"AutoModelFor<task>\" is used to\n",
    "        create the model.\n",
    "        \n",
    "        Optionally, you can pass a config (obj), tokenizer (class), and/or model (class) (along with any \n",
    "        related kwargs for each) to get as specific as you want w/r/t what Hugging Face objects are returned.\n",
    "        \"\"\"\n",
    "        \n",
    "        # config\n",
    "        if (config is None):\n",
    "            config = AutoConfig.from_pretrained(pretrained_model_name_or_path, cache_dir=cache_dir, **config_kwargs)\n",
    "        \n",
    "        # tokenizer (gpt2, roberta, bart (and maybe others) tokenizers require a prefix space)\n",
    "        if (any(s in pretrained_model_name_or_path for s in ['gpt2', 'roberta', 'bart', 'longformer'])):\n",
    "            tokenizer_kwargs = { **{'add_prefix_space': True}, **tokenizer_kwargs }\n",
    "\n",
    "        if (tokenizer_cls is None):\n",
    "            tokenizer = AutoTokenizer.from_pretrained(pretrained_model_name_or_path, \n",
    "                                                      cache_dir=cache_dir, \n",
    "                                                      **tokenizer_kwargs)\n",
    "        else:\n",
    "            tokenizer = tokenizer_cls.from_pretrained(pretrained_model_name_or_path, \n",
    "                                                      cache_dir=cache_dir, \n",
    "                                                      **tokenizer_kwargs)\n",
    "            \n",
    "        # model\n",
    "        if (model_cls is None and task is not None): \n",
    "                model_cls = self.get_models(task=task.name)[0]\n",
    "        \n",
    "        model = model_cls.from_pretrained(pretrained_model_name_or_path, \n",
    "                                          config=config, \n",
    "                                          cache_dir=cache_dir, \n",
    "                                          **model_kwargs)\n",
    "\n",
    "        #arch\n",
    "        arch = self.get_model_architecture(type(model).__name__)\n",
    "        \n",
    "        return (arch, config, tokenizer, model)"
   ]
  },
  {
   "cell_type": "markdown",
   "metadata": {},
   "source": [
    "`BlurrUtil` is a `Singleton` (there exists only one instance, and the same instance is returned upon subsequent instantiation requests).  You can get at via the `BLURR` constant below."
   ]
  },
  {
   "cell_type": "code",
   "execution_count": null,
   "metadata": {},
   "outputs": [],
   "source": [
    "mh = BlurrUtil()\n",
    "mh2 = BlurrUtil()\n",
    "test_eq(mh, mh2)"
   ]
  },
  {
   "cell_type": "code",
   "execution_count": null,
   "metadata": {},
   "outputs": [
    {
     "data": {
      "text/html": [
       "<table border=\"1\" class=\"dataframe\">\n",
       "  <thead>\n",
       "    <tr style=\"text-align: right;\">\n",
       "      <th></th>\n",
       "      <th>class_name</th>\n",
       "      <th>module</th>\n",
       "      <th>module_part_0</th>\n",
       "      <th>module_part_1</th>\n",
       "      <th>module_part_2</th>\n",
       "      <th>module_part_3</th>\n",
       "      <th>functional_area</th>\n",
       "      <th>arch</th>\n",
       "      <th>model_task</th>\n",
       "    </tr>\n",
       "  </thead>\n",
       "  <tbody>\n",
       "    <tr>\n",
       "      <th>3</th>\n",
       "      <td>AdaptiveEmbedding</td>\n",
       "      <td>transformers.models.transfo_xl.modeling_transfo_xl</td>\n",
       "      <td>transformers</td>\n",
       "      <td>models</td>\n",
       "      <td>transfo_xl</td>\n",
       "      <td>modeling_transfo_xl</td>\n",
       "      <td>modeling</td>\n",
       "      <td>transfo_xl</td>\n",
       "      <td>None</td>\n",
       "    </tr>\n",
       "    <tr>\n",
       "      <th>4</th>\n",
       "      <td>AlbertConfig</td>\n",
       "      <td>transformers.models.albert.configuration_albert</td>\n",
       "      <td>transformers</td>\n",
       "      <td>models</td>\n",
       "      <td>albert</td>\n",
       "      <td>configuration_albert</td>\n",
       "      <td>configuration</td>\n",
       "      <td>albert</td>\n",
       "      <td>NaN</td>\n",
       "    </tr>\n",
       "    <tr>\n",
       "      <th>5</th>\n",
       "      <td>AlbertForMaskedLM</td>\n",
       "      <td>transformers.models.albert.modeling_albert</td>\n",
       "      <td>transformers</td>\n",
       "      <td>models</td>\n",
       "      <td>albert</td>\n",
       "      <td>modeling_albert</td>\n",
       "      <td>modeling</td>\n",
       "      <td>albert</td>\n",
       "      <td>MaskedLM</td>\n",
       "    </tr>\n",
       "    <tr>\n",
       "      <th>6</th>\n",
       "      <td>AlbertForMultipleChoice</td>\n",
       "      <td>transformers.models.albert.modeling_albert</td>\n",
       "      <td>transformers</td>\n",
       "      <td>models</td>\n",
       "      <td>albert</td>\n",
       "      <td>modeling_albert</td>\n",
       "      <td>modeling</td>\n",
       "      <td>albert</td>\n",
       "      <td>MultipleChoice</td>\n",
       "    </tr>\n",
       "    <tr>\n",
       "      <th>7</th>\n",
       "      <td>AlbertForPreTraining</td>\n",
       "      <td>transformers.models.albert.modeling_albert</td>\n",
       "      <td>transformers</td>\n",
       "      <td>models</td>\n",
       "      <td>albert</td>\n",
       "      <td>modeling_albert</td>\n",
       "      <td>modeling</td>\n",
       "      <td>albert</td>\n",
       "      <td>PreTraining</td>\n",
       "    </tr>\n",
       "    <tr>\n",
       "      <th>8</th>\n",
       "      <td>AlbertForQuestionAnswering</td>\n",
       "      <td>transformers.models.albert.modeling_albert</td>\n",
       "      <td>transformers</td>\n",
       "      <td>models</td>\n",
       "      <td>albert</td>\n",
       "      <td>modeling_albert</td>\n",
       "      <td>modeling</td>\n",
       "      <td>albert</td>\n",
       "      <td>QuestionAnswering</td>\n",
       "    </tr>\n",
       "    <tr>\n",
       "      <th>9</th>\n",
       "      <td>AlbertForSequenceClassification</td>\n",
       "      <td>transformers.models.albert.modeling_albert</td>\n",
       "      <td>transformers</td>\n",
       "      <td>models</td>\n",
       "      <td>albert</td>\n",
       "      <td>modeling_albert</td>\n",
       "      <td>modeling</td>\n",
       "      <td>albert</td>\n",
       "      <td>SequenceClassification</td>\n",
       "    </tr>\n",
       "    <tr>\n",
       "      <th>10</th>\n",
       "      <td>AlbertForTokenClassification</td>\n",
       "      <td>transformers.models.albert.modeling_albert</td>\n",
       "      <td>transformers</td>\n",
       "      <td>models</td>\n",
       "      <td>albert</td>\n",
       "      <td>modeling_albert</td>\n",
       "      <td>modeling</td>\n",
       "      <td>albert</td>\n",
       "      <td>TokenClassification</td>\n",
       "    </tr>\n",
       "    <tr>\n",
       "      <th>11</th>\n",
       "      <td>AlbertModel</td>\n",
       "      <td>transformers.models.albert.modeling_albert</td>\n",
       "      <td>transformers</td>\n",
       "      <td>models</td>\n",
       "      <td>albert</td>\n",
       "      <td>modeling_albert</td>\n",
       "      <td>modeling</td>\n",
       "      <td>albert</td>\n",
       "      <td>None</td>\n",
       "    </tr>\n",
       "    <tr>\n",
       "      <th>12</th>\n",
       "      <td>AlbertPreTrainedModel</td>\n",
       "      <td>transformers.models.albert.modeling_albert</td>\n",
       "      <td>transformers</td>\n",
       "      <td>models</td>\n",
       "      <td>albert</td>\n",
       "      <td>modeling_albert</td>\n",
       "      <td>modeling</td>\n",
       "      <td>albert</td>\n",
       "      <td>None</td>\n",
       "    </tr>\n",
       "    <tr>\n",
       "      <th>13</th>\n",
       "      <td>AlbertTokenizer</td>\n",
       "      <td>transformers.models.albert.tokenization_albert</td>\n",
       "      <td>transformers</td>\n",
       "      <td>models</td>\n",
       "      <td>albert</td>\n",
       "      <td>tokenization_albert</td>\n",
       "      <td>tokenization</td>\n",
       "      <td>albert</td>\n",
       "      <td>NaN</td>\n",
       "    </tr>\n",
       "    <tr>\n",
       "      <th>14</th>\n",
       "      <td>AlbertTokenizerFast</td>\n",
       "      <td>transformers.models.albert.tokenization_albert_fast</td>\n",
       "      <td>transformers</td>\n",
       "      <td>models</td>\n",
       "      <td>albert</td>\n",
       "      <td>tokenization_albert_fast</td>\n",
       "      <td>tokenization</td>\n",
       "      <td>albert_fast</td>\n",
       "      <td>NaN</td>\n",
       "    </tr>\n",
       "    <tr>\n",
       "      <th>20</th>\n",
       "      <td>BartConfig</td>\n",
       "      <td>transformers.models.bart.configuration_bart</td>\n",
       "      <td>transformers</td>\n",
       "      <td>models</td>\n",
       "      <td>bart</td>\n",
       "      <td>configuration_bart</td>\n",
       "      <td>configuration</td>\n",
       "      <td>bart</td>\n",
       "      <td>NaN</td>\n",
       "    </tr>\n",
       "    <tr>\n",
       "      <th>21</th>\n",
       "      <td>BartForCausalLM</td>\n",
       "      <td>transformers.models.bart.modeling_bart</td>\n",
       "      <td>transformers</td>\n",
       "      <td>models</td>\n",
       "      <td>bart</td>\n",
       "      <td>modeling_bart</td>\n",
       "      <td>modeling</td>\n",
       "      <td>bart</td>\n",
       "      <td>CausalLM</td>\n",
       "    </tr>\n",
       "    <tr>\n",
       "      <th>22</th>\n",
       "      <td>BartForConditionalGeneration</td>\n",
       "      <td>transformers.models.bart.modeling_bart</td>\n",
       "      <td>transformers</td>\n",
       "      <td>models</td>\n",
       "      <td>bart</td>\n",
       "      <td>modeling_bart</td>\n",
       "      <td>modeling</td>\n",
       "      <td>bart</td>\n",
       "      <td>ConditionalGeneration</td>\n",
       "    </tr>\n",
       "    <tr>\n",
       "      <th>23</th>\n",
       "      <td>BartForQuestionAnswering</td>\n",
       "      <td>transformers.models.bart.modeling_bart</td>\n",
       "      <td>transformers</td>\n",
       "      <td>models</td>\n",
       "      <td>bart</td>\n",
       "      <td>modeling_bart</td>\n",
       "      <td>modeling</td>\n",
       "      <td>bart</td>\n",
       "      <td>QuestionAnswering</td>\n",
       "    </tr>\n",
       "    <tr>\n",
       "      <th>24</th>\n",
       "      <td>BartForSequenceClassification</td>\n",
       "      <td>transformers.models.bart.modeling_bart</td>\n",
       "      <td>transformers</td>\n",
       "      <td>models</td>\n",
       "      <td>bart</td>\n",
       "      <td>modeling_bart</td>\n",
       "      <td>modeling</td>\n",
       "      <td>bart</td>\n",
       "      <td>SequenceClassification</td>\n",
       "    </tr>\n",
       "    <tr>\n",
       "      <th>25</th>\n",
       "      <td>BartModel</td>\n",
       "      <td>transformers.models.bart.modeling_bart</td>\n",
       "      <td>transformers</td>\n",
       "      <td>models</td>\n",
       "      <td>bart</td>\n",
       "      <td>modeling_bart</td>\n",
       "      <td>modeling</td>\n",
       "      <td>bart</td>\n",
       "      <td>None</td>\n",
       "    </tr>\n",
       "    <tr>\n",
       "      <th>26</th>\n",
       "      <td>BartPretrainedModel</td>\n",
       "      <td>transformers.models.bart.modeling_bart</td>\n",
       "      <td>transformers</td>\n",
       "      <td>models</td>\n",
       "      <td>bart</td>\n",
       "      <td>modeling_bart</td>\n",
       "      <td>modeling</td>\n",
       "      <td>bart</td>\n",
       "      <td>None</td>\n",
       "    </tr>\n",
       "    <tr>\n",
       "      <th>27</th>\n",
       "      <td>BartTokenizer</td>\n",
       "      <td>transformers.models.bart.tokenization_bart</td>\n",
       "      <td>transformers</td>\n",
       "      <td>models</td>\n",
       "      <td>bart</td>\n",
       "      <td>tokenization_bart</td>\n",
       "      <td>tokenization</td>\n",
       "      <td>bart</td>\n",
       "      <td>NaN</td>\n",
       "    </tr>\n",
       "  </tbody>\n",
       "</table>"
      ],
      "text/plain": [
       "<IPython.core.display.HTML object>"
      ]
     },
     "metadata": {},
     "output_type": "display_data"
    }
   ],
   "source": [
    "#hide\n",
    "display_df(mh._df.head(20))"
   ]
  },
  {
   "cell_type": "code",
   "execution_count": null,
   "metadata": {},
   "outputs": [
    {
     "data": {
      "text/html": [
       "<table border=\"1\" class=\"dataframe\">\n",
       "  <thead>\n",
       "    <tr style=\"text-align: right;\">\n",
       "      <th></th>\n",
       "      <th>class_name</th>\n",
       "      <th>module</th>\n",
       "      <th>module_part_0</th>\n",
       "      <th>module_part_1</th>\n",
       "      <th>module_part_2</th>\n",
       "      <th>module_part_3</th>\n",
       "      <th>functional_area</th>\n",
       "      <th>arch</th>\n",
       "      <th>model_task</th>\n",
       "    </tr>\n",
       "  </thead>\n",
       "  <tbody>\n",
       "    <tr>\n",
       "      <th>3</th>\n",
       "      <td>AdaptiveEmbedding</td>\n",
       "      <td>transformers.models.transfo_xl.modeling_transfo_xl</td>\n",
       "      <td>transformers</td>\n",
       "      <td>models</td>\n",
       "      <td>transfo_xl</td>\n",
       "      <td>modeling_transfo_xl</td>\n",
       "      <td>modeling</td>\n",
       "      <td>transfo_xl</td>\n",
       "      <td>None</td>\n",
       "    </tr>\n",
       "    <tr>\n",
       "      <th>4</th>\n",
       "      <td>AlbertConfig</td>\n",
       "      <td>transformers.models.albert.configuration_albert</td>\n",
       "      <td>transformers</td>\n",
       "      <td>models</td>\n",
       "      <td>albert</td>\n",
       "      <td>configuration_albert</td>\n",
       "      <td>configuration</td>\n",
       "      <td>albert</td>\n",
       "      <td>NaN</td>\n",
       "    </tr>\n",
       "    <tr>\n",
       "      <th>5</th>\n",
       "      <td>AlbertForMaskedLM</td>\n",
       "      <td>transformers.models.albert.modeling_albert</td>\n",
       "      <td>transformers</td>\n",
       "      <td>models</td>\n",
       "      <td>albert</td>\n",
       "      <td>modeling_albert</td>\n",
       "      <td>modeling</td>\n",
       "      <td>albert</td>\n",
       "      <td>MaskedLM</td>\n",
       "    </tr>\n",
       "    <tr>\n",
       "      <th>6</th>\n",
       "      <td>AlbertForMultipleChoice</td>\n",
       "      <td>transformers.models.albert.modeling_albert</td>\n",
       "      <td>transformers</td>\n",
       "      <td>models</td>\n",
       "      <td>albert</td>\n",
       "      <td>modeling_albert</td>\n",
       "      <td>modeling</td>\n",
       "      <td>albert</td>\n",
       "      <td>MultipleChoice</td>\n",
       "    </tr>\n",
       "    <tr>\n",
       "      <th>7</th>\n",
       "      <td>AlbertForPreTraining</td>\n",
       "      <td>transformers.models.albert.modeling_albert</td>\n",
       "      <td>transformers</td>\n",
       "      <td>models</td>\n",
       "      <td>albert</td>\n",
       "      <td>modeling_albert</td>\n",
       "      <td>modeling</td>\n",
       "      <td>albert</td>\n",
       "      <td>PreTraining</td>\n",
       "    </tr>\n",
       "  </tbody>\n",
       "</table>"
      ],
      "text/plain": [
       "<IPython.core.display.HTML object>"
      ]
     },
     "metadata": {},
     "output_type": "display_data"
    },
    {
     "name": "stdout",
     "output_type": "stream",
     "text": [
      "[None, nan, 'MaskedLM', 'MultipleChoice', 'PreTraining', 'QuestionAnswering', 'SequenceClassification', 'TokenClassification', 'CausalLM', 'ConditionalGeneration', 'NextSentencePrediction', 'ImageClassification', 'Teacher', 'QuestionAnsweringSimple', 'LMHeadModel', 'CTC', 'EntityClassification', 'EntityPairClassification', 'EntitySpanClassification', 'Classification', 'Generation', 'LMHead', 'merForCausalLM', 'merForMaskedLM', 'merForMultipleChoice', 'merForQuestionAnswering', 'merForSequenceClassification', 'merForTokenClassification', 'merLayer', 'merModel', 'merPreTrainedModel', 'RegionToPhraseAlignment', 'VisualReasoning']\n",
      "\n",
      "['modeling', 'configuration', 'tokenization']\n",
      "\n",
      "['transfo_xl', 'albert', 'albert_fast', 'bart', 'bart_fast', 'barthez', 'barthez_fast', 'bert', 'bert_generation', 'bert_japanese', 'bert_fast', 'bertweet', 'big_bird', 'bigbird_pegasus', 'big_bird_fast', 'blenderbot', 'blenderbot_small', 'byt5', 'clip', 'clip_fast', 'ctrl', 'camembert', 'camembert_fast', 'convbert', 'convbert_fast', 'cpm', 'dpr', 'dpr_fast', 'deberta', 'deberta_fast', 'deberta_v2', 'deit', 'detr', 'distilbert', 'distilbert_fast', 'electra', 'electra_fast', 'encoder_decoder', 'fsmt', 'flaubert', 'funnel', 'funnel_fast', 'gpt2', 'gpt2_fast', 'gpt_neo', 'herbert', 'herbert_fast', 'hubert', 'ibert', 'led', 'led_fast', 'layoutlm', 'layoutlm_fast', 'longformer', 'longformer_fast', 'luke', 'lxmert', 'lxmert_fast', 'm2m_100', 'mbart50', 'mbart50_fast', 'mbart', 'mbart_fast', 'mmbt', 'mpnet', 'mpnet_fast', 'mt5', 't5', 't5_fast', 'marian', 'megatron_bert', 'mobilebert', 'mobilebert_fast', 'openai', 'openai_fast', 'pegasus', 'pegasus_fast', 'phobert', 'prophetnet', 'rag', 'reformer', 'reformer_fast', 'retribert', 'retribert_fast', 'roformer', 'roformer_fast', 'roberta', 'roberta_fast', 'speech_to_text', 'squeezebert', 'squeezebert_fast', 'tapas', 'vit', 'visual_bert', 'wav2vec2', 'xlm', 'xlm_prophetnet', 'xlm_roberta', 'xlm_roberta_fast', 'xlnet', 'xlnet_fast']\n",
      "\n",
      "['modeling_transfo_xl', 'configuration_albert', 'modeling_albert', 'tokenization_albert', 'tokenization_albert_fast', 'configuration_bart', 'modeling_bart', 'tokenization_bart', 'tokenization_bart_fast', 'tokenization_barthez', 'tokenization_barthez_fast', 'tokenization_bert', 'configuration_bert', 'modeling_bert', 'configuration_bert_generation', 'modeling_bert_generation', 'tokenization_bert_generation', 'tokenization_bert_japanese', 'tokenization_bert_fast', 'tokenization_bertweet', 'configuration_big_bird', 'modeling_big_bird', 'configuration_bigbird_pegasus', 'modeling_bigbird_pegasus', 'tokenization_big_bird', 'tokenization_big_bird_fast', 'configuration_blenderbot', 'modeling_blenderbot', 'configuration_blenderbot_small', 'modeling_blenderbot_small', 'tokenization_blenderbot_small', 'tokenization_blenderbot', 'tokenization_byt5', 'configuration_clip', 'modeling_clip', 'tokenization_clip', 'tokenization_clip_fast', 'configuration_ctrl', 'modeling_ctrl', 'tokenization_ctrl', 'configuration_camembert', 'modeling_camembert', 'tokenization_camembert', 'tokenization_camembert_fast', 'configuration_convbert', 'modeling_convbert', 'tokenization_convbert', 'tokenization_convbert_fast', 'tokenization_cpm', 'configuration_dpr', 'modeling_dpr', 'tokenization_dpr', 'tokenization_dpr_fast', 'configuration_deberta', 'modeling_deberta', 'tokenization_deberta', 'tokenization_deberta_fast', 'configuration_deberta_v2', 'modeling_deberta_v2', 'tokenization_deberta_v2', 'configuration_deit', 'modeling_deit', 'configuration_detr', 'configuration_distilbert', 'modeling_distilbert', 'tokenization_distilbert', 'tokenization_distilbert_fast', 'configuration_electra', 'modeling_electra', 'tokenization_electra', 'tokenization_electra_fast', 'configuration_encoder_decoder', 'modeling_encoder_decoder', 'configuration_fsmt', 'modeling_fsmt', 'tokenization_fsmt', 'configuration_flaubert', 'modeling_flaubert', 'tokenization_flaubert', 'modeling_funnel', 'configuration_funnel', 'tokenization_funnel', 'tokenization_funnel_fast', 'configuration_gpt2', 'modeling_gpt2', 'tokenization_gpt2', 'tokenization_gpt2_fast', 'configuration_gpt_neo', 'modeling_gpt_neo', 'tokenization_herbert', 'tokenization_herbert_fast', 'configuration_hubert', 'modeling_hubert', 'configuration_ibert', 'modeling_ibert', 'configuration_led', 'modeling_led', 'tokenization_led', 'tokenization_led_fast', 'configuration_layoutlm', 'modeling_layoutlm', 'tokenization_layoutlm', 'tokenization_layoutlm_fast', 'configuration_longformer', 'modeling_longformer', 'tokenization_longformer', 'tokenization_longformer_fast', 'configuration_luke', 'modeling_luke', 'tokenization_luke', 'configuration_lxmert', 'modeling_lxmert', 'tokenization_lxmert', 'tokenization_lxmert_fast', 'configuration_m2m_100', 'modeling_m2m_100', 'tokenization_m2m_100', 'tokenization_mbart50', 'tokenization_mbart50_fast', 'configuration_mbart', 'modeling_mbart', 'tokenization_mbart', 'tokenization_mbart_fast', 'configuration_mmbt', 'modeling_mmbt', 'configuration_mpnet', 'modeling_mpnet', 'tokenization_mpnet', 'tokenization_mpnet_fast', 'configuration_mt5', 'modeling_mt5', 'tokenization_t5', 'tokenization_t5_fast', 'configuration_marian', 'modeling_marian', 'tokenization_marian', 'configuration_megatron_bert', 'modeling_megatron_bert', 'configuration_mobilebert', 'modeling_mobilebert', 'tokenization_mobilebert', 'tokenization_mobilebert_fast', 'configuration_openai', 'modeling_openai', 'tokenization_openai', 'tokenization_openai_fast', 'configuration_pegasus', 'modeling_pegasus', 'tokenization_pegasus', 'tokenization_pegasus_fast', 'tokenization_phobert', 'configuration_prophetnet', 'modeling_prophetnet', 'tokenization_prophetnet', 'configuration_rag', 'modeling_rag', 'tokenization_rag', 'modeling_reformer', 'configuration_reformer', 'tokenization_reformer', 'tokenization_reformer_fast', 'configuration_retribert', 'modeling_retribert', 'tokenization_retribert', 'tokenization_retribert_fast', 'configuration_roformer', 'modeling_roformer', 'tokenization_roformer', 'tokenization_roformer_fast', 'configuration_roberta', 'modeling_roberta', 'tokenization_roberta', 'tokenization_roberta_fast', 'configuration_speech_to_text', 'modeling_speech_to_text', 'tokenization_speech_to_text', 'configuration_squeezebert', 'modeling_squeezebert', 'tokenization_squeezebert', 'tokenization_squeezebert_fast', 'configuration_t5', 'modeling_t5', 'configuration_tapas', 'modeling_tapas', 'tokenization_tapas', 'configuration_transfo_xl', 'tokenization_transfo_xl', 'configuration_vit', 'modeling_vit', 'configuration_visual_bert', 'modeling_visual_bert', 'tokenization_wav2vec2', 'configuration_wav2vec2', 'modeling_wav2vec2', 'configuration_xlm', 'modeling_xlm', 'configuration_xlm_prophetnet', 'modeling_xlm_prophetnet', 'tokenization_xlm_prophetnet', 'configuration_xlm_roberta', 'modeling_xlm_roberta', 'tokenization_xlm_roberta', 'tokenization_xlm_roberta_fast', 'tokenization_xlm', 'configuration_xlnet', 'modeling_xlnet', 'tokenization_xlnet', 'tokenization_xlnet_fast']\n"
     ]
    }
   ],
   "source": [
    "#hide\n",
    "display_df(mh._df.head())\n",
    "\n",
    "print(list(mh._df.model_task.unique()))\n",
    "print('')\n",
    "print(list(mh._df.functional_area.unique()))\n",
    "print('')\n",
    "print(list(mh._df.arch.unique()))\n",
    "print('')\n",
    "print(list(mh._df.module_part_3.unique()))"
   ]
  },
  {
   "cell_type": "markdown",
   "metadata": {},
   "source": [
    "### Provide global helper constant\n",
    "\n",
    "Users of this library can simply use `BLURR` to access all the `BlurrUtil` capabilities without having to fetch an instance themselves."
   ]
  },
  {
   "cell_type": "code",
   "execution_count": null,
   "metadata": {},
   "outputs": [],
   "source": [
    "#export\n",
    "BLURR = BlurrUtil()"
   ]
  },
  {
   "cell_type": "markdown",
   "metadata": {},
   "source": [
    "Here's how you can get at the core Hugging Face objects you need to work with ..."
   ]
  },
  {
   "cell_type": "markdown",
   "metadata": {},
   "source": [
    "... the ***task***"
   ]
  },
  {
   "cell_type": "code",
   "execution_count": null,
   "metadata": {},
   "outputs": [
    {
     "data": {
      "text/markdown": [
       "<h4 id=\"BlurrUtil.get_tasks\" class=\"doc_header\"><code>BlurrUtil.get_tasks</code><a href=\"__main__.py#L78\" class=\"source_link\" style=\"float:right\">[source]</a></h4>\n",
       "\n",
       "> <code>BlurrUtil.get_tasks</code>(**`arch`**=*`None`*)\n",
       "\n",
       "Get the type of tasks for which there is a custom model for (*optional: by architecture*). \n",
       "There are a number of customized models built for specific tasks like token classification, \n",
       "question/answering, LM, etc...."
      ],
      "text/plain": [
       "<IPython.core.display.Markdown object>"
      ]
     },
     "metadata": {},
     "output_type": "display_data"
    }
   ],
   "source": [
    "show_doc(BlurrUtil(BlurrUtil).get_tasks)"
   ]
  },
  {
   "cell_type": "code",
   "execution_count": null,
   "metadata": {},
   "outputs": [
    {
     "name": "stdout",
     "output_type": "stream",
     "text": [
      "['CTC', 'CausalLM', 'Classification', 'ConditionalGeneration', 'EntityClassification', 'EntityPairClassification', 'EntitySpanClassification', 'Generation', 'ImageClassification', 'LMHead', 'LMHeadModel', 'MaskedLM', 'MultipleChoice', 'NextSentencePrediction', 'PreTraining', 'QuestionAnswering', 'QuestionAnsweringSimple', 'RegionToPhraseAlignment', 'SequenceClassification', 'Teacher', 'TokenClassification', 'VisualReasoning', 'merForCausalLM', 'merForMaskedLM', 'merForMultipleChoice', 'merForQuestionAnswering', 'merForSequenceClassification', 'merForTokenClassification', 'merLayer', 'merModel', 'merPreTrainedModel']\n",
      "\n",
      "['CausalLM', 'ConditionalGeneration', 'QuestionAnswering', 'SequenceClassification']\n"
     ]
    }
   ],
   "source": [
    "print(BLURR.get_tasks())\n",
    "print('')\n",
    "print(BLURR.get_tasks('bart'))"
   ]
  },
  {
   "cell_type": "markdown",
   "metadata": {},
   "source": [
    "... the ***architecture***"
   ]
  },
  {
   "cell_type": "code",
   "execution_count": null,
   "metadata": {},
   "outputs": [
    {
     "data": {
      "text/markdown": [
       "<h4 id=\"BlurrUtil.get_architectures\" class=\"doc_header\"><code>BlurrUtil.get_architectures</code><a href=\"__main__.py#L57\" class=\"source_link\" style=\"float:right\">[source]</a></h4>\n",
       "\n",
       "> <code>BlurrUtil.get_architectures</code>()\n",
       "\n",
       "Used to get all the architectures supported by your `Transformers` install"
      ],
      "text/plain": [
       "<IPython.core.display.Markdown object>"
      ]
     },
     "metadata": {},
     "output_type": "display_data"
    }
   ],
   "source": [
    "show_doc(BlurrUtil(BlurrUtil).get_architectures)"
   ]
  },
  {
   "cell_type": "code",
   "execution_count": null,
   "metadata": {},
   "outputs": [
    {
     "name": "stdout",
     "output_type": "stream",
     "text": [
      "['albert', 'albert_fast', 'bart', 'bart_fast', 'barthez', 'barthez_fast', 'bert', 'bert_fast', 'bert_generation', 'bert_japanese', 'bertweet', 'big_bird', 'big_bird_fast', 'bigbird_pegasus', 'blenderbot', 'blenderbot_small', 'byt5', 'camembert', 'camembert_fast', 'clip', 'clip_fast', 'convbert', 'convbert_fast', 'cpm', 'ctrl', 'deberta', 'deberta_fast', 'deberta_v2', 'deit', 'detr', 'distilbert', 'distilbert_fast', 'dpr', 'dpr_fast', 'electra', 'electra_fast', 'encoder_decoder', 'flaubert', 'fsmt', 'funnel', 'funnel_fast', 'gpt2', 'gpt2_fast', 'gpt_neo', 'herbert', 'herbert_fast', 'hubert', 'ibert', 'layoutlm', 'layoutlm_fast', 'led', 'led_fast', 'longformer', 'longformer_fast', 'luke', 'lxmert', 'lxmert_fast', 'm2m_100', 'marian', 'mbart', 'mbart50', 'mbart50_fast', 'mbart_fast', 'megatron_bert', 'mmbt', 'mobilebert', 'mobilebert_fast', 'mpnet', 'mpnet_fast', 'mt5', 'openai', 'openai_fast', 'pegasus', 'pegasus_fast', 'phobert', 'prophetnet', 'rag', 'reformer', 'reformer_fast', 'retribert', 'retribert_fast', 'roberta', 'roberta_fast', 'roformer', 'roformer_fast', 'speech_to_text', 'squeezebert', 'squeezebert_fast', 't5', 't5_fast', 'tapas', 'transfo_xl', 'visual_bert', 'vit', 'wav2vec2', 'xlm', 'xlm_prophetnet', 'xlm_roberta', 'xlm_roberta_fast', 'xlnet', 'xlnet_fast']\n"
     ]
    }
   ],
   "source": [
    "print(BLURR.get_architectures())"
   ]
  },
  {
   "cell_type": "code",
   "execution_count": null,
   "metadata": {},
   "outputs": [
    {
     "data": {
      "text/markdown": [
       "<h4 id=\"BlurrUtil.get_model_architecture\" class=\"doc_header\"><code>BlurrUtil.get_model_architecture</code><a href=\"__main__.py#L107\" class=\"source_link\" style=\"float:right\">[source]</a></h4>\n",
       "\n",
       "> <code>BlurrUtil.get_model_architecture</code>(**`model_name_or_enum`**)\n",
       "\n",
       "Get the architecture for a given model name / enum"
      ],
      "text/plain": [
       "<IPython.core.display.Markdown object>"
      ]
     },
     "metadata": {},
     "output_type": "display_data"
    }
   ],
   "source": [
    "show_doc(BlurrUtil(BlurrUtil).get_model_architecture)"
   ]
  },
  {
   "cell_type": "code",
   "execution_count": null,
   "metadata": {},
   "outputs": [
    {
     "name": "stdout",
     "output_type": "stream",
     "text": [
      "roberta\n"
     ]
    }
   ],
   "source": [
    "print(BLURR.get_model_architecture('RobertaForSequenceClassification'))"
   ]
  },
  {
   "cell_type": "markdown",
   "metadata": {},
   "source": [
    "... the ***config*** for that particular task and architecture"
   ]
  },
  {
   "cell_type": "code",
   "execution_count": null,
   "metadata": {},
   "outputs": [
    {
     "data": {
      "text/markdown": [
       "<h4 id=\"BlurrUtil.get_config\" class=\"doc_header\"><code>BlurrUtil.get_config</code><a href=\"__main__.py#L62\" class=\"source_link\" style=\"float:right\">[source]</a></h4>\n",
       "\n",
       "> <code>BlurrUtil.get_config</code>(**`arch`**)\n",
       "\n",
       "Used the locate the name of the configuration class for a given architecture"
      ],
      "text/plain": [
       "<IPython.core.display.Markdown object>"
      ]
     },
     "metadata": {},
     "output_type": "display_data"
    }
   ],
   "source": [
    "show_doc(BlurrUtil(BlurrUtil).get_config)"
   ]
  },
  {
   "cell_type": "code",
   "execution_count": null,
   "metadata": {},
   "outputs": [
    {
     "name": "stdout",
     "output_type": "stream",
     "text": [
      "<class 'transformers.models.bert.configuration_bert.BertConfig'>\n"
     ]
    }
   ],
   "source": [
    "print(BLURR.get_config('bert'))"
   ]
  },
  {
   "cell_type": "markdown",
   "metadata": {},
   "source": [
    "... the available ***tokenizers*** for that architecture"
   ]
  },
  {
   "cell_type": "code",
   "execution_count": null,
   "metadata": {},
   "outputs": [
    {
     "data": {
      "text/markdown": [
       "<h4 id=\"BlurrUtil.get_tokenizers\" class=\"doc_header\"><code>BlurrUtil.get_tokenizers</code><a href=\"__main__.py#L69\" class=\"source_link\" style=\"float:right\">[source]</a></h4>\n",
       "\n",
       "> <code>BlurrUtil.get_tokenizers</code>(**`arch`**)\n",
       "\n",
       "Used to get the available Hugging Face tokenizers for a given architecture. Note: There may be \n",
       "multiple tokenizers and so this returns a list."
      ],
      "text/plain": [
       "<IPython.core.display.Markdown object>"
      ]
     },
     "metadata": {},
     "output_type": "display_data"
    }
   ],
   "source": [
    "show_doc(BlurrUtil(BlurrUtil).get_tokenizers)"
   ]
  },
  {
   "cell_type": "code",
   "execution_count": null,
   "metadata": {},
   "outputs": [
    {
     "name": "stdout",
     "output_type": "stream",
     "text": [
      "[<class 'transformers.models.electra.tokenization_electra.ElectraTokenizer'>]\n"
     ]
    }
   ],
   "source": [
    "print(BLURR.get_tokenizers('electra'))"
   ]
  },
  {
   "cell_type": "markdown",
   "metadata": {},
   "source": [
    "... and lastly the ***models*** (optionally for a given task and/or architecture)"
   ]
  },
  {
   "cell_type": "code",
   "execution_count": null,
   "metadata": {},
   "outputs": [
    {
     "data": {
      "text/markdown": [
       "<h4 id=\"BlurrUtil.get_models\" class=\"doc_header\"><code>BlurrUtil.get_models</code><a href=\"__main__.py#L88\" class=\"source_link\" style=\"float:right\">[source]</a></h4>\n",
       "\n",
       "> <code>BlurrUtil.get_models</code>(**`arch`**=*`None`*, **`task`**=*`None`*)\n",
       "\n",
       "The transformer models available for use (optional: by architecture | task)"
      ],
      "text/plain": [
       "<IPython.core.display.Markdown object>"
      ]
     },
     "metadata": {},
     "output_type": "display_data"
    }
   ],
   "source": [
    "show_doc(BlurrUtil(BlurrUtil).get_models)"
   ]
  },
  {
   "cell_type": "code",
   "execution_count": null,
   "metadata": {},
   "outputs": [
    {
     "name": "stdout",
     "output_type": "stream",
     "text": [
      "[<class 'transformers.models.transfo_xl.modeling_transfo_xl.AdaptiveEmbedding'>, <class 'transformers.models.albert.modeling_albert.AlbertForMaskedLM'>, <class 'transformers.models.albert.modeling_albert.AlbertForMultipleChoice'>, <class 'transformers.models.albert.modeling_albert.AlbertForPreTraining'>, <class 'transformers.models.albert.modeling_albert.AlbertForQuestionAnswering'>]\n"
     ]
    }
   ],
   "source": [
    "print(L(BLURR.get_models())[:5])"
   ]
  },
  {
   "cell_type": "code",
   "execution_count": null,
   "metadata": {},
   "outputs": [
    {
     "name": "stdout",
     "output_type": "stream",
     "text": [
      "[<class 'transformers.models.bert.modeling_bert.BertForMaskedLM'>, <class 'transformers.models.bert.modeling_bert.BertForMultipleChoice'>, <class 'transformers.models.bert.modeling_bert.BertForNextSentencePrediction'>, <class 'transformers.models.bert.modeling_bert.BertForPreTraining'>, <class 'transformers.models.bert.modeling_bert.BertForQuestionAnswering'>]\n"
     ]
    }
   ],
   "source": [
    "print(BLURR.get_models(arch='bert')[:5])"
   ]
  },
  {
   "cell_type": "code",
   "execution_count": null,
   "metadata": {},
   "outputs": [
    {
     "name": "stdout",
     "output_type": "stream",
     "text": [
      "[<class 'transformers.models.albert.modeling_albert.AlbertForTokenClassification'>, <class 'transformers.models.bert.modeling_bert.BertForTokenClassification'>, <class 'transformers.models.big_bird.modeling_big_bird.BigBirdForTokenClassification'>, <class 'transformers.models.camembert.modeling_camembert.CamembertForTokenClassification'>, <class 'transformers.models.convbert.modeling_convbert.ConvBertForTokenClassification'>]\n"
     ]
    }
   ],
   "source": [
    "print(BLURR.get_models(task='TokenClassification')[:5])"
   ]
  },
  {
   "cell_type": "code",
   "execution_count": null,
   "metadata": {},
   "outputs": [
    {
     "name": "stdout",
     "output_type": "stream",
     "text": [
      "[<class 'transformers.models.bert.modeling_bert.BertForTokenClassification'>]\n"
     ]
    }
   ],
   "source": [
    "print(BLURR.get_models(arch='bert', task='TokenClassification'))"
   ]
  },
  {
   "cell_type": "markdown",
   "metadata": {},
   "source": [
    "Here we define some helpful enums to make it easier to get at the *architecture and task* you're looking for."
   ]
  },
  {
   "cell_type": "code",
   "execution_count": null,
   "metadata": {},
   "outputs": [],
   "source": [
    "#export\n",
    "HF_ARCHITECTURES = Enum('HF_ARCHITECTURES', BLURR.get_architectures())"
   ]
  },
  {
   "cell_type": "code",
   "execution_count": null,
   "metadata": {},
   "outputs": [
    {
     "name": "stdout",
     "output_type": "stream",
     "text": [
      "[<HF_ARCHITECTURES.albert: 1>, <HF_ARCHITECTURES.albert_fast: 2>, <HF_ARCHITECTURES.bart: 3>, <HF_ARCHITECTURES.bart_fast: 4>, <HF_ARCHITECTURES.barthez: 5>]\n"
     ]
    }
   ],
   "source": [
    "print(L(HF_ARCHITECTURES)[:5])"
   ]
  },
  {
   "cell_type": "code",
   "execution_count": null,
   "metadata": {},
   "outputs": [],
   "source": [
    "#export\n",
    "HF_TASKS = Enum('HF_TASKS_ALL', BLURR.get_tasks())"
   ]
  },
  {
   "cell_type": "code",
   "execution_count": null,
   "metadata": {},
   "outputs": [
    {
     "name": "stdout",
     "output_type": "stream",
     "text": [
      "--- all tasks ---\n",
      "[<HF_TASKS_ALL.CTC: 1>, <HF_TASKS_ALL.CausalLM: 2>, <HF_TASKS_ALL.Classification: 3>, <HF_TASKS_ALL.ConditionalGeneration: 4>, <HF_TASKS_ALL.EntityClassification: 5>, <HF_TASKS_ALL.EntityPairClassification: 6>, <HF_TASKS_ALL.EntitySpanClassification: 7>, <HF_TASKS_ALL.Generation: 8>, <HF_TASKS_ALL.ImageClassification: 9>, <HF_TASKS_ALL.LMHead: 10>, <HF_TASKS_ALL.LMHeadModel: 11>, <HF_TASKS_ALL.MaskedLM: 12>, <HF_TASKS_ALL.MultipleChoice: 13>, <HF_TASKS_ALL.NextSentencePrediction: 14>, <HF_TASKS_ALL.PreTraining: 15>, <HF_TASKS_ALL.QuestionAnswering: 16>, <HF_TASKS_ALL.QuestionAnsweringSimple: 17>, <HF_TASKS_ALL.RegionToPhraseAlignment: 18>, <HF_TASKS_ALL.SequenceClassification: 19>, <HF_TASKS_ALL.Teacher: 20>, <HF_TASKS_ALL.TokenClassification: 21>, <HF_TASKS_ALL.VisualReasoning: 22>, <HF_TASKS_ALL.merForCausalLM: 23>, <HF_TASKS_ALL.merForMaskedLM: 24>, <HF_TASKS_ALL.merForMultipleChoice: 25>, <HF_TASKS_ALL.merForQuestionAnswering: 26>, <HF_TASKS_ALL.merForSequenceClassification: 27>, <HF_TASKS_ALL.merForTokenClassification: 28>, <HF_TASKS_ALL.merLayer: 29>, <HF_TASKS_ALL.merModel: 30>, <HF_TASKS_ALL.merPreTrainedModel: 31>]\n"
     ]
    }
   ],
   "source": [
    "print('--- all tasks ---')\n",
    "print(L(HF_TASKS))"
   ]
  },
  {
   "cell_type": "code",
   "execution_count": null,
   "metadata": {},
   "outputs": [
    {
     "data": {
      "text/plain": [
       "<HF_TASKS_ALL.Classification: 3>"
      ]
     },
     "execution_count": null,
     "metadata": {},
     "output_type": "execute_result"
    }
   ],
   "source": [
    "HF_TASKS.Classification"
   ]
  },
  {
   "cell_type": "markdown",
   "metadata": {},
   "source": [
    "`BLURR.get_classes_for_model` can be used to get the config, tokenizer, and model *classes* you want"
   ]
  },
  {
   "cell_type": "code",
   "execution_count": null,
   "metadata": {},
   "outputs": [
    {
     "data": {
      "text/markdown": [
       "<h4 id=\"BlurrUtil.get_classes_for_model\" class=\"doc_header\"><code>BlurrUtil.get_classes_for_model</code><a href=\"__main__.py#L97\" class=\"source_link\" style=\"float:right\">[source]</a></h4>\n",
       "\n",
       "> <code>BlurrUtil.get_classes_for_model</code>(**`model_name_or_cls`**)\n",
       "\n",
       "Get tokenizers, config, and model for a given model name / class"
      ],
      "text/plain": [
       "<IPython.core.display.Markdown object>"
      ]
     },
     "metadata": {},
     "output_type": "display_data"
    }
   ],
   "source": [
    "show_doc(BlurrUtil(BlurrUtil).get_classes_for_model)"
   ]
  },
  {
   "cell_type": "code",
   "execution_count": null,
   "metadata": {},
   "outputs": [
    {
     "name": "stdout",
     "output_type": "stream",
     "text": [
      "<class 'transformers.models.roberta.configuration_roberta.RobertaConfig'>\n",
      "<class 'transformers.models.roberta.tokenization_roberta.RobertaTokenizer'>\n",
      "<class 'transformers.models.roberta.modeling_roberta.RobertaForSequenceClassification'>\n"
     ]
    }
   ],
   "source": [
    "config, tokenizers, model = BLURR.get_classes_for_model('RobertaForSequenceClassification')\n",
    "\n",
    "print(config)\n",
    "print(tokenizers[0])\n",
    "print(model)"
   ]
  },
  {
   "cell_type": "code",
   "execution_count": null,
   "metadata": {},
   "outputs": [
    {
     "name": "stdout",
     "output_type": "stream",
     "text": [
      "<class 'transformers.models.distilbert.configuration_distilbert.DistilBertConfig'>\n",
      "<class 'transformers.models.distilbert.tokenization_distilbert.DistilBertTokenizer'>\n",
      "<class 'transformers.models.distilbert.modeling_distilbert.DistilBertModel'>\n"
     ]
    }
   ],
   "source": [
    "config, tokenizers, model = BLURR.get_classes_for_model(DistilBertModel)\n",
    "\n",
    "print(config)\n",
    "print(tokenizers[0])\n",
    "print(model)"
   ]
  },
  {
   "cell_type": "markdown",
   "metadata": {},
   "source": [
    "### Methods for loading pre-trained (configs, tokenizer, model) hugginface objects"
   ]
  },
  {
   "cell_type": "code",
   "execution_count": null,
   "metadata": {},
   "outputs": [
    {
     "data": {
      "text/markdown": [
       "<h4 id=\"BlurrUtil.get_hf_objects\" class=\"doc_header\"><code>BlurrUtil.get_hf_objects</code><a href=\"__main__.py#L112\" class=\"source_link\" style=\"float:right\">[source]</a></h4>\n",
       "\n",
       "> <code>BlurrUtil.get_hf_objects</code>(**`pretrained_model_name_or_path`**, **`task`**=*`None`*, **`config`**=*`None`*, **`tokenizer_cls`**=*`None`*, **`model_cls`**=*`None`*, **`config_kwargs`**=*`{}`*, **`tokenizer_kwargs`**=*`{}`*, **`model_kwargs`**=*`{}`*, **`cache_dir`**=*`None`*)\n",
       "\n",
       "Returns the architecture (str), config (obj), tokenizer (obj), and model (obj) given at minimum a\n",
       "`pre-trained model name or path`. Specify a `task` to ensure the right \"AutoModelFor<task>\" is used to\n",
       "create the model.\n",
       "\n",
       "Optionally, you can pass a config (obj), tokenizer (class), and/or model (class) (along with any \n",
       "related kwargs for each) to get as specific as you want w/r/t what Hugging Face objects are returned."
      ],
      "text/plain": [
       "<IPython.core.display.Markdown object>"
      ]
     },
     "metadata": {},
     "output_type": "display_data"
    }
   ],
   "source": [
    "show_doc(BlurrUtil(BlurrUtil).get_hf_objects)"
   ]
  },
  {
   "cell_type": "code",
   "execution_count": null,
   "metadata": {},
   "outputs": [
    {
     "name": "stdout",
     "output_type": "stream",
     "text": [
      "bert\n",
      "<class 'transformers.models.bert.configuration_bert.BertConfig'>\n",
      "<class 'transformers.models.bert.tokenization_bert_fast.BertTokenizerFast'>\n",
      "<class 'transformers.models.bert.modeling_bert.BertForMaskedLM'>\n"
     ]
    }
   ],
   "source": [
    "arch, config, tokenizer, model = BLURR.get_hf_objects(\"bert-base-cased-finetuned-mrpc\",\n",
    "                                                      model_cls=AutoModelForMaskedLM)\n",
    "\n",
    "print(arch)\n",
    "print(type(config))\n",
    "print(type(tokenizer))\n",
    "print(type(model))"
   ]
  },
  {
   "cell_type": "code",
   "execution_count": null,
   "metadata": {},
   "outputs": [
    {
     "name": "stdout",
     "output_type": "stream",
     "text": [
      "flaubert\n",
      "<class 'transformers.models.flaubert.tokenization_flaubert.FlaubertTokenizer'>\n",
      "<class 'transformers.models.flaubert.configuration_flaubert.FlaubertConfig'>\n",
      "<class 'transformers.models.flaubert.modeling_flaubert.FlaubertForQuestionAnsweringSimple'>\n"
     ]
    }
   ],
   "source": [
    "arch, tokenizer, config, model = BLURR.get_hf_objects(\"fmikaelian/flaubert-base-uncased-squad\",\n",
    "                                                      model_cls=AutoModelForQuestionAnswering)\n",
    "\n",
    "print(arch)\n",
    "print(type(config))\n",
    "print(type(tokenizer))\n",
    "print(type(model))"
   ]
  },
  {
   "cell_type": "code",
   "execution_count": null,
   "metadata": {},
   "outputs": [
    {
     "name": "stdout",
     "output_type": "stream",
     "text": [
      "bert\n",
      "<class 'transformers.models.bert.tokenization_bert.BertTokenizer'>\n",
      "<class 'transformers.models.bert.configuration_bert.BertConfig'>\n",
      "<class 'transformers.models.bert.modeling_bert.BertForNextSentencePrediction'>\n"
     ]
    }
   ],
   "source": [
    "arch, tokenizer, config, model = BLURR.get_hf_objects(\"bert-base-cased-finetuned-mrpc\",\n",
    "                                                      config=None,\n",
    "                                                      tokenizer_cls=BertTokenizer, \n",
    "                                                      model_cls=BertForNextSentencePrediction)\n",
    "print(arch)\n",
    "print(type(config))\n",
    "print(type(tokenizer)) \n",
    "print(type(model))"
   ]
  },
  {
   "cell_type": "markdown",
   "metadata": {},
   "source": [
    "## Summary"
   ]
  },
  {
   "cell_type": "markdown",
   "metadata": {},
   "source": [
    "Use the `BLURR` object is optional, as you're free to build your Hugging Face objects manually which sometimes may be required given your use case.  Most of the time, however, `BLURR` is sufficent to get you everything you need in one-line with a pretrained model name or path."
   ]
  },
  {
   "cell_type": "code",
   "execution_count": null,
   "metadata": {},
   "outputs": [
    {
     "name": "stdout",
     "output_type": "stream",
     "text": [
      "Converted 00_utils.ipynb.\n",
      "Converted 01_data-core.ipynb.\n",
      "Converted 01_modeling-core.ipynb.\n",
      "Converted 02_data-language-modeling.ipynb.\n",
      "Converted 02_modeling-language-modeling.ipynb.\n",
      "Converted 03_data-token-classification.ipynb.\n",
      "Converted 03_modeling-token-classification.ipynb.\n",
      "Converted 04_data-question-answering.ipynb.\n",
      "Converted 04_modeling-question-answering.ipynb.\n",
      "Converted 10_data-seq2seq-core.ipynb.\n",
      "Converted 10_modeling-seq2seq-core.ipynb.\n",
      "Converted 11_data-seq2seq-summarization.ipynb.\n",
      "Converted 11_modeling-seq2seq-summarization.ipynb.\n",
      "Converted 12_data-seq2seq-translation.ipynb.\n",
      "Converted 12_modeling-seq2seq-translation.ipynb.\n",
      "Converted 99a_examples-high-level-api.ipynb.\n",
      "Converted 99b_examples-glue.ipynb.\n",
      "Converted 99c_examples-glue-plain-pytorch.ipynb.\n",
      "Converted 99d_examples-multilabel.ipynb.\n",
      "Converted index.ipynb.\n"
     ]
    }
   ],
   "source": [
    "#hide\n",
    "from nbdev.export import notebook2script\n",
    "notebook2script()"
   ]
  },
  {
   "cell_type": "code",
   "execution_count": null,
   "metadata": {},
   "outputs": [],
   "source": []
  }
 ],
 "metadata": {
  "kernelspec": {
   "display_name": "Python 3",
   "language": "python",
   "name": "python3"
  }
 },
 "nbformat": 4,
 "nbformat_minor": 4
}
