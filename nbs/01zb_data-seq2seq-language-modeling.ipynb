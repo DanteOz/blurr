{
 "cells": [
  {
   "cell_type": "code",
   "execution_count": null,
   "metadata": {},
   "outputs": [],
   "source": [
    "# default_exp data.seq2seq.language_modeling"
   ]
  },
  {
   "cell_type": "code",
   "execution_count": null,
   "metadata": {},
   "outputs": [],
   "source": [
    "#hide\n",
    "%reload_ext autoreload\n",
    "%autoreload 2\n",
    "%matplotlib inline\n",
    "\n",
    "import os\n",
    "os.environ[\"TOKENIZERS_PARALLELISM\"] = \"false\""
   ]
  },
  {
   "cell_type": "markdown",
   "metadata": {},
   "source": [
    "# data.seq2seq.language_modeling\n",
    "\n",
    "> This module contains the bits required to use the fastai DataBlock API and/or mid-level data processing pipelines to organize your data for causal and masked language modeling tasks. This includes things like training BERT from scratch or fine-tuning a particular pre-trained LM on your own corpus.\n",
    "\n",
    "**This is currently a work in progress** - You've been warned : )"
   ]
  },
  {
   "cell_type": "code",
   "execution_count": null,
   "metadata": {},
   "outputs": [],
   "source": [
    "#export\n",
    "import torch, pdb\n",
    "from transformers import *\n",
    "from fastai.text.all import *\n",
    "\n",
    "from blurr.utils import *\n",
    "from blurr.data.core import *\n",
    "from blurr.data.seq2seq.core import *\n",
    "\n",
    "from abc import ABC, abstractmethod\n",
    "\n",
    "logging.set_verbosity_error()"
   ]
  },
  {
   "cell_type": "code",
   "execution_count": null,
   "metadata": {},
   "outputs": [
    {
     "name": "stdout",
     "output_type": "stream",
     "text": [
      "Using pytorch 1.7.1\n",
      "Using fastai 2.3.1\n",
      "Using transformers 4.5.1\n"
     ]
    }
   ],
   "source": [
    "#hide\n",
    "import pdb\n",
    "\n",
    "from nbdev.showdoc import *\n",
    "from fastcore.test import *\n",
    "\n",
    "from fastai import __version__ as fa_version\n",
    "from torch import __version__ as pt_version\n",
    "from transformers import __version__ as hft_version\n",
    "\n",
    "print(f'Using pytorch {pt_version}')\n",
    "print(f'Using fastai {fa_version}')\n",
    "print(f'Using transformers {hft_version}')"
   ]
  },
  {
   "cell_type": "code",
   "execution_count": null,
   "metadata": {},
   "outputs": [
    {
     "name": "stdout",
     "output_type": "stream",
     "text": [
      "Using GPU #1: GeForce GTX 1080 Ti\n"
     ]
    }
   ],
   "source": [
    "#cuda\n",
    "torch.cuda.set_device(1)\n",
    "print(f'Using GPU #{torch.cuda.current_device()}: {torch.cuda.get_device_name()}')"
   ]
  },
  {
   "cell_type": "code",
   "execution_count": null,
   "metadata": {},
   "outputs": [
    {
     "data": {
      "text/plain": [
       "(#2) [Path('/home/wgilliam/.fastai/data/wikitext-2/train.csv'),Path('/home/wgilliam/.fastai/data/wikitext-2/test.csv')]"
      ]
     },
     "execution_count": null,
     "metadata": {},
     "output_type": "execute_result"
    }
   ],
   "source": [
    "wiki_path = untar_data(URLs.WIKITEXT_TINY)\n",
    "wiki_path.ls()"
   ]
  },
  {
   "cell_type": "code",
   "execution_count": null,
   "metadata": {},
   "outputs": [
    {
     "name": "stdout",
     "output_type": "stream",
     "text": [
      "615 47\n"
     ]
    },
    {
     "data": {
      "text/html": [
       "<div>\n",
       "<style scoped>\n",
       "    .dataframe tbody tr th:only-of-type {\n",
       "        vertical-align: middle;\n",
       "    }\n",
       "\n",
       "    .dataframe tbody tr th {\n",
       "        vertical-align: top;\n",
       "    }\n",
       "\n",
       "    .dataframe thead th {\n",
       "        text-align: right;\n",
       "    }\n",
       "</style>\n",
       "<table border=\"1\" class=\"dataframe\">\n",
       "  <thead>\n",
       "    <tr style=\"text-align: right;\">\n",
       "      <th></th>\n",
       "      <th>0</th>\n",
       "    </tr>\n",
       "  </thead>\n",
       "  <tbody>\n",
       "    <tr>\n",
       "      <th>0</th>\n",
       "      <td>\\n = 2013 – 14 York City F.C. season = \\n \\n The 2013 – 14 season was the &lt;unk&gt; season of competitive association football and 77th season in the Football League played by York City Football Club , a professional football club based in York , North Yorkshire , England . Their 17th @-@ place finish in 2012 – 13 meant it was their second consecutive season in League Two . The season ran from 1 July 2013 to 30 June 2014 . \\n Nigel Worthington , starting his first full season as York manager , made eight permanent summer signings . By the turn of the year York were only above the relegation z...</td>\n",
       "    </tr>\n",
       "    <tr>\n",
       "      <th>1</th>\n",
       "      <td>\\n = Big Boy ( song ) = \\n \\n \" Big Boy \" &lt;unk&gt; \" I 'm A Big Boy Now \" was the first single ever recorded by the Jackson 5 , which was released by Steeltown Records in January 1968 . The group played instruments on many of their Steeltown compositions , including \" Big Boy \" . The song was neither a critical nor commercial success , but the Jackson family were delighted with the outcome nonetheless . \\n The Jackson 5 would release a second single with Steeltown Records before moving to Motown Records . The group 's recordings at Steeltown Records were thought to be lost , but they were re...</td>\n",
       "    </tr>\n",
       "    <tr>\n",
       "      <th>2</th>\n",
       "      <td>\\n = The Remix ( Lady Gaga album ) = \\n \\n The Remix is a remix album by American recording artist Lady Gaga . Released in Japan on March 3 , 2010 , it contains remixes of the songs from her first studio album , The Fame ( 2008 ) , and her third extended play , The Fame Monster ( 2009 ) . A revised version of the track list was prepared for release in additional markets , beginning with Mexico on May 3 , 2010 . A number of recording artists have produced the songs , including Pet Shop Boys , Passion Pit and The Sound of Arrows . The remixed versions feature both uptempo and &lt;unk&gt; composit...</td>\n",
       "    </tr>\n",
       "    <tr>\n",
       "      <th>3</th>\n",
       "      <td>\\n = New Year 's Eve ( Up All Night ) = \\n \\n \" New Year 's Eve \" is the twelfth episode of the first season of the American comedy television series Up All Night . The episode originally aired on NBC in the United States on January 12 , 2012 . It was written by Erica &lt;unk&gt; and was directed by Beth McCarthy @-@ Miller . The episode also featured a guest appearance from Jason Lee as Chris and Reagan 's neighbor and Ava 's boyfriend , Kevin . \\n During Reagan ( Christina Applegate ) and Chris 's ( Will &lt;unk&gt; ) first New Year 's Eve game night , Reagan 's competitiveness comes out causing Ch...</td>\n",
       "    </tr>\n",
       "    <tr>\n",
       "      <th>4</th>\n",
       "      <td>\\n = Geopyxis carbonaria = \\n \\n Geopyxis carbonaria is a species of fungus in the genus Geopyxis , family &lt;unk&gt; . First described to science in 1805 , and given its current name in 1889 , the species is commonly known as the charcoal loving elf @-@ cup , dwarf &lt;unk&gt; cup , &lt;unk&gt; &lt;unk&gt; cup , or pixie cup . The small , &lt;unk&gt; @-@ shaped fruitbodies of the fungus are reddish @-@ brown with a whitish fringe and measure up to 2 cm ( 0 @.@ 8 in ) across . They have a short , tapered stalk . Fruitbodies are commonly found on soil where brush has recently been burned , sometimes in great numbers ....</td>\n",
       "    </tr>\n",
       "  </tbody>\n",
       "</table>\n",
       "</div>"
      ],
      "text/plain": [
       "                                                                                                                                                                                                                                                                                                                                                                                                                                                                                                                                                                                                                         0\n",
       "0   \\n = 2013 – 14 York City F.C. season = \\n \\n The 2013 – 14 season was the <unk> season of competitive association football and 77th season in the Football League played by York City Football Club , a professional football club based in York , North Yorkshire , England . Their 17th @-@ place finish in 2012 – 13 meant it was their second consecutive season in League Two . The season ran from 1 July 2013 to 30 June 2014 . \\n Nigel Worthington , starting his first full season as York manager , made eight permanent summer signings . By the turn of the year York were only above the relegation z...\n",
       "1   \\n = Big Boy ( song ) = \\n \\n \" Big Boy \" <unk> \" I 'm A Big Boy Now \" was the first single ever recorded by the Jackson 5 , which was released by Steeltown Records in January 1968 . The group played instruments on many of their Steeltown compositions , including \" Big Boy \" . The song was neither a critical nor commercial success , but the Jackson family were delighted with the outcome nonetheless . \\n The Jackson 5 would release a second single with Steeltown Records before moving to Motown Records . The group 's recordings at Steeltown Records were thought to be lost , but they were re...\n",
       "2   \\n = The Remix ( Lady Gaga album ) = \\n \\n The Remix is a remix album by American recording artist Lady Gaga . Released in Japan on March 3 , 2010 , it contains remixes of the songs from her first studio album , The Fame ( 2008 ) , and her third extended play , The Fame Monster ( 2009 ) . A revised version of the track list was prepared for release in additional markets , beginning with Mexico on May 3 , 2010 . A number of recording artists have produced the songs , including Pet Shop Boys , Passion Pit and The Sound of Arrows . The remixed versions feature both uptempo and <unk> composit...\n",
       "3   \\n = New Year 's Eve ( Up All Night ) = \\n \\n \" New Year 's Eve \" is the twelfth episode of the first season of the American comedy television series Up All Night . The episode originally aired on NBC in the United States on January 12 , 2012 . It was written by Erica <unk> and was directed by Beth McCarthy @-@ Miller . The episode also featured a guest appearance from Jason Lee as Chris and Reagan 's neighbor and Ava 's boyfriend , Kevin . \\n During Reagan ( Christina Applegate ) and Chris 's ( Will <unk> ) first New Year 's Eve game night , Reagan 's competitiveness comes out causing Ch...\n",
       "4   \\n = Geopyxis carbonaria = \\n \\n Geopyxis carbonaria is a species of fungus in the genus Geopyxis , family <unk> . First described to science in 1805 , and given its current name in 1889 , the species is commonly known as the charcoal loving elf @-@ cup , dwarf <unk> cup , <unk> <unk> cup , or pixie cup . The small , <unk> @-@ shaped fruitbodies of the fungus are reddish @-@ brown with a whitish fringe and measure up to 2 cm ( 0 @.@ 8 in ) across . They have a short , tapered stalk . Fruitbodies are commonly found on soil where brush has recently been burned , sometimes in great numbers ...."
      ]
     },
     "execution_count": null,
     "metadata": {},
     "output_type": "execute_result"
    }
   ],
   "source": [
    "train_df = pd.read_csv(wiki_path/'train.csv', header=None)\n",
    "valid_df = pd.read_csv(wiki_path/'test.csv', header=None)\n",
    "\n",
    "print(len(train_df), len(valid_df))\n",
    "train_df.head()"
   ]
  },
  {
   "cell_type": "code",
   "execution_count": null,
   "metadata": {},
   "outputs": [
    {
     "data": {
      "text/html": [
       "<div>\n",
       "<style scoped>\n",
       "    .dataframe tbody tr th:only-of-type {\n",
       "        vertical-align: middle;\n",
       "    }\n",
       "\n",
       "    .dataframe tbody tr th {\n",
       "        vertical-align: top;\n",
       "    }\n",
       "\n",
       "    .dataframe thead th {\n",
       "        text-align: right;\n",
       "    }\n",
       "</style>\n",
       "<table border=\"1\" class=\"dataframe\">\n",
       "  <thead>\n",
       "    <tr style=\"text-align: right;\">\n",
       "      <th></th>\n",
       "      <th>0</th>\n",
       "      <th>is_valid</th>\n",
       "    </tr>\n",
       "  </thead>\n",
       "  <tbody>\n",
       "    <tr>\n",
       "      <th>0</th>\n",
       "      <td>\\n = 2013 – 14 York City F.C. season = \\n \\n The 2013 – 14 season was the &lt;unk&gt; season of competitive association football and 77th season in the Football League played by York City Football Club , a professional football club based in York , North Yorkshire , England . Their 17th @-@ place finish in 2012 – 13 meant it was their second consecutive season in League Two . The season ran from 1 July 2013 to 30 June 2014 . \\n Nigel Worthington , starting his first full season as York manager , made eight permanent summer signings . By the turn of the year York were only above the relegation z...</td>\n",
       "      <td>False</td>\n",
       "    </tr>\n",
       "    <tr>\n",
       "      <th>1</th>\n",
       "      <td>\\n = Big Boy ( song ) = \\n \\n \" Big Boy \" &lt;unk&gt; \" I 'm A Big Boy Now \" was the first single ever recorded by the Jackson 5 , which was released by Steeltown Records in January 1968 . The group played instruments on many of their Steeltown compositions , including \" Big Boy \" . The song was neither a critical nor commercial success , but the Jackson family were delighted with the outcome nonetheless . \\n The Jackson 5 would release a second single with Steeltown Records before moving to Motown Records . The group 's recordings at Steeltown Records were thought to be lost , but they were re...</td>\n",
       "      <td>False</td>\n",
       "    </tr>\n",
       "    <tr>\n",
       "      <th>2</th>\n",
       "      <td>\\n = The Remix ( Lady Gaga album ) = \\n \\n The Remix is a remix album by American recording artist Lady Gaga . Released in Japan on March 3 , 2010 , it contains remixes of the songs from her first studio album , The Fame ( 2008 ) , and her third extended play , The Fame Monster ( 2009 ) . A revised version of the track list was prepared for release in additional markets , beginning with Mexico on May 3 , 2010 . A number of recording artists have produced the songs , including Pet Shop Boys , Passion Pit and The Sound of Arrows . The remixed versions feature both uptempo and &lt;unk&gt; composit...</td>\n",
       "      <td>False</td>\n",
       "    </tr>\n",
       "    <tr>\n",
       "      <th>3</th>\n",
       "      <td>\\n = New Year 's Eve ( Up All Night ) = \\n \\n \" New Year 's Eve \" is the twelfth episode of the first season of the American comedy television series Up All Night . The episode originally aired on NBC in the United States on January 12 , 2012 . It was written by Erica &lt;unk&gt; and was directed by Beth McCarthy @-@ Miller . The episode also featured a guest appearance from Jason Lee as Chris and Reagan 's neighbor and Ava 's boyfriend , Kevin . \\n During Reagan ( Christina Applegate ) and Chris 's ( Will &lt;unk&gt; ) first New Year 's Eve game night , Reagan 's competitiveness comes out causing Ch...</td>\n",
       "      <td>False</td>\n",
       "    </tr>\n",
       "    <tr>\n",
       "      <th>4</th>\n",
       "      <td>\\n = Geopyxis carbonaria = \\n \\n Geopyxis carbonaria is a species of fungus in the genus Geopyxis , family &lt;unk&gt; . First described to science in 1805 , and given its current name in 1889 , the species is commonly known as the charcoal loving elf @-@ cup , dwarf &lt;unk&gt; cup , &lt;unk&gt; &lt;unk&gt; cup , or pixie cup . The small , &lt;unk&gt; @-@ shaped fruitbodies of the fungus are reddish @-@ brown with a whitish fringe and measure up to 2 cm ( 0 @.@ 8 in ) across . They have a short , tapered stalk . Fruitbodies are commonly found on soil where brush has recently been burned , sometimes in great numbers ....</td>\n",
       "      <td>False</td>\n",
       "    </tr>\n",
       "  </tbody>\n",
       "</table>\n",
       "</div>"
      ],
      "text/plain": [
       "                                                                                                                                                                                                                                                                                                                                                                                                                                                                                                                                                                                                                         0  \\\n",
       "0   \\n = 2013 – 14 York City F.C. season = \\n \\n The 2013 – 14 season was the <unk> season of competitive association football and 77th season in the Football League played by York City Football Club , a professional football club based in York , North Yorkshire , England . Their 17th @-@ place finish in 2012 – 13 meant it was their second consecutive season in League Two . The season ran from 1 July 2013 to 30 June 2014 . \\n Nigel Worthington , starting his first full season as York manager , made eight permanent summer signings . By the turn of the year York were only above the relegation z...   \n",
       "1   \\n = Big Boy ( song ) = \\n \\n \" Big Boy \" <unk> \" I 'm A Big Boy Now \" was the first single ever recorded by the Jackson 5 , which was released by Steeltown Records in January 1968 . The group played instruments on many of their Steeltown compositions , including \" Big Boy \" . The song was neither a critical nor commercial success , but the Jackson family were delighted with the outcome nonetheless . \\n The Jackson 5 would release a second single with Steeltown Records before moving to Motown Records . The group 's recordings at Steeltown Records were thought to be lost , but they were re...   \n",
       "2   \\n = The Remix ( Lady Gaga album ) = \\n \\n The Remix is a remix album by American recording artist Lady Gaga . Released in Japan on March 3 , 2010 , it contains remixes of the songs from her first studio album , The Fame ( 2008 ) , and her third extended play , The Fame Monster ( 2009 ) . A revised version of the track list was prepared for release in additional markets , beginning with Mexico on May 3 , 2010 . A number of recording artists have produced the songs , including Pet Shop Boys , Passion Pit and The Sound of Arrows . The remixed versions feature both uptempo and <unk> composit...   \n",
       "3   \\n = New Year 's Eve ( Up All Night ) = \\n \\n \" New Year 's Eve \" is the twelfth episode of the first season of the American comedy television series Up All Night . The episode originally aired on NBC in the United States on January 12 , 2012 . It was written by Erica <unk> and was directed by Beth McCarthy @-@ Miller . The episode also featured a guest appearance from Jason Lee as Chris and Reagan 's neighbor and Ava 's boyfriend , Kevin . \\n During Reagan ( Christina Applegate ) and Chris 's ( Will <unk> ) first New Year 's Eve game night , Reagan 's competitiveness comes out causing Ch...   \n",
       "4   \\n = Geopyxis carbonaria = \\n \\n Geopyxis carbonaria is a species of fungus in the genus Geopyxis , family <unk> . First described to science in 1805 , and given its current name in 1889 , the species is commonly known as the charcoal loving elf @-@ cup , dwarf <unk> cup , <unk> <unk> cup , or pixie cup . The small , <unk> @-@ shaped fruitbodies of the fungus are reddish @-@ brown with a whitish fringe and measure up to 2 cm ( 0 @.@ 8 in ) across . They have a short , tapered stalk . Fruitbodies are commonly found on soil where brush has recently been burned , sometimes in great numbers ....   \n",
       "\n",
       "   is_valid  \n",
       "0     False  \n",
       "1     False  \n",
       "2     False  \n",
       "3     False  \n",
       "4     False  "
      ]
     },
     "execution_count": null,
     "metadata": {},
     "output_type": "execute_result"
    }
   ],
   "source": [
    "train_df['is_valid'] = False\n",
    "valid_df['is_valid'] = True\n",
    "\n",
    "df = pd.concat([train_df, valid_df])\n",
    "df.head()"
   ]
  },
  {
   "cell_type": "markdown",
   "metadata": {},
   "source": [
    "## Abstract LMStrategy Class"
   ]
  },
  {
   "cell_type": "code",
   "execution_count": null,
   "metadata": {},
   "outputs": [],
   "source": [
    "#export\n",
    "class LMStrategy(ABC):\n",
    "    def __init__(self, hf_tokenizer, ignore_token_id=CrossEntropyLossFlat().ignore_index):\n",
    "        store_attr(['hf_tokenizer', 'ignore_token_id'])\n",
    "         \n",
    "    @abstractmethod\n",
    "    def build_inputs_targets(self, samples):\n",
    "        pass\n",
    "    \n",
    "    # utility methods\n",
    "    def _get_random_token_id(self,n):\n",
    "        return random.sample(list(self.hf_tokenizer.get_vocab().values()), n)"
   ]
  },
  {
   "cell_type": "markdown",
   "metadata": {},
   "source": [
    "## Causal LM"
   ]
  },
  {
   "cell_type": "code",
   "execution_count": null,
   "metadata": {},
   "outputs": [
    {
     "name": "stderr",
     "output_type": "stream",
     "text": [
      "Using pad_token, but it is not set yet.\n"
     ]
    },
    {
     "data": {
      "text/plain": [
       "('[PAD]', 50256)"
      ]
     },
     "execution_count": null,
     "metadata": {},
     "output_type": "execute_result"
    }
   ],
   "source": [
    "model_cls = AutoModelForCausalLM\n",
    "\n",
    "pretrained_model_name = \"gpt2\"\n",
    "hf_arch, hf_config, hf_tokenizer, hf_model = BLURR.get_hf_objects(pretrained_model_name, model_cls=model_cls)\n",
    "\n",
    "# some tokenizers like gpt and gpt2 do not have a pad token, so we add it here mainly for the purpose\n",
    "# of setting the \"labels\" key appropriately (see below)\n",
    "if (hf_tokenizer.pad_token is None): hf_tokenizer.pad_token = '[PAD]'\n",
    "\n",
    "hf_tokenizer.pad_token, hf_tokenizer.pad_token_id"
   ]
  },
  {
   "cell_type": "code",
   "execution_count": null,
   "metadata": {},
   "outputs": [],
   "source": [
    "#export\n",
    "class CausalLMStrategy(LMStrategy):\n",
    "    \n",
    "    def build_inputs_targets(self, samples):\n",
    "        updated_samples = []\n",
    "        for s in samples:\n",
    "            s[0]['labels'] = s[0]['input_ids'].clone()\n",
    "            s[0]['labels'][s[0]['labels'] == self.hf_tokenizer.pad_token_id] = self.ignore_token_id            \n",
    "            targ_ids = s[0]['input_ids'].clone()\n",
    "\n",
    "            updated_samples.append((s[0], targ_ids))\n",
    "        \n",
    "        return updated_samples"
   ]
  },
  {
   "cell_type": "code",
   "execution_count": null,
   "metadata": {},
   "outputs": [],
   "source": [
    "#export\n",
    "class HF_LMBeforeBatchTransform(HF_BeforeBatchTransform):\n",
    "    def __init__(self, hf_arch, hf_config, hf_tokenizer, hf_model, lm_strategy_cls:LMStrategy=CausalLMStrategy,\n",
    "                 max_length=None, padding=True, truncation=True, is_split_into_words=False, \n",
    "                 ignore_token_id = CrossEntropyLossFlat().ignore_index,\n",
    "                 tok_kwargs={}, text_gen_kwargs={}, **kwargs):\n",
    "                 \n",
    "        super().__init__(hf_arch, hf_config, hf_tokenizer, hf_model,\n",
    "                         max_length=max_length, padding=padding, truncation=truncation, \n",
    "                         is_split_into_words=is_split_into_words,\n",
    "                         tok_kwargs=tok_kwargs.copy(), **kwargs)\n",
    "        \n",
    "        self.lm_strategy = lm_strategy_cls(hf_tokenizer=hf_tokenizer, ignore_token_id=ignore_token_id)\n",
    "        self.text_gen_kwargs, self.ignore_token_id = text_gen_kwargs, ignore_token_id\n",
    "        \n",
    "    def encodes(self, samples):  \n",
    "        # because no target is specific in CLM, fastai will duplicate the inputs (which is just the raw text)\n",
    "        samples = super().encodes(samples)\n",
    "        if (len(samples[0]) == 1): return samples\n",
    "        \n",
    "        return self.lm_strategy.build_inputs_targets(samples)"
   ]
  },
  {
   "cell_type": "markdown",
   "metadata": {},
   "source": [
    "Our `HF_CausalLMBeforeBatchTransform` allows us to update the input's `labels` and our targets appropriately given a causal LM task. \n",
    "\n",
    "The `labels` argument allows you to forgo calculating the loss yourself by letting huggingface return it for you should you choose to do that. Padding tokens are set to -100 by default (e.g., `CrossEntropyLossFlat().ignore_index`) and prevent cross entropy loss from considering token prediction for tokens it should ... i.e., the padding tokens. For more information on the meaning of this argument, see the [huggingface glossary entry for \"Labels\"](https://huggingface.co/transformers/glossary.html#labels)"
   ]
  },
  {
   "cell_type": "code",
   "execution_count": null,
   "metadata": {},
   "outputs": [],
   "source": [
    "before_batch_tfm = HF_LMBeforeBatchTransform(hf_arch, hf_config, hf_tokenizer, hf_model)\n",
    "blocks = (HF_Seq2SeqBlock(before_batch_tfm=before_batch_tfm), noop)\n",
    "\n",
    "dblock = DataBlock(blocks=blocks, get_x=ColReader(0), splitter=ColSplitter(col='is_valid'))"
   ]
  },
  {
   "cell_type": "code",
   "execution_count": null,
   "metadata": {},
   "outputs": [],
   "source": [
    "dls = dblock.dataloaders(df, bs=4)"
   ]
  },
  {
   "cell_type": "code",
   "execution_count": null,
   "metadata": {},
   "outputs": [],
   "source": [
    "b = dls.one_batch()"
   ]
  },
  {
   "cell_type": "code",
   "execution_count": null,
   "metadata": {},
   "outputs": [
    {
     "data": {
      "text/plain": [
       "(torch.Size([4, 1024]), torch.Size([4, 1024]), torch.Size([4, 1024]))"
      ]
     },
     "execution_count": null,
     "metadata": {},
     "output_type": "execute_result"
    }
   ],
   "source": [
    "b[0]['input_ids'].shape, b[0]['labels'].shape, b[1].shape"
   ]
  },
  {
   "cell_type": "code",
   "execution_count": null,
   "metadata": {},
   "outputs": [
    {
     "data": {
      "text/plain": [
       "{tuple: [dict, torch.Tensor]}"
      ]
     },
     "execution_count": null,
     "metadata": {},
     "output_type": "execute_result"
    }
   ],
   "source": [
    "explode_types(b)"
   ]
  },
  {
   "cell_type": "code",
   "execution_count": null,
   "metadata": {},
   "outputs": [
    {
     "data": {
      "text/html": [
       "<table border=\"1\" class=\"dataframe\">\n",
       "  <thead>\n",
       "    <tr style=\"text-align: right;\">\n",
       "      <th></th>\n",
       "      <th>text</th>\n",
       "      <th>target</th>\n",
       "    </tr>\n",
       "  </thead>\n",
       "  <tbody>\n",
       "    <tr>\n",
       "      <th>0</th>\n",
       "      <td>\\n = Bob Dylan = \\n \\n Bob Dylan ( / &lt;unk&gt; / ; born Robert Allen Zimmerman, May 24, 1941 ) is an American singer @-@ songwriter, artist and writer. He has been influential in popular music and culture for more than five decades. Much of his most celebrated work dates from the 1960s when his songs chronicled social unrest, although Dylan repudiated suggestions from journalists that he was a spokesman for his generation. Nevertheless, early songs such as \" Blowin'in the Wind \" and \" The Times They Are a @-@ &lt;unk&gt;'\" became anthems for the American civil rights and anti @-@ war movements. After he left his initial base in the American folk music revival, his six @-@ minute single \" Like a Rolling Stone \" altered the range of popular music in 1965. His mid @-@ 1960s recordings, backed by rock musicians, reached the top end of the United States music charts while also attracting &lt;unk&gt; and criticism from others in the folk movement. \\n Dylan's lyrics have incorporated various political, social, philosophical, and literary influences. They defied existing pop music conventions and appealed to the burgeoning counterculture. Initially inspired by the performances of Little Richard and the songwriting of Woody Guthrie, Robert Johnson, and Hank Williams, Dylan has amplified and &lt;unk&gt; musical genres. His recording career, spanning more than 50 years, has explored the traditions in American song — from folk, blues, and country to gospel, rock and roll, and rockabilly to English, Scottish, and Irish folk music, embracing even jazz and the Great American Songbook. Dylan performs with guitar, keyboards, and harmonica. Backed by a changing lineup of musicians, he has toured steadily since the late 1980s on what has been dubbed the Never Ending Tour. His accomplishments as a recording artist and performer have been central to his career, but songwriting is considered his greatest contribution. \\n Since 1994, Dylan has published six books of drawings and paintings, and his work has been exhibited in major art galleries. As a musician, Dylan has sold more than 100 million records, making him one of the best @-@ selling artists of all time. He has also received numerous awards including eleven Grammy Awards, a Golden Globe Award, and an Academy Award. Dylan has been inducted into the Rock and Roll Hall of Fame, Minnesota Music Hall of Fame, Nashville Songwriters Hall of Fame, and Songwriters Hall of Fame. The Pulitzer Prize jury in 2008 awarded him a special citation for \" his profound impact on popular music and American culture, marked by lyrical compositions of extraordinary poetic power. \" In May 2012, Dylan received the Presidential Medal of Freedom from President Barack Obama. \\n \\n = = Life and career = = \\n \\n \\n = = = Origins and musical beginnings = = = \\n \\n Bob Dylan was born Robert Allen Zimmerman ( Hebrew name &lt;unk&gt; &lt;unk&gt; &lt;unk&gt; &lt;unk&gt; [ Shabtai &lt;unk&gt; ben &lt;unk&gt; ] ) in St Mary's Hospital on May 24, 1941, in Duluth, Minnesota, and raised in Hibbing, Minnesota, on the &lt;unk&gt; Range west of Lake Superior. He has a younger brother, David. Dylan's paternal grandparents, &lt;unk&gt; and Anna Zimmerman, emigrated from Odessa, in the Russian Empire ( now Ukraine ), to the United States following the anti @-@ Semitic &lt;unk&gt; of 1905. His maternal grandparents, Ben and Florence Stone, were Lithuanian Jews who arrived in the United States in 1902. In his autobiography, Chronicles : Volume One, Dylan wrote that his paternal grandmother's maiden name was &lt;unk&gt; and her family originated from &lt;unk&gt; district of &lt;unk&gt; Province in northeastern Turkey. \\n Dylan's parents, &lt;unk&gt; Zimmerman and &lt;unk&gt; \" Beatty \" Stone, were part of a small but close @-@ knit Jewish community. They lived in Duluth until Robert was six, when his father had &lt;unk&gt; and the family returned to his mother's hometown, Hibbing, where they lived for the rest of Robert's childhood. In his early years he listened to the radio — first to blues and country stations from Shreveport, Louisiana and later, when he was a teenager, to rock and roll. He formed several bands while attending Hibbing High School. In the Golden &lt;unk&gt;, he performed covers of songs by Little Richard and Elvis Presley. Their performance of Danny &amp; the Juniors'\" Rock and Roll Is Here to Stay \" at their high school talent show was so loud that the principal cut the microphone. In 1959, his high school &lt;unk&gt; carried the caption \" Robert Zimmerman : to join'Little Richard '. \" The same year, as &lt;unk&gt; &lt;unk&gt; [ sic ], he performed two dates with Bobby &lt;unk&gt;, playing piano and clapping. \\n Zimmerman moved to Minneapolis in September 1959 and</td>\n",
       "      <td>\\n = Bob Dylan = \\n \\n Bob Dylan ( / &lt;unk&gt; / ; born Robert Allen Zimmerman, May 24, 1941 ) is an American singer @-@ songwriter, artist and writer. He has been influential in popular music and culture for more than five decades. Much of his most celebrated work dates from the 1960s when his songs chronicled social unrest, although Dylan repudiated suggestions from journalists that he was a spokesman for his generation. Nevertheless, early songs such as \" Blowin'in the Wind \" and \" The Times They Are a @-@ &lt;unk&gt;'\" became anthems for the American civil rights and anti @-@ war movements. After he left his initial base in the American folk music revival, his six @-@ minute single \" Like a Rolling Stone \" altered the range of popular music in 1965. His mid @-@ 1960s recordings, backed by rock musicians, reached the top end of the United States music charts while also attracting &lt;unk&gt; and criticism from others in the folk movement. \\n Dylan's lyrics have incorporated various political, social, philosophical, and literary influences. They defied existing pop music conventions and appealed to the burgeoning counterculture. Initially inspired by the performances of Little Richard and the songwriting of Woody Guthrie, Robert Johnson, and Hank Williams, Dylan has amplified and &lt;unk&gt; musical genres. His recording career, spanning more than 50 years, has explored the traditions in American song — from folk, blues, and country to gospel, rock and roll, and rockabilly to English, Scottish, and Irish folk music, embracing even jazz and the Great American Songbook. Dylan performs with guitar, keyboards, and harmonica. Backed by a changing lineup of musicians, he has toured steadily since the late 1980s on what has been dubbed the Never Ending Tour. His accomplishments as a recording artist and performer have been central to his career, but songwriting is considered his greatest contribution. \\n Since 1994, Dylan has published six books of drawings and paintings, and his work has been exhibited in major art galleries. As a musician, Dylan has sold more than 100 million records, making him one of the best @-@ selling artists of all time. He has also received numerous awards including eleven Grammy Awards, a Golden Globe Award, and an Academy Award. Dylan has been inducted into the Rock and Roll Hall of Fame, Minnesota Music Hall of Fame, Nashville Songwriters Hall of Fame, and Songwriters Hall of Fame. The Pulitzer Prize jury in 2008 awarded him a special citation for \" his profound impact on popular music and American culture, marked by lyrical compositions of extraordinary poetic power. \" In May 2012, Dylan received the Presidential Medal of Freedom from President Barack Obama. \\n \\n = = Life and career = = \\n \\n \\n = = = Origins and musical beginnings = = = \\n \\n Bob Dylan was born Robert Allen Zimmerman ( Hebrew name &lt;unk&gt; &lt;unk&gt; &lt;unk&gt; &lt;unk&gt; [ Shabtai &lt;unk&gt; ben &lt;unk&gt; ] ) in St Mary's Hospital on May 24, 1941, in Duluth, Minnesota, and raised in Hibbing, Minnesota, on the &lt;unk&gt; Range west of Lake Superior. He has a younger brother, David. Dylan's paternal grandparents, &lt;unk&gt; and Anna Zimmerman, emigrated from Odessa, in the Russian Empire ( now Ukraine ), to the United States following the anti @-@ Semitic &lt;unk&gt; of 1905. His maternal grandparents, Ben and Florence Stone, were Lithuanian Jews who arrived in the United States in 1902. In his autobiography, Chronicles : Volume One, Dylan wrote that his paternal grandmother's maiden name was &lt;unk&gt; and her family originated from &lt;unk&gt; district of &lt;unk&gt; Province in northeastern Turkey. \\n Dylan's parents, &lt;unk&gt; Zimmerman and &lt;unk&gt; \" Beatty \" Stone, were part of a small but close @-@ knit Jewish community. They lived in Duluth until Robert was six, when his father had &lt;unk&gt; and the family returned to his mother's hometown, Hibbing, where they lived for the rest of Robert's childhood. In his early years he listened to the radio — first to blues and country stations from Shreveport, Louisiana and later, when he was a teenager, to rock and roll. He formed several bands while attending Hibbing High School. In the Golden &lt;unk&gt;, he performed covers of songs by Little Richard and Elvis Presley. Their performance of Danny &amp; the Juniors'\" Rock and Roll Is Here to Stay \" at their high school talent show was so loud that the principal cut the microphone. In 1959, his high school &lt;unk&gt; carried the caption \" Robert Zimmerman : to join'Little Richard '. \" The same year, as &lt;unk&gt; &lt;unk&gt; [ sic ], he performed two dates with Bobby &lt;unk&gt;, playing piano and clapping. \\n Zimmerman moved to Minneapolis in September 1959 and</td>\n",
       "    </tr>\n",
       "    <tr>\n",
       "      <th>1</th>\n",
       "      <td>\\n = Battle of Romani = \\n \\n The Battle of Romani was the last ground attack of the Central Powers on the Suez Canal at the beginning of the Sinai and Palestine Campaign during the First World War. The battle was fought between 3 and 5 August 1916 near the Egyptian town of Romani and the site of ancient Pelusium on the Sinai Peninsula, 23 miles ( 37 km ) east of the Suez Canal. This victory by the 52nd ( Lowland ) Division and the Anzac Mounted Division of the Egyptian Expeditionary Force ( EEF ) over a joint Ottoman and German force, which had marched across the Sinai, marked the end of the Defence of the Suez Canal campaign, also known as the Offensive zur &lt;unk&gt; des &lt;unk&gt; and the &lt;unk&gt; &lt;unk&gt; &lt;unk&gt;, which had begun on 26 January 1915. \\n This British Empire victory, the first against the Ottoman Empire in the war, ensured the safety of the Suez Canal from ground attacks, and ended the Central Powers'ambitions of disrupting traffic through the canal by gaining control of the strategically important northern approaches to the Suez Canal. The pursuit by the Anzac Mounted Division which ended at Bir el Abd on 12 August began the Sinai and Palestine Campaign. Thereafter, the Anzac Mounted Division supported by the Imperial Camel Brigade were on the offensive, pursuing the German and Ottoman army many miles across the Sinai Peninsula, reversing in a most &lt;unk&gt; manner the defeat suffered at Katia three months earlier. \\n From late April 1916, after a German @-@ led Ottoman force attacked British yeomanry at Katia, British Empire forces in the region at first doubled from one brigade to two and then grew as rapidly as the developing infrastructure could support them. The construction of the railway and a water pipeline soon enabled an infantry division to join the light horse and mounted rifle brigades at Romani. During the heat of summer, regular mounted patrols and reconnaissance were carried out from their base at Romani, while the infantry constructed an extensive series of defensive redoubts. On 19 July, the advance of a large German, Austrian and Ottoman force across the northern Sinai was reported. From 20 July until the battle began, the Australian 1st and 2nd Light Horse Brigades took turns pushing out to clash with the advancing hostile column. \\n During the night of 3 / 4 August 1916, the advancing force including the German Pasha I formation and the Ottoman 3rd Infantry Division launched an attack from Katia on Romani. Forward troops quickly became engaged with the screen established by the 1st Light Horse Brigade ( Anzac Mounted Division ). During fierce fighting before dawn on 4 August, the Australian light horsemen were forced to slowly retire. At daylight, their line was reinforced by the 2nd Light Horse Brigade, and about mid morning, the 5th Mounted Brigade and the New Zealand Mounted Rifles Brigade joined the battle. Together these four brigades of the Anzac Mounted Division, managed to contain and direct the determined attackers into deep sand. Here the attackers came within range of the strongly entrenched 52nd ( Lowland ) Division defending Romani and the railway. &lt;unk&gt; resistance by all these EEF formations, the deep sand, the heat and thirst prevailed, and the German, Austrian and Ottoman advance was checked. Although the attacking force fought strongly to maintain its positions the next morning, by nightfall they had been pushed back to their starting point at Katia. The retiring force was pursued by the Anzac Mounted Division between 6 and 9 August, during which the Ottomans and Germans forces fought a number of strong rearguard actions against the advancing Australian light horse, British yeomanry and New Zealand mounted rifle brigades. The pursuit ended on 12 August, when the German and Ottoman force abandoned their base at Bir el Abd and retreated back to El Arish. \\n \\n = = Background = = \\n \\n At the beginning of the First World War, the Egyptian police controlling the Sinai Peninsula had withdrawn, leaving the area largely unprotected. In February 1915, a German and Ottoman force unsuccessfully attacked the Suez Canal. Minor Ottoman and &lt;unk&gt; forces operating across the Sinai continued to threaten the canal from March through the Gallipoli Campaign until June, when they practically ceased until the autumn. Meanwhile, the German and Ottoman &lt;unk&gt; supported an uprising by the &lt;unk&gt; ( a political @-@ religious group ) on the western frontier of Egypt which began in November 1915. \\n By February 1916, however, there was no apparent sign of any unusual military activity in the Sinai itself, when the British began construction on the first 25 @-@ mile ( 40 km ) stretch of 4 @-@ foot @-@ 8 @-@ inch ( 1 @.@ 42 m ) standard gauge railway and water pipeline from Kantara to Romani and Katia. Reconnaissance aircraft of the Royal Flying Corps and seaplanes of the Royal Naval Air Service found only small, scattered</td>\n",
       "      <td>\\n = Battle of Romani = \\n \\n The Battle of Romani was the last ground attack of the Central Powers on the Suez Canal at the beginning of the Sinai and Palestine Campaign during the First World War. The battle was fought between 3 and 5 August 1916 near the Egyptian town of Romani and the site of ancient Pelusium on the Sinai Peninsula, 23 miles ( 37 km ) east of the Suez Canal. This victory by the 52nd ( Lowland ) Division and the Anzac Mounted Division of the Egyptian Expeditionary Force ( EEF ) over a joint Ottoman and German force, which had marched across the Sinai, marked the end of the Defence of the Suez Canal campaign, also known as the Offensive zur &lt;unk&gt; des &lt;unk&gt; and the &lt;unk&gt; &lt;unk&gt; &lt;unk&gt;, which had begun on 26 January 1915. \\n This British Empire victory, the first against the Ottoman Empire in the war, ensured the safety of the Suez Canal from ground attacks, and ended the Central Powers'ambitions of disrupting traffic through the canal by gaining control of the strategically important northern approaches to the Suez Canal. The pursuit by the Anzac Mounted Division which ended at Bir el Abd on 12 August began the Sinai and Palestine Campaign. Thereafter, the Anzac Mounted Division supported by the Imperial Camel Brigade were on the offensive, pursuing the German and Ottoman army many miles across the Sinai Peninsula, reversing in a most &lt;unk&gt; manner the defeat suffered at Katia three months earlier. \\n From late April 1916, after a German @-@ led Ottoman force attacked British yeomanry at Katia, British Empire forces in the region at first doubled from one brigade to two and then grew as rapidly as the developing infrastructure could support them. The construction of the railway and a water pipeline soon enabled an infantry division to join the light horse and mounted rifle brigades at Romani. During the heat of summer, regular mounted patrols and reconnaissance were carried out from their base at Romani, while the infantry constructed an extensive series of defensive redoubts. On 19 July, the advance of a large German, Austrian and Ottoman force across the northern Sinai was reported. From 20 July until the battle began, the Australian 1st and 2nd Light Horse Brigades took turns pushing out to clash with the advancing hostile column. \\n During the night of 3 / 4 August 1916, the advancing force including the German Pasha I formation and the Ottoman 3rd Infantry Division launched an attack from Katia on Romani. Forward troops quickly became engaged with the screen established by the 1st Light Horse Brigade ( Anzac Mounted Division ). During fierce fighting before dawn on 4 August, the Australian light horsemen were forced to slowly retire. At daylight, their line was reinforced by the 2nd Light Horse Brigade, and about mid morning, the 5th Mounted Brigade and the New Zealand Mounted Rifles Brigade joined the battle. Together these four brigades of the Anzac Mounted Division, managed to contain and direct the determined attackers into deep sand. Here the attackers came within range of the strongly entrenched 52nd ( Lowland ) Division defending Romani and the railway. &lt;unk&gt; resistance by all these EEF formations, the deep sand, the heat and thirst prevailed, and the German, Austrian and Ottoman advance was checked. Although the attacking force fought strongly to maintain its positions the next morning, by nightfall they had been pushed back to their starting point at Katia. The retiring force was pursued by the Anzac Mounted Division between 6 and 9 August, during which the Ottomans and Germans forces fought a number of strong rearguard actions against the advancing Australian light horse, British yeomanry and New Zealand mounted rifle brigades. The pursuit ended on 12 August, when the German and Ottoman force abandoned their base at Bir el Abd and retreated back to El Arish. \\n \\n = = Background = = \\n \\n At the beginning of the First World War, the Egyptian police controlling the Sinai Peninsula had withdrawn, leaving the area largely unprotected. In February 1915, a German and Ottoman force unsuccessfully attacked the Suez Canal. Minor Ottoman and &lt;unk&gt; forces operating across the Sinai continued to threaten the canal from March through the Gallipoli Campaign until June, when they practically ceased until the autumn. Meanwhile, the German and Ottoman &lt;unk&gt; supported an uprising by the &lt;unk&gt; ( a political @-@ religious group ) on the western frontier of Egypt which began in November 1915. \\n By February 1916, however, there was no apparent sign of any unusual military activity in the Sinai itself, when the British began construction on the first 25 @-@ mile ( 40 km ) stretch of 4 @-@ foot @-@ 8 @-@ inch ( 1 @.@ 42 m ) standard gauge railway and water pipeline from Kantara to Romani and Katia. Reconnaissance aircraft of the Royal Flying Corps and seaplanes of the Royal Naval Air Service found only small, scattered</td>\n",
       "    </tr>\n",
       "  </tbody>\n",
       "</table>"
      ],
      "text/plain": [
       "<IPython.core.display.HTML object>"
      ]
     },
     "metadata": {},
     "output_type": "display_data"
    }
   ],
   "source": [
    "dls.show_batch(dataloaders=dls, max_n=2, trunc_at=500)"
   ]
  },
  {
   "cell_type": "markdown",
   "metadata": {},
   "source": [
    "## Masked LM"
   ]
  },
  {
   "cell_type": "code",
   "execution_count": null,
   "metadata": {},
   "outputs": [
    {
     "data": {
      "text/plain": [
       "('[PAD]', 0)"
      ]
     },
     "execution_count": null,
     "metadata": {},
     "output_type": "execute_result"
    }
   ],
   "source": [
    "model_cls = AutoModelForMaskedLM\n",
    "\n",
    "pretrained_model_name = \"bert-base-uncased\"\n",
    "hf_arch, hf_config, hf_tokenizer, hf_model = BLURR.get_hf_objects(pretrained_model_name, model_cls=model_cls)\n",
    "\n",
    "# some tokenizers like gpt and gpt2 do not have a pad token, so we add it here mainly for the purpose\n",
    "# of setting the \"labels\" key appropriately (see below)\n",
    "if (hf_tokenizer.pad_token is None): hf_tokenizer.pad_token = '[PAD]'\n",
    "\n",
    "hf_tokenizer.pad_token, hf_tokenizer.pad_token_id"
   ]
  },
  {
   "cell_type": "markdown",
   "metadata": {},
   "source": [
    "We need a new input type for MLM tasks, particularly for `Learner.show_batch` and `Learner.show_results`"
   ]
  },
  {
   "cell_type": "code",
   "execution_count": null,
   "metadata": {},
   "outputs": [],
   "source": [
    "#export\n",
    "class HF_MLMInput(HF_BaseInput): pass"
   ]
  },
  {
   "cell_type": "markdown",
   "metadata": {},
   "source": [
    "The BERT-style masking strategy"
   ]
  },
  {
   "cell_type": "code",
   "execution_count": null,
   "metadata": {},
   "outputs": [],
   "source": [
    "#export\n",
    "class BertMLMStrategy(LMStrategy):\n",
    "    def __init__(self, hf_tokenizer, ignore_token_id=CrossEntropyLossFlat().ignore_index):\n",
    "        super().__init__(hf_tokenizer, ignore_token_id)\n",
    "         \n",
    "        vocab = hf_tokenizer.get_vocab()\n",
    "        self.dnm_tok_ids = [vocab[tok]  for tok in list(hf_tokenizer.special_tokens_map.values()) \n",
    "                            if vocab[tok] != hf_tokenizer.mask_token_id]\n",
    "        \n",
    "    def build_inputs_targets(self, samples):\n",
    "        updated_samples = []\n",
    "        for s in samples:\n",
    "            # mask the input_ids\n",
    "            masked_input_ids = s[0]['input_ids'].clone()\n",
    "            \n",
    "            # we want to mask 15% of the non-special tokens(e.g., special tokens inclue [CLS], [SEP], etc...)\n",
    "            idxs = torch.randperm(len(masked_input_ids))\n",
    "            total_masked_idxs = int(len(idxs) * .15)\n",
    "            \n",
    "            # of the 15% for masking, replace 80% with [MASK] token, 10% with random token, and 10% with correct token\n",
    "            n_mask_idxs = int(total_masked_idxs * .8)\n",
    "            n_rnd_idxs = int(total_masked_idxs * .1)\n",
    "            \n",
    "            # we only want non-special tokens\n",
    "            mask_idxs = [ idx for idx in idxs if masked_input_ids[idx] not in self.dnm_tok_ids ][:total_masked_idxs]\n",
    "            \n",
    "            # replace 80% with [MASK]\n",
    "            if (n_mask_idxs > 0 and  len(mask_idxs) >= n_mask_idxs):\n",
    "                masked_input_ids[[mask_idxs[:n_mask_idxs]]] = self.hf_tokenizer.mask_token_id\n",
    "             \n",
    "            # replace 10% with a random token\n",
    "            if (n_rnd_idxs > 0 and  len(mask_idxs) >= (n_mask_idxs + n_rnd_idxs)):\n",
    "                rnd_tok_ids = self._get_random_token_id(n_rnd_idxs)\n",
    "                masked_input_ids[[mask_idxs[n_mask_idxs:(n_mask_idxs + n_rnd_idxs)]]] = tensor(rnd_tok_ids)\n",
    "            \n",
    "            # ignore padding when calculating the loss\n",
    "            lbls = s[0]['input_ids'].clone()\n",
    "            lbls[[[idx for idx in idxs if idx not in mask_idxs]]] = self.ignore_token_id\n",
    "            \n",
    "            # update the inputs to use our masked input_ids and labels; set targ_ids = labels (will use when\n",
    "            # we calculate the loss ourselves)\n",
    "            s[0]['input_ids'] = masked_input_ids\n",
    "            s[0]['labels'] = lbls\n",
    "            targ_ids = lbls.clone()\n",
    "            \n",
    "            updated_samples.append((s[0], targ_ids))\n",
    "        \n",
    "        return updated_samples"
   ]
  },
  {
   "cell_type": "code",
   "execution_count": null,
   "metadata": {},
   "outputs": [],
   "source": [
    "before_batch_tfm = HF_LMBeforeBatchTransform(hf_arch, hf_config, hf_tokenizer, hf_model, \n",
    "                                             lm_strategy_cls=BertMLMStrategy)\n",
    "\n",
    "blocks = (HF_Seq2SeqBlock(before_batch_tfm=before_batch_tfm, input_return_type=HF_MLMInput), noop)\n",
    "\n",
    "dblock = DataBlock(blocks=blocks, get_x=ColReader(0), splitter=ColSplitter(col='is_valid'))"
   ]
  },
  {
   "cell_type": "code",
   "execution_count": null,
   "metadata": {},
   "outputs": [],
   "source": [
    "dls = dblock.dataloaders(df, bs=4)"
   ]
  },
  {
   "cell_type": "code",
   "execution_count": null,
   "metadata": {},
   "outputs": [
    {
     "data": {
      "text/plain": [
       "(torch.Size([4, 512]), torch.Size([4, 512]), torch.Size([4, 512]))"
      ]
     },
     "execution_count": null,
     "metadata": {},
     "output_type": "execute_result"
    }
   ],
   "source": [
    "b = dls.one_batch()\n",
    "b[0]['input_ids'].shape, b[0]['labels'].shape, b[1].shape"
   ]
  },
  {
   "cell_type": "code",
   "execution_count": null,
   "metadata": {},
   "outputs": [
    {
     "data": {
      "text/plain": [
       "(tensor([  101,  1027,  3960,  7758,  1027, 11951,  7758,  1006,  1013,  1026,\n",
       "          4895,  2243,  1028,  1013,  1025,   103,  2728,  5297, 27946,  1010],\n",
       "        device='cuda:1'),\n",
       " tensor([-100, -100, -100, -100, -100, 3960, -100, -100, -100, -100, -100, -100,\n",
       "         -100, -100, -100, 2141, -100, -100, -100, -100], device='cuda:1'),\n",
       " tensor([-100, -100, -100, -100, -100, 3960, -100, -100, -100, -100, -100, -100,\n",
       "         -100, -100, -100, 2141, -100, -100, -100, -100], device='cuda:1'))"
      ]
     },
     "execution_count": null,
     "metadata": {},
     "output_type": "execute_result"
    }
   ],
   "source": [
    "b[0]['input_ids'][0][:20], b[0]['labels'][0][:20], b[1][0][:20]"
   ]
  },
  {
   "cell_type": "code",
   "execution_count": null,
   "metadata": {},
   "outputs": [
    {
     "data": {
      "text/plain": [
       "{tuple: [dict, torch.Tensor]}"
      ]
     },
     "execution_count": null,
     "metadata": {},
     "output_type": "execute_result"
    }
   ],
   "source": [
    "explode_types(b)"
   ]
  },
  {
   "cell_type": "code",
   "execution_count": null,
   "metadata": {},
   "outputs": [],
   "source": [
    "#export\n",
    "@typedispatch\n",
    "def show_batch(x:HF_MLMInput, y, samples, dataloaders, ctxs=None, max_n=6, trunc_at=None, **kwargs):  \n",
    "    # grab our tokenizer and ignore token to decode\n",
    "    hf_before_batch_tfm = get_blurr_tfm(dataloaders.before_batch)\n",
    "    hf_tokenizer = hf_before_batch_tfm.hf_tokenizer\n",
    "    ignore_token_id = hf_before_batch_tfm.ignore_token_id\n",
    "    \n",
    "    # grab our mask token id and do-not-mask token ids\n",
    "    mask_token_id = hf_tokenizer.mask_token_id\n",
    "    dnm_tok_ids = hf_before_batch_tfm.lm_strategy.dnm_tok_ids\n",
    "    \n",
    "    res = L()\n",
    "    for s in samples:\n",
    "        # exclue dnm tokens from input\n",
    "        inps = [ hf_tokenizer.decode(tok_id) \n",
    "                if (tok_id == mask_token_id or s[1][idx] == ignore_token_id) \n",
    "                else f'[{hf_tokenizer.decode(tok_id)}]' \n",
    "                for idx, tok_id in enumerate(s[0]) if (tok_id not in dnm_tok_ids) ]\n",
    "        \n",
    "        # replaced masked tokens with \"[{actual_token}]\"\n",
    "        trgs = [ hf_tokenizer.decode(s[0][idx]) \n",
    "                if (tok_id == ignore_token_id) \n",
    "                else f'[{hf_tokenizer.decode(tok_id)}]'\n",
    "                for idx, tok_id in enumerate(s[1]) if (s[0][idx] not in dnm_tok_ids) ]\n",
    "  \n",
    "        res.append((' '.join(inps[:trunc_at]).strip(), ' '.join(trgs[:trunc_at]).strip()))\n",
    "    \n",
    "    display_df(pd.DataFrame(res, columns=['text', 'target'])[:max_n])\n",
    "    return ctxs"
   ]
  },
  {
   "cell_type": "code",
   "execution_count": null,
   "metadata": {},
   "outputs": [
    {
     "data": {
      "text/html": [
       "<table border=\"1\" class=\"dataframe\">\n",
       "  <thead>\n",
       "    <tr style=\"text-align: right;\">\n",
       "      <th></th>\n",
       "      <th>text</th>\n",
       "      <th>target</th>\n",
       "    </tr>\n",
       "  </thead>\n",
       "  <tbody>\n",
       "    <tr>\n",
       "      <th>0</th>\n",
       "      <td>= [graded] dylan = [MASK] dylan ( / &lt; un ##k &gt; / ; born [robert] allen zimmerman , may 24 , 1941 ) is an american singer @ [-] [MASK] songwriter , artist and writer . he has been influential in popular music and [MASK] for more than five decades . [MASK] of [MASK] most celebrated work dates from [completion] 1960s when his songs chronicle ##d social unrest , [balance] dylan rep ##udi ##ated suggestions [MASK] [MASK] [MASK] he was a spokesman for his generation . nevertheless , early songs such as \" blow ##in ' in [the] wind \" and \" the times they [MASK] a @ [MASK] @ &lt; un ##k &gt; ' \" became anthem [MASK] for the american [MASK] [MASK] and anti @ - @ war movements [MASK] after he [left] his initial base in the [MASK] folk music revival , his [MASK] @ - @ minute single \" like a rolling stone \" altered the [MASK] of popular music [MASK] 1965 . his mid @ - @ 1960s recordings , backed by rock musicians , [MASK] [MASK] [MASK] end of the united states music charts while [MASK] attracting &lt; [MASK] ##k &gt; and criticism from others [MASK] the [MASK] movement . dylan ' s lyrics have incorporated [MASK] political , social [MASK] philosophical , and literary influences . they def ##ied existing pop music [MASK] and appealed to the bu ##rgeon ##ing [MASK] ##culture . [MASK] [MASK] by the performances of little [MASK] and</td>\n",
       "      <td>= [bob] dylan = [bob] dylan ( / &lt; un ##k &gt; / ; born [robert] allen zimmerman , may 24 , 1941 ) is an american singer @ [-] [@] songwriter , artist and writer . he has been influential in popular music and [culture] for more than five decades . [much] of [his] most celebrated work dates from [the] 1960s when his songs chronicle ##d social unrest , [although] dylan rep ##udi ##ated suggestions [from] [journalists] [that] he was a spokesman for his generation . nevertheless , early songs such as \" blow ##in ' in [the] wind \" and \" the times they [are] a @ [-] @ &lt; un ##k &gt; ' \" became anthem [##s] for the american [civil] [rights] and anti @ - @ war movements [.] after he [left] his initial base in the [american] folk music revival , his [six] @ - @ minute single \" like a rolling stone \" altered the [range] of popular music [in] 1965 . his mid @ - @ 1960s recordings , backed by rock musicians , [reached] [the] [top] end of the united states music charts while [also] attracting &lt; [un] ##k &gt; and criticism from others [in] the [folk] movement . dylan ' s lyrics have incorporated [various] political , social [,] philosophical , and literary influences . they def ##ied existing pop music [conventions] and appealed to the bu ##rgeon ##ing [counter] ##culture . [initially] [inspired] by the performances of little [richard] and</td>\n",
       "    </tr>\n",
       "    <tr>\n",
       "      <th>1</th>\n",
       "      <td>= george [calvert] , 1st baron baltimore = george calvert , 1st baron baltimore ( &lt; un ##k &gt; [screenings] 15 april 1632 [)] was an english politician and &lt; un ##k &gt; . he achieved domestic political [MASK] as a [MASK] of parliament and later secretary of state under king james i . he lost much of his political power after his support for a failed marriage alliance between prince charles and the spanish house of habsburg royal family . rather [MASK] continue [MASK] politics , he resigned all of his [MASK] offices in [1625] except for his position [MASK] [MASK] privy council and declared his catholicism publicly . he [was] [MASK] [MASK] baltimore in the irish peerage upon his resignation . baltimore [MASK] was located in county long ##ford , ireland . calvert [MASK] an interest in [MASK] british colonization [MASK] the americas , at first for commercial reasons and later to create a refuge for english [MASK] . he became the [MASK] [shelf] avalon , [MASK] first sustained english settlement on the southeastern peninsula on the [MASK] of newfoundland ( off the eastern [MASK] of [MASK] canada ) . &lt; un ##k &gt; by its [MASK] and sometimes in ##hos ##pit ##able climate and the [MASK] un ##k &gt; of the settlers , sir george looked for a more suitable spot further south and sought a new royal charter to settle the region , which [would] [MASK] the state [of] maryland . calvert died five weeks [MASK]</td>\n",
       "      <td>= george [calvert] , 1st baron baltimore = george calvert , 1st baron baltimore ( &lt; un ##k &gt; [–] 15 april 1632 [)] was an english politician and &lt; un ##k &gt; . he achieved domestic political [success] as a [member] of parliament and later secretary of state under king james i . he lost much of his political power after his support for a failed marriage alliance between prince charles and the spanish house of habsburg royal family . rather [than] continue [in] politics , he resigned all of his [political] offices in [1625] except for his position [on] [the] privy council and declared his catholicism publicly . he [was] [created] [baron] baltimore in the irish peerage upon his resignation . baltimore [manor] was located in county long ##ford , ireland . calvert [took] an interest in [the] british colonization [of] the americas , at first for commercial reasons and later to create a refuge for english [catholics] . he became the [proprietor] [of] avalon , [the] first sustained english settlement on the southeastern peninsula on the [island] of newfoundland ( off the eastern [coast] of [modern] canada ) . &lt; un ##k &gt; by its [cold] and sometimes in ##hos ##pit ##able climate and the [&lt;] un ##k &gt; of the settlers , sir george looked for a more suitable spot further south and sought a new royal charter to settle the region , which [would] [become] the state [of] maryland . calvert died five weeks [before]</td>\n",
       "    </tr>\n",
       "  </tbody>\n",
       "</table>"
      ],
      "text/plain": [
       "<IPython.core.display.HTML object>"
      ]
     },
     "metadata": {},
     "output_type": "display_data"
    }
   ],
   "source": [
    "dls.show_batch(dataloaders=dls, max_n=2, trunc_at=250)"
   ]
  },
  {
   "cell_type": "code",
   "execution_count": null,
   "metadata": {},
   "outputs": [],
   "source": []
  },
  {
   "cell_type": "markdown",
   "metadata": {},
   "source": [
    "## Cleanup"
   ]
  },
  {
   "cell_type": "code",
   "execution_count": null,
   "metadata": {},
   "outputs": [
    {
     "name": "stdout",
     "output_type": "stream",
     "text": [
      "Converted 00_utils.ipynb.\n",
      "Converted 01_data-core.ipynb.\n",
      "Converted 01a_data-token-classification.ipynb.\n",
      "Converted 01b_data-question-answering.ipynb.\n",
      "Converted 01za_data-seq2seq-core.ipynb.\n",
      "Converted 01zb_data-seq2seq-language-modeling.ipynb.\n",
      "Converted 01zc_data-seq2seq-summarization.ipynb.\n",
      "Converted 01zd_data-seq2seq-translation.ipynb.\n",
      "Converted 02_modeling-core.ipynb.\n",
      "Converted 02a_modeling-token-classification.ipynb.\n",
      "Converted 02b_modeling-question-answering.ipynb.\n",
      "Converted 02za_modeling-seq2seq-core.ipynb.\n",
      "Converted 02zb_modeling-seq2seq-language-modeling.ipynb.\n",
      "Converted 02zc_modeling-seq2seq-summarization.ipynb.\n",
      "Converted 02zc_modeling-seq2seq-translation.ipynb.\n",
      "Converted 99a_examples-multilabel.ipynb.\n",
      "Converted index.ipynb.\n"
     ]
    }
   ],
   "source": [
    "#hide\n",
    "from nbdev.export import notebook2script\n",
    "notebook2script()"
   ]
  },
  {
   "cell_type": "code",
   "execution_count": null,
   "metadata": {},
   "outputs": [],
   "source": []
  }
 ],
 "metadata": {
  "kernelspec": {
   "display_name": "Python 3",
   "language": "python",
   "name": "python3"
  }
 },
 "nbformat": 4,
 "nbformat_minor": 4
}
